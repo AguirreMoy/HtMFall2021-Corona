{
 "cells": [
  {
   "cell_type": "markdown",
   "id": "2d5c55cf-a708-4f9e-997f-8909e8812495",
   "metadata": {},
   "source": [
    "# HACKtheMACHINE 2021 | Track 2: Data Science, Detective Bot "
   ]
  },
  {
   "cell_type": "markdown",
   "id": "318a291c-0e21-46db-8c97-7bd00397e130",
   "metadata": {},
   "source": [
    "The following data dictionary describes the columns or fields of the data set and a description of the objects. This information with more detail can also be found in the `EMBER` documentation of the `features.py` file at: https://github.com/elastic/ember/blob/master/ember/features.py "
   ]
  },
  {
   "cell_type": "markdown",
   "id": "939340e9-53a4-48cc-a9ab-1d3345b2bf84",
   "metadata": {},
   "source": [
    "| Field Name | Description | \n",
    "|------------|-------------|\n",
    "| sha256 | The Secure Hash Algorithm (SHA) is a cryptographic hash function like a signature or fingerprints for a data set. Even if one symbol is changed the algorithm will produce a different hash value. The SHA256 algorithm generates a fixed size 256-bit (32-byte) hash. The SHA256 algorithm is used to ensure you acquire the same data as the original. For exmaple, if you download something you can check if the data has not changed (due to network errors or malware injection) by comparing the hashes of your file and the original.|\n",
    "| histogram | Byte histogram (count + non-normalized) over the entire binary file. The byte histogram contains 256 integer values and represent the counts of each byte value within the value. When generating model features the byte histgoram is normalized to a distribution, since file size is represented as a feature in the general file information. | \n",
    "| byteentropy | 2D byte/entropy histogram based loosely on (Saxe and Berlin, 2015). This roughly approximates the joint probability of byte value and local entropy. See Section 2.1.1 in https://arxiv.org/pdf/1508.03096.pdf for more info. The byte entropy histogram approximates the joint distriubtion p(H, X) of entropy H and byte value X. By computing the scalar entropy H for a fixed-length window and pairing it with each byte occurrence within the window. This is repeated as the window slides across the input bytes. |\n",
    "| strings | Contains simple statistics about printable strings of the following: <ul><li>`numstrings`: number of strings <li> `avlength`: average length of strings <li>`printabledist`: histogram of the printable characters within those strings <li>`printables`: distinct information from byte histogram information from the byte histogram information since its derived only from strings containing at least 5 consecutive printable characters <li>`entropy`: entropy of characters across all printable strings <li>`paths` number of strings that begin with **C:** (case insensitive) that may indicate a path <li>`urls`: the number of occurences of **http://** or **https://** (case insensitive) that may indicate a URL <li>`registry`: number of occurrences of HKEY that may indicate a registry key, <li>`MZ`: number of occurrences of the short string MZ |\n",
    "| general | Provides general file information. 0/1 indicates a binary output <ul><li>`size`: length of bytes <li>`vsize`: virtual size <li>`has_debug`: 0/1  <li>`exports`: 0/1 <li>`imports`: 0/1 <li>`has_relocations`: 0/1  <li>`has_resources`: 0/1 <li>`has_signature`: 0/1 <li>`has_tls`: 0/1 <li>`symbols`: 0/1 |\n",
    "| header | Provides header file information on machine, architecture, OS, link and other information: <ul><li> `coeff`: [ `timestamp`, `machine`,`characteristics` ] <li> `optional`: [`subsystem`, `dll_characteristics`, `magic`, `major_image_version`, `minor_linker_version`, `major_operating_system_version`, `minor_operating_system_version`, `major_subsystem_version`, `minor_subsystem_version`, `sizeof_code`, `sizeof_headers`, `sizeof_heap_commit`]\n",
    "| section | Information about section names, sizes and entropy. Uses hashing trick to summarize all this section into a feature vector. <ul><li> `imports`: [`KERNEL32.dll` : [`GetTickCount`] | \n",
    "| imports | Information about imported libraries and functions from the import address table. Note that the total number of imported functions is contained in GeneralFileInfo. |\n",
    "| exports | Information about exported functions. Note that the total number of exported functions is contained in GeneralFileInfo.|\n",
    "| datadirectories | Extracts size and virtual address of the first 15 data dictectories. |\n",
    "| label / category | Class label indicating benign `0` or malicious `1`|"
   ]
  },
  {
   "cell_type": "markdown",
   "id": "ad8ee9a6-1ccf-4c0b-af10-8cccef6982e6",
   "metadata": {},
   "source": [
    "## Load Libraries"
   ]
  },
  {
   "cell_type": "code",
   "execution_count": 1,
   "id": "87ecd2ad-01a0-4e87-a539-48d626168fd2",
   "metadata": {},
   "outputs": [],
   "source": [
    "import numpy as np #data manipulation\n",
    "import pandas as pd #data manipulation\n",
    "import sklearn as sk #modeling & metrics\n",
    "import seaborn as sns #visualizations\n",
    "import scipy as stats #visualizations\n",
    "from matplotlib import pyplot as plt #visualizations\n",
    "\n",
    "#imputation, scaling, metrics\n",
    "from sklearn import preprocessing\n",
    "from sklearn import metrics\n",
    "from sklearn.utils import resample\n",
    "from sklearn.metrics import r2_score, classification_report, f1_score, accuracy_score, confusion_matrix\n",
    "from sklearn.metrics import roc_curve, auc, roc_auc_score\n",
    "from sklearn.metrics import mean_squared_error\n",
    "from sklearn.metrics import mean_absolute_error\n",
    "from sklearn.model_selection import train_test_split\n",
    "from sklearn.model_selection import cross_val_score\n",
    "from sklearn.model_selection import StratifiedKFold\n",
    "from sklearn.experimental import enable_iterative_imputer\n",
    "from sklearn.impute import IterativeImputer\n",
    "from sklearn.preprocessing import StandardScaler\n",
    "from sklearn.feature_selection import SelectKBest\n",
    "from sklearn.feature_selection import f_classif\n",
    "from sklearn.linear_model import LogisticRegression\n",
    "\n",
    "#outlier classification\n",
    "from sklearn.ensemble import IsolationForest\n",
    "\n",
    "import xgboost as xgb #xgb model\n",
    "import lightgbm as lgb #lgbm model\n",
    "from lightgbm import *\n",
    "import re #fix error for lgbm\n",
    "import hyperopt #hyperparameter tuning\n",
    "from hyperopt import fmin, tpe, hp, STATUS_OK, Trials, space_eval\n",
    "\n",
    "import shap #shap plot\n",
    "\n",
    "import pickle \n",
    " \n",
    "import warnings\n",
    "warnings.filterwarnings('ignore')"
   ]
  },
  {
   "cell_type": "code",
   "execution_count": 65,
   "id": "66aa8c42",
   "metadata": {},
   "outputs": [
    {
     "name": "stdout",
     "output_type": "stream",
     "text": [
      "Collecting git+https://github.com/elastic/ember.git\n",
      "  Cloning https://github.com/elastic/ember.git to /private/var/folders/wd/_ddtpqqx7rx9_kypcvd1w03m0000gn/T/pip-req-build-yzg5g76p\n",
      "  Running command git clone -q https://github.com/elastic/ember.git /private/var/folders/wd/_ddtpqqx7rx9_kypcvd1w03m0000gn/T/pip-req-build-yzg5g76p\n",
      "  Resolved https://github.com/elastic/ember.git to commit 4dee42918694d72d319e731940755146a71f5c6c\n",
      "Collecting lief>=0.9.0\n",
      "  Downloading lief-0.11.5-cp38-cp38-macosx_10_14_x86_64.whl (2.9 MB)\n",
      "\u001b[K     |████████████████████████████████| 2.9 MB 65 kB/s eta 0:00:018\n",
      "\u001b[?25hRequirement already satisfied: tqdm>=4.31.0 in /opt/anaconda3/lib/python3.8/site-packages (from ember==0.1.0) (4.62.3)\n",
      "Requirement already satisfied: numpy>=1.16.3 in /opt/anaconda3/lib/python3.8/site-packages (from ember==0.1.0) (1.21.2)\n",
      "Requirement already satisfied: pandas>=0.24.2 in /opt/anaconda3/lib/python3.8/site-packages (from ember==0.1.0) (1.3.4)\n",
      "Requirement already satisfied: lightgbm>=2.2.3 in /opt/anaconda3/lib/python3.8/site-packages (from ember==0.1.0) (3.2.1)\n",
      "Requirement already satisfied: scikit-learn>=0.20.3 in /opt/anaconda3/lib/python3.8/site-packages (from ember==0.1.0) (1.0.1)\n",
      "Requirement already satisfied: wheel in /opt/anaconda3/lib/python3.8/site-packages (from lightgbm>=2.2.3->ember==0.1.0) (0.37.0)\n",
      "Requirement already satisfied: scipy in /opt/anaconda3/lib/python3.8/site-packages (from lightgbm>=2.2.3->ember==0.1.0) (1.6.0)\n",
      "Requirement already satisfied: python-dateutil>=2.7.3 in /opt/anaconda3/lib/python3.8/site-packages (from pandas>=0.24.2->ember==0.1.0) (2.8.2)\n",
      "Requirement already satisfied: pytz>=2017.3 in /opt/anaconda3/lib/python3.8/site-packages (from pandas>=0.24.2->ember==0.1.0) (2021.3)\n",
      "Requirement already satisfied: six>=1.5 in /opt/anaconda3/lib/python3.8/site-packages (from python-dateutil>=2.7.3->pandas>=0.24.2->ember==0.1.0) (1.16.0)\n",
      "Requirement already satisfied: joblib>=0.11 in /opt/anaconda3/lib/python3.8/site-packages (from scikit-learn>=0.20.3->ember==0.1.0) (1.1.0)\n",
      "Requirement already satisfied: threadpoolctl>=2.0.0 in /opt/anaconda3/lib/python3.8/site-packages (from scikit-learn>=0.20.3->ember==0.1.0) (2.2.0)\n",
      "Building wheels for collected packages: ember\n",
      "  Building wheel for ember (setup.py) ... \u001b[?25ldone\n",
      "\u001b[?25h  Created wheel for ember: filename=ember-0.1.0-py3-none-any.whl size=12685 sha256=4b71e1525f0b00e39d3dfb0418a50c615c264ffafa511770989f2b3125069f65\n",
      "  Stored in directory: /private/var/folders/wd/_ddtpqqx7rx9_kypcvd1w03m0000gn/T/pip-ephem-wheel-cache-8cp42oay/wheels/b0/a6/e1/33cff123902067bd7940214a81a6cb5ea471b993039174f296\n",
      "Successfully built ember\n",
      "Installing collected packages: lief, ember\n",
      "Successfully installed ember-0.1.0 lief-0.11.5\n"
     ]
    }
   ],
   "source": [
    "!pip install git+https://github.com/elastic/ember.git"
   ]
  },
  {
   "cell_type": "code",
   "execution_count": 66,
   "id": "92f5f2c7",
   "metadata": {},
   "outputs": [],
   "source": [
    "import Ember_Wrapper"
   ]
  },
  {
   "cell_type": "markdown",
   "id": "3d7c1126",
   "metadata": {},
   "source": [
    "## Requirements"
   ]
  },
  {
   "cell_type": "markdown",
   "id": "7c3d12e5",
   "metadata": {},
   "source": [
    "The requirements file is basically this output copy pasted into a txt file"
   ]
  },
  {
   "cell_type": "code",
   "execution_count": 2,
   "id": "775ff10d",
   "metadata": {},
   "outputs": [
    {
     "name": "stdout",
     "output_type": "stream",
     "text": [
      "numpy==1.21.2\n",
      "pandas==1.3.4\n",
      "sklearn==1.0.1\n",
      "seaborn==0.11.2\n",
      "scipy==1.6.0\n",
      "xgboost==1.5.0\n",
      "lightgbm==3.2.1\n",
      "re==2.2.1\n",
      "hyperopt==0.2.5\n",
      "shap==0.40.0\n"
     ]
    }
   ],
   "source": [
    "print('\\n'.join(f'{m.__name__}=={m.__version__}' for m in globals().values() if getattr(m, '__version__', None)))"
   ]
  },
  {
   "cell_type": "markdown",
   "id": "b633d294-cbc2-4ffa-8474-13be9e7d6e3d",
   "metadata": {},
   "source": [
    "## Load Data"
   ]
  },
  {
   "cell_type": "code",
   "execution_count": 3,
   "id": "504a76f1-8bd6-42c7-948a-6ed3bb240fc1",
   "metadata": {},
   "outputs": [],
   "source": [
    "# Flattened EMBER Feature set\n",
    "# Easier to feed into ML models right away\n",
    "# df1 = pd.read_excel(\"flatten_train.xlsx\")"
   ]
  },
  {
   "cell_type": "markdown",
   "id": "2e4986e1",
   "metadata": {},
   "source": [
    "Use pickling so you don't have to re read Excel file every time."
   ]
  },
  {
   "cell_type": "code",
   "execution_count": 4,
   "id": "33b59c6a",
   "metadata": {},
   "outputs": [],
   "source": [
    "# pd.to_pickle(df1, \"./data.pkl\")"
   ]
  },
  {
   "cell_type": "code",
   "execution_count": 5,
   "id": "3592aef0",
   "metadata": {},
   "outputs": [],
   "source": [
    "df1 = pd.read_pickle(\"./data.pkl\")"
   ]
  },
  {
   "cell_type": "code",
   "execution_count": 68,
   "id": "93be66c9",
   "metadata": {},
   "outputs": [],
   "source": [
    "df2 = pd.read_excel(\"./Data/raw_train.xlsx\")"
   ]
  },
  {
   "cell_type": "markdown",
   "id": "e673d618",
   "metadata": {},
   "source": [
    "Checking how many malware entries."
   ]
  },
  {
   "cell_type": "code",
   "execution_count": 6,
   "id": "32162510",
   "metadata": {},
   "outputs": [
    {
     "data": {
      "text/plain": [
       "900"
      ]
     },
     "execution_count": 6,
     "metadata": {},
     "output_type": "execute_result"
    }
   ],
   "source": [
    "sum(df1['category'])"
   ]
  },
  {
   "cell_type": "code",
   "execution_count": 7,
   "id": "2600ee08",
   "metadata": {},
   "outputs": [
    {
     "data": {
      "text/plain": [
       "(18000, 714)"
      ]
     },
     "execution_count": 7,
     "metadata": {},
     "output_type": "execute_result"
    }
   ],
   "source": [
    "df1.shape"
   ]
  },
  {
   "cell_type": "code",
   "execution_count": 8,
   "id": "35642d6a",
   "metadata": {},
   "outputs": [
    {
     "data": {
      "text/plain": [
       "0.05"
      ]
     },
     "execution_count": 8,
     "metadata": {},
     "output_type": "execute_result"
    }
   ],
   "source": [
    "900/18000"
   ]
  },
  {
   "cell_type": "markdown",
   "id": "ad41dc03",
   "metadata": {},
   "source": [
    "5%, super imbalanced."
   ]
  },
  {
   "cell_type": "markdown",
   "id": "e48c92b2",
   "metadata": {},
   "source": [
    "## EDA"
   ]
  },
  {
   "cell_type": "markdown",
   "id": "ae9423ce",
   "metadata": {},
   "source": [
    "### Visualizations go here:\n",
    "### try plotting distributions of certain features to compare them between the malware and not malware tables"
   ]
  },
  {
   "cell_type": "code",
   "execution_count": 9,
   "id": "82a70e3f",
   "metadata": {},
   "outputs": [
    {
     "data": {
      "text/html": [
       "<div>\n",
       "<style scoped>\n",
       "    .dataframe tbody tr th:only-of-type {\n",
       "        vertical-align: middle;\n",
       "    }\n",
       "\n",
       "    .dataframe tbody tr th {\n",
       "        vertical-align: top;\n",
       "    }\n",
       "\n",
       "    .dataframe thead th {\n",
       "        text-align: right;\n",
       "    }\n",
       "</style>\n",
       "<table border=\"1\" class=\"dataframe\">\n",
       "  <thead>\n",
       "    <tr style=\"text-align: right;\">\n",
       "      <th></th>\n",
       "      <th>sha256</th>\n",
       "      <th>histogram_0</th>\n",
       "      <th>histogram_1</th>\n",
       "      <th>histogram_2</th>\n",
       "      <th>histogram_3</th>\n",
       "      <th>histogram_4</th>\n",
       "      <th>histogram_5</th>\n",
       "      <th>histogram_6</th>\n",
       "      <th>histogram_7</th>\n",
       "      <th>histogram_8</th>\n",
       "      <th>...</th>\n",
       "      <th>datadirectories_13_name</th>\n",
       "      <th>datadirectories_13_size</th>\n",
       "      <th>datadirectories_13_virtual_address</th>\n",
       "      <th>datadirectories_14_name</th>\n",
       "      <th>datadirectories_14_size</th>\n",
       "      <th>datadirectories_14_virtual_address</th>\n",
       "      <th>datadirectories_15_name</th>\n",
       "      <th>datadirectories_15_size</th>\n",
       "      <th>datadirectories_15_virtual_address</th>\n",
       "      <th>category</th>\n",
       "    </tr>\n",
       "  </thead>\n",
       "  <tbody>\n",
       "    <tr>\n",
       "      <th>0</th>\n",
       "      <td>15f88c44e29e74965cbec984cd4244786eeb4ccde02328...</td>\n",
       "      <td>127242</td>\n",
       "      <td>9185</td>\n",
       "      <td>3818</td>\n",
       "      <td>3127</td>\n",
       "      <td>13300</td>\n",
       "      <td>1594</td>\n",
       "      <td>1781</td>\n",
       "      <td>1493</td>\n",
       "      <td>9938</td>\n",
       "      <td>...</td>\n",
       "      <td>DELAY_IMPORT_DESCRIPTOR</td>\n",
       "      <td>0</td>\n",
       "      <td>0</td>\n",
       "      <td>CLR_RUNTIME_HEADER</td>\n",
       "      <td>0</td>\n",
       "      <td>0</td>\n",
       "      <td>???</td>\n",
       "      <td>0</td>\n",
       "      <td>0</td>\n",
       "      <td>0</td>\n",
       "    </tr>\n",
       "    <tr>\n",
       "      <th>1</th>\n",
       "      <td>29bb2a854de0f99bdb7120870ad42af6a3b5b5c6fc3578...</td>\n",
       "      <td>36152</td>\n",
       "      <td>2617</td>\n",
       "      <td>4120</td>\n",
       "      <td>876</td>\n",
       "      <td>1711</td>\n",
       "      <td>755</td>\n",
       "      <td>672</td>\n",
       "      <td>521</td>\n",
       "      <td>2278</td>\n",
       "      <td>...</td>\n",
       "      <td>DELAY_IMPORT_DESCRIPTOR</td>\n",
       "      <td>0</td>\n",
       "      <td>0</td>\n",
       "      <td>CLR_RUNTIME_HEADER</td>\n",
       "      <td>0</td>\n",
       "      <td>0</td>\n",
       "      <td>???</td>\n",
       "      <td>0</td>\n",
       "      <td>0</td>\n",
       "      <td>0</td>\n",
       "    </tr>\n",
       "    <tr>\n",
       "      <th>2</th>\n",
       "      <td>5cd8667d8375bf799fe89ac9b74cf08bf69dfa18a4e551...</td>\n",
       "      <td>39986</td>\n",
       "      <td>7112</td>\n",
       "      <td>7953</td>\n",
       "      <td>6604</td>\n",
       "      <td>6542</td>\n",
       "      <td>6441</td>\n",
       "      <td>5869</td>\n",
       "      <td>6422</td>\n",
       "      <td>6224</td>\n",
       "      <td>...</td>\n",
       "      <td>DELAY_IMPORT_DESCRIPTOR</td>\n",
       "      <td>0</td>\n",
       "      <td>0</td>\n",
       "      <td>CLR_RUNTIME_HEADER</td>\n",
       "      <td>0</td>\n",
       "      <td>0</td>\n",
       "      <td>???</td>\n",
       "      <td>0</td>\n",
       "      <td>0</td>\n",
       "      <td>0</td>\n",
       "    </tr>\n",
       "    <tr>\n",
       "      <th>3</th>\n",
       "      <td>ce63706c0adf4851a8d2eb26fa97750cfaec7345151367...</td>\n",
       "      <td>253873</td>\n",
       "      <td>32714</td>\n",
       "      <td>22629</td>\n",
       "      <td>17500</td>\n",
       "      <td>15355</td>\n",
       "      <td>6691</td>\n",
       "      <td>10881</td>\n",
       "      <td>4258</td>\n",
       "      <td>11992</td>\n",
       "      <td>...</td>\n",
       "      <td>DELAY_IMPORT_DESCRIPTOR</td>\n",
       "      <td>0</td>\n",
       "      <td>0</td>\n",
       "      <td>CLR_RUNTIME_HEADER</td>\n",
       "      <td>0</td>\n",
       "      <td>0</td>\n",
       "      <td>???</td>\n",
       "      <td>0</td>\n",
       "      <td>0</td>\n",
       "      <td>0</td>\n",
       "    </tr>\n",
       "    <tr>\n",
       "      <th>4</th>\n",
       "      <td>5e65dd9986fc47c5fe45208fab5e1c78730699800eaf96...</td>\n",
       "      <td>12464</td>\n",
       "      <td>1020</td>\n",
       "      <td>502</td>\n",
       "      <td>264</td>\n",
       "      <td>1918</td>\n",
       "      <td>218</td>\n",
       "      <td>262</td>\n",
       "      <td>91</td>\n",
       "      <td>846</td>\n",
       "      <td>...</td>\n",
       "      <td>DELAY_IMPORT_DESCRIPTOR</td>\n",
       "      <td>0</td>\n",
       "      <td>0</td>\n",
       "      <td>CLR_RUNTIME_HEADER</td>\n",
       "      <td>0</td>\n",
       "      <td>0</td>\n",
       "      <td>???</td>\n",
       "      <td>0</td>\n",
       "      <td>0</td>\n",
       "      <td>0</td>\n",
       "    </tr>\n",
       "  </tbody>\n",
       "</table>\n",
       "<p>5 rows × 714 columns</p>\n",
       "</div>"
      ],
      "text/plain": [
       "                                              sha256  histogram_0  \\\n",
       "0  15f88c44e29e74965cbec984cd4244786eeb4ccde02328...       127242   \n",
       "1  29bb2a854de0f99bdb7120870ad42af6a3b5b5c6fc3578...        36152   \n",
       "2  5cd8667d8375bf799fe89ac9b74cf08bf69dfa18a4e551...        39986   \n",
       "3  ce63706c0adf4851a8d2eb26fa97750cfaec7345151367...       253873   \n",
       "4  5e65dd9986fc47c5fe45208fab5e1c78730699800eaf96...        12464   \n",
       "\n",
       "   histogram_1  histogram_2  histogram_3  histogram_4  histogram_5  \\\n",
       "0         9185         3818         3127        13300         1594   \n",
       "1         2617         4120          876         1711          755   \n",
       "2         7112         7953         6604         6542         6441   \n",
       "3        32714        22629        17500        15355         6691   \n",
       "4         1020          502          264         1918          218   \n",
       "\n",
       "   histogram_6  histogram_7  histogram_8  ...  datadirectories_13_name  \\\n",
       "0         1781         1493         9938  ...  DELAY_IMPORT_DESCRIPTOR   \n",
       "1          672          521         2278  ...  DELAY_IMPORT_DESCRIPTOR   \n",
       "2         5869         6422         6224  ...  DELAY_IMPORT_DESCRIPTOR   \n",
       "3        10881         4258        11992  ...  DELAY_IMPORT_DESCRIPTOR   \n",
       "4          262           91          846  ...  DELAY_IMPORT_DESCRIPTOR   \n",
       "\n",
       "   datadirectories_13_size  datadirectories_13_virtual_address  \\\n",
       "0                        0                                   0   \n",
       "1                        0                                   0   \n",
       "2                        0                                   0   \n",
       "3                        0                                   0   \n",
       "4                        0                                   0   \n",
       "\n",
       "   datadirectories_14_name  datadirectories_14_size  \\\n",
       "0       CLR_RUNTIME_HEADER                        0   \n",
       "1       CLR_RUNTIME_HEADER                        0   \n",
       "2       CLR_RUNTIME_HEADER                        0   \n",
       "3       CLR_RUNTIME_HEADER                        0   \n",
       "4       CLR_RUNTIME_HEADER                        0   \n",
       "\n",
       "   datadirectories_14_virtual_address  datadirectories_15_name  \\\n",
       "0                                   0                      ???   \n",
       "1                                   0                      ???   \n",
       "2                                   0                      ???   \n",
       "3                                   0                      ???   \n",
       "4                                   0                      ???   \n",
       "\n",
       "   datadirectories_15_size  datadirectories_15_virtual_address  category  \n",
       "0                        0                                   0         0  \n",
       "1                        0                                   0         0  \n",
       "2                        0                                   0         0  \n",
       "3                        0                                   0         0  \n",
       "4                        0                                   0         0  \n",
       "\n",
       "[5 rows x 714 columns]"
      ]
     },
     "execution_count": 9,
     "metadata": {},
     "output_type": "execute_result"
    }
   ],
   "source": [
    "df1.head(5)"
   ]
  },
  {
   "cell_type": "code",
   "execution_count": 10,
   "id": "d6d5d6e2",
   "metadata": {
    "scrolled": true
   },
   "outputs": [
    {
     "data": {
      "text/plain": [
       "['sha256',\n",
       " 'histogram_0',\n",
       " 'histogram_1',\n",
       " 'histogram_2',\n",
       " 'histogram_3',\n",
       " 'histogram_4',\n",
       " 'histogram_5',\n",
       " 'histogram_6',\n",
       " 'histogram_7',\n",
       " 'histogram_8',\n",
       " 'histogram_9',\n",
       " 'histogram_10',\n",
       " 'histogram_11',\n",
       " 'histogram_12',\n",
       " 'histogram_13',\n",
       " 'histogram_14',\n",
       " 'histogram_15',\n",
       " 'histogram_16',\n",
       " 'histogram_17',\n",
       " 'histogram_18',\n",
       " 'histogram_19',\n",
       " 'histogram_20',\n",
       " 'histogram_21',\n",
       " 'histogram_22',\n",
       " 'histogram_23',\n",
       " 'histogram_24',\n",
       " 'histogram_25',\n",
       " 'histogram_26',\n",
       " 'histogram_27',\n",
       " 'histogram_28',\n",
       " 'histogram_29',\n",
       " 'histogram_30',\n",
       " 'histogram_31',\n",
       " 'histogram_32',\n",
       " 'histogram_33',\n",
       " 'histogram_34',\n",
       " 'histogram_35',\n",
       " 'histogram_36',\n",
       " 'histogram_37',\n",
       " 'histogram_38',\n",
       " 'histogram_39',\n",
       " 'histogram_40',\n",
       " 'histogram_41',\n",
       " 'histogram_42',\n",
       " 'histogram_43',\n",
       " 'histogram_44',\n",
       " 'histogram_45',\n",
       " 'histogram_46',\n",
       " 'histogram_47',\n",
       " 'histogram_48',\n",
       " 'histogram_49',\n",
       " 'histogram_50',\n",
       " 'histogram_51',\n",
       " 'histogram_52',\n",
       " 'histogram_53',\n",
       " 'histogram_54',\n",
       " 'histogram_55',\n",
       " 'histogram_56',\n",
       " 'histogram_57',\n",
       " 'histogram_58',\n",
       " 'histogram_59',\n",
       " 'histogram_60',\n",
       " 'histogram_61',\n",
       " 'histogram_62',\n",
       " 'histogram_63',\n",
       " 'histogram_64',\n",
       " 'histogram_65',\n",
       " 'histogram_66',\n",
       " 'histogram_67',\n",
       " 'histogram_68',\n",
       " 'histogram_69',\n",
       " 'histogram_70',\n",
       " 'histogram_71',\n",
       " 'histogram_72',\n",
       " 'histogram_73',\n",
       " 'histogram_74',\n",
       " 'histogram_75',\n",
       " 'histogram_76',\n",
       " 'histogram_77',\n",
       " 'histogram_78',\n",
       " 'histogram_79',\n",
       " 'histogram_80',\n",
       " 'histogram_81',\n",
       " 'histogram_82',\n",
       " 'histogram_83',\n",
       " 'histogram_84',\n",
       " 'histogram_85',\n",
       " 'histogram_86',\n",
       " 'histogram_87',\n",
       " 'histogram_88',\n",
       " 'histogram_89',\n",
       " 'histogram_90',\n",
       " 'histogram_91',\n",
       " 'histogram_92',\n",
       " 'histogram_93',\n",
       " 'histogram_94',\n",
       " 'histogram_95',\n",
       " 'histogram_96',\n",
       " 'histogram_97',\n",
       " 'histogram_98',\n",
       " 'histogram_99',\n",
       " 'histogram_100',\n",
       " 'histogram_101',\n",
       " 'histogram_102',\n",
       " 'histogram_103',\n",
       " 'histogram_104',\n",
       " 'histogram_105',\n",
       " 'histogram_106',\n",
       " 'histogram_107',\n",
       " 'histogram_108',\n",
       " 'histogram_109',\n",
       " 'histogram_110',\n",
       " 'histogram_111',\n",
       " 'histogram_112',\n",
       " 'histogram_113',\n",
       " 'histogram_114',\n",
       " 'histogram_115',\n",
       " 'histogram_116',\n",
       " 'histogram_117',\n",
       " 'histogram_118',\n",
       " 'histogram_119',\n",
       " 'histogram_120',\n",
       " 'histogram_121',\n",
       " 'histogram_122',\n",
       " 'histogram_123',\n",
       " 'histogram_124',\n",
       " 'histogram_125',\n",
       " 'histogram_126',\n",
       " 'histogram_127',\n",
       " 'histogram_128',\n",
       " 'histogram_129',\n",
       " 'histogram_130',\n",
       " 'histogram_131',\n",
       " 'histogram_132',\n",
       " 'histogram_133',\n",
       " 'histogram_134',\n",
       " 'histogram_135',\n",
       " 'histogram_136',\n",
       " 'histogram_137',\n",
       " 'histogram_138',\n",
       " 'histogram_139',\n",
       " 'histogram_140',\n",
       " 'histogram_141',\n",
       " 'histogram_142',\n",
       " 'histogram_143',\n",
       " 'histogram_144',\n",
       " 'histogram_145',\n",
       " 'histogram_146',\n",
       " 'histogram_147',\n",
       " 'histogram_148',\n",
       " 'histogram_149',\n",
       " 'histogram_150',\n",
       " 'histogram_151',\n",
       " 'histogram_152',\n",
       " 'histogram_153',\n",
       " 'histogram_154',\n",
       " 'histogram_155',\n",
       " 'histogram_156',\n",
       " 'histogram_157',\n",
       " 'histogram_158',\n",
       " 'histogram_159',\n",
       " 'histogram_160',\n",
       " 'histogram_161',\n",
       " 'histogram_162',\n",
       " 'histogram_163',\n",
       " 'histogram_164',\n",
       " 'histogram_165',\n",
       " 'histogram_166',\n",
       " 'histogram_167',\n",
       " 'histogram_168',\n",
       " 'histogram_169',\n",
       " 'histogram_170',\n",
       " 'histogram_171',\n",
       " 'histogram_172',\n",
       " 'histogram_173',\n",
       " 'histogram_174',\n",
       " 'histogram_175',\n",
       " 'histogram_176',\n",
       " 'histogram_177',\n",
       " 'histogram_178',\n",
       " 'histogram_179',\n",
       " 'histogram_180',\n",
       " 'histogram_181',\n",
       " 'histogram_182',\n",
       " 'histogram_183',\n",
       " 'histogram_184',\n",
       " 'histogram_185',\n",
       " 'histogram_186',\n",
       " 'histogram_187',\n",
       " 'histogram_188',\n",
       " 'histogram_189',\n",
       " 'histogram_190',\n",
       " 'histogram_191',\n",
       " 'histogram_192',\n",
       " 'histogram_193',\n",
       " 'histogram_194',\n",
       " 'histogram_195',\n",
       " 'histogram_196',\n",
       " 'histogram_197',\n",
       " 'histogram_198',\n",
       " 'histogram_199',\n",
       " 'histogram_200',\n",
       " 'histogram_201',\n",
       " 'histogram_202',\n",
       " 'histogram_203',\n",
       " 'histogram_204',\n",
       " 'histogram_205',\n",
       " 'histogram_206',\n",
       " 'histogram_207',\n",
       " 'histogram_208',\n",
       " 'histogram_209',\n",
       " 'histogram_210',\n",
       " 'histogram_211',\n",
       " 'histogram_212',\n",
       " 'histogram_213',\n",
       " 'histogram_214',\n",
       " 'histogram_215',\n",
       " 'histogram_216',\n",
       " 'histogram_217',\n",
       " 'histogram_218',\n",
       " 'histogram_219',\n",
       " 'histogram_220',\n",
       " 'histogram_221',\n",
       " 'histogram_222',\n",
       " 'histogram_223',\n",
       " 'histogram_224',\n",
       " 'histogram_225',\n",
       " 'histogram_226',\n",
       " 'histogram_227',\n",
       " 'histogram_228',\n",
       " 'histogram_229',\n",
       " 'histogram_230',\n",
       " 'histogram_231',\n",
       " 'histogram_232',\n",
       " 'histogram_233',\n",
       " 'histogram_234',\n",
       " 'histogram_235',\n",
       " 'histogram_236',\n",
       " 'histogram_237',\n",
       " 'histogram_238',\n",
       " 'histogram_239',\n",
       " 'histogram_240',\n",
       " 'histogram_241',\n",
       " 'histogram_242',\n",
       " 'histogram_243',\n",
       " 'histogram_244',\n",
       " 'histogram_245',\n",
       " 'histogram_246',\n",
       " 'histogram_247',\n",
       " 'histogram_248',\n",
       " 'histogram_249',\n",
       " 'histogram_250',\n",
       " 'histogram_251',\n",
       " 'histogram_252',\n",
       " 'histogram_253',\n",
       " 'histogram_254',\n",
       " 'histogram_255',\n",
       " 'byteentropy_0',\n",
       " 'byteentropy_1',\n",
       " 'byteentropy_2',\n",
       " 'byteentropy_3',\n",
       " 'byteentropy_4',\n",
       " 'byteentropy_5',\n",
       " 'byteentropy_6',\n",
       " 'byteentropy_7',\n",
       " 'byteentropy_8',\n",
       " 'byteentropy_9',\n",
       " 'byteentropy_10',\n",
       " 'byteentropy_11',\n",
       " 'byteentropy_12',\n",
       " 'byteentropy_13',\n",
       " 'byteentropy_14',\n",
       " 'byteentropy_15',\n",
       " 'byteentropy_16',\n",
       " 'byteentropy_17',\n",
       " 'byteentropy_18',\n",
       " 'byteentropy_19',\n",
       " 'byteentropy_20',\n",
       " 'byteentropy_21',\n",
       " 'byteentropy_22',\n",
       " 'byteentropy_23',\n",
       " 'byteentropy_24',\n",
       " 'byteentropy_25',\n",
       " 'byteentropy_26',\n",
       " 'byteentropy_27',\n",
       " 'byteentropy_28',\n",
       " 'byteentropy_29',\n",
       " 'byteentropy_30',\n",
       " 'byteentropy_31',\n",
       " 'byteentropy_32',\n",
       " 'byteentropy_33',\n",
       " 'byteentropy_34',\n",
       " 'byteentropy_35',\n",
       " 'byteentropy_36',\n",
       " 'byteentropy_37',\n",
       " 'byteentropy_38',\n",
       " 'byteentropy_39',\n",
       " 'byteentropy_40',\n",
       " 'byteentropy_41',\n",
       " 'byteentropy_42',\n",
       " 'byteentropy_43',\n",
       " 'byteentropy_44',\n",
       " 'byteentropy_45',\n",
       " 'byteentropy_46',\n",
       " 'byteentropy_47',\n",
       " 'byteentropy_48',\n",
       " 'byteentropy_49',\n",
       " 'byteentropy_50',\n",
       " 'byteentropy_51',\n",
       " 'byteentropy_52',\n",
       " 'byteentropy_53',\n",
       " 'byteentropy_54',\n",
       " 'byteentropy_55',\n",
       " 'byteentropy_56',\n",
       " 'byteentropy_57',\n",
       " 'byteentropy_58',\n",
       " 'byteentropy_59',\n",
       " 'byteentropy_60',\n",
       " 'byteentropy_61',\n",
       " 'byteentropy_62',\n",
       " 'byteentropy_63',\n",
       " 'byteentropy_64',\n",
       " 'byteentropy_65',\n",
       " 'byteentropy_66',\n",
       " 'byteentropy_67',\n",
       " 'byteentropy_68',\n",
       " 'byteentropy_69',\n",
       " 'byteentropy_70',\n",
       " 'byteentropy_71',\n",
       " 'byteentropy_72',\n",
       " 'byteentropy_73',\n",
       " 'byteentropy_74',\n",
       " 'byteentropy_75',\n",
       " 'byteentropy_76',\n",
       " 'byteentropy_77',\n",
       " 'byteentropy_78',\n",
       " 'byteentropy_79',\n",
       " 'byteentropy_80',\n",
       " 'byteentropy_81',\n",
       " 'byteentropy_82',\n",
       " 'byteentropy_83',\n",
       " 'byteentropy_84',\n",
       " 'byteentropy_85',\n",
       " 'byteentropy_86',\n",
       " 'byteentropy_87',\n",
       " 'byteentropy_88',\n",
       " 'byteentropy_89',\n",
       " 'byteentropy_90',\n",
       " 'byteentropy_91',\n",
       " 'byteentropy_92',\n",
       " 'byteentropy_93',\n",
       " 'byteentropy_94',\n",
       " 'byteentropy_95',\n",
       " 'byteentropy_96',\n",
       " 'byteentropy_97',\n",
       " 'byteentropy_98',\n",
       " 'byteentropy_99',\n",
       " 'byteentropy_100',\n",
       " 'byteentropy_101',\n",
       " 'byteentropy_102',\n",
       " 'byteentropy_103',\n",
       " 'byteentropy_104',\n",
       " 'byteentropy_105',\n",
       " 'byteentropy_106',\n",
       " 'byteentropy_107',\n",
       " 'byteentropy_108',\n",
       " 'byteentropy_109',\n",
       " 'byteentropy_110',\n",
       " 'byteentropy_111',\n",
       " 'byteentropy_112',\n",
       " 'byteentropy_113',\n",
       " 'byteentropy_114',\n",
       " 'byteentropy_115',\n",
       " 'byteentropy_116',\n",
       " 'byteentropy_117',\n",
       " 'byteentropy_118',\n",
       " 'byteentropy_119',\n",
       " 'byteentropy_120',\n",
       " 'byteentropy_121',\n",
       " 'byteentropy_122',\n",
       " 'byteentropy_123',\n",
       " 'byteentropy_124',\n",
       " 'byteentropy_125',\n",
       " 'byteentropy_126',\n",
       " 'byteentropy_127',\n",
       " 'byteentropy_128',\n",
       " 'byteentropy_129',\n",
       " 'byteentropy_130',\n",
       " 'byteentropy_131',\n",
       " 'byteentropy_132',\n",
       " 'byteentropy_133',\n",
       " 'byteentropy_134',\n",
       " 'byteentropy_135',\n",
       " 'byteentropy_136',\n",
       " 'byteentropy_137',\n",
       " 'byteentropy_138',\n",
       " 'byteentropy_139',\n",
       " 'byteentropy_140',\n",
       " 'byteentropy_141',\n",
       " 'byteentropy_142',\n",
       " 'byteentropy_143',\n",
       " 'byteentropy_144',\n",
       " 'byteentropy_145',\n",
       " 'byteentropy_146',\n",
       " 'byteentropy_147',\n",
       " 'byteentropy_148',\n",
       " 'byteentropy_149',\n",
       " 'byteentropy_150',\n",
       " 'byteentropy_151',\n",
       " 'byteentropy_152',\n",
       " 'byteentropy_153',\n",
       " 'byteentropy_154',\n",
       " 'byteentropy_155',\n",
       " 'byteentropy_156',\n",
       " 'byteentropy_157',\n",
       " 'byteentropy_158',\n",
       " 'byteentropy_159',\n",
       " 'byteentropy_160',\n",
       " 'byteentropy_161',\n",
       " 'byteentropy_162',\n",
       " 'byteentropy_163',\n",
       " 'byteentropy_164',\n",
       " 'byteentropy_165',\n",
       " 'byteentropy_166',\n",
       " 'byteentropy_167',\n",
       " 'byteentropy_168',\n",
       " 'byteentropy_169',\n",
       " 'byteentropy_170',\n",
       " 'byteentropy_171',\n",
       " 'byteentropy_172',\n",
       " 'byteentropy_173',\n",
       " 'byteentropy_174',\n",
       " 'byteentropy_175',\n",
       " 'byteentropy_176',\n",
       " 'byteentropy_177',\n",
       " 'byteentropy_178',\n",
       " 'byteentropy_179',\n",
       " 'byteentropy_180',\n",
       " 'byteentropy_181',\n",
       " 'byteentropy_182',\n",
       " 'byteentropy_183',\n",
       " 'byteentropy_184',\n",
       " 'byteentropy_185',\n",
       " 'byteentropy_186',\n",
       " 'byteentropy_187',\n",
       " 'byteentropy_188',\n",
       " 'byteentropy_189',\n",
       " 'byteentropy_190',\n",
       " 'byteentropy_191',\n",
       " 'byteentropy_192',\n",
       " 'byteentropy_193',\n",
       " 'byteentropy_194',\n",
       " 'byteentropy_195',\n",
       " 'byteentropy_196',\n",
       " 'byteentropy_197',\n",
       " 'byteentropy_198',\n",
       " 'byteentropy_199',\n",
       " 'byteentropy_200',\n",
       " 'byteentropy_201',\n",
       " 'byteentropy_202',\n",
       " 'byteentropy_203',\n",
       " 'byteentropy_204',\n",
       " 'byteentropy_205',\n",
       " 'byteentropy_206',\n",
       " 'byteentropy_207',\n",
       " 'byteentropy_208',\n",
       " 'byteentropy_209',\n",
       " 'byteentropy_210',\n",
       " 'byteentropy_211',\n",
       " 'byteentropy_212',\n",
       " 'byteentropy_213',\n",
       " 'byteentropy_214',\n",
       " 'byteentropy_215',\n",
       " 'byteentropy_216',\n",
       " 'byteentropy_217',\n",
       " 'byteentropy_218',\n",
       " 'byteentropy_219',\n",
       " 'byteentropy_220',\n",
       " 'byteentropy_221',\n",
       " 'byteentropy_222',\n",
       " 'byteentropy_223',\n",
       " 'byteentropy_224',\n",
       " 'byteentropy_225',\n",
       " 'byteentropy_226',\n",
       " 'byteentropy_227',\n",
       " 'byteentropy_228',\n",
       " 'byteentropy_229',\n",
       " 'byteentropy_230',\n",
       " 'byteentropy_231',\n",
       " 'byteentropy_232',\n",
       " 'byteentropy_233',\n",
       " 'byteentropy_234',\n",
       " 'byteentropy_235',\n",
       " 'byteentropy_236',\n",
       " 'byteentropy_237',\n",
       " 'byteentropy_238',\n",
       " 'byteentropy_239',\n",
       " 'byteentropy_240',\n",
       " 'byteentropy_241',\n",
       " 'byteentropy_242',\n",
       " 'byteentropy_243',\n",
       " 'byteentropy_244',\n",
       " 'byteentropy_245',\n",
       " 'byteentropy_246',\n",
       " 'byteentropy_247',\n",
       " 'byteentropy_248',\n",
       " 'byteentropy_249',\n",
       " 'byteentropy_250',\n",
       " 'byteentropy_251',\n",
       " 'byteentropy_252',\n",
       " 'byteentropy_253',\n",
       " 'byteentropy_254',\n",
       " 'byteentropy_255',\n",
       " 'strings_numstrings',\n",
       " 'strings_avlength',\n",
       " 'strings_printabledist_0',\n",
       " 'strings_printabledist_1',\n",
       " 'strings_printabledist_2',\n",
       " 'strings_printabledist_3',\n",
       " 'strings_printabledist_4',\n",
       " 'strings_printabledist_5',\n",
       " 'strings_printabledist_6',\n",
       " 'strings_printabledist_7',\n",
       " 'strings_printabledist_8',\n",
       " 'strings_printabledist_9',\n",
       " 'strings_printabledist_10',\n",
       " 'strings_printabledist_11',\n",
       " 'strings_printabledist_12',\n",
       " 'strings_printabledist_13',\n",
       " 'strings_printabledist_14',\n",
       " 'strings_printabledist_15',\n",
       " 'strings_printabledist_16',\n",
       " 'strings_printabledist_17',\n",
       " 'strings_printabledist_18',\n",
       " 'strings_printabledist_19',\n",
       " 'strings_printabledist_20',\n",
       " 'strings_printabledist_21',\n",
       " 'strings_printabledist_22',\n",
       " 'strings_printabledist_23',\n",
       " 'strings_printabledist_24',\n",
       " 'strings_printabledist_25',\n",
       " 'strings_printabledist_26',\n",
       " 'strings_printabledist_27',\n",
       " 'strings_printabledist_28',\n",
       " 'strings_printabledist_29',\n",
       " 'strings_printabledist_30',\n",
       " 'strings_printabledist_31',\n",
       " 'strings_printabledist_32',\n",
       " 'strings_printabledist_33',\n",
       " 'strings_printabledist_34',\n",
       " 'strings_printabledist_35',\n",
       " 'strings_printabledist_36',\n",
       " 'strings_printabledist_37',\n",
       " 'strings_printabledist_38',\n",
       " 'strings_printabledist_39',\n",
       " 'strings_printabledist_40',\n",
       " 'strings_printabledist_41',\n",
       " 'strings_printabledist_42',\n",
       " 'strings_printabledist_43',\n",
       " 'strings_printabledist_44',\n",
       " 'strings_printabledist_45',\n",
       " 'strings_printabledist_46',\n",
       " 'strings_printabledist_47',\n",
       " 'strings_printabledist_48',\n",
       " 'strings_printabledist_49',\n",
       " 'strings_printabledist_50',\n",
       " 'strings_printabledist_51',\n",
       " 'strings_printabledist_52',\n",
       " 'strings_printabledist_53',\n",
       " 'strings_printabledist_54',\n",
       " 'strings_printabledist_55',\n",
       " 'strings_printabledist_56',\n",
       " 'strings_printabledist_57',\n",
       " 'strings_printabledist_58',\n",
       " 'strings_printabledist_59',\n",
       " 'strings_printabledist_60',\n",
       " 'strings_printabledist_61',\n",
       " 'strings_printabledist_62',\n",
       " 'strings_printabledist_63',\n",
       " 'strings_printabledist_64',\n",
       " 'strings_printabledist_65',\n",
       " 'strings_printabledist_66',\n",
       " 'strings_printabledist_67',\n",
       " 'strings_printabledist_68',\n",
       " 'strings_printabledist_69',\n",
       " 'strings_printabledist_70',\n",
       " 'strings_printabledist_71',\n",
       " 'strings_printabledist_72',\n",
       " 'strings_printabledist_73',\n",
       " 'strings_printabledist_74',\n",
       " 'strings_printabledist_75',\n",
       " 'strings_printabledist_76',\n",
       " 'strings_printabledist_77',\n",
       " 'strings_printabledist_78',\n",
       " 'strings_printabledist_79',\n",
       " 'strings_printabledist_80',\n",
       " 'strings_printabledist_81',\n",
       " 'strings_printabledist_82',\n",
       " 'strings_printabledist_83',\n",
       " 'strings_printabledist_84',\n",
       " 'strings_printabledist_85',\n",
       " 'strings_printabledist_86',\n",
       " 'strings_printabledist_87',\n",
       " 'strings_printabledist_88',\n",
       " 'strings_printabledist_89',\n",
       " 'strings_printabledist_90',\n",
       " 'strings_printabledist_91',\n",
       " 'strings_printabledist_92',\n",
       " 'strings_printabledist_93',\n",
       " 'strings_printabledist_94',\n",
       " 'strings_printabledist_95',\n",
       " 'strings_printables',\n",
       " 'strings_entropy',\n",
       " 'strings_paths',\n",
       " 'strings_urls',\n",
       " 'strings_registry',\n",
       " 'strings_MZ',\n",
       " 'general_size',\n",
       " 'general_vsize',\n",
       " 'general_has_debug',\n",
       " 'general_exports',\n",
       " 'general_imports',\n",
       " 'general_has_relocations',\n",
       " 'general_has_resources',\n",
       " 'general_has_signature',\n",
       " 'general_has_tls',\n",
       " 'general_symbols',\n",
       " 'header_coff_timestamp',\n",
       " 'header_coff_machine',\n",
       " 'header_coff_characteristics_AGGRESSIVE_WS_TRIM',\n",
       " 'header_coff_characteristics_BYTES_REVERSED_HI',\n",
       " 'header_coff_characteristics_BYTES_REVERSED_LO',\n",
       " 'header_coff_characteristics_CHARA_32BIT_MACHINE',\n",
       " 'header_coff_characteristics_DEBUG_STRIPPED',\n",
       " 'header_coff_characteristics_DLL',\n",
       " 'header_coff_characteristics_EXECUTABLE_IMAGE',\n",
       " 'header_coff_characteristics_LARGE_ADDRESS_AWARE',\n",
       " 'header_coff_characteristics_LINE_NUMS_STRIPPED',\n",
       " 'header_coff_characteristics_LOCAL_SYMS_STRIPPED',\n",
       " 'header_coff_characteristics_NET_RUN_FROM_SWAP',\n",
       " 'header_coff_characteristics_RELOCS_STRIPPED',\n",
       " 'header_coff_characteristics_REMOVABLE_RUN_FROM_SWAP',\n",
       " 'header_coff_characteristics_SYSTEM',\n",
       " 'header_coff_characteristics_UP_SYSTEM_ONLY',\n",
       " 'header_optional_subsystem',\n",
       " 'header_optional_dll_characteristics_DYNAMIC_BASE',\n",
       " 'header_optional_dll_characteristics_FORCE_INTEGRITY',\n",
       " 'header_optional_dll_characteristics_GUARD_CF',\n",
       " 'header_optional_dll_characteristics_HIGH_ENTROPY_VA',\n",
       " 'header_optional_dll_characteristics_NO_BIND',\n",
       " 'header_optional_dll_characteristics_NO_ISOLATION',\n",
       " 'header_optional_dll_characteristics_NO_SEH',\n",
       " 'header_optional_dll_characteristics_NX_COMPAT',\n",
       " 'header_optional_dll_characteristics_TERMINAL_SERVER_AWARE',\n",
       " 'header_optional_dll_characteristics_WDM_DRIVER',\n",
       " 'header_optional_magic',\n",
       " 'header_optional_major_image_version',\n",
       " 'header_optional_minor_image_version',\n",
       " 'header_optional_major_linker_version',\n",
       " 'header_optional_minor_linker_version',\n",
       " 'header_optional_major_operating_system_version',\n",
       " 'header_optional_minor_operating_system_version',\n",
       " 'header_optional_major_subsystem_version',\n",
       " 'header_optional_minor_subsystem_version',\n",
       " 'header_optional_sizeof_code',\n",
       " 'header_optional_sizeof_headers',\n",
       " 'header_optional_sizeof_heap_commit',\n",
       " 'section_entry',\n",
       " 'datadirectories_0_name',\n",
       " 'datadirectories_0_size',\n",
       " 'datadirectories_0_virtual_address',\n",
       " 'datadirectories_1_name',\n",
       " 'datadirectories_1_size',\n",
       " 'datadirectories_1_virtual_address',\n",
       " 'datadirectories_2_name',\n",
       " 'datadirectories_2_size',\n",
       " 'datadirectories_2_virtual_address',\n",
       " 'datadirectories_3_name',\n",
       " 'datadirectories_3_size',\n",
       " 'datadirectories_3_virtual_address',\n",
       " 'datadirectories_4_name',\n",
       " 'datadirectories_4_size',\n",
       " 'datadirectories_4_virtual_address',\n",
       " 'datadirectories_5_name',\n",
       " 'datadirectories_5_size',\n",
       " 'datadirectories_5_virtual_address',\n",
       " 'datadirectories_6_name',\n",
       " 'datadirectories_6_size',\n",
       " 'datadirectories_6_virtual_address',\n",
       " 'datadirectories_7_name',\n",
       " 'datadirectories_7_size',\n",
       " 'datadirectories_7_virtual_address',\n",
       " 'datadirectories_8_name',\n",
       " 'datadirectories_8_size',\n",
       " 'datadirectories_8_virtual_address',\n",
       " 'datadirectories_9_name',\n",
       " 'datadirectories_9_size',\n",
       " 'datadirectories_9_virtual_address',\n",
       " 'datadirectories_11_name',\n",
       " 'datadirectories_11_size',\n",
       " 'datadirectories_11_virtual_address',\n",
       " 'datadirectories_12_name',\n",
       " 'datadirectories_12_size',\n",
       " 'datadirectories_12_virtual_address',\n",
       " 'datadirectories_13_name',\n",
       " 'datadirectories_13_size',\n",
       " 'datadirectories_13_virtual_address',\n",
       " 'datadirectories_14_name',\n",
       " 'datadirectories_14_size',\n",
       " 'datadirectories_14_virtual_address',\n",
       " 'datadirectories_15_name',\n",
       " 'datadirectories_15_size',\n",
       " 'datadirectories_15_virtual_address',\n",
       " 'category']"
      ]
     },
     "execution_count": 10,
     "metadata": {},
     "output_type": "execute_result"
    }
   ],
   "source": [
    "list(df1)"
   ]
  },
  {
   "cell_type": "code",
   "execution_count": 11,
   "id": "ba206cf2",
   "metadata": {},
   "outputs": [],
   "source": [
    "malware = df1[df1['category'] == 1]\n",
    "not_malware = df1[df1['category'] == 0]"
   ]
  },
  {
   "cell_type": "code",
   "execution_count": 12,
   "id": "58b3da2a",
   "metadata": {},
   "outputs": [],
   "source": [
    "def dist_plotter(feature_name): #random function, make some more\n",
    "    fig, ax = plt.subplots(2,1)\n",
    "#     ax.set(ylabel='common ylabel', title=feature_name)\n",
    "    sns.violinplot(malware[feature_name], inner=\"quartile\", ax=ax[0], color='r')\n",
    "    sns.violinplot(not_malware[feature_name], inner=\"quartile\", ax=ax[1], color='r')"
   ]
  },
  {
   "cell_type": "code",
   "execution_count": 13,
   "id": "6298ffff",
   "metadata": {},
   "outputs": [
    {
     "data": {
      "image/png": "[encoded data removed]",
      "text/plain": [
       "<Figure size 432x288 with 2 Axes>"
      ]
     },
     "metadata": {
      "needs_background": "light"
     },
     "output_type": "display_data"
    }
   ],
   "source": [
    "dist_plotter('byteentropy_211')"
   ]
  },
  {
   "cell_type": "code",
   "execution_count": null,
   "id": "c806edee",
   "metadata": {},
   "outputs": [],
   "source": []
  },
  {
   "cell_type": "code",
   "execution_count": null,
   "id": "10210c56",
   "metadata": {},
   "outputs": [],
   "source": []
  },
  {
   "cell_type": "markdown",
   "id": "8956859c",
   "metadata": {},
   "source": [
    "## Undersampling"
   ]
  },
  {
   "cell_type": "markdown",
   "id": "d318fbbb",
   "metadata": {},
   "source": [
    "Since only 5% of entries are malware, we want a similar 50/50 split between malware and not malware."
   ]
  },
  {
   "cell_type": "code",
   "execution_count": 69,
   "id": "1f70e5aa",
   "metadata": {},
   "outputs": [],
   "source": [
    "majority = df2[df2.category==0] # Majority class\n",
    "minority = df2[df2.category==1] # Minority class"
   ]
  },
  {
   "cell_type": "code",
   "execution_count": 70,
   "id": "a7f6d185",
   "metadata": {},
   "outputs": [
    {
     "data": {
      "text/plain": [
       "0    900\n",
       "1    900\n",
       "Name: category, dtype: int64"
      ]
     },
     "execution_count": 70,
     "metadata": {},
     "output_type": "execute_result"
    }
   ],
   "source": [
    "majority_undersampled = resample(majority, replace=False, n_samples=900) # Randomly selects 900 records from majority to match minority class size\n",
    "# New downsampled dataset\n",
    "df_undersampled = pd.concat([majority_undersampled, minority])  # Minority class + sample of 900 from majority\n",
    "df_undersampled.category.value_counts()"
   ]
  },
  {
   "cell_type": "code",
   "execution_count": 71,
   "id": "6b24fc5f",
   "metadata": {},
   "outputs": [
    {
     "name": "stdout",
     "output_type": "stream",
     "text": [
      "WARNING: EMBER feature version 2 were computed using lief version 0.9.0-\n",
      "WARNING:   lief version 0.11.5-551ede5 found instead. There may be slight inconsistencies\n",
      "WARNING:   in the feature calculations.\n"
     ]
    }
   ],
   "source": [
    "Ember_Wrapper.create_vectorize_features(df_undersampled)"
   ]
  },
  {
   "cell_type": "code",
   "execution_count": 72,
   "id": "9c3692d8",
   "metadata": {},
   "outputs": [
    {
     "name": "stdout",
     "output_type": "stream",
     "text": [
      "X.shape (1800, 2381)\n",
      "%Malware: 0.5\n"
     ]
    }
   ],
   "source": [
    "X = np.load('./X_data.npy')\n",
    "y = np.load('./y_data.npy')\n",
    "print('X.shape', X.shape)\n",
    "print('%Malware:', sum(y) / len(y))"
   ]
  },
  {
   "cell_type": "code",
   "execution_count": null,
   "id": "c78cc514",
   "metadata": {},
   "outputs": [],
   "source": []
  },
  {
   "cell_type": "code",
   "execution_count": null,
   "id": "d3306c4b",
   "metadata": {},
   "outputs": [],
   "source": []
  },
  {
   "cell_type": "code",
   "execution_count": 16,
   "id": "ce7e604e",
   "metadata": {},
   "outputs": [],
   "source": [
    "df = df_undersampled #make it a new df"
   ]
  },
  {
   "cell_type": "code",
   "execution_count": 17,
   "id": "2a95437d",
   "metadata": {},
   "outputs": [],
   "source": [
    "X = df.drop('category', axis=1) #X is everything but the 'category' col"
   ]
  },
  {
   "cell_type": "code",
   "execution_count": 18,
   "id": "5d485926",
   "metadata": {},
   "outputs": [],
   "source": [
    "y = df['category'] #y is just the target column"
   ]
  },
  {
   "cell_type": "code",
   "execution_count": 19,
   "id": "7897ed31",
   "metadata": {},
   "outputs": [],
   "source": [
    "X = X._get_numeric_data() #drop all nonnumeric ones (for now?)"
   ]
  },
  {
   "cell_type": "code",
   "execution_count": 20,
   "id": "81a2c68e",
   "metadata": {},
   "outputs": [
    {
     "name": "stdout",
     "output_type": "stream",
     "text": [
      "(1800, 693) (1800,)\n"
     ]
    }
   ],
   "source": [
    "print(X.shape, y.shape) #sanity check arrays"
   ]
  },
  {
   "cell_type": "markdown",
   "id": "7faad1f1",
   "metadata": {},
   "source": [
    "## Feature Selection with ANOVA"
   ]
  },
  {
   "cell_type": "markdown",
   "id": "62dcf6ee",
   "metadata": {},
   "source": [
    "Ideally should have selected features after heatmaps/correlation plots/distributions etc but skipped all that for now.\n",
    "\n",
    "This is automatic but more of a \"black box\"."
   ]
  },
  {
   "cell_type": "code",
   "execution_count": 75,
   "id": "e58d54f4",
   "metadata": {},
   "outputs": [],
   "source": [
    "X_train, X_test, y_train, y_test = train_test_split(X, y, test_size=0.2) #train test split 80/20"
   ]
  },
  {
   "cell_type": "code",
   "execution_count": 77,
   "id": "6a792bd4",
   "metadata": {},
   "outputs": [],
   "source": [
    "# fs = SelectKBest(score_func=f_classif, k=600) #THIS K IS HOW MANY FEATURES YOU WANT\n",
    "# fs.fit(X_train, y_train)\n",
    "# mask = fs.get_support()\n",
    "# new_features = X_train.columns[mask]"
   ]
  },
  {
   "cell_type": "code",
   "execution_count": 23,
   "id": "82449ae4",
   "metadata": {},
   "outputs": [],
   "source": [
    "# X_train_fs = X_train[new_features]\n",
    "# X_test_fs = X_test[new_features]"
   ]
  },
  {
   "cell_type": "code",
   "execution_count": 78,
   "id": "a9a9a0fc",
   "metadata": {},
   "outputs": [],
   "source": [
    "X_train_fs = X_train\n",
    "X_test_fs = X_test"
   ]
  },
  {
   "cell_type": "code",
   "execution_count": 24,
   "id": "e27959d9",
   "metadata": {},
   "outputs": [],
   "source": [
    "# for i in range(len(fs.scores_[:10])):\n",
    "#     print('Feature %d: %f' % (i, fs.scores_[i]))\n",
    "# # plot the scores\n",
    "#     plt.bar([i for i in range(len(fs.scores_))], fs.scores_)\n",
    "#     plt.show()"
   ]
  },
  {
   "cell_type": "markdown",
   "id": "b8375b69",
   "metadata": {},
   "source": [
    "Now we can use X_train_fs and X_test_fs in place of X_train and X_test."
   ]
  },
  {
   "cell_type": "code",
   "execution_count": 79,
   "id": "1378e470",
   "metadata": {
    "scrolled": false
   },
   "outputs": [
    {
     "name": "stdout",
     "output_type": "stream",
     "text": [
      "(1440, 2381) (360, 2381)\n"
     ]
    }
   ],
   "source": [
    "print(X_train_fs.shape, X_test_fs.shape)"
   ]
  },
  {
   "cell_type": "code",
   "execution_count": 80,
   "id": "6b5a9930",
   "metadata": {
    "scrolled": true
   },
   "outputs": [
    {
     "name": "stdout",
     "output_type": "stream",
     "text": [
      "(1440,) (360,)\n"
     ]
    }
   ],
   "source": [
    "print(y_train.shape, y_test.shape)"
   ]
  },
  {
   "cell_type": "markdown",
   "id": "7977a7bf",
   "metadata": {},
   "source": [
    "## Modeling"
   ]
  },
  {
   "cell_type": "markdown",
   "id": "94ee8fe7",
   "metadata": {},
   "source": [
    "This function basically fits a specified model and outputs it's f1_score as well as ROC curve, can add more graphs/plots to it as well."
   ]
  },
  {
   "cell_type": "code",
   "execution_count": 81,
   "id": "0c28500b",
   "metadata": {},
   "outputs": [],
   "source": [
    "def modeler(model):\n",
    "    model.fit(X_train_fs, y_train) #fit specified model\n",
    "    y_pred = model.predict(X_test_fs) #predict on test set\n",
    "    f1 = f1_score(y_test, y_pred) #get f1 score\n",
    "    print('F1 Score:', f1)\n",
    "    print(metrics.confusion_matrix(y_test, y_pred))\n",
    "    \n",
    "    #this plots the ROC curve, play around iwth it\n",
    "    from sklearn.metrics import roc_curve, auc\n",
    "    fpr, tpr, thresholds = roc_curve(y_pred, y_test)\n",
    "    roc_auc = auc(fpr, tpr)\n",
    "\n",
    "    plt.figure()\n",
    "    plt.plot(fpr, tpr, color='darkorange', label='ROC curve (area = %0.2f)' % roc_auc)\n",
    "    plt.plot([0, 1], [0, 1], color='navy', linestyle='--')\n",
    "    plt.xlim([0.0, 1.0])\n",
    "    plt.ylim([0.0, 1.05])\n",
    "    plt.xlabel('False Positive Rate')\n",
    "    plt.ylabel('True Positive Rate')\n",
    "    plt.title('Receiver operating characteristic')\n",
    "    plt.legend(loc=\"lower right\")\n",
    "    plt.show()"
   ]
  },
  {
   "cell_type": "code",
   "execution_count": 82,
   "id": "6a6991c5",
   "metadata": {},
   "outputs": [
    {
     "name": "stdout",
     "output_type": "stream",
     "text": [
      "F1 Score: 0.6699507389162561\n",
      "[[ 90 102]\n",
      " [ 32 136]]\n"
     ]
    },
    {
     "data": {
      "image/png": "[encoded data removed]",
      "text/plain": [
       "<Figure size 432x288 with 1 Axes>"
      ]
     },
     "metadata": {
      "needs_background": "light"
     },
     "output_type": "display_data"
    }
   ],
   "source": [
    "lr = LogisticRegression()\n",
    "modeler(lr)"
   ]
  },
  {
   "cell_type": "code",
   "execution_count": 83,
   "id": "d8c073fb",
   "metadata": {
    "scrolled": true
   },
   "outputs": [
    {
     "name": "stdout",
     "output_type": "stream",
     "text": [
      "F1 Score: 0.9161676646706587\n",
      "[[179  13]\n",
      " [ 15 153]]\n"
     ]
    },
    {
     "data": {
      "image/png": "[encoded data removed]",
      "text/plain": [
       "<Figure size 432x288 with 1 Axes>"
      ]
     },
     "metadata": {
      "needs_background": "light"
     },
     "output_type": "display_data"
    }
   ],
   "source": [
    "lgbm = lgb.LGBMClassifier()\n",
    "modeler(lgbm)"
   ]
  },
  {
   "cell_type": "code",
   "execution_count": 84,
   "id": "79c2a5aa",
   "metadata": {},
   "outputs": [
    {
     "name": "stdout",
     "output_type": "stream",
     "text": [
      "[09:11:01] WARNING: /Users/runner/miniforge3/conda-bld/xgboost-split_1634712680264/work/src/learner.cc:1115: Starting in XGBoost 1.3.0, the default evaluation metric used with the objective 'binary:logistic' was changed from 'error' to 'logloss'. Explicitly set eval_metric if you'd like to restore the old behavior.\n",
      "F1 Score: 0.9129129129129129\n",
      "[[179  13]\n",
      " [ 16 152]]\n"
     ]
    },
    {
     "data": {
      "image/png": "[encoded data removed]",
      "text/plain": [
       "<Figure size 432x288 with 1 Axes>"
      ]
     },
     "metadata": {
      "needs_background": "light"
     },
     "output_type": "display_data"
    }
   ],
   "source": [
    "xgbc = xgb.XGBClassifier()\n",
    "modeler(xgbc)"
   ]
  },
  {
   "cell_type": "code",
   "execution_count": 85,
   "id": "124fa26f",
   "metadata": {},
   "outputs": [
    {
     "name": "stdout",
     "output_type": "stream",
     "text": [
      "F1 Score: 0.8408408408408408\n",
      "[[167  25]\n",
      " [ 28 140]]\n"
     ]
    },
    {
     "data": {
      "image/png": "[encoded data removed]",
      "text/plain": [
       "<Figure size 432x288 with 1 Axes>"
      ]
     },
     "metadata": {
      "needs_background": "light"
     },
     "output_type": "display_data"
    }
   ],
   "source": [
    "from sklearn.ensemble import RandomForestClassifier\n",
    "rf = RandomForestClassifier()\n",
    "modeler(rf)"
   ]
  },
  {
   "cell_type": "code",
   "execution_count": 86,
   "id": "acffb742",
   "metadata": {},
   "outputs": [
    {
     "name": "stdout",
     "output_type": "stream",
     "text": [
      "F1 Score: 0.6363636363636364\n",
      "[[  0 192]\n",
      " [  0 168]]\n"
     ]
    },
    {
     "data": {
      "image/png": "[encoded data removed]",
      "text/plain": [
       "<Figure size 432x288 with 1 Axes>"
      ]
     },
     "metadata": {
      "needs_background": "light"
     },
     "output_type": "display_data"
    }
   ],
   "source": [
    "from sklearn.svm import SVC\n",
    "svm = SVC()\n",
    "modeler(svm)"
   ]
  },
  {
   "cell_type": "code",
   "execution_count": 87,
   "id": "c442ea2e",
   "metadata": {},
   "outputs": [
    {
     "name": "stdout",
     "output_type": "stream",
     "text": [
      "F1 Score: 0.6569767441860466\n",
      "[[129  63]\n",
      " [ 55 113]]\n"
     ]
    },
    {
     "data": {
      "image/png": "[encoded data removed]",
      "text/plain": [
       "<Figure size 432x288 with 1 Axes>"
      ]
     },
     "metadata": {
      "needs_background": "light"
     },
     "output_type": "display_data"
    }
   ],
   "source": [
    "from sklearn.neighbors import KNeighborsClassifier\n",
    "knn = KNeighborsClassifier()\n",
    "modeler(knn)"
   ]
  },
  {
   "cell_type": "code",
   "execution_count": 88,
   "id": "526f394f",
   "metadata": {},
   "outputs": [
    {
     "name": "stdout",
     "output_type": "stream",
     "text": [
      "F1 Score: 0.8277945619335348\n",
      "[[166  26]\n",
      " [ 31 137]]\n"
     ]
    },
    {
     "data": {
      "image/png": "[encoded data removed]",
      "text/plain": [
       "<Figure size 432x288 with 1 Axes>"
      ]
     },
     "metadata": {
      "needs_background": "light"
     },
     "output_type": "display_data"
    }
   ],
   "source": [
    "from sklearn import tree\n",
    "dt = tree.DecisionTreeClassifier()\n",
    "modeler(dt)"
   ]
  },
  {
   "cell_type": "markdown",
   "id": "311b8688",
   "metadata": {},
   "source": [
    "Best ones seem to be LGBM and XGB. Ideal ROC graph looks hugs the top left corner."
   ]
  },
  {
   "cell_type": "markdown",
   "id": "a4fa6f4e",
   "metadata": {},
   "source": [
    "## Hyperparameter Optimization"
   ]
  },
  {
   "cell_type": "markdown",
   "id": "a23e892a",
   "metadata": {},
   "source": [
    "Time to tune with Hyperopt.\n",
    "(Scaling/normalizing isn't needed for gradient boosted decision trees so skip it)"
   ]
  },
  {
   "cell_type": "markdown",
   "id": "bdf41687",
   "metadata": {},
   "source": [
    "# EVERYONE CAN TRY OPTIMIZING WITH DIFFERENT HYPERPARAMETERS LIKE IN THE COMMENTED OUT LINES, check the user docs for more parameters"
   ]
  },
  {
   "cell_type": "code",
   "execution_count": 35,
   "id": "c27890d3",
   "metadata": {},
   "outputs": [],
   "source": [
    "# #hyperparameter domain to search over\n",
    "# hyperparam_space = {\n",
    "#     'num_leaves':       hp.choice('num_leaves', np.arange(30, 250, 1)),\n",
    "#     'learning_rate':    hp.quniform('learning_rate', 0, 0.3, 0.01),\n",
    "#     'max_depth':        hp.choice('max_depth', np.arange(2, 100, 1, dtype=int)),\n",
    "#     'min_child_weight': hp.choice('min_child_weight', np.arange(1, 50, 1, dtype=int)),\n",
    "#     'colsample_bytree': hp.uniform('colsample_bytree', 0.4, 1),\n",
    "#     'subsample':        hp.uniform('subsample', 0.5, 1),\n",
    "# }"
   ]
  },
  {
   "cell_type": "markdown",
   "id": "8be52d91",
   "metadata": {},
   "source": [
    "Following code takes a couple minutes to run:"
   ]
  },
  {
   "cell_type": "code",
   "execution_count": 36,
   "id": "1b455126",
   "metadata": {
    "scrolled": true
   },
   "outputs": [],
   "source": [
    "# def score(params): #function to train and test different hyperparams\n",
    "#     model = lgb.LGBMClassifier(**params)\n",
    "#     model.fit(X_train_fs, y_train, early_stopping_rounds=20,\n",
    "#              eval_set=[(X_train_fs, y_train), (X_test_fs, y_test)])\n",
    "# #     y_pred = model.predict(X_test_fs)\n",
    "# #     score = mean_squared_error(y_test, y_pred)\n",
    "#     score = -cross_val_score(model, X_train_fs, y_train, cv=10, scoring='roc_auc').mean()\n",
    "#     print(score)\n",
    "#     return score\n",
    "            \n",
    "# def optimize(trials, space): #fmin is the main library function\n",
    "#     best = fmin(score, space, algo=tpe.suggest, max_evals=10)\n",
    "#     return best\n",
    "            \n",
    "# trials = Trials() #database that store completed hyperparameters and score\n",
    "# best_params = optimize(trials, hyperparam_space) #calls fmin\n",
    "\n",
    "# #finds best hyperparameters\n",
    "# # space_eval(hyperparam_space, best_params)"
   ]
  },
  {
   "cell_type": "code",
   "execution_count": 37,
   "id": "de0c0e47",
   "metadata": {
    "scrolled": true
   },
   "outputs": [],
   "source": [
    "# best_params"
   ]
  },
  {
   "cell_type": "code",
   "execution_count": 38,
   "id": "177821b4",
   "metadata": {},
   "outputs": [],
   "source": [
    "# lgbm_model = lgb.LGBMClassifier(**best_params)\n",
    "# lgbm_model.fit(X_train_fs, y_train)\n",
    "# preds = [pred[1] for pred in lgbm_model.predict_proba(X_test_fs)]\n",
    "# score = roc_auc_score(y_test, preds, average='weighted')\n",
    "# print('auc_roc score: ', score)\n",
    "\n",
    "# y_pred = lgbm_model.predict(X_test_fs)\n",
    "# f1 = f1_score(y_test, y_pred) #get f1 score\n",
    "# print('F1 Score:', f1)\n",
    "# print(confusion_matrix(y_test, y_pred))\n",
    "# print(classification_report(y_test, y_pred))"
   ]
  },
  {
   "cell_type": "code",
   "execution_count": 39,
   "id": "87d493d7",
   "metadata": {},
   "outputs": [],
   "source": [
    "# shap_values = shap.TreeExplainer(lgbm_model).shap_values(X_test_fs)\n",
    "# shap.summary_plot(shap_values, X_test_fs)"
   ]
  },
  {
   "cell_type": "code",
   "execution_count": 40,
   "id": "11862dc7",
   "metadata": {},
   "outputs": [],
   "source": [
    "# lgb.plot_importance(lgbm_model, max_num_features=20)\n",
    "# plt.figure(figsize=(25, 12))\n",
    "# plt.show()"
   ]
  },
  {
   "cell_type": "code",
   "execution_count": 89,
   "id": "2a8e5291",
   "metadata": {},
   "outputs": [],
   "source": [
    "#hyperparameter domain to search over\n",
    "hyperparam_space = {\n",
    "    'max_depth': hp.choice('max_depth', np.arange(1, 10, 1, dtype=int)), #larger values = overfitting\n",
    "    'n_estimators': hp.choice('n_estimators', np.arange(100, 500, 1, dtype=int)), #larger values = overfitting\n",
    "    'learning_rate': hp.quniform('learning_rate', 0, 1, 0.01), #aka eta = step size shrinkage to prevent overfitting\n",
    "    'gamma': hp.quniform('gamma', 0, 1, 0.05), #gamma: min loss reduction to partition leaf nodes (for overfitting)\n",
    "#     'min_child_weight': hp.quniform('min_child_weight', 1, 8, 0.5),\n",
    "#     'subsample': hp.quniform('subsample', 0.5, 1, 0.05),\n",
    "}"
   ]
  },
  {
   "cell_type": "code",
   "execution_count": null,
   "id": "a1e55c88",
   "metadata": {
    "scrolled": true
   },
   "outputs": [
    {
     "name": "stdout",
     "output_type": "stream",
     "text": [
      "[0]\tvalidation_0-logloss:0.44139\tvalidation_1-logloss:0.48486                                                                                                                        \n",
      "[1]\tvalidation_0-logloss:0.29701\tvalidation_1-logloss:0.40887                                                                                                                        \n",
      "[2]\tvalidation_0-logloss:0.21573\tvalidation_1-logloss:0.36802                                                                                                                        \n",
      "[3]\tvalidation_0-logloss:0.16739\tvalidation_1-logloss:0.34736                                                                                                                        \n",
      "[4]\tvalidation_0-logloss:0.12613\tvalidation_1-logloss:0.32766                                                                                                                        \n",
      "[5]\tvalidation_0-logloss:0.09709\tvalidation_1-logloss:0.30549                                                                                                                        \n",
      "[6]\tvalidation_0-logloss:0.07936\tvalidation_1-logloss:0.29239                                                                                                                        \n",
      "[7]\tvalidation_0-logloss:0.06561\tvalidation_1-logloss:0.28474                                                                                                                        \n",
      "[8]\tvalidation_0-logloss:0.05670\tvalidation_1-logloss:0.27764                                                                                                                        \n",
      "[9]\tvalidation_0-logloss:0.05012\tvalidation_1-logloss:0.27313                                                                                                                        \n",
      "[10]\tvalidation_0-logloss:0.04236\tvalidation_1-logloss:0.26755                                                                                                                       \n",
      "[11]\tvalidation_0-logloss:0.03665\tvalidation_1-logloss:0.26002                                                                                                                       \n",
      "[12]\tvalidation_0-logloss:0.03379\tvalidation_1-logloss:0.25784                                                                                                                       \n",
      "[13]\tvalidation_0-logloss:0.02999\tvalidation_1-logloss:0.26023                                                                                                                       \n",
      "[14]\tvalidation_0-logloss:0.02702\tvalidation_1-logloss:0.25860                                                                                                                       \n",
      "[15]\tvalidation_0-logloss:0.02476\tvalidation_1-logloss:0.25647                                                                                                                       \n",
      "[16]\tvalidation_0-logloss:0.02293\tvalidation_1-logloss:0.25600                                                                                                                       \n",
      "[17]\tvalidation_0-logloss:0.02130\tvalidation_1-logloss:0.25144                                                                                                                       \n",
      "[18]\tvalidation_0-logloss:0.02005\tvalidation_1-logloss:0.25329                                                                                                                       \n",
      "[19]\tvalidation_0-logloss:0.01921\tvalidation_1-logloss:0.25118                                                                                                                       \n",
      "[20]\tvalidation_0-logloss:0.01843\tvalidation_1-logloss:0.24722                                                                                                                       \n",
      "[21]\tvalidation_0-logloss:0.01797\tvalidation_1-logloss:0.24986                                                                                                                       \n",
      "[22]\tvalidation_0-logloss:0.01722\tvalidation_1-logloss:0.25155                                                                                                                       \n",
      "[23]\tvalidation_0-logloss:0.01663\tvalidation_1-logloss:0.25221                                                                                                                       \n",
      "[24]\tvalidation_0-logloss:0.01618\tvalidation_1-logloss:0.25062                                                                                                                       \n",
      "[25]\tvalidation_0-logloss:0.01618\tvalidation_1-logloss:0.25065                                                                                                                       \n",
      "[26]\tvalidation_0-logloss:0.01618\tvalidation_1-logloss:0.25066                                                                                                                       \n",
      "[27]\tvalidation_0-logloss:0.01618\tvalidation_1-logloss:0.25067                                                                                                                       \n",
      "[28]\tvalidation_0-logloss:0.01618\tvalidation_1-logloss:0.25068                                                                                                                       \n",
      "[29]\tvalidation_0-logloss:0.01618\tvalidation_1-logloss:0.25068                                                                                                                       \n",
      "[30]\tvalidation_0-logloss:0.01618\tvalidation_1-logloss:0.25068                                                                                                                       \n",
      "[31]\tvalidation_0-logloss:0.01618\tvalidation_1-logloss:0.25068                                                                                                                       \n",
      "[32]\tvalidation_0-logloss:0.01618\tvalidation_1-logloss:0.25068                                                                                                                       \n",
      "[33]\tvalidation_0-logloss:0.01618\tvalidation_1-logloss:0.25068                                                                                                                       \n",
      "[34]\tvalidation_0-logloss:0.01618\tvalidation_1-logloss:0.25068                                                                                                                       \n",
      "[35]\tvalidation_0-logloss:0.01618\tvalidation_1-logloss:0.25068                                                                                                                       \n",
      "[36]\tvalidation_0-logloss:0.01618\tvalidation_1-logloss:0.25068                                                                                                                       \n",
      "[37]\tvalidation_0-logloss:0.01618\tvalidation_1-logloss:0.25068                                                                                                                       \n",
      "[38]\tvalidation_0-logloss:0.01618\tvalidation_1-logloss:0.25068                                                                                                                       \n",
      "[39]\tvalidation_0-logloss:0.01618\tvalidation_1-logloss:0.25068                                                                                                                       \n",
      "-0.9571802976317734                                                                                                                                                                  \n",
      "[0]\tvalidation_0-logloss:0.38695\tvalidation_1-logloss:0.44255                                                                                                                        \n",
      "[1]\tvalidation_0-logloss:0.25381\tvalidation_1-logloss:0.38089                                                                                                                        \n",
      "[2]\tvalidation_0-logloss:0.17625\tvalidation_1-logloss:0.33696                                                                                                                        \n",
      "[3]\tvalidation_0-logloss:0.13323\tvalidation_1-logloss:0.31299                                                                                                                        \n"
     ]
    },
    {
     "name": "stdout",
     "output_type": "stream",
     "text": [
      "[4]\tvalidation_0-logloss:0.10844\tvalidation_1-logloss:0.29555                                                                                                                        \n",
      "[5]\tvalidation_0-logloss:0.09204\tvalidation_1-logloss:0.27745                                                                                                                        \n",
      "[6]\tvalidation_0-logloss:0.07329\tvalidation_1-logloss:0.27009                                                                                                                        \n",
      "[7]\tvalidation_0-logloss:0.06077\tvalidation_1-logloss:0.27143                                                                                                                        \n",
      "[8]\tvalidation_0-logloss:0.05082\tvalidation_1-logloss:0.27506                                                                                                                        \n",
      "[9]\tvalidation_0-logloss:0.04152\tvalidation_1-logloss:0.27486                                                                                                                        \n",
      "[10]\tvalidation_0-logloss:0.03503\tvalidation_1-logloss:0.27365                                                                                                                       \n",
      "[11]\tvalidation_0-logloss:0.02811\tvalidation_1-logloss:0.26404                                                                                                                       \n",
      "[12]\tvalidation_0-logloss:0.02340\tvalidation_1-logloss:0.26617                                                                                                                       \n",
      "[13]\tvalidation_0-logloss:0.02080\tvalidation_1-logloss:0.25979                                                                                                                       \n",
      "[14]\tvalidation_0-logloss:0.01895\tvalidation_1-logloss:0.25839                                                                                                                       \n",
      "[15]\tvalidation_0-logloss:0.01679\tvalidation_1-logloss:0.25947                                                                                                                       \n",
      "[16]\tvalidation_0-logloss:0.01494\tvalidation_1-logloss:0.25752                                                                                                                       \n",
      "[17]\tvalidation_0-logloss:0.01387\tvalidation_1-logloss:0.25266                                                                                                                       \n",
      "[18]\tvalidation_0-logloss:0.01282\tvalidation_1-logloss:0.24685                                                                                                                       \n",
      "[19]\tvalidation_0-logloss:0.01180\tvalidation_1-logloss:0.24383                                                                                                                       \n",
      "[20]\tvalidation_0-logloss:0.01127\tvalidation_1-logloss:0.24285                                                                                                                       \n",
      "[21]\tvalidation_0-logloss:0.01081\tvalidation_1-logloss:0.24499                                                                                                                       \n",
      "[22]\tvalidation_0-logloss:0.01033\tvalidation_1-logloss:0.24685                                                                                                                       \n",
      "[23]\tvalidation_0-logloss:0.00976\tvalidation_1-logloss:0.24745                                                                                                                       \n",
      "[24]\tvalidation_0-logloss:0.00935\tvalidation_1-logloss:0.24492                                                                                                                       \n",
      "[25]\tvalidation_0-logloss:0.00890\tvalidation_1-logloss:0.24456                                                                                                                       \n",
      "[26]\tvalidation_0-logloss:0.00890\tvalidation_1-logloss:0.24452                                                                                                                       \n",
      "[27]\tvalidation_0-logloss:0.00890\tvalidation_1-logloss:0.24450                                                                                                                       \n",
      "[28]\tvalidation_0-logloss:0.00890\tvalidation_1-logloss:0.24449                                                                                                                       \n",
      "[29]\tvalidation_0-logloss:0.00890\tvalidation_1-logloss:0.24449                                                                                                                       \n",
      "[30]\tvalidation_0-logloss:0.00890\tvalidation_1-logloss:0.24449                                                                                                                       \n",
      "[31]\tvalidation_0-logloss:0.00890\tvalidation_1-logloss:0.24449                                                                                                                       \n",
      "[32]\tvalidation_0-logloss:0.00890\tvalidation_1-logloss:0.24449                                                                                                                       \n",
      "[33]\tvalidation_0-logloss:0.00890\tvalidation_1-logloss:0.24449                                                                                                                       \n",
      "[34]\tvalidation_0-logloss:0.00890\tvalidation_1-logloss:0.24449                                                                                                                       \n",
      "[35]\tvalidation_0-logloss:0.00890\tvalidation_1-logloss:0.24449                                                                                                                       \n",
      "[36]\tvalidation_0-logloss:0.00890\tvalidation_1-logloss:0.24449                                                                                                                       \n",
      "[37]\tvalidation_0-logloss:0.00890\tvalidation_1-logloss:0.24449                                                                                                                       \n",
      "[38]\tvalidation_0-logloss:0.00890\tvalidation_1-logloss:0.24449                                                                                                                       \n",
      "[39]\tvalidation_0-logloss:0.00890\tvalidation_1-logloss:0.24449                                                                                                                       \n",
      "[40]\tvalidation_0-logloss:0.00890\tvalidation_1-logloss:0.24449                                                                                                                       \n",
      "-0.9610404410915697                                                                                                                                                                  \n",
      "[0]\tvalidation_0-logloss:0.51985\tvalidation_1-logloss:0.53265                                                                                                                        \n",
      "[1]\tvalidation_0-logloss:0.44041\tvalidation_1-logloss:0.44913                                                                                                                        \n",
      "[2]\tvalidation_0-logloss:0.39118\tvalidation_1-logloss:0.40541                                                                                                                        \n",
      "[3]\tvalidation_0-logloss:0.34957\tvalidation_1-logloss:0.36811                                                                                                                        \n",
      "[4]\tvalidation_0-logloss:0.32217\tvalidation_1-logloss:0.34347                                                                                                                        \n",
      "[5]\tvalidation_0-logloss:0.29494\tvalidation_1-logloss:0.31817                                                                                                                        \n",
      "[6]\tvalidation_0-logloss:0.27502\tvalidation_1-logloss:0.30208                                                                                                                        \n"
     ]
    },
    {
     "name": "stdout",
     "output_type": "stream",
     "text": [
      "[7]\tvalidation_0-logloss:0.26044\tvalidation_1-logloss:0.29102                                                                                                                        \n",
      "[8]\tvalidation_0-logloss:0.24603\tvalidation_1-logloss:0.27999                                                                                                                        \n",
      "[9]\tvalidation_0-logloss:0.23218\tvalidation_1-logloss:0.26952                                                                                                                        \n",
      "[10]\tvalidation_0-logloss:0.21890\tvalidation_1-logloss:0.26142                                                                                                                       \n",
      "[11]\tvalidation_0-logloss:0.21032\tvalidation_1-logloss:0.25427                                                                                                                       \n",
      "[12]\tvalidation_0-logloss:0.20102\tvalidation_1-logloss:0.25210                                                                                                                       \n",
      "[13]\tvalidation_0-logloss:0.19234\tvalidation_1-logloss:0.24150                                                                                                                       \n",
      "[14]\tvalidation_0-logloss:0.18410\tvalidation_1-logloss:0.23932                                                                                                                       \n",
      "[15]\tvalidation_0-logloss:0.17818\tvalidation_1-logloss:0.23826                                                                                                                       \n",
      "[16]\tvalidation_0-logloss:0.17091\tvalidation_1-logloss:0.23829                                                                                                                       \n",
      "[17]\tvalidation_0-logloss:0.16249\tvalidation_1-logloss:0.23544                                                                                                                       \n",
      "[18]\tvalidation_0-logloss:0.15531\tvalidation_1-logloss:0.22759                                                                                                                       \n",
      "[19]\tvalidation_0-logloss:0.14821\tvalidation_1-logloss:0.22857                                                                                                                       \n",
      "[20]\tvalidation_0-logloss:0.14140\tvalidation_1-logloss:0.22770                                                                                                                       \n",
      "[21]\tvalidation_0-logloss:0.13630\tvalidation_1-logloss:0.22987                                                                                                                       \n",
      "[22]\tvalidation_0-logloss:0.13085\tvalidation_1-logloss:0.23298                                                                                                                       \n",
      "[23]\tvalidation_0-logloss:0.12790\tvalidation_1-logloss:0.23225                                                                                                                       \n",
      "[24]\tvalidation_0-logloss:0.12248\tvalidation_1-logloss:0.23643                                                                                                                       \n",
      "[25]\tvalidation_0-logloss:0.11832\tvalidation_1-logloss:0.23423                                                                                                                       \n",
      "[26]\tvalidation_0-logloss:0.11514\tvalidation_1-logloss:0.23632                                                                                                                       \n",
      "[27]\tvalidation_0-logloss:0.11201\tvalidation_1-logloss:0.23501                                                                                                                       \n",
      "[28]\tvalidation_0-logloss:0.10876\tvalidation_1-logloss:0.23274                                                                                                                       \n",
      "[29]\tvalidation_0-logloss:0.10519\tvalidation_1-logloss:0.23179                                                                                                                       \n",
      "[30]\tvalidation_0-logloss:0.10118\tvalidation_1-logloss:0.22349                                                                                                                       \n",
      "[31]\tvalidation_0-logloss:0.09692\tvalidation_1-logloss:0.22998                                                                                                                       \n",
      "[32]\tvalidation_0-logloss:0.09406\tvalidation_1-logloss:0.23057                                                                                                                       \n",
      "[33]\tvalidation_0-logloss:0.09051\tvalidation_1-logloss:0.22960                                                                                                                       \n",
      "[34]\tvalidation_0-logloss:0.08699\tvalidation_1-logloss:0.22744                                                                                                                       \n",
      "[35]\tvalidation_0-logloss:0.08459\tvalidation_1-logloss:0.22769                                                                                                                       \n",
      "[36]\tvalidation_0-logloss:0.08152\tvalidation_1-logloss:0.22408                                                                                                                       \n",
      "[37]\tvalidation_0-logloss:0.07876\tvalidation_1-logloss:0.22030                                                                                                                       \n",
      "[38]\tvalidation_0-logloss:0.07731\tvalidation_1-logloss:0.22172                                                                                                                       \n",
      "[39]\tvalidation_0-logloss:0.07496\tvalidation_1-logloss:0.21646                                                                                                                       \n",
      "[40]\tvalidation_0-logloss:0.07255\tvalidation_1-logloss:0.21381                                                                                                                       \n",
      "[41]\tvalidation_0-logloss:0.07020\tvalidation_1-logloss:0.21480                                                                                                                       \n",
      "[42]\tvalidation_0-logloss:0.06763\tvalidation_1-logloss:0.21375                                                                                                                       \n",
      "[43]\tvalidation_0-logloss:0.06480\tvalidation_1-logloss:0.21000                                                                                                                       \n",
      "[44]\tvalidation_0-logloss:0.06247\tvalidation_1-logloss:0.21288                                                                                                                       \n",
      "[45]\tvalidation_0-logloss:0.06058\tvalidation_1-logloss:0.21437                                                                                                                       \n",
      "[46]\tvalidation_0-logloss:0.05842\tvalidation_1-logloss:0.21319                                                                                                                       \n",
      "[47]\tvalidation_0-logloss:0.05597\tvalidation_1-logloss:0.21261                                                                                                                       \n",
      "[48]\tvalidation_0-logloss:0.05447\tvalidation_1-logloss:0.21031                                                                                                                       \n",
      "[49]\tvalidation_0-logloss:0.05352\tvalidation_1-logloss:0.20956                                                                                                                       \n",
      "[50]\tvalidation_0-logloss:0.05163\tvalidation_1-logloss:0.20844                                                                                                                       \n",
      "[51]\tvalidation_0-logloss:0.04990\tvalidation_1-logloss:0.20522                                                                                                                       \n"
     ]
    },
    {
     "name": "stdout",
     "output_type": "stream",
     "text": [
      "[52]\tvalidation_0-logloss:0.04807\tvalidation_1-logloss:0.20718                                                                                                                       \n",
      "[53]\tvalidation_0-logloss:0.04622\tvalidation_1-logloss:0.20658                                                                                                                       \n",
      "[54]\tvalidation_0-logloss:0.04541\tvalidation_1-logloss:0.20755                                                                                                                       \n",
      "[55]\tvalidation_0-logloss:0.04408\tvalidation_1-logloss:0.20697                                                                                                                       \n",
      "[56]\tvalidation_0-logloss:0.04298\tvalidation_1-logloss:0.20427                                                                                                                       \n",
      "[57]\tvalidation_0-logloss:0.04202\tvalidation_1-logloss:0.20298                                                                                                                       \n",
      "[58]\tvalidation_0-logloss:0.04099\tvalidation_1-logloss:0.20322                                                                                                                       \n",
      "[59]\tvalidation_0-logloss:0.03973\tvalidation_1-logloss:0.20275                                                                                                                       \n",
      "[60]\tvalidation_0-logloss:0.03861\tvalidation_1-logloss:0.20207                                                                                                                       \n",
      "[61]\tvalidation_0-logloss:0.03750\tvalidation_1-logloss:0.20151                                                                                                                       \n",
      "[62]\tvalidation_0-logloss:0.03665\tvalidation_1-logloss:0.20184                                                                                                                       \n",
      "[63]\tvalidation_0-logloss:0.03574\tvalidation_1-logloss:0.20264                                                                                                                       \n",
      "[64]\tvalidation_0-logloss:0.03485\tvalidation_1-logloss:0.20443                                                                                                                       \n",
      "[65]\tvalidation_0-logloss:0.03426\tvalidation_1-logloss:0.20139                                                                                                                       \n",
      "[66]\tvalidation_0-logloss:0.03375\tvalidation_1-logloss:0.20280                                                                                                                       \n",
      "[67]\tvalidation_0-logloss:0.03272\tvalidation_1-logloss:0.20583                                                                                                                       \n",
      "[68]\tvalidation_0-logloss:0.03183\tvalidation_1-logloss:0.20373                                                                                                                       \n",
      "[69]\tvalidation_0-logloss:0.03134\tvalidation_1-logloss:0.20614                                                                                                                       \n",
      "[70]\tvalidation_0-logloss:0.03042\tvalidation_1-logloss:0.21155                                                                                                                       \n",
      "[71]\tvalidation_0-logloss:0.02961\tvalidation_1-logloss:0.21222                                                                                                                       \n",
      "[72]\tvalidation_0-logloss:0.02874\tvalidation_1-logloss:0.21188                                                                                                                       \n",
      "[73]\tvalidation_0-logloss:0.02778\tvalidation_1-logloss:0.21082                                                                                                                       \n",
      "[74]\tvalidation_0-logloss:0.02701\tvalidation_1-logloss:0.21222                                                                                                                       \n",
      "[75]\tvalidation_0-logloss:0.02622\tvalidation_1-logloss:0.21327                                                                                                                       \n",
      "[76]\tvalidation_0-logloss:0.02549\tvalidation_1-logloss:0.21245                                                                                                                       \n",
      "[77]\tvalidation_0-logloss:0.02509\tvalidation_1-logloss:0.21135                                                                                                                       \n",
      "[78]\tvalidation_0-logloss:0.02440\tvalidation_1-logloss:0.21102                                                                                                                       \n",
      "[79]\tvalidation_0-logloss:0.02402\tvalidation_1-logloss:0.21252                                                                                                                       \n",
      "[80]\tvalidation_0-logloss:0.02336\tvalidation_1-logloss:0.21333                                                                                                                       \n",
      "[81]\tvalidation_0-logloss:0.02297\tvalidation_1-logloss:0.21437                                                                                                                       \n",
      "[82]\tvalidation_0-logloss:0.02297\tvalidation_1-logloss:0.21439                                                                                                                       \n",
      "[83]\tvalidation_0-logloss:0.02297\tvalidation_1-logloss:0.21439                                                                                                                       \n",
      "[84]\tvalidation_0-logloss:0.02297\tvalidation_1-logloss:0.21440                                                                                                                       \n",
      "-0.9598436081129501                                                                                                                                                                  \n",
      "[0]\tvalidation_0-logloss:0.63406\tvalidation_1-logloss:0.64245                                                                                                                        \n",
      "[1]\tvalidation_0-logloss:0.57937\tvalidation_1-logloss:0.60383                                                                                                                        \n",
      "[2]\tvalidation_0-logloss:0.53176\tvalidation_1-logloss:0.56887                                                                                                                        \n",
      "[3]\tvalidation_0-logloss:0.48879\tvalidation_1-logloss:0.53935                                                                                                                        \n",
      "[4]\tvalidation_0-logloss:0.45233\tvalidation_1-logloss:0.51520                                                                                                                        \n",
      "[5]\tvalidation_0-logloss:0.41846\tvalidation_1-logloss:0.49169                                                                                                                        \n",
      "[6]\tvalidation_0-logloss:0.38931\tvalidation_1-logloss:0.47384                                                                                                                        \n",
      "[7]\tvalidation_0-logloss:0.36338\tvalidation_1-logloss:0.45367                                                                                                                        \n",
      "[8]\tvalidation_0-logloss:0.33943\tvalidation_1-logloss:0.43678                                                                                                                        \n",
      "[9]\tvalidation_0-logloss:0.31851\tvalidation_1-logloss:0.42382                                                                                                                        \n",
      "[10]\tvalidation_0-logloss:0.29760\tvalidation_1-logloss:0.41120                                                                                                                       \n"
     ]
    },
    {
     "name": "stdout",
     "output_type": "stream",
     "text": [
      "[11]\tvalidation_0-logloss:0.27850\tvalidation_1-logloss:0.39765                                                                                                                       \n",
      "[12]\tvalidation_0-logloss:0.26232\tvalidation_1-logloss:0.38825                                                                                                                       \n",
      "[13]\tvalidation_0-logloss:0.24624\tvalidation_1-logloss:0.37932                                                                                                                       \n",
      "[14]\tvalidation_0-logloss:0.23009\tvalidation_1-logloss:0.36925                                                                                                                       \n",
      "[15]\tvalidation_0-logloss:0.21575\tvalidation_1-logloss:0.35754                                                                                                                       \n",
      "[16]\tvalidation_0-logloss:0.20284\tvalidation_1-logloss:0.35059                                                                                                                       \n",
      "[17]\tvalidation_0-logloss:0.19199\tvalidation_1-logloss:0.34257                                                                                                                       \n",
      "[18]\tvalidation_0-logloss:0.18066\tvalidation_1-logloss:0.33527                                                                                                                       \n",
      "[19]\tvalidation_0-logloss:0.17086\tvalidation_1-logloss:0.33081                                                                                                                       \n",
      "[20]\tvalidation_0-logloss:0.16192\tvalidation_1-logloss:0.32579                                                                                                                       \n",
      "[21]\tvalidation_0-logloss:0.15320\tvalidation_1-logloss:0.31771                                                                                                                       \n",
      "[22]\tvalidation_0-logloss:0.14512\tvalidation_1-logloss:0.31208                                                                                                                       \n",
      "[23]\tvalidation_0-logloss:0.13684\tvalidation_1-logloss:0.30610                                                                                                                       \n",
      "[24]\tvalidation_0-logloss:0.13107\tvalidation_1-logloss:0.30164                                                                                                                       \n",
      "[25]\tvalidation_0-logloss:0.12426\tvalidation_1-logloss:0.29819                                                                                                                       \n",
      "[26]\tvalidation_0-logloss:0.11858\tvalidation_1-logloss:0.29252                                                                                                                       \n",
      "[27]\tvalidation_0-logloss:0.11259\tvalidation_1-logloss:0.29021                                                                                                                       \n",
      "[28]\tvalidation_0-logloss:0.10694\tvalidation_1-logloss:0.28727                                                                                                                       \n",
      "[29]\tvalidation_0-logloss:0.10218\tvalidation_1-logloss:0.28331                                                                                                                       \n",
      "[30]\tvalidation_0-logloss:0.09753\tvalidation_1-logloss:0.28103                                                                                                                       \n",
      "[31]\tvalidation_0-logloss:0.09335\tvalidation_1-logloss:0.27798                                                                                                                       \n",
      "[32]\tvalidation_0-logloss:0.08932\tvalidation_1-logloss:0.27500                                                                                                                       \n",
      "[33]\tvalidation_0-logloss:0.08567\tvalidation_1-logloss:0.27115                                                                                                                       \n",
      "[34]\tvalidation_0-logloss:0.08211\tvalidation_1-logloss:0.26887                                                                                                                       \n",
      "[35]\tvalidation_0-logloss:0.07869\tvalidation_1-logloss:0.26736                                                                                                                       \n",
      "[36]\tvalidation_0-logloss:0.07570\tvalidation_1-logloss:0.26521                                                                                                                       \n",
      "[37]\tvalidation_0-logloss:0.07292\tvalidation_1-logloss:0.26196                                                                                                                       \n",
      "[38]\tvalidation_0-logloss:0.07034\tvalidation_1-logloss:0.25910                                                                                                                       \n",
      "[39]\tvalidation_0-logloss:0.06815\tvalidation_1-logloss:0.25639                                                                                                                       \n",
      "[40]\tvalidation_0-logloss:0.06547\tvalidation_1-logloss:0.25441                                                                                                                       \n",
      "[41]\tvalidation_0-logloss:0.06289\tvalidation_1-logloss:0.25316                                                                                                                       \n",
      "[42]\tvalidation_0-logloss:0.06094\tvalidation_1-logloss:0.25059                                                                                                                       \n",
      "[43]\tvalidation_0-logloss:0.05898\tvalidation_1-logloss:0.24919                                                                                                                       \n",
      "[44]\tvalidation_0-logloss:0.05696\tvalidation_1-logloss:0.24838                                                                                                                       \n",
      "[45]\tvalidation_0-logloss:0.05533\tvalidation_1-logloss:0.24708                                                                                                                       \n",
      "[46]\tvalidation_0-logloss:0.05337\tvalidation_1-logloss:0.24568                                                                                                                       \n",
      "[47]\tvalidation_0-logloss:0.05163\tvalidation_1-logloss:0.24462                                                                                                                       \n",
      "[48]\tvalidation_0-logloss:0.04989\tvalidation_1-logloss:0.24305                                                                                                                       \n",
      "[49]\tvalidation_0-logloss:0.04821\tvalidation_1-logloss:0.24262                                                                                                                       \n",
      "[50]\tvalidation_0-logloss:0.04687\tvalidation_1-logloss:0.24219                                                                                                                       \n",
      "[51]\tvalidation_0-logloss:0.04540\tvalidation_1-logloss:0.24097                                                                                                                       \n",
      "[52]\tvalidation_0-logloss:0.04441\tvalidation_1-logloss:0.23946                                                                                                                       \n",
      "[53]\tvalidation_0-logloss:0.04310\tvalidation_1-logloss:0.23939                                                                                                                       \n",
      "[54]\tvalidation_0-logloss:0.04189\tvalidation_1-logloss:0.23814                                                                                                                       \n",
      "[55]\tvalidation_0-logloss:0.04062\tvalidation_1-logloss:0.23770                                                                                                                       \n"
     ]
    },
    {
     "name": "stdout",
     "output_type": "stream",
     "text": [
      "[56]\tvalidation_0-logloss:0.03933\tvalidation_1-logloss:0.23658                                                                                                                       \n",
      "[57]\tvalidation_0-logloss:0.03841\tvalidation_1-logloss:0.23603                                                                                                                       \n",
      "[58]\tvalidation_0-logloss:0.03723\tvalidation_1-logloss:0.23363                                                                                                                       \n",
      "[59]\tvalidation_0-logloss:0.03623\tvalidation_1-logloss:0.23299                                                                                                                       \n",
      "[60]\tvalidation_0-logloss:0.03521\tvalidation_1-logloss:0.23151                                                                                                                       \n",
      "[61]\tvalidation_0-logloss:0.03434\tvalidation_1-logloss:0.23143                                                                                                                       \n",
      "[62]\tvalidation_0-logloss:0.03338\tvalidation_1-logloss:0.23061                                                                                                                       \n",
      "[63]\tvalidation_0-logloss:0.03290\tvalidation_1-logloss:0.22966                                                                                                                       \n",
      "[64]\tvalidation_0-logloss:0.03211\tvalidation_1-logloss:0.22955                                                                                                                       \n",
      "[65]\tvalidation_0-logloss:0.03121\tvalidation_1-logloss:0.22982                                                                                                                       \n",
      "[66]\tvalidation_0-logloss:0.03041\tvalidation_1-logloss:0.22873                                                                                                                       \n",
      "[67]\tvalidation_0-logloss:0.02981\tvalidation_1-logloss:0.22778                                                                                                                       \n",
      "[68]\tvalidation_0-logloss:0.02908\tvalidation_1-logloss:0.22830                                                                                                                       \n",
      "[69]\tvalidation_0-logloss:0.02833\tvalidation_1-logloss:0.22853                                                                                                                       \n",
      "[70]\tvalidation_0-logloss:0.02759\tvalidation_1-logloss:0.22864                                                                                                                       \n",
      "[71]\tvalidation_0-logloss:0.02704\tvalidation_1-logloss:0.22780                                                                                                                       \n",
      "[72]\tvalidation_0-logloss:0.02644\tvalidation_1-logloss:0.22718                                                                                                                       \n",
      "[73]\tvalidation_0-logloss:0.02598\tvalidation_1-logloss:0.22657                                                                                                                       \n",
      "[74]\tvalidation_0-logloss:0.02544\tvalidation_1-logloss:0.22627                                                                                                                       \n",
      "[75]\tvalidation_0-logloss:0.02494\tvalidation_1-logloss:0.22555                                                                                                                       \n",
      "[76]\tvalidation_0-logloss:0.02438\tvalidation_1-logloss:0.22482                                                                                                                       \n",
      "[77]\tvalidation_0-logloss:0.02392\tvalidation_1-logloss:0.22387                                                                                                                       \n",
      "[78]\tvalidation_0-logloss:0.02340\tvalidation_1-logloss:0.22447                                                                                                                       \n",
      "[79]\tvalidation_0-logloss:0.02298\tvalidation_1-logloss:0.22456                                                                                                                       \n",
      "[80]\tvalidation_0-logloss:0.02247\tvalidation_1-logloss:0.22418                                                                                                                       \n",
      "[81]\tvalidation_0-logloss:0.02206\tvalidation_1-logloss:0.22319                                                                                                                       \n",
      "[82]\tvalidation_0-logloss:0.02163\tvalidation_1-logloss:0.22276                                                                                                                       \n",
      "[83]\tvalidation_0-logloss:0.02131\tvalidation_1-logloss:0.22303                                                                                                                       \n",
      "[84]\tvalidation_0-logloss:0.02089\tvalidation_1-logloss:0.22254                                                                                                                       \n",
      "[85]\tvalidation_0-logloss:0.02048\tvalidation_1-logloss:0.22204                                                                                                                       \n",
      "[86]\tvalidation_0-logloss:0.02021\tvalidation_1-logloss:0.22200                                                                                                                       \n",
      "[87]\tvalidation_0-logloss:0.01993\tvalidation_1-logloss:0.22117                                                                                                                       \n",
      "[88]\tvalidation_0-logloss:0.01958\tvalidation_1-logloss:0.22051                                                                                                                       \n",
      "[89]\tvalidation_0-logloss:0.01921\tvalidation_1-logloss:0.21989                                                                                                                       \n",
      "[90]\tvalidation_0-logloss:0.01886\tvalidation_1-logloss:0.21995                                                                                                                       \n",
      "[91]\tvalidation_0-logloss:0.01857\tvalidation_1-logloss:0.21886                                                                                                                       \n",
      "[92]\tvalidation_0-logloss:0.01824\tvalidation_1-logloss:0.21930                                                                                                                       \n",
      "[93]\tvalidation_0-logloss:0.01795\tvalidation_1-logloss:0.21941                                                                                                                       \n",
      "[94]\tvalidation_0-logloss:0.01767\tvalidation_1-logloss:0.21919                                                                                                                       \n",
      "[95]\tvalidation_0-logloss:0.01742\tvalidation_1-logloss:0.21891                                                                                                                       \n",
      "[96]\tvalidation_0-logloss:0.01714\tvalidation_1-logloss:0.21884                                                                                                                       \n",
      "[97]\tvalidation_0-logloss:0.01688\tvalidation_1-logloss:0.21924                                                                                                                       \n",
      "[98]\tvalidation_0-logloss:0.01665\tvalidation_1-logloss:0.21851                                                                                                                       \n",
      "[99]\tvalidation_0-logloss:0.01641\tvalidation_1-logloss:0.21812                                                                                                                       \n",
      "[100]\tvalidation_0-logloss:0.01620\tvalidation_1-logloss:0.21903                                                                                                                      \n"
     ]
    },
    {
     "name": "stdout",
     "output_type": "stream",
     "text": [
      "[101]\tvalidation_0-logloss:0.01596\tvalidation_1-logloss:0.21892                                                                                                                      \n",
      "[102]\tvalidation_0-logloss:0.01576\tvalidation_1-logloss:0.21925                                                                                                                      \n",
      "[103]\tvalidation_0-logloss:0.01557\tvalidation_1-logloss:0.21901                                                                                                                      \n",
      "[104]\tvalidation_0-logloss:0.01537\tvalidation_1-logloss:0.21855                                                                                                                      \n",
      "[105]\tvalidation_0-logloss:0.01522\tvalidation_1-logloss:0.21878                                                                                                                      \n",
      "[106]\tvalidation_0-logloss:0.01505\tvalidation_1-logloss:0.21862                                                                                                                      \n",
      "[107]\tvalidation_0-logloss:0.01486\tvalidation_1-logloss:0.21871                                                                                                                      \n",
      "[108]\tvalidation_0-logloss:0.01463\tvalidation_1-logloss:0.21963                                                                                                                      \n",
      "[109]\tvalidation_0-logloss:0.01445\tvalidation_1-logloss:0.21971                                                                                                                      \n",
      "[110]\tvalidation_0-logloss:0.01429\tvalidation_1-logloss:0.21971                                                                                                                      \n",
      "[111]\tvalidation_0-logloss:0.01412\tvalidation_1-logloss:0.21951                                                                                                                      \n",
      "[112]\tvalidation_0-logloss:0.01398\tvalidation_1-logloss:0.21924                                                                                                                      \n",
      "[113]\tvalidation_0-logloss:0.01381\tvalidation_1-logloss:0.21898                                                                                                                      \n",
      "[114]\tvalidation_0-logloss:0.01368\tvalidation_1-logloss:0.21888                                                                                                                      \n",
      "[115]\tvalidation_0-logloss:0.01351\tvalidation_1-logloss:0.21909                                                                                                                      \n",
      "[116]\tvalidation_0-logloss:0.01340\tvalidation_1-logloss:0.21908                                                                                                                      \n",
      "[117]\tvalidation_0-logloss:0.01327\tvalidation_1-logloss:0.21854                                                                                                                      \n",
      "[118]\tvalidation_0-logloss:0.01314\tvalidation_1-logloss:0.21808                                                                                                                      \n",
      "[119]\tvalidation_0-logloss:0.01303\tvalidation_1-logloss:0.21812                                                                                                                      \n",
      "[120]\tvalidation_0-logloss:0.01290\tvalidation_1-logloss:0.21829                                                                                                                      \n",
      "[121]\tvalidation_0-logloss:0.01277\tvalidation_1-logloss:0.21796                                                                                                                      \n",
      "[122]\tvalidation_0-logloss:0.01264\tvalidation_1-logloss:0.21814                                                                                                                      \n",
      "[123]\tvalidation_0-logloss:0.01256\tvalidation_1-logloss:0.21818                                                                                                                      \n",
      "[124]\tvalidation_0-logloss:0.01245\tvalidation_1-logloss:0.21765                                                                                                                      \n",
      "[125]\tvalidation_0-logloss:0.01235\tvalidation_1-logloss:0.21761                                                                                                                      \n",
      "[126]\tvalidation_0-logloss:0.01226\tvalidation_1-logloss:0.21757                                                                                                                      \n",
      "[127]\tvalidation_0-logloss:0.01212\tvalidation_1-logloss:0.21710                                                                                                                      \n",
      "[128]\tvalidation_0-logloss:0.01204\tvalidation_1-logloss:0.21701                                                                                                                      \n",
      "[129]\tvalidation_0-logloss:0.01194\tvalidation_1-logloss:0.21752                                                                                                                      \n",
      "[130]\tvalidation_0-logloss:0.01185\tvalidation_1-logloss:0.21761                                                                                                                      \n",
      "[131]\tvalidation_0-logloss:0.01180\tvalidation_1-logloss:0.21765                                                                                                                      \n",
      "[132]\tvalidation_0-logloss:0.01169\tvalidation_1-logloss:0.21747                                                                                                                      \n",
      "[133]\tvalidation_0-logloss:0.01158\tvalidation_1-logloss:0.21750                                                                                                                      \n",
      "[134]\tvalidation_0-logloss:0.01153\tvalidation_1-logloss:0.21747                                                                                                                      \n",
      "[135]\tvalidation_0-logloss:0.01144\tvalidation_1-logloss:0.21784                                                                                                                      \n",
      "[136]\tvalidation_0-logloss:0.01137\tvalidation_1-logloss:0.21791                                                                                                                      \n",
      "[137]\tvalidation_0-logloss:0.01132\tvalidation_1-logloss:0.21807                                                                                                                      \n",
      "[138]\tvalidation_0-logloss:0.01121\tvalidation_1-logloss:0.21776                                                                                                                      \n",
      "[139]\tvalidation_0-logloss:0.01115\tvalidation_1-logloss:0.21743                                                                                                                      \n",
      "[140]\tvalidation_0-logloss:0.01109\tvalidation_1-logloss:0.21742                                                                                                                      \n",
      "[141]\tvalidation_0-logloss:0.01109\tvalidation_1-logloss:0.21742                                                                                                                      \n",
      "[142]\tvalidation_0-logloss:0.01109\tvalidation_1-logloss:0.21742                                                                                                                      \n",
      "[143]\tvalidation_0-logloss:0.01109\tvalidation_1-logloss:0.21742                                                                                                                      \n",
      "[144]\tvalidation_0-logloss:0.01109\tvalidation_1-logloss:0.21742                                                                                                                      \n",
      "[145]\tvalidation_0-logloss:0.01109\tvalidation_1-logloss:0.21743                                                                                                                      \n"
     ]
    },
    {
     "name": "stdout",
     "output_type": "stream",
     "text": [
      "[146]\tvalidation_0-logloss:0.01109\tvalidation_1-logloss:0.21743                                                                                                                      \n",
      "[147]\tvalidation_0-logloss:0.01109\tvalidation_1-logloss:0.21743                                                                                                                      \n",
      "-0.9686428195235836                                                                                                                                                                  \n",
      "[0]\tvalidation_0-logloss:0.43489\tvalidation_1-logloss:0.47867                                                                              \n",
      "[1]\tvalidation_0-logloss:0.32952\tvalidation_1-logloss:0.40881                                                                              \n",
      "[2]\tvalidation_0-logloss:0.25847\tvalidation_1-logloss:0.36322                                                                              \n",
      "[3]\tvalidation_0-logloss:0.21227\tvalidation_1-logloss:0.33599                                                                              \n",
      "[4]\tvalidation_0-logloss:0.17089\tvalidation_1-logloss:0.31049                                                                              \n",
      "[5]\tvalidation_0-logloss:0.14891\tvalidation_1-logloss:0.30645                                                                              \n",
      "[6]\tvalidation_0-logloss:0.12771\tvalidation_1-logloss:0.29509                                                                              \n",
      "[7]\tvalidation_0-logloss:0.10973\tvalidation_1-logloss:0.29488                                                                              \n",
      "[8]\tvalidation_0-logloss:0.09662\tvalidation_1-logloss:0.29716                                                                              \n",
      "[9]\tvalidation_0-logloss:0.08602\tvalidation_1-logloss:0.28811                                                                              \n",
      "[10]\tvalidation_0-logloss:0.07114\tvalidation_1-logloss:0.28436                                                                             \n",
      "[11]\tvalidation_0-logloss:0.06185\tvalidation_1-logloss:0.27839                                                                             \n",
      "[12]\tvalidation_0-logloss:0.05515\tvalidation_1-logloss:0.27293                                                                             \n",
      "[13]\tvalidation_0-logloss:0.05146\tvalidation_1-logloss:0.26890                                                                             \n",
      "[14]\tvalidation_0-logloss:0.04603\tvalidation_1-logloss:0.27250                                                                             \n",
      "[15]\tvalidation_0-logloss:0.03859\tvalidation_1-logloss:0.27192                                                                             \n",
      "[16]\tvalidation_0-logloss:0.03512\tvalidation_1-logloss:0.27434                                                                             \n",
      "[17]\tvalidation_0-logloss:0.03102\tvalidation_1-logloss:0.27968                                                                             \n",
      "[18]\tvalidation_0-logloss:0.02757\tvalidation_1-logloss:0.28197                                                                             \n",
      "[19]\tvalidation_0-logloss:0.02539\tvalidation_1-logloss:0.28227                                                                             \n",
      "[20]\tvalidation_0-logloss:0.02359\tvalidation_1-logloss:0.28465                                                                             \n",
      "[21]\tvalidation_0-logloss:0.02088\tvalidation_1-logloss:0.28356                                                                             \n",
      "[22]\tvalidation_0-logloss:0.01866\tvalidation_1-logloss:0.28484                                                                             \n",
      "[23]\tvalidation_0-logloss:0.01686\tvalidation_1-logloss:0.27870                                                                             \n",
      "[24]\tvalidation_0-logloss:0.01554\tvalidation_1-logloss:0.27568                                                                             \n",
      "[25]\tvalidation_0-logloss:0.01419\tvalidation_1-logloss:0.27804                                                                             \n",
      "[26]\tvalidation_0-logloss:0.01329\tvalidation_1-logloss:0.27890                                                                             \n",
      "[27]\tvalidation_0-logloss:0.01234\tvalidation_1-logloss:0.27784                                                                             \n",
      "[28]\tvalidation_0-logloss:0.01152\tvalidation_1-logloss:0.27740                                                                             \n",
      "[29]\tvalidation_0-logloss:0.01064\tvalidation_1-logloss:0.27803                                                                             \n",
      "[30]\tvalidation_0-logloss:0.01007\tvalidation_1-logloss:0.27667                                                                             \n",
      "[31]\tvalidation_0-logloss:0.00941\tvalidation_1-logloss:0.28021                                                                             \n",
      "[32]\tvalidation_0-logloss:0.00894\tvalidation_1-logloss:0.28069                                                                             \n",
      " 80%|██████████████████████████████████████████████████████▍             | 4/5 [16:07<04:06, 246.01s/trial, best loss: -0.9686428195235836]"
     ]
    }
   ],
   "source": [
    "def xgb_score(params): #function to train and test different hyperparams\n",
    "    model = xgb.XGBClassifier(**params, eval_metric='logloss')\n",
    "    model.fit(X_train_fs, y_train, early_stopping_rounds=20,\n",
    "             eval_set=[(X_train_fs, y_train), (X_test_fs, y_test)])\n",
    "    score = -cross_val_score(model, X_train_fs, y_train, cv=10, scoring='roc_auc').mean()\n",
    "    print(score)\n",
    "    return {'loss': score, 'status': STATUS_OK}\n",
    "            \n",
    "def xgb_optimize(trials, space): #fmin is the main library function\n",
    "    best = fmin(xgb_score, space, algo=tpe.suggest, max_evals=5)\n",
    "    return best\n",
    "            \n",
    "trials = Trials() #database that store completed hyperparameters and score\n",
    "best_xgb_params = xgb_optimize(trials, hyperparam_space) #calls fmin"
   ]
  },
  {
   "cell_type": "code",
   "execution_count": 58,
   "id": "08f0f315",
   "metadata": {
    "scrolled": false
   },
   "outputs": [
    {
     "data": {
      "text/plain": [
       "{'gamma': 0.55,\n",
       " 'learning_rate': 0.26,\n",
       " 'max_depth': 6,\n",
       " 'min_child_weight': 2.5,\n",
       " 'n_estimators': 183,\n",
       " 'subsample': 0.65}"
      ]
     },
     "execution_count": 58,
     "metadata": {},
     "output_type": "execute_result"
    }
   ],
   "source": [
    "best_xgb_params"
   ]
  },
  {
   "cell_type": "code",
   "execution_count": 59,
   "id": "7220bdaa",
   "metadata": {},
   "outputs": [
    {
     "name": "stdout",
     "output_type": "stream",
     "text": [
      "auc_roc:  0.9512939491140108\n",
      "F1 Score: 0.8875379939209727\n",
      "[[177  20]\n",
      " [ 17 146]]\n",
      "              precision    recall  f1-score   support\n",
      "\n",
      "           0       0.91      0.90      0.91       197\n",
      "           1       0.88      0.90      0.89       163\n",
      "\n",
      "    accuracy                           0.90       360\n",
      "   macro avg       0.90      0.90      0.90       360\n",
      "weighted avg       0.90      0.90      0.90       360\n",
      "\n"
     ]
    }
   ],
   "source": [
    "xgb_model = xgb.XGBClassifier(**best_xgb_params, eval_metric='logloss')\n",
    "xgb_model.fit(X_train_fs, y_train)\n",
    "preds = [pred[1] for pred in xgb_model.predict_proba(X_test_fs)]\n",
    "score = roc_auc_score(y_test, preds, average='weighted')\n",
    "print('auc_roc: ', score)\n",
    "\n",
    "y_pred = xgb_model.predict(X_test_fs)\n",
    "f1=f1_score(y_test, y_pred)\n",
    "print('F1 Score:', f1)\n",
    "print(confusion_matrix(y_test, y_pred))\n",
    "print(classification_report(y_test, y_pred))"
   ]
  },
  {
   "cell_type": "code",
   "execution_count": null,
   "id": "a5226268",
   "metadata": {},
   "outputs": [],
   "source": [
    "xgb_model.save_model(\"xgb_model.txt\")"
   ]
  },
  {
   "cell_type": "code",
   "execution_count": null,
   "id": "d81b4875",
   "metadata": {},
   "outputs": [],
   "source": []
  },
  {
   "cell_type": "code",
   "execution_count": null,
   "id": "8b8eb861",
   "metadata": {},
   "outputs": [],
   "source": [
    "saved_model = xgb.Booster()\n",
    "saved_model.load_model(\"xgb_model.txt\")"
   ]
  },
  {
   "cell_type": "code",
   "execution_count": null,
   "id": "4bfcf865",
   "metadata": {},
   "outputs": [],
   "source": []
  },
  {
   "cell_type": "code",
   "execution_count": null,
   "id": "097d3664",
   "metadata": {},
   "outputs": [],
   "source": []
  },
  {
   "cell_type": "code",
   "execution_count": null,
   "id": "c5443790",
   "metadata": {},
   "outputs": [],
   "source": []
  },
  {
   "cell_type": "code",
   "execution_count": 45,
   "id": "e36922ef",
   "metadata": {},
   "outputs": [
    {
     "data": {
      "image/png": "[encoded data removed]",
      "text/plain": [
       "<Figure size 576x684 with 2 Axes>"
      ]
     },
     "metadata": {
      "needs_background": "light"
     },
     "output_type": "display_data"
    }
   ],
   "source": [
    "shap_values = shap.TreeExplainer(xgb_model).shap_values(X_test_fs)\n",
    "shap.summary_plot(shap_values, X_test_fs)"
   ]
  },
  {
   "cell_type": "code",
   "execution_count": 46,
   "id": "af9c75d1",
   "metadata": {},
   "outputs": [
    {
     "data": {
      "image/png": "[encoded data removed]",
      "text/plain": [
       "<Figure size 432x288 with 1 Axes>"
      ]
     },
     "metadata": {
      "needs_background": "light"
     },
     "output_type": "display_data"
    },
    {
     "data": {
      "text/plain": [
       "<Figure size 1800x864 with 0 Axes>"
      ]
     },
     "metadata": {},
     "output_type": "display_data"
    }
   ],
   "source": [
    "xgb.plot_importance(xgb_model, importance_type='cover', max_num_features=20)\n",
    "plt.figure(figsize=(25, 12))\n",
    "plt.show()"
   ]
  },
  {
   "cell_type": "code",
   "execution_count": null,
   "id": "9e48298e",
   "metadata": {},
   "outputs": [],
   "source": []
  },
  {
   "cell_type": "code",
   "execution_count": null,
   "id": "2f22e897",
   "metadata": {},
   "outputs": [],
   "source": []
  },
  {
   "cell_type": "code",
   "execution_count": null,
   "id": "aa137be4",
   "metadata": {},
   "outputs": [],
   "source": []
  },
  {
   "cell_type": "code",
   "execution_count": null,
   "id": "3ef06df0",
   "metadata": {},
   "outputs": [],
   "source": []
  },
  {
   "cell_type": "markdown",
   "id": "4b06e8e7",
   "metadata": {},
   "source": [
    "## Conclusions"
   ]
  },
  {
   "cell_type": "markdown",
   "id": "02eaaccb",
   "metadata": {},
   "source": [
    "## Visualizations should include the above ROC plots, SHAP plots, as well as the built in feature importance plots."
   ]
  },
  {
   "cell_type": "code",
   "execution_count": null,
   "id": "f94ce86a",
   "metadata": {},
   "outputs": [],
   "source": []
  },
  {
   "cell_type": "code",
   "execution_count": null,
   "id": "ff3b9709",
   "metadata": {},
   "outputs": [],
   "source": []
  },
  {
   "cell_type": "code",
   "execution_count": null,
   "id": "d1f8d681",
   "metadata": {},
   "outputs": [],
   "source": []
  },
  {
   "cell_type": "code",
   "execution_count": null,
   "id": "644a06ea",
   "metadata": {},
   "outputs": [],
   "source": []
  },
  {
   "cell_type": "code",
   "execution_count": null,
   "id": "334910bf",
   "metadata": {},
   "outputs": [],
   "source": []
  },
  {
   "cell_type": "code",
   "execution_count": null,
   "id": "f8dda090",
   "metadata": {},
   "outputs": [],
   "source": []
  },
  {
   "cell_type": "markdown",
   "id": "84a47da5",
   "metadata": {},
   "source": [
    "# scrap the below in final version"
   ]
  },
  {
   "cell_type": "markdown",
   "id": "178f54a2",
   "metadata": {},
   "source": [
    "### Anomaly Detection Approach??"
   ]
  },
  {
   "cell_type": "code",
   "execution_count": 47,
   "id": "89b83f23",
   "metadata": {},
   "outputs": [
    {
     "data": {
      "text/plain": [
       "(18000, 714)"
      ]
     },
     "execution_count": 47,
     "metadata": {},
     "output_type": "execute_result"
    }
   ],
   "source": [
    "df1.shape #go back to original dataset"
   ]
  },
  {
   "cell_type": "code",
   "execution_count": 48,
   "id": "45f14f3d",
   "metadata": {},
   "outputs": [],
   "source": [
    "df1 = df1._get_numeric_data() #drop nonnumeric columns"
   ]
  },
  {
   "cell_type": "markdown",
   "id": "e77293c3",
   "metadata": {},
   "source": [
    "#### Isolation Forest"
   ]
  },
  {
   "cell_type": "markdown",
   "id": "e8ab2ea7",
   "metadata": {},
   "source": [
    "Setting contamination rate to 5% as seen in original data, using 200 estimators."
   ]
  },
  {
   "cell_type": "code",
   "execution_count": 49,
   "id": "61238ad1",
   "metadata": {},
   "outputs": [
    {
     "data": {
      "text/plain": [
       "(900, 694)"
      ]
     },
     "execution_count": 49,
     "metadata": {},
     "output_type": "execute_result"
    }
   ],
   "source": [
    "iso = IsolationForest(n_estimators=200, max_samples='auto', contamination=0.05)\n",
    "new_df = df1.drop(columns=['category'])\n",
    "iso.fit(new_df)\n",
    "new_df['anomaly_score'] = iso.predict(new_df)\n",
    "new_df[new_df['anomaly_score'] == -1].shape"
   ]
  },
  {
   "cell_type": "markdown",
   "id": "f371722c",
   "metadata": {},
   "source": [
    "As expected, found 900 \"outliers\" (in our case malware)."
   ]
  },
  {
   "cell_type": "code",
   "execution_count": 50,
   "id": "ff4126ba",
   "metadata": {},
   "outputs": [
    {
     "data": {
      "text/html": [
       "<div>\n",
       "<style scoped>\n",
       "    .dataframe tbody tr th:only-of-type {\n",
       "        vertical-align: middle;\n",
       "    }\n",
       "\n",
       "    .dataframe tbody tr th {\n",
       "        vertical-align: top;\n",
       "    }\n",
       "\n",
       "    .dataframe thead th {\n",
       "        text-align: right;\n",
       "    }\n",
       "</style>\n",
       "<table border=\"1\" class=\"dataframe\">\n",
       "  <thead>\n",
       "    <tr style=\"text-align: right;\">\n",
       "      <th></th>\n",
       "      <th>histogram_0</th>\n",
       "      <th>histogram_1</th>\n",
       "      <th>histogram_2</th>\n",
       "      <th>histogram_3</th>\n",
       "      <th>histogram_4</th>\n",
       "      <th>histogram_5</th>\n",
       "      <th>histogram_6</th>\n",
       "      <th>histogram_7</th>\n",
       "      <th>histogram_8</th>\n",
       "      <th>histogram_9</th>\n",
       "      <th>...</th>\n",
       "      <th>datadirectories_12_size</th>\n",
       "      <th>datadirectories_12_virtual_address</th>\n",
       "      <th>datadirectories_13_size</th>\n",
       "      <th>datadirectories_13_virtual_address</th>\n",
       "      <th>datadirectories_14_size</th>\n",
       "      <th>datadirectories_14_virtual_address</th>\n",
       "      <th>datadirectories_15_size</th>\n",
       "      <th>datadirectories_15_virtual_address</th>\n",
       "      <th>anomaly_score</th>\n",
       "      <th>category</th>\n",
       "    </tr>\n",
       "  </thead>\n",
       "  <tbody>\n",
       "    <tr>\n",
       "      <th>0</th>\n",
       "      <td>127242</td>\n",
       "      <td>9185</td>\n",
       "      <td>3818</td>\n",
       "      <td>3127</td>\n",
       "      <td>13300</td>\n",
       "      <td>1594</td>\n",
       "      <td>1781</td>\n",
       "      <td>1493</td>\n",
       "      <td>9938</td>\n",
       "      <td>1006</td>\n",
       "      <td>...</td>\n",
       "      <td>620</td>\n",
       "      <td>11711244</td>\n",
       "      <td>0</td>\n",
       "      <td>0</td>\n",
       "      <td>0</td>\n",
       "      <td>0</td>\n",
       "      <td>0</td>\n",
       "      <td>0</td>\n",
       "      <td>1</td>\n",
       "      <td>0</td>\n",
       "    </tr>\n",
       "    <tr>\n",
       "      <th>1</th>\n",
       "      <td>36152</td>\n",
       "      <td>2617</td>\n",
       "      <td>4120</td>\n",
       "      <td>876</td>\n",
       "      <td>1711</td>\n",
       "      <td>755</td>\n",
       "      <td>672</td>\n",
       "      <td>521</td>\n",
       "      <td>2278</td>\n",
       "      <td>325</td>\n",
       "      <td>...</td>\n",
       "      <td>340</td>\n",
       "      <td>131072</td>\n",
       "      <td>0</td>\n",
       "      <td>0</td>\n",
       "      <td>0</td>\n",
       "      <td>0</td>\n",
       "      <td>0</td>\n",
       "      <td>0</td>\n",
       "      <td>1</td>\n",
       "      <td>0</td>\n",
       "    </tr>\n",
       "    <tr>\n",
       "      <th>2</th>\n",
       "      <td>39986</td>\n",
       "      <td>7112</td>\n",
       "      <td>7953</td>\n",
       "      <td>6604</td>\n",
       "      <td>6542</td>\n",
       "      <td>6441</td>\n",
       "      <td>5869</td>\n",
       "      <td>6422</td>\n",
       "      <td>6224</td>\n",
       "      <td>6017</td>\n",
       "      <td>...</td>\n",
       "      <td>588</td>\n",
       "      <td>123728</td>\n",
       "      <td>0</td>\n",
       "      <td>0</td>\n",
       "      <td>0</td>\n",
       "      <td>0</td>\n",
       "      <td>0</td>\n",
       "      <td>0</td>\n",
       "      <td>1</td>\n",
       "      <td>0</td>\n",
       "    </tr>\n",
       "    <tr>\n",
       "      <th>3</th>\n",
       "      <td>253873</td>\n",
       "      <td>32714</td>\n",
       "      <td>22629</td>\n",
       "      <td>17500</td>\n",
       "      <td>15355</td>\n",
       "      <td>6691</td>\n",
       "      <td>10881</td>\n",
       "      <td>4258</td>\n",
       "      <td>11992</td>\n",
       "      <td>3513</td>\n",
       "      <td>...</td>\n",
       "      <td>216</td>\n",
       "      <td>282920</td>\n",
       "      <td>0</td>\n",
       "      <td>0</td>\n",
       "      <td>0</td>\n",
       "      <td>0</td>\n",
       "      <td>0</td>\n",
       "      <td>0</td>\n",
       "      <td>1</td>\n",
       "      <td>0</td>\n",
       "    </tr>\n",
       "    <tr>\n",
       "      <th>4</th>\n",
       "      <td>12464</td>\n",
       "      <td>1020</td>\n",
       "      <td>502</td>\n",
       "      <td>264</td>\n",
       "      <td>1918</td>\n",
       "      <td>218</td>\n",
       "      <td>262</td>\n",
       "      <td>91</td>\n",
       "      <td>846</td>\n",
       "      <td>78</td>\n",
       "      <td>...</td>\n",
       "      <td>0</td>\n",
       "      <td>0</td>\n",
       "      <td>0</td>\n",
       "      <td>0</td>\n",
       "      <td>0</td>\n",
       "      <td>0</td>\n",
       "      <td>0</td>\n",
       "      <td>0</td>\n",
       "      <td>1</td>\n",
       "      <td>0</td>\n",
       "    </tr>\n",
       "    <tr>\n",
       "      <th>5</th>\n",
       "      <td>17889</td>\n",
       "      <td>1281</td>\n",
       "      <td>868</td>\n",
       "      <td>642</td>\n",
       "      <td>914</td>\n",
       "      <td>138</td>\n",
       "      <td>311</td>\n",
       "      <td>148</td>\n",
       "      <td>433</td>\n",
       "      <td>82</td>\n",
       "      <td>...</td>\n",
       "      <td>0</td>\n",
       "      <td>0</td>\n",
       "      <td>0</td>\n",
       "      <td>0</td>\n",
       "      <td>0</td>\n",
       "      <td>0</td>\n",
       "      <td>0</td>\n",
       "      <td>0</td>\n",
       "      <td>1</td>\n",
       "      <td>0</td>\n",
       "    </tr>\n",
       "    <tr>\n",
       "      <th>6</th>\n",
       "      <td>224255</td>\n",
       "      <td>28215</td>\n",
       "      <td>12691</td>\n",
       "      <td>13046</td>\n",
       "      <td>21264</td>\n",
       "      <td>4115</td>\n",
       "      <td>3790</td>\n",
       "      <td>3590</td>\n",
       "      <td>11766</td>\n",
       "      <td>1889</td>\n",
       "      <td>...</td>\n",
       "      <td>408</td>\n",
       "      <td>1188328</td>\n",
       "      <td>0</td>\n",
       "      <td>0</td>\n",
       "      <td>0</td>\n",
       "      <td>0</td>\n",
       "      <td>0</td>\n",
       "      <td>0</td>\n",
       "      <td>1</td>\n",
       "      <td>0</td>\n",
       "    </tr>\n",
       "    <tr>\n",
       "      <th>7</th>\n",
       "      <td>14195</td>\n",
       "      <td>1054</td>\n",
       "      <td>778</td>\n",
       "      <td>1068</td>\n",
       "      <td>291</td>\n",
       "      <td>653</td>\n",
       "      <td>251</td>\n",
       "      <td>249</td>\n",
       "      <td>338</td>\n",
       "      <td>164</td>\n",
       "      <td>...</td>\n",
       "      <td>0</td>\n",
       "      <td>0</td>\n",
       "      <td>0</td>\n",
       "      <td>0</td>\n",
       "      <td>0</td>\n",
       "      <td>0</td>\n",
       "      <td>0</td>\n",
       "      <td>0</td>\n",
       "      <td>1</td>\n",
       "      <td>0</td>\n",
       "    </tr>\n",
       "    <tr>\n",
       "      <th>8</th>\n",
       "      <td>48208</td>\n",
       "      <td>3288</td>\n",
       "      <td>1441</td>\n",
       "      <td>2611</td>\n",
       "      <td>4938</td>\n",
       "      <td>313</td>\n",
       "      <td>266</td>\n",
       "      <td>635</td>\n",
       "      <td>2104</td>\n",
       "      <td>231</td>\n",
       "      <td>...</td>\n",
       "      <td>1284</td>\n",
       "      <td>230880</td>\n",
       "      <td>0</td>\n",
       "      <td>0</td>\n",
       "      <td>0</td>\n",
       "      <td>0</td>\n",
       "      <td>0</td>\n",
       "      <td>0</td>\n",
       "      <td>1</td>\n",
       "      <td>0</td>\n",
       "    </tr>\n",
       "    <tr>\n",
       "      <th>9</th>\n",
       "      <td>370224</td>\n",
       "      <td>37570</td>\n",
       "      <td>24575</td>\n",
       "      <td>18127</td>\n",
       "      <td>40687</td>\n",
       "      <td>15614</td>\n",
       "      <td>12405</td>\n",
       "      <td>11777</td>\n",
       "      <td>24099</td>\n",
       "      <td>5331</td>\n",
       "      <td>...</td>\n",
       "      <td>0</td>\n",
       "      <td>0</td>\n",
       "      <td>0</td>\n",
       "      <td>0</td>\n",
       "      <td>0</td>\n",
       "      <td>0</td>\n",
       "      <td>0</td>\n",
       "      <td>0</td>\n",
       "      <td>1</td>\n",
       "      <td>0</td>\n",
       "    </tr>\n",
       "  </tbody>\n",
       "</table>\n",
       "<p>10 rows × 695 columns</p>\n",
       "</div>"
      ],
      "text/plain": [
       "   histogram_0  histogram_1  histogram_2  histogram_3  histogram_4  \\\n",
       "0       127242         9185         3818         3127        13300   \n",
       "1        36152         2617         4120          876         1711   \n",
       "2        39986         7112         7953         6604         6542   \n",
       "3       253873        32714        22629        17500        15355   \n",
       "4        12464         1020          502          264         1918   \n",
       "5        17889         1281          868          642          914   \n",
       "6       224255        28215        12691        13046        21264   \n",
       "7        14195         1054          778         1068          291   \n",
       "8        48208         3288         1441         2611         4938   \n",
       "9       370224        37570        24575        18127        40687   \n",
       "\n",
       "   histogram_5  histogram_6  histogram_7  histogram_8  histogram_9  ...  \\\n",
       "0         1594         1781         1493         9938         1006  ...   \n",
       "1          755          672          521         2278          325  ...   \n",
       "2         6441         5869         6422         6224         6017  ...   \n",
       "3         6691        10881         4258        11992         3513  ...   \n",
       "4          218          262           91          846           78  ...   \n",
       "5          138          311          148          433           82  ...   \n",
       "6         4115         3790         3590        11766         1889  ...   \n",
       "7          653          251          249          338          164  ...   \n",
       "8          313          266          635         2104          231  ...   \n",
       "9        15614        12405        11777        24099         5331  ...   \n",
       "\n",
       "   datadirectories_12_size  datadirectories_12_virtual_address  \\\n",
       "0                      620                            11711244   \n",
       "1                      340                              131072   \n",
       "2                      588                              123728   \n",
       "3                      216                              282920   \n",
       "4                        0                                   0   \n",
       "5                        0                                   0   \n",
       "6                      408                             1188328   \n",
       "7                        0                                   0   \n",
       "8                     1284                              230880   \n",
       "9                        0                                   0   \n",
       "\n",
       "   datadirectories_13_size  datadirectories_13_virtual_address  \\\n",
       "0                        0                                   0   \n",
       "1                        0                                   0   \n",
       "2                        0                                   0   \n",
       "3                        0                                   0   \n",
       "4                        0                                   0   \n",
       "5                        0                                   0   \n",
       "6                        0                                   0   \n",
       "7                        0                                   0   \n",
       "8                        0                                   0   \n",
       "9                        0                                   0   \n",
       "\n",
       "   datadirectories_14_size  datadirectories_14_virtual_address  \\\n",
       "0                        0                                   0   \n",
       "1                        0                                   0   \n",
       "2                        0                                   0   \n",
       "3                        0                                   0   \n",
       "4                        0                                   0   \n",
       "5                        0                                   0   \n",
       "6                        0                                   0   \n",
       "7                        0                                   0   \n",
       "8                        0                                   0   \n",
       "9                        0                                   0   \n",
       "\n",
       "   datadirectories_15_size  datadirectories_15_virtual_address  anomaly_score  \\\n",
       "0                        0                                   0              1   \n",
       "1                        0                                   0              1   \n",
       "2                        0                                   0              1   \n",
       "3                        0                                   0              1   \n",
       "4                        0                                   0              1   \n",
       "5                        0                                   0              1   \n",
       "6                        0                                   0              1   \n",
       "7                        0                                   0              1   \n",
       "8                        0                                   0              1   \n",
       "9                        0                                   0              1   \n",
       "\n",
       "   category  \n",
       "0         0  \n",
       "1         0  \n",
       "2         0  \n",
       "3         0  \n",
       "4         0  \n",
       "5         0  \n",
       "6         0  \n",
       "7         0  \n",
       "8         0  \n",
       "9         0  \n",
       "\n",
       "[10 rows x 695 columns]"
      ]
     },
     "execution_count": 50,
     "metadata": {},
     "output_type": "execute_result"
    }
   ],
   "source": [
    "iso_df = pd.concat([new_df, df1['category']], axis=1) #join the anomaly prediction with og data\n",
    "iso_df.head(10)"
   ]
  },
  {
   "cell_type": "code",
   "execution_count": 51,
   "id": "db636f68",
   "metadata": {},
   "outputs": [
    {
     "data": {
      "text/plain": [
       "anomaly_score\n",
       "-1      900\n",
       " 1    17100\n",
       "dtype: int64"
      ]
     },
     "execution_count": 51,
     "metadata": {},
     "output_type": "execute_result"
    }
   ],
   "source": [
    "iso_df.groupby('anomaly_score').size() #sanity check"
   ]
  },
  {
   "cell_type": "code",
   "execution_count": 52,
   "id": "bd0f404f",
   "metadata": {},
   "outputs": [],
   "source": [
    "iso_df['anomaly'] = \"\" #add new empty column to switch out -1 to 1 and 1 to 0"
   ]
  },
  {
   "cell_type": "code",
   "execution_count": 53,
   "id": "107742d9",
   "metadata": {},
   "outputs": [],
   "source": [
    "iso_df.loc[iso_df.anomaly_score == -1, \"anomaly\"] = 1\n",
    "iso_df.loc[iso_df.anomaly_score == 1, \"anomaly\"] = 0"
   ]
  },
  {
   "cell_type": "code",
   "execution_count": 54,
   "id": "01dca1fe",
   "metadata": {},
   "outputs": [
    {
     "name": "stdout",
     "output_type": "stream",
     "text": [
      "anomaly\n",
      "0    17100\n",
      "1      900\n",
      "dtype: int64 category\n",
      "0    17100\n",
      "1      900\n",
      "dtype: int64\n"
     ]
    }
   ],
   "source": [
    "print(iso_df.groupby('anomaly').size(), iso_df.groupby('category').size())"
   ]
  },
  {
   "cell_type": "code",
   "execution_count": 55,
   "id": "64fc2bd1",
   "metadata": {},
   "outputs": [
    {
     "data": {
      "text/html": [
       "<div>\n",
       "<style scoped>\n",
       "    .dataframe tbody tr th:only-of-type {\n",
       "        vertical-align: middle;\n",
       "    }\n",
       "\n",
       "    .dataframe tbody tr th {\n",
       "        vertical-align: top;\n",
       "    }\n",
       "\n",
       "    .dataframe thead th {\n",
       "        text-align: right;\n",
       "    }\n",
       "</style>\n",
       "<table border=\"1\" class=\"dataframe\">\n",
       "  <thead>\n",
       "    <tr style=\"text-align: right;\">\n",
       "      <th></th>\n",
       "      <th>histogram_0</th>\n",
       "      <th>histogram_1</th>\n",
       "      <th>histogram_2</th>\n",
       "      <th>histogram_3</th>\n",
       "      <th>histogram_4</th>\n",
       "      <th>histogram_5</th>\n",
       "      <th>histogram_6</th>\n",
       "      <th>histogram_7</th>\n",
       "      <th>histogram_8</th>\n",
       "      <th>histogram_9</th>\n",
       "      <th>...</th>\n",
       "      <th>datadirectories_12_virtual_address</th>\n",
       "      <th>datadirectories_13_size</th>\n",
       "      <th>datadirectories_13_virtual_address</th>\n",
       "      <th>datadirectories_14_size</th>\n",
       "      <th>datadirectories_14_virtual_address</th>\n",
       "      <th>datadirectories_15_size</th>\n",
       "      <th>datadirectories_15_virtual_address</th>\n",
       "      <th>anomaly_score</th>\n",
       "      <th>category</th>\n",
       "      <th>anomaly</th>\n",
       "    </tr>\n",
       "  </thead>\n",
       "  <tbody>\n",
       "    <tr>\n",
       "      <th>0</th>\n",
       "      <td>127242</td>\n",
       "      <td>9185</td>\n",
       "      <td>3818</td>\n",
       "      <td>3127</td>\n",
       "      <td>13300</td>\n",
       "      <td>1594</td>\n",
       "      <td>1781</td>\n",
       "      <td>1493</td>\n",
       "      <td>9938</td>\n",
       "      <td>1006</td>\n",
       "      <td>...</td>\n",
       "      <td>11711244</td>\n",
       "      <td>0</td>\n",
       "      <td>0</td>\n",
       "      <td>0</td>\n",
       "      <td>0</td>\n",
       "      <td>0</td>\n",
       "      <td>0</td>\n",
       "      <td>1</td>\n",
       "      <td>0</td>\n",
       "      <td>0</td>\n",
       "    </tr>\n",
       "    <tr>\n",
       "      <th>1</th>\n",
       "      <td>36152</td>\n",
       "      <td>2617</td>\n",
       "      <td>4120</td>\n",
       "      <td>876</td>\n",
       "      <td>1711</td>\n",
       "      <td>755</td>\n",
       "      <td>672</td>\n",
       "      <td>521</td>\n",
       "      <td>2278</td>\n",
       "      <td>325</td>\n",
       "      <td>...</td>\n",
       "      <td>131072</td>\n",
       "      <td>0</td>\n",
       "      <td>0</td>\n",
       "      <td>0</td>\n",
       "      <td>0</td>\n",
       "      <td>0</td>\n",
       "      <td>0</td>\n",
       "      <td>1</td>\n",
       "      <td>0</td>\n",
       "      <td>0</td>\n",
       "    </tr>\n",
       "    <tr>\n",
       "      <th>2</th>\n",
       "      <td>39986</td>\n",
       "      <td>7112</td>\n",
       "      <td>7953</td>\n",
       "      <td>6604</td>\n",
       "      <td>6542</td>\n",
       "      <td>6441</td>\n",
       "      <td>5869</td>\n",
       "      <td>6422</td>\n",
       "      <td>6224</td>\n",
       "      <td>6017</td>\n",
       "      <td>...</td>\n",
       "      <td>123728</td>\n",
       "      <td>0</td>\n",
       "      <td>0</td>\n",
       "      <td>0</td>\n",
       "      <td>0</td>\n",
       "      <td>0</td>\n",
       "      <td>0</td>\n",
       "      <td>1</td>\n",
       "      <td>0</td>\n",
       "      <td>0</td>\n",
       "    </tr>\n",
       "    <tr>\n",
       "      <th>3</th>\n",
       "      <td>253873</td>\n",
       "      <td>32714</td>\n",
       "      <td>22629</td>\n",
       "      <td>17500</td>\n",
       "      <td>15355</td>\n",
       "      <td>6691</td>\n",
       "      <td>10881</td>\n",
       "      <td>4258</td>\n",
       "      <td>11992</td>\n",
       "      <td>3513</td>\n",
       "      <td>...</td>\n",
       "      <td>282920</td>\n",
       "      <td>0</td>\n",
       "      <td>0</td>\n",
       "      <td>0</td>\n",
       "      <td>0</td>\n",
       "      <td>0</td>\n",
       "      <td>0</td>\n",
       "      <td>1</td>\n",
       "      <td>0</td>\n",
       "      <td>0</td>\n",
       "    </tr>\n",
       "    <tr>\n",
       "      <th>4</th>\n",
       "      <td>12464</td>\n",
       "      <td>1020</td>\n",
       "      <td>502</td>\n",
       "      <td>264</td>\n",
       "      <td>1918</td>\n",
       "      <td>218</td>\n",
       "      <td>262</td>\n",
       "      <td>91</td>\n",
       "      <td>846</td>\n",
       "      <td>78</td>\n",
       "      <td>...</td>\n",
       "      <td>0</td>\n",
       "      <td>0</td>\n",
       "      <td>0</td>\n",
       "      <td>0</td>\n",
       "      <td>0</td>\n",
       "      <td>0</td>\n",
       "      <td>0</td>\n",
       "      <td>1</td>\n",
       "      <td>0</td>\n",
       "      <td>0</td>\n",
       "    </tr>\n",
       "  </tbody>\n",
       "</table>\n",
       "<p>5 rows × 696 columns</p>\n",
       "</div>"
      ],
      "text/plain": [
       "   histogram_0  histogram_1  histogram_2  histogram_3  histogram_4  \\\n",
       "0       127242         9185         3818         3127        13300   \n",
       "1        36152         2617         4120          876         1711   \n",
       "2        39986         7112         7953         6604         6542   \n",
       "3       253873        32714        22629        17500        15355   \n",
       "4        12464         1020          502          264         1918   \n",
       "\n",
       "   histogram_5  histogram_6  histogram_7  histogram_8  histogram_9  ...  \\\n",
       "0         1594         1781         1493         9938         1006  ...   \n",
       "1          755          672          521         2278          325  ...   \n",
       "2         6441         5869         6422         6224         6017  ...   \n",
       "3         6691        10881         4258        11992         3513  ...   \n",
       "4          218          262           91          846           78  ...   \n",
       "\n",
       "   datadirectories_12_virtual_address  datadirectories_13_size  \\\n",
       "0                            11711244                        0   \n",
       "1                              131072                        0   \n",
       "2                              123728                        0   \n",
       "3                              282920                        0   \n",
       "4                                   0                        0   \n",
       "\n",
       "   datadirectories_13_virtual_address  datadirectories_14_size  \\\n",
       "0                                   0                        0   \n",
       "1                                   0                        0   \n",
       "2                                   0                        0   \n",
       "3                                   0                        0   \n",
       "4                                   0                        0   \n",
       "\n",
       "   datadirectories_14_virtual_address  datadirectories_15_size  \\\n",
       "0                                   0                        0   \n",
       "1                                   0                        0   \n",
       "2                                   0                        0   \n",
       "3                                   0                        0   \n",
       "4                                   0                        0   \n",
       "\n",
       "   datadirectories_15_virtual_address  anomaly_score  category  anomaly  \n",
       "0                                   0              1         0        0  \n",
       "1                                   0              1         0        0  \n",
       "2                                   0              1         0        0  \n",
       "3                                   0              1         0        0  \n",
       "4                                   0              1         0        0  \n",
       "\n",
       "[5 rows x 696 columns]"
      ]
     },
     "execution_count": 55,
     "metadata": {},
     "output_type": "execute_result"
    }
   ],
   "source": [
    "iso_df.head(5)"
   ]
  },
  {
   "cell_type": "markdown",
   "id": "7e9ecb75",
   "metadata": {},
   "source": [
    "Calculate f1 score between new anomaly column and given category column."
   ]
  },
  {
   "cell_type": "code",
   "execution_count": 56,
   "id": "0d40528a",
   "metadata": {
    "scrolled": true
   },
   "outputs": [
    {
     "data": {
      "text/plain": [
       "0.01"
      ]
     },
     "execution_count": 56,
     "metadata": {},
     "output_type": "execute_result"
    }
   ],
   "source": [
    "f1_score(list(iso_df['category']), list(iso_df['anomaly']))"
   ]
  },
  {
   "cell_type": "markdown",
   "id": "809e1745",
   "metadata": {},
   "source": [
    "### what happened???"
   ]
  },
  {
   "cell_type": "code",
   "execution_count": null,
   "id": "08938ea2",
   "metadata": {},
   "outputs": [],
   "source": []
  },
  {
   "cell_type": "code",
   "execution_count": null,
   "id": "6cf7ac34",
   "metadata": {},
   "outputs": [],
   "source": []
  },
  {
   "cell_type": "code",
   "execution_count": null,
   "id": "183602ee",
   "metadata": {},
   "outputs": [],
   "source": []
  }
 ],
 "metadata": {
  "hide_input": false,
  "kernelspec": {
   "display_name": "Python 3 (ipykernel)",
   "language": "python",
   "name": "python3"
  },
  "language_info": {
   "codemirror_mode": {
    "name": "ipython",
    "version": 3
   },
   "file_extension": ".py",
   "mimetype": "text/x-python",
   "name": "python",
   "nbconvert_exporter": "python",
   "pygments_lexer": "ipython3",
   "version": "3.8.12"
  },
  "nteract": {
   "version": "0.28.0"
  }
 },
 "nbformat": 4,
 "nbformat_minor": 5
}
