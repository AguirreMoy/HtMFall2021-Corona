{
 "cells": [
  {
   "cell_type": "markdown",
   "id": "2d5c55cf-a708-4f9e-997f-8909e8812495",
   "metadata": {},
   "source": [
    "# HACKtheMACHINE 2021 | Track 2: Data Science, Detective Bot "
   ]
  },
  {
   "cell_type": "markdown",
   "id": "318a291c-0e21-46db-8c97-7bd00397e130",
   "metadata": {},
   "source": [
    "The following data dictionary describes the columns or fields of the data set and a description of the objects. This information with more detail can also be found in the `EMBER` documentation of the `features.py` file at: https://github.com/elastic/ember/blob/master/ember/features.py "
   ]
  },
  {
   "cell_type": "markdown",
   "id": "939340e9-53a4-48cc-a9ab-1d3345b2bf84",
   "metadata": {},
   "source": [
    "| Field Name | Description | \n",
    "|------------|-------------|\n",
    "| sha256 | The Secure Hash Algorithm (SHA) is a cryptographic hash function like a signature or fingerprints for a data set. Even if one symbol is changed the algorithm will produce a different hash value. The SHA256 algorithm generates a fixed size 256-bit (32-byte) hash. The SHA256 algorithm is used to ensure you acquire the same data as the original. For exmaple, if you download something you can check if the data has not changed (due to network errors or malware injection) by comparing the hashes of your file and the original.|\n",
    "| histogram | Byte histogram (count + non-normalized) over the entire binary file. The byte histogram contains 256 integer values and represent the counts of each byte value within the value. When generating model features the byte histgoram is normalized to a distribution, since file size is represented as a feature in the general file information. | \n",
    "| byteentropy | 2D byte/entropy histogram based loosely on (Saxe and Berlin, 2015). This roughly approximates the joint probability of byte value and local entropy. See Section 2.1.1 in https://arxiv.org/pdf/1508.03096.pdf for more info. The byte entropy histogram approximates the joint distriubtion p(H, X) of entropy H and byte value X. By computing the scalar entropy H for a fixed-length window and pairing it with each byte occurrence within the window. This is repeated as the window slides across the input bytes. |\n",
    "| strings | Contains simple statistics about printable strings of the following: <ul><li>`numstrings`: number of strings <li> `avlength`: average length of strings <li>`printabledist`: histogram of the printable characters within those strings <li>`printables`: distinct information from byte histogram information from the byte histogram information since its derived only from strings containing at least 5 consecutive printable characters <li>`entropy`: entropy of characters across all printable strings <li>`paths` number of strings that begin with **C:** (case insensitive) that may indicate a path <li>`urls`: the number of occurences of **http://** or **https://** (case insensitive) that may indicate a URL <li>`registry`: number of occurrences of HKEY that may indicate a registry key, <li>`MZ`: number of occurrences of the short string MZ |\n",
    "| general | Provides general file information. 0/1 indicates a binary output <ul><li>`size`: length of bytes <li>`vsize`: virtual size <li>`has_debug`: 0/1  <li>`exports`: 0/1 <li>`imports`: 0/1 <li>`has_relocations`: 0/1  <li>`has_resources`: 0/1 <li>`has_signature`: 0/1 <li>`has_tls`: 0/1 <li>`symbols`: 0/1 |\n",
    "| header | Provides header file information on machine, architecture, OS, link and other information: <ul><li> `coeff`: [ `timestamp`, `machine`,`characteristics` ] <li> `optional`: [`subsystem`, `dll_characteristics`, `magic`, `major_image_version`, `minor_linker_version`, `major_operating_system_version`, `minor_operating_system_version`, `major_subsystem_version`, `minor_subsystem_version`, `sizeof_code`, `sizeof_headers`, `sizeof_heap_commit`]\n",
    "| section | Information about section names, sizes and entropy. Uses hashing trick to summarize all this section into a feature vector. <ul><li> `imports`: [`KERNEL32.dll` : [`GetTickCount`] | \n",
    "| imports | Information about imported libraries and functions from the import address table. Note that the total number of imported functions is contained in GeneralFileInfo. |\n",
    "| exports | Information about exported functions. Note that the total number of exported functions is contained in GeneralFileInfo.|\n",
    "| datadirectories | Extracts size and virtual address of the first 15 data dictectories. |\n",
    "| label / category | Class label indicating benign `0` or malicious `1`|"
   ]
  },
  {
   "cell_type": "markdown",
   "id": "ad8ee9a6-1ccf-4c0b-af10-8cccef6982e6",
   "metadata": {},
   "source": [
    "## Load Libraries"
   ]
  },
  {
   "cell_type": "code",
   "execution_count": 151,
   "id": "87ecd2ad-01a0-4e87-a539-48d626168fd2",
   "metadata": {},
   "outputs": [],
   "source": [
    "import numpy as np #data manipulation\n",
    "import pandas as pd #data manipulation\n",
    "import sklearn as sk #modeling & metrics\n",
    "import seaborn as sns #visualizations\n",
    "import scipy as stats #visualizations\n",
    "from matplotlib import pyplot as plt #visualizations\n",
    "\n",
    "#imputation, scaling, metrics\n",
    "from sklearn import preprocessing\n",
    "from sklearn import metrics\n",
    "from sklearn.utils import resample\n",
    "from sklearn.metrics import r2_score, classification_report, f1_score, accuracy_score, confusion_matrix\n",
    "from sklearn.metrics import roc_curve, auc, roc_auc_score\n",
    "from sklearn.metrics import mean_squared_error\n",
    "from sklearn.metrics import mean_absolute_error\n",
    "from sklearn.model_selection import train_test_split\n",
    "from sklearn.model_selection import cross_val_score\n",
    "from sklearn.model_selection import StratifiedKFold\n",
    "from sklearn.experimental import enable_iterative_imputer\n",
    "from sklearn.impute import IterativeImputer\n",
    "from sklearn.preprocessing import StandardScaler\n",
    "from sklearn.feature_selection import SelectKBest\n",
    "from sklearn.feature_selection import f_classif\n",
    "from sklearn.linear_model import LogisticRegression\n",
    "\n",
    "\n",
    "#outlier classification\n",
    "from sklearn.ensemble import IsolationForest\n",
    "\n",
    "import xgboost as xgb #xgb model\n",
    "import lightgbm as lgb #lgbm model\n",
    "from lightgbm import *\n",
    "import re #fix error for lgbm\n",
    "import hyperopt #hyperparameter tuning\n",
    "from hyperopt import fmin, tpe, hp, STATUS_OK, Trials, space_eval\n",
    "\n",
    "import shap #shap plot\n",
    "\n",
    "import pickle \n",
    "from collections import Counter\n",
    "\n",
    "import re\n",
    "import nltk\n",
    "import spacy\n",
    "import gensim\n",
    "import string\n",
    " \n",
    "import warnings\n",
    "warnings.filterwarnings('ignore')"
   ]
  },
  {
   "cell_type": "markdown",
   "id": "3d7c1126",
   "metadata": {},
   "source": [
    "## Requirements"
   ]
  },
  {
   "cell_type": "markdown",
   "id": "7c3d12e5",
   "metadata": {},
   "source": [
    "The requirements file is basically this output copy pasted into a txt file"
   ]
  },
  {
   "cell_type": "code",
   "execution_count": 145,
   "id": "775ff10d",
   "metadata": {},
   "outputs": [
    {
     "name": "stdout",
     "output_type": "stream",
     "text": [
      "numpy==1.21.2\n",
      "pandas==1.3.4\n",
      "sklearn==1.0.1\n",
      "seaborn==0.11.2\n",
      "scipy==1.6.0\n",
      "xgboost==1.5.0\n",
      "lightgbm==3.2.1\n",
      "re==2.2.1\n",
      "hyperopt==0.2.5\n",
      "shap==0.40.0\n",
      "nltk==3.5\n",
      "spacy==2.3.2\n",
      "gensim==4.0.1\n"
     ]
    }
   ],
   "source": [
    "print('\\n'.join(f'{m.__name__}=={m.__version__}' for m in globals().values() if getattr(m, '__version__', None)))"
   ]
  },
  {
   "cell_type": "markdown",
   "id": "b633d294-cbc2-4ffa-8474-13be9e7d6e3d",
   "metadata": {},
   "source": [
    "## Load Data"
   ]
  },
  {
   "cell_type": "code",
   "execution_count": 83,
   "id": "504a76f1-8bd6-42c7-948a-6ed3bb240fc1",
   "metadata": {},
   "outputs": [],
   "source": [
    "# Flattened EMBER Feature set\n",
    "# Easier to feed into ML models right away\n",
    "# df1 = pd.read_excel(\"flatten_train.xlsx\")"
   ]
  },
  {
   "cell_type": "markdown",
   "id": "2e4986e1",
   "metadata": {},
   "source": [
    "Use pickling so you don't have to re read Excel file every time."
   ]
  },
  {
   "cell_type": "code",
   "execution_count": 146,
   "id": "33b59c6a",
   "metadata": {},
   "outputs": [],
   "source": [
    "# pd.to_pickle(df1, \"./data.pkl\")"
   ]
  },
  {
   "cell_type": "code",
   "execution_count": 85,
   "id": "3592aef0",
   "metadata": {},
   "outputs": [],
   "source": [
    "df1 = pd.read_pickle(\"./data.pkl\")"
   ]
  },
  {
   "cell_type": "markdown",
   "id": "e673d618",
   "metadata": {},
   "source": [
    "Checking how many malware entries."
   ]
  },
  {
   "cell_type": "code",
   "execution_count": 86,
   "id": "32162510",
   "metadata": {},
   "outputs": [
    {
     "data": {
      "text/plain": [
       "900"
      ]
     },
     "execution_count": 86,
     "metadata": {},
     "output_type": "execute_result"
    }
   ],
   "source": [
    "sum(df1['category'])"
   ]
  },
  {
   "cell_type": "code",
   "execution_count": 87,
   "id": "2600ee08",
   "metadata": {},
   "outputs": [
    {
     "data": {
      "text/plain": [
       "(18000, 714)"
      ]
     },
     "execution_count": 87,
     "metadata": {},
     "output_type": "execute_result"
    }
   ],
   "source": [
    "df1.shape"
   ]
  },
  {
   "cell_type": "code",
   "execution_count": 88,
   "id": "35642d6a",
   "metadata": {},
   "outputs": [
    {
     "data": {
      "text/plain": [
       "0.05"
      ]
     },
     "execution_count": 88,
     "metadata": {},
     "output_type": "execute_result"
    }
   ],
   "source": [
    "900/18000"
   ]
  },
  {
   "cell_type": "markdown",
   "id": "ad41dc03",
   "metadata": {},
   "source": [
    "5%, super imbalanced."
   ]
  },
  {
   "cell_type": "markdown",
   "id": "e48c92b2",
   "metadata": {},
   "source": [
    "## EDA"
   ]
  },
  {
   "cell_type": "markdown",
   "id": "ae9423ce",
   "metadata": {},
   "source": [
    "### VISUALIZATIONS ETC SHOULD GO HERE"
   ]
  },
  {
   "cell_type": "code",
   "execution_count": null,
   "id": "ba598f0a",
   "metadata": {},
   "outputs": [],
   "source": []
  },
  {
   "cell_type": "code",
   "execution_count": null,
   "id": "6298ffff",
   "metadata": {},
   "outputs": [],
   "source": []
  },
  {
   "cell_type": "code",
   "execution_count": null,
   "id": "10210c56",
   "metadata": {},
   "outputs": [],
   "source": []
  },
  {
   "cell_type": "markdown",
   "id": "8956859c",
   "metadata": {},
   "source": [
    "## Undersampling"
   ]
  },
  {
   "cell_type": "code",
   "execution_count": 89,
   "id": "1f70e5aa",
   "metadata": {},
   "outputs": [],
   "source": [
    "majority = df1[df1.category==0] # Majority class\n",
    "minority = df1[df1.category==1] # Minority class"
   ]
  },
  {
   "cell_type": "code",
   "execution_count": 90,
   "id": "a7f6d185",
   "metadata": {},
   "outputs": [
    {
     "data": {
      "text/plain": [
       "0    900\n",
       "1    900\n",
       "Name: category, dtype: int64"
      ]
     },
     "execution_count": 90,
     "metadata": {},
     "output_type": "execute_result"
    }
   ],
   "source": [
    "majority_undersampled = resample(majority, replace=False, n_samples=900) # Randomly selects 900 records from majority to match minority class size\n",
    "# New downsampled dataset\n",
    "df_undersampled = pd.concat([majority_undersampled, minority])  # Minority class + sample of 900 from majority\n",
    "df_undersampled.category.value_counts()"
   ]
  },
  {
   "cell_type": "code",
   "execution_count": 147,
   "id": "ce7e604e",
   "metadata": {},
   "outputs": [],
   "source": [
    "df = df_undersampled #make it a new df"
   ]
  },
  {
   "cell_type": "code",
   "execution_count": 92,
   "id": "2a95437d",
   "metadata": {},
   "outputs": [],
   "source": [
    "X = df.drop('category', axis=1) #X is everything but the 'category' col"
   ]
  },
  {
   "cell_type": "code",
   "execution_count": 93,
   "id": "5d485926",
   "metadata": {},
   "outputs": [],
   "source": [
    "y = df['category'] #y is just the target column"
   ]
  },
  {
   "cell_type": "code",
   "execution_count": 94,
   "id": "7897ed31",
   "metadata": {},
   "outputs": [],
   "source": [
    "X = X._get_numeric_data() #drop all nonnumeric ones (for now?)"
   ]
  },
  {
   "cell_type": "code",
   "execution_count": 95,
   "id": "81a2c68e",
   "metadata": {},
   "outputs": [
    {
     "name": "stdout",
     "output_type": "stream",
     "text": [
      "(1800, 693) (1800,)\n"
     ]
    }
   ],
   "source": [
    "print(X.shape, y.shape) #sanity check arrays"
   ]
  },
  {
   "cell_type": "markdown",
   "id": "7faad1f1",
   "metadata": {},
   "source": [
    "## Feature Selection with ANOVA"
   ]
  },
  {
   "cell_type": "markdown",
   "id": "62dcf6ee",
   "metadata": {},
   "source": [
    "Ideally should have selected features after heatmaps/correlation plots/distributions etc but skipped all that for now.\n",
    "\n",
    "This is automatic but we also have no idea which ones are selected lol"
   ]
  },
  {
   "cell_type": "code",
   "execution_count": 97,
   "id": "33af2189",
   "metadata": {},
   "outputs": [],
   "source": [
    "def select_features(X_train, y_train, X_test):\n",
    "    # configure to select all features\n",
    "    fs = SelectKBest(score_func=f_classif, k=600) #CHANGE THIS NUMBER TO CHOOSE HOWEVER MANY FEATURES\n",
    "    # learn relationship from training data\n",
    "    fs.fit(X_train, y_train)\n",
    "    # transform train input data\n",
    "    X_train_fs = fs.transform(X_train)\n",
    "    # transform test input data\n",
    "    X_test_fs = fs.transform(X_test)\n",
    "    return X_train_fs, X_test_fs, fs"
   ]
  },
  {
   "cell_type": "markdown",
   "id": "eae2d12b",
   "metadata": {},
   "source": [
    "Train test split 80/20"
   ]
  },
  {
   "cell_type": "code",
   "execution_count": 148,
   "id": "807e547f",
   "metadata": {},
   "outputs": [],
   "source": [
    "X_train, X_test, y_train, y_test = train_test_split(X, y, test_size=0.2)\n",
    "X_train_fs, X_test_fs, fs = select_features(X_train, y_train, X_test)"
   ]
  },
  {
   "cell_type": "code",
   "execution_count": 99,
   "id": "e27959d9",
   "metadata": {},
   "outputs": [],
   "source": [
    "# for i in range(len(fs.scores_[:10])):\n",
    "#     print('Feature %d: %f' % (i, fs.scores_[i]))\n",
    "# # plot the scores\n",
    "#     plt.bar([i for i in range(len(fs.scores_))], fs.scores_)\n",
    "#     plt.show()"
   ]
  },
  {
   "cell_type": "markdown",
   "id": "b8375b69",
   "metadata": {},
   "source": [
    "Now we can use X_train_fs and X_test_fs in place of X_train and X_test."
   ]
  },
  {
   "cell_type": "code",
   "execution_count": 149,
   "id": "1378e470",
   "metadata": {
    "scrolled": false
   },
   "outputs": [
    {
     "name": "stdout",
     "output_type": "stream",
     "text": [
      "(1440, 600) (360, 600)\n"
     ]
    }
   ],
   "source": [
    "print(X_train_fs.shape, X_test_fs.shape)"
   ]
  },
  {
   "cell_type": "code",
   "execution_count": 101,
   "id": "6b5a9930",
   "metadata": {
    "scrolled": true
   },
   "outputs": [
    {
     "name": "stdout",
     "output_type": "stream",
     "text": [
      "(1440,) (360,)\n"
     ]
    }
   ],
   "source": [
    "print(y_train.shape, y_test.shape)"
   ]
  },
  {
   "cell_type": "markdown",
   "id": "7977a7bf",
   "metadata": {},
   "source": [
    "## Modeling"
   ]
  },
  {
   "cell_type": "markdown",
   "id": "94ee8fe7",
   "metadata": {},
   "source": [
    "This function basically fits a specified model and outputs it's f1_score as well as ROC curve, can add more graphs/plots to it as well"
   ]
  },
  {
   "cell_type": "code",
   "execution_count": 103,
   "id": "0c28500b",
   "metadata": {},
   "outputs": [],
   "source": [
    "def modeler(model):\n",
    "    model.fit(X_train_fs, y_train) #fit specified model\n",
    "    y_pred = model.predict(X_test_fs) #predict on test set\n",
    "    f1 = f1_score(y_test, y_pred) #get f1 score\n",
    "    print('F1 Score:', f1)\n",
    "    print(metrics.confusion_matrix(y_test, y_pred))\n",
    "    \n",
    "    #this plots the ROC curve, play around iwth it\n",
    "    from sklearn.metrics import roc_curve, auc\n",
    "    fpr, tpr, thresholds = roc_curve(y_pred, y_test)\n",
    "    roc_auc = auc(fpr, tpr)\n",
    "\n",
    "    plt.figure()\n",
    "    plt.plot(fpr, tpr, color='darkorange', label='ROC curve (area = %0.2f)' % roc_auc)\n",
    "    plt.plot([0, 1], [0, 1], color='navy', linestyle='--')\n",
    "    plt.xlim([0.0, 1.0])\n",
    "    plt.ylim([0.0, 1.05])\n",
    "    plt.xlabel('False Positive Rate')\n",
    "    plt.ylabel('True Positive Rate')\n",
    "    plt.title('Receiver operating characteristic')\n",
    "    plt.legend(loc=\"lower right\")\n",
    "    plt.show()"
   ]
  },
  {
   "cell_type": "code",
   "execution_count": 104,
   "id": "6a6991c5",
   "metadata": {},
   "outputs": [
    {
     "name": "stdout",
     "output_type": "stream",
     "text": [
      "F1 Score: 0.7513513513513514\n",
      "[[129  47]\n",
      " [ 45 139]]\n"
     ]
    },
    {
     "data": {
      "image/png": "[encoded data removed]",
      "text/plain": [
       "<Figure size 432x288 with 1 Axes>"
      ]
     },
     "metadata": {
      "needs_background": "light"
     },
     "output_type": "display_data"
    }
   ],
   "source": [
    "lr = LogisticRegression()\n",
    "modeler(lr)"
   ]
  },
  {
   "cell_type": "code",
   "execution_count": 150,
   "id": "d8c073fb",
   "metadata": {
    "scrolled": true
   },
   "outputs": [
    {
     "name": "stdout",
     "output_type": "stream",
     "text": [
      "F1 Score: 0.8816568047337278\n",
      "[[171  22]\n",
      " [ 18 149]]\n"
     ]
    },
    {
     "data": {
      "image/png": "[encoded data removed]",
      "text/plain": [
       "<Figure size 432x288 with 1 Axes>"
      ]
     },
     "metadata": {
      "needs_background": "light"
     },
     "output_type": "display_data"
    }
   ],
   "source": [
    "lgbm = lgb.LGBMClassifier()\n",
    "modeler(lgbm)"
   ]
  },
  {
   "cell_type": "code",
   "execution_count": 106,
   "id": "79c2a5aa",
   "metadata": {},
   "outputs": [
    {
     "name": "stdout",
     "output_type": "stream",
     "text": [
      "[18:37:14] WARNING: /Users/runner/miniforge3/conda-bld/xgboost-split_1634712680264/work/src/learner.cc:1115: Starting in XGBoost 1.3.0, the default evaluation metric used with the objective 'binary:logistic' was changed from 'error' to 'logloss'. Explicitly set eval_metric if you'd like to restore the old behavior.\n",
      "F1 Score: 0.8950276243093923\n",
      "[[160  16]\n",
      " [ 22 162]]\n"
     ]
    },
    {
     "data": {
      "image/png": "[encoded data removed]",
      "text/plain": [
       "<Figure size 432x288 with 1 Axes>"
      ]
     },
     "metadata": {
      "needs_background": "light"
     },
     "output_type": "display_data"
    }
   ],
   "source": [
    "xgbc = xgb.XGBClassifier()\n",
    "modeler(xgbc)"
   ]
  },
  {
   "cell_type": "code",
   "execution_count": 107,
   "id": "124fa26f",
   "metadata": {},
   "outputs": [
    {
     "name": "stdout",
     "output_type": "stream",
     "text": [
      "F1 Score: 0.8635097493036211\n",
      "[[156  20]\n",
      " [ 29 155]]\n"
     ]
    },
    {
     "data": {
      "image/png": "[encoded data removed]",
      "text/plain": [
       "<Figure size 432x288 with 1 Axes>"
      ]
     },
     "metadata": {
      "needs_background": "light"
     },
     "output_type": "display_data"
    }
   ],
   "source": [
    "from sklearn.ensemble import RandomForestClassifier\n",
    "rf = RandomForestClassifier()\n",
    "modeler(rf)"
   ]
  },
  {
   "cell_type": "code",
   "execution_count": 108,
   "id": "acffb742",
   "metadata": {},
   "outputs": [
    {
     "name": "stdout",
     "output_type": "stream",
     "text": [
      "F1 Score: 0.6802973977695167\n",
      "[[  5 171]\n",
      " [  1 183]]\n"
     ]
    },
    {
     "data": {
      "image/png": "[encoded data removed]",
      "text/plain": [
       "<Figure size 432x288 with 1 Axes>"
      ]
     },
     "metadata": {
      "needs_background": "light"
     },
     "output_type": "display_data"
    }
   ],
   "source": [
    "from sklearn.svm import SVC\n",
    "svm = SVC()\n",
    "modeler(svm)"
   ]
  },
  {
   "cell_type": "code",
   "execution_count": 109,
   "id": "c442ea2e",
   "metadata": {},
   "outputs": [
    {
     "name": "stdout",
     "output_type": "stream",
     "text": [
      "F1 Score: 0.7565982404692082\n",
      "[[148  28]\n",
      " [ 55 129]]\n"
     ]
    },
    {
     "data": {
      "image/png": "[encoded data removed]",
      "text/plain": [
       "<Figure size 432x288 with 1 Axes>"
      ]
     },
     "metadata": {
      "needs_background": "light"
     },
     "output_type": "display_data"
    }
   ],
   "source": [
    "from sklearn.neighbors import KNeighborsClassifier\n",
    "knn = KNeighborsClassifier()\n",
    "modeler(knn)"
   ]
  },
  {
   "cell_type": "code",
   "execution_count": 110,
   "id": "526f394f",
   "metadata": {},
   "outputs": [
    {
     "name": "stdout",
     "output_type": "stream",
     "text": [
      "F1 Score: 0.8067226890756303\n",
      "[[147  29]\n",
      " [ 40 144]]\n"
     ]
    },
    {
     "data": {
      "image/png": "[encoded data removed]",
      "text/plain": [
       "<Figure size 432x288 with 1 Axes>"
      ]
     },
     "metadata": {
      "needs_background": "light"
     },
     "output_type": "display_data"
    }
   ],
   "source": [
    "from sklearn import tree\n",
    "dt = tree.DecisionTreeClassifier()\n",
    "modeler(dt)"
   ]
  },
  {
   "cell_type": "markdown",
   "id": "a4fa6f4e",
   "metadata": {},
   "source": [
    "## Hyperparameter Optimization"
   ]
  },
  {
   "cell_type": "markdown",
   "id": "a23e892a",
   "metadata": {},
   "source": [
    "LGBM seems to be one of the best so let's tuneeee\n",
    "\n",
    "also scaling/normalizing isn't needed for gradient boosted decision trees so skip itttttt"
   ]
  },
  {
   "cell_type": "markdown",
   "id": "bdf41687",
   "metadata": {},
   "source": [
    "# EVERYONE CAN TRY OPTIMIZING WITH DIFFERENT HYPERPARAMETERS LIKE IN THE COMMENTED OUT LINES, i only put these 2 to start out with"
   ]
  },
  {
   "cell_type": "code",
   "execution_count": 131,
   "id": "c27890d3",
   "metadata": {},
   "outputs": [],
   "source": [
    "#hyperparameter domain to search over\n",
    "hyperparam_space = {\n",
    "    'num_leaves': hp.choice('num_leaves', np.arange(30, 250, 1)),\n",
    "    'learning_rate': hp.quniform('learning_rate', 0, 0.3, 0.01),\n",
    "#     'min_gain_to_split': hp.quniform('min_gain_to_split', 0, 15, 0.1),\n",
    "#     'min_data_in_leaf': hp.choice('min_data_in_leaf', np.arange(200, 10000, 100))\n",
    "#     lambda: L2 regularization (Ridge)\n",
    "#     alpha: L1 regularization (Lasso)\n",
    "}"
   ]
  },
  {
   "cell_type": "markdown",
   "id": "8be52d91",
   "metadata": {},
   "source": [
    "Following code takes a couple minutes to run:"
   ]
  },
  {
   "cell_type": "code",
   "execution_count": 132,
   "id": "1b455126",
   "metadata": {
    "scrolled": true
   },
   "outputs": [
    {
     "name": "stdout",
     "output_type": "stream",
     "text": [
      "[1]\ttraining's binary_logloss: 0.661519\tvalid_1's binary_logloss: 0.665858                                       \n",
      "Training until validation scores don't improve for 20 rounds                                                     \n",
      "[2]\ttraining's binary_logloss: 0.631527\tvalid_1's binary_logloss: 0.641757                                       \n",
      "[3]\ttraining's binary_logloss: 0.604856\tvalid_1's binary_logloss: 0.619095                                       \n",
      "[4]\ttraining's binary_logloss: 0.579548\tvalid_1's binary_logloss: 0.598553                                       \n",
      "[5]\ttraining's binary_logloss: 0.556545\tvalid_1's binary_logloss: 0.580298                                       \n",
      "[6]\ttraining's binary_logloss: 0.534175\tvalid_1's binary_logloss: 0.562695                                       \n",
      "[7]\ttraining's binary_logloss: 0.513712\tvalid_1's binary_logloss: 0.546932                                       \n",
      "[8]\ttraining's binary_logloss: 0.495005\tvalid_1's binary_logloss: 0.533275                                       \n",
      "[9]\ttraining's binary_logloss: 0.475574\tvalid_1's binary_logloss: 0.519529                                       \n",
      "[10]\ttraining's binary_logloss: 0.458226\tvalid_1's binary_logloss: 0.504756                                      \n",
      "[11]\ttraining's binary_logloss: 0.441046\tvalid_1's binary_logloss: 0.491977                                      \n",
      "[12]\ttraining's binary_logloss: 0.424684\tvalid_1's binary_logloss: 0.481997                                      \n",
      "[13]\ttraining's binary_logloss: 0.40897\tvalid_1's binary_logloss: 0.469081                                       \n",
      "[14]\ttraining's binary_logloss: 0.394272\tvalid_1's binary_logloss: 0.457854                                      \n",
      "[15]\ttraining's binary_logloss: 0.381114\tvalid_1's binary_logloss: 0.449171                                      \n",
      "[16]\ttraining's binary_logloss: 0.368188\tvalid_1's binary_logloss: 0.438101                                      \n",
      "[17]\ttraining's binary_logloss: 0.355416\tvalid_1's binary_logloss: 0.429616                                      \n",
      "[18]\ttraining's binary_logloss: 0.343746\tvalid_1's binary_logloss: 0.422935                                      \n",
      "[19]\ttraining's binary_logloss: 0.332298\tvalid_1's binary_logloss: 0.414473                                      \n",
      "[20]\ttraining's binary_logloss: 0.321014\tvalid_1's binary_logloss: 0.406792                                      \n",
      "[21]\ttraining's binary_logloss: 0.310508\tvalid_1's binary_logloss: 0.398047                                      \n",
      "[22]\ttraining's binary_logloss: 0.299862\tvalid_1's binary_logloss: 0.391022                                      \n",
      "[23]\ttraining's binary_logloss: 0.290799\tvalid_1's binary_logloss: 0.384538                                      \n",
      "[24]\ttraining's binary_logloss: 0.281343\tvalid_1's binary_logloss: 0.376811                                      \n",
      "[25]\ttraining's binary_logloss: 0.272749\tvalid_1's binary_logloss: 0.371317                                      \n",
      "[26]\ttraining's binary_logloss: 0.264239\tvalid_1's binary_logloss: 0.366111                                      \n",
      "[27]\ttraining's binary_logloss: 0.256095\tvalid_1's binary_logloss: 0.35954                                       \n",
      "[28]\ttraining's binary_logloss: 0.248445\tvalid_1's binary_logloss: 0.35584                                       \n",
      "[29]\ttraining's binary_logloss: 0.240742\tvalid_1's binary_logloss: 0.352095                                      \n",
      "[30]\ttraining's binary_logloss: 0.233291\tvalid_1's binary_logloss: 0.347592                                      \n",
      "[31]\ttraining's binary_logloss: 0.2258\tvalid_1's binary_logloss: 0.343777                                        \n",
      "[32]\ttraining's binary_logloss: 0.218588\tvalid_1's binary_logloss: 0.338656                                      \n",
      "[33]\ttraining's binary_logloss: 0.211606\tvalid_1's binary_logloss: 0.334489                                      \n",
      "[34]\ttraining's binary_logloss: 0.20478\tvalid_1's binary_logloss: 0.329707                                       \n",
      "[35]\ttraining's binary_logloss: 0.198599\tvalid_1's binary_logloss: 0.325576                                      \n",
      "[36]\ttraining's binary_logloss: 0.192528\tvalid_1's binary_logloss: 0.320923                                      \n",
      "[37]\ttraining's binary_logloss: 0.186908\tvalid_1's binary_logloss: 0.31817                                       \n",
      "[38]\ttraining's binary_logloss: 0.181196\tvalid_1's binary_logloss: 0.314797                                      \n",
      "[39]\ttraining's binary_logloss: 0.175682\tvalid_1's binary_logloss: 0.311578                                      \n",
      "[40]\ttraining's binary_logloss: 0.170444\tvalid_1's binary_logloss: 0.308371                                      \n",
      "[41]\ttraining's binary_logloss: 0.165565\tvalid_1's binary_logloss: 0.30559                                       \n",
      "[42]\ttraining's binary_logloss: 0.160664\tvalid_1's binary_logloss: 0.303211                                      \n",
      "[43]\ttraining's binary_logloss: 0.155934\tvalid_1's binary_logloss: 0.300638                                      \n",
      "[44]\ttraining's binary_logloss: 0.151492\tvalid_1's binary_logloss: 0.298015                                      \n",
      "[45]\ttraining's binary_logloss: 0.147234\tvalid_1's binary_logloss: 0.295673                                      \n",
      "[46]\ttraining's binary_logloss: 0.14281\tvalid_1's binary_logloss: 0.293577                                       \n",
      "[47]\ttraining's binary_logloss: 0.138847\tvalid_1's binary_logloss: 0.291238                                      \n",
      "[48]\ttraining's binary_logloss: 0.134876\tvalid_1's binary_logloss: 0.289582                                      \n",
      "[49]\ttraining's binary_logloss: 0.131014\tvalid_1's binary_logloss: 0.287683                                      \n",
      "[50]\ttraining's binary_logloss: 0.127414\tvalid_1's binary_logloss: 0.285933                                      \n",
      "[51]\ttraining's binary_logloss: 0.12388\tvalid_1's binary_logloss: 0.284819                                       \n",
      "[52]\ttraining's binary_logloss: 0.120236\tvalid_1's binary_logloss: 0.283316                                      \n",
      "[53]\ttraining's binary_logloss: 0.117019\tvalid_1's binary_logloss: 0.281058                                      \n",
      "[54]\ttraining's binary_logloss: 0.113542\tvalid_1's binary_logloss: 0.279035                                      \n",
      "[55]\ttraining's binary_logloss: 0.110011\tvalid_1's binary_logloss: 0.277433                                      \n",
      "[56]\ttraining's binary_logloss: 0.106794\tvalid_1's binary_logloss: 0.276129                                      \n",
      "[57]\ttraining's binary_logloss: 0.103769\tvalid_1's binary_logloss: 0.274546                                      \n",
      "[58]\ttraining's binary_logloss: 0.100573\tvalid_1's binary_logloss: 0.273433                                      \n",
      "[59]\ttraining's binary_logloss: 0.0974717\tvalid_1's binary_logloss: 0.272626                                     \n",
      "[60]\ttraining's binary_logloss: 0.0946963\tvalid_1's binary_logloss: 0.271854                                     \n",
      "[61]\ttraining's binary_logloss: 0.0917519\tvalid_1's binary_logloss: 0.270604                                     \n",
      "[62]\ttraining's binary_logloss: 0.0891951\tvalid_1's binary_logloss: 0.269305                                     \n",
      "[63]\ttraining's binary_logloss: 0.0864967\tvalid_1's binary_logloss: 0.26856                                      \n",
      "[64]\ttraining's binary_logloss: 0.0838946\tvalid_1's binary_logloss: 0.267597                                     \n",
      "[65]\ttraining's binary_logloss: 0.081354\tvalid_1's binary_logloss: 0.267443                                      \n",
      "[66]\ttraining's binary_logloss: 0.0788731\tvalid_1's binary_logloss: 0.267118                                     \n",
      "[67]\ttraining's binary_logloss: 0.0764754\tvalid_1's binary_logloss: 0.265915                                     \n",
      "[68]\ttraining's binary_logloss: 0.0742982\tvalid_1's binary_logloss: 0.265588                                     \n",
      "[69]\ttraining's binary_logloss: 0.0721486\tvalid_1's binary_logloss: 0.265121                                     \n",
      "[70]\ttraining's binary_logloss: 0.0701718\tvalid_1's binary_logloss: 0.263936                                     \n"
     ]
    },
    {
     "name": "stdout",
     "output_type": "stream",
     "text": [
      "[71]\ttraining's binary_logloss: 0.0681214\tvalid_1's binary_logloss: 0.263841                                     \n",
      "[72]\ttraining's binary_logloss: 0.0660689\tvalid_1's binary_logloss: 0.264321                                     \n",
      "[73]\ttraining's binary_logloss: 0.0639731\tvalid_1's binary_logloss: 0.263609                                     \n",
      "[74]\ttraining's binary_logloss: 0.0620561\tvalid_1's binary_logloss: 0.263607                                     \n",
      "[75]\ttraining's binary_logloss: 0.0602575\tvalid_1's binary_logloss: 0.263753                                     \n",
      "[76]\ttraining's binary_logloss: 0.0583857\tvalid_1's binary_logloss: 0.26275                                      \n",
      "[77]\ttraining's binary_logloss: 0.0566759\tvalid_1's binary_logloss: 0.262227                                     \n",
      "[78]\ttraining's binary_logloss: 0.0550237\tvalid_1's binary_logloss: 0.262145                                     \n",
      "[79]\ttraining's binary_logloss: 0.0534826\tvalid_1's binary_logloss: 0.262527                                     \n",
      "[80]\ttraining's binary_logloss: 0.051879\tvalid_1's binary_logloss: 0.261909                                      \n",
      "[81]\ttraining's binary_logloss: 0.0502856\tvalid_1's binary_logloss: 0.261908                                     \n",
      "[82]\ttraining's binary_logloss: 0.0488585\tvalid_1's binary_logloss: 0.261637                                     \n",
      "[83]\ttraining's binary_logloss: 0.0472698\tvalid_1's binary_logloss: 0.261313                                     \n",
      "[84]\ttraining's binary_logloss: 0.0458438\tvalid_1's binary_logloss: 0.260838                                     \n",
      "[85]\ttraining's binary_logloss: 0.0445952\tvalid_1's binary_logloss: 0.261589                                     \n",
      "[86]\ttraining's binary_logloss: 0.0431912\tvalid_1's binary_logloss: 0.261838                                     \n",
      "[87]\ttraining's binary_logloss: 0.0420141\tvalid_1's binary_logloss: 0.2622                                       \n",
      "[88]\ttraining's binary_logloss: 0.0409082\tvalid_1's binary_logloss: 0.261613                                     \n",
      "[89]\ttraining's binary_logloss: 0.0396791\tvalid_1's binary_logloss: 0.262492                                     \n",
      "[90]\ttraining's binary_logloss: 0.0385135\tvalid_1's binary_logloss: 0.262479                                     \n",
      "[91]\ttraining's binary_logloss: 0.0373546\tvalid_1's binary_logloss: 0.262866                                     \n",
      "[92]\ttraining's binary_logloss: 0.0363021\tvalid_1's binary_logloss: 0.26278                                      \n",
      "[93]\ttraining's binary_logloss: 0.0353479\tvalid_1's binary_logloss: 0.26304                                      \n",
      "[94]\ttraining's binary_logloss: 0.034268\tvalid_1's binary_logloss: 0.263062                                      \n",
      "[95]\ttraining's binary_logloss: 0.0333943\tvalid_1's binary_logloss: 0.263087                                     \n",
      "[96]\ttraining's binary_logloss: 0.0323512\tvalid_1's binary_logloss: 0.26362                                      \n",
      "[97]\ttraining's binary_logloss: 0.0313294\tvalid_1's binary_logloss: 0.263468                                     \n",
      "[98]\ttraining's binary_logloss: 0.0304558\tvalid_1's binary_logloss: 0.264936                                     \n",
      "[99]\ttraining's binary_logloss: 0.0296223\tvalid_1's binary_logloss: 0.26491                                      \n",
      "[100]\ttraining's binary_logloss: 0.0287572\tvalid_1's binary_logloss: 0.265184                                    \n",
      "Did not meet early stopping. Best iteration is:                                                                  \n",
      "[100]\ttraining's binary_logloss: 0.0287572\tvalid_1's binary_logloss: 0.265184\n",
      "-0.9601814708222275                                                                                              \n",
      "[1]\ttraining's binary_logloss: 0.649327\tvalid_1's binary_logloss: 0.655321                                       \n",
      "Training until validation scores don't improve for 20 rounds                                                     \n",
      "[2]\ttraining's binary_logloss: 0.609883\tvalid_1's binary_logloss: 0.621917                                       \n",
      "[3]\ttraining's binary_logloss: 0.574807\tvalid_1's binary_logloss: 0.594189                                       \n",
      "[4]\ttraining's binary_logloss: 0.542195\tvalid_1's binary_logloss: 0.568712                                       \n",
      "[5]\ttraining's binary_logloss: 0.513821\tvalid_1's binary_logloss: 0.546247                                       \n",
      "[6]\ttraining's binary_logloss: 0.487246\tvalid_1's binary_logloss: 0.526147                                       \n",
      "[7]\ttraining's binary_logloss: 0.460641\tvalid_1's binary_logloss: 0.508978                                       \n",
      "[8]\ttraining's binary_logloss: 0.436953\tvalid_1's binary_logloss: 0.492149                                       \n",
      "[9]\ttraining's binary_logloss: 0.414525\tvalid_1's binary_logloss: 0.477477                                       \n",
      "[10]\ttraining's binary_logloss: 0.393822\tvalid_1's binary_logloss: 0.460183                                      \n",
      "[11]\ttraining's binary_logloss: 0.375327\tvalid_1's binary_logloss: 0.44816                                       \n",
      "[12]\ttraining's binary_logloss: 0.35777\tvalid_1's binary_logloss: 0.4328                                         \n",
      "[13]\ttraining's binary_logloss: 0.34103\tvalid_1's binary_logloss: 0.420204                                       \n",
      "[14]\ttraining's binary_logloss: 0.324448\tvalid_1's binary_logloss: 0.409807                                      \n",
      "[15]\ttraining's binary_logloss: 0.308219\tvalid_1's binary_logloss: 0.398579                                      \n",
      "[16]\ttraining's binary_logloss: 0.293364\tvalid_1's binary_logloss: 0.388271                                      \n",
      "[17]\ttraining's binary_logloss: 0.280609\tvalid_1's binary_logloss: 0.379029                                      \n",
      "[18]\ttraining's binary_logloss: 0.269263\tvalid_1's binary_logloss: 0.370773                                      \n",
      "[19]\ttraining's binary_logloss: 0.257321\tvalid_1's binary_logloss: 0.362616                                      \n",
      "[20]\ttraining's binary_logloss: 0.246241\tvalid_1's binary_logloss: 0.355899                                      \n",
      "[21]\ttraining's binary_logloss: 0.236419\tvalid_1's binary_logloss: 0.349147                                      \n",
      "[22]\ttraining's binary_logloss: 0.226299\tvalid_1's binary_logloss: 0.342026                                      \n",
      "[23]\ttraining's binary_logloss: 0.216427\tvalid_1's binary_logloss: 0.336266                                      \n",
      "[24]\ttraining's binary_logloss: 0.207359\tvalid_1's binary_logloss: 0.329481                                      \n",
      "[25]\ttraining's binary_logloss: 0.199046\tvalid_1's binary_logloss: 0.325295                                      \n",
      "[26]\ttraining's binary_logloss: 0.190791\tvalid_1's binary_logloss: 0.31908                                       \n",
      "[27]\ttraining's binary_logloss: 0.18246\tvalid_1's binary_logloss: 0.31433                                        \n",
      "[28]\ttraining's binary_logloss: 0.174707\tvalid_1's binary_logloss: 0.309505                                      \n",
      "[29]\ttraining's binary_logloss: 0.166967\tvalid_1's binary_logloss: 0.306014                                      \n",
      "[30]\ttraining's binary_logloss: 0.160072\tvalid_1's binary_logloss: 0.30279                                       \n",
      "[31]\ttraining's binary_logloss: 0.153685\tvalid_1's binary_logloss: 0.298484                                      \n",
      "[32]\ttraining's binary_logloss: 0.147458\tvalid_1's binary_logloss: 0.295109                                      \n",
      "[33]\ttraining's binary_logloss: 0.140891\tvalid_1's binary_logloss: 0.293228                                      \n",
      "[34]\ttraining's binary_logloss: 0.135334\tvalid_1's binary_logloss: 0.290149                                      \n",
      "[35]\ttraining's binary_logloss: 0.129763\tvalid_1's binary_logloss: 0.288474                                      \n",
      "[36]\ttraining's binary_logloss: 0.124525\tvalid_1's binary_logloss: 0.287319                                      \n",
      "[37]\ttraining's binary_logloss: 0.119523\tvalid_1's binary_logloss: 0.285311                                      \n",
      "[38]\ttraining's binary_logloss: 0.114544\tvalid_1's binary_logloss: 0.283476                                      \n"
     ]
    },
    {
     "name": "stdout",
     "output_type": "stream",
     "text": [
      "[39]\ttraining's binary_logloss: 0.109884\tvalid_1's binary_logloss: 0.280364                                      \n",
      "[40]\ttraining's binary_logloss: 0.105438\tvalid_1's binary_logloss: 0.277724                                      \n",
      "[41]\ttraining's binary_logloss: 0.10116\tvalid_1's binary_logloss: 0.275677                                       \n",
      "[42]\ttraining's binary_logloss: 0.0970604\tvalid_1's binary_logloss: 0.274205                                     \n",
      "[43]\ttraining's binary_logloss: 0.0929124\tvalid_1's binary_logloss: 0.271989                                     \n",
      "[44]\ttraining's binary_logloss: 0.0893458\tvalid_1's binary_logloss: 0.270621                                     \n",
      "[45]\ttraining's binary_logloss: 0.0856533\tvalid_1's binary_logloss: 0.271016                                     \n",
      "[46]\ttraining's binary_logloss: 0.082119\tvalid_1's binary_logloss: 0.270181                                      \n",
      "[47]\ttraining's binary_logloss: 0.0789569\tvalid_1's binary_logloss: 0.268724                                     \n",
      "[48]\ttraining's binary_logloss: 0.0759359\tvalid_1's binary_logloss: 0.266988                                     \n",
      "[49]\ttraining's binary_logloss: 0.0727968\tvalid_1's binary_logloss: 0.26577                                      \n",
      "[50]\ttraining's binary_logloss: 0.0697838\tvalid_1's binary_logloss: 0.264543                                     \n",
      "[51]\ttraining's binary_logloss: 0.0670354\tvalid_1's binary_logloss: 0.26376                                      \n",
      "[52]\ttraining's binary_logloss: 0.0643185\tvalid_1's binary_logloss: 0.264268                                     \n",
      "[53]\ttraining's binary_logloss: 0.0615437\tvalid_1's binary_logloss: 0.262541                                     \n",
      "[54]\ttraining's binary_logloss: 0.0590684\tvalid_1's binary_logloss: 0.260687                                     \n",
      "[55]\ttraining's binary_logloss: 0.056515\tvalid_1's binary_logloss: 0.258275                                      \n",
      "[56]\ttraining's binary_logloss: 0.0542646\tvalid_1's binary_logloss: 0.257826                                     \n",
      "[57]\ttraining's binary_logloss: 0.0519969\tvalid_1's binary_logloss: 0.257116                                     \n",
      "[58]\ttraining's binary_logloss: 0.0500092\tvalid_1's binary_logloss: 0.256093                                     \n",
      "[59]\ttraining's binary_logloss: 0.0480358\tvalid_1's binary_logloss: 0.254851                                     \n",
      "[60]\ttraining's binary_logloss: 0.0460581\tvalid_1's binary_logloss: 0.254217                                     \n",
      "[61]\ttraining's binary_logloss: 0.044257\tvalid_1's binary_logloss: 0.254578                                      \n",
      "[62]\ttraining's binary_logloss: 0.0424625\tvalid_1's binary_logloss: 0.253932                                     \n",
      "[63]\ttraining's binary_logloss: 0.0407279\tvalid_1's binary_logloss: 0.252683                                     \n",
      "[64]\ttraining's binary_logloss: 0.0392167\tvalid_1's binary_logloss: 0.252551                                     \n",
      "[65]\ttraining's binary_logloss: 0.0377782\tvalid_1's binary_logloss: 0.252858                                     \n",
      "[66]\ttraining's binary_logloss: 0.0362799\tvalid_1's binary_logloss: 0.251847                                     \n",
      "[67]\ttraining's binary_logloss: 0.03484\tvalid_1's binary_logloss: 0.253722                                       \n",
      "[68]\ttraining's binary_logloss: 0.0334231\tvalid_1's binary_logloss: 0.252877                                     \n",
      "[69]\ttraining's binary_logloss: 0.0318907\tvalid_1's binary_logloss: 0.251588                                     \n",
      "[70]\ttraining's binary_logloss: 0.030724\tvalid_1's binary_logloss: 0.253137                                      \n",
      "[71]\ttraining's binary_logloss: 0.0294651\tvalid_1's binary_logloss: 0.25281                                      \n",
      "[72]\ttraining's binary_logloss: 0.0282796\tvalid_1's binary_logloss: 0.252093                                     \n",
      "[73]\ttraining's binary_logloss: 0.0272012\tvalid_1's binary_logloss: 0.251981                                     \n",
      "[74]\ttraining's binary_logloss: 0.026155\tvalid_1's binary_logloss: 0.251157                                      \n",
      "[75]\ttraining's binary_logloss: 0.0251474\tvalid_1's binary_logloss: 0.250697                                     \n",
      "[76]\ttraining's binary_logloss: 0.0240311\tvalid_1's binary_logloss: 0.251682                                     \n",
      "[77]\ttraining's binary_logloss: 0.0230312\tvalid_1's binary_logloss: 0.252822                                     \n",
      "[78]\ttraining's binary_logloss: 0.0221444\tvalid_1's binary_logloss: 0.25391                                      \n",
      "[79]\ttraining's binary_logloss: 0.0213406\tvalid_1's binary_logloss: 0.253788                                     \n",
      "[80]\ttraining's binary_logloss: 0.0204443\tvalid_1's binary_logloss: 0.252909                                     \n",
      "[81]\ttraining's binary_logloss: 0.0196647\tvalid_1's binary_logloss: 0.253838                                     \n",
      "[82]\ttraining's binary_logloss: 0.0189192\tvalid_1's binary_logloss: 0.254364                                     \n",
      "[83]\ttraining's binary_logloss: 0.0180994\tvalid_1's binary_logloss: 0.25514                                      \n",
      "[84]\ttraining's binary_logloss: 0.0173158\tvalid_1's binary_logloss: 0.256005                                     \n",
      "[85]\ttraining's binary_logloss: 0.0165769\tvalid_1's binary_logloss: 0.255693                                     \n",
      "[86]\ttraining's binary_logloss: 0.0159407\tvalid_1's binary_logloss: 0.254952                                     \n",
      "[87]\ttraining's binary_logloss: 0.0153248\tvalid_1's binary_logloss: 0.255981                                     \n",
      "[88]\ttraining's binary_logloss: 0.0146595\tvalid_1's binary_logloss: 0.257106                                     \n",
      "[89]\ttraining's binary_logloss: 0.0141111\tvalid_1's binary_logloss: 0.257461                                     \n",
      "[90]\ttraining's binary_logloss: 0.0136065\tvalid_1's binary_logloss: 0.258073                                     \n",
      "[91]\ttraining's binary_logloss: 0.0130976\tvalid_1's binary_logloss: 0.257692                                     \n",
      "[92]\ttraining's binary_logloss: 0.012584\tvalid_1's binary_logloss: 0.259629                                      \n",
      "[93]\ttraining's binary_logloss: 0.0120779\tvalid_1's binary_logloss: 0.260042                                     \n",
      "[94]\ttraining's binary_logloss: 0.0116287\tvalid_1's binary_logloss: 0.259701                                     \n",
      "[95]\ttraining's binary_logloss: 0.011126\tvalid_1's binary_logloss: 0.259032                                      \n",
      "Early stopping, best iteration is:                                                                               \n",
      "[75]\ttraining's binary_logloss: 0.0251474\tvalid_1's binary_logloss: 0.250697\n",
      "-0.9599497734759648                                                                                              \n",
      "[1]\ttraining's binary_logloss: 0.561004\tvalid_1's binary_logloss: 0.579842                                       \n",
      "Training until validation scores don't improve for 20 rounds                                                     \n",
      "[2]\ttraining's binary_logloss: 0.466636\tvalid_1's binary_logloss: 0.511516                                       \n",
      "[3]\ttraining's binary_logloss: 0.396258\tvalid_1's binary_logloss: 0.458829                                       \n",
      "[4]\ttraining's binary_logloss: 0.335591\tvalid_1's binary_logloss: 0.41847                                        \n",
      "[5]\ttraining's binary_logloss: 0.286252\tvalid_1's binary_logloss: 0.391632                                       \n",
      "[6]\ttraining's binary_logloss: 0.247426\tvalid_1's binary_logloss: 0.362229                                       \n",
      "[7]\ttraining's binary_logloss: 0.21358\tvalid_1's binary_logloss: 0.339156                                        \n",
      "[8]\ttraining's binary_logloss: 0.185579\tvalid_1's binary_logloss: 0.321207                                       \n",
      "[9]\ttraining's binary_logloss: 0.161784\tvalid_1's binary_logloss: 0.307311                                       \n",
      "[10]\ttraining's binary_logloss: 0.141997\tvalid_1's binary_logloss: 0.296209                                      \n",
      "[11]\ttraining's binary_logloss: 0.124469\tvalid_1's binary_logloss: 0.288369                                      \n"
     ]
    },
    {
     "name": "stdout",
     "output_type": "stream",
     "text": [
      "[12]\ttraining's binary_logloss: 0.108062\tvalid_1's binary_logloss: 0.282748                                      \n",
      "[13]\ttraining's binary_logloss: 0.0948928\tvalid_1's binary_logloss: 0.280698                                     \n",
      "[14]\ttraining's binary_logloss: 0.0832587\tvalid_1's binary_logloss: 0.276119                                     \n",
      "[15]\ttraining's binary_logloss: 0.0722606\tvalid_1's binary_logloss: 0.267837                                     \n",
      "[16]\ttraining's binary_logloss: 0.0630285\tvalid_1's binary_logloss: 0.269482                                     \n",
      "[17]\ttraining's binary_logloss: 0.0549978\tvalid_1's binary_logloss: 0.265166                                     \n",
      "[18]\ttraining's binary_logloss: 0.0481545\tvalid_1's binary_logloss: 0.264049                                     \n",
      "[19]\ttraining's binary_logloss: 0.0420966\tvalid_1's binary_logloss: 0.264001                                     \n",
      "[20]\ttraining's binary_logloss: 0.036865\tvalid_1's binary_logloss: 0.262808                                      \n",
      "[21]\ttraining's binary_logloss: 0.0323786\tvalid_1's binary_logloss: 0.25942                                      \n",
      "[22]\ttraining's binary_logloss: 0.0281475\tvalid_1's binary_logloss: 0.256572                                     \n",
      "[23]\ttraining's binary_logloss: 0.0246236\tvalid_1's binary_logloss: 0.259386                                     \n",
      "[24]\ttraining's binary_logloss: 0.0214234\tvalid_1's binary_logloss: 0.264444                                     \n",
      "[25]\ttraining's binary_logloss: 0.0188691\tvalid_1's binary_logloss: 0.266742                                     \n",
      "[26]\ttraining's binary_logloss: 0.0164408\tvalid_1's binary_logloss: 0.272378                                     \n",
      "[27]\ttraining's binary_logloss: 0.0143506\tvalid_1's binary_logloss: 0.270415                                     \n",
      "[28]\ttraining's binary_logloss: 0.0125897\tvalid_1's binary_logloss: 0.265761                                     \n",
      "[29]\ttraining's binary_logloss: 0.0110852\tvalid_1's binary_logloss: 0.273024                                     \n",
      "[30]\ttraining's binary_logloss: 0.0096665\tvalid_1's binary_logloss: 0.278239                                     \n",
      "[31]\ttraining's binary_logloss: 0.00849085\tvalid_1's binary_logloss: 0.283519                                    \n",
      "[32]\ttraining's binary_logloss: 0.00742713\tvalid_1's binary_logloss: 0.283072                                    \n",
      "[33]\ttraining's binary_logloss: 0.00654042\tvalid_1's binary_logloss: 0.286863                                    \n",
      "[34]\ttraining's binary_logloss: 0.00580504\tvalid_1's binary_logloss: 0.292984                                    \n",
      "[35]\ttraining's binary_logloss: 0.0050634\tvalid_1's binary_logloss: 0.291442                                     \n",
      "[36]\ttraining's binary_logloss: 0.00446926\tvalid_1's binary_logloss: 0.292366                                    \n",
      "[37]\ttraining's binary_logloss: 0.00392709\tvalid_1's binary_logloss: 0.294334                                    \n",
      "[38]\ttraining's binary_logloss: 0.00344714\tvalid_1's binary_logloss: 0.293918                                    \n",
      "[39]\ttraining's binary_logloss: 0.00307358\tvalid_1's binary_logloss: 0.295638                                    \n",
      "[40]\ttraining's binary_logloss: 0.00271984\tvalid_1's binary_logloss: 0.294828                                    \n",
      "[41]\ttraining's binary_logloss: 0.00239929\tvalid_1's binary_logloss: 0.29546                                     \n",
      "[42]\ttraining's binary_logloss: 0.002089\tvalid_1's binary_logloss: 0.300521                                      \n",
      "Early stopping, best iteration is:                                                                               \n",
      "[22]\ttraining's binary_logloss: 0.0281475\tvalid_1's binary_logloss: 0.256572\n",
      "-0.9622453651598413                                                                                              \n",
      "[1]\ttraining's binary_logloss: 0.625717\tvalid_1's binary_logloss: 0.634987                                       \n",
      "Training until validation scores don't improve for 20 rounds                                                     \n",
      "[2]\ttraining's binary_logloss: 0.569398\tvalid_1's binary_logloss: 0.5866                                         \n",
      "[3]\ttraining's binary_logloss: 0.519776\tvalid_1's binary_logloss: 0.548566                                       \n",
      "[4]\ttraining's binary_logloss: 0.478186\tvalid_1's binary_logloss: 0.518043                                       \n",
      "[5]\ttraining's binary_logloss: 0.438099\tvalid_1's binary_logloss: 0.493847                                       \n",
      "[6]\ttraining's binary_logloss: 0.404507\tvalid_1's binary_logloss: 0.468573                                       \n",
      "[7]\ttraining's binary_logloss: 0.374416\tvalid_1's binary_logloss: 0.442897                                       \n",
      "[8]\ttraining's binary_logloss: 0.344357\tvalid_1's binary_logloss: 0.422327                                       \n",
      "[9]\ttraining's binary_logloss: 0.320425\tvalid_1's binary_logloss: 0.405985                                       \n",
      "[10]\ttraining's binary_logloss: 0.298999\tvalid_1's binary_logloss: 0.391039                                      \n",
      "[11]\ttraining's binary_logloss: 0.276422\tvalid_1's binary_logloss: 0.375053                                      \n",
      "[12]\ttraining's binary_logloss: 0.25867\tvalid_1's binary_logloss: 0.362824                                       \n",
      "[13]\ttraining's binary_logloss: 0.240966\tvalid_1's binary_logloss: 0.351191                                      \n",
      "[14]\ttraining's binary_logloss: 0.224993\tvalid_1's binary_logloss: 0.341487                                      \n",
      "[15]\ttraining's binary_logloss: 0.208927\tvalid_1's binary_logloss: 0.330091                                      \n",
      "[16]\ttraining's binary_logloss: 0.194632\tvalid_1's binary_logloss: 0.322939                                      \n",
      "[17]\ttraining's binary_logloss: 0.181738\tvalid_1's binary_logloss: 0.314494                                      \n",
      "[18]\ttraining's binary_logloss: 0.169783\tvalid_1's binary_logloss: 0.312103                                      \n",
      "[19]\ttraining's binary_logloss: 0.159483\tvalid_1's binary_logloss: 0.304204                                      \n",
      "[20]\ttraining's binary_logloss: 0.150025\tvalid_1's binary_logloss: 0.299844                                      \n",
      "[21]\ttraining's binary_logloss: 0.140191\tvalid_1's binary_logloss: 0.296719                                      \n",
      "[22]\ttraining's binary_logloss: 0.131125\tvalid_1's binary_logloss: 0.293735                                      \n",
      "[23]\ttraining's binary_logloss: 0.123034\tvalid_1's binary_logloss: 0.290799                                      \n",
      "[24]\ttraining's binary_logloss: 0.115234\tvalid_1's binary_logloss: 0.285595                                      \n",
      "[25]\ttraining's binary_logloss: 0.108507\tvalid_1's binary_logloss: 0.285081                                      \n",
      "[26]\ttraining's binary_logloss: 0.101875\tvalid_1's binary_logloss: 0.281504                                      \n",
      "[27]\ttraining's binary_logloss: 0.0952577\tvalid_1's binary_logloss: 0.278815                                     \n",
      "[28]\ttraining's binary_logloss: 0.0892241\tvalid_1's binary_logloss: 0.276117                                     \n",
      "[29]\ttraining's binary_logloss: 0.0836546\tvalid_1's binary_logloss: 0.273303                                     \n",
      "[30]\ttraining's binary_logloss: 0.0780656\tvalid_1's binary_logloss: 0.271528                                     \n",
      "[31]\ttraining's binary_logloss: 0.0731474\tvalid_1's binary_logloss: 0.271522                                     \n",
      "[32]\ttraining's binary_logloss: 0.0686343\tvalid_1's binary_logloss: 0.271134                                     \n",
      "[33]\ttraining's binary_logloss: 0.0643287\tvalid_1's binary_logloss: 0.270869                                     \n",
      "[34]\ttraining's binary_logloss: 0.0602926\tvalid_1's binary_logloss: 0.269059                                     \n",
      "[35]\ttraining's binary_logloss: 0.0563762\tvalid_1's binary_logloss: 0.2694                                       \n",
      "[36]\ttraining's binary_logloss: 0.0527926\tvalid_1's binary_logloss: 0.268286                                     \n",
      "[37]\ttraining's binary_logloss: 0.0495091\tvalid_1's binary_logloss: 0.269448                                     \n"
     ]
    },
    {
     "name": "stdout",
     "output_type": "stream",
     "text": [
      "[38]\ttraining's binary_logloss: 0.0465693\tvalid_1's binary_logloss: 0.270414                                     \n",
      "[39]\ttraining's binary_logloss: 0.0437246\tvalid_1's binary_logloss: 0.269331                                     \n",
      "[40]\ttraining's binary_logloss: 0.0408764\tvalid_1's binary_logloss: 0.268472                                     \n",
      "[41]\ttraining's binary_logloss: 0.0384736\tvalid_1's binary_logloss: 0.268373                                     \n",
      "[42]\ttraining's binary_logloss: 0.0358076\tvalid_1's binary_logloss: 0.265962                                     \n",
      "[43]\ttraining's binary_logloss: 0.0335679\tvalid_1's binary_logloss: 0.265235                                     \n",
      "[44]\ttraining's binary_logloss: 0.0314206\tvalid_1's binary_logloss: 0.26513                                      \n",
      "[45]\ttraining's binary_logloss: 0.0295522\tvalid_1's binary_logloss: 0.264837                                     \n",
      "[46]\ttraining's binary_logloss: 0.0276147\tvalid_1's binary_logloss: 0.267164                                     \n",
      "[47]\ttraining's binary_logloss: 0.0258158\tvalid_1's binary_logloss: 0.267765                                     \n",
      "[48]\ttraining's binary_logloss: 0.0241279\tvalid_1's binary_logloss: 0.268847                                     \n",
      "[49]\ttraining's binary_logloss: 0.0224776\tvalid_1's binary_logloss: 0.267753                                     \n",
      "[50]\ttraining's binary_logloss: 0.0211333\tvalid_1's binary_logloss: 0.266752                                     \n",
      "[51]\ttraining's binary_logloss: 0.0199353\tvalid_1's binary_logloss: 0.268412                                     \n",
      "[52]\ttraining's binary_logloss: 0.0187966\tvalid_1's binary_logloss: 0.267929                                     \n",
      "[53]\ttraining's binary_logloss: 0.0176364\tvalid_1's binary_logloss: 0.270323                                     \n",
      "[54]\ttraining's binary_logloss: 0.0165631\tvalid_1's binary_logloss: 0.268495                                     \n",
      "[55]\ttraining's binary_logloss: 0.015592\tvalid_1's binary_logloss: 0.27038                                       \n",
      "[56]\ttraining's binary_logloss: 0.0145829\tvalid_1's binary_logloss: 0.269431                                     \n",
      "[57]\ttraining's binary_logloss: 0.0136908\tvalid_1's binary_logloss: 0.269591                                     \n",
      "[58]\ttraining's binary_logloss: 0.0128239\tvalid_1's binary_logloss: 0.271075                                     \n",
      "[59]\ttraining's binary_logloss: 0.0120579\tvalid_1's binary_logloss: 0.27212                                      \n",
      "[60]\ttraining's binary_logloss: 0.0112747\tvalid_1's binary_logloss: 0.273372                                     \n",
      "[61]\ttraining's binary_logloss: 0.0105976\tvalid_1's binary_logloss: 0.274992                                     \n",
      "[62]\ttraining's binary_logloss: 0.00993309\tvalid_1's binary_logloss: 0.276172                                    \n",
      "[63]\ttraining's binary_logloss: 0.009407\tvalid_1's binary_logloss: 0.277516                                      \n",
      "[64]\ttraining's binary_logloss: 0.0088525\tvalid_1's binary_logloss: 0.279664                                     \n",
      "[65]\ttraining's binary_logloss: 0.0083205\tvalid_1's binary_logloss: 0.279969                                     \n",
      "Early stopping, best iteration is:                                                                               \n",
      "[45]\ttraining's binary_logloss: 0.0295522\tvalid_1's binary_logloss: 0.264837\n",
      "-0.9622841724369555                                                                                              \n",
      "[1]\ttraining's binary_logloss: 0.631523\tvalid_1's binary_logloss: 0.639978                                       \n",
      "Training until validation scores don't improve for 20 rounds                                                     \n",
      "[2]\ttraining's binary_logloss: 0.578945\tvalid_1's binary_logloss: 0.595035                                       \n",
      "[3]\ttraining's binary_logloss: 0.532342\tvalid_1's binary_logloss: 0.559042                                       \n",
      "[4]\ttraining's binary_logloss: 0.492762\tvalid_1's binary_logloss: 0.52906                                        \n",
      "[5]\ttraining's binary_logloss: 0.457977\tvalid_1's binary_logloss: 0.50344                                        \n",
      "[6]\ttraining's binary_logloss: 0.423578\tvalid_1's binary_logloss: 0.483047                                       \n",
      "[7]\ttraining's binary_logloss: 0.394093\tvalid_1's binary_logloss: 0.4617                                         \n",
      "[8]\ttraining's binary_logloss: 0.36712\tvalid_1's binary_logloss: 0.439783                                        \n",
      "[9]\ttraining's binary_logloss: 0.340785\tvalid_1's binary_logloss: 0.423093                                       \n",
      "[10]\ttraining's binary_logloss: 0.317812\tvalid_1's binary_logloss: 0.405437                                      \n",
      "[11]\ttraining's binary_logloss: 0.297619\tvalid_1's binary_logloss: 0.388608                                      \n",
      "[12]\ttraining's binary_logloss: 0.278412\tvalid_1's binary_logloss: 0.37553                                       \n",
      "[13]\ttraining's binary_logloss: 0.26232\tvalid_1's binary_logloss: 0.364197                                       \n",
      "[14]\ttraining's binary_logloss: 0.245639\tvalid_1's binary_logloss: 0.353776                                      \n",
      "[15]\ttraining's binary_logloss: 0.231018\tvalid_1's binary_logloss: 0.344028                                      \n",
      "[16]\ttraining's binary_logloss: 0.216382\tvalid_1's binary_logloss: 0.333796                                      \n",
      "[17]\ttraining's binary_logloss: 0.2035\tvalid_1's binary_logloss: 0.325941                                        \n",
      "[18]\ttraining's binary_logloss: 0.190405\tvalid_1's binary_logloss: 0.319872                                      \n",
      "[19]\ttraining's binary_logloss: 0.179039\tvalid_1's binary_logloss: 0.313336                                      \n",
      "[20]\ttraining's binary_logloss: 0.168559\tvalid_1's binary_logloss: 0.307439                                      \n",
      "[21]\ttraining's binary_logloss: 0.15874\tvalid_1's binary_logloss: 0.301956                                       \n",
      "[22]\ttraining's binary_logloss: 0.149657\tvalid_1's binary_logloss: 0.29923                                       \n",
      "[23]\ttraining's binary_logloss: 0.141009\tvalid_1's binary_logloss: 0.295243                                      \n",
      "[24]\ttraining's binary_logloss: 0.132644\tvalid_1's binary_logloss: 0.291956                                      \n",
      "[25]\ttraining's binary_logloss: 0.124944\tvalid_1's binary_logloss: 0.288107                                      \n",
      "[26]\ttraining's binary_logloss: 0.117256\tvalid_1's binary_logloss: 0.28484                                       \n",
      "[27]\ttraining's binary_logloss: 0.111121\tvalid_1's binary_logloss: 0.282237                                      \n",
      "[28]\ttraining's binary_logloss: 0.104848\tvalid_1's binary_logloss: 0.278144                                      \n",
      "[29]\ttraining's binary_logloss: 0.0990648\tvalid_1's binary_logloss: 0.273064                                     \n",
      "[30]\ttraining's binary_logloss: 0.0934796\tvalid_1's binary_logloss: 0.270522                                     \n",
      "[31]\ttraining's binary_logloss: 0.0885669\tvalid_1's binary_logloss: 0.26739                                      \n",
      "[32]\ttraining's binary_logloss: 0.0832476\tvalid_1's binary_logloss: 0.263755                                     \n",
      "[33]\ttraining's binary_logloss: 0.078282\tvalid_1's binary_logloss: 0.261394                                      \n",
      "[34]\ttraining's binary_logloss: 0.0741463\tvalid_1's binary_logloss: 0.259038                                     \n",
      "[35]\ttraining's binary_logloss: 0.0697076\tvalid_1's binary_logloss: 0.257084                                     \n",
      "[36]\ttraining's binary_logloss: 0.0657153\tvalid_1's binary_logloss: 0.256668                                     \n",
      "[37]\ttraining's binary_logloss: 0.0621228\tvalid_1's binary_logloss: 0.254583                                     \n",
      "[38]\ttraining's binary_logloss: 0.0586247\tvalid_1's binary_logloss: 0.252844                                     \n",
      "[39]\ttraining's binary_logloss: 0.0553924\tvalid_1's binary_logloss: 0.253095                                     \n",
      "[40]\ttraining's binary_logloss: 0.052259\tvalid_1's binary_logloss: 0.250901                                      \n"
     ]
    },
    {
     "name": "stdout",
     "output_type": "stream",
     "text": [
      "[41]\ttraining's binary_logloss: 0.0491522\tvalid_1's binary_logloss: 0.251462                                     \n",
      "[42]\ttraining's binary_logloss: 0.046347\tvalid_1's binary_logloss: 0.252439                                      \n",
      "[43]\ttraining's binary_logloss: 0.0436687\tvalid_1's binary_logloss: 0.251214                                     \n",
      "[44]\ttraining's binary_logloss: 0.0413113\tvalid_1's binary_logloss: 0.251163                                     \n",
      "[45]\ttraining's binary_logloss: 0.0389038\tvalid_1's binary_logloss: 0.253146                                     \n",
      "[46]\ttraining's binary_logloss: 0.0366477\tvalid_1's binary_logloss: 0.251659                                     \n",
      "[47]\ttraining's binary_logloss: 0.0347086\tvalid_1's binary_logloss: 0.250068                                     \n",
      "[48]\ttraining's binary_logloss: 0.0327942\tvalid_1's binary_logloss: 0.250763                                     \n",
      "[49]\ttraining's binary_logloss: 0.0308977\tvalid_1's binary_logloss: 0.250528                                     \n",
      "[50]\ttraining's binary_logloss: 0.0292279\tvalid_1's binary_logloss: 0.252392                                     \n",
      "[51]\ttraining's binary_logloss: 0.0275311\tvalid_1's binary_logloss: 0.251998                                     \n",
      "[52]\ttraining's binary_logloss: 0.0259685\tvalid_1's binary_logloss: 0.253916                                     \n",
      "[53]\ttraining's binary_logloss: 0.024313\tvalid_1's binary_logloss: 0.25181                                       \n",
      "[54]\ttraining's binary_logloss: 0.0229386\tvalid_1's binary_logloss: 0.251389                                     \n",
      "[55]\ttraining's binary_logloss: 0.0216528\tvalid_1's binary_logloss: 0.252311                                     \n",
      "[56]\ttraining's binary_logloss: 0.0204187\tvalid_1's binary_logloss: 0.254786                                     \n",
      "[57]\ttraining's binary_logloss: 0.0193146\tvalid_1's binary_logloss: 0.254598                                     \n",
      "[58]\ttraining's binary_logloss: 0.018246\tvalid_1's binary_logloss: 0.253936                                      \n",
      "[59]\ttraining's binary_logloss: 0.0171833\tvalid_1's binary_logloss: 0.256479                                     \n",
      "[60]\ttraining's binary_logloss: 0.0163669\tvalid_1's binary_logloss: 0.257348                                     \n",
      "[61]\ttraining's binary_logloss: 0.0153842\tvalid_1's binary_logloss: 0.259626                                     \n",
      "[62]\ttraining's binary_logloss: 0.0145111\tvalid_1's binary_logloss: 0.262022                                     \n",
      "[63]\ttraining's binary_logloss: 0.0136792\tvalid_1's binary_logloss: 0.261717                                     \n",
      "[64]\ttraining's binary_logloss: 0.0129059\tvalid_1's binary_logloss: 0.265463                                     \n",
      "[65]\ttraining's binary_logloss: 0.012122\tvalid_1's binary_logloss: 0.266205                                      \n",
      "[66]\ttraining's binary_logloss: 0.0114824\tvalid_1's binary_logloss: 0.26677                                      \n",
      "[67]\ttraining's binary_logloss: 0.0108171\tvalid_1's binary_logloss: 0.267396                                     \n",
      "Early stopping, best iteration is:                                                                               \n",
      "[47]\ttraining's binary_logloss: 0.0347086\tvalid_1's binary_logloss: 0.250068\n",
      "-0.962862958020404                                                                                               \n",
      "[1]\ttraining's binary_logloss: 0.586863\tvalid_1's binary_logloss: 0.601761                                       \n",
      "Training until validation scores don't improve for 20 rounds                                                     \n",
      "[2]\ttraining's binary_logloss: 0.504877\tvalid_1's binary_logloss: 0.542128                                       \n",
      "[3]\ttraining's binary_logloss: 0.436253\tvalid_1's binary_logloss: 0.495432                                       \n",
      "[4]\ttraining's binary_logloss: 0.386211\tvalid_1's binary_logloss: 0.45941                                        \n",
      "[5]\ttraining's binary_logloss: 0.337202\tvalid_1's binary_logloss: 0.425714                                       \n",
      "[6]\ttraining's binary_logloss: 0.300469\tvalid_1's binary_logloss: 0.396777                                       \n",
      "[7]\ttraining's binary_logloss: 0.266907\tvalid_1's binary_logloss: 0.375544                                       \n",
      "[8]\ttraining's binary_logloss: 0.237261\tvalid_1's binary_logloss: 0.350849                                       \n",
      "[9]\ttraining's binary_logloss: 0.211366\tvalid_1's binary_logloss: 0.330542                                       \n",
      "[10]\ttraining's binary_logloss: 0.188331\tvalid_1's binary_logloss: 0.316948                                      \n",
      "[11]\ttraining's binary_logloss: 0.168756\tvalid_1's binary_logloss: 0.301161                                      \n",
      "[12]\ttraining's binary_logloss: 0.152824\tvalid_1's binary_logloss: 0.293743                                      \n",
      "[13]\ttraining's binary_logloss: 0.136385\tvalid_1's binary_logloss: 0.283005                                      \n",
      "[14]\ttraining's binary_logloss: 0.122594\tvalid_1's binary_logloss: 0.276825                                      \n",
      "[15]\ttraining's binary_logloss: 0.109935\tvalid_1's binary_logloss: 0.269749                                      \n",
      "[16]\ttraining's binary_logloss: 0.0986663\tvalid_1's binary_logloss: 0.26565                                      \n",
      "[17]\ttraining's binary_logloss: 0.0888626\tvalid_1's binary_logloss: 0.265184                                     \n",
      "[18]\ttraining's binary_logloss: 0.0802059\tvalid_1's binary_logloss: 0.261835                                     \n",
      "[19]\ttraining's binary_logloss: 0.071941\tvalid_1's binary_logloss: 0.259787                                      \n",
      "[20]\ttraining's binary_logloss: 0.0646167\tvalid_1's binary_logloss: 0.258847                                     \n",
      "[21]\ttraining's binary_logloss: 0.0584268\tvalid_1's binary_logloss: 0.259409                                     \n",
      "[22]\ttraining's binary_logloss: 0.0525604\tvalid_1's binary_logloss: 0.256308                                     \n",
      "[23]\ttraining's binary_logloss: 0.0472717\tvalid_1's binary_logloss: 0.260049                                     \n",
      "[24]\ttraining's binary_logloss: 0.0425778\tvalid_1's binary_logloss: 0.257909                                     \n",
      "[25]\ttraining's binary_logloss: 0.0384525\tvalid_1's binary_logloss: 0.255329                                     \n",
      "[26]\ttraining's binary_logloss: 0.0346201\tvalid_1's binary_logloss: 0.258776                                     \n",
      "[27]\ttraining's binary_logloss: 0.0308729\tvalid_1's binary_logloss: 0.257993                                     \n",
      "[28]\ttraining's binary_logloss: 0.0279552\tvalid_1's binary_logloss: 0.257774                                     \n",
      "[29]\ttraining's binary_logloss: 0.0252008\tvalid_1's binary_logloss: 0.258539                                     \n",
      "[30]\ttraining's binary_logloss: 0.0226199\tvalid_1's binary_logloss: 0.259647                                     \n",
      "[31]\ttraining's binary_logloss: 0.0202874\tvalid_1's binary_logloss: 0.264447                                     \n",
      "[32]\ttraining's binary_logloss: 0.0181897\tvalid_1's binary_logloss: 0.268316                                     \n",
      "[33]\ttraining's binary_logloss: 0.0165802\tvalid_1's binary_logloss: 0.270003                                     \n",
      "[34]\ttraining's binary_logloss: 0.0148957\tvalid_1's binary_logloss: 0.272751                                     \n",
      "[35]\ttraining's binary_logloss: 0.0134676\tvalid_1's binary_logloss: 0.272942                                     \n",
      "[36]\ttraining's binary_logloss: 0.0121469\tvalid_1's binary_logloss: 0.276577                                     \n",
      "[37]\ttraining's binary_logloss: 0.0109353\tvalid_1's binary_logloss: 0.279199                                     \n",
      "[38]\ttraining's binary_logloss: 0.00990137\tvalid_1's binary_logloss: 0.282583                                    \n",
      "[39]\ttraining's binary_logloss: 0.00902548\tvalid_1's binary_logloss: 0.28524                                     \n",
      "[40]\ttraining's binary_logloss: 0.0081108\tvalid_1's binary_logloss: 0.287696                                     \n",
      "[41]\ttraining's binary_logloss: 0.00735784\tvalid_1's binary_logloss: 0.290871                                    \n"
     ]
    },
    {
     "name": "stdout",
     "output_type": "stream",
     "text": [
      "[42]\ttraining's binary_logloss: 0.00663445\tvalid_1's binary_logloss: 0.295444                                    \n",
      "[43]\ttraining's binary_logloss: 0.00596813\tvalid_1's binary_logloss: 0.296388                                    \n",
      "[44]\ttraining's binary_logloss: 0.00539633\tvalid_1's binary_logloss: 0.293598                                    \n",
      "[45]\ttraining's binary_logloss: 0.00483158\tvalid_1's binary_logloss: 0.296756                                    \n",
      "Early stopping, best iteration is:                                                                               \n",
      "[25]\ttraining's binary_logloss: 0.0384525\tvalid_1's binary_logloss: 0.255329\n",
      "-0.9619562142855443                                                                                              \n",
      "[1]\ttraining's binary_logloss: 0.631523\tvalid_1's binary_logloss: 0.639978                                       \n",
      "Training until validation scores don't improve for 20 rounds                                                     \n",
      "[2]\ttraining's binary_logloss: 0.578945\tvalid_1's binary_logloss: 0.595035                                       \n",
      "[3]\ttraining's binary_logloss: 0.532342\tvalid_1's binary_logloss: 0.559042                                       \n",
      "[4]\ttraining's binary_logloss: 0.492762\tvalid_1's binary_logloss: 0.52906                                        \n",
      "[5]\ttraining's binary_logloss: 0.457977\tvalid_1's binary_logloss: 0.50344                                        \n",
      "[6]\ttraining's binary_logloss: 0.423578\tvalid_1's binary_logloss: 0.483047                                       \n",
      "[7]\ttraining's binary_logloss: 0.394093\tvalid_1's binary_logloss: 0.4617                                         \n",
      "[8]\ttraining's binary_logloss: 0.36712\tvalid_1's binary_logloss: 0.439783                                        \n",
      "[9]\ttraining's binary_logloss: 0.340785\tvalid_1's binary_logloss: 0.423093                                       \n",
      "[10]\ttraining's binary_logloss: 0.317812\tvalid_1's binary_logloss: 0.405437                                      \n",
      "[11]\ttraining's binary_logloss: 0.297619\tvalid_1's binary_logloss: 0.388608                                      \n",
      "[12]\ttraining's binary_logloss: 0.278412\tvalid_1's binary_logloss: 0.37553                                       \n",
      "[13]\ttraining's binary_logloss: 0.26232\tvalid_1's binary_logloss: 0.364197                                       \n",
      "[14]\ttraining's binary_logloss: 0.245639\tvalid_1's binary_logloss: 0.353776                                      \n",
      "[15]\ttraining's binary_logloss: 0.231018\tvalid_1's binary_logloss: 0.344028                                      \n",
      "[16]\ttraining's binary_logloss: 0.216382\tvalid_1's binary_logloss: 0.333796                                      \n",
      "[17]\ttraining's binary_logloss: 0.2035\tvalid_1's binary_logloss: 0.325941                                        \n",
      "[18]\ttraining's binary_logloss: 0.190405\tvalid_1's binary_logloss: 0.319872                                      \n",
      "[19]\ttraining's binary_logloss: 0.179039\tvalid_1's binary_logloss: 0.313336                                      \n",
      "[20]\ttraining's binary_logloss: 0.168559\tvalid_1's binary_logloss: 0.307439                                      \n",
      "[21]\ttraining's binary_logloss: 0.15874\tvalid_1's binary_logloss: 0.301956                                       \n",
      "[22]\ttraining's binary_logloss: 0.149657\tvalid_1's binary_logloss: 0.29923                                       \n",
      "[23]\ttraining's binary_logloss: 0.141009\tvalid_1's binary_logloss: 0.295243                                      \n",
      "[24]\ttraining's binary_logloss: 0.132644\tvalid_1's binary_logloss: 0.291956                                      \n",
      "[25]\ttraining's binary_logloss: 0.124944\tvalid_1's binary_logloss: 0.288107                                      \n",
      "[26]\ttraining's binary_logloss: 0.117256\tvalid_1's binary_logloss: 0.28484                                       \n",
      "[27]\ttraining's binary_logloss: 0.111121\tvalid_1's binary_logloss: 0.282237                                      \n",
      "[28]\ttraining's binary_logloss: 0.104848\tvalid_1's binary_logloss: 0.278144                                      \n",
      "[29]\ttraining's binary_logloss: 0.0990648\tvalid_1's binary_logloss: 0.273064                                     \n",
      "[30]\ttraining's binary_logloss: 0.0934796\tvalid_1's binary_logloss: 0.270522                                     \n",
      "[31]\ttraining's binary_logloss: 0.0885669\tvalid_1's binary_logloss: 0.26739                                      \n",
      "[32]\ttraining's binary_logloss: 0.0832476\tvalid_1's binary_logloss: 0.263755                                     \n",
      "[33]\ttraining's binary_logloss: 0.078282\tvalid_1's binary_logloss: 0.261394                                      \n",
      "[34]\ttraining's binary_logloss: 0.0741463\tvalid_1's binary_logloss: 0.259038                                     \n",
      "[35]\ttraining's binary_logloss: 0.0697076\tvalid_1's binary_logloss: 0.257084                                     \n",
      "[36]\ttraining's binary_logloss: 0.0657153\tvalid_1's binary_logloss: 0.256668                                     \n",
      "[37]\ttraining's binary_logloss: 0.0621228\tvalid_1's binary_logloss: 0.254583                                     \n",
      "[38]\ttraining's binary_logloss: 0.0586247\tvalid_1's binary_logloss: 0.252844                                     \n",
      "[39]\ttraining's binary_logloss: 0.0553924\tvalid_1's binary_logloss: 0.253095                                     \n",
      "[40]\ttraining's binary_logloss: 0.052259\tvalid_1's binary_logloss: 0.250901                                      \n",
      "[41]\ttraining's binary_logloss: 0.0491522\tvalid_1's binary_logloss: 0.251462                                     \n",
      "[42]\ttraining's binary_logloss: 0.046347\tvalid_1's binary_logloss: 0.252439                                      \n",
      "[43]\ttraining's binary_logloss: 0.0436687\tvalid_1's binary_logloss: 0.251214                                     \n",
      "[44]\ttraining's binary_logloss: 0.0413113\tvalid_1's binary_logloss: 0.251163                                     \n",
      "[45]\ttraining's binary_logloss: 0.0389038\tvalid_1's binary_logloss: 0.253146                                     \n",
      "[46]\ttraining's binary_logloss: 0.0366477\tvalid_1's binary_logloss: 0.251659                                     \n",
      "[47]\ttraining's binary_logloss: 0.0347086\tvalid_1's binary_logloss: 0.250068                                     \n",
      "[48]\ttraining's binary_logloss: 0.0327942\tvalid_1's binary_logloss: 0.250763                                     \n",
      "[49]\ttraining's binary_logloss: 0.0308977\tvalid_1's binary_logloss: 0.250528                                     \n",
      "[50]\ttraining's binary_logloss: 0.0292279\tvalid_1's binary_logloss: 0.252392                                     \n",
      "[51]\ttraining's binary_logloss: 0.0275311\tvalid_1's binary_logloss: 0.251998                                     \n",
      "[52]\ttraining's binary_logloss: 0.0259685\tvalid_1's binary_logloss: 0.253916                                     \n",
      "[53]\ttraining's binary_logloss: 0.024313\tvalid_1's binary_logloss: 0.25181                                       \n",
      "[54]\ttraining's binary_logloss: 0.0229386\tvalid_1's binary_logloss: 0.251389                                     \n",
      "[55]\ttraining's binary_logloss: 0.0216528\tvalid_1's binary_logloss: 0.252311                                     \n",
      "[56]\ttraining's binary_logloss: 0.0204187\tvalid_1's binary_logloss: 0.254786                                     \n",
      "[57]\ttraining's binary_logloss: 0.0193146\tvalid_1's binary_logloss: 0.254598                                     \n",
      "[58]\ttraining's binary_logloss: 0.018246\tvalid_1's binary_logloss: 0.253936                                      \n",
      "[59]\ttraining's binary_logloss: 0.0171833\tvalid_1's binary_logloss: 0.256479                                     \n",
      "[60]\ttraining's binary_logloss: 0.0163669\tvalid_1's binary_logloss: 0.257348                                     \n",
      "[61]\ttraining's binary_logloss: 0.0153842\tvalid_1's binary_logloss: 0.259626                                     \n",
      "[62]\ttraining's binary_logloss: 0.0145111\tvalid_1's binary_logloss: 0.262022                                     \n",
      "[63]\ttraining's binary_logloss: 0.0136792\tvalid_1's binary_logloss: 0.261717                                     \n",
      "[64]\ttraining's binary_logloss: 0.0129059\tvalid_1's binary_logloss: 0.265463                                     \n"
     ]
    },
    {
     "name": "stdout",
     "output_type": "stream",
     "text": [
      "[65]\ttraining's binary_logloss: 0.012122\tvalid_1's binary_logloss: 0.266205                                      \n",
      "[66]\ttraining's binary_logloss: 0.0114824\tvalid_1's binary_logloss: 0.26677                                      \n",
      "[67]\ttraining's binary_logloss: 0.0108171\tvalid_1's binary_logloss: 0.267396                                     \n",
      "Early stopping, best iteration is:                                                                               \n",
      "[47]\ttraining's binary_logloss: 0.0347086\tvalid_1's binary_logloss: 0.250068\n",
      "-0.962862958020404                                                                                               \n",
      "[1]\ttraining's binary_logloss: 0.643328\tvalid_1's binary_logloss: 0.650145                                       \n",
      "Training until validation scores don't improve for 20 rounds                                                     \n",
      "[2]\ttraining's binary_logloss: 0.599413\tvalid_1's binary_logloss: 0.61241                                        \n",
      "[3]\ttraining's binary_logloss: 0.560188\tvalid_1's binary_logloss: 0.582142                                       \n",
      "[4]\ttraining's binary_logloss: 0.524832\tvalid_1's binary_logloss: 0.554611                                       \n",
      "[5]\ttraining's binary_logloss: 0.494696\tvalid_1's binary_logloss: 0.530683                                       \n",
      "[6]\ttraining's binary_logloss: 0.463882\tvalid_1's binary_logloss: 0.509897                                       \n",
      "[7]\ttraining's binary_logloss: 0.435995\tvalid_1's binary_logloss: 0.489789                                       \n",
      "[8]\ttraining's binary_logloss: 0.41082\tvalid_1's binary_logloss: 0.469637                                        \n",
      "[9]\ttraining's binary_logloss: 0.387873\tvalid_1's binary_logloss: 0.453518                                       \n",
      "[10]\ttraining's binary_logloss: 0.36762\tvalid_1's binary_logloss: 0.437231                                       \n",
      "[11]\ttraining's binary_logloss: 0.34863\tvalid_1's binary_logloss: 0.426262                                       \n",
      "[12]\ttraining's binary_logloss: 0.32991\tvalid_1's binary_logloss: 0.413633                                       \n",
      "[13]\ttraining's binary_logloss: 0.312649\tvalid_1's binary_logloss: 0.399951                                      \n",
      "[14]\ttraining's binary_logloss: 0.295412\tvalid_1's binary_logloss: 0.389595                                      \n",
      "[15]\ttraining's binary_logloss: 0.280377\tvalid_1's binary_logloss: 0.380673                                      \n",
      "[16]\ttraining's binary_logloss: 0.266855\tvalid_1's binary_logloss: 0.370368                                      \n",
      "[17]\ttraining's binary_logloss: 0.253493\tvalid_1's binary_logloss: 0.359921                                      \n",
      "[18]\ttraining's binary_logloss: 0.240349\tvalid_1's binary_logloss: 0.350379                                      \n",
      "[19]\ttraining's binary_logloss: 0.228693\tvalid_1's binary_logloss: 0.341931                                      \n",
      "[20]\ttraining's binary_logloss: 0.217973\tvalid_1's binary_logloss: 0.335284                                      \n",
      "[21]\ttraining's binary_logloss: 0.207339\tvalid_1's binary_logloss: 0.328403                                      \n",
      "[22]\ttraining's binary_logloss: 0.197149\tvalid_1's binary_logloss: 0.322718                                      \n",
      "[23]\ttraining's binary_logloss: 0.187442\tvalid_1's binary_logloss: 0.317054                                      \n",
      "[24]\ttraining's binary_logloss: 0.178211\tvalid_1's binary_logloss: 0.310993                                      \n",
      "[25]\ttraining's binary_logloss: 0.170028\tvalid_1's binary_logloss: 0.306724                                      \n",
      "[26]\ttraining's binary_logloss: 0.162326\tvalid_1's binary_logloss: 0.301787                                      \n",
      "[27]\ttraining's binary_logloss: 0.154936\tvalid_1's binary_logloss: 0.298305                                      \n",
      "[28]\ttraining's binary_logloss: 0.147271\tvalid_1's binary_logloss: 0.295275                                      \n",
      "[29]\ttraining's binary_logloss: 0.140551\tvalid_1's binary_logloss: 0.292011                                      \n",
      "[30]\ttraining's binary_logloss: 0.133984\tvalid_1's binary_logloss: 0.28735                                       \n",
      "[31]\ttraining's binary_logloss: 0.127781\tvalid_1's binary_logloss: 0.284697                                      \n",
      "[32]\ttraining's binary_logloss: 0.121945\tvalid_1's binary_logloss: 0.28311                                       \n",
      "[33]\ttraining's binary_logloss: 0.116185\tvalid_1's binary_logloss: 0.280691                                      \n",
      "[34]\ttraining's binary_logloss: 0.110701\tvalid_1's binary_logloss: 0.279828                                      \n",
      "[35]\ttraining's binary_logloss: 0.105905\tvalid_1's binary_logloss: 0.277982                                      \n",
      "[36]\ttraining's binary_logloss: 0.100979\tvalid_1's binary_logloss: 0.276751                                      \n",
      "[37]\ttraining's binary_logloss: 0.0963662\tvalid_1's binary_logloss: 0.275799                                     \n",
      "[38]\ttraining's binary_logloss: 0.0917543\tvalid_1's binary_logloss: 0.274478                                     \n",
      "[39]\ttraining's binary_logloss: 0.0878021\tvalid_1's binary_logloss: 0.27368                                      \n",
      "[40]\ttraining's binary_logloss: 0.0838569\tvalid_1's binary_logloss: 0.272781                                     \n",
      "[41]\ttraining's binary_logloss: 0.0799247\tvalid_1's binary_logloss: 0.272294                                     \n",
      "[42]\ttraining's binary_logloss: 0.0761331\tvalid_1's binary_logloss: 0.271383                                     \n",
      "[43]\ttraining's binary_logloss: 0.0725697\tvalid_1's binary_logloss: 0.27055                                      \n",
      "[44]\ttraining's binary_logloss: 0.0688606\tvalid_1's binary_logloss: 0.268232                                     \n",
      "[45]\ttraining's binary_logloss: 0.0657411\tvalid_1's binary_logloss: 0.266672                                     \n",
      "[46]\ttraining's binary_logloss: 0.0626849\tvalid_1's binary_logloss: 0.266597                                     \n",
      "[47]\ttraining's binary_logloss: 0.0597762\tvalid_1's binary_logloss: 0.26535                                      \n",
      "[48]\ttraining's binary_logloss: 0.0569749\tvalid_1's binary_logloss: 0.26329                                      \n",
      "[49]\ttraining's binary_logloss: 0.0544604\tvalid_1's binary_logloss: 0.261693                                     \n",
      "[50]\ttraining's binary_logloss: 0.0519957\tvalid_1's binary_logloss: 0.260598                                     \n",
      "[51]\ttraining's binary_logloss: 0.0494087\tvalid_1's binary_logloss: 0.259714                                     \n",
      "[52]\ttraining's binary_logloss: 0.0473049\tvalid_1's binary_logloss: 0.259044                                     \n",
      "[53]\ttraining's binary_logloss: 0.0449346\tvalid_1's binary_logloss: 0.257462                                     \n",
      "[54]\ttraining's binary_logloss: 0.0426688\tvalid_1's binary_logloss: 0.255346                                     \n",
      "[55]\ttraining's binary_logloss: 0.0404918\tvalid_1's binary_logloss: 0.25414                                      \n",
      "[56]\ttraining's binary_logloss: 0.0386419\tvalid_1's binary_logloss: 0.255218                                     \n",
      "[57]\ttraining's binary_logloss: 0.0369106\tvalid_1's binary_logloss: 0.256406                                     \n",
      "[58]\ttraining's binary_logloss: 0.0351304\tvalid_1's binary_logloss: 0.256126                                     \n",
      "[59]\ttraining's binary_logloss: 0.0334913\tvalid_1's binary_logloss: 0.255348                                     \n",
      "[60]\ttraining's binary_logloss: 0.0320004\tvalid_1's binary_logloss: 0.256032                                     \n",
      "[61]\ttraining's binary_logloss: 0.0304916\tvalid_1's binary_logloss: 0.256482                                     \n",
      "[62]\ttraining's binary_logloss: 0.0291136\tvalid_1's binary_logloss: 0.256399                                     \n",
      "[63]\ttraining's binary_logloss: 0.0277141\tvalid_1's binary_logloss: 0.258748                                     \n",
      "[64]\ttraining's binary_logloss: 0.0265354\tvalid_1's binary_logloss: 0.258822                                     \n",
      "[65]\ttraining's binary_logloss: 0.0254689\tvalid_1's binary_logloss: 0.257971                                     \n"
     ]
    },
    {
     "name": "stdout",
     "output_type": "stream",
     "text": [
      "[66]\ttraining's binary_logloss: 0.0242781\tvalid_1's binary_logloss: 0.258507                                     \n",
      "[67]\ttraining's binary_logloss: 0.0231602\tvalid_1's binary_logloss: 0.257746                                     \n",
      "[68]\ttraining's binary_logloss: 0.022129\tvalid_1's binary_logloss: 0.259253                                      \n",
      "[69]\ttraining's binary_logloss: 0.0212644\tvalid_1's binary_logloss: 0.259189                                     \n",
      "[70]\ttraining's binary_logloss: 0.0202816\tvalid_1's binary_logloss: 0.261347                                     \n",
      "[71]\ttraining's binary_logloss: 0.0193496\tvalid_1's binary_logloss: 0.263059                                     \n",
      "[72]\ttraining's binary_logloss: 0.0184675\tvalid_1's binary_logloss: 0.263391                                     \n",
      "[73]\ttraining's binary_logloss: 0.0176683\tvalid_1's binary_logloss: 0.264028                                     \n",
      "[74]\ttraining's binary_logloss: 0.0168246\tvalid_1's binary_logloss: 0.263438                                     \n",
      "[75]\ttraining's binary_logloss: 0.0160566\tvalid_1's binary_logloss: 0.263224                                     \n",
      "Early stopping, best iteration is:                                                                               \n",
      "[55]\ttraining's binary_logloss: 0.0404918\tvalid_1's binary_logloss: 0.25414\n",
      "-0.9618789049194542                                                                                              \n",
      "[1]\ttraining's binary_logloss: 0.561004\tvalid_1's binary_logloss: 0.579842                                       \n",
      "Training until validation scores don't improve for 20 rounds                                                     \n",
      "[2]\ttraining's binary_logloss: 0.466636\tvalid_1's binary_logloss: 0.511516                                       \n",
      "[3]\ttraining's binary_logloss: 0.396258\tvalid_1's binary_logloss: 0.458829                                       \n",
      "[4]\ttraining's binary_logloss: 0.335591\tvalid_1's binary_logloss: 0.41847                                        \n",
      "[5]\ttraining's binary_logloss: 0.286252\tvalid_1's binary_logloss: 0.391632                                       \n",
      "[6]\ttraining's binary_logloss: 0.247426\tvalid_1's binary_logloss: 0.362229                                       \n",
      "[7]\ttraining's binary_logloss: 0.21358\tvalid_1's binary_logloss: 0.339156                                        \n",
      "[8]\ttraining's binary_logloss: 0.185579\tvalid_1's binary_logloss: 0.321207                                       \n",
      "[9]\ttraining's binary_logloss: 0.161784\tvalid_1's binary_logloss: 0.307311                                       \n",
      "[10]\ttraining's binary_logloss: 0.141997\tvalid_1's binary_logloss: 0.296209                                      \n",
      "[11]\ttraining's binary_logloss: 0.124469\tvalid_1's binary_logloss: 0.288369                                      \n",
      "[12]\ttraining's binary_logloss: 0.108062\tvalid_1's binary_logloss: 0.282748                                      \n",
      "[13]\ttraining's binary_logloss: 0.0948928\tvalid_1's binary_logloss: 0.280698                                     \n",
      "[14]\ttraining's binary_logloss: 0.0832587\tvalid_1's binary_logloss: 0.276119                                     \n",
      "[15]\ttraining's binary_logloss: 0.0722606\tvalid_1's binary_logloss: 0.267837                                     \n",
      "[16]\ttraining's binary_logloss: 0.0630285\tvalid_1's binary_logloss: 0.269482                                     \n",
      "[17]\ttraining's binary_logloss: 0.0549978\tvalid_1's binary_logloss: 0.265166                                     \n",
      "[18]\ttraining's binary_logloss: 0.0481545\tvalid_1's binary_logloss: 0.264049                                     \n",
      "[19]\ttraining's binary_logloss: 0.0420966\tvalid_1's binary_logloss: 0.264001                                     \n",
      "[20]\ttraining's binary_logloss: 0.036865\tvalid_1's binary_logloss: 0.262808                                      \n",
      "[21]\ttraining's binary_logloss: 0.0323786\tvalid_1's binary_logloss: 0.25942                                      \n",
      "[22]\ttraining's binary_logloss: 0.0281475\tvalid_1's binary_logloss: 0.256572                                     \n",
      "[23]\ttraining's binary_logloss: 0.0246236\tvalid_1's binary_logloss: 0.259386                                     \n",
      "[24]\ttraining's binary_logloss: 0.0214234\tvalid_1's binary_logloss: 0.264444                                     \n",
      "[25]\ttraining's binary_logloss: 0.0188691\tvalid_1's binary_logloss: 0.266742                                     \n",
      "[26]\ttraining's binary_logloss: 0.0164408\tvalid_1's binary_logloss: 0.272378                                     \n",
      "[27]\ttraining's binary_logloss: 0.0143506\tvalid_1's binary_logloss: 0.270415                                     \n",
      "[28]\ttraining's binary_logloss: 0.0125897\tvalid_1's binary_logloss: 0.265761                                     \n",
      "[29]\ttraining's binary_logloss: 0.0110852\tvalid_1's binary_logloss: 0.273024                                     \n",
      "[30]\ttraining's binary_logloss: 0.0096665\tvalid_1's binary_logloss: 0.278239                                     \n",
      "[31]\ttraining's binary_logloss: 0.00849085\tvalid_1's binary_logloss: 0.283519                                    \n",
      "[32]\ttraining's binary_logloss: 0.00742713\tvalid_1's binary_logloss: 0.283072                                    \n",
      "[33]\ttraining's binary_logloss: 0.00654042\tvalid_1's binary_logloss: 0.286863                                    \n",
      "[34]\ttraining's binary_logloss: 0.00580504\tvalid_1's binary_logloss: 0.292984                                    \n",
      "[35]\ttraining's binary_logloss: 0.0050634\tvalid_1's binary_logloss: 0.291442                                     \n",
      "[36]\ttraining's binary_logloss: 0.00446926\tvalid_1's binary_logloss: 0.292366                                    \n",
      "[37]\ttraining's binary_logloss: 0.00392709\tvalid_1's binary_logloss: 0.294334                                    \n",
      "[38]\ttraining's binary_logloss: 0.00344714\tvalid_1's binary_logloss: 0.293918                                    \n",
      "[39]\ttraining's binary_logloss: 0.00307358\tvalid_1's binary_logloss: 0.295638                                    \n",
      "[40]\ttraining's binary_logloss: 0.00271984\tvalid_1's binary_logloss: 0.294828                                    \n",
      "[41]\ttraining's binary_logloss: 0.00239929\tvalid_1's binary_logloss: 0.29546                                     \n",
      "[42]\ttraining's binary_logloss: 0.002089\tvalid_1's binary_logloss: 0.300521                                      \n",
      "Early stopping, best iteration is:                                                                               \n",
      "[22]\ttraining's binary_logloss: 0.0281475\tvalid_1's binary_logloss: 0.256572\n",
      "-0.9622453651598413                                                                                              \n",
      "[1]\ttraining's binary_logloss: 0.637393\tvalid_1's binary_logloss: 0.64503                                        \n",
      "Training until validation scores don't improve for 20 rounds                                                     \n",
      "[2]\ttraining's binary_logloss: 0.589043\tvalid_1's binary_logloss: 0.603592                                       \n",
      "[3]\ttraining's binary_logloss: 0.545587\tvalid_1's binary_logloss: 0.569848                                       \n",
      "[4]\ttraining's binary_logloss: 0.508989\tvalid_1's binary_logloss: 0.542357                                       \n",
      "[5]\ttraining's binary_logloss: 0.472933\tvalid_1's binary_logloss: 0.516889                                       \n",
      "[6]\ttraining's binary_logloss: 0.4419\tvalid_1's binary_logloss: 0.492811                                         \n",
      "[7]\ttraining's binary_logloss: 0.412616\tvalid_1's binary_logloss: 0.473247                                       \n",
      "[8]\ttraining's binary_logloss: 0.386665\tvalid_1's binary_logloss: 0.450742                                       \n",
      "[9]\ttraining's binary_logloss: 0.363763\tvalid_1's binary_logloss: 0.430905                                       \n",
      "[10]\ttraining's binary_logloss: 0.340739\tvalid_1's binary_logloss: 0.415403                                      \n",
      "[11]\ttraining's binary_logloss: 0.32088\tvalid_1's binary_logloss: 0.40179                                        \n",
      "[12]\ttraining's binary_logloss: 0.302451\tvalid_1's binary_logloss: 0.388873                                      \n"
     ]
    },
    {
     "name": "stdout",
     "output_type": "stream",
     "text": [
      "[13]\ttraining's binary_logloss: 0.284803\tvalid_1's binary_logloss: 0.377234                                      \n",
      "[14]\ttraining's binary_logloss: 0.26907\tvalid_1's binary_logloss: 0.366832                                       \n",
      "[15]\ttraining's binary_logloss: 0.25436\tvalid_1's binary_logloss: 0.357606                                       \n",
      "[16]\ttraining's binary_logloss: 0.240222\tvalid_1's binary_logloss: 0.350356                                      \n",
      "[17]\ttraining's binary_logloss: 0.227334\tvalid_1's binary_logloss: 0.342425                                      \n",
      "[18]\ttraining's binary_logloss: 0.214285\tvalid_1's binary_logloss: 0.332618                                      \n",
      "[19]\ttraining's binary_logloss: 0.202558\tvalid_1's binary_logloss: 0.325068                                      \n",
      "[20]\ttraining's binary_logloss: 0.19197\tvalid_1's binary_logloss: 0.319363                                       \n",
      "[21]\ttraining's binary_logloss: 0.181639\tvalid_1's binary_logloss: 0.315461                                      \n",
      "[22]\ttraining's binary_logloss: 0.171695\tvalid_1's binary_logloss: 0.30908                                       \n",
      "[23]\ttraining's binary_logloss: 0.162998\tvalid_1's binary_logloss: 0.302872                                      \n",
      "[24]\ttraining's binary_logloss: 0.154262\tvalid_1's binary_logloss: 0.298297                                      \n",
      "[25]\ttraining's binary_logloss: 0.146121\tvalid_1's binary_logloss: 0.292797                                      \n",
      "[26]\ttraining's binary_logloss: 0.138757\tvalid_1's binary_logloss: 0.287792                                      \n",
      "[27]\ttraining's binary_logloss: 0.131574\tvalid_1's binary_logloss: 0.284164                                      \n",
      "[28]\ttraining's binary_logloss: 0.124734\tvalid_1's binary_logloss: 0.280764                                      \n",
      "[29]\ttraining's binary_logloss: 0.11848\tvalid_1's binary_logloss: 0.2768                                         \n",
      "[30]\ttraining's binary_logloss: 0.112085\tvalid_1's binary_logloss: 0.272627                                      \n",
      "[31]\ttraining's binary_logloss: 0.105692\tvalid_1's binary_logloss: 0.26952                                       \n",
      "[32]\ttraining's binary_logloss: 0.100404\tvalid_1's binary_logloss: 0.267541                                      \n",
      "[33]\ttraining's binary_logloss: 0.0950006\tvalid_1's binary_logloss: 0.262918                                     \n",
      "[34]\ttraining's binary_logloss: 0.0900318\tvalid_1's binary_logloss: 0.259491                                     \n",
      "[35]\ttraining's binary_logloss: 0.0853899\tvalid_1's binary_logloss: 0.256105                                     \n",
      "[36]\ttraining's binary_logloss: 0.080961\tvalid_1's binary_logloss: 0.254974                                      \n",
      "[37]\ttraining's binary_logloss: 0.076577\tvalid_1's binary_logloss: 0.254344                                      \n",
      "[38]\ttraining's binary_logloss: 0.0727472\tvalid_1's binary_logloss: 0.25197                                      \n",
      "[39]\ttraining's binary_logloss: 0.0688863\tvalid_1's binary_logloss: 0.251258                                     \n",
      "[40]\ttraining's binary_logloss: 0.0652629\tvalid_1's binary_logloss: 0.25035                                      \n",
      "[41]\ttraining's binary_logloss: 0.0620666\tvalid_1's binary_logloss: 0.251329                                     \n",
      "[42]\ttraining's binary_logloss: 0.0586706\tvalid_1's binary_logloss: 0.251255                                     \n",
      "[43]\ttraining's binary_logloss: 0.0556904\tvalid_1's binary_logloss: 0.251426                                     \n",
      "[44]\ttraining's binary_logloss: 0.0526703\tvalid_1's binary_logloss: 0.250337                                     \n",
      "[45]\ttraining's binary_logloss: 0.049932\tvalid_1's binary_logloss: 0.249539                                      \n",
      "[46]\ttraining's binary_logloss: 0.0473169\tvalid_1's binary_logloss: 0.24933                                      \n",
      "[47]\ttraining's binary_logloss: 0.0447802\tvalid_1's binary_logloss: 0.250316                                     \n",
      "[48]\ttraining's binary_logloss: 0.0425423\tvalid_1's binary_logloss: 0.250426                                     \n",
      "[49]\ttraining's binary_logloss: 0.0400401\tvalid_1's binary_logloss: 0.250314                                     \n",
      "[50]\ttraining's binary_logloss: 0.0378482\tvalid_1's binary_logloss: 0.250837                                     \n",
      "[51]\ttraining's binary_logloss: 0.0359408\tvalid_1's binary_logloss: 0.252022                                     \n",
      "[52]\ttraining's binary_logloss: 0.0341352\tvalid_1's binary_logloss: 0.251223                                     \n",
      "[53]\ttraining's binary_logloss: 0.0324236\tvalid_1's binary_logloss: 0.250763                                     \n",
      "[54]\ttraining's binary_logloss: 0.0308614\tvalid_1's binary_logloss: 0.250973                                     \n",
      "[55]\ttraining's binary_logloss: 0.0293298\tvalid_1's binary_logloss: 0.250962                                     \n",
      "[56]\ttraining's binary_logloss: 0.0278292\tvalid_1's binary_logloss: 0.250653                                     \n",
      "[57]\ttraining's binary_logloss: 0.0263714\tvalid_1's binary_logloss: 0.249637                                     \n",
      "[58]\ttraining's binary_logloss: 0.0250887\tvalid_1's binary_logloss: 0.248697                                     \n",
      "[59]\ttraining's binary_logloss: 0.0238315\tvalid_1's binary_logloss: 0.248972                                     \n",
      "[60]\ttraining's binary_logloss: 0.0226252\tvalid_1's binary_logloss: 0.247765                                     \n",
      "[61]\ttraining's binary_logloss: 0.0214711\tvalid_1's binary_logloss: 0.248317                                     \n",
      "[62]\ttraining's binary_logloss: 0.0203658\tvalid_1's binary_logloss: 0.249157                                     \n",
      "[63]\ttraining's binary_logloss: 0.0193367\tvalid_1's binary_logloss: 0.249167                                     \n",
      "[64]\ttraining's binary_logloss: 0.018307\tvalid_1's binary_logloss: 0.250042                                      \n",
      "[65]\ttraining's binary_logloss: 0.017443\tvalid_1's binary_logloss: 0.250138                                      \n",
      "[66]\ttraining's binary_logloss: 0.0165524\tvalid_1's binary_logloss: 0.250304                                     \n",
      "[67]\ttraining's binary_logloss: 0.0157422\tvalid_1's binary_logloss: 0.251415                                     \n",
      "[68]\ttraining's binary_logloss: 0.0149393\tvalid_1's binary_logloss: 0.252332                                     \n",
      "[69]\ttraining's binary_logloss: 0.0141272\tvalid_1's binary_logloss: 0.252278                                     \n",
      "[70]\ttraining's binary_logloss: 0.0134222\tvalid_1's binary_logloss: 0.25406                                      \n",
      "[71]\ttraining's binary_logloss: 0.0128217\tvalid_1's binary_logloss: 0.254358                                     \n",
      "[72]\ttraining's binary_logloss: 0.0121611\tvalid_1's binary_logloss: 0.255162                                     \n",
      "[73]\ttraining's binary_logloss: 0.0115896\tvalid_1's binary_logloss: 0.256126                                     \n",
      "[74]\ttraining's binary_logloss: 0.0110161\tvalid_1's binary_logloss: 0.259447                                     \n",
      "[75]\ttraining's binary_logloss: 0.0104321\tvalid_1's binary_logloss: 0.260521                                     \n",
      "[76]\ttraining's binary_logloss: 0.00987825\tvalid_1's binary_logloss: 0.261856                                    \n",
      "[77]\ttraining's binary_logloss: 0.00939435\tvalid_1's binary_logloss: 0.262658                                    \n",
      "[78]\ttraining's binary_logloss: 0.00887574\tvalid_1's binary_logloss: 0.263983                                    \n",
      "[79]\ttraining's binary_logloss: 0.00845003\tvalid_1's binary_logloss: 0.266078                                    \n",
      "[80]\ttraining's binary_logloss: 0.00801397\tvalid_1's binary_logloss: 0.267803                                    \n",
      "Early stopping, best iteration is:                                                                               \n",
      "[60]\ttraining's binary_logloss: 0.0226252\tvalid_1's binary_logloss: 0.247765\n",
      "-0.9627086779726218                                                                                              \n",
      "100%|██████████████████████████████████████████| 10/10 [06:09<00:00, 36.98s/trial, best loss: -0.962862958020404]\n"
     ]
    }
   ],
   "source": [
    "def score(params): #function to train and test different hyperparams\n",
    "    model = lgb.LGBMClassifier(**params)\n",
    "    model.fit(X_train_fs, y_train, early_stopping_rounds=20,\n",
    "             eval_set=[(X_train_fs, y_train), (X_test_fs, y_test)])\n",
    "#     y_pred = model.predict(X_test_fs)\n",
    "#     score = mean_squared_error(y_test, y_pred)\n",
    "    score = -cross_val_score(model, X_train_fs, y_train, cv=10, scoring='roc_auc').mean()\n",
    "    print(score)\n",
    "    return score\n",
    "            \n",
    "def optimize(trials, space): #fmin is the main library function\n",
    "    best = fmin(score, space, algo=tpe.suggest, max_evals=10)\n",
    "    return best\n",
    "            \n",
    "trials = Trials() #database that store completed hyperparameters and score\n",
    "best_params = optimize(trials, hyperparam_space) #calls fmin\n",
    "\n",
    "#finds best hyperparameters\n",
    "# space_eval(hyperparam_space, best_params)"
   ]
  },
  {
   "cell_type": "code",
   "execution_count": 134,
   "id": "de0c0e47",
   "metadata": {},
   "outputs": [
    {
     "data": {
      "text/plain": [
       "{'learning_rate': 0.1, 'num_leaves': 166}"
      ]
     },
     "execution_count": 134,
     "metadata": {},
     "output_type": "execute_result"
    }
   ],
   "source": [
    "best_params"
   ]
  },
  {
   "cell_type": "code",
   "execution_count": 137,
   "id": "177821b4",
   "metadata": {},
   "outputs": [
    {
     "name": "stdout",
     "output_type": "stream",
     "text": [
      "auc_roc score on test data:  0.9614006916996047\n"
     ]
    }
   ],
   "source": [
    "lgbm_model = lgb.LGBMClassifier(num_leaves=best_params['num_leaves'],\n",
    "                                learning_rate=best_params['learning_rate'])\n",
    "lgbm_model.fit(X_train_fs, y_train)\n",
    "preds = [pred[1] for pred in lgbm_model.predict_proba(X_test_fs)]\n",
    "score = roc_auc_score(y_test, preds, average='weighted')\n",
    "print('auc_roc score on test data: ', score)"
   ]
  },
  {
   "cell_type": "markdown",
   "id": "0926a25b",
   "metadata": {},
   "source": [
    "## ^ is this good idk i think it is "
   ]
  },
  {
   "cell_type": "code",
   "execution_count": null,
   "id": "2af9e0b5",
   "metadata": {},
   "outputs": [],
   "source": []
  },
  {
   "cell_type": "code",
   "execution_count": null,
   "id": "e36922ef",
   "metadata": {},
   "outputs": [],
   "source": []
  },
  {
   "cell_type": "markdown",
   "id": "4b06e8e7",
   "metadata": {},
   "source": [
    "## Conclusions"
   ]
  },
  {
   "cell_type": "markdown",
   "id": "02eaaccb",
   "metadata": {},
   "source": [
    "## Visualizations should include ROC/AUC, SHAP PLOTS for feature importance, LGBM might also have built in feature importance plots"
   ]
  },
  {
   "cell_type": "code",
   "execution_count": null,
   "id": "f94ce86a",
   "metadata": {},
   "outputs": [],
   "source": []
  },
  {
   "cell_type": "code",
   "execution_count": null,
   "id": "ff3b9709",
   "metadata": {},
   "outputs": [],
   "source": []
  },
  {
   "cell_type": "code",
   "execution_count": null,
   "id": "d1f8d681",
   "metadata": {},
   "outputs": [],
   "source": []
  },
  {
   "cell_type": "code",
   "execution_count": null,
   "id": "644a06ea",
   "metadata": {},
   "outputs": [],
   "source": []
  },
  {
   "cell_type": "code",
   "execution_count": null,
   "id": "334910bf",
   "metadata": {},
   "outputs": [],
   "source": []
  },
  {
   "cell_type": "code",
   "execution_count": null,
   "id": "f8dda090",
   "metadata": {},
   "outputs": [],
   "source": []
  },
  {
   "cell_type": "markdown",
   "id": "84a47da5",
   "metadata": {},
   "source": [
    "# scrap the below in final version"
   ]
  },
  {
   "cell_type": "markdown",
   "id": "178f54a2",
   "metadata": {},
   "source": [
    "### Anomaly Detection Approach??"
   ]
  },
  {
   "cell_type": "code",
   "execution_count": 46,
   "id": "89b83f23",
   "metadata": {},
   "outputs": [
    {
     "data": {
      "text/plain": [
       "(18000, 694)"
      ]
     },
     "execution_count": 46,
     "metadata": {},
     "output_type": "execute_result"
    }
   ],
   "source": [
    "df1.shape #go back to original dataset"
   ]
  },
  {
   "cell_type": "code",
   "execution_count": 47,
   "id": "45f14f3d",
   "metadata": {},
   "outputs": [],
   "source": [
    "df1 = df1._get_numeric_data() #drop nonnumeric columns"
   ]
  },
  {
   "cell_type": "markdown",
   "id": "e77293c3",
   "metadata": {},
   "source": [
    "#### Isolation Forest"
   ]
  },
  {
   "cell_type": "markdown",
   "id": "e8ab2ea7",
   "metadata": {},
   "source": [
    "Setting contamination rate to 5% as seen in original data, using 200 estimators."
   ]
  },
  {
   "cell_type": "code",
   "execution_count": 48,
   "id": "61238ad1",
   "metadata": {},
   "outputs": [
    {
     "data": {
      "text/plain": [
       "(900, 694)"
      ]
     },
     "execution_count": 48,
     "metadata": {},
     "output_type": "execute_result"
    }
   ],
   "source": [
    "iso = IsolationForest(n_estimators=200, max_samples='auto', contamination=0.05)\n",
    "new_df = df1.drop(columns=['category'])\n",
    "iso.fit(new_df)\n",
    "new_df['anomaly_score'] = iso.predict(new_df)\n",
    "new_df[new_df['anomaly_score'] == -1].shape"
   ]
  },
  {
   "cell_type": "markdown",
   "id": "f371722c",
   "metadata": {},
   "source": [
    "As expected, found 900 \"outliers\" (in our case malware)."
   ]
  },
  {
   "cell_type": "code",
   "execution_count": 51,
   "id": "ff4126ba",
   "metadata": {},
   "outputs": [
    {
     "data": {
      "text/html": [
       "<div>\n",
       "<style scoped>\n",
       "    .dataframe tbody tr th:only-of-type {\n",
       "        vertical-align: middle;\n",
       "    }\n",
       "\n",
       "    .dataframe tbody tr th {\n",
       "        vertical-align: top;\n",
       "    }\n",
       "\n",
       "    .dataframe thead th {\n",
       "        text-align: right;\n",
       "    }\n",
       "</style>\n",
       "<table border=\"1\" class=\"dataframe\">\n",
       "  <thead>\n",
       "    <tr style=\"text-align: right;\">\n",
       "      <th></th>\n",
       "      <th>histogram_0</th>\n",
       "      <th>histogram_1</th>\n",
       "      <th>histogram_2</th>\n",
       "      <th>histogram_3</th>\n",
       "      <th>histogram_4</th>\n",
       "      <th>histogram_5</th>\n",
       "      <th>histogram_6</th>\n",
       "      <th>histogram_7</th>\n",
       "      <th>histogram_8</th>\n",
       "      <th>histogram_9</th>\n",
       "      <th>...</th>\n",
       "      <th>datadirectories_12_size</th>\n",
       "      <th>datadirectories_12_virtual_address</th>\n",
       "      <th>datadirectories_13_size</th>\n",
       "      <th>datadirectories_13_virtual_address</th>\n",
       "      <th>datadirectories_14_size</th>\n",
       "      <th>datadirectories_14_virtual_address</th>\n",
       "      <th>datadirectories_15_size</th>\n",
       "      <th>datadirectories_15_virtual_address</th>\n",
       "      <th>anomaly_score</th>\n",
       "      <th>category</th>\n",
       "    </tr>\n",
       "  </thead>\n",
       "  <tbody>\n",
       "    <tr>\n",
       "      <th>0</th>\n",
       "      <td>127242</td>\n",
       "      <td>9185</td>\n",
       "      <td>3818</td>\n",
       "      <td>3127</td>\n",
       "      <td>13300</td>\n",
       "      <td>1594</td>\n",
       "      <td>1781</td>\n",
       "      <td>1493</td>\n",
       "      <td>9938</td>\n",
       "      <td>1006</td>\n",
       "      <td>...</td>\n",
       "      <td>620</td>\n",
       "      <td>11711244</td>\n",
       "      <td>0</td>\n",
       "      <td>0</td>\n",
       "      <td>0</td>\n",
       "      <td>0</td>\n",
       "      <td>0</td>\n",
       "      <td>0</td>\n",
       "      <td>1</td>\n",
       "      <td>0</td>\n",
       "    </tr>\n",
       "    <tr>\n",
       "      <th>1</th>\n",
       "      <td>36152</td>\n",
       "      <td>2617</td>\n",
       "      <td>4120</td>\n",
       "      <td>876</td>\n",
       "      <td>1711</td>\n",
       "      <td>755</td>\n",
       "      <td>672</td>\n",
       "      <td>521</td>\n",
       "      <td>2278</td>\n",
       "      <td>325</td>\n",
       "      <td>...</td>\n",
       "      <td>340</td>\n",
       "      <td>131072</td>\n",
       "      <td>0</td>\n",
       "      <td>0</td>\n",
       "      <td>0</td>\n",
       "      <td>0</td>\n",
       "      <td>0</td>\n",
       "      <td>0</td>\n",
       "      <td>1</td>\n",
       "      <td>0</td>\n",
       "    </tr>\n",
       "    <tr>\n",
       "      <th>2</th>\n",
       "      <td>39986</td>\n",
       "      <td>7112</td>\n",
       "      <td>7953</td>\n",
       "      <td>6604</td>\n",
       "      <td>6542</td>\n",
       "      <td>6441</td>\n",
       "      <td>5869</td>\n",
       "      <td>6422</td>\n",
       "      <td>6224</td>\n",
       "      <td>6017</td>\n",
       "      <td>...</td>\n",
       "      <td>588</td>\n",
       "      <td>123728</td>\n",
       "      <td>0</td>\n",
       "      <td>0</td>\n",
       "      <td>0</td>\n",
       "      <td>0</td>\n",
       "      <td>0</td>\n",
       "      <td>0</td>\n",
       "      <td>1</td>\n",
       "      <td>0</td>\n",
       "    </tr>\n",
       "    <tr>\n",
       "      <th>3</th>\n",
       "      <td>253873</td>\n",
       "      <td>32714</td>\n",
       "      <td>22629</td>\n",
       "      <td>17500</td>\n",
       "      <td>15355</td>\n",
       "      <td>6691</td>\n",
       "      <td>10881</td>\n",
       "      <td>4258</td>\n",
       "      <td>11992</td>\n",
       "      <td>3513</td>\n",
       "      <td>...</td>\n",
       "      <td>216</td>\n",
       "      <td>282920</td>\n",
       "      <td>0</td>\n",
       "      <td>0</td>\n",
       "      <td>0</td>\n",
       "      <td>0</td>\n",
       "      <td>0</td>\n",
       "      <td>0</td>\n",
       "      <td>1</td>\n",
       "      <td>0</td>\n",
       "    </tr>\n",
       "    <tr>\n",
       "      <th>4</th>\n",
       "      <td>12464</td>\n",
       "      <td>1020</td>\n",
       "      <td>502</td>\n",
       "      <td>264</td>\n",
       "      <td>1918</td>\n",
       "      <td>218</td>\n",
       "      <td>262</td>\n",
       "      <td>91</td>\n",
       "      <td>846</td>\n",
       "      <td>78</td>\n",
       "      <td>...</td>\n",
       "      <td>0</td>\n",
       "      <td>0</td>\n",
       "      <td>0</td>\n",
       "      <td>0</td>\n",
       "      <td>0</td>\n",
       "      <td>0</td>\n",
       "      <td>0</td>\n",
       "      <td>0</td>\n",
       "      <td>1</td>\n",
       "      <td>0</td>\n",
       "    </tr>\n",
       "    <tr>\n",
       "      <th>5</th>\n",
       "      <td>17889</td>\n",
       "      <td>1281</td>\n",
       "      <td>868</td>\n",
       "      <td>642</td>\n",
       "      <td>914</td>\n",
       "      <td>138</td>\n",
       "      <td>311</td>\n",
       "      <td>148</td>\n",
       "      <td>433</td>\n",
       "      <td>82</td>\n",
       "      <td>...</td>\n",
       "      <td>0</td>\n",
       "      <td>0</td>\n",
       "      <td>0</td>\n",
       "      <td>0</td>\n",
       "      <td>0</td>\n",
       "      <td>0</td>\n",
       "      <td>0</td>\n",
       "      <td>0</td>\n",
       "      <td>1</td>\n",
       "      <td>0</td>\n",
       "    </tr>\n",
       "    <tr>\n",
       "      <th>6</th>\n",
       "      <td>224255</td>\n",
       "      <td>28215</td>\n",
       "      <td>12691</td>\n",
       "      <td>13046</td>\n",
       "      <td>21264</td>\n",
       "      <td>4115</td>\n",
       "      <td>3790</td>\n",
       "      <td>3590</td>\n",
       "      <td>11766</td>\n",
       "      <td>1889</td>\n",
       "      <td>...</td>\n",
       "      <td>408</td>\n",
       "      <td>1188328</td>\n",
       "      <td>0</td>\n",
       "      <td>0</td>\n",
       "      <td>0</td>\n",
       "      <td>0</td>\n",
       "      <td>0</td>\n",
       "      <td>0</td>\n",
       "      <td>1</td>\n",
       "      <td>0</td>\n",
       "    </tr>\n",
       "    <tr>\n",
       "      <th>7</th>\n",
       "      <td>14195</td>\n",
       "      <td>1054</td>\n",
       "      <td>778</td>\n",
       "      <td>1068</td>\n",
       "      <td>291</td>\n",
       "      <td>653</td>\n",
       "      <td>251</td>\n",
       "      <td>249</td>\n",
       "      <td>338</td>\n",
       "      <td>164</td>\n",
       "      <td>...</td>\n",
       "      <td>0</td>\n",
       "      <td>0</td>\n",
       "      <td>0</td>\n",
       "      <td>0</td>\n",
       "      <td>0</td>\n",
       "      <td>0</td>\n",
       "      <td>0</td>\n",
       "      <td>0</td>\n",
       "      <td>1</td>\n",
       "      <td>0</td>\n",
       "    </tr>\n",
       "    <tr>\n",
       "      <th>8</th>\n",
       "      <td>48208</td>\n",
       "      <td>3288</td>\n",
       "      <td>1441</td>\n",
       "      <td>2611</td>\n",
       "      <td>4938</td>\n",
       "      <td>313</td>\n",
       "      <td>266</td>\n",
       "      <td>635</td>\n",
       "      <td>2104</td>\n",
       "      <td>231</td>\n",
       "      <td>...</td>\n",
       "      <td>1284</td>\n",
       "      <td>230880</td>\n",
       "      <td>0</td>\n",
       "      <td>0</td>\n",
       "      <td>0</td>\n",
       "      <td>0</td>\n",
       "      <td>0</td>\n",
       "      <td>0</td>\n",
       "      <td>1</td>\n",
       "      <td>0</td>\n",
       "    </tr>\n",
       "    <tr>\n",
       "      <th>9</th>\n",
       "      <td>370224</td>\n",
       "      <td>37570</td>\n",
       "      <td>24575</td>\n",
       "      <td>18127</td>\n",
       "      <td>40687</td>\n",
       "      <td>15614</td>\n",
       "      <td>12405</td>\n",
       "      <td>11777</td>\n",
       "      <td>24099</td>\n",
       "      <td>5331</td>\n",
       "      <td>...</td>\n",
       "      <td>0</td>\n",
       "      <td>0</td>\n",
       "      <td>0</td>\n",
       "      <td>0</td>\n",
       "      <td>0</td>\n",
       "      <td>0</td>\n",
       "      <td>0</td>\n",
       "      <td>0</td>\n",
       "      <td>1</td>\n",
       "      <td>0</td>\n",
       "    </tr>\n",
       "  </tbody>\n",
       "</table>\n",
       "<p>10 rows × 695 columns</p>\n",
       "</div>"
      ],
      "text/plain": [
       "   histogram_0  histogram_1  histogram_2  histogram_3  histogram_4  \\\n",
       "0       127242         9185         3818         3127        13300   \n",
       "1        36152         2617         4120          876         1711   \n",
       "2        39986         7112         7953         6604         6542   \n",
       "3       253873        32714        22629        17500        15355   \n",
       "4        12464         1020          502          264         1918   \n",
       "5        17889         1281          868          642          914   \n",
       "6       224255        28215        12691        13046        21264   \n",
       "7        14195         1054          778         1068          291   \n",
       "8        48208         3288         1441         2611         4938   \n",
       "9       370224        37570        24575        18127        40687   \n",
       "\n",
       "   histogram_5  histogram_6  histogram_7  histogram_8  histogram_9  ...  \\\n",
       "0         1594         1781         1493         9938         1006  ...   \n",
       "1          755          672          521         2278          325  ...   \n",
       "2         6441         5869         6422         6224         6017  ...   \n",
       "3         6691        10881         4258        11992         3513  ...   \n",
       "4          218          262           91          846           78  ...   \n",
       "5          138          311          148          433           82  ...   \n",
       "6         4115         3790         3590        11766         1889  ...   \n",
       "7          653          251          249          338          164  ...   \n",
       "8          313          266          635         2104          231  ...   \n",
       "9        15614        12405        11777        24099         5331  ...   \n",
       "\n",
       "   datadirectories_12_size  datadirectories_12_virtual_address  \\\n",
       "0                      620                            11711244   \n",
       "1                      340                              131072   \n",
       "2                      588                              123728   \n",
       "3                      216                              282920   \n",
       "4                        0                                   0   \n",
       "5                        0                                   0   \n",
       "6                      408                             1188328   \n",
       "7                        0                                   0   \n",
       "8                     1284                              230880   \n",
       "9                        0                                   0   \n",
       "\n",
       "   datadirectories_13_size  datadirectories_13_virtual_address  \\\n",
       "0                        0                                   0   \n",
       "1                        0                                   0   \n",
       "2                        0                                   0   \n",
       "3                        0                                   0   \n",
       "4                        0                                   0   \n",
       "5                        0                                   0   \n",
       "6                        0                                   0   \n",
       "7                        0                                   0   \n",
       "8                        0                                   0   \n",
       "9                        0                                   0   \n",
       "\n",
       "   datadirectories_14_size  datadirectories_14_virtual_address  \\\n",
       "0                        0                                   0   \n",
       "1                        0                                   0   \n",
       "2                        0                                   0   \n",
       "3                        0                                   0   \n",
       "4                        0                                   0   \n",
       "5                        0                                   0   \n",
       "6                        0                                   0   \n",
       "7                        0                                   0   \n",
       "8                        0                                   0   \n",
       "9                        0                                   0   \n",
       "\n",
       "   datadirectories_15_size  datadirectories_15_virtual_address  anomaly_score  \\\n",
       "0                        0                                   0              1   \n",
       "1                        0                                   0              1   \n",
       "2                        0                                   0              1   \n",
       "3                        0                                   0              1   \n",
       "4                        0                                   0              1   \n",
       "5                        0                                   0              1   \n",
       "6                        0                                   0              1   \n",
       "7                        0                                   0              1   \n",
       "8                        0                                   0              1   \n",
       "9                        0                                   0              1   \n",
       "\n",
       "   category  \n",
       "0         0  \n",
       "1         0  \n",
       "2         0  \n",
       "3         0  \n",
       "4         0  \n",
       "5         0  \n",
       "6         0  \n",
       "7         0  \n",
       "8         0  \n",
       "9         0  \n",
       "\n",
       "[10 rows x 695 columns]"
      ]
     },
     "execution_count": 51,
     "metadata": {},
     "output_type": "execute_result"
    }
   ],
   "source": [
    "iso_df = pd.concat([new_df, df1['category']], axis=1) #join the anomaly prediction with og data\n",
    "iso_df.head(10)"
   ]
  },
  {
   "cell_type": "code",
   "execution_count": 53,
   "id": "db636f68",
   "metadata": {},
   "outputs": [
    {
     "data": {
      "text/plain": [
       "anomaly_score\n",
       "-1      900\n",
       " 1    17100\n",
       "dtype: int64"
      ]
     },
     "execution_count": 53,
     "metadata": {},
     "output_type": "execute_result"
    }
   ],
   "source": [
    "iso_df.groupby('anomaly_score').size() #sanity check"
   ]
  },
  {
   "cell_type": "code",
   "execution_count": 54,
   "id": "bd0f404f",
   "metadata": {},
   "outputs": [],
   "source": [
    "iso_df['anomaly'] = \"\" #add new empty column to switch out -1 to 1 and 1 to 0"
   ]
  },
  {
   "cell_type": "code",
   "execution_count": 55,
   "id": "107742d9",
   "metadata": {},
   "outputs": [],
   "source": [
    "iso_df.loc[iso_df.anomaly_score == -1, \"anomaly\"] = 1\n",
    "iso_df.loc[iso_df.anomaly_score == 1, \"anomaly\"] = 0"
   ]
  },
  {
   "cell_type": "code",
   "execution_count": 139,
   "id": "01dca1fe",
   "metadata": {},
   "outputs": [
    {
     "name": "stdout",
     "output_type": "stream",
     "text": [
      "anomaly\n",
      "0    17100\n",
      "1      900\n",
      "dtype: int64 category\n",
      "0    17100\n",
      "1      900\n",
      "dtype: int64\n"
     ]
    }
   ],
   "source": [
    "print(iso_df.groupby('anomaly').size(), iso_df.groupby('category').size())"
   ]
  },
  {
   "cell_type": "code",
   "execution_count": 144,
   "id": "64fc2bd1",
   "metadata": {},
   "outputs": [
    {
     "data": {
      "text/html": [
       "<div>\n",
       "<style scoped>\n",
       "    .dataframe tbody tr th:only-of-type {\n",
       "        vertical-align: middle;\n",
       "    }\n",
       "\n",
       "    .dataframe tbody tr th {\n",
       "        vertical-align: top;\n",
       "    }\n",
       "\n",
       "    .dataframe thead th {\n",
       "        text-align: right;\n",
       "    }\n",
       "</style>\n",
       "<table border=\"1\" class=\"dataframe\">\n",
       "  <thead>\n",
       "    <tr style=\"text-align: right;\">\n",
       "      <th></th>\n",
       "      <th>histogram_0</th>\n",
       "      <th>histogram_1</th>\n",
       "      <th>histogram_2</th>\n",
       "      <th>histogram_3</th>\n",
       "      <th>histogram_4</th>\n",
       "      <th>histogram_5</th>\n",
       "      <th>histogram_6</th>\n",
       "      <th>histogram_7</th>\n",
       "      <th>histogram_8</th>\n",
       "      <th>histogram_9</th>\n",
       "      <th>...</th>\n",
       "      <th>datadirectories_12_virtual_address</th>\n",
       "      <th>datadirectories_13_size</th>\n",
       "      <th>datadirectories_13_virtual_address</th>\n",
       "      <th>datadirectories_14_size</th>\n",
       "      <th>datadirectories_14_virtual_address</th>\n",
       "      <th>datadirectories_15_size</th>\n",
       "      <th>datadirectories_15_virtual_address</th>\n",
       "      <th>anomaly_score</th>\n",
       "      <th>category</th>\n",
       "      <th>anomaly</th>\n",
       "    </tr>\n",
       "  </thead>\n",
       "  <tbody>\n",
       "    <tr>\n",
       "      <th>0</th>\n",
       "      <td>127242</td>\n",
       "      <td>9185</td>\n",
       "      <td>3818</td>\n",
       "      <td>3127</td>\n",
       "      <td>13300</td>\n",
       "      <td>1594</td>\n",
       "      <td>1781</td>\n",
       "      <td>1493</td>\n",
       "      <td>9938</td>\n",
       "      <td>1006</td>\n",
       "      <td>...</td>\n",
       "      <td>11711244</td>\n",
       "      <td>0</td>\n",
       "      <td>0</td>\n",
       "      <td>0</td>\n",
       "      <td>0</td>\n",
       "      <td>0</td>\n",
       "      <td>0</td>\n",
       "      <td>1</td>\n",
       "      <td>0</td>\n",
       "      <td>0</td>\n",
       "    </tr>\n",
       "    <tr>\n",
       "      <th>1</th>\n",
       "      <td>36152</td>\n",
       "      <td>2617</td>\n",
       "      <td>4120</td>\n",
       "      <td>876</td>\n",
       "      <td>1711</td>\n",
       "      <td>755</td>\n",
       "      <td>672</td>\n",
       "      <td>521</td>\n",
       "      <td>2278</td>\n",
       "      <td>325</td>\n",
       "      <td>...</td>\n",
       "      <td>131072</td>\n",
       "      <td>0</td>\n",
       "      <td>0</td>\n",
       "      <td>0</td>\n",
       "      <td>0</td>\n",
       "      <td>0</td>\n",
       "      <td>0</td>\n",
       "      <td>1</td>\n",
       "      <td>0</td>\n",
       "      <td>0</td>\n",
       "    </tr>\n",
       "    <tr>\n",
       "      <th>2</th>\n",
       "      <td>39986</td>\n",
       "      <td>7112</td>\n",
       "      <td>7953</td>\n",
       "      <td>6604</td>\n",
       "      <td>6542</td>\n",
       "      <td>6441</td>\n",
       "      <td>5869</td>\n",
       "      <td>6422</td>\n",
       "      <td>6224</td>\n",
       "      <td>6017</td>\n",
       "      <td>...</td>\n",
       "      <td>123728</td>\n",
       "      <td>0</td>\n",
       "      <td>0</td>\n",
       "      <td>0</td>\n",
       "      <td>0</td>\n",
       "      <td>0</td>\n",
       "      <td>0</td>\n",
       "      <td>1</td>\n",
       "      <td>0</td>\n",
       "      <td>0</td>\n",
       "    </tr>\n",
       "    <tr>\n",
       "      <th>3</th>\n",
       "      <td>253873</td>\n",
       "      <td>32714</td>\n",
       "      <td>22629</td>\n",
       "      <td>17500</td>\n",
       "      <td>15355</td>\n",
       "      <td>6691</td>\n",
       "      <td>10881</td>\n",
       "      <td>4258</td>\n",
       "      <td>11992</td>\n",
       "      <td>3513</td>\n",
       "      <td>...</td>\n",
       "      <td>282920</td>\n",
       "      <td>0</td>\n",
       "      <td>0</td>\n",
       "      <td>0</td>\n",
       "      <td>0</td>\n",
       "      <td>0</td>\n",
       "      <td>0</td>\n",
       "      <td>1</td>\n",
       "      <td>0</td>\n",
       "      <td>0</td>\n",
       "    </tr>\n",
       "    <tr>\n",
       "      <th>4</th>\n",
       "      <td>12464</td>\n",
       "      <td>1020</td>\n",
       "      <td>502</td>\n",
       "      <td>264</td>\n",
       "      <td>1918</td>\n",
       "      <td>218</td>\n",
       "      <td>262</td>\n",
       "      <td>91</td>\n",
       "      <td>846</td>\n",
       "      <td>78</td>\n",
       "      <td>...</td>\n",
       "      <td>0</td>\n",
       "      <td>0</td>\n",
       "      <td>0</td>\n",
       "      <td>0</td>\n",
       "      <td>0</td>\n",
       "      <td>0</td>\n",
       "      <td>0</td>\n",
       "      <td>1</td>\n",
       "      <td>0</td>\n",
       "      <td>0</td>\n",
       "    </tr>\n",
       "  </tbody>\n",
       "</table>\n",
       "<p>5 rows × 696 columns</p>\n",
       "</div>"
      ],
      "text/plain": [
       "   histogram_0  histogram_1  histogram_2  histogram_3  histogram_4  \\\n",
       "0       127242         9185         3818         3127        13300   \n",
       "1        36152         2617         4120          876         1711   \n",
       "2        39986         7112         7953         6604         6542   \n",
       "3       253873        32714        22629        17500        15355   \n",
       "4        12464         1020          502          264         1918   \n",
       "\n",
       "   histogram_5  histogram_6  histogram_7  histogram_8  histogram_9  ...  \\\n",
       "0         1594         1781         1493         9938         1006  ...   \n",
       "1          755          672          521         2278          325  ...   \n",
       "2         6441         5869         6422         6224         6017  ...   \n",
       "3         6691        10881         4258        11992         3513  ...   \n",
       "4          218          262           91          846           78  ...   \n",
       "\n",
       "   datadirectories_12_virtual_address  datadirectories_13_size  \\\n",
       "0                            11711244                        0   \n",
       "1                              131072                        0   \n",
       "2                              123728                        0   \n",
       "3                              282920                        0   \n",
       "4                                   0                        0   \n",
       "\n",
       "   datadirectories_13_virtual_address  datadirectories_14_size  \\\n",
       "0                                   0                        0   \n",
       "1                                   0                        0   \n",
       "2                                   0                        0   \n",
       "3                                   0                        0   \n",
       "4                                   0                        0   \n",
       "\n",
       "   datadirectories_14_virtual_address  datadirectories_15_size  \\\n",
       "0                                   0                        0   \n",
       "1                                   0                        0   \n",
       "2                                   0                        0   \n",
       "3                                   0                        0   \n",
       "4                                   0                        0   \n",
       "\n",
       "   datadirectories_15_virtual_address  anomaly_score  category  anomaly  \n",
       "0                                   0              1         0        0  \n",
       "1                                   0              1         0        0  \n",
       "2                                   0              1         0        0  \n",
       "3                                   0              1         0        0  \n",
       "4                                   0              1         0        0  \n",
       "\n",
       "[5 rows x 696 columns]"
      ]
     },
     "execution_count": 144,
     "metadata": {},
     "output_type": "execute_result"
    }
   ],
   "source": [
    "iso_df.head(5)"
   ]
  },
  {
   "cell_type": "markdown",
   "id": "7e9ecb75",
   "metadata": {},
   "source": [
    "Calculate f1 score between new anomaly column and given category column."
   ]
  },
  {
   "cell_type": "code",
   "execution_count": 61,
   "id": "0d40528a",
   "metadata": {
    "scrolled": true
   },
   "outputs": [
    {
     "data": {
      "text/plain": [
       "0.011111111111111112"
      ]
     },
     "execution_count": 61,
     "metadata": {},
     "output_type": "execute_result"
    }
   ],
   "source": [
    "f1_score(list(iso_df['category']), list(iso_df['anomaly']))"
   ]
  },
  {
   "cell_type": "markdown",
   "id": "809e1745",
   "metadata": {},
   "source": [
    "### what happened???"
   ]
  },
  {
   "cell_type": "code",
   "execution_count": null,
   "id": "08938ea2",
   "metadata": {},
   "outputs": [],
   "source": []
  },
  {
   "cell_type": "code",
   "execution_count": null,
   "id": "6cf7ac34",
   "metadata": {},
   "outputs": [],
   "source": []
  },
  {
   "cell_type": "code",
   "execution_count": null,
   "id": "183602ee",
   "metadata": {},
   "outputs": [],
   "source": []
  }
 ],
 "metadata": {
  "hide_input": false,
  "kernelspec": {
   "display_name": "Python 3 (ipykernel)",
   "language": "python",
   "name": "python3"
  },
  "language_info": {
   "codemirror_mode": {
    "name": "ipython",
    "version": 3
   },
   "file_extension": ".py",
   "mimetype": "text/x-python",
   "name": "python",
   "nbconvert_exporter": "python",
   "pygments_lexer": "ipython3",
   "version": "3.8.12"
  },
  "nteract": {
   "version": "0.28.0"
  }
 },
 "nbformat": 4,
 "nbformat_minor": 5
}
