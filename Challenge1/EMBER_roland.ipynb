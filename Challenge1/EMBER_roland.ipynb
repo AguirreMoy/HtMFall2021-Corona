{
 "cells": [
  {
   "cell_type": "markdown",
   "id": "2d5c55cf-a708-4f9e-997f-8909e8812495",
   "metadata": {},
   "source": [
    "# HACKtheMACHINE 2021 | Track 2: Data Science, Detective Bot "
   ]
  },
  {
   "cell_type": "markdown",
   "id": "318a291c-0e21-46db-8c97-7bd00397e130",
   "metadata": {},
   "source": [
    "The following data dictionary describes the columns or fields of the data set and a description of the objects. This information with more detail can also be found in the `EMBER` documentation of the `features.py` file at: https://github.com/elastic/ember/blob/master/ember/features.py "
   ]
  },
  {
   "cell_type": "markdown",
   "id": "939340e9-53a4-48cc-a9ab-1d3345b2bf84",
   "metadata": {},
   "source": [
    "| Field Name | Description | \n",
    "|------------|-------------|\n",
    "| sha256 | The Secure Hash Algorithm (SHA) is a cryptographic hash function like a signature or fingerprints for a data set. Even if one symbol is changed the algorithm will produce a different hash value. The SHA256 algorithm generates a fixed size 256-bit (32-byte) hash. The SHA256 algorithm is used to ensure you acquire the same data as the original. For exmaple, if you download something you can check if the data has not changed (due to network errors or malware injection) by comparing the hashes of your file and the original.|\n",
    "| histogram | Byte histogram (count + non-normalized) over the entire binary file. The byte histogram contains 256 integer values and represent the counts of each byte value within the value. When generating model features the byte histgoram is normalized to a distribution, since file size is represented as a feature in the general file information. | \n",
    "| byteentropy | 2D byte/entropy histogram based loosely on (Saxe and Berlin, 2015). This roughly approximates the joint probability of byte value and local entropy. See Section 2.1.1 in https://arxiv.org/pdf/1508.03096.pdf for more info. The byte entropy histogram approximates the joint distriubtion p(H, X) of entropy H and byte value X. By computing the scalar entropy H for a fixed-length window and pairing it with each byte occurrence within the window. This is repeated as the window slides across the input bytes. |\n",
    "| strings | Contains simple statistics about printable strings of the following: <ul><li>`numstrings`: number of strings <li> `avlength`: average length of strings <li>`printabledist`: histogram of the printable characters within those strings <li>`printables`: distinct information from byte histogram information from the byte histogram information since its derived only from strings containing at least 5 consecutive printable characters <li>`entropy`: entropy of characters across all printable strings <li>`paths` number of strings that begin with **C:** (case insensitive) that may indicate a path <li>`urls`: the number of occurences of **http://** or **https://** (case insensitive) that may indicate a URL <li>`registry`: number of occurrences of HKEY that may indicate a registry key, <li>`MZ`: number of occurrences of the short string MZ |\n",
    "| general | Provides general file information. 0/1 indicates a binary output <ul><li>`size`: length of bytes <li>`vsize`: virtual size <li>`has_debug`: 0/1  <li>`exports`: 0/1 <li>`imports`: 0/1 <li>`has_relocations`: 0/1  <li>`has_resources`: 0/1 <li>`has_signature`: 0/1 <li>`has_tls`: 0/1 <li>`symbols`: 0/1 |\n",
    "| header | Provides header file information on machine, architecture, OS, link and other information: <ul><li> `coeff`: [ `timestamp`, `machine`,`characteristics` ] <li> `optional`: [`subsystem`, `dll_characteristics`, `magic`, `major_image_version`, `minor_linker_version`, `major_operating_system_version`, `minor_operating_system_version`, `major_subsystem_version`, `minor_subsystem_version`, `sizeof_code`, `sizeof_headers`, `sizeof_heap_commit`]\n",
    "| section | Information about section names, sizes and entropy. Uses hashing trick to summarize all this section into a feature vector. <ul><li> `imports`: [`KERNEL32.dll` : [`GetTickCount`] | \n",
    "| imports | Information about imported libraries and functions from the import address table. Note that the total number of imported functions is contained in GeneralFileInfo. |\n",
    "| exports | Information about exported functions. Note that the total number of exported functions is contained in GeneralFileInfo.|\n",
    "| datadirectories | Extracts size and virtual address of the first 15 data dictectories. |\n",
    "| label / category | Class label indicating benign `0` or malicious `1`|"
   ]
  },
  {
   "cell_type": "code",
   "execution_count": 1,
   "id": "2a20a3ef",
   "metadata": {},
   "outputs": [],
   "source": [
    "import sys"
   ]
  },
  {
   "cell_type": "code",
   "execution_count": 2,
   "id": "f6bd2c64",
   "metadata": {},
   "outputs": [
    {
     "data": {
      "text/plain": [
       "['/Users/rolandchin/Desktop/HackTheMachine/HtMFall2021-Corona/Challenge1',\n",
       " '/opt/anaconda3/lib/python38.zip',\n",
       " '/opt/anaconda3/lib/python3.8',\n",
       " '/opt/anaconda3/lib/python3.8/lib-dynload',\n",
       " '',\n",
       " '/opt/anaconda3/lib/python3.8/site-packages',\n",
       " '/opt/anaconda3/lib/python3.8/site-packages/IPython/extensions',\n",
       " '/Users/rolandchin/.ipython']"
      ]
     },
     "execution_count": 2,
     "metadata": {},
     "output_type": "execute_result"
    }
   ],
   "source": [
    "sys.path"
   ]
  },
  {
   "cell_type": "markdown",
   "id": "ad8ee9a6-1ccf-4c0b-af10-8cccef6982e6",
   "metadata": {},
   "source": [
    "## Load Libraries"
   ]
  },
  {
   "cell_type": "code",
   "execution_count": 5,
   "id": "87ecd2ad-01a0-4e87-a539-48d626168fd2",
   "metadata": {},
   "outputs": [],
   "source": [
    "import numpy as np #data manipulation\n",
    "import pandas as pd #data manipulation\n",
    "import sklearn as sk #modeling & metrics\n",
    "import seaborn as sns #visualizations\n",
    "import scipy as stats #visualizations\n",
    "from matplotlib import pyplot as plt #visualizations\n",
    "\n",
    "#imputation, scaling, metrics\n",
    "from sklearn import preprocessing\n",
    "from sklearn import metrics\n",
    "from sklearn.utils import resample\n",
    "from sklearn.metrics import r2_score, classification_report, f1_score, accuracy_score, confusion_matrix\n",
    "from sklearn.metrics import roc_curve, auc, roc_auc_score\n",
    "from sklearn.metrics import mean_squared_error\n",
    "from sklearn.metrics import mean_absolute_error\n",
    "from sklearn.model_selection import train_test_split\n",
    "from sklearn.model_selection import cross_val_score\n",
    "from sklearn.model_selection import StratifiedKFold\n",
    "from sklearn.experimental import enable_iterative_imputer\n",
    "from sklearn.impute import IterativeImputer\n",
    "from sklearn.preprocessing import StandardScaler\n",
    "from sklearn.feature_selection import SelectKBest\n",
    "from sklearn.feature_selection import f_classif\n",
    "from sklearn.linear_model import LogisticRegression\n",
    "\n",
    "#outlier classification\n",
    "from sklearn.ensemble import IsolationForest\n",
    "\n",
    "import xgboost as xgb #xgb model\n",
    "# import lightgbm as lgb #lgbm model\n",
    "# # from lightgbm import *\n",
    "# import re #fix error for lgbm\n",
    "import hyperopt #hyperparameter tuning\n",
    "from hyperopt import fmin, tpe, hp, STATUS_OK, Trials, space_eval\n",
    "\n",
    "import shap #shap plot\n",
    "\n",
    "import pickle \n",
    " \n",
    "import warnings\n",
    "warnings.filterwarnings('ignore')"
   ]
  },
  {
   "cell_type": "code",
   "execution_count": null,
   "id": "1552fb68",
   "metadata": {},
   "outputs": [],
   "source": [
    "# !pip install git+https://github.com/elastic/ember.git"
   ]
  },
  {
   "cell_type": "code",
   "execution_count": 2,
   "id": "affc059a",
   "metadata": {},
   "outputs": [],
   "source": [
    "import Ember_Wrapper"
   ]
  },
  {
   "cell_type": "markdown",
   "id": "3d7c1126",
   "metadata": {},
   "source": [
    "## Requirements"
   ]
  },
  {
   "cell_type": "markdown",
   "id": "7c3d12e5",
   "metadata": {},
   "source": [
    "The requirements file is basically this output copy pasted into a txt file"
   ]
  },
  {
   "cell_type": "code",
   "execution_count": 23,
   "id": "775ff10d",
   "metadata": {},
   "outputs": [
    {
     "name": "stdout",
     "output_type": "stream",
     "text": [
      "numpy==1.21.2\n",
      "pandas==1.3.4\n",
      "sklearn==1.0.1\n",
      "seaborn==0.11.2\n",
      "scipy==1.6.0\n",
      "xgboost==1.5.0\n",
      "hyperopt==0.2.5\n",
      "shap==0.40.0\n"
     ]
    }
   ],
   "source": [
    "print('\\n'.join(f'{m.__name__}=={m.__version__}' for m in globals().values() if getattr(m, '__version__', None)))"
   ]
  },
  {
   "cell_type": "markdown",
   "id": "b4afa946",
   "metadata": {},
   "source": [
    "## pip install git+https://github.com/elastic/ember.git\n",
    "## ember, numpy, pandas, shap, hyperopt, xgboost"
   ]
  },
  {
   "cell_type": "markdown",
   "id": "b633d294-cbc2-4ffa-8474-13be9e7d6e3d",
   "metadata": {},
   "source": [
    "## Load Data"
   ]
  },
  {
   "cell_type": "code",
   "execution_count": null,
   "id": "504a76f1-8bd6-42c7-948a-6ed3bb240fc1",
   "metadata": {},
   "outputs": [],
   "source": [
    "# Flattened EMBER Feature set\n",
    "# Easier to feed into ML models right away\n",
    "# df1 = pd.read_excel(\"flatten_train.xlsx\")"
   ]
  },
  {
   "cell_type": "markdown",
   "id": "2e4986e1",
   "metadata": {},
   "source": [
    "Use pickling so you don't have to re read Excel file every time."
   ]
  },
  {
   "cell_type": "code",
   "execution_count": null,
   "id": "33b59c6a",
   "metadata": {},
   "outputs": [],
   "source": [
    "# pd.to_pickle(df1, \"./data.pkl\")"
   ]
  },
  {
   "cell_type": "code",
   "execution_count": null,
   "id": "3592aef0",
   "metadata": {},
   "outputs": [],
   "source": [
    "df1 = pd.read_pickle(\"./data.pkl\")"
   ]
  },
  {
   "cell_type": "code",
   "execution_count": 8,
   "id": "e8acb0c3",
   "metadata": {},
   "outputs": [],
   "source": [
    "df2 = pd.read_excel(\"./Data/raw_train.xlsx\")"
   ]
  },
  {
   "cell_type": "markdown",
   "id": "e673d618",
   "metadata": {},
   "source": [
    "Checking how many malware entries."
   ]
  },
  {
   "cell_type": "code",
   "execution_count": null,
   "id": "32162510",
   "metadata": {},
   "outputs": [],
   "source": [
    "sum(df1['category'])"
   ]
  },
  {
   "cell_type": "code",
   "execution_count": null,
   "id": "2600ee08",
   "metadata": {},
   "outputs": [],
   "source": [
    "df1.shape"
   ]
  },
  {
   "cell_type": "code",
   "execution_count": null,
   "id": "35642d6a",
   "metadata": {},
   "outputs": [],
   "source": [
    "900/18000"
   ]
  },
  {
   "cell_type": "markdown",
   "id": "ad41dc03",
   "metadata": {},
   "source": [
    "5%, super imbalanced."
   ]
  },
  {
   "cell_type": "markdown",
   "id": "e48c92b2",
   "metadata": {},
   "source": [
    "## EDA"
   ]
  },
  {
   "cell_type": "markdown",
   "id": "ae9423ce",
   "metadata": {},
   "source": [
    "### Visualizations go here:\n",
    "### try plotting distributions of certain features to compare them between the malware and not malware tables"
   ]
  },
  {
   "cell_type": "code",
   "execution_count": null,
   "id": "82a70e3f",
   "metadata": {},
   "outputs": [],
   "source": [
    "df1.head(5)"
   ]
  },
  {
   "cell_type": "code",
   "execution_count": null,
   "id": "d6d5d6e2",
   "metadata": {
    "scrolled": true
   },
   "outputs": [],
   "source": [
    "list(df1)"
   ]
  },
  {
   "cell_type": "code",
   "execution_count": null,
   "id": "ba206cf2",
   "metadata": {},
   "outputs": [],
   "source": [
    "malware = df1[df1['category'] == 1]\n",
    "not_malware = df1[df1['category'] == 0]"
   ]
  },
  {
   "cell_type": "code",
   "execution_count": null,
   "id": "58b3da2a",
   "metadata": {},
   "outputs": [],
   "source": [
    "def dist_plotter(feature_name): #random function, make some more\n",
    "    fig, ax = plt.subplots(2,1)\n",
    "#     ax.set(ylabel='common ylabel', title=feature_name)\n",
    "    sns.violinplot(malware[feature_name], inner=\"quartile\", ax=ax[0], color='r')\n",
    "    sns.violinplot(not_malware[feature_name], inner=\"quartile\", ax=ax[1], color='r')"
   ]
  },
  {
   "cell_type": "code",
   "execution_count": null,
   "id": "6298ffff",
   "metadata": {},
   "outputs": [],
   "source": [
    "dist_plotter('byteentropy_211')"
   ]
  },
  {
   "cell_type": "code",
   "execution_count": null,
   "id": "c806edee",
   "metadata": {},
   "outputs": [],
   "source": []
  },
  {
   "cell_type": "code",
   "execution_count": null,
   "id": "10210c56",
   "metadata": {},
   "outputs": [],
   "source": []
  },
  {
   "cell_type": "markdown",
   "id": "8956859c",
   "metadata": {},
   "source": [
    "## Undersampling"
   ]
  },
  {
   "cell_type": "markdown",
   "id": "d318fbbb",
   "metadata": {},
   "source": [
    "Since only 5% of entries are malware, we want a similar 50/50 split between malware and not malware."
   ]
  },
  {
   "cell_type": "code",
   "execution_count": 9,
   "id": "1f70e5aa",
   "metadata": {},
   "outputs": [],
   "source": [
    "majority = df2[df2.category==0] # Majority class\n",
    "minority = df2[df2.category==1] # Minority class"
   ]
  },
  {
   "cell_type": "code",
   "execution_count": 10,
   "id": "a7f6d185",
   "metadata": {},
   "outputs": [
    {
     "data": {
      "text/plain": [
       "0    900\n",
       "1    900\n",
       "Name: category, dtype: int64"
      ]
     },
     "execution_count": 10,
     "metadata": {},
     "output_type": "execute_result"
    }
   ],
   "source": [
    "majority_undersampled = resample(majority, replace=False, n_samples=900) # Randomly selects 900 records from majority to match minority class size\n",
    "# New downsampled dataset\n",
    "df_undersampled = pd.concat([majority_undersampled, minority])  # Minority class + sample of 900 from majority\n",
    "df_undersampled.category.value_counts()"
   ]
  },
  {
   "cell_type": "code",
   "execution_count": null,
   "id": "938a0e80",
   "metadata": {},
   "outputs": [],
   "source": []
  },
  {
   "cell_type": "code",
   "execution_count": 7,
   "id": "2d670a65",
   "metadata": {},
   "outputs": [
    {
     "name": "stdout",
     "output_type": "stream",
     "text": [
      "WARNING: EMBER feature version 2 were computed using lief version 0.9.0-\n",
      "WARNING:   lief version 0.11.5-551ede5 found instead. There may be slight inconsistencies\n",
      "WARNING:   in the feature calculations.\n"
     ]
    }
   ],
   "source": [
    "Ember_Wrapper.create_vectorize_features(df_undersampled)\n",
    "# Ember_Wrapper.create_vectorize_features(df2)"
   ]
  },
  {
   "cell_type": "code",
   "execution_count": 11,
   "id": "0a5dbffc",
   "metadata": {},
   "outputs": [
    {
     "name": "stdout",
     "output_type": "stream",
     "text": [
      "X.shape (1800, 2381)\n",
      "%Malware: 0.5\n"
     ]
    }
   ],
   "source": [
    "X = np.load('./X_data.npy')\n",
    "y = np.load('./y_data.npy')\n",
    "print('X.shape', X.shape)\n",
    "print('%Malware:', sum(y) / len(y))"
   ]
  },
  {
   "cell_type": "code",
   "execution_count": 12,
   "id": "dd9a03fa",
   "metadata": {},
   "outputs": [],
   "source": [
    "full_X = X\n",
    "full_y = y"
   ]
  },
  {
   "cell_type": "code",
   "execution_count": null,
   "id": "011060cd",
   "metadata": {},
   "outputs": [],
   "source": [
    "# params = {'learning_rate': 0.66, 'max_depth': 1, 'n_estimators': 61}"
   ]
  },
  {
   "cell_type": "code",
   "execution_count": 13,
   "id": "8f96f9e4",
   "metadata": {},
   "outputs": [],
   "source": [
    "X_train_f, X_test_f, y_train_f, y_test_f = train_test_split(full_X, full_y, test_size=0.2) #train test split 80/20"
   ]
  },
  {
   "cell_type": "code",
   "execution_count": null,
   "id": "849e6dda",
   "metadata": {},
   "outputs": [],
   "source": [
    "# #hyperparameter domain to search over\n",
    "# hyperparam_space = {\n",
    "#     'max_depth': hp.choice('max_depth', np.arange(1, 10, 1, dtype=int)), #larger values = overfitting\n",
    "#     'n_estimators': hp.choice('n_estimators', np.arange(100, 500, 1, dtype=int)), #larger values = overfitting\n",
    "#     'learning_rate': hp.quniform('learning_rate', 0, 1, 0.01), #aka eta = step size shrinkage to prevent overfitting\n",
    "#     'gamma': hp.quniform('gamma', 0, 1, 0.05), #gamma: min loss reduction to partition leaf nodes (for overfitting)\n",
    "# #     'min_child_weight': hp.quniform('min_child_weight', 1, 8, 0.5),\n",
    "# #     'subsample': hp.quniform('subsample', 0.5, 1, 0.05),\n",
    "# }\n",
    "\n",
    "# def xgb_score(params): #function to train and test different hyperparams\n",
    "#     model = xgb.XGBClassifier(**params, eval_metric='logloss')\n",
    "#     model.fit(X_train_fs, y_train, early_stopping_rounds=20,\n",
    "#              eval_set=[(X_train_fs, y_train), (X_test_fs, y_test)])\n",
    "#     score = -cross_val_score(model, X_train_fs, y_train, cv=10, scoring='roc_auc').mean()\n",
    "#     print(score)\n",
    "#     return {'loss': score, 'status': STATUS_OK}\n",
    "            \n",
    "# def xgb_optimize(trials, space): #fmin is the main library function\n",
    "#     best = fmin(xgb_score, space, algo=tpe.suggest, max_evals=5)\n",
    "#     return best\n",
    "            \n",
    "# trials = Trials() #database that store completed hyperparameters and score\n",
    "# best_xgb_params = xgb_optimize(trials, hyperparam_space) #calls fmin"
   ]
  },
  {
   "cell_type": "code",
   "execution_count": null,
   "id": "0a6d9f4e",
   "metadata": {},
   "outputs": [],
   "source": [
    "xgb_model_f= xgb.XGBClassifier(eval_metric='logloss', scale_pos_weight=19)\n",
    "xgb_model_f.fit(X_train_f, y_train_f)\n",
    "preds_f = [pred[1] for pred in xgb_model_f.predict_proba(X_test_f)]\n",
    "score_f = roc_auc_score(y_test_f, preds_f, average='weighted')\n",
    "print('auc_roc: ', score_f)\n",
    "\n",
    "y_pred_f = xgb_model_f.predict(X_test_f)\n",
    "f1_f=f1_score(y_test_f, y_pred_f)\n",
    "print('F1 Score:', f1_f)\n",
    "print(confusion_matrix(y_test_f, y_pred_f))\n",
    "print(classification_report(y_test_f, y_pred_f))"
   ]
  },
  {
   "cell_type": "code",
   "execution_count": null,
   "id": "7d6e9d3e",
   "metadata": {},
   "outputs": [],
   "source": []
  },
  {
   "cell_type": "code",
   "execution_count": null,
   "id": "877801d5",
   "metadata": {},
   "outputs": [],
   "source": []
  },
  {
   "cell_type": "code",
   "execution_count": null,
   "id": "e4ac7e19",
   "metadata": {},
   "outputs": [],
   "source": []
  },
  {
   "cell_type": "code",
   "execution_count": null,
   "id": "639b241e",
   "metadata": {},
   "outputs": [],
   "source": []
  },
  {
   "cell_type": "code",
   "execution_count": 9,
   "id": "ce7e604e",
   "metadata": {},
   "outputs": [],
   "source": [
    "df = df_undersampled #make it a new df"
   ]
  },
  {
   "cell_type": "code",
   "execution_count": 10,
   "id": "2a95437d",
   "metadata": {},
   "outputs": [],
   "source": [
    "X = df.drop('category', axis=1) #X is everything but the 'category' col"
   ]
  },
  {
   "cell_type": "code",
   "execution_count": 11,
   "id": "5d485926",
   "metadata": {},
   "outputs": [],
   "source": [
    "y = df['category'] #y is just the target column"
   ]
  },
  {
   "cell_type": "code",
   "execution_count": 12,
   "id": "7897ed31",
   "metadata": {},
   "outputs": [],
   "source": [
    "X = X._get_numeric_data() #drop all nonnumeric ones (for now?)"
   ]
  },
  {
   "cell_type": "code",
   "execution_count": 13,
   "id": "81a2c68e",
   "metadata": {},
   "outputs": [
    {
     "name": "stdout",
     "output_type": "stream",
     "text": [
      "(1800, 0) (1800,)\n"
     ]
    }
   ],
   "source": [
    "print(X.shape, y.shape) #sanity check arrays"
   ]
  },
  {
   "cell_type": "markdown",
   "id": "7faad1f1",
   "metadata": {},
   "source": [
    "## Feature Selection with ANOVA"
   ]
  },
  {
   "cell_type": "markdown",
   "id": "62dcf6ee",
   "metadata": {},
   "source": [
    "Ideally should have selected features after heatmaps/correlation plots/distributions etc but skipped all that for now.\n",
    "\n",
    "This is automatic but more of a \"black box\"."
   ]
  },
  {
   "cell_type": "code",
   "execution_count": 14,
   "id": "e58d54f4",
   "metadata": {},
   "outputs": [],
   "source": [
    "X_train, X_test, y_train, y_test = train_test_split(X, y, test_size=0.2) #train test split 80/20"
   ]
  },
  {
   "cell_type": "code",
   "execution_count": null,
   "id": "6a792bd4",
   "metadata": {},
   "outputs": [],
   "source": [
    "# fs = SelectKBest(score_func=f_classif, k=600) #THIS K IS HOW MANY FEATURES YOU WANT\n",
    "# fs.fit(X_train, y_train)\n",
    "# mask = fs.get_support()\n",
    "# new_features = X_train.columns[mask]"
   ]
  },
  {
   "cell_type": "code",
   "execution_count": null,
   "id": "82449ae4",
   "metadata": {},
   "outputs": [],
   "source": [
    "# X_train_fs = X_train[new_features]\n",
    "# X_test_fs = X_test[new_features]"
   ]
  },
  {
   "cell_type": "code",
   "execution_count": 15,
   "id": "dac5edd2",
   "metadata": {},
   "outputs": [],
   "source": [
    "X_train_fs = X_train\n",
    "X_test_fs = X_test"
   ]
  },
  {
   "cell_type": "code",
   "execution_count": null,
   "id": "e27959d9",
   "metadata": {},
   "outputs": [],
   "source": [
    "# for i in range(len(fs.scores_[:10])):\n",
    "#     print('Feature %d: %f' % (i, fs.scores_[i]))\n",
    "# # plot the scores\n",
    "#     plt.bar([i for i in range(len(fs.scores_))], fs.scores_)\n",
    "#     plt.show()"
   ]
  },
  {
   "cell_type": "markdown",
   "id": "b8375b69",
   "metadata": {},
   "source": [
    "Now we can use X_train_fs and X_test_fs in place of X_train and X_test."
   ]
  },
  {
   "cell_type": "code",
   "execution_count": 16,
   "id": "1378e470",
   "metadata": {
    "scrolled": false
   },
   "outputs": [
    {
     "name": "stdout",
     "output_type": "stream",
     "text": [
      "(1440, 2381) (360, 2381)\n"
     ]
    }
   ],
   "source": [
    "print(X_train_fs.shape, X_test_fs.shape)"
   ]
  },
  {
   "cell_type": "code",
   "execution_count": 17,
   "id": "6b5a9930",
   "metadata": {
    "scrolled": true
   },
   "outputs": [
    {
     "name": "stdout",
     "output_type": "stream",
     "text": [
      "(1440,) (360,)\n"
     ]
    }
   ],
   "source": [
    "print(y_train.shape, y_test.shape)"
   ]
  },
  {
   "cell_type": "markdown",
   "id": "7977a7bf",
   "metadata": {},
   "source": [
    "## Modeling"
   ]
  },
  {
   "cell_type": "markdown",
   "id": "94ee8fe7",
   "metadata": {},
   "source": [
    "This function basically fits a specified model and outputs it's f1_score as well as ROC curve, can add more graphs/plots to it as well."
   ]
  },
  {
   "cell_type": "code",
   "execution_count": null,
   "id": "0c28500b",
   "metadata": {},
   "outputs": [],
   "source": [
    "def modeler(model):\n",
    "    model.fit(X_train_fs, y_train) #fit specified model\n",
    "    y_pred = model.predict(X_test_fs) #predict on test set\n",
    "    f1 = f1_score(y_test, y_pred) #get f1 score\n",
    "    print('F1 Score:', f1)\n",
    "    print(metrics.confusion_matrix(y_test, y_pred))\n",
    "    \n",
    "    #this plots the ROC curve, play around iwth it\n",
    "    from sklearn.metrics import roc_curve, auc\n",
    "    fpr, tpr, thresholds = roc_curve(y_pred, y_test)\n",
    "    roc_auc = auc(fpr, tpr)\n",
    "\n",
    "    plt.figure()\n",
    "    plt.plot(fpr, tpr, color='darkorange', label='ROC curve (area = %0.2f)' % roc_auc)\n",
    "    plt.plot([0, 1], [0, 1], color='navy', linestyle='--')\n",
    "    plt.xlim([0.0, 1.0])\n",
    "    plt.ylim([0.0, 1.05])\n",
    "    plt.xlabel('False Positive Rate')\n",
    "    plt.ylabel('True Positive Rate')\n",
    "    plt.title('Receiver operating characteristic')\n",
    "    plt.legend(loc=\"lower right\")\n",
    "    plt.show()"
   ]
  },
  {
   "cell_type": "code",
   "execution_count": null,
   "id": "6a6991c5",
   "metadata": {},
   "outputs": [],
   "source": [
    "lr = LogisticRegression()\n",
    "modeler(lr)"
   ]
  },
  {
   "cell_type": "code",
   "execution_count": null,
   "id": "d8c073fb",
   "metadata": {
    "scrolled": true
   },
   "outputs": [],
   "source": [
    "# lgbm = lgb.LGBMClassifier()\n",
    "# modeler(lgbm)"
   ]
  },
  {
   "cell_type": "code",
   "execution_count": null,
   "id": "79c2a5aa",
   "metadata": {},
   "outputs": [],
   "source": [
    "xgbc = xgb.XGBClassifier()\n",
    "modeler(xgbc)"
   ]
  },
  {
   "cell_type": "code",
   "execution_count": null,
   "id": "124fa26f",
   "metadata": {},
   "outputs": [],
   "source": [
    "from sklearn.ensemble import RandomForestClassifier\n",
    "rf = RandomForestClassifier()\n",
    "modeler(rf)"
   ]
  },
  {
   "cell_type": "code",
   "execution_count": null,
   "id": "acffb742",
   "metadata": {},
   "outputs": [],
   "source": [
    "from sklearn.svm import SVC\n",
    "svm = SVC()\n",
    "modeler(svm)"
   ]
  },
  {
   "cell_type": "code",
   "execution_count": null,
   "id": "c442ea2e",
   "metadata": {},
   "outputs": [],
   "source": [
    "from sklearn.neighbors import KNeighborsClassifier\n",
    "knn = KNeighborsClassifier()\n",
    "modeler(knn)"
   ]
  },
  {
   "cell_type": "code",
   "execution_count": null,
   "id": "526f394f",
   "metadata": {},
   "outputs": [],
   "source": [
    "from sklearn import tree\n",
    "dt = tree.DecisionTreeClassifier()\n",
    "modeler(dt)"
   ]
  },
  {
   "cell_type": "markdown",
   "id": "311b8688",
   "metadata": {},
   "source": [
    "Best ones seem to be LGBM and XGB. Ideal ROC graph looks hugs the top left corner."
   ]
  },
  {
   "cell_type": "markdown",
   "id": "a4fa6f4e",
   "metadata": {},
   "source": [
    "## Hyperparameter Optimization"
   ]
  },
  {
   "cell_type": "markdown",
   "id": "a23e892a",
   "metadata": {},
   "source": [
    "Time to tune with Hyperopt.\n",
    "(Scaling/normalizing isn't needed for gradient boosted decision trees so skip it)"
   ]
  },
  {
   "cell_type": "markdown",
   "id": "bdf41687",
   "metadata": {},
   "source": [
    "# EVERYONE CAN TRY OPTIMIZING WITH DIFFERENT HYPERPARAMETERS LIKE IN THE COMMENTED OUT LINES, check the user docs for more parameters"
   ]
  },
  {
   "cell_type": "code",
   "execution_count": null,
   "id": "c27890d3",
   "metadata": {},
   "outputs": [],
   "source": [
    "# #hyperparameter domain to search over\n",
    "# hyperparam_space = {\n",
    "#     'num_leaves':       hp.choice('num_leaves', np.arange(30, 250, 1)),\n",
    "#     'learning_rate':    hp.quniform('learning_rate', 0, 0.3, 0.01),\n",
    "#     'max_depth':        hp.choice('max_depth', np.arange(2, 100, 1, dtype=int)),\n",
    "#     'min_child_weight': hp.choice('min_child_weight', np.arange(1, 50, 1, dtype=int)),\n",
    "#     'colsample_bytree': hp.uniform('colsample_bytree', 0.4, 1),\n",
    "#     'subsample':        hp.uniform('subsample', 0.5, 1),\n",
    "# }"
   ]
  },
  {
   "cell_type": "markdown",
   "id": "8be52d91",
   "metadata": {},
   "source": [
    "Following code takes a couple minutes to run:"
   ]
  },
  {
   "cell_type": "code",
   "execution_count": null,
   "id": "1b455126",
   "metadata": {
    "scrolled": true
   },
   "outputs": [],
   "source": [
    "# def score(params): #function to train and test different hyperparams\n",
    "#     model = lgb.LGBMClassifier(**params)\n",
    "#     model.fit(X_train_fs, y_train, early_stopping_rounds=20,\n",
    "#              eval_set=[(X_train_fs, y_train), (X_test_fs, y_test)])\n",
    "# #     y_pred = model.predict(X_test_fs)\n",
    "# #     score = mean_squared_error(y_test, y_pred)\n",
    "#     score = -cross_val_score(model, X_train_fs, y_train, cv=10, scoring='roc_auc').mean()\n",
    "#     print(score)\n",
    "#     return score\n",
    "            \n",
    "# def optimize(trials, space): #fmin is the main library function\n",
    "#     best = fmin(score, space, algo=tpe.suggest, max_evals=10)\n",
    "#     return best\n",
    "            \n",
    "# trials = Trials() #database that store completed hyperparameters and score\n",
    "# best_params = optimize(trials, hyperparam_space) #calls fmin\n",
    "\n",
    "# #finds best hyperparameters\n",
    "# # space_eval(hyperparam_space, best_params)"
   ]
  },
  {
   "cell_type": "code",
   "execution_count": null,
   "id": "de0c0e47",
   "metadata": {
    "scrolled": true
   },
   "outputs": [],
   "source": [
    "# best_params"
   ]
  },
  {
   "cell_type": "code",
   "execution_count": null,
   "id": "177821b4",
   "metadata": {},
   "outputs": [],
   "source": [
    "# lgbm_model = lgb.LGBMClassifier(**best_params)\n",
    "# lgbm_model.fit(X_train_fs, y_train)\n",
    "# preds = [pred[1] for pred in lgbm_model.predict_proba(X_test_fs)]\n",
    "# score = roc_auc_score(y_test, preds, average='weighted')\n",
    "# print('auc_roc score: ', score)\n",
    "\n",
    "# y_pred = lgbm_model.predict(X_test_fs)\n",
    "# f1 = f1_score(y_test, y_pred) #get f1 score\n",
    "# print('F1 Score:', f1)\n",
    "# print(confusion_matrix(y_test, y_pred))\n",
    "# print(classification_report(y_test, y_pred))"
   ]
  },
  {
   "cell_type": "code",
   "execution_count": null,
   "id": "87d493d7",
   "metadata": {},
   "outputs": [],
   "source": [
    "# shap_values = shap.TreeExplainer(lgbm_model).shap_values(X_test_fs)\n",
    "# shap.summary_plot(shap_values, X_test_fs)"
   ]
  },
  {
   "cell_type": "code",
   "execution_count": null,
   "id": "11862dc7",
   "metadata": {},
   "outputs": [],
   "source": [
    "# lgb.plot_importance(lgbm_model, max_num_features=20)\n",
    "# plt.figure(figsize=(25, 12))\n",
    "# plt.show()"
   ]
  },
  {
   "cell_type": "code",
   "execution_count": 20,
   "id": "2a8e5291",
   "metadata": {},
   "outputs": [],
   "source": [
    "#hyperparameter domain to search over\n",
    "hyperparam_space = {\n",
    "    'max_depth': hp.choice('max_depth', np.arange(1, 10, 1, dtype=int)), #larger values = overfitting\n",
    "    'n_estimators': hp.choice('n_estimators', np.arange(100, 500, 1, dtype=int)), #larger values = overfitting\n",
    "    'learning_rate': hp.quniform('learning_rate', 0, 1, 0.01), #aka eta = step size shrinkage to prevent overfitting\n",
    "#     'gamma': hp.quniform('gamma', 0, 1, 0.05), #gamma: min loss reduction to partition leaf nodes (for overfitting)\n",
    "#     'min_child_weight': hp.quniform('min_child_weight', 1, 8, 0.5),\n",
    "#     'subsample': hp.quniform('subsample', 0.5, 1, 0.05),\n",
    "}"
   ]
  },
  {
   "cell_type": "code",
   "execution_count": 21,
   "id": "a1e55c88",
   "metadata": {
    "scrolled": true
   },
   "outputs": [
    {
     "name": "stdout",
     "output_type": "stream",
     "text": [
      "[0]\tvalidation_0-logloss:0.32467\tvalidation_1-logloss:0.48172                                                                              \n",
      "[1]\tvalidation_0-logloss:0.18556\tvalidation_1-logloss:0.39888                                                                              \n",
      "[2]\tvalidation_0-logloss:0.11201\tvalidation_1-logloss:0.33559                                                                              \n",
      "[3]\tvalidation_0-logloss:0.07417\tvalidation_1-logloss:0.30651                                                                              \n",
      "[4]\tvalidation_0-logloss:0.05116\tvalidation_1-logloss:0.30095                                                                              \n",
      "[5]\tvalidation_0-logloss:0.03927\tvalidation_1-logloss:0.28558                                                                              \n",
      "[6]\tvalidation_0-logloss:0.03047\tvalidation_1-logloss:0.27588                                                                              \n",
      "[7]\tvalidation_0-logloss:0.02452\tvalidation_1-logloss:0.27182                                                                              \n",
      "[8]\tvalidation_0-logloss:0.02019\tvalidation_1-logloss:0.27086                                                                              \n",
      "[9]\tvalidation_0-logloss:0.01732\tvalidation_1-logloss:0.28677                                                                              \n",
      "[10]\tvalidation_0-logloss:0.01527\tvalidation_1-logloss:0.29001                                                                             \n",
      "[11]\tvalidation_0-logloss:0.01357\tvalidation_1-logloss:0.29059                                                                             \n",
      "[12]\tvalidation_0-logloss:0.01214\tvalidation_1-logloss:0.28776                                                                             \n",
      "[13]\tvalidation_0-logloss:0.01092\tvalidation_1-logloss:0.29049                                                                             \n",
      "[14]\tvalidation_0-logloss:0.01004\tvalidation_1-logloss:0.29280                                                                             \n",
      "[15]\tvalidation_0-logloss:0.00934\tvalidation_1-logloss:0.29057                                                                             \n",
      "[16]\tvalidation_0-logloss:0.00865\tvalidation_1-logloss:0.28648                                                                             \n",
      "[17]\tvalidation_0-logloss:0.00805\tvalidation_1-logloss:0.28762                                                                             \n",
      "[18]\tvalidation_0-logloss:0.00749\tvalidation_1-logloss:0.28838                                                                             \n",
      "[19]\tvalidation_0-logloss:0.00703\tvalidation_1-logloss:0.28999                                                                             \n",
      "[20]\tvalidation_0-logloss:0.00670\tvalidation_1-logloss:0.28761                                                                             \n",
      "[21]\tvalidation_0-logloss:0.00639\tvalidation_1-logloss:0.28848                                                                             \n",
      "[22]\tvalidation_0-logloss:0.00607\tvalidation_1-logloss:0.28686                                                                             \n",
      "[23]\tvalidation_0-logloss:0.00581\tvalidation_1-logloss:0.28741                                                                             \n",
      "[24]\tvalidation_0-logloss:0.00559\tvalidation_1-logloss:0.28752                                                                             \n",
      "[25]\tvalidation_0-logloss:0.00539\tvalidation_1-logloss:0.28747                                                                             \n",
      "[26]\tvalidation_0-logloss:0.00524\tvalidation_1-logloss:0.28880                                                                             \n",
      "[27]\tvalidation_0-logloss:0.00507\tvalidation_1-logloss:0.29197                                                                             \n",
      "[28]\tvalidation_0-logloss:0.00488\tvalidation_1-logloss:0.29088                                                                             \n",
      "-0.9633031063090876                                                                                                                        \n",
      "[0]\tvalidation_0-logloss:0.64392\tvalidation_1-logloss:0.65304                                                                              \n",
      "[1]\tvalidation_0-logloss:0.59858\tvalidation_1-logloss:0.61837                                                                              \n",
      "[2]\tvalidation_0-logloss:0.56095\tvalidation_1-logloss:0.58912                                                                              \n",
      "[3]\tvalidation_0-logloss:0.52641\tvalidation_1-logloss:0.56177                                                                              \n",
      "[4]\tvalidation_0-logloss:0.49538\tvalidation_1-logloss:0.53554                                                                              \n",
      "[5]\tvalidation_0-logloss:0.46786\tvalidation_1-logloss:0.51330                                                                              \n",
      "[6]\tvalidation_0-logloss:0.44332\tvalidation_1-logloss:0.49367                                                                              \n",
      "[7]\tvalidation_0-logloss:0.42104\tvalidation_1-logloss:0.47517                                                                              \n",
      "[8]\tvalidation_0-logloss:0.40119\tvalidation_1-logloss:0.46116                                                                              \n",
      "[9]\tvalidation_0-logloss:0.38072\tvalidation_1-logloss:0.44585                                                                              \n",
      "[10]\tvalidation_0-logloss:0.36496\tvalidation_1-logloss:0.43517                                                                             \n",
      "[11]\tvalidation_0-logloss:0.34844\tvalidation_1-logloss:0.42457                                                                             \n",
      "[12]\tvalidation_0-logloss:0.33370\tvalidation_1-logloss:0.41325                                                                             \n",
      "[13]\tvalidation_0-logloss:0.32033\tvalidation_1-logloss:0.40322                                                                             \n",
      "[14]\tvalidation_0-logloss:0.30872\tvalidation_1-logloss:0.39401                                                                             \n",
      "[15]\tvalidation_0-logloss:0.29744\tvalidation_1-logloss:0.38517                                                                             \n",
      "[16]\tvalidation_0-logloss:0.28696\tvalidation_1-logloss:0.37862                                                                             \n",
      "[17]\tvalidation_0-logloss:0.27609\tvalidation_1-logloss:0.36968                                                                             \n",
      "[18]\tvalidation_0-logloss:0.26679\tvalidation_1-logloss:0.36006                                                                             \n",
      "[19]\tvalidation_0-logloss:0.25841\tvalidation_1-logloss:0.35288                                                                             \n",
      "[20]\tvalidation_0-logloss:0.24933\tvalidation_1-logloss:0.34755                                                                             \n",
      "[21]\tvalidation_0-logloss:0.24121\tvalidation_1-logloss:0.34148                                                                             \n",
      "[22]\tvalidation_0-logloss:0.23454\tvalidation_1-logloss:0.33691                                                                             \n",
      "[23]\tvalidation_0-logloss:0.22563\tvalidation_1-logloss:0.33017                                                                             \n",
      "[24]\tvalidation_0-logloss:0.21850\tvalidation_1-logloss:0.32401                                                                             \n",
      "[25]\tvalidation_0-logloss:0.21290\tvalidation_1-logloss:0.32054                                                                             \n",
      "[26]\tvalidation_0-logloss:0.20679\tvalidation_1-logloss:0.31587                                                                             \n",
      "[27]\tvalidation_0-logloss:0.19985\tvalidation_1-logloss:0.31208                                                                             \n",
      "[28]\tvalidation_0-logloss:0.19351\tvalidation_1-logloss:0.30764                                                                             \n",
      "[29]\tvalidation_0-logloss:0.18876\tvalidation_1-logloss:0.30464                                                                             \n",
      "[30]\tvalidation_0-logloss:0.18404\tvalidation_1-logloss:0.30195                                                                             \n",
      "[31]\tvalidation_0-logloss:0.17884\tvalidation_1-logloss:0.29780                                                                             \n",
      "[32]\tvalidation_0-logloss:0.17410\tvalidation_1-logloss:0.29592                                                                             \n",
      "[33]\tvalidation_0-logloss:0.16856\tvalidation_1-logloss:0.29358                                                                             \n",
      "[34]\tvalidation_0-logloss:0.16586\tvalidation_1-logloss:0.29098                                                                             \n",
      "[35]\tvalidation_0-logloss:0.16232\tvalidation_1-logloss:0.28923                                                                             \n",
      "[36]\tvalidation_0-logloss:0.15978\tvalidation_1-logloss:0.28787                                                                             \n",
      "[37]\tvalidation_0-logloss:0.15540\tvalidation_1-logloss:0.28343                                                                             \n",
      "[38]\tvalidation_0-logloss:0.15185\tvalidation_1-logloss:0.28087                                                                             \n",
      "[39]\tvalidation_0-logloss:0.14914\tvalidation_1-logloss:0.27819                                                                             \n",
      "[40]\tvalidation_0-logloss:0.14639\tvalidation_1-logloss:0.27584                                                                             \n",
      "[41]\tvalidation_0-logloss:0.14342\tvalidation_1-logloss:0.27345                                                                             \n",
      "[42]\tvalidation_0-logloss:0.14154\tvalidation_1-logloss:0.27098                                                                             \n",
      "[43]\tvalidation_0-logloss:0.13947\tvalidation_1-logloss:0.26946                                                                             \n",
      "[44]\tvalidation_0-logloss:0.13591\tvalidation_1-logloss:0.26671                                                                             \n",
      "[45]\tvalidation_0-logloss:0.13451\tvalidation_1-logloss:0.26552                                                                             \n",
      "[46]\tvalidation_0-logloss:0.13172\tvalidation_1-logloss:0.26466                                                                             \n",
      "[47]\tvalidation_0-logloss:0.12885\tvalidation_1-logloss:0.26328                                                                             \n",
      "[48]\tvalidation_0-logloss:0.12641\tvalidation_1-logloss:0.26177                                                                             \n",
      "[49]\tvalidation_0-logloss:0.12357\tvalidation_1-logloss:0.26034                                                                             \n",
      "[50]\tvalidation_0-logloss:0.12158\tvalidation_1-logloss:0.25960                                                                             \n",
      "[51]\tvalidation_0-logloss:0.11850\tvalidation_1-logloss:0.26075                                                                             \n",
      "[52]\tvalidation_0-logloss:0.11557\tvalidation_1-logloss:0.25877                                                                             \n",
      "[53]\tvalidation_0-logloss:0.11388\tvalidation_1-logloss:0.25832                                                                             \n",
      "[54]\tvalidation_0-logloss:0.11210\tvalidation_1-logloss:0.25589                                                                             \n",
      "[55]\tvalidation_0-logloss:0.11021\tvalidation_1-logloss:0.25423                                                                             \n",
      "[56]\tvalidation_0-logloss:0.10865\tvalidation_1-logloss:0.25359                                                                             \n",
      "[57]\tvalidation_0-logloss:0.10660\tvalidation_1-logloss:0.25315                                                                             \n",
      "[58]\tvalidation_0-logloss:0.10412\tvalidation_1-logloss:0.25255                                                                             \n",
      "[59]\tvalidation_0-logloss:0.10289\tvalidation_1-logloss:0.25102                                                                             \n",
      "[60]\tvalidation_0-logloss:0.10087\tvalidation_1-logloss:0.24977                                                                             \n",
      "[61]\tvalidation_0-logloss:0.10005\tvalidation_1-logloss:0.24914                                                                             \n",
      "[62]\tvalidation_0-logloss:0.09864\tvalidation_1-logloss:0.24749                                                                             \n",
      "[63]\tvalidation_0-logloss:0.09751\tvalidation_1-logloss:0.24731                                                                             \n",
      "[64]\tvalidation_0-logloss:0.09541\tvalidation_1-logloss:0.24690                                                                             \n",
      "[65]\tvalidation_0-logloss:0.09274\tvalidation_1-logloss:0.24541                                                                             \n",
      "[66]\tvalidation_0-logloss:0.09146\tvalidation_1-logloss:0.24389                                                                             \n",
      "[67]\tvalidation_0-logloss:0.09009\tvalidation_1-logloss:0.24392                                                                             \n",
      "[68]\tvalidation_0-logloss:0.08863\tvalidation_1-logloss:0.24413                                                                             \n",
      "[69]\tvalidation_0-logloss:0.08715\tvalidation_1-logloss:0.24324                                                                             \n",
      "[70]\tvalidation_0-logloss:0.08507\tvalidation_1-logloss:0.24281                                                                             \n",
      "[71]\tvalidation_0-logloss:0.08439\tvalidation_1-logloss:0.24154                                                                             \n",
      "[72]\tvalidation_0-logloss:0.08304\tvalidation_1-logloss:0.24081                                                                             \n",
      "[73]\tvalidation_0-logloss:0.08186\tvalidation_1-logloss:0.23948                                                                             \n",
      "[74]\tvalidation_0-logloss:0.08076\tvalidation_1-logloss:0.23834                                                                             \n",
      "[75]\tvalidation_0-logloss:0.07979\tvalidation_1-logloss:0.23850                                                                             \n",
      "[76]\tvalidation_0-logloss:0.07817\tvalidation_1-logloss:0.23892                                                                             \n",
      "[77]\tvalidation_0-logloss:0.07633\tvalidation_1-logloss:0.23860                                                                             \n",
      "[78]\tvalidation_0-logloss:0.07533\tvalidation_1-logloss:0.23828                                                                             \n",
      "[79]\tvalidation_0-logloss:0.07377\tvalidation_1-logloss:0.23814                                                                             \n",
      "[80]\tvalidation_0-logloss:0.07308\tvalidation_1-logloss:0.23741                                                                             \n",
      "[81]\tvalidation_0-logloss:0.07200\tvalidation_1-logloss:0.23682                                                                             \n",
      "[82]\tvalidation_0-logloss:0.07105\tvalidation_1-logloss:0.23649                                                                             \n",
      "[83]\tvalidation_0-logloss:0.07001\tvalidation_1-logloss:0.23619                                                                             \n",
      "[84]\tvalidation_0-logloss:0.06888\tvalidation_1-logloss:0.23549                                                                             \n",
      "[85]\tvalidation_0-logloss:0.06807\tvalidation_1-logloss:0.23553                                                                             \n"
     ]
    },
    {
     "name": "stdout",
     "output_type": "stream",
     "text": [
      "[86]\tvalidation_0-logloss:0.06649\tvalidation_1-logloss:0.23440                                                                             \n",
      "[87]\tvalidation_0-logloss:0.06498\tvalidation_1-logloss:0.23370                                                                             \n",
      "[88]\tvalidation_0-logloss:0.06355\tvalidation_1-logloss:0.23304                                                                             \n",
      "[89]\tvalidation_0-logloss:0.06237\tvalidation_1-logloss:0.23292                                                                             \n",
      "[90]\tvalidation_0-logloss:0.06132\tvalidation_1-logloss:0.23234                                                                             \n",
      "[91]\tvalidation_0-logloss:0.06074\tvalidation_1-logloss:0.23179                                                                             \n",
      "[92]\tvalidation_0-logloss:0.05998\tvalidation_1-logloss:0.23209                                                                             \n",
      "[93]\tvalidation_0-logloss:0.05895\tvalidation_1-logloss:0.23168                                                                             \n",
      "[94]\tvalidation_0-logloss:0.05797\tvalidation_1-logloss:0.23124                                                                             \n",
      "[95]\tvalidation_0-logloss:0.05706\tvalidation_1-logloss:0.23129                                                                             \n",
      "[96]\tvalidation_0-logloss:0.05672\tvalidation_1-logloss:0.23144                                                                             \n",
      "[97]\tvalidation_0-logloss:0.05584\tvalidation_1-logloss:0.23126                                                                             \n",
      "[98]\tvalidation_0-logloss:0.05478\tvalidation_1-logloss:0.23144                                                                             \n",
      "[99]\tvalidation_0-logloss:0.05403\tvalidation_1-logloss:0.23116                                                                             \n",
      "[100]\tvalidation_0-logloss:0.05330\tvalidation_1-logloss:0.23149                                                                            \n",
      "[101]\tvalidation_0-logloss:0.05231\tvalidation_1-logloss:0.23094                                                                            \n",
      "[102]\tvalidation_0-logloss:0.05182\tvalidation_1-logloss:0.23049                                                                            \n",
      "[103]\tvalidation_0-logloss:0.05062\tvalidation_1-logloss:0.22816                                                                            \n",
      "[104]\tvalidation_0-logloss:0.04991\tvalidation_1-logloss:0.22843                                                                            \n",
      "[105]\tvalidation_0-logloss:0.04904\tvalidation_1-logloss:0.22785                                                                            \n",
      "[106]\tvalidation_0-logloss:0.04852\tvalidation_1-logloss:0.22756                                                                            \n",
      "[107]\tvalidation_0-logloss:0.04782\tvalidation_1-logloss:0.22783                                                                            \n",
      "[108]\tvalidation_0-logloss:0.04742\tvalidation_1-logloss:0.22752                                                                            \n",
      "[109]\tvalidation_0-logloss:0.04685\tvalidation_1-logloss:0.22668                                                                            \n",
      "[110]\tvalidation_0-logloss:0.04625\tvalidation_1-logloss:0.22611                                                                            \n",
      "[111]\tvalidation_0-logloss:0.04572\tvalidation_1-logloss:0.22570                                                                            \n",
      "[112]\tvalidation_0-logloss:0.04505\tvalidation_1-logloss:0.22539                                                                            \n",
      "[113]\tvalidation_0-logloss:0.04421\tvalidation_1-logloss:0.22562                                                                            \n",
      "[114]\tvalidation_0-logloss:0.04341\tvalidation_1-logloss:0.22575                                                                            \n",
      "[115]\tvalidation_0-logloss:0.04282\tvalidation_1-logloss:0.22582                                                                            \n",
      "[116]\tvalidation_0-logloss:0.04219\tvalidation_1-logloss:0.22598                                                                            \n",
      "[117]\tvalidation_0-logloss:0.04136\tvalidation_1-logloss:0.22512                                                                            \n",
      "[118]\tvalidation_0-logloss:0.04078\tvalidation_1-logloss:0.22518                                                                            \n",
      "[119]\tvalidation_0-logloss:0.04003\tvalidation_1-logloss:0.22515                                                                            \n",
      "[120]\tvalidation_0-logloss:0.03942\tvalidation_1-logloss:0.22504                                                                            \n",
      "[121]\tvalidation_0-logloss:0.03888\tvalidation_1-logloss:0.22401                                                                            \n",
      "[122]\tvalidation_0-logloss:0.03843\tvalidation_1-logloss:0.22317                                                                            \n",
      "[123]\tvalidation_0-logloss:0.03807\tvalidation_1-logloss:0.22298                                                                            \n",
      "[124]\tvalidation_0-logloss:0.03772\tvalidation_1-logloss:0.22322                                                                            \n",
      "[125]\tvalidation_0-logloss:0.03697\tvalidation_1-logloss:0.22222                                                                            \n",
      "[126]\tvalidation_0-logloss:0.03652\tvalidation_1-logloss:0.22236                                                                            \n",
      "[127]\tvalidation_0-logloss:0.03601\tvalidation_1-logloss:0.22158                                                                            \n",
      "[128]\tvalidation_0-logloss:0.03552\tvalidation_1-logloss:0.22160                                                                            \n",
      "[129]\tvalidation_0-logloss:0.03499\tvalidation_1-logloss:0.22156                                                                            \n",
      "[130]\tvalidation_0-logloss:0.03457\tvalidation_1-logloss:0.22140                                                                            \n",
      "[131]\tvalidation_0-logloss:0.03391\tvalidation_1-logloss:0.22112                                                                            \n",
      "[132]\tvalidation_0-logloss:0.03351\tvalidation_1-logloss:0.22075                                                                            \n",
      "[133]\tvalidation_0-logloss:0.03309\tvalidation_1-logloss:0.22061                                                                            \n",
      "[134]\tvalidation_0-logloss:0.03268\tvalidation_1-logloss:0.22087                                                                            \n",
      "[135]\tvalidation_0-logloss:0.03206\tvalidation_1-logloss:0.22089                                                                            \n",
      "[136]\tvalidation_0-logloss:0.03156\tvalidation_1-logloss:0.22079                                                                            \n",
      "[137]\tvalidation_0-logloss:0.03118\tvalidation_1-logloss:0.22081                                                                            \n",
      "[138]\tvalidation_0-logloss:0.03089\tvalidation_1-logloss:0.22051                                                                            \n",
      "[139]\tvalidation_0-logloss:0.03040\tvalidation_1-logloss:0.22017                                                                            \n",
      "[140]\tvalidation_0-logloss:0.03003\tvalidation_1-logloss:0.21996                                                                            \n",
      "[141]\tvalidation_0-logloss:0.02950\tvalidation_1-logloss:0.21974                                                                            \n",
      "[142]\tvalidation_0-logloss:0.02901\tvalidation_1-logloss:0.21985                                                                            \n",
      "[143]\tvalidation_0-logloss:0.02867\tvalidation_1-logloss:0.21953                                                                            \n",
      "[144]\tvalidation_0-logloss:0.02839\tvalidation_1-logloss:0.21998                                                                            \n",
      "[145]\tvalidation_0-logloss:0.02806\tvalidation_1-logloss:0.22011                                                                            \n",
      "[146]\tvalidation_0-logloss:0.02782\tvalidation_1-logloss:0.21981                                                                            \n",
      "[147]\tvalidation_0-logloss:0.02759\tvalidation_1-logloss:0.21968                                                                            \n",
      "[148]\tvalidation_0-logloss:0.02721\tvalidation_1-logloss:0.22046                                                                            \n",
      "[149]\tvalidation_0-logloss:0.02671\tvalidation_1-logloss:0.22032                                                                            \n",
      "[150]\tvalidation_0-logloss:0.02651\tvalidation_1-logloss:0.22057                                                                            \n",
      "[151]\tvalidation_0-logloss:0.02614\tvalidation_1-logloss:0.22117                                                                            \n",
      "[152]\tvalidation_0-logloss:0.02580\tvalidation_1-logloss:0.22095                                                                            \n",
      "[153]\tvalidation_0-logloss:0.02554\tvalidation_1-logloss:0.22054                                                                            \n",
      "[154]\tvalidation_0-logloss:0.02515\tvalidation_1-logloss:0.22023                                                                            \n",
      "[155]\tvalidation_0-logloss:0.02497\tvalidation_1-logloss:0.22055                                                                            \n",
      "[156]\tvalidation_0-logloss:0.02465\tvalidation_1-logloss:0.22077                                                                            \n",
      "[157]\tvalidation_0-logloss:0.02441\tvalidation_1-logloss:0.22081                                                                            \n",
      "[158]\tvalidation_0-logloss:0.02405\tvalidation_1-logloss:0.22184                                                                            \n",
      "[159]\tvalidation_0-logloss:0.02370\tvalidation_1-logloss:0.22294                                                                            \n",
      "[160]\tvalidation_0-logloss:0.02346\tvalidation_1-logloss:0.22336                                                                            \n",
      "[161]\tvalidation_0-logloss:0.02324\tvalidation_1-logloss:0.22351                                                                            \n",
      "[162]\tvalidation_0-logloss:0.02299\tvalidation_1-logloss:0.22400                                                                            \n",
      "-0.9701331275323174                                                                                                                        \n",
      "[0]\tvalidation_0-logloss:0.66524\tvalidation_1-logloss:0.67030                                                                              \n",
      "[1]\tvalidation_0-logloss:0.63904\tvalidation_1-logloss:0.64912                                                                              \n",
      "[2]\tvalidation_0-logloss:0.61371\tvalidation_1-logloss:0.62972                                                                              \n",
      "[3]\tvalidation_0-logloss:0.59211\tvalidation_1-logloss:0.61267                                                                              \n",
      "[4]\tvalidation_0-logloss:0.57031\tvalidation_1-logloss:0.59510                                                                              \n",
      "[5]\tvalidation_0-logloss:0.55007\tvalidation_1-logloss:0.57803                                                                              \n",
      "[6]\tvalidation_0-logloss:0.53083\tvalidation_1-logloss:0.56314                                                                              \n",
      "[7]\tvalidation_0-logloss:0.51297\tvalidation_1-logloss:0.54833                                                                              \n",
      "[8]\tvalidation_0-logloss:0.49649\tvalidation_1-logloss:0.53493                                                                              \n",
      "[9]\tvalidation_0-logloss:0.48139\tvalidation_1-logloss:0.52328                                                                              \n",
      "[10]\tvalidation_0-logloss:0.46643\tvalidation_1-logloss:0.51175                                                                             \n",
      "[11]\tvalidation_0-logloss:0.45277\tvalidation_1-logloss:0.50077                                                                             \n",
      "[12]\tvalidation_0-logloss:0.44017\tvalidation_1-logloss:0.49037                                                                             \n",
      "[13]\tvalidation_0-logloss:0.42839\tvalidation_1-logloss:0.48138                                                                             \n",
      "[14]\tvalidation_0-logloss:0.41678\tvalidation_1-logloss:0.47303                                                                             \n",
      "[15]\tvalidation_0-logloss:0.40517\tvalidation_1-logloss:0.46367                                                                             \n",
      "[16]\tvalidation_0-logloss:0.39533\tvalidation_1-logloss:0.45720                                                                             \n",
      "[17]\tvalidation_0-logloss:0.38380\tvalidation_1-logloss:0.44887                                                                             \n",
      "[18]\tvalidation_0-logloss:0.37391\tvalidation_1-logloss:0.44199                                                                             \n",
      "[19]\tvalidation_0-logloss:0.36492\tvalidation_1-logloss:0.43514                                                                             \n",
      "[20]\tvalidation_0-logloss:0.35626\tvalidation_1-logloss:0.42829                                                                             \n",
      "[21]\tvalidation_0-logloss:0.34830\tvalidation_1-logloss:0.42247                                                                             \n",
      "[22]\tvalidation_0-logloss:0.34007\tvalidation_1-logloss:0.41645                                                                             \n",
      "[23]\tvalidation_0-logloss:0.33270\tvalidation_1-logloss:0.41024                                                                             \n",
      "[24]\tvalidation_0-logloss:0.32504\tvalidation_1-logloss:0.40421                                                                             \n",
      "[25]\tvalidation_0-logloss:0.31776\tvalidation_1-logloss:0.39910                                                                             \n",
      "[26]\tvalidation_0-logloss:0.31127\tvalidation_1-logloss:0.39413                                                                             \n",
      "[27]\tvalidation_0-logloss:0.30474\tvalidation_1-logloss:0.38894                                                                             \n",
      "[28]\tvalidation_0-logloss:0.29821\tvalidation_1-logloss:0.38322                                                                             \n",
      "[29]\tvalidation_0-logloss:0.29251\tvalidation_1-logloss:0.37916                                                                             \n",
      "[30]\tvalidation_0-logloss:0.28649\tvalidation_1-logloss:0.37500                                                                             \n",
      "[31]\tvalidation_0-logloss:0.28025\tvalidation_1-logloss:0.37017                                                                             \n",
      "[32]\tvalidation_0-logloss:0.27481\tvalidation_1-logloss:0.36457                                                                             \n",
      "[33]\tvalidation_0-logloss:0.26973\tvalidation_1-logloss:0.35966                                                                             \n",
      "[34]\tvalidation_0-logloss:0.26455\tvalidation_1-logloss:0.35527                                                                             \n",
      "[35]\tvalidation_0-logloss:0.25995\tvalidation_1-logloss:0.35113                                                                             \n",
      "[36]\tvalidation_0-logloss:0.25459\tvalidation_1-logloss:0.34797                                                                             \n",
      "[37]\tvalidation_0-logloss:0.24982\tvalidation_1-logloss:0.34394                                                                             \n"
     ]
    },
    {
     "name": "stdout",
     "output_type": "stream",
     "text": [
      "[38]\tvalidation_0-logloss:0.24572\tvalidation_1-logloss:0.34045                                                                             \n",
      "[39]\tvalidation_0-logloss:0.24105\tvalidation_1-logloss:0.33753                                                                             \n",
      "[40]\tvalidation_0-logloss:0.23727\tvalidation_1-logloss:0.33446                                                                             \n",
      "[41]\tvalidation_0-logloss:0.23301\tvalidation_1-logloss:0.33098                                                                             \n",
      "[42]\tvalidation_0-logloss:0.22880\tvalidation_1-logloss:0.32843                                                                             \n",
      "[43]\tvalidation_0-logloss:0.22457\tvalidation_1-logloss:0.32540                                                                             \n",
      "[44]\tvalidation_0-logloss:0.22140\tvalidation_1-logloss:0.32320                                                                             \n",
      "[45]\tvalidation_0-logloss:0.21737\tvalidation_1-logloss:0.32008                                                                             \n",
      "[46]\tvalidation_0-logloss:0.21430\tvalidation_1-logloss:0.31704                                                                             \n",
      "[47]\tvalidation_0-logloss:0.21015\tvalidation_1-logloss:0.31426                                                                             \n",
      "[48]\tvalidation_0-logloss:0.20713\tvalidation_1-logloss:0.31191                                                                             \n",
      "[49]\tvalidation_0-logloss:0.20401\tvalidation_1-logloss:0.30995                                                                             \n",
      "[50]\tvalidation_0-logloss:0.20020\tvalidation_1-logloss:0.30745                                                                             \n",
      "[51]\tvalidation_0-logloss:0.19667\tvalidation_1-logloss:0.30632                                                                             \n",
      "[52]\tvalidation_0-logloss:0.19364\tvalidation_1-logloss:0.30429                                                                             \n",
      "[53]\tvalidation_0-logloss:0.19074\tvalidation_1-logloss:0.30264                                                                             \n",
      "[54]\tvalidation_0-logloss:0.18792\tvalidation_1-logloss:0.30117                                                                             \n",
      "[55]\tvalidation_0-logloss:0.18515\tvalidation_1-logloss:0.29939                                                                             \n",
      "[56]\tvalidation_0-logloss:0.18325\tvalidation_1-logloss:0.29788                                                                             \n",
      "[57]\tvalidation_0-logloss:0.17983\tvalidation_1-logloss:0.29607                                                                             \n",
      "[58]\tvalidation_0-logloss:0.17728\tvalidation_1-logloss:0.29444                                                                             \n",
      "[59]\tvalidation_0-logloss:0.17484\tvalidation_1-logloss:0.29369                                                                             \n",
      "[60]\tvalidation_0-logloss:0.17320\tvalidation_1-logloss:0.29239                                                                             \n",
      "[61]\tvalidation_0-logloss:0.17072\tvalidation_1-logloss:0.29170                                                                             \n",
      "[62]\tvalidation_0-logloss:0.16875\tvalidation_1-logloss:0.29004                                                                             \n",
      "[63]\tvalidation_0-logloss:0.16639\tvalidation_1-logloss:0.28776                                                                             \n",
      "[64]\tvalidation_0-logloss:0.16460\tvalidation_1-logloss:0.28618                                                                             \n",
      "[65]\tvalidation_0-logloss:0.16181\tvalidation_1-logloss:0.28445                                                                             \n",
      "[66]\tvalidation_0-logloss:0.16037\tvalidation_1-logloss:0.28308                                                                             \n",
      "[67]\tvalidation_0-logloss:0.15839\tvalidation_1-logloss:0.28177                                                                             \n",
      "[68]\tvalidation_0-logloss:0.15606\tvalidation_1-logloss:0.27993                                                                             \n",
      "[69]\tvalidation_0-logloss:0.15495\tvalidation_1-logloss:0.27861                                                                             \n",
      "[70]\tvalidation_0-logloss:0.15282\tvalidation_1-logloss:0.27772                                                                             \n",
      "[71]\tvalidation_0-logloss:0.15070\tvalidation_1-logloss:0.27583                                                                             \n",
      "[72]\tvalidation_0-logloss:0.14897\tvalidation_1-logloss:0.27476                                                                             \n",
      "[73]\tvalidation_0-logloss:0.14768\tvalidation_1-logloss:0.27366                                                                             \n",
      "[74]\tvalidation_0-logloss:0.14567\tvalidation_1-logloss:0.27207                                                                             \n",
      "[75]\tvalidation_0-logloss:0.14389\tvalidation_1-logloss:0.27045                                                                             \n",
      "[76]\tvalidation_0-logloss:0.14250\tvalidation_1-logloss:0.26932                                                                             \n",
      "[77]\tvalidation_0-logloss:0.14075\tvalidation_1-logloss:0.26798                                                                             \n",
      "[78]\tvalidation_0-logloss:0.13828\tvalidation_1-logloss:0.26755                                                                             \n",
      "[79]\tvalidation_0-logloss:0.13680\tvalidation_1-logloss:0.26618                                                                             \n",
      "[80]\tvalidation_0-logloss:0.13595\tvalidation_1-logloss:0.26524                                                                             \n",
      "[81]\tvalidation_0-logloss:0.13446\tvalidation_1-logloss:0.26399                                                                             \n",
      "[82]\tvalidation_0-logloss:0.13254\tvalidation_1-logloss:0.26269                                                                             \n",
      "[83]\tvalidation_0-logloss:0.13094\tvalidation_1-logloss:0.26169                                                                             \n",
      "[84]\tvalidation_0-logloss:0.13019\tvalidation_1-logloss:0.26067                                                                             \n",
      "[85]\tvalidation_0-logloss:0.12901\tvalidation_1-logloss:0.25962                                                                             \n",
      "[86]\tvalidation_0-logloss:0.12758\tvalidation_1-logloss:0.25913                                                                             \n",
      "[87]\tvalidation_0-logloss:0.12592\tvalidation_1-logloss:0.25869                                                                             \n",
      "[88]\tvalidation_0-logloss:0.12480\tvalidation_1-logloss:0.25764                                                                             \n",
      "[89]\tvalidation_0-logloss:0.12315\tvalidation_1-logloss:0.25641                                                                             \n",
      "[90]\tvalidation_0-logloss:0.12212\tvalidation_1-logloss:0.25561                                                                             \n",
      "[91]\tvalidation_0-logloss:0.12101\tvalidation_1-logloss:0.25524                                                                             \n",
      "[92]\tvalidation_0-logloss:0.11958\tvalidation_1-logloss:0.25439                                                                             \n",
      "[93]\tvalidation_0-logloss:0.11857\tvalidation_1-logloss:0.25442                                                                             \n",
      "[94]\tvalidation_0-logloss:0.11779\tvalidation_1-logloss:0.25355                                                                             \n",
      "[95]\tvalidation_0-logloss:0.11683\tvalidation_1-logloss:0.25310                                                                             \n",
      "[96]\tvalidation_0-logloss:0.11525\tvalidation_1-logloss:0.25264                                                                             \n",
      "[97]\tvalidation_0-logloss:0.11417\tvalidation_1-logloss:0.25172                                                                             \n",
      "[98]\tvalidation_0-logloss:0.11328\tvalidation_1-logloss:0.25161                                                                             \n",
      "[99]\tvalidation_0-logloss:0.11186\tvalidation_1-logloss:0.25150                                                                             \n",
      "[100]\tvalidation_0-logloss:0.11048\tvalidation_1-logloss:0.25111                                                                            \n",
      "[101]\tvalidation_0-logloss:0.10967\tvalidation_1-logloss:0.25033                                                                            \n",
      "[102]\tvalidation_0-logloss:0.10885\tvalidation_1-logloss:0.24964                                                                            \n",
      "[103]\tvalidation_0-logloss:0.10791\tvalidation_1-logloss:0.24869                                                                            \n",
      "[104]\tvalidation_0-logloss:0.10689\tvalidation_1-logloss:0.24785                                                                            \n",
      "[105]\tvalidation_0-logloss:0.10610\tvalidation_1-logloss:0.24763                                                                            \n",
      "[106]\tvalidation_0-logloss:0.10501\tvalidation_1-logloss:0.24765                                                                            \n",
      "[107]\tvalidation_0-logloss:0.10432\tvalidation_1-logloss:0.24734                                                                            \n",
      "[108]\tvalidation_0-logloss:0.10332\tvalidation_1-logloss:0.24680                                                                            \n",
      "[109]\tvalidation_0-logloss:0.10203\tvalidation_1-logloss:0.24624                                                                            \n",
      "[110]\tvalidation_0-logloss:0.10142\tvalidation_1-logloss:0.24561                                                                            \n",
      "[111]\tvalidation_0-logloss:0.10023\tvalidation_1-logloss:0.24611                                                                            \n",
      "[112]\tvalidation_0-logloss:0.09951\tvalidation_1-logloss:0.24580                                                                            \n",
      "[113]\tvalidation_0-logloss:0.09852\tvalidation_1-logloss:0.24529                                                                            \n",
      "[114]\tvalidation_0-logloss:0.09752\tvalidation_1-logloss:0.24460                                                                            \n",
      "[115]\tvalidation_0-logloss:0.09671\tvalidation_1-logloss:0.24438                                                                            \n",
      "[116]\tvalidation_0-logloss:0.09586\tvalidation_1-logloss:0.24370                                                                            \n",
      "[117]\tvalidation_0-logloss:0.09505\tvalidation_1-logloss:0.24295                                                                            \n",
      "[118]\tvalidation_0-logloss:0.09441\tvalidation_1-logloss:0.24266                                                                            \n",
      "[119]\tvalidation_0-logloss:0.09352\tvalidation_1-logloss:0.24227                                                                            \n",
      "[120]\tvalidation_0-logloss:0.09283\tvalidation_1-logloss:0.24168                                                                            \n",
      "[121]\tvalidation_0-logloss:0.09216\tvalidation_1-logloss:0.24090                                                                            \n",
      "[122]\tvalidation_0-logloss:0.09136\tvalidation_1-logloss:0.24057                                                                            \n",
      "[123]\tvalidation_0-logloss:0.09063\tvalidation_1-logloss:0.24037                                                                            \n",
      "[124]\tvalidation_0-logloss:0.08991\tvalidation_1-logloss:0.23951                                                                            \n",
      "[125]\tvalidation_0-logloss:0.08903\tvalidation_1-logloss:0.23891                                                                            \n",
      "[126]\tvalidation_0-logloss:0.08830\tvalidation_1-logloss:0.23821                                                                            \n",
      "[127]\tvalidation_0-logloss:0.08771\tvalidation_1-logloss:0.23846                                                                            \n",
      "[128]\tvalidation_0-logloss:0.08666\tvalidation_1-logloss:0.23820                                                                            \n",
      "[129]\tvalidation_0-logloss:0.08546\tvalidation_1-logloss:0.23894                                                                            \n",
      "[130]\tvalidation_0-logloss:0.08460\tvalidation_1-logloss:0.23910                                                                            \n",
      "[131]\tvalidation_0-logloss:0.08426\tvalidation_1-logloss:0.23870                                                                            \n",
      "[132]\tvalidation_0-logloss:0.08362\tvalidation_1-logloss:0.23818                                                                            \n",
      "[133]\tvalidation_0-logloss:0.08260\tvalidation_1-logloss:0.23906                                                                            \n",
      "[134]\tvalidation_0-logloss:0.08173\tvalidation_1-logloss:0.23921                                                                            \n",
      "[135]\tvalidation_0-logloss:0.08107\tvalidation_1-logloss:0.23930                                                                            \n",
      "[136]\tvalidation_0-logloss:0.08051\tvalidation_1-logloss:0.23909                                                                            \n",
      "[137]\tvalidation_0-logloss:0.07981\tvalidation_1-logloss:0.23845                                                                            \n",
      "[138]\tvalidation_0-logloss:0.07934\tvalidation_1-logloss:0.23816                                                                            \n",
      "[139]\tvalidation_0-logloss:0.07873\tvalidation_1-logloss:0.23805                                                                            \n",
      "[140]\tvalidation_0-logloss:0.07804\tvalidation_1-logloss:0.23795                                                                            \n",
      "[141]\tvalidation_0-logloss:0.07727\tvalidation_1-logloss:0.23761                                                                            \n",
      "[142]\tvalidation_0-logloss:0.07676\tvalidation_1-logloss:0.23797                                                                            \n",
      "[143]\tvalidation_0-logloss:0.07599\tvalidation_1-logloss:0.23750                                                                            \n",
      "[144]\tvalidation_0-logloss:0.07490\tvalidation_1-logloss:0.23746                                                                            \n",
      "[145]\tvalidation_0-logloss:0.07437\tvalidation_1-logloss:0.23727                                                                            \n",
      "[146]\tvalidation_0-logloss:0.07362\tvalidation_1-logloss:0.23735                                                                            \n",
      "[147]\tvalidation_0-logloss:0.07318\tvalidation_1-logloss:0.23670                                                                            \n",
      "[148]\tvalidation_0-logloss:0.07242\tvalidation_1-logloss:0.23638                                                                            \n",
      "[149]\tvalidation_0-logloss:0.07190\tvalidation_1-logloss:0.23596                                                                            \n",
      "[150]\tvalidation_0-logloss:0.07114\tvalidation_1-logloss:0.23586                                                                            \n",
      "[151]\tvalidation_0-logloss:0.07057\tvalidation_1-logloss:0.23592                                                                            \n",
      "[152]\tvalidation_0-logloss:0.06963\tvalidation_1-logloss:0.23483                                                                            \n",
      "[153]\tvalidation_0-logloss:0.06899\tvalidation_1-logloss:0.23460                                                                            \n"
     ]
    },
    {
     "name": "stdout",
     "output_type": "stream",
     "text": [
      "[154]\tvalidation_0-logloss:0.06829\tvalidation_1-logloss:0.23471                                                                            \n",
      "[155]\tvalidation_0-logloss:0.06779\tvalidation_1-logloss:0.23399                                                                            \n",
      "[156]\tvalidation_0-logloss:0.06716\tvalidation_1-logloss:0.23359                                                                            \n",
      "[157]\tvalidation_0-logloss:0.06681\tvalidation_1-logloss:0.23286                                                                            \n",
      "[158]\tvalidation_0-logloss:0.06612\tvalidation_1-logloss:0.23291                                                                            \n",
      "[159]\tvalidation_0-logloss:0.06558\tvalidation_1-logloss:0.23241                                                                            \n",
      "[160]\tvalidation_0-logloss:0.06534\tvalidation_1-logloss:0.23185                                                                            \n",
      "[161]\tvalidation_0-logloss:0.06473\tvalidation_1-logloss:0.23195                                                                            \n",
      "[162]\tvalidation_0-logloss:0.06433\tvalidation_1-logloss:0.23208                                                                            \n",
      "[163]\tvalidation_0-logloss:0.06373\tvalidation_1-logloss:0.23207                                                                            \n",
      "[164]\tvalidation_0-logloss:0.06291\tvalidation_1-logloss:0.23145                                                                            \n",
      "[165]\tvalidation_0-logloss:0.06252\tvalidation_1-logloss:0.23102                                                                            \n",
      "[166]\tvalidation_0-logloss:0.06183\tvalidation_1-logloss:0.23038                                                                            \n",
      "[167]\tvalidation_0-logloss:0.06140\tvalidation_1-logloss:0.22976                                                                            \n",
      "[168]\tvalidation_0-logloss:0.06088\tvalidation_1-logloss:0.22957                                                                            \n",
      "[169]\tvalidation_0-logloss:0.06040\tvalidation_1-logloss:0.22931                                                                            \n",
      "[170]\tvalidation_0-logloss:0.05996\tvalidation_1-logloss:0.22905                                                                            \n",
      "[171]\tvalidation_0-logloss:0.05927\tvalidation_1-logloss:0.22928                                                                            \n",
      "[172]\tvalidation_0-logloss:0.05857\tvalidation_1-logloss:0.22950                                                                            \n",
      "[173]\tvalidation_0-logloss:0.05826\tvalidation_1-logloss:0.22975                                                                            \n",
      "[174]\tvalidation_0-logloss:0.05781\tvalidation_1-logloss:0.22922                                                                            \n",
      "[175]\tvalidation_0-logloss:0.05737\tvalidation_1-logloss:0.22903                                                                            \n",
      "[176]\tvalidation_0-logloss:0.05696\tvalidation_1-logloss:0.22866                                                                            \n",
      "[177]\tvalidation_0-logloss:0.05625\tvalidation_1-logloss:0.22837                                                                            \n",
      "[178]\tvalidation_0-logloss:0.05591\tvalidation_1-logloss:0.22793                                                                            \n",
      "[179]\tvalidation_0-logloss:0.05543\tvalidation_1-logloss:0.22799                                                                            \n",
      "[180]\tvalidation_0-logloss:0.05505\tvalidation_1-logloss:0.22783                                                                            \n",
      "[181]\tvalidation_0-logloss:0.05440\tvalidation_1-logloss:0.22813                                                                            \n",
      "[182]\tvalidation_0-logloss:0.05409\tvalidation_1-logloss:0.22784                                                                            \n",
      "[183]\tvalidation_0-logloss:0.05373\tvalidation_1-logloss:0.22810                                                                            \n",
      "[184]\tvalidation_0-logloss:0.05330\tvalidation_1-logloss:0.22823                                                                            \n",
      "[185]\tvalidation_0-logloss:0.05260\tvalidation_1-logloss:0.22783                                                                            \n",
      "[186]\tvalidation_0-logloss:0.05226\tvalidation_1-logloss:0.22790                                                                            \n",
      "[187]\tvalidation_0-logloss:0.05161\tvalidation_1-logloss:0.22765                                                                            \n",
      "[188]\tvalidation_0-logloss:0.05101\tvalidation_1-logloss:0.22826                                                                            \n",
      "[189]\tvalidation_0-logloss:0.05056\tvalidation_1-logloss:0.22830                                                                            \n",
      "[190]\tvalidation_0-logloss:0.05021\tvalidation_1-logloss:0.22816                                                                            \n",
      "[191]\tvalidation_0-logloss:0.04992\tvalidation_1-logloss:0.22774                                                                            \n",
      "[192]\tvalidation_0-logloss:0.04964\tvalidation_1-logloss:0.22761                                                                            \n",
      "[193]\tvalidation_0-logloss:0.04929\tvalidation_1-logloss:0.22742                                                                            \n",
      "[194]\tvalidation_0-logloss:0.04903\tvalidation_1-logloss:0.22726                                                                            \n",
      "[195]\tvalidation_0-logloss:0.04871\tvalidation_1-logloss:0.22733                                                                            \n",
      "[196]\tvalidation_0-logloss:0.04808\tvalidation_1-logloss:0.22706                                                                            \n",
      "[197]\tvalidation_0-logloss:0.04787\tvalidation_1-logloss:0.22723                                                                            \n",
      "[198]\tvalidation_0-logloss:0.04749\tvalidation_1-logloss:0.22728                                                                            \n",
      "[199]\tvalidation_0-logloss:0.04717\tvalidation_1-logloss:0.22760                                                                            \n",
      "[200]\tvalidation_0-logloss:0.04682\tvalidation_1-logloss:0.22711                                                                            \n",
      "[201]\tvalidation_0-logloss:0.04657\tvalidation_1-logloss:0.22686                                                                            \n",
      "[202]\tvalidation_0-logloss:0.04622\tvalidation_1-logloss:0.22707                                                                            \n",
      "[203]\tvalidation_0-logloss:0.04593\tvalidation_1-logloss:0.22736                                                                            \n",
      "[204]\tvalidation_0-logloss:0.04544\tvalidation_1-logloss:0.22786                                                                            \n",
      "[205]\tvalidation_0-logloss:0.04525\tvalidation_1-logloss:0.22811                                                                            \n",
      "[206]\tvalidation_0-logloss:0.04487\tvalidation_1-logloss:0.22798                                                                            \n",
      "[207]\tvalidation_0-logloss:0.04454\tvalidation_1-logloss:0.22763                                                                            \n",
      "[208]\tvalidation_0-logloss:0.04412\tvalidation_1-logloss:0.22764                                                                            \n",
      "[209]\tvalidation_0-logloss:0.04383\tvalidation_1-logloss:0.22759                                                                            \n",
      "[210]\tvalidation_0-logloss:0.04354\tvalidation_1-logloss:0.22746                                                                            \n",
      "[211]\tvalidation_0-logloss:0.04328\tvalidation_1-logloss:0.22754                                                                            \n",
      "[212]\tvalidation_0-logloss:0.04304\tvalidation_1-logloss:0.22773                                                                            \n",
      "[213]\tvalidation_0-logloss:0.04271\tvalidation_1-logloss:0.22765                                                                            \n",
      "[214]\tvalidation_0-logloss:0.04238\tvalidation_1-logloss:0.22762                                                                            \n",
      "[215]\tvalidation_0-logloss:0.04191\tvalidation_1-logloss:0.22811                                                                            \n",
      "[216]\tvalidation_0-logloss:0.04165\tvalidation_1-logloss:0.22806                                                                            \n",
      "[217]\tvalidation_0-logloss:0.04126\tvalidation_1-logloss:0.22816                                                                            \n",
      "[218]\tvalidation_0-logloss:0.04080\tvalidation_1-logloss:0.22796                                                                            \n",
      "[219]\tvalidation_0-logloss:0.04043\tvalidation_1-logloss:0.22770                                                                            \n",
      "[220]\tvalidation_0-logloss:0.04012\tvalidation_1-logloss:0.22768                                                                            \n",
      "-0.9685317383754584                                                                                                                        \n",
      "[0]\tvalidation_0-logloss:0.61931\tvalidation_1-logloss:0.63004                                                                              \n",
      "[1]\tvalidation_0-logloss:0.56116\tvalidation_1-logloss:0.57403                                                                              \n",
      "[2]\tvalidation_0-logloss:0.51782\tvalidation_1-logloss:0.53405                                                                              \n",
      "[3]\tvalidation_0-logloss:0.48227\tvalidation_1-logloss:0.50708                                                                              \n",
      "[4]\tvalidation_0-logloss:0.45303\tvalidation_1-logloss:0.47739                                                                              \n",
      "[5]\tvalidation_0-logloss:0.42939\tvalidation_1-logloss:0.45886                                                                              \n",
      "[6]\tvalidation_0-logloss:0.40510\tvalidation_1-logloss:0.43806                                                                              \n",
      "[7]\tvalidation_0-logloss:0.38557\tvalidation_1-logloss:0.42185                                                                              \n",
      "[8]\tvalidation_0-logloss:0.37059\tvalidation_1-logloss:0.41124                                                                              \n",
      "[9]\tvalidation_0-logloss:0.35644\tvalidation_1-logloss:0.39803                                                                              \n",
      "[10]\tvalidation_0-logloss:0.34438\tvalidation_1-logloss:0.38904                                                                             \n",
      "[11]\tvalidation_0-logloss:0.33378\tvalidation_1-logloss:0.38066                                                                             \n",
      "[12]\tvalidation_0-logloss:0.32360\tvalidation_1-logloss:0.37059                                                                             \n",
      "[13]\tvalidation_0-logloss:0.31362\tvalidation_1-logloss:0.36627                                                                             \n",
      "[14]\tvalidation_0-logloss:0.30619\tvalidation_1-logloss:0.36150                                                                             \n",
      "[15]\tvalidation_0-logloss:0.29915\tvalidation_1-logloss:0.35261                                                                             \n",
      "[16]\tvalidation_0-logloss:0.29030\tvalidation_1-logloss:0.34174                                                                             \n",
      "[17]\tvalidation_0-logloss:0.28293\tvalidation_1-logloss:0.33678                                                                             \n",
      "[18]\tvalidation_0-logloss:0.27648\tvalidation_1-logloss:0.33047                                                                             \n",
      "[19]\tvalidation_0-logloss:0.26976\tvalidation_1-logloss:0.32685                                                                             \n",
      "[20]\tvalidation_0-logloss:0.26176\tvalidation_1-logloss:0.32239                                                                             \n",
      "[21]\tvalidation_0-logloss:0.25538\tvalidation_1-logloss:0.31513                                                                             \n",
      "[22]\tvalidation_0-logloss:0.25022\tvalidation_1-logloss:0.31127                                                                             \n",
      "[23]\tvalidation_0-logloss:0.24621\tvalidation_1-logloss:0.30807                                                                             \n",
      "[24]\tvalidation_0-logloss:0.24043\tvalidation_1-logloss:0.30227                                                                             \n",
      "[25]\tvalidation_0-logloss:0.23572\tvalidation_1-logloss:0.30404                                                                             \n",
      "[26]\tvalidation_0-logloss:0.23100\tvalidation_1-logloss:0.30416                                                                             \n",
      "[27]\tvalidation_0-logloss:0.22621\tvalidation_1-logloss:0.29944                                                                             \n",
      "[28]\tvalidation_0-logloss:0.22316\tvalidation_1-logloss:0.29581                                                                             \n",
      "[29]\tvalidation_0-logloss:0.21940\tvalidation_1-logloss:0.29334                                                                             \n",
      "[30]\tvalidation_0-logloss:0.21622\tvalidation_1-logloss:0.29084                                                                             \n",
      "[31]\tvalidation_0-logloss:0.21268\tvalidation_1-logloss:0.28674                                                                             \n",
      "[32]\tvalidation_0-logloss:0.21007\tvalidation_1-logloss:0.28437                                                                             \n",
      "[33]\tvalidation_0-logloss:0.20601\tvalidation_1-logloss:0.28128                                                                             \n",
      "[34]\tvalidation_0-logloss:0.20197\tvalidation_1-logloss:0.27831                                                                             \n",
      "[35]\tvalidation_0-logloss:0.19930\tvalidation_1-logloss:0.27920                                                                             \n",
      "[36]\tvalidation_0-logloss:0.19713\tvalidation_1-logloss:0.27665                                                                             \n",
      "[37]\tvalidation_0-logloss:0.19378\tvalidation_1-logloss:0.27625                                                                             \n",
      "[38]\tvalidation_0-logloss:0.19065\tvalidation_1-logloss:0.27495                                                                             \n",
      "[39]\tvalidation_0-logloss:0.18725\tvalidation_1-logloss:0.27119                                                                             \n",
      "[40]\tvalidation_0-logloss:0.18363\tvalidation_1-logloss:0.27301                                                                             \n",
      "[41]\tvalidation_0-logloss:0.18107\tvalidation_1-logloss:0.27186                                                                             \n",
      "[42]\tvalidation_0-logloss:0.17893\tvalidation_1-logloss:0.27172                                                                             \n",
      "[43]\tvalidation_0-logloss:0.17712\tvalidation_1-logloss:0.27114                                                                             \n",
      "[44]\tvalidation_0-logloss:0.17462\tvalidation_1-logloss:0.27112                                                                             \n",
      "[45]\tvalidation_0-logloss:0.17196\tvalidation_1-logloss:0.27082                                                                             \n",
      "[46]\tvalidation_0-logloss:0.16879\tvalidation_1-logloss:0.26994                                                                             \n",
      "[47]\tvalidation_0-logloss:0.16721\tvalidation_1-logloss:0.26871                                                                             \n"
     ]
    },
    {
     "name": "stdout",
     "output_type": "stream",
     "text": [
      "[48]\tvalidation_0-logloss:0.16475\tvalidation_1-logloss:0.26552                                                                             \n",
      "[49]\tvalidation_0-logloss:0.16278\tvalidation_1-logloss:0.26505                                                                             \n",
      "[50]\tvalidation_0-logloss:0.16024\tvalidation_1-logloss:0.26285                                                                             \n",
      "[51]\tvalidation_0-logloss:0.15772\tvalidation_1-logloss:0.26204                                                                             \n",
      "[52]\tvalidation_0-logloss:0.15513\tvalidation_1-logloss:0.26164                                                                             \n",
      "[53]\tvalidation_0-logloss:0.15356\tvalidation_1-logloss:0.26100                                                                             \n",
      "[54]\tvalidation_0-logloss:0.15164\tvalidation_1-logloss:0.25928                                                                             \n",
      "[55]\tvalidation_0-logloss:0.15000\tvalidation_1-logloss:0.25824                                                                             \n",
      "[56]\tvalidation_0-logloss:0.14808\tvalidation_1-logloss:0.25702                                                                             \n",
      "[57]\tvalidation_0-logloss:0.14672\tvalidation_1-logloss:0.25664                                                                             \n",
      "[58]\tvalidation_0-logloss:0.14476\tvalidation_1-logloss:0.25530                                                                             \n",
      "[59]\tvalidation_0-logloss:0.14362\tvalidation_1-logloss:0.25477                                                                             \n",
      "[60]\tvalidation_0-logloss:0.14182\tvalidation_1-logloss:0.25499                                                                             \n",
      "[61]\tvalidation_0-logloss:0.14008\tvalidation_1-logloss:0.25472                                                                             \n",
      "[62]\tvalidation_0-logloss:0.13851\tvalidation_1-logloss:0.25563                                                                             \n",
      "[63]\tvalidation_0-logloss:0.13672\tvalidation_1-logloss:0.25589                                                                             \n",
      "[64]\tvalidation_0-logloss:0.13475\tvalidation_1-logloss:0.25542                                                                             \n",
      "[65]\tvalidation_0-logloss:0.13340\tvalidation_1-logloss:0.25360                                                                             \n",
      "[66]\tvalidation_0-logloss:0.13190\tvalidation_1-logloss:0.25320                                                                             \n",
      "[67]\tvalidation_0-logloss:0.13042\tvalidation_1-logloss:0.25501                                                                             \n",
      "[68]\tvalidation_0-logloss:0.12876\tvalidation_1-logloss:0.25439                                                                             \n",
      "[69]\tvalidation_0-logloss:0.12782\tvalidation_1-logloss:0.25362                                                                             \n",
      "[70]\tvalidation_0-logloss:0.12691\tvalidation_1-logloss:0.25188                                                                             \n",
      "[71]\tvalidation_0-logloss:0.12602\tvalidation_1-logloss:0.25137                                                                             \n",
      "[72]\tvalidation_0-logloss:0.12447\tvalidation_1-logloss:0.25070                                                                             \n",
      "[73]\tvalidation_0-logloss:0.12305\tvalidation_1-logloss:0.25197                                                                             \n",
      "[74]\tvalidation_0-logloss:0.12133\tvalidation_1-logloss:0.25162                                                                             \n",
      "[75]\tvalidation_0-logloss:0.12008\tvalidation_1-logloss:0.25077                                                                             \n",
      "[76]\tvalidation_0-logloss:0.11916\tvalidation_1-logloss:0.25011                                                                             \n",
      "[77]\tvalidation_0-logloss:0.11766\tvalidation_1-logloss:0.24922                                                                             \n",
      "[78]\tvalidation_0-logloss:0.11595\tvalidation_1-logloss:0.24837                                                                             \n",
      "[79]\tvalidation_0-logloss:0.11490\tvalidation_1-logloss:0.24747                                                                             \n",
      "[80]\tvalidation_0-logloss:0.11324\tvalidation_1-logloss:0.24486                                                                             \n",
      "[81]\tvalidation_0-logloss:0.11168\tvalidation_1-logloss:0.24397                                                                             \n",
      "[82]\tvalidation_0-logloss:0.11026\tvalidation_1-logloss:0.24304                                                                             \n",
      "[83]\tvalidation_0-logloss:0.10905\tvalidation_1-logloss:0.24358                                                                             \n",
      "[84]\tvalidation_0-logloss:0.10775\tvalidation_1-logloss:0.24380                                                                             \n",
      "[85]\tvalidation_0-logloss:0.10649\tvalidation_1-logloss:0.24343                                                                             \n",
      "[86]\tvalidation_0-logloss:0.10486\tvalidation_1-logloss:0.24225                                                                             \n",
      "[87]\tvalidation_0-logloss:0.10389\tvalidation_1-logloss:0.24059                                                                             \n",
      "[88]\tvalidation_0-logloss:0.10317\tvalidation_1-logloss:0.23971                                                                             \n",
      "[89]\tvalidation_0-logloss:0.10244\tvalidation_1-logloss:0.23963                                                                             \n",
      "[90]\tvalidation_0-logloss:0.10164\tvalidation_1-logloss:0.23941                                                                             \n",
      "[91]\tvalidation_0-logloss:0.10067\tvalidation_1-logloss:0.23950                                                                             \n",
      "[92]\tvalidation_0-logloss:0.09893\tvalidation_1-logloss:0.23861                                                                             \n",
      "[93]\tvalidation_0-logloss:0.09806\tvalidation_1-logloss:0.23817                                                                             \n",
      "[94]\tvalidation_0-logloss:0.09721\tvalidation_1-logloss:0.23834                                                                             \n",
      "[95]\tvalidation_0-logloss:0.09581\tvalidation_1-logloss:0.23697                                                                             \n",
      "[96]\tvalidation_0-logloss:0.09498\tvalidation_1-logloss:0.23769                                                                             \n",
      "[97]\tvalidation_0-logloss:0.09378\tvalidation_1-logloss:0.23769                                                                             \n",
      "[98]\tvalidation_0-logloss:0.09223\tvalidation_1-logloss:0.23884                                                                             \n",
      "[99]\tvalidation_0-logloss:0.09132\tvalidation_1-logloss:0.23902                                                                             \n",
      "[100]\tvalidation_0-logloss:0.09036\tvalidation_1-logloss:0.23975                                                                            \n",
      "[101]\tvalidation_0-logloss:0.08947\tvalidation_1-logloss:0.23832                                                                            \n",
      "[102]\tvalidation_0-logloss:0.08847\tvalidation_1-logloss:0.23741                                                                            \n",
      "[103]\tvalidation_0-logloss:0.08727\tvalidation_1-logloss:0.23709                                                                            \n",
      "[104]\tvalidation_0-logloss:0.08640\tvalidation_1-logloss:0.23743                                                                            \n",
      "[105]\tvalidation_0-logloss:0.08502\tvalidation_1-logloss:0.23698                                                                            \n",
      "[106]\tvalidation_0-logloss:0.08421\tvalidation_1-logloss:0.23786                                                                            \n",
      "[107]\tvalidation_0-logloss:0.08310\tvalidation_1-logloss:0.23712                                                                            \n",
      "[108]\tvalidation_0-logloss:0.08230\tvalidation_1-logloss:0.23691                                                                            \n",
      "[109]\tvalidation_0-logloss:0.08100\tvalidation_1-logloss:0.23838                                                                            \n",
      "[110]\tvalidation_0-logloss:0.08054\tvalidation_1-logloss:0.23762                                                                            \n",
      "[111]\tvalidation_0-logloss:0.07963\tvalidation_1-logloss:0.23821                                                                            \n",
      "[112]\tvalidation_0-logloss:0.07894\tvalidation_1-logloss:0.23792                                                                            \n",
      "[113]\tvalidation_0-logloss:0.07835\tvalidation_1-logloss:0.23837                                                                            \n",
      "[114]\tvalidation_0-logloss:0.07781\tvalidation_1-logloss:0.23791                                                                            \n",
      "[115]\tvalidation_0-logloss:0.07690\tvalidation_1-logloss:0.23818                                                                            \n",
      "[116]\tvalidation_0-logloss:0.07611\tvalidation_1-logloss:0.23841                                                                            \n",
      "[117]\tvalidation_0-logloss:0.07561\tvalidation_1-logloss:0.23879                                                                            \n",
      "[118]\tvalidation_0-logloss:0.07477\tvalidation_1-logloss:0.23832                                                                            \n",
      "[119]\tvalidation_0-logloss:0.07373\tvalidation_1-logloss:0.23947                                                                            \n",
      "[120]\tvalidation_0-logloss:0.07316\tvalidation_1-logloss:0.23895                                                                            \n",
      "[121]\tvalidation_0-logloss:0.07233\tvalidation_1-logloss:0.23964                                                                            \n",
      "[122]\tvalidation_0-logloss:0.07183\tvalidation_1-logloss:0.23971                                                                            \n",
      "[123]\tvalidation_0-logloss:0.07141\tvalidation_1-logloss:0.23967                                                                            \n",
      "[124]\tvalidation_0-logloss:0.07056\tvalidation_1-logloss:0.23849                                                                            \n",
      "[125]\tvalidation_0-logloss:0.06980\tvalidation_1-logloss:0.23801                                                                            \n",
      "[126]\tvalidation_0-logloss:0.06907\tvalidation_1-logloss:0.23773                                                                            \n",
      "[127]\tvalidation_0-logloss:0.06808\tvalidation_1-logloss:0.23668                                                                            \n",
      "[128]\tvalidation_0-logloss:0.06748\tvalidation_1-logloss:0.23624                                                                            \n",
      "[129]\tvalidation_0-logloss:0.06680\tvalidation_1-logloss:0.23556                                                                            \n",
      "[130]\tvalidation_0-logloss:0.06608\tvalidation_1-logloss:0.23552                                                                            \n",
      "[131]\tvalidation_0-logloss:0.06535\tvalidation_1-logloss:0.23512                                                                            \n",
      "[132]\tvalidation_0-logloss:0.06455\tvalidation_1-logloss:0.23481                                                                            \n",
      "[133]\tvalidation_0-logloss:0.06382\tvalidation_1-logloss:0.23278                                                                            \n",
      "[134]\tvalidation_0-logloss:0.06296\tvalidation_1-logloss:0.23309                                                                            \n",
      "[135]\tvalidation_0-logloss:0.06247\tvalidation_1-logloss:0.23300                                                                            \n",
      "[136]\tvalidation_0-logloss:0.06157\tvalidation_1-logloss:0.23201                                                                            \n",
      "[137]\tvalidation_0-logloss:0.06105\tvalidation_1-logloss:0.23221                                                                            \n",
      "[138]\tvalidation_0-logloss:0.06037\tvalidation_1-logloss:0.23170                                                                            \n",
      "[139]\tvalidation_0-logloss:0.05974\tvalidation_1-logloss:0.23287                                                                            \n",
      "[140]\tvalidation_0-logloss:0.05922\tvalidation_1-logloss:0.23320                                                                            \n",
      "[141]\tvalidation_0-logloss:0.05858\tvalidation_1-logloss:0.23328                                                                            \n",
      "[142]\tvalidation_0-logloss:0.05808\tvalidation_1-logloss:0.23426                                                                            \n",
      "[143]\tvalidation_0-logloss:0.05741\tvalidation_1-logloss:0.23498                                                                            \n",
      "[144]\tvalidation_0-logloss:0.05678\tvalidation_1-logloss:0.23443                                                                            \n",
      "[145]\tvalidation_0-logloss:0.05628\tvalidation_1-logloss:0.23516                                                                            \n",
      "[146]\tvalidation_0-logloss:0.05577\tvalidation_1-logloss:0.23474                                                                            \n",
      "[147]\tvalidation_0-logloss:0.05544\tvalidation_1-logloss:0.23434                                                                            \n",
      "[148]\tvalidation_0-logloss:0.05480\tvalidation_1-logloss:0.23405                                                                            \n",
      "[149]\tvalidation_0-logloss:0.05440\tvalidation_1-logloss:0.23418                                                                            \n",
      "[150]\tvalidation_0-logloss:0.05403\tvalidation_1-logloss:0.23417                                                                            \n",
      "[151]\tvalidation_0-logloss:0.05375\tvalidation_1-logloss:0.23384                                                                            \n",
      "[152]\tvalidation_0-logloss:0.05321\tvalidation_1-logloss:0.23386                                                                            \n",
      "[153]\tvalidation_0-logloss:0.05265\tvalidation_1-logloss:0.23477                                                                            \n",
      "[154]\tvalidation_0-logloss:0.05235\tvalidation_1-logloss:0.23468                                                                            \n",
      "[155]\tvalidation_0-logloss:0.05181\tvalidation_1-logloss:0.23376                                                                            \n",
      "[156]\tvalidation_0-logloss:0.05124\tvalidation_1-logloss:0.23429                                                                            \n",
      "[157]\tvalidation_0-logloss:0.05070\tvalidation_1-logloss:0.23393                                                                            \n",
      "-0.9733359058460349                                                                                                                        \n",
      "[0]\tvalidation_0-logloss:0.42280\tvalidation_1-logloss:0.49419                                                                              \n",
      "[1]\tvalidation_0-logloss:0.30586\tvalidation_1-logloss:0.40840                                                                              \n",
      "[2]\tvalidation_0-logloss:0.23242\tvalidation_1-logloss:0.35521                                                                              \n",
      "[3]\tvalidation_0-logloss:0.18580\tvalidation_1-logloss:0.33515                                                                              \n",
      "[4]\tvalidation_0-logloss:0.14897\tvalidation_1-logloss:0.30962                                                                              \n"
     ]
    },
    {
     "name": "stdout",
     "output_type": "stream",
     "text": [
      "[5]\tvalidation_0-logloss:0.12913\tvalidation_1-logloss:0.29678                                                                              \n",
      "[6]\tvalidation_0-logloss:0.10780\tvalidation_1-logloss:0.29117                                                                              \n",
      "[7]\tvalidation_0-logloss:0.09771\tvalidation_1-logloss:0.29754                                                                              \n",
      "[8]\tvalidation_0-logloss:0.07870\tvalidation_1-logloss:0.29440                                                                              \n",
      "[9]\tvalidation_0-logloss:0.06839\tvalidation_1-logloss:0.28947                                                                              \n",
      "[10]\tvalidation_0-logloss:0.05931\tvalidation_1-logloss:0.29354                                                                             \n",
      "[11]\tvalidation_0-logloss:0.05024\tvalidation_1-logloss:0.28750                                                                             \n",
      "[12]\tvalidation_0-logloss:0.04369\tvalidation_1-logloss:0.28928                                                                             \n",
      "[13]\tvalidation_0-logloss:0.03884\tvalidation_1-logloss:0.28921                                                                             \n",
      "[14]\tvalidation_0-logloss:0.03278\tvalidation_1-logloss:0.29477                                                                             \n",
      "[15]\tvalidation_0-logloss:0.02780\tvalidation_1-logloss:0.29128                                                                             \n",
      "[16]\tvalidation_0-logloss:0.02503\tvalidation_1-logloss:0.29040                                                                             \n",
      "[17]\tvalidation_0-logloss:0.02236\tvalidation_1-logloss:0.28700                                                                             \n",
      "[18]\tvalidation_0-logloss:0.02004\tvalidation_1-logloss:0.28675                                                                             \n",
      "[19]\tvalidation_0-logloss:0.01868\tvalidation_1-logloss:0.28606                                                                             \n",
      "[20]\tvalidation_0-logloss:0.01703\tvalidation_1-logloss:0.28805                                                                             \n",
      "[21]\tvalidation_0-logloss:0.01519\tvalidation_1-logloss:0.28140                                                                             \n",
      "[22]\tvalidation_0-logloss:0.01375\tvalidation_1-logloss:0.28398                                                                             \n",
      "[23]\tvalidation_0-logloss:0.01277\tvalidation_1-logloss:0.27592                                                                             \n",
      "[24]\tvalidation_0-logloss:0.01176\tvalidation_1-logloss:0.28154                                                                             \n",
      "[25]\tvalidation_0-logloss:0.01086\tvalidation_1-logloss:0.28387                                                                             \n",
      "[26]\tvalidation_0-logloss:0.01001\tvalidation_1-logloss:0.28756                                                                             \n",
      "[27]\tvalidation_0-logloss:0.00944\tvalidation_1-logloss:0.28808                                                                             \n",
      "[28]\tvalidation_0-logloss:0.00895\tvalidation_1-logloss:0.29188                                                                             \n",
      "[29]\tvalidation_0-logloss:0.00831\tvalidation_1-logloss:0.29486                                                                             \n",
      "[30]\tvalidation_0-logloss:0.00793\tvalidation_1-logloss:0.29349                                                                             \n",
      "[31]\tvalidation_0-logloss:0.00751\tvalidation_1-logloss:0.29504                                                                             \n",
      "[32]\tvalidation_0-logloss:0.00711\tvalidation_1-logloss:0.29434                                                                             \n",
      "[33]\tvalidation_0-logloss:0.00685\tvalidation_1-logloss:0.29529                                                                             \n",
      "[34]\tvalidation_0-logloss:0.00661\tvalidation_1-logloss:0.30078                                                                             \n",
      "[35]\tvalidation_0-logloss:0.00633\tvalidation_1-logloss:0.29779                                                                             \n",
      "[36]\tvalidation_0-logloss:0.00605\tvalidation_1-logloss:0.29763                                                                             \n",
      "[37]\tvalidation_0-logloss:0.00582\tvalidation_1-logloss:0.29982                                                                             \n",
      "[38]\tvalidation_0-logloss:0.00559\tvalidation_1-logloss:0.29892                                                                             \n",
      "[39]\tvalidation_0-logloss:0.00539\tvalidation_1-logloss:0.30106                                                                             \n",
      "[40]\tvalidation_0-logloss:0.00524\tvalidation_1-logloss:0.30228                                                                             \n",
      "[41]\tvalidation_0-logloss:0.00505\tvalidation_1-logloss:0.30304                                                                             \n",
      "[42]\tvalidation_0-logloss:0.00488\tvalidation_1-logloss:0.30174                                                                             \n",
      "-0.9635732201427745                                                                                                                        \n",
      "100%|████████████████████████████████████████████████████████████████████| 5/5 [20:25<00:00, 245.00s/trial, best loss: -0.9733359058460349]\n"
     ]
    }
   ],
   "source": [
    "def xgb_score(params): #function to train and test different hyperparams\n",
    "    model = xgb.XGBClassifier(**params, eval_metric='logloss')\n",
    "    model.fit(X_train_fs, y_train, early_stopping_rounds=20,\n",
    "             eval_set=[(X_train_fs, y_train), (X_test_fs, y_test)])\n",
    "    score = -cross_val_score(model, X_train_fs, y_train, cv=10, scoring='roc_auc').mean()\n",
    "    print(score)\n",
    "    return {'loss': score, 'status': STATUS_OK}\n",
    "            \n",
    "def xgb_optimize(trials, space): #fmin is the main library function\n",
    "    best = fmin(xgb_score, space, algo=tpe.suggest, max_evals=5)\n",
    "    return best\n",
    "            \n",
    "trials = Trials() #database that store completed hyperparameters and score\n",
    "best_xgb_params = xgb_optimize(trials, hyperparam_space) #calls fmin"
   ]
  },
  {
   "cell_type": "code",
   "execution_count": 24,
   "id": "08f0f315",
   "metadata": {
    "scrolled": false
   },
   "outputs": [
    {
     "data": {
      "text/plain": [
       "{'learning_rate': 0.21, 'max_depth': 1, 'n_estimators': 392}"
      ]
     },
     "execution_count": 24,
     "metadata": {},
     "output_type": "execute_result"
    }
   ],
   "source": [
    "best_xgb_params"
   ]
  },
  {
   "cell_type": "code",
   "execution_count": 25,
   "id": "db257044",
   "metadata": {},
   "outputs": [],
   "source": [
    "# params = {'learning_rate': 0.66, 'max_depth': 1, 'n_estimators': 61}"
   ]
  },
  {
   "cell_type": "code",
   "execution_count": 26,
   "id": "7220bdaa",
   "metadata": {},
   "outputs": [
    {
     "name": "stdout",
     "output_type": "stream",
     "text": [
      "auc_roc:  0.9685758513931888\n",
      "F1 Score: 0.9067357512953369\n",
      "[[149  21]\n",
      " [ 15 175]]\n",
      "              precision    recall  f1-score   support\n",
      "\n",
      "           0       0.91      0.88      0.89       170\n",
      "           1       0.89      0.92      0.91       190\n",
      "\n",
      "    accuracy                           0.90       360\n",
      "   macro avg       0.90      0.90      0.90       360\n",
      "weighted avg       0.90      0.90      0.90       360\n",
      "\n"
     ]
    }
   ],
   "source": [
    "xgb_model = xgb.XGBClassifier(**best_xgb_params, eval_metric='logloss')\n",
    "xgb_model.fit(X_train_fs, y_train)\n",
    "preds = [pred[1] for pred in xgb_model.predict_proba(X_test_fs)]\n",
    "score = roc_auc_score(y_test, preds, average='weighted')\n",
    "print('auc_roc: ', score)\n",
    "\n",
    "y_pred = xgb_model.predict(X_test_fs)\n",
    "f1=f1_score(y_test, y_pred)\n",
    "print('F1 Score:', f1)\n",
    "print(confusion_matrix(y_test, y_pred))\n",
    "print(classification_report(y_test, y_pred))"
   ]
  },
  {
   "cell_type": "code",
   "execution_count": 27,
   "id": "bba64222",
   "metadata": {},
   "outputs": [],
   "source": [
    "xgb_model.save_model(\"xgb_model.txt\")"
   ]
  },
  {
   "cell_type": "code",
   "execution_count": 6,
   "id": "0c1a6b78",
   "metadata": {},
   "outputs": [],
   "source": [
    "saved_model = xgb.Booster()\n",
    "saved_model.load_model(\"xgb_model.txt\")"
   ]
  },
  {
   "cell_type": "code",
   "execution_count": 19,
   "id": "c678b543",
   "metadata": {},
   "outputs": [],
   "source": [
    "X_test_D = xgb.DMatrix(X_test_fs)"
   ]
  },
  {
   "cell_type": "code",
   "execution_count": 24,
   "id": "5e7b3dde",
   "metadata": {},
   "outputs": [
    {
     "name": "stdout",
     "output_type": "stream",
     "text": [
      "F1 Score: 0.9711286089238845\n",
      "[[164   1]\n",
      " [ 10 185]]\n",
      "              precision    recall  f1-score   support\n",
      "\n",
      "           0       0.94      0.99      0.97       165\n",
      "           1       0.99      0.95      0.97       195\n",
      "\n",
      "    accuracy                           0.97       360\n",
      "   macro avg       0.97      0.97      0.97       360\n",
      "weighted avg       0.97      0.97      0.97       360\n",
      "\n"
     ]
    }
   ],
   "source": [
    "y_pred = saved_model.predict(X_test_D)\n",
    "f1=f1_score(y_test, (y_pred > 0.6622))\n",
    "print('F1 Score:', f1)\n",
    "print(confusion_matrix(y_test, (y_pred > 0.6622)))\n",
    "print(classification_report(y_test, (y_pred > 0.6622)))"
   ]
  },
  {
   "cell_type": "code",
   "execution_count": 23,
   "id": "01f30916",
   "metadata": {},
   "outputs": [
    {
     "name": "stdout",
     "output_type": "stream",
     "text": [
      "ROC AUC: 0.9970163170163171\n",
      "\n",
      "Ember Model Performance at 1% FPR:\n",
      "Threshold: 0.6622\n",
      "False Positive Rate: 0.606%\n",
      "False Negative Rate: 5.128%\n",
      "Detection Rate: 94.87179487179488%\n",
      "\n",
      "Ember Model Performance at 0.1% FPR:\n",
      "Threshold: 0.7413\n",
      "False Positive Rate: 0.000%\n",
      "False Negative Rate: 6.667%\n",
      "Detection Rate: 93.33333333333333%\n"
     ]
    }
   ],
   "source": [
    "def get_fpr(y_true, y_pred):\n",
    "    nbenign = (y_true == 0).sum()\n",
    "    nfalse = (y_pred[y_true == 0] == 1).sum()\n",
    "    return nfalse / float(nbenign)\n",
    "\n",
    "\n",
    "def find_threshold(y_true, y_pred, fpr_target):\n",
    "    thresh = 0.0\n",
    "    fpr = get_fpr(y_true, y_pred > thresh)\n",
    "    while fpr > fpr_target and thresh < 1.0:\n",
    "        thresh += 0.0001\n",
    "        fpr = get_fpr(y_true, y_pred > thresh)\n",
    "    return thresh, fpr\n",
    "\n",
    "# testdf = emberdf[emberdf[\"subset\"] == \"test\"]\n",
    "print(\"ROC AUC:\", roc_auc_score(y_test, y_pred))\n",
    "print()\n",
    "\n",
    "threshold, fpr = find_threshold(y_test, y_pred, 0.01)\n",
    "fnr = (y_pred[y_test == 1] < threshold).sum() / float((y_test == 1).sum())\n",
    "print(\"Ember Model Performance at 1% FPR:\")\n",
    "print(\"Threshold: {:.4f}\".format(threshold))\n",
    "print(\"False Positive Rate: {:.3f}%\".format(fpr * 100))\n",
    "print(\"False Negative Rate: {:.3f}%\".format(fnr * 100))\n",
    "print(\"Detection Rate: {}%\".format(100 - fnr * 100))\n",
    "print()\n",
    "\n",
    "threshold, fpr = find_threshold(y_test, y_pred, 0.001)\n",
    "fnr = (y_pred[y_test == 1] < threshold).sum() / float((y_test == 1).sum())\n",
    "print(\"Ember Model Performance at 0.1% FPR:\")\n",
    "print(\"Threshold: {:.4f}\".format(threshold))\n",
    "print(\"False Positive Rate: {:.3f}%\".format(fpr * 100))\n",
    "print(\"False Negative Rate: {:.3f}%\".format(fnr * 100))\n",
    "print(\"Detection Rate: {}%\".format(100 - fnr * 100))"
   ]
  },
  {
   "cell_type": "code",
   "execution_count": null,
   "id": "44f5c114",
   "metadata": {},
   "outputs": [],
   "source": []
  },
  {
   "cell_type": "code",
   "execution_count": null,
   "id": "097d3664",
   "metadata": {},
   "outputs": [],
   "source": []
  },
  {
   "cell_type": "code",
   "execution_count": null,
   "id": "c5443790",
   "metadata": {},
   "outputs": [],
   "source": []
  },
  {
   "cell_type": "code",
   "execution_count": null,
   "id": "e36922ef",
   "metadata": {},
   "outputs": [],
   "source": [
    "shap_values = shap.TreeExplainer(xgb_model).shap_values(X_test_fs)\n",
    "shap.summary_plot(shap_values, X_test_fs)"
   ]
  },
  {
   "cell_type": "code",
   "execution_count": null,
   "id": "af9c75d1",
   "metadata": {},
   "outputs": [],
   "source": [
    "xgb.plot_importance(xgb_model, importance_type='cover', max_num_features=20)\n",
    "plt.figure(figsize=(25, 12))\n",
    "plt.show()"
   ]
  },
  {
   "cell_type": "code",
   "execution_count": null,
   "id": "f211b88a",
   "metadata": {},
   "outputs": [],
   "source": []
  },
  {
   "cell_type": "code",
   "execution_count": null,
   "id": "77dae02a",
   "metadata": {},
   "outputs": [],
   "source": []
  },
  {
   "cell_type": "code",
   "execution_count": null,
   "id": "aa137be4",
   "metadata": {},
   "outputs": [],
   "source": []
  },
  {
   "cell_type": "code",
   "execution_count": null,
   "id": "3ef06df0",
   "metadata": {},
   "outputs": [],
   "source": []
  },
  {
   "cell_type": "markdown",
   "id": "4b06e8e7",
   "metadata": {},
   "source": [
    "## Conclusions"
   ]
  },
  {
   "cell_type": "markdown",
   "id": "02eaaccb",
   "metadata": {},
   "source": [
    "## Visualizations should include the above ROC plots, SHAP plots, as well as the built in feature importance plots."
   ]
  },
  {
   "cell_type": "code",
   "execution_count": null,
   "id": "f94ce86a",
   "metadata": {},
   "outputs": [],
   "source": []
  },
  {
   "cell_type": "code",
   "execution_count": null,
   "id": "ff3b9709",
   "metadata": {},
   "outputs": [],
   "source": []
  },
  {
   "cell_type": "code",
   "execution_count": null,
   "id": "d1f8d681",
   "metadata": {},
   "outputs": [],
   "source": []
  },
  {
   "cell_type": "code",
   "execution_count": null,
   "id": "644a06ea",
   "metadata": {},
   "outputs": [],
   "source": []
  },
  {
   "cell_type": "code",
   "execution_count": null,
   "id": "334910bf",
   "metadata": {},
   "outputs": [],
   "source": []
  },
  {
   "cell_type": "code",
   "execution_count": null,
   "id": "f8dda090",
   "metadata": {},
   "outputs": [],
   "source": []
  },
  {
   "cell_type": "markdown",
   "id": "84a47da5",
   "metadata": {},
   "source": [
    "# scrap the below in final version"
   ]
  },
  {
   "cell_type": "markdown",
   "id": "178f54a2",
   "metadata": {},
   "source": [
    "### Anomaly Detection Approach??"
   ]
  },
  {
   "cell_type": "code",
   "execution_count": null,
   "id": "89b83f23",
   "metadata": {},
   "outputs": [],
   "source": [
    "df1.shape #go back to original dataset"
   ]
  },
  {
   "cell_type": "code",
   "execution_count": null,
   "id": "45f14f3d",
   "metadata": {},
   "outputs": [],
   "source": [
    "df1 = df1._get_numeric_data() #drop nonnumeric columns"
   ]
  },
  {
   "cell_type": "markdown",
   "id": "e77293c3",
   "metadata": {},
   "source": [
    "#### Isolation Forest"
   ]
  },
  {
   "cell_type": "markdown",
   "id": "e8ab2ea7",
   "metadata": {},
   "source": [
    "Setting contamination rate to 5% as seen in original data, using 200 estimators."
   ]
  },
  {
   "cell_type": "code",
   "execution_count": null,
   "id": "61238ad1",
   "metadata": {},
   "outputs": [],
   "source": [
    "iso = IsolationForest(n_estimators=200, max_samples='auto', contamination=0.05)\n",
    "new_df = df1.drop(columns=['category'])\n",
    "iso.fit(new_df)\n",
    "new_df['anomaly_score'] = iso.predict(new_df)\n",
    "new_df[new_df['anomaly_score'] == -1].shape"
   ]
  },
  {
   "cell_type": "markdown",
   "id": "f371722c",
   "metadata": {},
   "source": [
    "As expected, found 900 \"outliers\" (in our case malware)."
   ]
  },
  {
   "cell_type": "code",
   "execution_count": null,
   "id": "ff4126ba",
   "metadata": {},
   "outputs": [],
   "source": [
    "iso_df = pd.concat([new_df, df1['category']], axis=1) #join the anomaly prediction with og data\n",
    "iso_df.head(10)"
   ]
  },
  {
   "cell_type": "code",
   "execution_count": null,
   "id": "db636f68",
   "metadata": {},
   "outputs": [],
   "source": [
    "iso_df.groupby('anomaly_score').size() #sanity check"
   ]
  },
  {
   "cell_type": "code",
   "execution_count": null,
   "id": "bd0f404f",
   "metadata": {},
   "outputs": [],
   "source": [
    "iso_df['anomaly'] = \"\" #add new empty column to switch out -1 to 1 and 1 to 0"
   ]
  },
  {
   "cell_type": "code",
   "execution_count": null,
   "id": "107742d9",
   "metadata": {},
   "outputs": [],
   "source": [
    "iso_df.loc[iso_df.anomaly_score == -1, \"anomaly\"] = 1\n",
    "iso_df.loc[iso_df.anomaly_score == 1, \"anomaly\"] = 0"
   ]
  },
  {
   "cell_type": "code",
   "execution_count": null,
   "id": "01dca1fe",
   "metadata": {},
   "outputs": [],
   "source": [
    "print(iso_df.groupby('anomaly').size(), iso_df.groupby('category').size())"
   ]
  },
  {
   "cell_type": "code",
   "execution_count": null,
   "id": "64fc2bd1",
   "metadata": {},
   "outputs": [],
   "source": [
    "iso_df.head(5)"
   ]
  },
  {
   "cell_type": "markdown",
   "id": "7e9ecb75",
   "metadata": {},
   "source": [
    "Calculate f1 score between new anomaly column and given category column."
   ]
  },
  {
   "cell_type": "code",
   "execution_count": null,
   "id": "0d40528a",
   "metadata": {
    "scrolled": true
   },
   "outputs": [],
   "source": [
    "f1_score(list(iso_df['category']), list(iso_df['anomaly']))"
   ]
  },
  {
   "cell_type": "markdown",
   "id": "809e1745",
   "metadata": {},
   "source": [
    "### what happened???"
   ]
  },
  {
   "cell_type": "code",
   "execution_count": null,
   "id": "08938ea2",
   "metadata": {},
   "outputs": [],
   "source": []
  },
  {
   "cell_type": "code",
   "execution_count": null,
   "id": "6cf7ac34",
   "metadata": {},
   "outputs": [],
   "source": []
  },
  {
   "cell_type": "code",
   "execution_count": null,
   "id": "183602ee",
   "metadata": {},
   "outputs": [],
   "source": []
  }
 ],
 "metadata": {
  "hide_input": false,
  "kernelspec": {
   "display_name": "Python 3 (ipykernel)",
   "language": "python",
   "name": "python3"
  },
  "language_info": {
   "codemirror_mode": {
    "name": "ipython",
    "version": 3
   },
   "file_extension": ".py",
   "mimetype": "text/x-python",
   "name": "python",
   "nbconvert_exporter": "python",
   "pygments_lexer": "ipython3",
   "version": "3.8.12"
  },
  "nteract": {
   "version": "0.28.0"
  }
 },
 "nbformat": 4,
 "nbformat_minor": 5
}
