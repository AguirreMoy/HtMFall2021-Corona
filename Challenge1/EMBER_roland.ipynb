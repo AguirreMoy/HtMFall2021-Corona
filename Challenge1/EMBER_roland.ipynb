{
 "cells": [
  {
   "cell_type": "markdown",
   "id": "2d5c55cf-a708-4f9e-997f-8909e8812495",
   "metadata": {},
   "source": [
    "# HACKtheMACHINE 2021 | Track 2: Data Science, Detective Bot "
   ]
  },
  {
   "cell_type": "markdown",
   "id": "318a291c-0e21-46db-8c97-7bd00397e130",
   "metadata": {},
   "source": [
    "The following data dictionary describes the columns or fields of the data set and a description of the objects. This information with more detail can also be found in the `EMBER` documentation of the `features.py` file at: https://github.com/elastic/ember/blob/master/ember/features.py "
   ]
  },
  {
   "cell_type": "markdown",
   "id": "939340e9-53a4-48cc-a9ab-1d3345b2bf84",
   "metadata": {},
   "source": [
    "| Field Name | Description | \n",
    "|------------|-------------|\n",
    "| sha256 | The Secure Hash Algorithm (SHA) is a cryptographic hash function like a signature or fingerprints for a data set. Even if one symbol is changed the algorithm will produce a different hash value. The SHA256 algorithm generates a fixed size 256-bit (32-byte) hash. The SHA256 algorithm is used to ensure you acquire the same data as the original. For exmaple, if you download something you can check if the data has not changed (due to network errors or malware injection) by comparing the hashes of your file and the original.|\n",
    "| histogram | Byte histogram (count + non-normalized) over the entire binary file. The byte histogram contains 256 integer values and represent the counts of each byte value within the value. When generating model features the byte histgoram is normalized to a distribution, since file size is represented as a feature in the general file information. | \n",
    "| byteentropy | 2D byte/entropy histogram based loosely on (Saxe and Berlin, 2015). This roughly approximates the joint probability of byte value and local entropy. See Section 2.1.1 in https://arxiv.org/pdf/1508.03096.pdf for more info. The byte entropy histogram approximates the joint distriubtion p(H, X) of entropy H and byte value X. By computing the scalar entropy H for a fixed-length window and pairing it with each byte occurrence within the window. This is repeated as the window slides across the input bytes. |\n",
    "| strings | Contains simple statistics about printable strings of the following: <ul><li>`numstrings`: number of strings <li> `avlength`: average length of strings <li>`printabledist`: histogram of the printable characters within those strings <li>`printables`: distinct information from byte histogram information from the byte histogram information since its derived only from strings containing at least 5 consecutive printable characters <li>`entropy`: entropy of characters across all printable strings <li>`paths` number of strings that begin with **C:** (case insensitive) that may indicate a path <li>`urls`: the number of occurences of **http://** or **https://** (case insensitive) that may indicate a URL <li>`registry`: number of occurrences of HKEY that may indicate a registry key, <li>`MZ`: number of occurrences of the short string MZ |\n",
    "| general | Provides general file information. 0/1 indicates a binary output <ul><li>`size`: length of bytes <li>`vsize`: virtual size <li>`has_debug`: 0/1  <li>`exports`: 0/1 <li>`imports`: 0/1 <li>`has_relocations`: 0/1  <li>`has_resources`: 0/1 <li>`has_signature`: 0/1 <li>`has_tls`: 0/1 <li>`symbols`: 0/1 |\n",
    "| header | Provides header file information on machine, architecture, OS, link and other information: <ul><li> `coeff`: [ `timestamp`, `machine`,`characteristics` ] <li> `optional`: [`subsystem`, `dll_characteristics`, `magic`, `major_image_version`, `minor_linker_version`, `major_operating_system_version`, `minor_operating_system_version`, `major_subsystem_version`, `minor_subsystem_version`, `sizeof_code`, `sizeof_headers`, `sizeof_heap_commit`]\n",
    "| section | Information about section names, sizes and entropy. Uses hashing trick to summarize all this section into a feature vector. <ul><li> `imports`: [`KERNEL32.dll` : [`GetTickCount`] | \n",
    "| imports | Information about imported libraries and functions from the import address table. Note that the total number of imported functions is contained in GeneralFileInfo. |\n",
    "| exports | Information about exported functions. Note that the total number of exported functions is contained in GeneralFileInfo.|\n",
    "| datadirectories | Extracts size and virtual address of the first 15 data dictectories. |\n",
    "| label / category | Class label indicating benign `0` or malicious `1`|"
   ]
  },
  {
   "cell_type": "markdown",
   "id": "ad8ee9a6-1ccf-4c0b-af10-8cccef6982e6",
   "metadata": {},
   "source": [
    "## Load Libraries"
   ]
  },
  {
   "cell_type": "code",
   "execution_count": 1,
   "id": "87ecd2ad-01a0-4e87-a539-48d626168fd2",
   "metadata": {},
   "outputs": [
    {
     "name": "stderr",
     "output_type": "stream",
     "text": [
      "The gensim.similarities.levenshtein submodule is disabled, because the optional Levenshtein package <https://pypi.org/project/python-Levenshtein/> is unavailable. Install Levenhstein (e.g. `pip install python-Levenshtein`) to suppress this warning.\n"
     ]
    }
   ],
   "source": [
    "import numpy as np #data manipulation\n",
    "import pandas as pd #data manipulation\n",
    "import sklearn as sk #modeling & metrics\n",
    "import seaborn as sns #visualizations\n",
    "import scipy as stats #visualizations\n",
    "from matplotlib import pyplot as plt #visualizations\n",
    "\n",
    "#imputation, scaling, metrics\n",
    "from sklearn import preprocessing\n",
    "from sklearn import metrics\n",
    "from sklearn.utils import resample\n",
    "from sklearn.metrics import r2_score, classification_report, f1_score, accuracy_score, confusion_matrix\n",
    "from sklearn.metrics import roc_curve, auc, roc_auc_score\n",
    "from sklearn.metrics import mean_squared_error\n",
    "from sklearn.metrics import mean_absolute_error\n",
    "from sklearn.model_selection import train_test_split\n",
    "from sklearn.model_selection import cross_val_score\n",
    "from sklearn.model_selection import StratifiedKFold\n",
    "from sklearn.experimental import enable_iterative_imputer\n",
    "from sklearn.impute import IterativeImputer\n",
    "from sklearn.preprocessing import StandardScaler\n",
    "from sklearn.feature_selection import SelectKBest\n",
    "from sklearn.feature_selection import f_classif\n",
    "from sklearn.linear_model import LogisticRegression\n",
    "\n",
    "#outlier classification\n",
    "from sklearn.ensemble import IsolationForest\n",
    "\n",
    "import xgboost as xgb #xgb model\n",
    "import lightgbm as lgb #lgbm model\n",
    "from lightgbm import *\n",
    "import re #fix error for lgbm\n",
    "import hyperopt #hyperparameter tuning\n",
    "from hyperopt import fmin, tpe, hp, STATUS_OK, Trials, space_eval\n",
    "\n",
    "import shap #shap plot\n",
    "\n",
    "import pickle \n",
    " \n",
    "import warnings\n",
    "warnings.filterwarnings('ignore')"
   ]
  },
  {
   "cell_type": "markdown",
   "id": "3d7c1126",
   "metadata": {},
   "source": [
    "## Requirements"
   ]
  },
  {
   "cell_type": "markdown",
   "id": "7c3d12e5",
   "metadata": {},
   "source": [
    "The requirements file is basically this output copy pasted into a txt file"
   ]
  },
  {
   "cell_type": "code",
   "execution_count": 2,
   "id": "775ff10d",
   "metadata": {},
   "outputs": [
    {
     "name": "stdout",
     "output_type": "stream",
     "text": [
      "numpy==1.21.2\n",
      "pandas==1.3.4\n",
      "sklearn==1.0.1\n",
      "seaborn==0.11.2\n",
      "scipy==1.6.0\n",
      "xgboost==1.5.0\n",
      "lightgbm==3.2.1\n",
      "re==2.2.1\n",
      "hyperopt==0.2.5\n",
      "shap==0.40.0\n",
      "nltk==3.5\n",
      "spacy==2.3.2\n",
      "gensim==4.0.1\n"
     ]
    }
   ],
   "source": [
    "print('\\n'.join(f'{m.__name__}=={m.__version__}' for m in globals().values() if getattr(m, '__version__', None)))"
   ]
  },
  {
   "cell_type": "markdown",
   "id": "b633d294-cbc2-4ffa-8474-13be9e7d6e3d",
   "metadata": {},
   "source": [
    "## Load Data"
   ]
  },
  {
   "cell_type": "code",
   "execution_count": 3,
   "id": "504a76f1-8bd6-42c7-948a-6ed3bb240fc1",
   "metadata": {},
   "outputs": [],
   "source": [
    "# Flattened EMBER Feature set\n",
    "# Easier to feed into ML models right away\n",
    "# df1 = pd.read_excel(\"flatten_train.xlsx\")"
   ]
  },
  {
   "cell_type": "markdown",
   "id": "2e4986e1",
   "metadata": {},
   "source": [
    "Use pickling so you don't have to re read Excel file every time."
   ]
  },
  {
   "cell_type": "code",
   "execution_count": 4,
   "id": "33b59c6a",
   "metadata": {},
   "outputs": [],
   "source": [
    "# pd.to_pickle(df1, \"./data.pkl\")"
   ]
  },
  {
   "cell_type": "code",
   "execution_count": 5,
   "id": "3592aef0",
   "metadata": {},
   "outputs": [],
   "source": [
    "df1 = pd.read_pickle(\"./data.pkl\")"
   ]
  },
  {
   "cell_type": "markdown",
   "id": "e673d618",
   "metadata": {},
   "source": [
    "Checking how many malware entries."
   ]
  },
  {
   "cell_type": "code",
   "execution_count": 6,
   "id": "32162510",
   "metadata": {},
   "outputs": [
    {
     "data": {
      "text/plain": [
       "900"
      ]
     },
     "execution_count": 6,
     "metadata": {},
     "output_type": "execute_result"
    }
   ],
   "source": [
    "sum(df1['category'])"
   ]
  },
  {
   "cell_type": "code",
   "execution_count": 7,
   "id": "2600ee08",
   "metadata": {},
   "outputs": [
    {
     "data": {
      "text/plain": [
       "(18000, 714)"
      ]
     },
     "execution_count": 7,
     "metadata": {},
     "output_type": "execute_result"
    }
   ],
   "source": [
    "df1.shape"
   ]
  },
  {
   "cell_type": "code",
   "execution_count": 8,
   "id": "35642d6a",
   "metadata": {},
   "outputs": [
    {
     "data": {
      "text/plain": [
       "0.05"
      ]
     },
     "execution_count": 8,
     "metadata": {},
     "output_type": "execute_result"
    }
   ],
   "source": [
    "900/18000"
   ]
  },
  {
   "cell_type": "markdown",
   "id": "ad41dc03",
   "metadata": {},
   "source": [
    "5%, super imbalanced."
   ]
  },
  {
   "cell_type": "markdown",
   "id": "e48c92b2",
   "metadata": {},
   "source": [
    "## EDA"
   ]
  },
  {
   "cell_type": "markdown",
   "id": "ae9423ce",
   "metadata": {},
   "source": [
    "### Visualizations go here:\n",
    "### try plotting distributions of certain features to compare them between the malware and not malware tables"
   ]
  },
  {
   "cell_type": "code",
   "execution_count": 54,
   "id": "82a70e3f",
   "metadata": {},
   "outputs": [
    {
     "data": {
      "text/html": [
       "<div>\n",
       "<style scoped>\n",
       "    .dataframe tbody tr th:only-of-type {\n",
       "        vertical-align: middle;\n",
       "    }\n",
       "\n",
       "    .dataframe tbody tr th {\n",
       "        vertical-align: top;\n",
       "    }\n",
       "\n",
       "    .dataframe thead th {\n",
       "        text-align: right;\n",
       "    }\n",
       "</style>\n",
       "<table border=\"1\" class=\"dataframe\">\n",
       "  <thead>\n",
       "    <tr style=\"text-align: right;\">\n",
       "      <th></th>\n",
       "      <th>histogram_0</th>\n",
       "      <th>histogram_1</th>\n",
       "      <th>histogram_2</th>\n",
       "      <th>histogram_3</th>\n",
       "      <th>histogram_4</th>\n",
       "      <th>histogram_5</th>\n",
       "      <th>histogram_6</th>\n",
       "      <th>histogram_7</th>\n",
       "      <th>histogram_8</th>\n",
       "      <th>histogram_9</th>\n",
       "      <th>...</th>\n",
       "      <th>datadirectories_11_virtual_address</th>\n",
       "      <th>datadirectories_12_size</th>\n",
       "      <th>datadirectories_12_virtual_address</th>\n",
       "      <th>datadirectories_13_size</th>\n",
       "      <th>datadirectories_13_virtual_address</th>\n",
       "      <th>datadirectories_14_size</th>\n",
       "      <th>datadirectories_14_virtual_address</th>\n",
       "      <th>datadirectories_15_size</th>\n",
       "      <th>datadirectories_15_virtual_address</th>\n",
       "      <th>category</th>\n",
       "    </tr>\n",
       "  </thead>\n",
       "  <tbody>\n",
       "    <tr>\n",
       "      <th>0</th>\n",
       "      <td>127242</td>\n",
       "      <td>9185</td>\n",
       "      <td>3818</td>\n",
       "      <td>3127</td>\n",
       "      <td>13300</td>\n",
       "      <td>1594</td>\n",
       "      <td>1781</td>\n",
       "      <td>1493</td>\n",
       "      <td>9938</td>\n",
       "      <td>1006</td>\n",
       "      <td>...</td>\n",
       "      <td>0</td>\n",
       "      <td>620</td>\n",
       "      <td>11711244</td>\n",
       "      <td>0</td>\n",
       "      <td>0</td>\n",
       "      <td>0</td>\n",
       "      <td>0</td>\n",
       "      <td>0</td>\n",
       "      <td>0</td>\n",
       "      <td>0</td>\n",
       "    </tr>\n",
       "    <tr>\n",
       "      <th>1</th>\n",
       "      <td>36152</td>\n",
       "      <td>2617</td>\n",
       "      <td>4120</td>\n",
       "      <td>876</td>\n",
       "      <td>1711</td>\n",
       "      <td>755</td>\n",
       "      <td>672</td>\n",
       "      <td>521</td>\n",
       "      <td>2278</td>\n",
       "      <td>325</td>\n",
       "      <td>...</td>\n",
       "      <td>0</td>\n",
       "      <td>340</td>\n",
       "      <td>131072</td>\n",
       "      <td>0</td>\n",
       "      <td>0</td>\n",
       "      <td>0</td>\n",
       "      <td>0</td>\n",
       "      <td>0</td>\n",
       "      <td>0</td>\n",
       "      <td>0</td>\n",
       "    </tr>\n",
       "    <tr>\n",
       "      <th>2</th>\n",
       "      <td>39986</td>\n",
       "      <td>7112</td>\n",
       "      <td>7953</td>\n",
       "      <td>6604</td>\n",
       "      <td>6542</td>\n",
       "      <td>6441</td>\n",
       "      <td>5869</td>\n",
       "      <td>6422</td>\n",
       "      <td>6224</td>\n",
       "      <td>6017</td>\n",
       "      <td>...</td>\n",
       "      <td>0</td>\n",
       "      <td>588</td>\n",
       "      <td>123728</td>\n",
       "      <td>0</td>\n",
       "      <td>0</td>\n",
       "      <td>0</td>\n",
       "      <td>0</td>\n",
       "      <td>0</td>\n",
       "      <td>0</td>\n",
       "      <td>0</td>\n",
       "    </tr>\n",
       "    <tr>\n",
       "      <th>3</th>\n",
       "      <td>253873</td>\n",
       "      <td>32714</td>\n",
       "      <td>22629</td>\n",
       "      <td>17500</td>\n",
       "      <td>15355</td>\n",
       "      <td>6691</td>\n",
       "      <td>10881</td>\n",
       "      <td>4258</td>\n",
       "      <td>11992</td>\n",
       "      <td>3513</td>\n",
       "      <td>...</td>\n",
       "      <td>0</td>\n",
       "      <td>216</td>\n",
       "      <td>282920</td>\n",
       "      <td>0</td>\n",
       "      <td>0</td>\n",
       "      <td>0</td>\n",
       "      <td>0</td>\n",
       "      <td>0</td>\n",
       "      <td>0</td>\n",
       "      <td>0</td>\n",
       "    </tr>\n",
       "    <tr>\n",
       "      <th>4</th>\n",
       "      <td>12464</td>\n",
       "      <td>1020</td>\n",
       "      <td>502</td>\n",
       "      <td>264</td>\n",
       "      <td>1918</td>\n",
       "      <td>218</td>\n",
       "      <td>262</td>\n",
       "      <td>91</td>\n",
       "      <td>846</td>\n",
       "      <td>78</td>\n",
       "      <td>...</td>\n",
       "      <td>0</td>\n",
       "      <td>0</td>\n",
       "      <td>0</td>\n",
       "      <td>0</td>\n",
       "      <td>0</td>\n",
       "      <td>0</td>\n",
       "      <td>0</td>\n",
       "      <td>0</td>\n",
       "      <td>0</td>\n",
       "      <td>0</td>\n",
       "    </tr>\n",
       "  </tbody>\n",
       "</table>\n",
       "<p>5 rows × 694 columns</p>\n",
       "</div>"
      ],
      "text/plain": [
       "   histogram_0  histogram_1  histogram_2  histogram_3  histogram_4  \\\n",
       "0       127242         9185         3818         3127        13300   \n",
       "1        36152         2617         4120          876         1711   \n",
       "2        39986         7112         7953         6604         6542   \n",
       "3       253873        32714        22629        17500        15355   \n",
       "4        12464         1020          502          264         1918   \n",
       "\n",
       "   histogram_5  histogram_6  histogram_7  histogram_8  histogram_9  ...  \\\n",
       "0         1594         1781         1493         9938         1006  ...   \n",
       "1          755          672          521         2278          325  ...   \n",
       "2         6441         5869         6422         6224         6017  ...   \n",
       "3         6691        10881         4258        11992         3513  ...   \n",
       "4          218          262           91          846           78  ...   \n",
       "\n",
       "   datadirectories_11_virtual_address  datadirectories_12_size  \\\n",
       "0                                   0                      620   \n",
       "1                                   0                      340   \n",
       "2                                   0                      588   \n",
       "3                                   0                      216   \n",
       "4                                   0                        0   \n",
       "\n",
       "   datadirectories_12_virtual_address  datadirectories_13_size  \\\n",
       "0                            11711244                        0   \n",
       "1                              131072                        0   \n",
       "2                              123728                        0   \n",
       "3                              282920                        0   \n",
       "4                                   0                        0   \n",
       "\n",
       "   datadirectories_13_virtual_address  datadirectories_14_size  \\\n",
       "0                                   0                        0   \n",
       "1                                   0                        0   \n",
       "2                                   0                        0   \n",
       "3                                   0                        0   \n",
       "4                                   0                        0   \n",
       "\n",
       "   datadirectories_14_virtual_address  datadirectories_15_size  \\\n",
       "0                                   0                        0   \n",
       "1                                   0                        0   \n",
       "2                                   0                        0   \n",
       "3                                   0                        0   \n",
       "4                                   0                        0   \n",
       "\n",
       "   datadirectories_15_virtual_address  category  \n",
       "0                                   0         0  \n",
       "1                                   0         0  \n",
       "2                                   0         0  \n",
       "3                                   0         0  \n",
       "4                                   0         0  \n",
       "\n",
       "[5 rows x 694 columns]"
      ]
     },
     "execution_count": 54,
     "metadata": {},
     "output_type": "execute_result"
    }
   ],
   "source": [
    "df1.head(5)"
   ]
  },
  {
   "cell_type": "code",
   "execution_count": 66,
   "id": "d6d5d6e2",
   "metadata": {
    "scrolled": true
   },
   "outputs": [
    {
     "data": {
      "text/plain": [
       "['histogram_0',\n",
       " 'histogram_1',\n",
       " 'histogram_2',\n",
       " 'histogram_3',\n",
       " 'histogram_4',\n",
       " 'histogram_5',\n",
       " 'histogram_6',\n",
       " 'histogram_7',\n",
       " 'histogram_8',\n",
       " 'histogram_9',\n",
       " 'histogram_10',\n",
       " 'histogram_11',\n",
       " 'histogram_12',\n",
       " 'histogram_13',\n",
       " 'histogram_14',\n",
       " 'histogram_15',\n",
       " 'histogram_16',\n",
       " 'histogram_17',\n",
       " 'histogram_18',\n",
       " 'histogram_19',\n",
       " 'histogram_20',\n",
       " 'histogram_21',\n",
       " 'histogram_22',\n",
       " 'histogram_23',\n",
       " 'histogram_24',\n",
       " 'histogram_25',\n",
       " 'histogram_26',\n",
       " 'histogram_27',\n",
       " 'histogram_28',\n",
       " 'histogram_29',\n",
       " 'histogram_30',\n",
       " 'histogram_31',\n",
       " 'histogram_32',\n",
       " 'histogram_33',\n",
       " 'histogram_34',\n",
       " 'histogram_35',\n",
       " 'histogram_36',\n",
       " 'histogram_37',\n",
       " 'histogram_38',\n",
       " 'histogram_39',\n",
       " 'histogram_40',\n",
       " 'histogram_41',\n",
       " 'histogram_42',\n",
       " 'histogram_43',\n",
       " 'histogram_44',\n",
       " 'histogram_45',\n",
       " 'histogram_46',\n",
       " 'histogram_47',\n",
       " 'histogram_48',\n",
       " 'histogram_49',\n",
       " 'histogram_50',\n",
       " 'histogram_51',\n",
       " 'histogram_52',\n",
       " 'histogram_53',\n",
       " 'histogram_54',\n",
       " 'histogram_55',\n",
       " 'histogram_56',\n",
       " 'histogram_57',\n",
       " 'histogram_58',\n",
       " 'histogram_59',\n",
       " 'histogram_60',\n",
       " 'histogram_61',\n",
       " 'histogram_62',\n",
       " 'histogram_63',\n",
       " 'histogram_64',\n",
       " 'histogram_65',\n",
       " 'histogram_66',\n",
       " 'histogram_67',\n",
       " 'histogram_68',\n",
       " 'histogram_69',\n",
       " 'histogram_70',\n",
       " 'histogram_71',\n",
       " 'histogram_72',\n",
       " 'histogram_73',\n",
       " 'histogram_74',\n",
       " 'histogram_75',\n",
       " 'histogram_76',\n",
       " 'histogram_77',\n",
       " 'histogram_78',\n",
       " 'histogram_79',\n",
       " 'histogram_80',\n",
       " 'histogram_81',\n",
       " 'histogram_82',\n",
       " 'histogram_83',\n",
       " 'histogram_84',\n",
       " 'histogram_85',\n",
       " 'histogram_86',\n",
       " 'histogram_87',\n",
       " 'histogram_88',\n",
       " 'histogram_89',\n",
       " 'histogram_90',\n",
       " 'histogram_91',\n",
       " 'histogram_92',\n",
       " 'histogram_93',\n",
       " 'histogram_94',\n",
       " 'histogram_95',\n",
       " 'histogram_96',\n",
       " 'histogram_97',\n",
       " 'histogram_98',\n",
       " 'histogram_99',\n",
       " 'histogram_100',\n",
       " 'histogram_101',\n",
       " 'histogram_102',\n",
       " 'histogram_103',\n",
       " 'histogram_104',\n",
       " 'histogram_105',\n",
       " 'histogram_106',\n",
       " 'histogram_107',\n",
       " 'histogram_108',\n",
       " 'histogram_109',\n",
       " 'histogram_110',\n",
       " 'histogram_111',\n",
       " 'histogram_112',\n",
       " 'histogram_113',\n",
       " 'histogram_114',\n",
       " 'histogram_115',\n",
       " 'histogram_116',\n",
       " 'histogram_117',\n",
       " 'histogram_118',\n",
       " 'histogram_119',\n",
       " 'histogram_120',\n",
       " 'histogram_121',\n",
       " 'histogram_122',\n",
       " 'histogram_123',\n",
       " 'histogram_124',\n",
       " 'histogram_125',\n",
       " 'histogram_126',\n",
       " 'histogram_127',\n",
       " 'histogram_128',\n",
       " 'histogram_129',\n",
       " 'histogram_130',\n",
       " 'histogram_131',\n",
       " 'histogram_132',\n",
       " 'histogram_133',\n",
       " 'histogram_134',\n",
       " 'histogram_135',\n",
       " 'histogram_136',\n",
       " 'histogram_137',\n",
       " 'histogram_138',\n",
       " 'histogram_139',\n",
       " 'histogram_140',\n",
       " 'histogram_141',\n",
       " 'histogram_142',\n",
       " 'histogram_143',\n",
       " 'histogram_144',\n",
       " 'histogram_145',\n",
       " 'histogram_146',\n",
       " 'histogram_147',\n",
       " 'histogram_148',\n",
       " 'histogram_149',\n",
       " 'histogram_150',\n",
       " 'histogram_151',\n",
       " 'histogram_152',\n",
       " 'histogram_153',\n",
       " 'histogram_154',\n",
       " 'histogram_155',\n",
       " 'histogram_156',\n",
       " 'histogram_157',\n",
       " 'histogram_158',\n",
       " 'histogram_159',\n",
       " 'histogram_160',\n",
       " 'histogram_161',\n",
       " 'histogram_162',\n",
       " 'histogram_163',\n",
       " 'histogram_164',\n",
       " 'histogram_165',\n",
       " 'histogram_166',\n",
       " 'histogram_167',\n",
       " 'histogram_168',\n",
       " 'histogram_169',\n",
       " 'histogram_170',\n",
       " 'histogram_171',\n",
       " 'histogram_172',\n",
       " 'histogram_173',\n",
       " 'histogram_174',\n",
       " 'histogram_175',\n",
       " 'histogram_176',\n",
       " 'histogram_177',\n",
       " 'histogram_178',\n",
       " 'histogram_179',\n",
       " 'histogram_180',\n",
       " 'histogram_181',\n",
       " 'histogram_182',\n",
       " 'histogram_183',\n",
       " 'histogram_184',\n",
       " 'histogram_185',\n",
       " 'histogram_186',\n",
       " 'histogram_187',\n",
       " 'histogram_188',\n",
       " 'histogram_189',\n",
       " 'histogram_190',\n",
       " 'histogram_191',\n",
       " 'histogram_192',\n",
       " 'histogram_193',\n",
       " 'histogram_194',\n",
       " 'histogram_195',\n",
       " 'histogram_196',\n",
       " 'histogram_197',\n",
       " 'histogram_198',\n",
       " 'histogram_199',\n",
       " 'histogram_200',\n",
       " 'histogram_201',\n",
       " 'histogram_202',\n",
       " 'histogram_203',\n",
       " 'histogram_204',\n",
       " 'histogram_205',\n",
       " 'histogram_206',\n",
       " 'histogram_207',\n",
       " 'histogram_208',\n",
       " 'histogram_209',\n",
       " 'histogram_210',\n",
       " 'histogram_211',\n",
       " 'histogram_212',\n",
       " 'histogram_213',\n",
       " 'histogram_214',\n",
       " 'histogram_215',\n",
       " 'histogram_216',\n",
       " 'histogram_217',\n",
       " 'histogram_218',\n",
       " 'histogram_219',\n",
       " 'histogram_220',\n",
       " 'histogram_221',\n",
       " 'histogram_222',\n",
       " 'histogram_223',\n",
       " 'histogram_224',\n",
       " 'histogram_225',\n",
       " 'histogram_226',\n",
       " 'histogram_227',\n",
       " 'histogram_228',\n",
       " 'histogram_229',\n",
       " 'histogram_230',\n",
       " 'histogram_231',\n",
       " 'histogram_232',\n",
       " 'histogram_233',\n",
       " 'histogram_234',\n",
       " 'histogram_235',\n",
       " 'histogram_236',\n",
       " 'histogram_237',\n",
       " 'histogram_238',\n",
       " 'histogram_239',\n",
       " 'histogram_240',\n",
       " 'histogram_241',\n",
       " 'histogram_242',\n",
       " 'histogram_243',\n",
       " 'histogram_244',\n",
       " 'histogram_245',\n",
       " 'histogram_246',\n",
       " 'histogram_247',\n",
       " 'histogram_248',\n",
       " 'histogram_249',\n",
       " 'histogram_250',\n",
       " 'histogram_251',\n",
       " 'histogram_252',\n",
       " 'histogram_253',\n",
       " 'histogram_254',\n",
       " 'histogram_255',\n",
       " 'byteentropy_0',\n",
       " 'byteentropy_1',\n",
       " 'byteentropy_2',\n",
       " 'byteentropy_3',\n",
       " 'byteentropy_4',\n",
       " 'byteentropy_5',\n",
       " 'byteentropy_6',\n",
       " 'byteentropy_7',\n",
       " 'byteentropy_8',\n",
       " 'byteentropy_9',\n",
       " 'byteentropy_10',\n",
       " 'byteentropy_11',\n",
       " 'byteentropy_12',\n",
       " 'byteentropy_13',\n",
       " 'byteentropy_14',\n",
       " 'byteentropy_15',\n",
       " 'byteentropy_16',\n",
       " 'byteentropy_17',\n",
       " 'byteentropy_18',\n",
       " 'byteentropy_19',\n",
       " 'byteentropy_20',\n",
       " 'byteentropy_21',\n",
       " 'byteentropy_22',\n",
       " 'byteentropy_23',\n",
       " 'byteentropy_24',\n",
       " 'byteentropy_25',\n",
       " 'byteentropy_26',\n",
       " 'byteentropy_27',\n",
       " 'byteentropy_28',\n",
       " 'byteentropy_29',\n",
       " 'byteentropy_30',\n",
       " 'byteentropy_31',\n",
       " 'byteentropy_32',\n",
       " 'byteentropy_33',\n",
       " 'byteentropy_34',\n",
       " 'byteentropy_35',\n",
       " 'byteentropy_36',\n",
       " 'byteentropy_37',\n",
       " 'byteentropy_38',\n",
       " 'byteentropy_39',\n",
       " 'byteentropy_40',\n",
       " 'byteentropy_41',\n",
       " 'byteentropy_42',\n",
       " 'byteentropy_43',\n",
       " 'byteentropy_44',\n",
       " 'byteentropy_45',\n",
       " 'byteentropy_46',\n",
       " 'byteentropy_47',\n",
       " 'byteentropy_48',\n",
       " 'byteentropy_49',\n",
       " 'byteentropy_50',\n",
       " 'byteentropy_51',\n",
       " 'byteentropy_52',\n",
       " 'byteentropy_53',\n",
       " 'byteentropy_54',\n",
       " 'byteentropy_55',\n",
       " 'byteentropy_56',\n",
       " 'byteentropy_57',\n",
       " 'byteentropy_58',\n",
       " 'byteentropy_59',\n",
       " 'byteentropy_60',\n",
       " 'byteentropy_61',\n",
       " 'byteentropy_62',\n",
       " 'byteentropy_63',\n",
       " 'byteentropy_64',\n",
       " 'byteentropy_65',\n",
       " 'byteentropy_66',\n",
       " 'byteentropy_67',\n",
       " 'byteentropy_68',\n",
       " 'byteentropy_69',\n",
       " 'byteentropy_70',\n",
       " 'byteentropy_71',\n",
       " 'byteentropy_72',\n",
       " 'byteentropy_73',\n",
       " 'byteentropy_74',\n",
       " 'byteentropy_75',\n",
       " 'byteentropy_76',\n",
       " 'byteentropy_77',\n",
       " 'byteentropy_78',\n",
       " 'byteentropy_79',\n",
       " 'byteentropy_80',\n",
       " 'byteentropy_81',\n",
       " 'byteentropy_82',\n",
       " 'byteentropy_83',\n",
       " 'byteentropy_84',\n",
       " 'byteentropy_85',\n",
       " 'byteentropy_86',\n",
       " 'byteentropy_87',\n",
       " 'byteentropy_88',\n",
       " 'byteentropy_89',\n",
       " 'byteentropy_90',\n",
       " 'byteentropy_91',\n",
       " 'byteentropy_92',\n",
       " 'byteentropy_93',\n",
       " 'byteentropy_94',\n",
       " 'byteentropy_95',\n",
       " 'byteentropy_96',\n",
       " 'byteentropy_97',\n",
       " 'byteentropy_98',\n",
       " 'byteentropy_99',\n",
       " 'byteentropy_100',\n",
       " 'byteentropy_101',\n",
       " 'byteentropy_102',\n",
       " 'byteentropy_103',\n",
       " 'byteentropy_104',\n",
       " 'byteentropy_105',\n",
       " 'byteentropy_106',\n",
       " 'byteentropy_107',\n",
       " 'byteentropy_108',\n",
       " 'byteentropy_109',\n",
       " 'byteentropy_110',\n",
       " 'byteentropy_111',\n",
       " 'byteentropy_112',\n",
       " 'byteentropy_113',\n",
       " 'byteentropy_114',\n",
       " 'byteentropy_115',\n",
       " 'byteentropy_116',\n",
       " 'byteentropy_117',\n",
       " 'byteentropy_118',\n",
       " 'byteentropy_119',\n",
       " 'byteentropy_120',\n",
       " 'byteentropy_121',\n",
       " 'byteentropy_122',\n",
       " 'byteentropy_123',\n",
       " 'byteentropy_124',\n",
       " 'byteentropy_125',\n",
       " 'byteentropy_126',\n",
       " 'byteentropy_127',\n",
       " 'byteentropy_128',\n",
       " 'byteentropy_129',\n",
       " 'byteentropy_130',\n",
       " 'byteentropy_131',\n",
       " 'byteentropy_132',\n",
       " 'byteentropy_133',\n",
       " 'byteentropy_134',\n",
       " 'byteentropy_135',\n",
       " 'byteentropy_136',\n",
       " 'byteentropy_137',\n",
       " 'byteentropy_138',\n",
       " 'byteentropy_139',\n",
       " 'byteentropy_140',\n",
       " 'byteentropy_141',\n",
       " 'byteentropy_142',\n",
       " 'byteentropy_143',\n",
       " 'byteentropy_144',\n",
       " 'byteentropy_145',\n",
       " 'byteentropy_146',\n",
       " 'byteentropy_147',\n",
       " 'byteentropy_148',\n",
       " 'byteentropy_149',\n",
       " 'byteentropy_150',\n",
       " 'byteentropy_151',\n",
       " 'byteentropy_152',\n",
       " 'byteentropy_153',\n",
       " 'byteentropy_154',\n",
       " 'byteentropy_155',\n",
       " 'byteentropy_156',\n",
       " 'byteentropy_157',\n",
       " 'byteentropy_158',\n",
       " 'byteentropy_159',\n",
       " 'byteentropy_160',\n",
       " 'byteentropy_161',\n",
       " 'byteentropy_162',\n",
       " 'byteentropy_163',\n",
       " 'byteentropy_164',\n",
       " 'byteentropy_165',\n",
       " 'byteentropy_166',\n",
       " 'byteentropy_167',\n",
       " 'byteentropy_168',\n",
       " 'byteentropy_169',\n",
       " 'byteentropy_170',\n",
       " 'byteentropy_171',\n",
       " 'byteentropy_172',\n",
       " 'byteentropy_173',\n",
       " 'byteentropy_174',\n",
       " 'byteentropy_175',\n",
       " 'byteentropy_176',\n",
       " 'byteentropy_177',\n",
       " 'byteentropy_178',\n",
       " 'byteentropy_179',\n",
       " 'byteentropy_180',\n",
       " 'byteentropy_181',\n",
       " 'byteentropy_182',\n",
       " 'byteentropy_183',\n",
       " 'byteentropy_184',\n",
       " 'byteentropy_185',\n",
       " 'byteentropy_186',\n",
       " 'byteentropy_187',\n",
       " 'byteentropy_188',\n",
       " 'byteentropy_189',\n",
       " 'byteentropy_190',\n",
       " 'byteentropy_191',\n",
       " 'byteentropy_192',\n",
       " 'byteentropy_193',\n",
       " 'byteentropy_194',\n",
       " 'byteentropy_195',\n",
       " 'byteentropy_196',\n",
       " 'byteentropy_197',\n",
       " 'byteentropy_198',\n",
       " 'byteentropy_199',\n",
       " 'byteentropy_200',\n",
       " 'byteentropy_201',\n",
       " 'byteentropy_202',\n",
       " 'byteentropy_203',\n",
       " 'byteentropy_204',\n",
       " 'byteentropy_205',\n",
       " 'byteentropy_206',\n",
       " 'byteentropy_207',\n",
       " 'byteentropy_208',\n",
       " 'byteentropy_209',\n",
       " 'byteentropy_210',\n",
       " 'byteentropy_211',\n",
       " 'byteentropy_212',\n",
       " 'byteentropy_213',\n",
       " 'byteentropy_214',\n",
       " 'byteentropy_215',\n",
       " 'byteentropy_216',\n",
       " 'byteentropy_217',\n",
       " 'byteentropy_218',\n",
       " 'byteentropy_219',\n",
       " 'byteentropy_220',\n",
       " 'byteentropy_221',\n",
       " 'byteentropy_222',\n",
       " 'byteentropy_223',\n",
       " 'byteentropy_224',\n",
       " 'byteentropy_225',\n",
       " 'byteentropy_226',\n",
       " 'byteentropy_227',\n",
       " 'byteentropy_228',\n",
       " 'byteentropy_229',\n",
       " 'byteentropy_230',\n",
       " 'byteentropy_231',\n",
       " 'byteentropy_232',\n",
       " 'byteentropy_233',\n",
       " 'byteentropy_234',\n",
       " 'byteentropy_235',\n",
       " 'byteentropy_236',\n",
       " 'byteentropy_237',\n",
       " 'byteentropy_238',\n",
       " 'byteentropy_239',\n",
       " 'byteentropy_240',\n",
       " 'byteentropy_241',\n",
       " 'byteentropy_242',\n",
       " 'byteentropy_243',\n",
       " 'byteentropy_244',\n",
       " 'byteentropy_245',\n",
       " 'byteentropy_246',\n",
       " 'byteentropy_247',\n",
       " 'byteentropy_248',\n",
       " 'byteentropy_249',\n",
       " 'byteentropy_250',\n",
       " 'byteentropy_251',\n",
       " 'byteentropy_252',\n",
       " 'byteentropy_253',\n",
       " 'byteentropy_254',\n",
       " 'byteentropy_255',\n",
       " 'strings_numstrings',\n",
       " 'strings_avlength',\n",
       " 'strings_printabledist_0',\n",
       " 'strings_printabledist_1',\n",
       " 'strings_printabledist_2',\n",
       " 'strings_printabledist_3',\n",
       " 'strings_printabledist_4',\n",
       " 'strings_printabledist_5',\n",
       " 'strings_printabledist_6',\n",
       " 'strings_printabledist_7',\n",
       " 'strings_printabledist_8',\n",
       " 'strings_printabledist_9',\n",
       " 'strings_printabledist_10',\n",
       " 'strings_printabledist_11',\n",
       " 'strings_printabledist_12',\n",
       " 'strings_printabledist_13',\n",
       " 'strings_printabledist_14',\n",
       " 'strings_printabledist_15',\n",
       " 'strings_printabledist_16',\n",
       " 'strings_printabledist_17',\n",
       " 'strings_printabledist_18',\n",
       " 'strings_printabledist_19',\n",
       " 'strings_printabledist_20',\n",
       " 'strings_printabledist_21',\n",
       " 'strings_printabledist_22',\n",
       " 'strings_printabledist_23',\n",
       " 'strings_printabledist_24',\n",
       " 'strings_printabledist_25',\n",
       " 'strings_printabledist_26',\n",
       " 'strings_printabledist_27',\n",
       " 'strings_printabledist_28',\n",
       " 'strings_printabledist_29',\n",
       " 'strings_printabledist_30',\n",
       " 'strings_printabledist_31',\n",
       " 'strings_printabledist_32',\n",
       " 'strings_printabledist_33',\n",
       " 'strings_printabledist_34',\n",
       " 'strings_printabledist_35',\n",
       " 'strings_printabledist_36',\n",
       " 'strings_printabledist_37',\n",
       " 'strings_printabledist_38',\n",
       " 'strings_printabledist_39',\n",
       " 'strings_printabledist_40',\n",
       " 'strings_printabledist_41',\n",
       " 'strings_printabledist_42',\n",
       " 'strings_printabledist_43',\n",
       " 'strings_printabledist_44',\n",
       " 'strings_printabledist_45',\n",
       " 'strings_printabledist_46',\n",
       " 'strings_printabledist_47',\n",
       " 'strings_printabledist_48',\n",
       " 'strings_printabledist_49',\n",
       " 'strings_printabledist_50',\n",
       " 'strings_printabledist_51',\n",
       " 'strings_printabledist_52',\n",
       " 'strings_printabledist_53',\n",
       " 'strings_printabledist_54',\n",
       " 'strings_printabledist_55',\n",
       " 'strings_printabledist_56',\n",
       " 'strings_printabledist_57',\n",
       " 'strings_printabledist_58',\n",
       " 'strings_printabledist_59',\n",
       " 'strings_printabledist_60',\n",
       " 'strings_printabledist_61',\n",
       " 'strings_printabledist_62',\n",
       " 'strings_printabledist_63',\n",
       " 'strings_printabledist_64',\n",
       " 'strings_printabledist_65',\n",
       " 'strings_printabledist_66',\n",
       " 'strings_printabledist_67',\n",
       " 'strings_printabledist_68',\n",
       " 'strings_printabledist_69',\n",
       " 'strings_printabledist_70',\n",
       " 'strings_printabledist_71',\n",
       " 'strings_printabledist_72',\n",
       " 'strings_printabledist_73',\n",
       " 'strings_printabledist_74',\n",
       " 'strings_printabledist_75',\n",
       " 'strings_printabledist_76',\n",
       " 'strings_printabledist_77',\n",
       " 'strings_printabledist_78',\n",
       " 'strings_printabledist_79',\n",
       " 'strings_printabledist_80',\n",
       " 'strings_printabledist_81',\n",
       " 'strings_printabledist_82',\n",
       " 'strings_printabledist_83',\n",
       " 'strings_printabledist_84',\n",
       " 'strings_printabledist_85',\n",
       " 'strings_printabledist_86',\n",
       " 'strings_printabledist_87',\n",
       " 'strings_printabledist_88',\n",
       " 'strings_printabledist_89',\n",
       " 'strings_printabledist_90',\n",
       " 'strings_printabledist_91',\n",
       " 'strings_printabledist_92',\n",
       " 'strings_printabledist_93',\n",
       " 'strings_printabledist_94',\n",
       " 'strings_printabledist_95',\n",
       " 'strings_printables',\n",
       " 'strings_entropy',\n",
       " 'strings_paths',\n",
       " 'strings_urls',\n",
       " 'strings_registry',\n",
       " 'strings_MZ',\n",
       " 'general_size',\n",
       " 'general_vsize',\n",
       " 'general_has_debug',\n",
       " 'general_exports',\n",
       " 'general_imports',\n",
       " 'general_has_relocations',\n",
       " 'general_has_resources',\n",
       " 'general_has_signature',\n",
       " 'general_has_tls',\n",
       " 'general_symbols',\n",
       " 'header_coff_timestamp',\n",
       " 'header_coff_characteristics_AGGRESSIVE_WS_TRIM',\n",
       " 'header_coff_characteristics_BYTES_REVERSED_HI',\n",
       " 'header_coff_characteristics_BYTES_REVERSED_LO',\n",
       " 'header_coff_characteristics_CHARA_32BIT_MACHINE',\n",
       " 'header_coff_characteristics_DEBUG_STRIPPED',\n",
       " 'header_coff_characteristics_DLL',\n",
       " 'header_coff_characteristics_EXECUTABLE_IMAGE',\n",
       " 'header_coff_characteristics_LARGE_ADDRESS_AWARE',\n",
       " 'header_coff_characteristics_LINE_NUMS_STRIPPED',\n",
       " 'header_coff_characteristics_LOCAL_SYMS_STRIPPED',\n",
       " 'header_coff_characteristics_NET_RUN_FROM_SWAP',\n",
       " 'header_coff_characteristics_RELOCS_STRIPPED',\n",
       " 'header_coff_characteristics_REMOVABLE_RUN_FROM_SWAP',\n",
       " 'header_coff_characteristics_SYSTEM',\n",
       " 'header_coff_characteristics_UP_SYSTEM_ONLY',\n",
       " 'header_optional_dll_characteristics_DYNAMIC_BASE',\n",
       " 'header_optional_dll_characteristics_FORCE_INTEGRITY',\n",
       " 'header_optional_dll_characteristics_GUARD_CF',\n",
       " 'header_optional_dll_characteristics_HIGH_ENTROPY_VA',\n",
       " 'header_optional_dll_characteristics_NO_BIND',\n",
       " 'header_optional_dll_characteristics_NO_ISOLATION',\n",
       " 'header_optional_dll_characteristics_NO_SEH',\n",
       " 'header_optional_dll_characteristics_NX_COMPAT',\n",
       " 'header_optional_dll_characteristics_TERMINAL_SERVER_AWARE',\n",
       " 'header_optional_dll_characteristics_WDM_DRIVER',\n",
       " 'header_optional_major_image_version',\n",
       " 'header_optional_minor_image_version',\n",
       " 'header_optional_major_linker_version',\n",
       " 'header_optional_minor_linker_version',\n",
       " 'header_optional_major_operating_system_version',\n",
       " 'header_optional_minor_operating_system_version',\n",
       " 'header_optional_major_subsystem_version',\n",
       " 'header_optional_minor_subsystem_version',\n",
       " 'header_optional_sizeof_code',\n",
       " 'header_optional_sizeof_headers',\n",
       " 'header_optional_sizeof_heap_commit',\n",
       " 'datadirectories_0_size',\n",
       " 'datadirectories_0_virtual_address',\n",
       " 'datadirectories_1_size',\n",
       " 'datadirectories_1_virtual_address',\n",
       " 'datadirectories_2_size',\n",
       " 'datadirectories_2_virtual_address',\n",
       " 'datadirectories_3_size',\n",
       " 'datadirectories_3_virtual_address',\n",
       " 'datadirectories_4_size',\n",
       " 'datadirectories_4_virtual_address',\n",
       " 'datadirectories_5_size',\n",
       " 'datadirectories_5_virtual_address',\n",
       " 'datadirectories_6_size',\n",
       " 'datadirectories_6_virtual_address',\n",
       " 'datadirectories_7_size',\n",
       " 'datadirectories_7_virtual_address',\n",
       " 'datadirectories_8_size',\n",
       " 'datadirectories_8_virtual_address',\n",
       " 'datadirectories_9_size',\n",
       " 'datadirectories_9_virtual_address',\n",
       " 'datadirectories_11_size',\n",
       " 'datadirectories_11_virtual_address',\n",
       " 'datadirectories_12_size',\n",
       " 'datadirectories_12_virtual_address',\n",
       " 'datadirectories_13_size',\n",
       " 'datadirectories_13_virtual_address',\n",
       " 'datadirectories_14_size',\n",
       " 'datadirectories_14_virtual_address',\n",
       " 'datadirectories_15_size',\n",
       " 'datadirectories_15_virtual_address',\n",
       " 'category']"
      ]
     },
     "execution_count": 66,
     "metadata": {},
     "output_type": "execute_result"
    }
   ],
   "source": [
    "list(df1)"
   ]
  },
  {
   "cell_type": "code",
   "execution_count": 55,
   "id": "ba206cf2",
   "metadata": {},
   "outputs": [],
   "source": [
    "malware = df1[df1['category'] == 1]\n",
    "not_malware = df1[df1['category'] == 0]"
   ]
  },
  {
   "cell_type": "code",
   "execution_count": 81,
   "id": "58b3da2a",
   "metadata": {},
   "outputs": [],
   "source": [
    "def dist_plotter(feature_name):\n",
    "    fig, ax = plt.subplots(2,1)\n",
    "#     ax.set(ylabel='common ylabel', title=feature_name)\n",
    "    sns.violinplot(malware[feature_name], inner=\"quartile\", ax=ax[0], color='r')\n",
    "    sns.violinplot(not_malware[feature_name], inner=\"quartile\", ax=ax[1], color='r')"
   ]
  },
  {
   "cell_type": "code",
   "execution_count": 82,
   "id": "6298ffff",
   "metadata": {},
   "outputs": [
    {
     "data": {
      "image/png": "[encoded data removed]",
      "text/plain": [
       "<Figure size 432x288 with 2 Axes>"
      ]
     },
     "metadata": {
      "needs_background": "light"
     },
     "output_type": "display_data"
    }
   ],
   "source": [
    "dist_plotter('byteentropy_211')"
   ]
  },
  {
   "cell_type": "code",
   "execution_count": null,
   "id": "c806edee",
   "metadata": {},
   "outputs": [],
   "source": []
  },
  {
   "cell_type": "code",
   "execution_count": null,
   "id": "10210c56",
   "metadata": {},
   "outputs": [],
   "source": []
  },
  {
   "cell_type": "markdown",
   "id": "8956859c",
   "metadata": {},
   "source": [
    "## Undersampling"
   ]
  },
  {
   "cell_type": "markdown",
   "id": "d318fbbb",
   "metadata": {},
   "source": [
    "Since only 5% of entries are malware, we want a similar 50/50 split between malware and not malware."
   ]
  },
  {
   "cell_type": "code",
   "execution_count": 9,
   "id": "1f70e5aa",
   "metadata": {},
   "outputs": [],
   "source": [
    "majority = df1[df1.category==0] # Majority class\n",
    "minority = df1[df1.category==1] # Minority class"
   ]
  },
  {
   "cell_type": "code",
   "execution_count": 10,
   "id": "a7f6d185",
   "metadata": {},
   "outputs": [
    {
     "data": {
      "text/plain": [
       "0    900\n",
       "1    900\n",
       "Name: category, dtype: int64"
      ]
     },
     "execution_count": 10,
     "metadata": {},
     "output_type": "execute_result"
    }
   ],
   "source": [
    "majority_undersampled = resample(majority, replace=False, n_samples=900) # Randomly selects 900 records from majority to match minority class size\n",
    "# New downsampled dataset\n",
    "df_undersampled = pd.concat([majority_undersampled, minority])  # Minority class + sample of 900 from majority\n",
    "df_undersampled.category.value_counts()"
   ]
  },
  {
   "cell_type": "code",
   "execution_count": 11,
   "id": "ce7e604e",
   "metadata": {},
   "outputs": [],
   "source": [
    "df = df_undersampled #make it a new df"
   ]
  },
  {
   "cell_type": "code",
   "execution_count": 12,
   "id": "2a95437d",
   "metadata": {},
   "outputs": [],
   "source": [
    "X = df.drop('category', axis=1) #X is everything but the 'category' col"
   ]
  },
  {
   "cell_type": "code",
   "execution_count": 13,
   "id": "5d485926",
   "metadata": {},
   "outputs": [],
   "source": [
    "y = df['category'] #y is just the target column"
   ]
  },
  {
   "cell_type": "code",
   "execution_count": 14,
   "id": "7897ed31",
   "metadata": {},
   "outputs": [],
   "source": [
    "X = X._get_numeric_data() #drop all nonnumeric ones (for now?)"
   ]
  },
  {
   "cell_type": "code",
   "execution_count": 15,
   "id": "81a2c68e",
   "metadata": {},
   "outputs": [
    {
     "name": "stdout",
     "output_type": "stream",
     "text": [
      "(1800, 693) (1800,)\n"
     ]
    }
   ],
   "source": [
    "print(X.shape, y.shape) #sanity check arrays"
   ]
  },
  {
   "cell_type": "markdown",
   "id": "7faad1f1",
   "metadata": {},
   "source": [
    "## Feature Selection with ANOVA"
   ]
  },
  {
   "cell_type": "markdown",
   "id": "62dcf6ee",
   "metadata": {},
   "source": [
    "Ideally should have selected features after heatmaps/correlation plots/distributions etc but skipped all that for now.\n",
    "\n",
    "This is automatic but more of a \"black box\"."
   ]
  },
  {
   "cell_type": "code",
   "execution_count": 16,
   "id": "e58d54f4",
   "metadata": {},
   "outputs": [],
   "source": [
    "X_train, X_test, y_train, y_test = train_test_split(X, y, test_size=0.2) #train test split 80/20"
   ]
  },
  {
   "cell_type": "code",
   "execution_count": null,
   "id": "6a792bd4",
   "metadata": {},
   "outputs": [],
   "source": [
    "fs = SelectKBest(score_func=f_classif, k=600) #THIS K IS HOW MANY FEATURES YOU WANT\n",
    "fs.fit(X_train, y_train)\n",
    "mask = fs.get_support()\n",
    "new_features = X_train.columns[mask]"
   ]
  },
  {
   "cell_type": "code",
   "execution_count": 18,
   "id": "82449ae4",
   "metadata": {},
   "outputs": [],
   "source": [
    "X_train_fs = X_train[new_features]\n",
    "X_test_fs = X_test[new_features]"
   ]
  },
  {
   "cell_type": "code",
   "execution_count": 19,
   "id": "e27959d9",
   "metadata": {},
   "outputs": [],
   "source": [
    "# for i in range(len(fs.scores_[:10])):\n",
    "#     print('Feature %d: %f' % (i, fs.scores_[i]))\n",
    "# # plot the scores\n",
    "#     plt.bar([i for i in range(len(fs.scores_))], fs.scores_)\n",
    "#     plt.show()"
   ]
  },
  {
   "cell_type": "markdown",
   "id": "b8375b69",
   "metadata": {},
   "source": [
    "Now we can use X_train_fs and X_test_fs in place of X_train and X_test."
   ]
  },
  {
   "cell_type": "code",
   "execution_count": 20,
   "id": "1378e470",
   "metadata": {
    "scrolled": false
   },
   "outputs": [
    {
     "name": "stdout",
     "output_type": "stream",
     "text": [
      "(1440, 600) (360, 600)\n"
     ]
    }
   ],
   "source": [
    "print(X_train_fs.shape, X_test_fs.shape)"
   ]
  },
  {
   "cell_type": "code",
   "execution_count": 21,
   "id": "6b5a9930",
   "metadata": {
    "scrolled": true
   },
   "outputs": [
    {
     "name": "stdout",
     "output_type": "stream",
     "text": [
      "(1440,) (360,)\n"
     ]
    }
   ],
   "source": [
    "print(y_train.shape, y_test.shape)"
   ]
  },
  {
   "cell_type": "markdown",
   "id": "7977a7bf",
   "metadata": {},
   "source": [
    "## Modeling"
   ]
  },
  {
   "cell_type": "markdown",
   "id": "94ee8fe7",
   "metadata": {},
   "source": [
    "This function basically fits a specified model and outputs it's f1_score as well as ROC curve, can add more graphs/plots to it as well."
   ]
  },
  {
   "cell_type": "code",
   "execution_count": 22,
   "id": "0c28500b",
   "metadata": {},
   "outputs": [],
   "source": [
    "def modeler(model):\n",
    "    model.fit(X_train_fs, y_train) #fit specified model\n",
    "    y_pred = model.predict(X_test_fs) #predict on test set\n",
    "    f1 = f1_score(y_test, y_pred) #get f1 score\n",
    "    print('F1 Score:', f1)\n",
    "    print(metrics.confusion_matrix(y_test, y_pred))\n",
    "    \n",
    "    #this plots the ROC curve, play around iwth it\n",
    "    from sklearn.metrics import roc_curve, auc\n",
    "    fpr, tpr, thresholds = roc_curve(y_pred, y_test)\n",
    "    roc_auc = auc(fpr, tpr)\n",
    "\n",
    "    plt.figure()\n",
    "    plt.plot(fpr, tpr, color='darkorange', label='ROC curve (area = %0.2f)' % roc_auc)\n",
    "    plt.plot([0, 1], [0, 1], color='navy', linestyle='--')\n",
    "    plt.xlim([0.0, 1.0])\n",
    "    plt.ylim([0.0, 1.05])\n",
    "    plt.xlabel('False Positive Rate')\n",
    "    plt.ylabel('True Positive Rate')\n",
    "    plt.title('Receiver operating characteristic')\n",
    "    plt.legend(loc=\"lower right\")\n",
    "    plt.show()"
   ]
  },
  {
   "cell_type": "code",
   "execution_count": 23,
   "id": "6a6991c5",
   "metadata": {},
   "outputs": [
    {
     "name": "stdout",
     "output_type": "stream",
     "text": [
      "F1 Score: 0.6584615384615384\n",
      "[[142  32]\n",
      " [ 79 107]]\n"
     ]
    },
    {
     "data": {
      "image/png": "[encoded data removed]",
      "text/plain": [
       "<Figure size 432x288 with 1 Axes>"
      ]
     },
     "metadata": {
      "needs_background": "light"
     },
     "output_type": "display_data"
    }
   ],
   "source": [
    "lr = LogisticRegression()\n",
    "modeler(lr)"
   ]
  },
  {
   "cell_type": "code",
   "execution_count": 24,
   "id": "d8c073fb",
   "metadata": {
    "scrolled": true
   },
   "outputs": [
    {
     "name": "stdout",
     "output_type": "stream",
     "text": [
      "F1 Score: 0.906166219839142\n",
      "[[156  18]\n",
      " [ 17 169]]\n"
     ]
    },
    {
     "data": {
      "image/png": "[encoded data removed]",
      "text/plain": [
       "<Figure size 432x288 with 1 Axes>"
      ]
     },
     "metadata": {
      "needs_background": "light"
     },
     "output_type": "display_data"
    }
   ],
   "source": [
    "lgbm = lgb.LGBMClassifier()\n",
    "modeler(lgbm)"
   ]
  },
  {
   "cell_type": "code",
   "execution_count": 25,
   "id": "79c2a5aa",
   "metadata": {},
   "outputs": [
    {
     "name": "stdout",
     "output_type": "stream",
     "text": [
      "[07:37:14] WARNING: /Users/runner/miniforge3/conda-bld/xgboost-split_1634712680264/work/src/learner.cc:1115: Starting in XGBoost 1.3.0, the default evaluation metric used with the objective 'binary:logistic' was changed from 'error' to 'logloss'. Explicitly set eval_metric if you'd like to restore the old behavior.\n",
      "F1 Score: 0.888888888888889\n",
      "[[155  19]\n",
      " [ 22 164]]\n"
     ]
    },
    {
     "data": {
      "image/png": "[encoded data removed]",
      "text/plain": [
       "<Figure size 432x288 with 1 Axes>"
      ]
     },
     "metadata": {
      "needs_background": "light"
     },
     "output_type": "display_data"
    }
   ],
   "source": [
    "xgbc = xgb.XGBClassifier()\n",
    "modeler(xgbc)"
   ]
  },
  {
   "cell_type": "code",
   "execution_count": 26,
   "id": "124fa26f",
   "metadata": {},
   "outputs": [
    {
     "name": "stdout",
     "output_type": "stream",
     "text": [
      "F1 Score: 0.8672086720867209\n",
      "[[151  23]\n",
      " [ 26 160]]\n"
     ]
    },
    {
     "data": {
      "image/png": "[encoded data removed]",
      "text/plain": [
       "<Figure size 432x288 with 1 Axes>"
      ]
     },
     "metadata": {
      "needs_background": "light"
     },
     "output_type": "display_data"
    }
   ],
   "source": [
    "from sklearn.ensemble import RandomForestClassifier\n",
    "rf = RandomForestClassifier()\n",
    "modeler(rf)"
   ]
  },
  {
   "cell_type": "code",
   "execution_count": 27,
   "id": "acffb742",
   "metadata": {},
   "outputs": [
    {
     "name": "stdout",
     "output_type": "stream",
     "text": [
      "F1 Score: 0.6802218114602587\n",
      "[[  3 171]\n",
      " [  2 184]]\n"
     ]
    },
    {
     "data": {
      "image/png": "[encoded data removed]",
      "text/plain": [
       "<Figure size 432x288 with 1 Axes>"
      ]
     },
     "metadata": {
      "needs_background": "light"
     },
     "output_type": "display_data"
    }
   ],
   "source": [
    "from sklearn.svm import SVC\n",
    "svm = SVC()\n",
    "modeler(svm)"
   ]
  },
  {
   "cell_type": "code",
   "execution_count": 28,
   "id": "c442ea2e",
   "metadata": {},
   "outputs": [
    {
     "name": "stdout",
     "output_type": "stream",
     "text": [
      "F1 Score: 0.7865168539325843\n",
      "[[144  30]\n",
      " [ 46 140]]\n"
     ]
    },
    {
     "data": {
      "image/png": "[encoded data removed]",
      "text/plain": [
       "<Figure size 432x288 with 1 Axes>"
      ]
     },
     "metadata": {
      "needs_background": "light"
     },
     "output_type": "display_data"
    }
   ],
   "source": [
    "from sklearn.neighbors import KNeighborsClassifier\n",
    "knn = KNeighborsClassifier()\n",
    "modeler(knn)"
   ]
  },
  {
   "cell_type": "code",
   "execution_count": 29,
   "id": "526f394f",
   "metadata": {},
   "outputs": [
    {
     "name": "stdout",
     "output_type": "stream",
     "text": [
      "F1 Score: 0.8191489361702128\n",
      "[[138  36]\n",
      " [ 32 154]]\n"
     ]
    },
    {
     "data": {
      "image/png": "[encoded data removed]",
      "text/plain": [
       "<Figure size 432x288 with 1 Axes>"
      ]
     },
     "metadata": {
      "needs_background": "light"
     },
     "output_type": "display_data"
    }
   ],
   "source": [
    "from sklearn import tree\n",
    "dt = tree.DecisionTreeClassifier()\n",
    "modeler(dt)"
   ]
  },
  {
   "cell_type": "markdown",
   "id": "311b8688",
   "metadata": {},
   "source": [
    "Best ones seem to be LGBM and XGB. Ideal ROC graph looks hugs the top left corner."
   ]
  },
  {
   "cell_type": "markdown",
   "id": "a4fa6f4e",
   "metadata": {},
   "source": [
    "## Hyperparameter Optimization"
   ]
  },
  {
   "cell_type": "markdown",
   "id": "a23e892a",
   "metadata": {},
   "source": [
    "Time to tune with Hyperopt.\n",
    "(Scaling/normalizing isn't needed for gradient boosted decision trees so skip it)"
   ]
  },
  {
   "cell_type": "markdown",
   "id": "bdf41687",
   "metadata": {},
   "source": [
    "# EVERYONE CAN TRY OPTIMIZING WITH DIFFERENT HYPERPARAMETERS LIKE IN THE COMMENTED OUT LINES, check the user docs for more parameters"
   ]
  },
  {
   "cell_type": "code",
   "execution_count": 30,
   "id": "c27890d3",
   "metadata": {},
   "outputs": [],
   "source": [
    "#hyperparameter domain to search over\n",
    "hyperparam_space = {\n",
    "    'num_leaves': hp.choice('num_leaves', np.arange(30, 250, 1)),\n",
    "    'learning_rate': hp.quniform('learning_rate', 0, 0.3, 0.01),\n",
    "#     'min_gain_to_split': hp.quniform('min_gain_to_split', 0, 15, 0.1),\n",
    "#     'min_data_in_leaf': hp.choice('min_data_in_leaf', np.arange(200, 10000, 100))\n",
    "#     lambda: L2 regularization (Ridge)\n",
    "#     alpha: L1 regularization (Lasso)\n",
    "}"
   ]
  },
  {
   "cell_type": "markdown",
   "id": "8be52d91",
   "metadata": {},
   "source": [
    "Following code takes a couple minutes to run:"
   ]
  },
  {
   "cell_type": "code",
   "execution_count": 31,
   "id": "1b455126",
   "metadata": {
    "scrolled": true
   },
   "outputs": [
    {
     "name": "stdout",
     "output_type": "stream",
     "text": [
      "[1]\ttraining's binary_logloss: 0.633168\tvalid_1's binary_logloss: 0.647318                            \n",
      "Training until validation scores don't improve for 20 rounds                                          \n",
      "[2]\ttraining's binary_logloss: 0.582878\tvalid_1's binary_logloss: 0.603735                            \n",
      "[3]\ttraining's binary_logloss: 0.538647\tvalid_1's binary_logloss: 0.571732                            \n",
      "[4]\ttraining's binary_logloss: 0.49983\tvalid_1's binary_logloss: 0.545291                             \n",
      "[5]\ttraining's binary_logloss: 0.466758\tvalid_1's binary_logloss: 0.51937                             \n",
      "[6]\ttraining's binary_logloss: 0.434994\tvalid_1's binary_logloss: 0.499087                            \n",
      "[7]\ttraining's binary_logloss: 0.406198\tvalid_1's binary_logloss: 0.480253                            \n",
      "[8]\ttraining's binary_logloss: 0.382123\tvalid_1's binary_logloss: 0.464093                            \n",
      "[9]\ttraining's binary_logloss: 0.358162\tvalid_1's binary_logloss: 0.448274                            \n",
      "[10]\ttraining's binary_logloss: 0.337531\tvalid_1's binary_logloss: 0.436561                           \n",
      "[11]\ttraining's binary_logloss: 0.318044\tvalid_1's binary_logloss: 0.420736                           \n",
      "[12]\ttraining's binary_logloss: 0.300206\tvalid_1's binary_logloss: 0.408488                           \n",
      "[13]\ttraining's binary_logloss: 0.283732\tvalid_1's binary_logloss: 0.395818                           \n",
      "[14]\ttraining's binary_logloss: 0.267929\tvalid_1's binary_logloss: 0.383734                           \n",
      "[15]\ttraining's binary_logloss: 0.253268\tvalid_1's binary_logloss: 0.373684                           \n",
      "[16]\ttraining's binary_logloss: 0.240003\tvalid_1's binary_logloss: 0.367293                           \n",
      "[17]\ttraining's binary_logloss: 0.227695\tvalid_1's binary_logloss: 0.357536                           \n",
      "[18]\ttraining's binary_logloss: 0.215107\tvalid_1's binary_logloss: 0.349044                           \n",
      "[19]\ttraining's binary_logloss: 0.202793\tvalid_1's binary_logloss: 0.343386                           \n",
      "[20]\ttraining's binary_logloss: 0.192458\tvalid_1's binary_logloss: 0.336553                           \n",
      "[21]\ttraining's binary_logloss: 0.182199\tvalid_1's binary_logloss: 0.331693                           \n",
      "[22]\ttraining's binary_logloss: 0.172673\tvalid_1's binary_logloss: 0.324908                           \n",
      "[23]\ttraining's binary_logloss: 0.163682\tvalid_1's binary_logloss: 0.319326                           \n",
      "[24]\ttraining's binary_logloss: 0.155319\tvalid_1's binary_logloss: 0.315174                           \n",
      "[25]\ttraining's binary_logloss: 0.147472\tvalid_1's binary_logloss: 0.311643                           \n",
      "[26]\ttraining's binary_logloss: 0.139517\tvalid_1's binary_logloss: 0.307611                           \n",
      "[27]\ttraining's binary_logloss: 0.132754\tvalid_1's binary_logloss: 0.305731                           \n",
      "[28]\ttraining's binary_logloss: 0.125215\tvalid_1's binary_logloss: 0.302295                           \n",
      "[29]\ttraining's binary_logloss: 0.118301\tvalid_1's binary_logloss: 0.298916                           \n",
      "[30]\ttraining's binary_logloss: 0.111929\tvalid_1's binary_logloss: 0.297051                           \n",
      "[31]\ttraining's binary_logloss: 0.105774\tvalid_1's binary_logloss: 0.291905                           \n",
      "[32]\ttraining's binary_logloss: 0.0996301\tvalid_1's binary_logloss: 0.290476                          \n",
      "[33]\ttraining's binary_logloss: 0.0942741\tvalid_1's binary_logloss: 0.289414                          \n",
      "[34]\ttraining's binary_logloss: 0.0891748\tvalid_1's binary_logloss: 0.28609                           \n",
      "[35]\ttraining's binary_logloss: 0.0844116\tvalid_1's binary_logloss: 0.28385                           \n",
      "[36]\ttraining's binary_logloss: 0.0800927\tvalid_1's binary_logloss: 0.284201                          \n",
      "[37]\ttraining's binary_logloss: 0.0759931\tvalid_1's binary_logloss: 0.281666                          \n",
      "[38]\ttraining's binary_logloss: 0.0719616\tvalid_1's binary_logloss: 0.279541                          \n",
      "[39]\ttraining's binary_logloss: 0.0685314\tvalid_1's binary_logloss: 0.277381                          \n",
      "[40]\ttraining's binary_logloss: 0.0648767\tvalid_1's binary_logloss: 0.27723                           \n",
      "[41]\ttraining's binary_logloss: 0.0616487\tvalid_1's binary_logloss: 0.277119                          \n",
      "[42]\ttraining's binary_logloss: 0.0582863\tvalid_1's binary_logloss: 0.277941                          \n",
      "[43]\ttraining's binary_logloss: 0.0552731\tvalid_1's binary_logloss: 0.277553                          \n",
      "[44]\ttraining's binary_logloss: 0.0523299\tvalid_1's binary_logloss: 0.275705                          \n",
      "[45]\ttraining's binary_logloss: 0.0496275\tvalid_1's binary_logloss: 0.274129                          \n",
      "[46]\ttraining's binary_logloss: 0.046943\tvalid_1's binary_logloss: 0.273413                           \n",
      "[47]\ttraining's binary_logloss: 0.0445653\tvalid_1's binary_logloss: 0.272262                          \n",
      "[48]\ttraining's binary_logloss: 0.0423595\tvalid_1's binary_logloss: 0.272635                          \n",
      "[49]\ttraining's binary_logloss: 0.0403273\tvalid_1's binary_logloss: 0.2726                            \n",
      "[50]\ttraining's binary_logloss: 0.0380725\tvalid_1's binary_logloss: 0.271486                          \n",
      "[51]\ttraining's binary_logloss: 0.0360478\tvalid_1's binary_logloss: 0.271091                          \n",
      "[52]\ttraining's binary_logloss: 0.0342353\tvalid_1's binary_logloss: 0.272074                          \n",
      "[53]\ttraining's binary_logloss: 0.0323851\tvalid_1's binary_logloss: 0.272507                          \n",
      "[54]\ttraining's binary_logloss: 0.0307621\tvalid_1's binary_logloss: 0.273937                          \n",
      "[55]\ttraining's binary_logloss: 0.0291221\tvalid_1's binary_logloss: 0.275308                          \n",
      "[56]\ttraining's binary_logloss: 0.0275527\tvalid_1's binary_logloss: 0.275701                          \n",
      "[57]\ttraining's binary_logloss: 0.0261174\tvalid_1's binary_logloss: 0.2745                            \n",
      "[58]\ttraining's binary_logloss: 0.0247167\tvalid_1's binary_logloss: 0.276407                          \n",
      "[59]\ttraining's binary_logloss: 0.0233902\tvalid_1's binary_logloss: 0.274994                          \n",
      "[60]\ttraining's binary_logloss: 0.0221403\tvalid_1's binary_logloss: 0.274793                          \n",
      "[61]\ttraining's binary_logloss: 0.0210166\tvalid_1's binary_logloss: 0.275462                          \n",
      "[62]\ttraining's binary_logloss: 0.0199343\tvalid_1's binary_logloss: 0.275898                          \n",
      "[63]\ttraining's binary_logloss: 0.0189671\tvalid_1's binary_logloss: 0.277405                          \n",
      "[64]\ttraining's binary_logloss: 0.0180999\tvalid_1's binary_logloss: 0.279519                          \n",
      "[65]\ttraining's binary_logloss: 0.0171717\tvalid_1's binary_logloss: 0.280332                          \n",
      "[66]\ttraining's binary_logloss: 0.0162376\tvalid_1's binary_logloss: 0.279775                          \n",
      "[67]\ttraining's binary_logloss: 0.0153645\tvalid_1's binary_logloss: 0.281553                          \n",
      "[68]\ttraining's binary_logloss: 0.0146002\tvalid_1's binary_logloss: 0.284287                          \n",
      "[69]\ttraining's binary_logloss: 0.0138573\tvalid_1's binary_logloss: 0.282998                          \n",
      "[70]\ttraining's binary_logloss: 0.0130628\tvalid_1's binary_logloss: 0.283339                          \n",
      "[71]\ttraining's binary_logloss: 0.0124652\tvalid_1's binary_logloss: 0.285037                          \n",
      "Early stopping, best iteration is:                                                                    \n",
      "[51]\ttraining's binary_logloss: 0.0360478\tvalid_1's binary_logloss: 0.271091\n",
      "-0.9632289753658089                                                                                   \n",
      "[1]\ttraining's binary_logloss: 0.590422\tvalid_1's binary_logloss: 0.615133                            \n",
      "Training until validation scores don't improve for 20 rounds                                          \n",
      "[2]\ttraining's binary_logloss: 0.514068\tvalid_1's binary_logloss: 0.554695                            \n",
      "[3]\ttraining's binary_logloss: 0.453276\tvalid_1's binary_logloss: 0.507105                            \n"
     ]
    },
    {
     "name": "stdout",
     "output_type": "stream",
     "text": [
      "[4]\ttraining's binary_logloss: 0.402043\tvalid_1's binary_logloss: 0.473459                            \n",
      "[5]\ttraining's binary_logloss: 0.360786\tvalid_1's binary_logloss: 0.449021                            \n",
      "[6]\ttraining's binary_logloss: 0.324215\tvalid_1's binary_logloss: 0.418339                            \n",
      "[7]\ttraining's binary_logloss: 0.293211\tvalid_1's binary_logloss: 0.403127                            \n",
      "[8]\ttraining's binary_logloss: 0.265927\tvalid_1's binary_logloss: 0.382065                            \n",
      "[9]\ttraining's binary_logloss: 0.24069\tvalid_1's binary_logloss: 0.366533                             \n",
      "[10]\ttraining's binary_logloss: 0.217146\tvalid_1's binary_logloss: 0.354                              \n",
      "[11]\ttraining's binary_logloss: 0.199061\tvalid_1's binary_logloss: 0.346734                           \n",
      "[12]\ttraining's binary_logloss: 0.181372\tvalid_1's binary_logloss: 0.333429                           \n",
      "[13]\ttraining's binary_logloss: 0.165019\tvalid_1's binary_logloss: 0.320034                           \n",
      "[14]\ttraining's binary_logloss: 0.150527\tvalid_1's binary_logloss: 0.311398                           \n",
      "[15]\ttraining's binary_logloss: 0.136582\tvalid_1's binary_logloss: 0.302603                           \n",
      "[16]\ttraining's binary_logloss: 0.123924\tvalid_1's binary_logloss: 0.296005                           \n",
      "[17]\ttraining's binary_logloss: 0.112431\tvalid_1's binary_logloss: 0.28927                            \n",
      "[18]\ttraining's binary_logloss: 0.102723\tvalid_1's binary_logloss: 0.284916                           \n",
      "[19]\ttraining's binary_logloss: 0.0938034\tvalid_1's binary_logloss: 0.281602                          \n",
      "[20]\ttraining's binary_logloss: 0.0850331\tvalid_1's binary_logloss: 0.279083                          \n",
      "[21]\ttraining's binary_logloss: 0.0773894\tvalid_1's binary_logloss: 0.277884                          \n",
      "[22]\ttraining's binary_logloss: 0.0700011\tvalid_1's binary_logloss: 0.27532                           \n",
      "[23]\ttraining's binary_logloss: 0.0633753\tvalid_1's binary_logloss: 0.273687                          \n",
      "[24]\ttraining's binary_logloss: 0.0574272\tvalid_1's binary_logloss: 0.272824                          \n",
      "[25]\ttraining's binary_logloss: 0.0520936\tvalid_1's binary_logloss: 0.270091                          \n",
      "[26]\ttraining's binary_logloss: 0.0474452\tvalid_1's binary_logloss: 0.26593                           \n",
      "[27]\ttraining's binary_logloss: 0.0432197\tvalid_1's binary_logloss: 0.264014                          \n",
      "[28]\ttraining's binary_logloss: 0.0391921\tvalid_1's binary_logloss: 0.261551                          \n",
      "[29]\ttraining's binary_logloss: 0.0357431\tvalid_1's binary_logloss: 0.2604                            \n",
      "[30]\ttraining's binary_logloss: 0.0324472\tvalid_1's binary_logloss: 0.258424                          \n",
      "[31]\ttraining's binary_logloss: 0.0294957\tvalid_1's binary_logloss: 0.257648                          \n",
      "[32]\ttraining's binary_logloss: 0.0267575\tvalid_1's binary_logloss: 0.258849                          \n",
      "[33]\ttraining's binary_logloss: 0.024473\tvalid_1's binary_logloss: 0.259766                           \n",
      "[34]\ttraining's binary_logloss: 0.0222724\tvalid_1's binary_logloss: 0.260885                          \n",
      "[35]\ttraining's binary_logloss: 0.020421\tvalid_1's binary_logloss: 0.261692                           \n",
      "[36]\ttraining's binary_logloss: 0.0185603\tvalid_1's binary_logloss: 0.261729                          \n",
      "[37]\ttraining's binary_logloss: 0.0168632\tvalid_1's binary_logloss: 0.264863                          \n",
      "[38]\ttraining's binary_logloss: 0.0153603\tvalid_1's binary_logloss: 0.265717                          \n",
      "[39]\ttraining's binary_logloss: 0.0140978\tvalid_1's binary_logloss: 0.269368                          \n",
      "[40]\ttraining's binary_logloss: 0.0128294\tvalid_1's binary_logloss: 0.268428                          \n",
      "[41]\ttraining's binary_logloss: 0.0117211\tvalid_1's binary_logloss: 0.270766                          \n",
      "[42]\ttraining's binary_logloss: 0.0107422\tvalid_1's binary_logloss: 0.272238                          \n",
      "[43]\ttraining's binary_logloss: 0.00977463\tvalid_1's binary_logloss: 0.273414                         \n",
      "[44]\ttraining's binary_logloss: 0.00896461\tvalid_1's binary_logloss: 0.276755                         \n",
      "[45]\ttraining's binary_logloss: 0.00819687\tvalid_1's binary_logloss: 0.281864                         \n",
      "[46]\ttraining's binary_logloss: 0.00748516\tvalid_1's binary_logloss: 0.28393                          \n",
      "[47]\ttraining's binary_logloss: 0.00683462\tvalid_1's binary_logloss: 0.288281                         \n",
      "[48]\ttraining's binary_logloss: 0.00624456\tvalid_1's binary_logloss: 0.291754                         \n",
      "[49]\ttraining's binary_logloss: 0.00570917\tvalid_1's binary_logloss: 0.29297                          \n",
      "[50]\ttraining's binary_logloss: 0.00524951\tvalid_1's binary_logloss: 0.29597                          \n",
      "[51]\ttraining's binary_logloss: 0.00475732\tvalid_1's binary_logloss: 0.298414                         \n",
      "Early stopping, best iteration is:                                                                    \n",
      "[31]\ttraining's binary_logloss: 0.0294957\tvalid_1's binary_logloss: 0.257648\n",
      "-0.9630939519452244                                                                                   \n",
      "[1]\ttraining's binary_logloss: 0.596323\tvalid_1's binary_logloss: 0.619535                            \n",
      "Training until validation scores don't improve for 20 rounds                                          \n",
      "[2]\ttraining's binary_logloss: 0.523114\tvalid_1's binary_logloss: 0.561402                            \n",
      "[3]\ttraining's binary_logloss: 0.462427\tvalid_1's binary_logloss: 0.513109                            \n",
      "[4]\ttraining's binary_logloss: 0.412719\tvalid_1's binary_logloss: 0.478916                            \n",
      "[5]\ttraining's binary_logloss: 0.372013\tvalid_1's binary_logloss: 0.455037                            \n",
      "[6]\ttraining's binary_logloss: 0.335562\tvalid_1's binary_logloss: 0.422719                            \n",
      "[7]\ttraining's binary_logloss: 0.303218\tvalid_1's binary_logloss: 0.403097                            \n",
      "[8]\ttraining's binary_logloss: 0.275311\tvalid_1's binary_logloss: 0.37979                             \n",
      "[9]\ttraining's binary_logloss: 0.252263\tvalid_1's binary_logloss: 0.368226                            \n",
      "[10]\ttraining's binary_logloss: 0.231383\tvalid_1's binary_logloss: 0.360214                           \n",
      "[11]\ttraining's binary_logloss: 0.210733\tvalid_1's binary_logloss: 0.349381                           \n",
      "[12]\ttraining's binary_logloss: 0.192946\tvalid_1's binary_logloss: 0.34311                            \n",
      "[13]\ttraining's binary_logloss: 0.176512\tvalid_1's binary_logloss: 0.337841                           \n",
      "[14]\ttraining's binary_logloss: 0.161816\tvalid_1's binary_logloss: 0.329387                           \n",
      "[15]\ttraining's binary_logloss: 0.14832\tvalid_1's binary_logloss: 0.323937                            \n",
      "[16]\ttraining's binary_logloss: 0.135118\tvalid_1's binary_logloss: 0.318307                           \n",
      "[17]\ttraining's binary_logloss: 0.123438\tvalid_1's binary_logloss: 0.31288                            \n",
      "[18]\ttraining's binary_logloss: 0.112333\tvalid_1's binary_logloss: 0.307445                           \n",
      "[19]\ttraining's binary_logloss: 0.103299\tvalid_1's binary_logloss: 0.303223                           \n",
      "[20]\ttraining's binary_logloss: 0.0946898\tvalid_1's binary_logloss: 0.300397                          \n",
      "[21]\ttraining's binary_logloss: 0.0864484\tvalid_1's binary_logloss: 0.298958                          \n",
      "[22]\ttraining's binary_logloss: 0.0782532\tvalid_1's binary_logloss: 0.292954                          \n",
      "[23]\ttraining's binary_logloss: 0.0713586\tvalid_1's binary_logloss: 0.288226                          \n",
      "[24]\ttraining's binary_logloss: 0.065266\tvalid_1's binary_logloss: 0.28855                            \n",
      "[25]\ttraining's binary_logloss: 0.0597145\tvalid_1's binary_logloss: 0.287917                          \n",
      "[26]\ttraining's binary_logloss: 0.0545037\tvalid_1's binary_logloss: 0.284587                          \n",
      "[27]\ttraining's binary_logloss: 0.0501793\tvalid_1's binary_logloss: 0.284339                          \n"
     ]
    },
    {
     "name": "stdout",
     "output_type": "stream",
     "text": [
      "[28]\ttraining's binary_logloss: 0.0460493\tvalid_1's binary_logloss: 0.283623                          \n",
      "[29]\ttraining's binary_logloss: 0.0425585\tvalid_1's binary_logloss: 0.28079                           \n",
      "[30]\ttraining's binary_logloss: 0.0387707\tvalid_1's binary_logloss: 0.282168                          \n",
      "[31]\ttraining's binary_logloss: 0.0357501\tvalid_1's binary_logloss: 0.283039                          \n",
      "[32]\ttraining's binary_logloss: 0.0326404\tvalid_1's binary_logloss: 0.285367                          \n",
      "[33]\ttraining's binary_logloss: 0.0298797\tvalid_1's binary_logloss: 0.283769                          \n",
      "[34]\ttraining's binary_logloss: 0.027644\tvalid_1's binary_logloss: 0.284808                           \n",
      "[35]\ttraining's binary_logloss: 0.0254244\tvalid_1's binary_logloss: 0.28402                           \n",
      "[36]\ttraining's binary_logloss: 0.0234238\tvalid_1's binary_logloss: 0.284934                          \n",
      "[37]\ttraining's binary_logloss: 0.0215635\tvalid_1's binary_logloss: 0.286315                          \n",
      "[38]\ttraining's binary_logloss: 0.0198539\tvalid_1's binary_logloss: 0.284742                          \n",
      "[39]\ttraining's binary_logloss: 0.0182393\tvalid_1's binary_logloss: 0.28544                           \n",
      "[40]\ttraining's binary_logloss: 0.0167031\tvalid_1's binary_logloss: 0.286171                          \n",
      "[41]\ttraining's binary_logloss: 0.0153554\tvalid_1's binary_logloss: 0.287822                          \n",
      "[42]\ttraining's binary_logloss: 0.0141514\tvalid_1's binary_logloss: 0.289827                          \n",
      "[43]\ttraining's binary_logloss: 0.0129529\tvalid_1's binary_logloss: 0.292121                          \n",
      "[44]\ttraining's binary_logloss: 0.0118194\tvalid_1's binary_logloss: 0.295547                          \n",
      "[45]\ttraining's binary_logloss: 0.0108452\tvalid_1's binary_logloss: 0.297271                          \n",
      "[46]\ttraining's binary_logloss: 0.00999722\tvalid_1's binary_logloss: 0.300211                         \n",
      "[47]\ttraining's binary_logloss: 0.00926665\tvalid_1's binary_logloss: 0.303721                         \n",
      "[48]\ttraining's binary_logloss: 0.00845592\tvalid_1's binary_logloss: 0.30474                          \n",
      "[49]\ttraining's binary_logloss: 0.00769688\tvalid_1's binary_logloss: 0.305531                         \n",
      "Early stopping, best iteration is:                                                                    \n",
      "[29]\ttraining's binary_logloss: 0.0425585\tvalid_1's binary_logloss: 0.28079\n",
      "-0.9632096666333194                                                                                   \n",
      "[1]\ttraining's binary_logloss: 0.561937\tvalid_1's binary_logloss: 0.5941                              \n",
      "Training until validation scores don't improve for 20 rounds                                          \n",
      "[2]\ttraining's binary_logloss: 0.472142\tvalid_1's binary_logloss: 0.529849                            \n",
      "[3]\ttraining's binary_logloss: 0.402258\tvalid_1's binary_logloss: 0.487431                            \n",
      "[4]\ttraining's binary_logloss: 0.349754\tvalid_1's binary_logloss: 0.455752                            \n",
      "[5]\ttraining's binary_logloss: 0.307466\tvalid_1's binary_logloss: 0.427976                            \n",
      "[6]\ttraining's binary_logloss: 0.269074\tvalid_1's binary_logloss: 0.398772                            \n",
      "[7]\ttraining's binary_logloss: 0.235934\tvalid_1's binary_logloss: 0.378557                            \n",
      "[8]\ttraining's binary_logloss: 0.206555\tvalid_1's binary_logloss: 0.367555                            \n",
      "[9]\ttraining's binary_logloss: 0.182246\tvalid_1's binary_logloss: 0.346494                            \n",
      "[10]\ttraining's binary_logloss: 0.161434\tvalid_1's binary_logloss: 0.335752                           \n",
      "[11]\ttraining's binary_logloss: 0.143776\tvalid_1's binary_logloss: 0.321628                           \n",
      "[12]\ttraining's binary_logloss: 0.126485\tvalid_1's binary_logloss: 0.306332                           \n",
      "[13]\ttraining's binary_logloss: 0.110442\tvalid_1's binary_logloss: 0.302404                           \n",
      "[14]\ttraining's binary_logloss: 0.097269\tvalid_1's binary_logloss: 0.294216                           \n",
      "[15]\ttraining's binary_logloss: 0.0859173\tvalid_1's binary_logloss: 0.293344                          \n",
      "[16]\ttraining's binary_logloss: 0.0751938\tvalid_1's binary_logloss: 0.292338                          \n",
      "[17]\ttraining's binary_logloss: 0.0668015\tvalid_1's binary_logloss: 0.290501                          \n",
      "[18]\ttraining's binary_logloss: 0.0588626\tvalid_1's binary_logloss: 0.285429                          \n",
      "[19]\ttraining's binary_logloss: 0.0515689\tvalid_1's binary_logloss: 0.286202                          \n",
      "[20]\ttraining's binary_logloss: 0.0453882\tvalid_1's binary_logloss: 0.284288                          \n",
      "[21]\ttraining's binary_logloss: 0.0403851\tvalid_1's binary_logloss: 0.287354                          \n",
      "[22]\ttraining's binary_logloss: 0.0358374\tvalid_1's binary_logloss: 0.287905                          \n",
      "[23]\ttraining's binary_logloss: 0.0320503\tvalid_1's binary_logloss: 0.285877                          \n",
      "[24]\ttraining's binary_logloss: 0.0283216\tvalid_1's binary_logloss: 0.280433                          \n",
      "[25]\ttraining's binary_logloss: 0.0249808\tvalid_1's binary_logloss: 0.280686                          \n",
      "[26]\ttraining's binary_logloss: 0.0222593\tvalid_1's binary_logloss: 0.280131                          \n",
      "[27]\ttraining's binary_logloss: 0.019676\tvalid_1's binary_logloss: 0.282984                           \n",
      "[28]\ttraining's binary_logloss: 0.0173504\tvalid_1's binary_logloss: 0.291526                          \n",
      "[29]\ttraining's binary_logloss: 0.0152765\tvalid_1's binary_logloss: 0.299666                          \n",
      "[30]\ttraining's binary_logloss: 0.0135406\tvalid_1's binary_logloss: 0.300775                          \n",
      "[31]\ttraining's binary_logloss: 0.0121093\tvalid_1's binary_logloss: 0.308018                          \n",
      "[32]\ttraining's binary_logloss: 0.0108527\tvalid_1's binary_logloss: 0.31168                           \n",
      "[33]\ttraining's binary_logloss: 0.00963676\tvalid_1's binary_logloss: 0.311658                         \n",
      "[34]\ttraining's binary_logloss: 0.00858495\tvalid_1's binary_logloss: 0.317352                         \n",
      "[35]\ttraining's binary_logloss: 0.00766443\tvalid_1's binary_logloss: 0.320868                         \n",
      "[36]\ttraining's binary_logloss: 0.00672147\tvalid_1's binary_logloss: 0.325877                         \n",
      "[37]\ttraining's binary_logloss: 0.00598016\tvalid_1's binary_logloss: 0.323811                         \n",
      "[38]\ttraining's binary_logloss: 0.00536129\tvalid_1's binary_logloss: 0.326626                         \n",
      "[39]\ttraining's binary_logloss: 0.00470499\tvalid_1's binary_logloss: 0.327153                         \n",
      "[40]\ttraining's binary_logloss: 0.00408698\tvalid_1's binary_logloss: 0.329791                         \n",
      "[41]\ttraining's binary_logloss: 0.00361186\tvalid_1's binary_logloss: 0.331302                         \n",
      "[42]\ttraining's binary_logloss: 0.00322937\tvalid_1's binary_logloss: 0.333266                         \n",
      "[43]\ttraining's binary_logloss: 0.00285884\tvalid_1's binary_logloss: 0.338285                         \n",
      "[44]\ttraining's binary_logloss: 0.00253791\tvalid_1's binary_logloss: 0.342083                         \n",
      "[45]\ttraining's binary_logloss: 0.00227594\tvalid_1's binary_logloss: 0.342814                         \n",
      "[46]\ttraining's binary_logloss: 0.00201935\tvalid_1's binary_logloss: 0.343742                         \n",
      "Early stopping, best iteration is:                                                                    \n",
      "[26]\ttraining's binary_logloss: 0.0222593\tvalid_1's binary_logloss: 0.280131\n",
      "-0.9635954095535499                                                                                   \n",
      "[1]\ttraining's binary_logloss: 0.540356\tvalid_1's binary_logloss: 0.578426                            \n",
      "Training until validation scores don't improve for 20 rounds                                          \n",
      "[2]\ttraining's binary_logloss: 0.442202\tvalid_1's binary_logloss: 0.503084                            \n",
      "[3]\ttraining's binary_logloss: 0.372187\tvalid_1's binary_logloss: 0.455123                            \n",
      "[4]\ttraining's binary_logloss: 0.311813\tvalid_1's binary_logloss: 0.416812                            \n"
     ]
    },
    {
     "name": "stdout",
     "output_type": "stream",
     "text": [
      "[5]\ttraining's binary_logloss: 0.266153\tvalid_1's binary_logloss: 0.383839                            \n",
      "[6]\ttraining's binary_logloss: 0.229151\tvalid_1's binary_logloss: 0.371635                            \n",
      "[7]\ttraining's binary_logloss: 0.197193\tvalid_1's binary_logloss: 0.35404                             \n",
      "[8]\ttraining's binary_logloss: 0.170686\tvalid_1's binary_logloss: 0.342839                            \n",
      "[9]\ttraining's binary_logloss: 0.146053\tvalid_1's binary_logloss: 0.330032                            \n",
      "[10]\ttraining's binary_logloss: 0.126932\tvalid_1's binary_logloss: 0.325161                           \n",
      "[11]\ttraining's binary_logloss: 0.108709\tvalid_1's binary_logloss: 0.314395                           \n",
      "[12]\ttraining's binary_logloss: 0.0937296\tvalid_1's binary_logloss: 0.304367                          \n",
      "[13]\ttraining's binary_logloss: 0.0809669\tvalid_1's binary_logloss: 0.298842                          \n",
      "[14]\ttraining's binary_logloss: 0.068385\tvalid_1's binary_logloss: 0.293732                           \n",
      "[15]\ttraining's binary_logloss: 0.0588258\tvalid_1's binary_logloss: 0.289884                          \n",
      "[16]\ttraining's binary_logloss: 0.0503756\tvalid_1's binary_logloss: 0.288662                          \n",
      "[17]\ttraining's binary_logloss: 0.0433222\tvalid_1's binary_logloss: 0.286088                          \n",
      "[18]\ttraining's binary_logloss: 0.0375404\tvalid_1's binary_logloss: 0.277473                          \n",
      "[19]\ttraining's binary_logloss: 0.032593\tvalid_1's binary_logloss: 0.274816                           \n",
      "[20]\ttraining's binary_logloss: 0.0280684\tvalid_1's binary_logloss: 0.275565                          \n",
      "[21]\ttraining's binary_logloss: 0.0240186\tvalid_1's binary_logloss: 0.275829                          \n",
      "[22]\ttraining's binary_logloss: 0.0209437\tvalid_1's binary_logloss: 0.279767                          \n",
      "[23]\ttraining's binary_logloss: 0.0180833\tvalid_1's binary_logloss: 0.28094                           \n",
      "[24]\ttraining's binary_logloss: 0.015811\tvalid_1's binary_logloss: 0.280844                           \n",
      "[25]\ttraining's binary_logloss: 0.0138087\tvalid_1's binary_logloss: 0.286496                          \n",
      "[26]\ttraining's binary_logloss: 0.0121376\tvalid_1's binary_logloss: 0.291357                          \n",
      "[27]\ttraining's binary_logloss: 0.0105134\tvalid_1's binary_logloss: 0.295288                          \n",
      "[28]\ttraining's binary_logloss: 0.00907337\tvalid_1's binary_logloss: 0.297981                         \n",
      "[29]\ttraining's binary_logloss: 0.00790865\tvalid_1's binary_logloss: 0.299214                         \n",
      "[30]\ttraining's binary_logloss: 0.00682733\tvalid_1's binary_logloss: 0.298608                         \n",
      "[31]\ttraining's binary_logloss: 0.0059926\tvalid_1's binary_logloss: 0.298856                          \n",
      "[32]\ttraining's binary_logloss: 0.00519191\tvalid_1's binary_logloss: 0.301612                         \n",
      "[33]\ttraining's binary_logloss: 0.00457925\tvalid_1's binary_logloss: 0.300633                         \n",
      "[34]\ttraining's binary_logloss: 0.00395518\tvalid_1's binary_logloss: 0.302657                         \n",
      "[35]\ttraining's binary_logloss: 0.00347339\tvalid_1's binary_logloss: 0.307271                         \n",
      "[36]\ttraining's binary_logloss: 0.00299449\tvalid_1's binary_logloss: 0.311851                         \n",
      "[37]\ttraining's binary_logloss: 0.00259671\tvalid_1's binary_logloss: 0.316878                         \n",
      "[38]\ttraining's binary_logloss: 0.00224394\tvalid_1's binary_logloss: 0.3164                           \n",
      "[39]\ttraining's binary_logloss: 0.00191552\tvalid_1's binary_logloss: 0.318381                         \n",
      "Early stopping, best iteration is:                                                                    \n",
      "[19]\ttraining's binary_logloss: 0.032593\tvalid_1's binary_logloss: 0.274816\n",
      "-0.9636341498381462                                                                                   \n",
      "[1]\ttraining's binary_logloss: 0.626855\tvalid_1's binary_logloss: 0.642523                            \n",
      "Training until validation scores don't improve for 20 rounds                                          \n",
      "[2]\ttraining's binary_logloss: 0.572249\tvalid_1's binary_logloss: 0.595276                            \n",
      "[3]\ttraining's binary_logloss: 0.524927\tvalid_1's binary_logloss: 0.561293                            \n",
      "[4]\ttraining's binary_logloss: 0.484349\tvalid_1's binary_logloss: 0.53223                             \n",
      "[5]\ttraining's binary_logloss: 0.448445\tvalid_1's binary_logloss: 0.507303                            \n",
      "[6]\ttraining's binary_logloss: 0.415671\tvalid_1's binary_logloss: 0.486217                            \n",
      "[7]\ttraining's binary_logloss: 0.385546\tvalid_1's binary_logloss: 0.464892                            \n",
      "[8]\ttraining's binary_logloss: 0.361559\tvalid_1's binary_logloss: 0.448818                            \n",
      "[9]\ttraining's binary_logloss: 0.337842\tvalid_1's binary_logloss: 0.437581                            \n",
      "[10]\ttraining's binary_logloss: 0.316105\tvalid_1's binary_logloss: 0.41896                            \n",
      "[11]\ttraining's binary_logloss: 0.296851\tvalid_1's binary_logloss: 0.404485                           \n",
      "[12]\ttraining's binary_logloss: 0.277327\tvalid_1's binary_logloss: 0.393038                           \n",
      "[13]\ttraining's binary_logloss: 0.260796\tvalid_1's binary_logloss: 0.380974                           \n",
      "[14]\ttraining's binary_logloss: 0.246029\tvalid_1's binary_logloss: 0.375789                           \n",
      "[15]\ttraining's binary_logloss: 0.231178\tvalid_1's binary_logloss: 0.366786                           \n",
      "[16]\ttraining's binary_logloss: 0.217072\tvalid_1's binary_logloss: 0.356686                           \n",
      "[17]\ttraining's binary_logloss: 0.203688\tvalid_1's binary_logloss: 0.350612                           \n",
      "[18]\ttraining's binary_logloss: 0.190871\tvalid_1's binary_logloss: 0.342541                           \n",
      "[19]\ttraining's binary_logloss: 0.179549\tvalid_1's binary_logloss: 0.338072                           \n",
      "[20]\ttraining's binary_logloss: 0.168519\tvalid_1's binary_logloss: 0.331191                           \n",
      "[21]\ttraining's binary_logloss: 0.158941\tvalid_1's binary_logloss: 0.326702                           \n",
      "[22]\ttraining's binary_logloss: 0.149563\tvalid_1's binary_logloss: 0.322219                           \n",
      "[23]\ttraining's binary_logloss: 0.140237\tvalid_1's binary_logloss: 0.316927                           \n",
      "[24]\ttraining's binary_logloss: 0.132741\tvalid_1's binary_logloss: 0.315771                           \n",
      "[25]\ttraining's binary_logloss: 0.125165\tvalid_1's binary_logloss: 0.312271                           \n",
      "[26]\ttraining's binary_logloss: 0.117776\tvalid_1's binary_logloss: 0.309944                           \n",
      "[27]\ttraining's binary_logloss: 0.110578\tvalid_1's binary_logloss: 0.30724                            \n",
      "[28]\ttraining's binary_logloss: 0.104534\tvalid_1's binary_logloss: 0.302665                           \n",
      "[29]\ttraining's binary_logloss: 0.0986189\tvalid_1's binary_logloss: 0.299657                          \n",
      "[30]\ttraining's binary_logloss: 0.0928795\tvalid_1's binary_logloss: 0.299457                          \n",
      "[31]\ttraining's binary_logloss: 0.0869982\tvalid_1's binary_logloss: 0.297992                          \n",
      "[32]\ttraining's binary_logloss: 0.0815154\tvalid_1's binary_logloss: 0.298224                          \n",
      "[33]\ttraining's binary_logloss: 0.0767308\tvalid_1's binary_logloss: 0.297454                          \n",
      "[34]\ttraining's binary_logloss: 0.0725936\tvalid_1's binary_logloss: 0.295239                          \n",
      "[35]\ttraining's binary_logloss: 0.0679554\tvalid_1's binary_logloss: 0.292818                          \n",
      "[36]\ttraining's binary_logloss: 0.0637781\tvalid_1's binary_logloss: 0.292076                          \n",
      "[37]\ttraining's binary_logloss: 0.0602018\tvalid_1's binary_logloss: 0.290759                          \n",
      "[38]\ttraining's binary_logloss: 0.056436\tvalid_1's binary_logloss: 0.290511                           \n",
      "[39]\ttraining's binary_logloss: 0.0532934\tvalid_1's binary_logloss: 0.290721                          \n",
      "[40]\ttraining's binary_logloss: 0.0500563\tvalid_1's binary_logloss: 0.290877                          \n"
     ]
    },
    {
     "name": "stdout",
     "output_type": "stream",
     "text": [
      "[41]\ttraining's binary_logloss: 0.0470092\tvalid_1's binary_logloss: 0.28874                           \n",
      "[42]\ttraining's binary_logloss: 0.0441678\tvalid_1's binary_logloss: 0.286638                          \n",
      "[43]\ttraining's binary_logloss: 0.0416686\tvalid_1's binary_logloss: 0.285634                          \n",
      "[44]\ttraining's binary_logloss: 0.0394619\tvalid_1's binary_logloss: 0.286485                          \n",
      "[45]\ttraining's binary_logloss: 0.0371118\tvalid_1's binary_logloss: 0.286266                          \n",
      "[46]\ttraining's binary_logloss: 0.0350315\tvalid_1's binary_logloss: 0.286966                          \n",
      "[47]\ttraining's binary_logloss: 0.0329401\tvalid_1's binary_logloss: 0.287515                          \n",
      "[48]\ttraining's binary_logloss: 0.0311585\tvalid_1's binary_logloss: 0.288035                          \n",
      "[49]\ttraining's binary_logloss: 0.0294126\tvalid_1's binary_logloss: 0.288458                          \n",
      "[50]\ttraining's binary_logloss: 0.027705\tvalid_1's binary_logloss: 0.289387                           \n",
      "[51]\ttraining's binary_logloss: 0.0261573\tvalid_1's binary_logloss: 0.286679                          \n",
      "[52]\ttraining's binary_logloss: 0.0246891\tvalid_1's binary_logloss: 0.288015                          \n",
      "[53]\ttraining's binary_logloss: 0.0232747\tvalid_1's binary_logloss: 0.287759                          \n",
      "[54]\ttraining's binary_logloss: 0.0220037\tvalid_1's binary_logloss: 0.286482                          \n",
      "[55]\ttraining's binary_logloss: 0.0208015\tvalid_1's binary_logloss: 0.288202                          \n",
      "[56]\ttraining's binary_logloss: 0.0196169\tvalid_1's binary_logloss: 0.289163                          \n",
      "[57]\ttraining's binary_logloss: 0.0185178\tvalid_1's binary_logloss: 0.289478                          \n",
      "[58]\ttraining's binary_logloss: 0.0174388\tvalid_1's binary_logloss: 0.289925                          \n",
      "[59]\ttraining's binary_logloss: 0.0164851\tvalid_1's binary_logloss: 0.29156                           \n",
      "[60]\ttraining's binary_logloss: 0.0155482\tvalid_1's binary_logloss: 0.290946                          \n",
      "[61]\ttraining's binary_logloss: 0.0146443\tvalid_1's binary_logloss: 0.294219                          \n",
      "[62]\ttraining's binary_logloss: 0.0138205\tvalid_1's binary_logloss: 0.294195                          \n",
      "[63]\ttraining's binary_logloss: 0.0130845\tvalid_1's binary_logloss: 0.295039                          \n",
      "Early stopping, best iteration is:                                                                    \n",
      "[43]\ttraining's binary_logloss: 0.0416686\tvalid_1's binary_logloss: 0.285634\n",
      "-0.9632097894529361                                                                                   \n",
      "[1]\ttraining's binary_logloss: 0.626855\tvalid_1's binary_logloss: 0.642523                            \n",
      "Training until validation scores don't improve for 20 rounds                                          \n",
      "[2]\ttraining's binary_logloss: 0.572249\tvalid_1's binary_logloss: 0.595276                            \n",
      "[3]\ttraining's binary_logloss: 0.524927\tvalid_1's binary_logloss: 0.561293                            \n",
      "[4]\ttraining's binary_logloss: 0.484349\tvalid_1's binary_logloss: 0.53223                             \n",
      "[5]\ttraining's binary_logloss: 0.448445\tvalid_1's binary_logloss: 0.507303                            \n",
      "[6]\ttraining's binary_logloss: 0.415671\tvalid_1's binary_logloss: 0.486217                            \n",
      "[7]\ttraining's binary_logloss: 0.385546\tvalid_1's binary_logloss: 0.464892                            \n",
      "[8]\ttraining's binary_logloss: 0.361559\tvalid_1's binary_logloss: 0.448818                            \n",
      "[9]\ttraining's binary_logloss: 0.337842\tvalid_1's binary_logloss: 0.437581                            \n",
      "[10]\ttraining's binary_logloss: 0.316105\tvalid_1's binary_logloss: 0.41896                            \n",
      "[11]\ttraining's binary_logloss: 0.296851\tvalid_1's binary_logloss: 0.404485                           \n",
      "[12]\ttraining's binary_logloss: 0.277327\tvalid_1's binary_logloss: 0.393038                           \n",
      "[13]\ttraining's binary_logloss: 0.260796\tvalid_1's binary_logloss: 0.380974                           \n",
      "[14]\ttraining's binary_logloss: 0.246029\tvalid_1's binary_logloss: 0.375789                           \n",
      "[15]\ttraining's binary_logloss: 0.231178\tvalid_1's binary_logloss: 0.366786                           \n",
      "[16]\ttraining's binary_logloss: 0.217072\tvalid_1's binary_logloss: 0.356686                           \n",
      "[17]\ttraining's binary_logloss: 0.203688\tvalid_1's binary_logloss: 0.350612                           \n",
      "[18]\ttraining's binary_logloss: 0.190871\tvalid_1's binary_logloss: 0.342541                           \n",
      "[19]\ttraining's binary_logloss: 0.179549\tvalid_1's binary_logloss: 0.338072                           \n",
      "[20]\ttraining's binary_logloss: 0.168519\tvalid_1's binary_logloss: 0.331191                           \n",
      "[21]\ttraining's binary_logloss: 0.158941\tvalid_1's binary_logloss: 0.326702                           \n",
      "[22]\ttraining's binary_logloss: 0.149563\tvalid_1's binary_logloss: 0.322219                           \n",
      "[23]\ttraining's binary_logloss: 0.140237\tvalid_1's binary_logloss: 0.316928                           \n",
      "[24]\ttraining's binary_logloss: 0.132741\tvalid_1's binary_logloss: 0.315772                           \n",
      "[25]\ttraining's binary_logloss: 0.125165\tvalid_1's binary_logloss: 0.312272                           \n",
      "[26]\ttraining's binary_logloss: 0.117776\tvalid_1's binary_logloss: 0.309945                           \n",
      "[27]\ttraining's binary_logloss: 0.110578\tvalid_1's binary_logloss: 0.30724                            \n",
      "[28]\ttraining's binary_logloss: 0.104534\tvalid_1's binary_logloss: 0.302666                           \n",
      "[29]\ttraining's binary_logloss: 0.0986191\tvalid_1's binary_logloss: 0.299658                          \n",
      "[30]\ttraining's binary_logloss: 0.0928797\tvalid_1's binary_logloss: 0.299458                          \n",
      "[31]\ttraining's binary_logloss: 0.0869985\tvalid_1's binary_logloss: 0.297994                          \n",
      "[32]\ttraining's binary_logloss: 0.0815157\tvalid_1's binary_logloss: 0.298226                          \n",
      "[33]\ttraining's binary_logloss: 0.0767311\tvalid_1's binary_logloss: 0.297455                          \n",
      "[34]\ttraining's binary_logloss: 0.072594\tvalid_1's binary_logloss: 0.295241                           \n",
      "[35]\ttraining's binary_logloss: 0.0679559\tvalid_1's binary_logloss: 0.292821                          \n",
      "[36]\ttraining's binary_logloss: 0.0637788\tvalid_1's binary_logloss: 0.292094                          \n",
      "[37]\ttraining's binary_logloss: 0.0602019\tvalid_1's binary_logloss: 0.290777                          \n",
      "[38]\ttraining's binary_logloss: 0.0564362\tvalid_1's binary_logloss: 0.29053                           \n",
      "[39]\ttraining's binary_logloss: 0.0531833\tvalid_1's binary_logloss: 0.289374                          \n",
      "[40]\ttraining's binary_logloss: 0.0501949\tvalid_1's binary_logloss: 0.288527                          \n",
      "[41]\ttraining's binary_logloss: 0.0472952\tvalid_1's binary_logloss: 0.286645                          \n",
      "[42]\ttraining's binary_logloss: 0.0448548\tvalid_1's binary_logloss: 0.284334                          \n",
      "[43]\ttraining's binary_logloss: 0.0422962\tvalid_1's binary_logloss: 0.286317                          \n",
      "[44]\ttraining's binary_logloss: 0.0398461\tvalid_1's binary_logloss: 0.286342                          \n",
      "[45]\ttraining's binary_logloss: 0.0374636\tvalid_1's binary_logloss: 0.283565                          \n",
      "[46]\ttraining's binary_logloss: 0.0353157\tvalid_1's binary_logloss: 0.28319                           \n",
      "[47]\ttraining's binary_logloss: 0.0331775\tvalid_1's binary_logloss: 0.281336                          \n",
      "[48]\ttraining's binary_logloss: 0.0314734\tvalid_1's binary_logloss: 0.281081                          \n",
      "[49]\ttraining's binary_logloss: 0.0296576\tvalid_1's binary_logloss: 0.280662                          \n",
      "[50]\ttraining's binary_logloss: 0.028088\tvalid_1's binary_logloss: 0.282759                           \n",
      "[51]\ttraining's binary_logloss: 0.0264253\tvalid_1's binary_logloss: 0.282402                          \n",
      "[52]\ttraining's binary_logloss: 0.0249166\tvalid_1's binary_logloss: 0.282008                          \n"
     ]
    },
    {
     "name": "stdout",
     "output_type": "stream",
     "text": [
      "[53]\ttraining's binary_logloss: 0.0234041\tvalid_1's binary_logloss: 0.281938                          \n",
      "[54]\ttraining's binary_logloss: 0.0220868\tvalid_1's binary_logloss: 0.282864                          \n",
      "[55]\ttraining's binary_logloss: 0.0208509\tvalid_1's binary_logloss: 0.284337                          \n",
      "[56]\ttraining's binary_logloss: 0.0197733\tvalid_1's binary_logloss: 0.285888                          \n",
      "[57]\ttraining's binary_logloss: 0.0186459\tvalid_1's binary_logloss: 0.287779                          \n",
      "[58]\ttraining's binary_logloss: 0.0175711\tvalid_1's binary_logloss: 0.289835                          \n",
      "[59]\ttraining's binary_logloss: 0.0166299\tvalid_1's binary_logloss: 0.289811                          \n",
      "[60]\ttraining's binary_logloss: 0.0157214\tvalid_1's binary_logloss: 0.291068                          \n",
      "[61]\ttraining's binary_logloss: 0.0148547\tvalid_1's binary_logloss: 0.292299                          \n",
      "[62]\ttraining's binary_logloss: 0.0139573\tvalid_1's binary_logloss: 0.293662                          \n",
      "[63]\ttraining's binary_logloss: 0.0131487\tvalid_1's binary_logloss: 0.297632                          \n",
      "[64]\ttraining's binary_logloss: 0.0123883\tvalid_1's binary_logloss: 0.297541                          \n",
      "[65]\ttraining's binary_logloss: 0.0117139\tvalid_1's binary_logloss: 0.298749                          \n",
      "[66]\ttraining's binary_logloss: 0.0110514\tvalid_1's binary_logloss: 0.301875                          \n",
      "[67]\ttraining's binary_logloss: 0.0104576\tvalid_1's binary_logloss: 0.301866                          \n",
      "[68]\ttraining's binary_logloss: 0.0098653\tvalid_1's binary_logloss: 0.303203                          \n",
      "[69]\ttraining's binary_logloss: 0.00936769\tvalid_1's binary_logloss: 0.306068                         \n",
      "Early stopping, best iteration is:                                                                    \n",
      "[49]\ttraining's binary_logloss: 0.0296576\tvalid_1's binary_logloss: 0.280662\n",
      "-0.963171257589508                                                                                    \n",
      "[1]\ttraining's binary_logloss: 0.561937\tvalid_1's binary_logloss: 0.5941                              \n",
      "Training until validation scores don't improve for 20 rounds                                          \n",
      "[2]\ttraining's binary_logloss: 0.472142\tvalid_1's binary_logloss: 0.529849                            \n",
      "[3]\ttraining's binary_logloss: 0.402258\tvalid_1's binary_logloss: 0.487431                            \n",
      "[4]\ttraining's binary_logloss: 0.349754\tvalid_1's binary_logloss: 0.455752                            \n",
      "[5]\ttraining's binary_logloss: 0.307466\tvalid_1's binary_logloss: 0.427976                            \n",
      "[6]\ttraining's binary_logloss: 0.269074\tvalid_1's binary_logloss: 0.398772                            \n",
      "[7]\ttraining's binary_logloss: 0.235934\tvalid_1's binary_logloss: 0.378557                            \n",
      "[8]\ttraining's binary_logloss: 0.206555\tvalid_1's binary_logloss: 0.367555                            \n",
      "[9]\ttraining's binary_logloss: 0.182246\tvalid_1's binary_logloss: 0.346494                            \n",
      "[10]\ttraining's binary_logloss: 0.161434\tvalid_1's binary_logloss: 0.335752                           \n",
      "[11]\ttraining's binary_logloss: 0.143776\tvalid_1's binary_logloss: 0.321628                           \n",
      "[12]\ttraining's binary_logloss: 0.126485\tvalid_1's binary_logloss: 0.306332                           \n",
      "[13]\ttraining's binary_logloss: 0.110442\tvalid_1's binary_logloss: 0.302404                           \n",
      "[14]\ttraining's binary_logloss: 0.097269\tvalid_1's binary_logloss: 0.294216                           \n",
      "[15]\ttraining's binary_logloss: 0.0859173\tvalid_1's binary_logloss: 0.293344                          \n",
      "[16]\ttraining's binary_logloss: 0.0751938\tvalid_1's binary_logloss: 0.292338                          \n",
      "[17]\ttraining's binary_logloss: 0.0668015\tvalid_1's binary_logloss: 0.290501                          \n",
      "[18]\ttraining's binary_logloss: 0.0588626\tvalid_1's binary_logloss: 0.285429                          \n",
      "[19]\ttraining's binary_logloss: 0.0515689\tvalid_1's binary_logloss: 0.286202                          \n",
      "[20]\ttraining's binary_logloss: 0.0453882\tvalid_1's binary_logloss: 0.284288                          \n",
      "[21]\ttraining's binary_logloss: 0.0403851\tvalid_1's binary_logloss: 0.287354                          \n",
      "[22]\ttraining's binary_logloss: 0.0358374\tvalid_1's binary_logloss: 0.287905                          \n",
      "[23]\ttraining's binary_logloss: 0.0320503\tvalid_1's binary_logloss: 0.285877                          \n",
      "[24]\ttraining's binary_logloss: 0.0283216\tvalid_1's binary_logloss: 0.280433                          \n",
      "[25]\ttraining's binary_logloss: 0.0249808\tvalid_1's binary_logloss: 0.280686                          \n",
      "[26]\ttraining's binary_logloss: 0.0222593\tvalid_1's binary_logloss: 0.280131                          \n",
      "[27]\ttraining's binary_logloss: 0.019676\tvalid_1's binary_logloss: 0.282984                           \n",
      "[28]\ttraining's binary_logloss: 0.0173504\tvalid_1's binary_logloss: 0.291526                          \n",
      "[29]\ttraining's binary_logloss: 0.0152765\tvalid_1's binary_logloss: 0.299666                          \n",
      "[30]\ttraining's binary_logloss: 0.0135406\tvalid_1's binary_logloss: 0.300775                          \n",
      "[31]\ttraining's binary_logloss: 0.0121093\tvalid_1's binary_logloss: 0.308018                          \n",
      "[32]\ttraining's binary_logloss: 0.0108527\tvalid_1's binary_logloss: 0.31168                           \n",
      "[33]\ttraining's binary_logloss: 0.00963676\tvalid_1's binary_logloss: 0.311658                         \n",
      "[34]\ttraining's binary_logloss: 0.00858495\tvalid_1's binary_logloss: 0.317352                         \n",
      "[35]\ttraining's binary_logloss: 0.00766443\tvalid_1's binary_logloss: 0.320868                         \n",
      "[36]\ttraining's binary_logloss: 0.00672147\tvalid_1's binary_logloss: 0.325877                         \n",
      "[37]\ttraining's binary_logloss: 0.00598016\tvalid_1's binary_logloss: 0.323811                         \n",
      "[38]\ttraining's binary_logloss: 0.00536129\tvalid_1's binary_logloss: 0.326626                         \n",
      "[39]\ttraining's binary_logloss: 0.00470499\tvalid_1's binary_logloss: 0.327153                         \n",
      "[40]\ttraining's binary_logloss: 0.00408698\tvalid_1's binary_logloss: 0.329791                         \n",
      "[41]\ttraining's binary_logloss: 0.00361186\tvalid_1's binary_logloss: 0.331302                         \n",
      "[42]\ttraining's binary_logloss: 0.00322937\tvalid_1's binary_logloss: 0.333266                         \n",
      "[43]\ttraining's binary_logloss: 0.00285884\tvalid_1's binary_logloss: 0.338285                         \n",
      "[44]\ttraining's binary_logloss: 0.00253791\tvalid_1's binary_logloss: 0.342083                         \n",
      "[45]\ttraining's binary_logloss: 0.00227594\tvalid_1's binary_logloss: 0.342814                         \n",
      "[46]\ttraining's binary_logloss: 0.00201935\tvalid_1's binary_logloss: 0.343742                         \n",
      "Early stopping, best iteration is:                                                                    \n",
      "[26]\ttraining's binary_logloss: 0.0222593\tvalid_1's binary_logloss: 0.280131\n",
      "-0.9635954095535499                                                                                   \n",
      "[1]\ttraining's binary_logloss: 0.535127\tvalid_1's binary_logloss: 0.574666                            \n",
      "Training until validation scores don't improve for 20 rounds                                          \n",
      "[2]\ttraining's binary_logloss: 0.435227\tvalid_1's binary_logloss: 0.498299                            \n",
      "[3]\ttraining's binary_logloss: 0.364703\tvalid_1's binary_logloss: 0.450433                            \n",
      "[4]\ttraining's binary_logloss: 0.303971\tvalid_1's binary_logloss: 0.41099                             \n",
      "[5]\ttraining's binary_logloss: 0.258898\tvalid_1's binary_logloss: 0.379661                            \n",
      "[6]\ttraining's binary_logloss: 0.218841\tvalid_1's binary_logloss: 0.365769                            \n",
      "[7]\ttraining's binary_logloss: 0.186995\tvalid_1's binary_logloss: 0.35451                             \n",
      "[8]\ttraining's binary_logloss: 0.160467\tvalid_1's binary_logloss: 0.343853                            \n",
      "[9]\ttraining's binary_logloss: 0.138176\tvalid_1's binary_logloss: 0.332664                            \n"
     ]
    },
    {
     "name": "stdout",
     "output_type": "stream",
     "text": [
      "[10]\ttraining's binary_logloss: 0.11801\tvalid_1's binary_logloss: 0.324531                            \n",
      "[11]\ttraining's binary_logloss: 0.0997249\tvalid_1's binary_logloss: 0.316733                          \n",
      "[12]\ttraining's binary_logloss: 0.0862279\tvalid_1's binary_logloss: 0.310726                          \n",
      "[13]\ttraining's binary_logloss: 0.0735991\tvalid_1's binary_logloss: 0.310516                          \n",
      "[14]\ttraining's binary_logloss: 0.0623161\tvalid_1's binary_logloss: 0.306909                          \n",
      "[15]\ttraining's binary_logloss: 0.0532168\tvalid_1's binary_logloss: 0.3048                            \n",
      "[16]\ttraining's binary_logloss: 0.0456268\tvalid_1's binary_logloss: 0.306165                          \n",
      "[17]\ttraining's binary_logloss: 0.0394279\tvalid_1's binary_logloss: 0.310713                          \n",
      "[18]\ttraining's binary_logloss: 0.03363\tvalid_1's binary_logloss: 0.310626                            \n",
      "[19]\ttraining's binary_logloss: 0.0288366\tvalid_1's binary_logloss: 0.306264                          \n",
      "[20]\ttraining's binary_logloss: 0.0250367\tvalid_1's binary_logloss: 0.306497                          \n",
      "[21]\ttraining's binary_logloss: 0.0215475\tvalid_1's binary_logloss: 0.307643                          \n",
      "[22]\ttraining's binary_logloss: 0.0185702\tvalid_1's binary_logloss: 0.312218                          \n",
      "[23]\ttraining's binary_logloss: 0.0159485\tvalid_1's binary_logloss: 0.312056                          \n",
      "[24]\ttraining's binary_logloss: 0.0137265\tvalid_1's binary_logloss: 0.316931                          \n",
      "[25]\ttraining's binary_logloss: 0.0120399\tvalid_1's binary_logloss: 0.320461                          \n",
      "[26]\ttraining's binary_logloss: 0.0104687\tvalid_1's binary_logloss: 0.324032                          \n",
      "[27]\ttraining's binary_logloss: 0.00918497\tvalid_1's binary_logloss: 0.328644                         \n",
      "[28]\ttraining's binary_logloss: 0.00794092\tvalid_1's binary_logloss: 0.331892                         \n",
      "[29]\ttraining's binary_logloss: 0.00687815\tvalid_1's binary_logloss: 0.338052                         \n",
      "[30]\ttraining's binary_logloss: 0.0059115\tvalid_1's binary_logloss: 0.335935                          \n",
      "[31]\ttraining's binary_logloss: 0.00508363\tvalid_1's binary_logloss: 0.335628                         \n",
      "[32]\ttraining's binary_logloss: 0.00438469\tvalid_1's binary_logloss: 0.342509                         \n",
      "[33]\ttraining's binary_logloss: 0.00379721\tvalid_1's binary_logloss: 0.350421                         \n",
      "[34]\ttraining's binary_logloss: 0.00328655\tvalid_1's binary_logloss: 0.349695                         \n",
      "[35]\ttraining's binary_logloss: 0.00285361\tvalid_1's binary_logloss: 0.35374                          \n",
      "Early stopping, best iteration is:                                                                    \n",
      "[15]\ttraining's binary_logloss: 0.0532168\tvalid_1's binary_logloss: 0.3048\n",
      "-0.9642129465870142                                                                                   \n",
      "[1]\ttraining's binary_logloss: 0.519831\tvalid_1's binary_logloss: 0.563761                            \n",
      "Training until validation scores don't improve for 20 rounds                                          \n",
      "[2]\ttraining's binary_logloss: 0.415336\tvalid_1's binary_logloss: 0.485054                            \n",
      "[3]\ttraining's binary_logloss: 0.338386\tvalid_1's binary_logloss: 0.438439                            \n",
      "[4]\ttraining's binary_logloss: 0.281328\tvalid_1's binary_logloss: 0.396728                            \n",
      "[5]\ttraining's binary_logloss: 0.233427\tvalid_1's binary_logloss: 0.372057                            \n",
      "[6]\ttraining's binary_logloss: 0.195589\tvalid_1's binary_logloss: 0.356664                            \n",
      "[7]\ttraining's binary_logloss: 0.164404\tvalid_1's binary_logloss: 0.338934                            \n",
      "[8]\ttraining's binary_logloss: 0.139176\tvalid_1's binary_logloss: 0.323291                            \n",
      "[9]\ttraining's binary_logloss: 0.115918\tvalid_1's binary_logloss: 0.314211                            \n",
      "[10]\ttraining's binary_logloss: 0.0974679\tvalid_1's binary_logloss: 0.307299                          \n",
      "[11]\ttraining's binary_logloss: 0.0811925\tvalid_1's binary_logloss: 0.295841                          \n",
      "[12]\ttraining's binary_logloss: 0.0683283\tvalid_1's binary_logloss: 0.297864                          \n",
      "[13]\ttraining's binary_logloss: 0.058624\tvalid_1's binary_logloss: 0.295911                           \n",
      "[14]\ttraining's binary_logloss: 0.0492661\tvalid_1's binary_logloss: 0.295843                          \n",
      "[15]\ttraining's binary_logloss: 0.041692\tvalid_1's binary_logloss: 0.295421                           \n",
      "[16]\ttraining's binary_logloss: 0.0355945\tvalid_1's binary_logloss: 0.297351                          \n",
      "[17]\ttraining's binary_logloss: 0.0297777\tvalid_1's binary_logloss: 0.30009                           \n",
      "[18]\ttraining's binary_logloss: 0.0250969\tvalid_1's binary_logloss: 0.299171                          \n",
      "[19]\ttraining's binary_logloss: 0.0213515\tvalid_1's binary_logloss: 0.298431                          \n",
      "[20]\ttraining's binary_logloss: 0.0182314\tvalid_1's binary_logloss: 0.298935                          \n",
      "[21]\ttraining's binary_logloss: 0.0155135\tvalid_1's binary_logloss: 0.299449                          \n",
      "[22]\ttraining's binary_logloss: 0.0132071\tvalid_1's binary_logloss: 0.306217                          \n",
      "[23]\ttraining's binary_logloss: 0.0112058\tvalid_1's binary_logloss: 0.31263                           \n",
      "[24]\ttraining's binary_logloss: 0.00944508\tvalid_1's binary_logloss: 0.317138                         \n",
      "[25]\ttraining's binary_logloss: 0.00795258\tvalid_1's binary_logloss: 0.317227                         \n",
      "[26]\ttraining's binary_logloss: 0.00683622\tvalid_1's binary_logloss: 0.315727                         \n",
      "[27]\ttraining's binary_logloss: 0.00573987\tvalid_1's binary_logloss: 0.31947                          \n",
      "[28]\ttraining's binary_logloss: 0.00487279\tvalid_1's binary_logloss: 0.319614                         \n",
      "[29]\ttraining's binary_logloss: 0.00412885\tvalid_1's binary_logloss: 0.320835                         \n",
      "[30]\ttraining's binary_logloss: 0.00351525\tvalid_1's binary_logloss: 0.323984                         \n",
      "[31]\ttraining's binary_logloss: 0.00295155\tvalid_1's binary_logloss: 0.325231                         \n",
      "[32]\ttraining's binary_logloss: 0.00252979\tvalid_1's binary_logloss: 0.332347                         \n",
      "[33]\ttraining's binary_logloss: 0.00217436\tvalid_1's binary_logloss: 0.33776                          \n",
      "[34]\ttraining's binary_logloss: 0.00183002\tvalid_1's binary_logloss: 0.343504                         \n",
      "[35]\ttraining's binary_logloss: 0.00155879\tvalid_1's binary_logloss: 0.342608                         \n",
      "Early stopping, best iteration is:                                                                    \n",
      "[15]\ttraining's binary_logloss: 0.041692\tvalid_1's binary_logloss: 0.295421\n",
      "-0.9643093302117798                                                                                   \n",
      "100%|██████████████████████████████| 10/10 [06:12<00:00, 37.27s/trial, best loss: -0.9643093302117798]\n"
     ]
    }
   ],
   "source": [
    "def score(params): #function to train and test different hyperparams\n",
    "    model = lgb.LGBMClassifier(**params)\n",
    "    model.fit(X_train_fs, y_train, early_stopping_rounds=20,\n",
    "             eval_set=[(X_train_fs, y_train), (X_test_fs, y_test)])\n",
    "#     y_pred = model.predict(X_test_fs)\n",
    "#     score = mean_squared_error(y_test, y_pred)\n",
    "    score = -cross_val_score(model, X_train_fs, y_train, cv=10, scoring='roc_auc').mean()\n",
    "    print(score)\n",
    "    return score\n",
    "            \n",
    "def optimize(trials, space): #fmin is the main library function\n",
    "    best = fmin(score, space, algo=tpe.suggest, max_evals=10)\n",
    "    return best\n",
    "            \n",
    "trials = Trials() #database that store completed hyperparameters and score\n",
    "best_params = optimize(trials, hyperparam_space) #calls fmin\n",
    "\n",
    "#finds best hyperparameters\n",
    "# space_eval(hyperparam_space, best_params)"
   ]
  },
  {
   "cell_type": "code",
   "execution_count": 32,
   "id": "de0c0e47",
   "metadata": {},
   "outputs": [
    {
     "data": {
      "text/plain": [
       "{'learning_rate': 0.29, 'num_leaves': 74}"
      ]
     },
     "execution_count": 32,
     "metadata": {},
     "output_type": "execute_result"
    }
   ],
   "source": [
    "best_params"
   ]
  },
  {
   "cell_type": "code",
   "execution_count": 33,
   "id": "177821b4",
   "metadata": {},
   "outputs": [
    {
     "name": "stdout",
     "output_type": "stream",
     "text": [
      "auc_roc score on test data:  0.9597701149425288\n"
     ]
    }
   ],
   "source": [
    "lgbm_model = lgb.LGBMClassifier(**best_params)\n",
    "lgbm_model.fit(X_train_fs, y_train)\n",
    "preds = [pred[1] for pred in lgbm_model.predict_proba(X_test_fs)]\n",
    "score = roc_auc_score(y_test, preds, average='weighted')\n",
    "print('auc_roc score on test data: ', score)"
   ]
  },
  {
   "cell_type": "code",
   "execution_count": 34,
   "id": "87d493d7",
   "metadata": {},
   "outputs": [
    {
     "data": {
      "image/png": "[encoded data removed]",
      "text/plain": [
       "<Figure size 576x684 with 1 Axes>"
      ]
     },
     "metadata": {
      "needs_background": "light"
     },
     "output_type": "display_data"
    }
   ],
   "source": [
    "shap_values = shap.TreeExplainer(lgbm_model).shap_values(X_test_fs)\n",
    "shap.summary_plot(shap_values, X_test_fs)"
   ]
  },
  {
   "cell_type": "code",
   "execution_count": 35,
   "id": "11862dc7",
   "metadata": {},
   "outputs": [
    {
     "data": {
      "image/png": "[encoded data removed]",
      "text/plain": [
       "<Figure size 432x288 with 1 Axes>"
      ]
     },
     "metadata": {
      "needs_background": "light"
     },
     "output_type": "display_data"
    },
    {
     "data": {
      "text/plain": [
       "<Figure size 1800x864 with 0 Axes>"
      ]
     },
     "metadata": {},
     "output_type": "display_data"
    }
   ],
   "source": [
    "lgb.plot_importance(lgbm_model, max_num_features=20)\n",
    "plt.figure(figsize=(25, 12))\n",
    "plt.show()"
   ]
  },
  {
   "cell_type": "code",
   "execution_count": 91,
   "id": "768edd6f",
   "metadata": {},
   "outputs": [],
   "source": [
    "y_pred = lgbm_model.predict(X_test_fs)"
   ]
  },
  {
   "cell_type": "code",
   "execution_count": 92,
   "id": "04273171",
   "metadata": {},
   "outputs": [
    {
     "name": "stdout",
     "output_type": "stream",
     "text": [
      "F1 Score: 0.9071618037135278\n"
     ]
    }
   ],
   "source": [
    "f1=f1_score(y_test, y_pred) #get f1 score\n",
    "print('F1 Score:', f1)"
   ]
  },
  {
   "cell_type": "code",
   "execution_count": 93,
   "id": "777f2bd6",
   "metadata": {},
   "outputs": [
    {
     "name": "stdout",
     "output_type": "stream",
     "text": [
      "[[154  20]\n",
      " [ 15 171]]\n"
     ]
    }
   ],
   "source": [
    "print(metrics.confusion_matrix(y_test, y_pred))"
   ]
  },
  {
   "cell_type": "code",
   "execution_count": null,
   "id": "d31d24d7",
   "metadata": {},
   "outputs": [],
   "source": []
  },
  {
   "cell_type": "code",
   "execution_count": null,
   "id": "8a791a13",
   "metadata": {},
   "outputs": [],
   "source": []
  },
  {
   "cell_type": "code",
   "execution_count": 36,
   "id": "2a8e5291",
   "metadata": {},
   "outputs": [],
   "source": [
    "#hyperparameter domain to search over\n",
    "hyperparam_space = {\n",
    "    'max_depth': hp.choice('max_depth', np.arange(1, 10, 1, dtype=int)), #larger values = overfitting\n",
    "    'n_estimators': hp.choice('n_estimators', np.arange(1, 100, 1, dtype=int)), #larger values = overfitting\n",
    "    'learning_rate': hp.quniform('learning_rate', 0, 1, 0.01), #aka eta = step size shrinkage to prevent overfitting\n",
    "    'gamma': hp.quniform('gamma', 0, 1, 0.1), #gamma: min loss reduction to partition leaf nodes (for overfitting)\n",
    "#     lambda: L2 regularization (Ridge)\n",
    "#     alpha: L1 regularization (Lasso)\n",
    "}"
   ]
  },
  {
   "cell_type": "code",
   "execution_count": 37,
   "id": "a1e55c88",
   "metadata": {
    "scrolled": true
   },
   "outputs": [
    {
     "name": "stdout",
     "output_type": "stream",
     "text": [
      "[0]\tvalidation_0-logloss:0.29288\tvalidation_1-logloss:0.45000                                         \n",
      "[1]\tvalidation_0-logloss:0.16420\tvalidation_1-logloss:0.37676                                         \n",
      "[2]\tvalidation_0-logloss:0.10455\tvalidation_1-logloss:0.35756                                         \n",
      "[3]\tvalidation_0-logloss:0.07387\tvalidation_1-logloss:0.35657                                         \n",
      "[4]\tvalidation_0-logloss:0.05650\tvalidation_1-logloss:0.33814                                         \n",
      "[5]\tvalidation_0-logloss:0.04209\tvalidation_1-logloss:0.33868                                         \n",
      "[6]\tvalidation_0-logloss:0.03336\tvalidation_1-logloss:0.34140                                         \n",
      "[7]\tvalidation_0-logloss:0.02854\tvalidation_1-logloss:0.33627                                         \n",
      "[8]\tvalidation_0-logloss:0.02372\tvalidation_1-logloss:0.34236                                         \n",
      "[9]\tvalidation_0-logloss:0.02046\tvalidation_1-logloss:0.34326                                         \n",
      "[10]\tvalidation_0-logloss:0.01796\tvalidation_1-logloss:0.33531                                        \n",
      "[11]\tvalidation_0-logloss:0.01626\tvalidation_1-logloss:0.33423                                        \n",
      "[12]\tvalidation_0-logloss:0.01477\tvalidation_1-logloss:0.34063                                        \n",
      "[13]\tvalidation_0-logloss:0.01301\tvalidation_1-logloss:0.35084                                        \n",
      "[14]\tvalidation_0-logloss:0.01205\tvalidation_1-logloss:0.35123                                        \n",
      "[15]\tvalidation_0-logloss:0.01121\tvalidation_1-logloss:0.34613                                        \n",
      "[16]\tvalidation_0-logloss:0.01043\tvalidation_1-logloss:0.33960                                        \n",
      "[17]\tvalidation_0-logloss:0.00987\tvalidation_1-logloss:0.34106                                        \n",
      "[18]\tvalidation_0-logloss:0.00935\tvalidation_1-logloss:0.34890                                        \n",
      "[19]\tvalidation_0-logloss:0.00891\tvalidation_1-logloss:0.35293                                        \n",
      "[20]\tvalidation_0-logloss:0.00843\tvalidation_1-logloss:0.35255                                        \n",
      "[21]\tvalidation_0-logloss:0.00802\tvalidation_1-logloss:0.35175                                        \n",
      "[22]\tvalidation_0-logloss:0.00780\tvalidation_1-logloss:0.35130                                        \n",
      "[23]\tvalidation_0-logloss:0.00742\tvalidation_1-logloss:0.35117                                        \n",
      "[24]\tvalidation_0-logloss:0.00714\tvalidation_1-logloss:0.35100                                        \n",
      "[25]\tvalidation_0-logloss:0.00702\tvalidation_1-logloss:0.35486                                        \n",
      "[26]\tvalidation_0-logloss:0.00679\tvalidation_1-logloss:0.35301                                        \n",
      "[27]\tvalidation_0-logloss:0.00664\tvalidation_1-logloss:0.35074                                        \n",
      "[28]\tvalidation_0-logloss:0.00644\tvalidation_1-logloss:0.35218                                        \n",
      "[29]\tvalidation_0-logloss:0.00644\tvalidation_1-logloss:0.35211                                        \n",
      "[30]\tvalidation_0-logloss:0.00644\tvalidation_1-logloss:0.35210                                        \n",
      "[31]\tvalidation_0-logloss:0.00644\tvalidation_1-logloss:0.35209                                        \n",
      "-0.9517114578643856                                                                                   \n",
      "[0]\tvalidation_0-logloss:0.56733\tvalidation_1-logloss:0.58198                                         \n",
      "[1]\tvalidation_0-logloss:0.49257\tvalidation_1-logloss:0.52871                                         \n",
      "[2]\tvalidation_0-logloss:0.44901\tvalidation_1-logloss:0.49042                                         \n",
      "[3]\tvalidation_0-logloss:0.40869\tvalidation_1-logloss:0.45793                                         \n",
      "[4]\tvalidation_0-logloss:0.38113\tvalidation_1-logloss:0.43912                                         \n",
      "[5]\tvalidation_0-logloss:0.36173\tvalidation_1-logloss:0.42538                                         \n",
      "[6]\tvalidation_0-logloss:0.34263\tvalidation_1-logloss:0.40681                                         \n",
      "[7]\tvalidation_0-logloss:0.32881\tvalidation_1-logloss:0.39330                                         \n",
      "[8]\tvalidation_0-logloss:0.31610\tvalidation_1-logloss:0.38219                                         \n",
      "[9]\tvalidation_0-logloss:0.30234\tvalidation_1-logloss:0.37033                                         \n",
      "[10]\tvalidation_0-logloss:0.29170\tvalidation_1-logloss:0.36312                                        \n",
      "[11]\tvalidation_0-logloss:0.28266\tvalidation_1-logloss:0.35893                                        \n",
      "[12]\tvalidation_0-logloss:0.27597\tvalidation_1-logloss:0.35261                                        \n",
      "[13]\tvalidation_0-logloss:0.26926\tvalidation_1-logloss:0.34440                                        \n",
      "[14]\tvalidation_0-logloss:0.26064\tvalidation_1-logloss:0.34446                                        \n",
      "[15]\tvalidation_0-logloss:0.25493\tvalidation_1-logloss:0.34220                                        \n",
      "[16]\tvalidation_0-logloss:0.25117\tvalidation_1-logloss:0.33900                                        \n",
      "[17]\tvalidation_0-logloss:0.24528\tvalidation_1-logloss:0.33622                                        \n",
      "[18]\tvalidation_0-logloss:0.24172\tvalidation_1-logloss:0.33055                                        \n",
      "[19]\tvalidation_0-logloss:0.23669\tvalidation_1-logloss:0.32440                                        \n",
      "[20]\tvalidation_0-logloss:0.22986\tvalidation_1-logloss:0.32608                                        \n",
      "[21]\tvalidation_0-logloss:0.22509\tvalidation_1-logloss:0.32243                                        \n",
      "[22]\tvalidation_0-logloss:0.22004\tvalidation_1-logloss:0.31944                                        \n",
      "[23]\tvalidation_0-logloss:0.21499\tvalidation_1-logloss:0.32013                                        \n",
      "[24]\tvalidation_0-logloss:0.21043\tvalidation_1-logloss:0.31638                                        \n",
      "[25]\tvalidation_0-logloss:0.20661\tvalidation_1-logloss:0.31600                                        \n",
      "[26]\tvalidation_0-logloss:0.20375\tvalidation_1-logloss:0.31502                                        \n",
      "[27]\tvalidation_0-logloss:0.20155\tvalidation_1-logloss:0.31358                                        \n",
      "[28]\tvalidation_0-logloss:0.19955\tvalidation_1-logloss:0.31248                                        \n",
      "[29]\tvalidation_0-logloss:0.19607\tvalidation_1-logloss:0.30828                                        \n",
      "[30]\tvalidation_0-logloss:0.19380\tvalidation_1-logloss:0.30716                                        \n",
      "[31]\tvalidation_0-logloss:0.19037\tvalidation_1-logloss:0.30614                                        \n",
      "[32]\tvalidation_0-logloss:0.18741\tvalidation_1-logloss:0.30410                                        \n",
      "[33]\tvalidation_0-logloss:0.18354\tvalidation_1-logloss:0.30345                                        \n",
      "[34]\tvalidation_0-logloss:0.18032\tvalidation_1-logloss:0.29948                                        \n",
      "[35]\tvalidation_0-logloss:0.17632\tvalidation_1-logloss:0.29975                                        \n",
      "[36]\tvalidation_0-logloss:0.17398\tvalidation_1-logloss:0.29659                                        \n",
      "[37]\tvalidation_0-logloss:0.17064\tvalidation_1-logloss:0.29766                                        \n",
      "[38]\tvalidation_0-logloss:0.16742\tvalidation_1-logloss:0.29862                                        \n",
      "[39]\tvalidation_0-logloss:0.16341\tvalidation_1-logloss:0.29792                                        \n",
      "[40]\tvalidation_0-logloss:0.15992\tvalidation_1-logloss:0.29254                                        \n",
      "[41]\tvalidation_0-logloss:0.15834\tvalidation_1-logloss:0.29156                                        \n",
      "[42]\tvalidation_0-logloss:0.15553\tvalidation_1-logloss:0.29274                                        \n",
      "[43]\tvalidation_0-logloss:0.15327\tvalidation_1-logloss:0.29341                                        \n",
      "[44]\tvalidation_0-logloss:0.15127\tvalidation_1-logloss:0.29507                                        \n",
      "[45]\tvalidation_0-logloss:0.14851\tvalidation_1-logloss:0.29485                                        \n"
     ]
    },
    {
     "name": "stdout",
     "output_type": "stream",
     "text": [
      "[46]\tvalidation_0-logloss:0.14595\tvalidation_1-logloss:0.29435                                        \n",
      "[47]\tvalidation_0-logloss:0.14320\tvalidation_1-logloss:0.29487                                        \n",
      "[48]\tvalidation_0-logloss:0.14066\tvalidation_1-logloss:0.29561                                        \n",
      "[49]\tvalidation_0-logloss:0.13868\tvalidation_1-logloss:0.29522                                        \n",
      "[50]\tvalidation_0-logloss:0.13697\tvalidation_1-logloss:0.29668                                        \n",
      "[51]\tvalidation_0-logloss:0.13457\tvalidation_1-logloss:0.29553                                        \n",
      "[52]\tvalidation_0-logloss:0.13266\tvalidation_1-logloss:0.29545                                        \n",
      "[53]\tvalidation_0-logloss:0.13073\tvalidation_1-logloss:0.29372                                        \n",
      "[54]\tvalidation_0-logloss:0.12905\tvalidation_1-logloss:0.29276                                        \n",
      "[55]\tvalidation_0-logloss:0.12659\tvalidation_1-logloss:0.29150                                        \n",
      "[56]\tvalidation_0-logloss:0.12572\tvalidation_1-logloss:0.29104                                        \n",
      "[57]\tvalidation_0-logloss:0.12422\tvalidation_1-logloss:0.29134                                        \n",
      "[58]\tvalidation_0-logloss:0.12161\tvalidation_1-logloss:0.29035                                        \n",
      "[59]\tvalidation_0-logloss:0.12019\tvalidation_1-logloss:0.28773                                        \n",
      "-0.9574029337959093                                                                                   \n",
      "[0]\tvalidation_0-logloss:0.30717\tvalidation_1-logloss:0.46355                                         \n",
      "[1]\tvalidation_0-logloss:0.21116\tvalidation_1-logloss:0.42179                                         \n",
      "[2]\tvalidation_0-logloss:0.14595\tvalidation_1-logloss:0.39543                                         \n",
      "[3]\tvalidation_0-logloss:0.10029\tvalidation_1-logloss:0.36150                                         \n",
      "[4]\tvalidation_0-logloss:0.06812\tvalidation_1-logloss:0.34157                                         \n",
      "[5]\tvalidation_0-logloss:0.05244\tvalidation_1-logloss:0.34491                                         \n",
      "[6]\tvalidation_0-logloss:0.04397\tvalidation_1-logloss:0.34479                                         \n",
      "[7]\tvalidation_0-logloss:0.03580\tvalidation_1-logloss:0.33978                                         \n",
      "[8]\tvalidation_0-logloss:0.03021\tvalidation_1-logloss:0.33663                                         \n",
      "[9]\tvalidation_0-logloss:0.02497\tvalidation_1-logloss:0.33785                                         \n",
      "[10]\tvalidation_0-logloss:0.02189\tvalidation_1-logloss:0.33005                                        \n",
      "[11]\tvalidation_0-logloss:0.01916\tvalidation_1-logloss:0.33215                                        \n",
      "[12]\tvalidation_0-logloss:0.01783\tvalidation_1-logloss:0.33961                                        \n",
      "[13]\tvalidation_0-logloss:0.01622\tvalidation_1-logloss:0.34953                                        \n",
      "[14]\tvalidation_0-logloss:0.01477\tvalidation_1-logloss:0.34848                                        \n",
      "[15]\tvalidation_0-logloss:0.01364\tvalidation_1-logloss:0.35332                                        \n",
      "[16]\tvalidation_0-logloss:0.01273\tvalidation_1-logloss:0.35537                                        \n",
      "[17]\tvalidation_0-logloss:0.01219\tvalidation_1-logloss:0.35601                                        \n",
      "[18]\tvalidation_0-logloss:0.01164\tvalidation_1-logloss:0.35820                                        \n",
      "[19]\tvalidation_0-logloss:0.01111\tvalidation_1-logloss:0.36529                                        \n",
      "[20]\tvalidation_0-logloss:0.01065\tvalidation_1-logloss:0.36363                                        \n",
      "[21]\tvalidation_0-logloss:0.01016\tvalidation_1-logloss:0.36482                                        \n",
      "[22]\tvalidation_0-logloss:0.00955\tvalidation_1-logloss:0.37362                                        \n",
      "[23]\tvalidation_0-logloss:0.00955\tvalidation_1-logloss:0.37364                                        \n",
      "[24]\tvalidation_0-logloss:0.00955\tvalidation_1-logloss:0.37364                                        \n",
      "[25]\tvalidation_0-logloss:0.00955\tvalidation_1-logloss:0.37364                                        \n",
      "[26]\tvalidation_0-logloss:0.00955\tvalidation_1-logloss:0.37364                                        \n",
      "[27]\tvalidation_0-logloss:0.00955\tvalidation_1-logloss:0.37364                                        \n",
      "[28]\tvalidation_0-logloss:0.00955\tvalidation_1-logloss:0.37364                                        \n",
      "[29]\tvalidation_0-logloss:0.00955\tvalidation_1-logloss:0.37364                                        \n",
      "-0.9477759042203502                                                                                   \n",
      "[0]\tvalidation_0-logloss:0.64148\tvalidation_1-logloss:0.64951                                         \n",
      "[1]\tvalidation_0-logloss:0.59910\tvalidation_1-logloss:0.61359                                         \n",
      "[2]\tvalidation_0-logloss:0.56317\tvalidation_1-logloss:0.58387                                         \n",
      "[3]\tvalidation_0-logloss:0.53275\tvalidation_1-logloss:0.55849                                         \n",
      "[4]\tvalidation_0-logloss:0.50415\tvalidation_1-logloss:0.53538                                         \n",
      "[5]\tvalidation_0-logloss:0.48094\tvalidation_1-logloss:0.51737                                         \n",
      "[6]\tvalidation_0-logloss:0.45891\tvalidation_1-logloss:0.49688                                         \n",
      "[7]\tvalidation_0-logloss:0.44105\tvalidation_1-logloss:0.48395                                         \n",
      "[8]\tvalidation_0-logloss:0.42538\tvalidation_1-logloss:0.47034                                         \n",
      "[9]\tvalidation_0-logloss:0.40954\tvalidation_1-logloss:0.45638                                         \n",
      "[10]\tvalidation_0-logloss:0.39568\tvalidation_1-logloss:0.44475                                        \n",
      "[11]\tvalidation_0-logloss:0.38344\tvalidation_1-logloss:0.43346                                        \n",
      "[12]\tvalidation_0-logloss:0.37302\tvalidation_1-logloss:0.42386                                        \n",
      "[13]\tvalidation_0-logloss:0.36170\tvalidation_1-logloss:0.41224                                        \n",
      "[14]\tvalidation_0-logloss:0.35136\tvalidation_1-logloss:0.40364                                        \n",
      "[15]\tvalidation_0-logloss:0.34182\tvalidation_1-logloss:0.39589                                        \n",
      "[16]\tvalidation_0-logloss:0.33392\tvalidation_1-logloss:0.38865                                        \n",
      "[17]\tvalidation_0-logloss:0.32554\tvalidation_1-logloss:0.38278                                        \n",
      "[18]\tvalidation_0-logloss:0.31791\tvalidation_1-logloss:0.37670                                        \n",
      "[19]\tvalidation_0-logloss:0.31051\tvalidation_1-logloss:0.37288                                        \n",
      "[20]\tvalidation_0-logloss:0.30376\tvalidation_1-logloss:0.36824                                        \n",
      "[21]\tvalidation_0-logloss:0.29867\tvalidation_1-logloss:0.36367                                        \n",
      "[22]\tvalidation_0-logloss:0.29311\tvalidation_1-logloss:0.35979                                        \n",
      "[23]\tvalidation_0-logloss:0.28871\tvalidation_1-logloss:0.35620                                        \n",
      "[24]\tvalidation_0-logloss:0.28317\tvalidation_1-logloss:0.35213                                        \n",
      "[25]\tvalidation_0-logloss:0.27980\tvalidation_1-logloss:0.34893                                        \n",
      "[26]\tvalidation_0-logloss:0.27364\tvalidation_1-logloss:0.34499                                        \n",
      "[27]\tvalidation_0-logloss:0.26887\tvalidation_1-logloss:0.34217                                        \n",
      "[28]\tvalidation_0-logloss:0.26577\tvalidation_1-logloss:0.33908                                        \n",
      "[29]\tvalidation_0-logloss:0.26071\tvalidation_1-logloss:0.33528                                        \n",
      "[30]\tvalidation_0-logloss:0.25749\tvalidation_1-logloss:0.33270                                        \n",
      "[31]\tvalidation_0-logloss:0.25394\tvalidation_1-logloss:0.33028                                        \n",
      "[32]\tvalidation_0-logloss:0.24988\tvalidation_1-logloss:0.32871                                        \n"
     ]
    },
    {
     "name": "stdout",
     "output_type": "stream",
     "text": [
      "[33]\tvalidation_0-logloss:0.24606\tvalidation_1-logloss:0.32587                                        \n",
      "[34]\tvalidation_0-logloss:0.24218\tvalidation_1-logloss:0.32259                                        \n",
      "[35]\tvalidation_0-logloss:0.23877\tvalidation_1-logloss:0.32098                                        \n",
      "[36]\tvalidation_0-logloss:0.23632\tvalidation_1-logloss:0.31891                                        \n",
      "[37]\tvalidation_0-logloss:0.23304\tvalidation_1-logloss:0.31639                                        \n",
      "[38]\tvalidation_0-logloss:0.23107\tvalidation_1-logloss:0.31551                                        \n",
      "[39]\tvalidation_0-logloss:0.22748\tvalidation_1-logloss:0.31497                                        \n",
      "[40]\tvalidation_0-logloss:0.22409\tvalidation_1-logloss:0.31336                                        \n",
      "[41]\tvalidation_0-logloss:0.22146\tvalidation_1-logloss:0.31253                                        \n",
      "[42]\tvalidation_0-logloss:0.21938\tvalidation_1-logloss:0.31104                                        \n",
      "[43]\tvalidation_0-logloss:0.21651\tvalidation_1-logloss:0.31054                                        \n",
      "[44]\tvalidation_0-logloss:0.21382\tvalidation_1-logloss:0.30886                                        \n",
      "[45]\tvalidation_0-logloss:0.21046\tvalidation_1-logloss:0.30648                                        \n",
      "[46]\tvalidation_0-logloss:0.20785\tvalidation_1-logloss:0.30640                                        \n",
      "[47]\tvalidation_0-logloss:0.20575\tvalidation_1-logloss:0.30528                                        \n",
      "[48]\tvalidation_0-logloss:0.20345\tvalidation_1-logloss:0.30432                                        \n",
      "[49]\tvalidation_0-logloss:0.20217\tvalidation_1-logloss:0.30311                                        \n",
      "[50]\tvalidation_0-logloss:0.19914\tvalidation_1-logloss:0.30296                                        \n",
      "[51]\tvalidation_0-logloss:0.19676\tvalidation_1-logloss:0.30177                                        \n",
      "[52]\tvalidation_0-logloss:0.19515\tvalidation_1-logloss:0.30055                                        \n",
      "[53]\tvalidation_0-logloss:0.19224\tvalidation_1-logloss:0.29878                                        \n",
      "[54]\tvalidation_0-logloss:0.19102\tvalidation_1-logloss:0.29852                                        \n",
      "[55]\tvalidation_0-logloss:0.18899\tvalidation_1-logloss:0.29806                                        \n",
      "[56]\tvalidation_0-logloss:0.18693\tvalidation_1-logloss:0.29719                                        \n",
      "[57]\tvalidation_0-logloss:0.18524\tvalidation_1-logloss:0.29583                                        \n",
      "[58]\tvalidation_0-logloss:0.18341\tvalidation_1-logloss:0.29575                                        \n",
      "[59]\tvalidation_0-logloss:0.18167\tvalidation_1-logloss:0.29515                                        \n",
      "[60]\tvalidation_0-logloss:0.17948\tvalidation_1-logloss:0.29453                                        \n",
      "[61]\tvalidation_0-logloss:0.17775\tvalidation_1-logloss:0.29359                                        \n",
      "[62]\tvalidation_0-logloss:0.17538\tvalidation_1-logloss:0.29161                                        \n",
      "[63]\tvalidation_0-logloss:0.17297\tvalidation_1-logloss:0.29094                                        \n",
      "[64]\tvalidation_0-logloss:0.17070\tvalidation_1-logloss:0.29107                                        \n",
      "[65]\tvalidation_0-logloss:0.16946\tvalidation_1-logloss:0.29036                                        \n",
      "[66]\tvalidation_0-logloss:0.16837\tvalidation_1-logloss:0.29022                                        \n",
      "[67]\tvalidation_0-logloss:0.16693\tvalidation_1-logloss:0.29023                                        \n",
      "-0.9568626837976957                                                                                   \n",
      "[0]\tvalidation_0-logloss:0.35573\tvalidation_1-logloss:0.47499                                         \n",
      "[1]\tvalidation_0-logloss:0.22990\tvalidation_1-logloss:0.40004                                         \n",
      "[2]\tvalidation_0-logloss:0.16010\tvalidation_1-logloss:0.35304                                         \n",
      "[3]\tvalidation_0-logloss:0.11682\tvalidation_1-logloss:0.35097                                         \n",
      "[4]\tvalidation_0-logloss:0.08782\tvalidation_1-logloss:0.35468                                         \n",
      "[5]\tvalidation_0-logloss:0.06878\tvalidation_1-logloss:0.34144                                         \n",
      "[6]\tvalidation_0-logloss:0.05654\tvalidation_1-logloss:0.33391                                         \n",
      "[7]\tvalidation_0-logloss:0.04609\tvalidation_1-logloss:0.32587                                         \n",
      "[8]\tvalidation_0-logloss:0.04012\tvalidation_1-logloss:0.32485                                         \n",
      "[9]\tvalidation_0-logloss:0.03488\tvalidation_1-logloss:0.32812                                         \n",
      "[10]\tvalidation_0-logloss:0.03157\tvalidation_1-logloss:0.31855                                        \n",
      "[11]\tvalidation_0-logloss:0.02858\tvalidation_1-logloss:0.31668                                        \n",
      "[12]\tvalidation_0-logloss:0.02661\tvalidation_1-logloss:0.31411                                        \n",
      "[13]\tvalidation_0-logloss:0.02613\tvalidation_1-logloss:0.31470                                        \n",
      "-0.953756691063853                                                                                    \n",
      "[0]\tvalidation_0-logloss:0.34866\tvalidation_1-logloss:0.45314                                         \n",
      "[1]\tvalidation_0-logloss:0.26282\tvalidation_1-logloss:0.41969                                         \n",
      "[2]\tvalidation_0-logloss:0.21734\tvalidation_1-logloss:0.38545                                         \n",
      "[3]\tvalidation_0-logloss:0.18120\tvalidation_1-logloss:0.38995                                         \n",
      "[4]\tvalidation_0-logloss:0.14604\tvalidation_1-logloss:0.39410                                         \n",
      "[5]\tvalidation_0-logloss:0.12331\tvalidation_1-logloss:0.40983                                         \n",
      "[6]\tvalidation_0-logloss:0.09956\tvalidation_1-logloss:0.40670                                         \n",
      "[7]\tvalidation_0-logloss:0.08472\tvalidation_1-logloss:0.41147                                         \n",
      "[8]\tvalidation_0-logloss:0.07106\tvalidation_1-logloss:0.40051                                         \n",
      "[9]\tvalidation_0-logloss:0.05890\tvalidation_1-logloss:0.40743                                         \n",
      "[10]\tvalidation_0-logloss:0.05316\tvalidation_1-logloss:0.40682                                        \n",
      "[11]\tvalidation_0-logloss:0.04766\tvalidation_1-logloss:0.42003                                        \n",
      "[12]\tvalidation_0-logloss:0.03904\tvalidation_1-logloss:0.41179                                        \n",
      "[13]\tvalidation_0-logloss:0.03452\tvalidation_1-logloss:0.42147                                        \n",
      "[14]\tvalidation_0-logloss:0.03036\tvalidation_1-logloss:0.41652                                        \n",
      "[15]\tvalidation_0-logloss:0.02826\tvalidation_1-logloss:0.41775                                        \n",
      "[16]\tvalidation_0-logloss:0.02549\tvalidation_1-logloss:0.41318                                        \n",
      "[17]\tvalidation_0-logloss:0.02396\tvalidation_1-logloss:0.40716                                        \n",
      "[18]\tvalidation_0-logloss:0.02214\tvalidation_1-logloss:0.40604                                        \n",
      "[19]\tvalidation_0-logloss:0.01945\tvalidation_1-logloss:0.42135                                        \n",
      "[20]\tvalidation_0-logloss:0.01769\tvalidation_1-logloss:0.42060                                        \n",
      "[21]\tvalidation_0-logloss:0.01677\tvalidation_1-logloss:0.42256                                        \n",
      "[22]\tvalidation_0-logloss:0.01637\tvalidation_1-logloss:0.42478                                        \n",
      "-0.946521644240549                                                                                    \n",
      "[0]\tvalidation_0-logloss:0.30368\tvalidation_1-logloss:0.45651                                         \n",
      "[1]\tvalidation_0-logloss:0.18336\tvalidation_1-logloss:0.38157                                         \n",
      "[2]\tvalidation_0-logloss:0.11955\tvalidation_1-logloss:0.34849                                         \n",
      "[3]\tvalidation_0-logloss:0.08077\tvalidation_1-logloss:0.33911                                         \n"
     ]
    },
    {
     "name": "stdout",
     "output_type": "stream",
     "text": [
      "[4]\tvalidation_0-logloss:0.06616\tvalidation_1-logloss:0.32003                                         \n",
      "[5]\tvalidation_0-logloss:0.04786\tvalidation_1-logloss:0.33970                                         \n",
      "[6]\tvalidation_0-logloss:0.03677\tvalidation_1-logloss:0.34251                                         \n",
      "[7]\tvalidation_0-logloss:0.02978\tvalidation_1-logloss:0.35818                                         \n",
      "[8]\tvalidation_0-logloss:0.02577\tvalidation_1-logloss:0.36073                                         \n",
      "[9]\tvalidation_0-logloss:0.02233\tvalidation_1-logloss:0.37904                                         \n",
      "[10]\tvalidation_0-logloss:0.01930\tvalidation_1-logloss:0.36549                                        \n",
      "[11]\tvalidation_0-logloss:0.01694\tvalidation_1-logloss:0.37165                                        \n",
      "[12]\tvalidation_0-logloss:0.01597\tvalidation_1-logloss:0.37863                                        \n",
      "[13]\tvalidation_0-logloss:0.01469\tvalidation_1-logloss:0.37926                                        \n",
      "[14]\tvalidation_0-logloss:0.01390\tvalidation_1-logloss:0.38566                                        \n",
      "[15]\tvalidation_0-logloss:0.01342\tvalidation_1-logloss:0.39091                                        \n",
      "[16]\tvalidation_0-logloss:0.01270\tvalidation_1-logloss:0.39285                                        \n",
      "[17]\tvalidation_0-logloss:0.01245\tvalidation_1-logloss:0.38886                                        \n",
      "[18]\tvalidation_0-logloss:0.01201\tvalidation_1-logloss:0.38839                                        \n",
      "[19]\tvalidation_0-logloss:0.01175\tvalidation_1-logloss:0.38555                                        \n",
      "[20]\tvalidation_0-logloss:0.01136\tvalidation_1-logloss:0.38724                                        \n",
      "[21]\tvalidation_0-logloss:0.01057\tvalidation_1-logloss:0.39073                                        \n",
      "[22]\tvalidation_0-logloss:0.01028\tvalidation_1-logloss:0.38682                                        \n",
      "[23]\tvalidation_0-logloss:0.01028\tvalidation_1-logloss:0.38674                                        \n",
      "[24]\tvalidation_0-logloss:0.01027\tvalidation_1-logloss:0.38672                                        \n",
      "-0.9516924208237757                                                                                   \n",
      "[0]\tvalidation_0-logloss:0.36992\tvalidation_1-logloss:0.48178                                         \n",
      "[1]\tvalidation_0-logloss:0.24002\tvalidation_1-logloss:0.41022                                         \n",
      "[2]\tvalidation_0-logloss:0.16885\tvalidation_1-logloss:0.37169                                         \n",
      "[3]\tvalidation_0-logloss:0.12186\tvalidation_1-logloss:0.35508                                         \n",
      "[4]\tvalidation_0-logloss:0.09403\tvalidation_1-logloss:0.35748                                         \n",
      "[5]\tvalidation_0-logloss:0.07458\tvalidation_1-logloss:0.34758                                         \n",
      "[6]\tvalidation_0-logloss:0.05977\tvalidation_1-logloss:0.34205                                         \n",
      "[7]\tvalidation_0-logloss:0.04948\tvalidation_1-logloss:0.34594                                         \n",
      "[8]\tvalidation_0-logloss:0.04183\tvalidation_1-logloss:0.33794                                         \n",
      "[9]\tvalidation_0-logloss:0.03675\tvalidation_1-logloss:0.33666                                         \n",
      "[10]\tvalidation_0-logloss:0.03320\tvalidation_1-logloss:0.33859                                        \n",
      "[11]\tvalidation_0-logloss:0.03026\tvalidation_1-logloss:0.33819                                        \n",
      "[12]\tvalidation_0-logloss:0.02754\tvalidation_1-logloss:0.34918                                        \n",
      "[13]\tvalidation_0-logloss:0.02682\tvalidation_1-logloss:0.34711                                        \n",
      "[14]\tvalidation_0-logloss:0.02540\tvalidation_1-logloss:0.34685                                        \n",
      "[15]\tvalidation_0-logloss:0.02402\tvalidation_1-logloss:0.34613                                        \n",
      "[16]\tvalidation_0-logloss:0.02292\tvalidation_1-logloss:0.35006                                        \n",
      "[17]\tvalidation_0-logloss:0.02214\tvalidation_1-logloss:0.34766                                        \n",
      "[18]\tvalidation_0-logloss:0.02214\tvalidation_1-logloss:0.34767                                        \n",
      "[19]\tvalidation_0-logloss:0.02214\tvalidation_1-logloss:0.34768                                        \n",
      "[20]\tvalidation_0-logloss:0.02214\tvalidation_1-logloss:0.34768                                        \n",
      "[21]\tvalidation_0-logloss:0.02214\tvalidation_1-logloss:0.34768                                        \n",
      "[22]\tvalidation_0-logloss:0.02214\tvalidation_1-logloss:0.34768                                        \n",
      "[23]\tvalidation_0-logloss:0.02214\tvalidation_1-logloss:0.34768                                        \n",
      "[24]\tvalidation_0-logloss:0.02214\tvalidation_1-logloss:0.34768                                        \n",
      "[25]\tvalidation_0-logloss:0.02214\tvalidation_1-logloss:0.34768                                        \n",
      "[26]\tvalidation_0-logloss:0.02214\tvalidation_1-logloss:0.34768                                        \n",
      "[27]\tvalidation_0-logloss:0.02214\tvalidation_1-logloss:0.34768                                        \n",
      "[28]\tvalidation_0-logloss:0.02214\tvalidation_1-logloss:0.34768                                        \n",
      "[29]\tvalidation_0-logloss:0.02214\tvalidation_1-logloss:0.34768                                        \n",
      "-0.9507856212618175                                                                                   \n",
      "[0]\tvalidation_0-logloss:0.47639\tvalidation_1-logloss:0.50811                                         \n",
      "[1]\tvalidation_0-logloss:0.41225\tvalidation_1-logloss:0.46060                                         \n",
      "-0.8803684994182073                                                                                   \n",
      "[0]\tvalidation_0-logloss:0.55804\tvalidation_1-logloss:0.58752                                         \n",
      "[1]\tvalidation_0-logloss:0.47747\tvalidation_1-logloss:0.50016                                         \n",
      "[2]\tvalidation_0-logloss:0.43533\tvalidation_1-logloss:0.47352                                         \n",
      "[3]\tvalidation_0-logloss:0.41204\tvalidation_1-logloss:0.44925                                         \n",
      "[4]\tvalidation_0-logloss:0.38379\tvalidation_1-logloss:0.43032                                         \n",
      "[5]\tvalidation_0-logloss:0.36624\tvalidation_1-logloss:0.40097                                         \n",
      "[6]\tvalidation_0-logloss:0.34917\tvalidation_1-logloss:0.37516                                         \n",
      "[7]\tvalidation_0-logloss:0.34032\tvalidation_1-logloss:0.36997                                         \n",
      "[8]\tvalidation_0-logloss:0.33098\tvalidation_1-logloss:0.36760                                         \n",
      "[9]\tvalidation_0-logloss:0.32028\tvalidation_1-logloss:0.36397                                         \n",
      "[10]\tvalidation_0-logloss:0.31224\tvalidation_1-logloss:0.35254                                        \n",
      "[11]\tvalidation_0-logloss:0.30562\tvalidation_1-logloss:0.34975                                        \n",
      "[12]\tvalidation_0-logloss:0.29952\tvalidation_1-logloss:0.34440                                        \n",
      "[13]\tvalidation_0-logloss:0.29196\tvalidation_1-logloss:0.32908                                        \n",
      "[14]\tvalidation_0-logloss:0.28695\tvalidation_1-logloss:0.32763                                        \n",
      "[15]\tvalidation_0-logloss:0.27868\tvalidation_1-logloss:0.33223                                        \n",
      "[16]\tvalidation_0-logloss:0.27407\tvalidation_1-logloss:0.32786                                        \n",
      "[17]\tvalidation_0-logloss:0.26964\tvalidation_1-logloss:0.32019                                        \n",
      "[18]\tvalidation_0-logloss:0.26578\tvalidation_1-logloss:0.32374                                        \n",
      "[19]\tvalidation_0-logloss:0.26139\tvalidation_1-logloss:0.31825                                        \n",
      "[20]\tvalidation_0-logloss:0.25754\tvalidation_1-logloss:0.31466                                        \n",
      "[21]\tvalidation_0-logloss:0.25379\tvalidation_1-logloss:0.31085                                        \n",
      "[22]\tvalidation_0-logloss:0.25043\tvalidation_1-logloss:0.30851                                        \n"
     ]
    },
    {
     "name": "stdout",
     "output_type": "stream",
     "text": [
      "[23]\tvalidation_0-logloss:0.24704\tvalidation_1-logloss:0.30404                                        \n",
      "[24]\tvalidation_0-logloss:0.24452\tvalidation_1-logloss:0.30313                                        \n",
      "[25]\tvalidation_0-logloss:0.24139\tvalidation_1-logloss:0.29984                                        \n",
      "[26]\tvalidation_0-logloss:0.23885\tvalidation_1-logloss:0.29319                                        \n",
      "[27]\tvalidation_0-logloss:0.23641\tvalidation_1-logloss:0.29556                                        \n",
      "-0.9407345048538314                                                                                   \n",
      "100%|██████████████████████████████| 10/10 [03:22<00:00, 20.28s/trial, best loss: -0.9574029337959093]\n"
     ]
    }
   ],
   "source": [
    "def xgb_score(params): #function to train and test different hyperparams\n",
    "    model = xgb.XGBClassifier(**params, eval_metric='logloss')\n",
    "    model.fit(X_train_fs, y_train, early_stopping_rounds=20,\n",
    "             eval_set=[(X_train_fs, y_train), (X_test_fs, y_test)])\n",
    "    score = -cross_val_score(model, X_train_fs, y_train, cv=10, scoring='roc_auc').mean()\n",
    "    print(score)\n",
    "    return {'loss': score, 'status': STATUS_OK}\n",
    "            \n",
    "def xgb_optimize(trials, space): #fmin is the main library function\n",
    "    best = fmin(xgb_score, space, algo=tpe.suggest, max_evals=10)\n",
    "    return best\n",
    "            \n",
    "trials = Trials() #database that store completed hyperparameters and score\n",
    "best_xgb_params = xgb_optimize(trials, hyperparam_space) #calls fmin"
   ]
  },
  {
   "cell_type": "code",
   "execution_count": 38,
   "id": "08f0f315",
   "metadata": {},
   "outputs": [
    {
     "data": {
      "text/plain": [
       "{'gamma': 0.1, 'learning_rate': 0.34, 'max_depth': 1, 'n_estimators': 59}"
      ]
     },
     "execution_count": 38,
     "metadata": {},
     "output_type": "execute_result"
    }
   ],
   "source": [
    "best_xgb_params"
   ]
  },
  {
   "cell_type": "code",
   "execution_count": 39,
   "id": "7220bdaa",
   "metadata": {},
   "outputs": [
    {
     "name": "stdout",
     "output_type": "stream",
     "text": [
      "auc_roc score on test data:  0.9469008775182302\n"
     ]
    }
   ],
   "source": [
    "xgb_model = xgb.XGBClassifier(**best_xgb_params, eval_metric='logloss')\n",
    "xgb_model.fit(X_train_fs, y_train)\n",
    "preds = [pred[1] for pred in xgb_model.predict_proba(X_test_fs)]\n",
    "score = roc_auc_score(y_test, preds, average='weighted')\n",
    "print('auc_roc score on test data: ', score)"
   ]
  },
  {
   "cell_type": "code",
   "execution_count": 87,
   "id": "6de01ce2",
   "metadata": {},
   "outputs": [],
   "source": [
    "y_pred = xgb_model.predict(X_test_fs)"
   ]
  },
  {
   "cell_type": "code",
   "execution_count": 89,
   "id": "8fa75b89",
   "metadata": {},
   "outputs": [
    {
     "name": "stdout",
     "output_type": "stream",
     "text": [
      "F1 Score: 0.8787061994609164\n"
     ]
    }
   ],
   "source": [
    "f1=f1_score(y_test, y_pred) #get f1 score\n",
    "print('F1 Score:', f1)"
   ]
  },
  {
   "cell_type": "code",
   "execution_count": 90,
   "id": "e071fff3",
   "metadata": {},
   "outputs": [
    {
     "name": "stdout",
     "output_type": "stream",
     "text": [
      "[[152  22]\n",
      " [ 23 163]]\n"
     ]
    }
   ],
   "source": [
    "print(metrics.confusion_matrix(y_test, y_pred))"
   ]
  },
  {
   "cell_type": "code",
   "execution_count": null,
   "id": "097d3664",
   "metadata": {},
   "outputs": [],
   "source": []
  },
  {
   "cell_type": "code",
   "execution_count": null,
   "id": "c5443790",
   "metadata": {},
   "outputs": [],
   "source": []
  },
  {
   "cell_type": "code",
   "execution_count": 40,
   "id": "e36922ef",
   "metadata": {},
   "outputs": [
    {
     "data": {
      "image/png": "[encoded data removed]",
      "text/plain": [
       "<Figure size 576x684 with 2 Axes>"
      ]
     },
     "metadata": {
      "needs_background": "light"
     },
     "output_type": "display_data"
    }
   ],
   "source": [
    "shap_values = shap.TreeExplainer(xgb_model).shap_values(X_test_fs)\n",
    "shap.summary_plot(shap_values, X_test_fs)"
   ]
  },
  {
   "cell_type": "code",
   "execution_count": 41,
   "id": "af9c75d1",
   "metadata": {},
   "outputs": [
    {
     "data": {
      "image/png": "[encoded data removed]",
      "text/plain": [
       "<Figure size 432x288 with 1 Axes>"
      ]
     },
     "metadata": {
      "needs_background": "light"
     },
     "output_type": "display_data"
    },
    {
     "data": {
      "text/plain": [
       "<Figure size 1800x864 with 0 Axes>"
      ]
     },
     "metadata": {},
     "output_type": "display_data"
    }
   ],
   "source": [
    "xgb.plot_importance(xgb_model, importance_type='cover', max_num_features=20)\n",
    "plt.figure(figsize=(25, 12))\n",
    "plt.show()"
   ]
  },
  {
   "cell_type": "code",
   "execution_count": null,
   "id": "0a9c598a",
   "metadata": {},
   "outputs": [],
   "source": []
  },
  {
   "cell_type": "code",
   "execution_count": null,
   "id": "aa137be4",
   "metadata": {},
   "outputs": [],
   "source": []
  },
  {
   "cell_type": "code",
   "execution_count": null,
   "id": "3ef06df0",
   "metadata": {},
   "outputs": [],
   "source": []
  },
  {
   "cell_type": "markdown",
   "id": "4b06e8e7",
   "metadata": {},
   "source": [
    "## Conclusions"
   ]
  },
  {
   "cell_type": "markdown",
   "id": "02eaaccb",
   "metadata": {},
   "source": [
    "## Visualizations should include the above ROC plots, SHAP plots, as well as the built in feature importance plots."
   ]
  },
  {
   "cell_type": "code",
   "execution_count": null,
   "id": "f94ce86a",
   "metadata": {},
   "outputs": [],
   "source": []
  },
  {
   "cell_type": "code",
   "execution_count": null,
   "id": "ff3b9709",
   "metadata": {},
   "outputs": [],
   "source": []
  },
  {
   "cell_type": "code",
   "execution_count": null,
   "id": "d1f8d681",
   "metadata": {},
   "outputs": [],
   "source": []
  },
  {
   "cell_type": "code",
   "execution_count": null,
   "id": "644a06ea",
   "metadata": {},
   "outputs": [],
   "source": []
  },
  {
   "cell_type": "code",
   "execution_count": null,
   "id": "334910bf",
   "metadata": {},
   "outputs": [],
   "source": []
  },
  {
   "cell_type": "code",
   "execution_count": null,
   "id": "f8dda090",
   "metadata": {},
   "outputs": [],
   "source": []
  },
  {
   "cell_type": "markdown",
   "id": "84a47da5",
   "metadata": {},
   "source": [
    "# scrap the below in final version"
   ]
  },
  {
   "cell_type": "markdown",
   "id": "178f54a2",
   "metadata": {},
   "source": [
    "### Anomaly Detection Approach??"
   ]
  },
  {
   "cell_type": "code",
   "execution_count": 42,
   "id": "89b83f23",
   "metadata": {},
   "outputs": [
    {
     "data": {
      "text/plain": [
       "(18000, 714)"
      ]
     },
     "execution_count": 42,
     "metadata": {},
     "output_type": "execute_result"
    }
   ],
   "source": [
    "df1.shape #go back to original dataset"
   ]
  },
  {
   "cell_type": "code",
   "execution_count": 43,
   "id": "45f14f3d",
   "metadata": {},
   "outputs": [],
   "source": [
    "df1 = df1._get_numeric_data() #drop nonnumeric columns"
   ]
  },
  {
   "cell_type": "markdown",
   "id": "e77293c3",
   "metadata": {},
   "source": [
    "#### Isolation Forest"
   ]
  },
  {
   "cell_type": "markdown",
   "id": "e8ab2ea7",
   "metadata": {},
   "source": [
    "Setting contamination rate to 5% as seen in original data, using 200 estimators."
   ]
  },
  {
   "cell_type": "code",
   "execution_count": 44,
   "id": "61238ad1",
   "metadata": {},
   "outputs": [
    {
     "data": {
      "text/plain": [
       "(900, 694)"
      ]
     },
     "execution_count": 44,
     "metadata": {},
     "output_type": "execute_result"
    }
   ],
   "source": [
    "iso = IsolationForest(n_estimators=200, max_samples='auto', contamination=0.05)\n",
    "new_df = df1.drop(columns=['category'])\n",
    "iso.fit(new_df)\n",
    "new_df['anomaly_score'] = iso.predict(new_df)\n",
    "new_df[new_df['anomaly_score'] == -1].shape"
   ]
  },
  {
   "cell_type": "markdown",
   "id": "f371722c",
   "metadata": {},
   "source": [
    "As expected, found 900 \"outliers\" (in our case malware)."
   ]
  },
  {
   "cell_type": "code",
   "execution_count": 45,
   "id": "ff4126ba",
   "metadata": {},
   "outputs": [
    {
     "data": {
      "text/html": [
       "<div>\n",
       "<style scoped>\n",
       "    .dataframe tbody tr th:only-of-type {\n",
       "        vertical-align: middle;\n",
       "    }\n",
       "\n",
       "    .dataframe tbody tr th {\n",
       "        vertical-align: top;\n",
       "    }\n",
       "\n",
       "    .dataframe thead th {\n",
       "        text-align: right;\n",
       "    }\n",
       "</style>\n",
       "<table border=\"1\" class=\"dataframe\">\n",
       "  <thead>\n",
       "    <tr style=\"text-align: right;\">\n",
       "      <th></th>\n",
       "      <th>histogram_0</th>\n",
       "      <th>histogram_1</th>\n",
       "      <th>histogram_2</th>\n",
       "      <th>histogram_3</th>\n",
       "      <th>histogram_4</th>\n",
       "      <th>histogram_5</th>\n",
       "      <th>histogram_6</th>\n",
       "      <th>histogram_7</th>\n",
       "      <th>histogram_8</th>\n",
       "      <th>histogram_9</th>\n",
       "      <th>...</th>\n",
       "      <th>datadirectories_12_size</th>\n",
       "      <th>datadirectories_12_virtual_address</th>\n",
       "      <th>datadirectories_13_size</th>\n",
       "      <th>datadirectories_13_virtual_address</th>\n",
       "      <th>datadirectories_14_size</th>\n",
       "      <th>datadirectories_14_virtual_address</th>\n",
       "      <th>datadirectories_15_size</th>\n",
       "      <th>datadirectories_15_virtual_address</th>\n",
       "      <th>anomaly_score</th>\n",
       "      <th>category</th>\n",
       "    </tr>\n",
       "  </thead>\n",
       "  <tbody>\n",
       "    <tr>\n",
       "      <th>0</th>\n",
       "      <td>127242</td>\n",
       "      <td>9185</td>\n",
       "      <td>3818</td>\n",
       "      <td>3127</td>\n",
       "      <td>13300</td>\n",
       "      <td>1594</td>\n",
       "      <td>1781</td>\n",
       "      <td>1493</td>\n",
       "      <td>9938</td>\n",
       "      <td>1006</td>\n",
       "      <td>...</td>\n",
       "      <td>620</td>\n",
       "      <td>11711244</td>\n",
       "      <td>0</td>\n",
       "      <td>0</td>\n",
       "      <td>0</td>\n",
       "      <td>0</td>\n",
       "      <td>0</td>\n",
       "      <td>0</td>\n",
       "      <td>1</td>\n",
       "      <td>0</td>\n",
       "    </tr>\n",
       "    <tr>\n",
       "      <th>1</th>\n",
       "      <td>36152</td>\n",
       "      <td>2617</td>\n",
       "      <td>4120</td>\n",
       "      <td>876</td>\n",
       "      <td>1711</td>\n",
       "      <td>755</td>\n",
       "      <td>672</td>\n",
       "      <td>521</td>\n",
       "      <td>2278</td>\n",
       "      <td>325</td>\n",
       "      <td>...</td>\n",
       "      <td>340</td>\n",
       "      <td>131072</td>\n",
       "      <td>0</td>\n",
       "      <td>0</td>\n",
       "      <td>0</td>\n",
       "      <td>0</td>\n",
       "      <td>0</td>\n",
       "      <td>0</td>\n",
       "      <td>1</td>\n",
       "      <td>0</td>\n",
       "    </tr>\n",
       "    <tr>\n",
       "      <th>2</th>\n",
       "      <td>39986</td>\n",
       "      <td>7112</td>\n",
       "      <td>7953</td>\n",
       "      <td>6604</td>\n",
       "      <td>6542</td>\n",
       "      <td>6441</td>\n",
       "      <td>5869</td>\n",
       "      <td>6422</td>\n",
       "      <td>6224</td>\n",
       "      <td>6017</td>\n",
       "      <td>...</td>\n",
       "      <td>588</td>\n",
       "      <td>123728</td>\n",
       "      <td>0</td>\n",
       "      <td>0</td>\n",
       "      <td>0</td>\n",
       "      <td>0</td>\n",
       "      <td>0</td>\n",
       "      <td>0</td>\n",
       "      <td>1</td>\n",
       "      <td>0</td>\n",
       "    </tr>\n",
       "    <tr>\n",
       "      <th>3</th>\n",
       "      <td>253873</td>\n",
       "      <td>32714</td>\n",
       "      <td>22629</td>\n",
       "      <td>17500</td>\n",
       "      <td>15355</td>\n",
       "      <td>6691</td>\n",
       "      <td>10881</td>\n",
       "      <td>4258</td>\n",
       "      <td>11992</td>\n",
       "      <td>3513</td>\n",
       "      <td>...</td>\n",
       "      <td>216</td>\n",
       "      <td>282920</td>\n",
       "      <td>0</td>\n",
       "      <td>0</td>\n",
       "      <td>0</td>\n",
       "      <td>0</td>\n",
       "      <td>0</td>\n",
       "      <td>0</td>\n",
       "      <td>1</td>\n",
       "      <td>0</td>\n",
       "    </tr>\n",
       "    <tr>\n",
       "      <th>4</th>\n",
       "      <td>12464</td>\n",
       "      <td>1020</td>\n",
       "      <td>502</td>\n",
       "      <td>264</td>\n",
       "      <td>1918</td>\n",
       "      <td>218</td>\n",
       "      <td>262</td>\n",
       "      <td>91</td>\n",
       "      <td>846</td>\n",
       "      <td>78</td>\n",
       "      <td>...</td>\n",
       "      <td>0</td>\n",
       "      <td>0</td>\n",
       "      <td>0</td>\n",
       "      <td>0</td>\n",
       "      <td>0</td>\n",
       "      <td>0</td>\n",
       "      <td>0</td>\n",
       "      <td>0</td>\n",
       "      <td>1</td>\n",
       "      <td>0</td>\n",
       "    </tr>\n",
       "    <tr>\n",
       "      <th>5</th>\n",
       "      <td>17889</td>\n",
       "      <td>1281</td>\n",
       "      <td>868</td>\n",
       "      <td>642</td>\n",
       "      <td>914</td>\n",
       "      <td>138</td>\n",
       "      <td>311</td>\n",
       "      <td>148</td>\n",
       "      <td>433</td>\n",
       "      <td>82</td>\n",
       "      <td>...</td>\n",
       "      <td>0</td>\n",
       "      <td>0</td>\n",
       "      <td>0</td>\n",
       "      <td>0</td>\n",
       "      <td>0</td>\n",
       "      <td>0</td>\n",
       "      <td>0</td>\n",
       "      <td>0</td>\n",
       "      <td>1</td>\n",
       "      <td>0</td>\n",
       "    </tr>\n",
       "    <tr>\n",
       "      <th>6</th>\n",
       "      <td>224255</td>\n",
       "      <td>28215</td>\n",
       "      <td>12691</td>\n",
       "      <td>13046</td>\n",
       "      <td>21264</td>\n",
       "      <td>4115</td>\n",
       "      <td>3790</td>\n",
       "      <td>3590</td>\n",
       "      <td>11766</td>\n",
       "      <td>1889</td>\n",
       "      <td>...</td>\n",
       "      <td>408</td>\n",
       "      <td>1188328</td>\n",
       "      <td>0</td>\n",
       "      <td>0</td>\n",
       "      <td>0</td>\n",
       "      <td>0</td>\n",
       "      <td>0</td>\n",
       "      <td>0</td>\n",
       "      <td>1</td>\n",
       "      <td>0</td>\n",
       "    </tr>\n",
       "    <tr>\n",
       "      <th>7</th>\n",
       "      <td>14195</td>\n",
       "      <td>1054</td>\n",
       "      <td>778</td>\n",
       "      <td>1068</td>\n",
       "      <td>291</td>\n",
       "      <td>653</td>\n",
       "      <td>251</td>\n",
       "      <td>249</td>\n",
       "      <td>338</td>\n",
       "      <td>164</td>\n",
       "      <td>...</td>\n",
       "      <td>0</td>\n",
       "      <td>0</td>\n",
       "      <td>0</td>\n",
       "      <td>0</td>\n",
       "      <td>0</td>\n",
       "      <td>0</td>\n",
       "      <td>0</td>\n",
       "      <td>0</td>\n",
       "      <td>1</td>\n",
       "      <td>0</td>\n",
       "    </tr>\n",
       "    <tr>\n",
       "      <th>8</th>\n",
       "      <td>48208</td>\n",
       "      <td>3288</td>\n",
       "      <td>1441</td>\n",
       "      <td>2611</td>\n",
       "      <td>4938</td>\n",
       "      <td>313</td>\n",
       "      <td>266</td>\n",
       "      <td>635</td>\n",
       "      <td>2104</td>\n",
       "      <td>231</td>\n",
       "      <td>...</td>\n",
       "      <td>1284</td>\n",
       "      <td>230880</td>\n",
       "      <td>0</td>\n",
       "      <td>0</td>\n",
       "      <td>0</td>\n",
       "      <td>0</td>\n",
       "      <td>0</td>\n",
       "      <td>0</td>\n",
       "      <td>1</td>\n",
       "      <td>0</td>\n",
       "    </tr>\n",
       "    <tr>\n",
       "      <th>9</th>\n",
       "      <td>370224</td>\n",
       "      <td>37570</td>\n",
       "      <td>24575</td>\n",
       "      <td>18127</td>\n",
       "      <td>40687</td>\n",
       "      <td>15614</td>\n",
       "      <td>12405</td>\n",
       "      <td>11777</td>\n",
       "      <td>24099</td>\n",
       "      <td>5331</td>\n",
       "      <td>...</td>\n",
       "      <td>0</td>\n",
       "      <td>0</td>\n",
       "      <td>0</td>\n",
       "      <td>0</td>\n",
       "      <td>0</td>\n",
       "      <td>0</td>\n",
       "      <td>0</td>\n",
       "      <td>0</td>\n",
       "      <td>1</td>\n",
       "      <td>0</td>\n",
       "    </tr>\n",
       "  </tbody>\n",
       "</table>\n",
       "<p>10 rows × 695 columns</p>\n",
       "</div>"
      ],
      "text/plain": [
       "   histogram_0  histogram_1  histogram_2  histogram_3  histogram_4  \\\n",
       "0       127242         9185         3818         3127        13300   \n",
       "1        36152         2617         4120          876         1711   \n",
       "2        39986         7112         7953         6604         6542   \n",
       "3       253873        32714        22629        17500        15355   \n",
       "4        12464         1020          502          264         1918   \n",
       "5        17889         1281          868          642          914   \n",
       "6       224255        28215        12691        13046        21264   \n",
       "7        14195         1054          778         1068          291   \n",
       "8        48208         3288         1441         2611         4938   \n",
       "9       370224        37570        24575        18127        40687   \n",
       "\n",
       "   histogram_5  histogram_6  histogram_7  histogram_8  histogram_9  ...  \\\n",
       "0         1594         1781         1493         9938         1006  ...   \n",
       "1          755          672          521         2278          325  ...   \n",
       "2         6441         5869         6422         6224         6017  ...   \n",
       "3         6691        10881         4258        11992         3513  ...   \n",
       "4          218          262           91          846           78  ...   \n",
       "5          138          311          148          433           82  ...   \n",
       "6         4115         3790         3590        11766         1889  ...   \n",
       "7          653          251          249          338          164  ...   \n",
       "8          313          266          635         2104          231  ...   \n",
       "9        15614        12405        11777        24099         5331  ...   \n",
       "\n",
       "   datadirectories_12_size  datadirectories_12_virtual_address  \\\n",
       "0                      620                            11711244   \n",
       "1                      340                              131072   \n",
       "2                      588                              123728   \n",
       "3                      216                              282920   \n",
       "4                        0                                   0   \n",
       "5                        0                                   0   \n",
       "6                      408                             1188328   \n",
       "7                        0                                   0   \n",
       "8                     1284                              230880   \n",
       "9                        0                                   0   \n",
       "\n",
       "   datadirectories_13_size  datadirectories_13_virtual_address  \\\n",
       "0                        0                                   0   \n",
       "1                        0                                   0   \n",
       "2                        0                                   0   \n",
       "3                        0                                   0   \n",
       "4                        0                                   0   \n",
       "5                        0                                   0   \n",
       "6                        0                                   0   \n",
       "7                        0                                   0   \n",
       "8                        0                                   0   \n",
       "9                        0                                   0   \n",
       "\n",
       "   datadirectories_14_size  datadirectories_14_virtual_address  \\\n",
       "0                        0                                   0   \n",
       "1                        0                                   0   \n",
       "2                        0                                   0   \n",
       "3                        0                                   0   \n",
       "4                        0                                   0   \n",
       "5                        0                                   0   \n",
       "6                        0                                   0   \n",
       "7                        0                                   0   \n",
       "8                        0                                   0   \n",
       "9                        0                                   0   \n",
       "\n",
       "   datadirectories_15_size  datadirectories_15_virtual_address  anomaly_score  \\\n",
       "0                        0                                   0              1   \n",
       "1                        0                                   0              1   \n",
       "2                        0                                   0              1   \n",
       "3                        0                                   0              1   \n",
       "4                        0                                   0              1   \n",
       "5                        0                                   0              1   \n",
       "6                        0                                   0              1   \n",
       "7                        0                                   0              1   \n",
       "8                        0                                   0              1   \n",
       "9                        0                                   0              1   \n",
       "\n",
       "   category  \n",
       "0         0  \n",
       "1         0  \n",
       "2         0  \n",
       "3         0  \n",
       "4         0  \n",
       "5         0  \n",
       "6         0  \n",
       "7         0  \n",
       "8         0  \n",
       "9         0  \n",
       "\n",
       "[10 rows x 695 columns]"
      ]
     },
     "execution_count": 45,
     "metadata": {},
     "output_type": "execute_result"
    }
   ],
   "source": [
    "iso_df = pd.concat([new_df, df1['category']], axis=1) #join the anomaly prediction with og data\n",
    "iso_df.head(10)"
   ]
  },
  {
   "cell_type": "code",
   "execution_count": 46,
   "id": "db636f68",
   "metadata": {},
   "outputs": [
    {
     "data": {
      "text/plain": [
       "anomaly_score\n",
       "-1      900\n",
       " 1    17100\n",
       "dtype: int64"
      ]
     },
     "execution_count": 46,
     "metadata": {},
     "output_type": "execute_result"
    }
   ],
   "source": [
    "iso_df.groupby('anomaly_score').size() #sanity check"
   ]
  },
  {
   "cell_type": "code",
   "execution_count": 47,
   "id": "bd0f404f",
   "metadata": {},
   "outputs": [],
   "source": [
    "iso_df['anomaly'] = \"\" #add new empty column to switch out -1 to 1 and 1 to 0"
   ]
  },
  {
   "cell_type": "code",
   "execution_count": 48,
   "id": "107742d9",
   "metadata": {},
   "outputs": [],
   "source": [
    "iso_df.loc[iso_df.anomaly_score == -1, \"anomaly\"] = 1\n",
    "iso_df.loc[iso_df.anomaly_score == 1, \"anomaly\"] = 0"
   ]
  },
  {
   "cell_type": "code",
   "execution_count": 49,
   "id": "01dca1fe",
   "metadata": {},
   "outputs": [
    {
     "name": "stdout",
     "output_type": "stream",
     "text": [
      "anomaly\n",
      "0    17100\n",
      "1      900\n",
      "dtype: int64 category\n",
      "0    17100\n",
      "1      900\n",
      "dtype: int64\n"
     ]
    }
   ],
   "source": [
    "print(iso_df.groupby('anomaly').size(), iso_df.groupby('category').size())"
   ]
  },
  {
   "cell_type": "code",
   "execution_count": 50,
   "id": "64fc2bd1",
   "metadata": {},
   "outputs": [
    {
     "data": {
      "text/html": [
       "<div>\n",
       "<style scoped>\n",
       "    .dataframe tbody tr th:only-of-type {\n",
       "        vertical-align: middle;\n",
       "    }\n",
       "\n",
       "    .dataframe tbody tr th {\n",
       "        vertical-align: top;\n",
       "    }\n",
       "\n",
       "    .dataframe thead th {\n",
       "        text-align: right;\n",
       "    }\n",
       "</style>\n",
       "<table border=\"1\" class=\"dataframe\">\n",
       "  <thead>\n",
       "    <tr style=\"text-align: right;\">\n",
       "      <th></th>\n",
       "      <th>histogram_0</th>\n",
       "      <th>histogram_1</th>\n",
       "      <th>histogram_2</th>\n",
       "      <th>histogram_3</th>\n",
       "      <th>histogram_4</th>\n",
       "      <th>histogram_5</th>\n",
       "      <th>histogram_6</th>\n",
       "      <th>histogram_7</th>\n",
       "      <th>histogram_8</th>\n",
       "      <th>histogram_9</th>\n",
       "      <th>...</th>\n",
       "      <th>datadirectories_12_virtual_address</th>\n",
       "      <th>datadirectories_13_size</th>\n",
       "      <th>datadirectories_13_virtual_address</th>\n",
       "      <th>datadirectories_14_size</th>\n",
       "      <th>datadirectories_14_virtual_address</th>\n",
       "      <th>datadirectories_15_size</th>\n",
       "      <th>datadirectories_15_virtual_address</th>\n",
       "      <th>anomaly_score</th>\n",
       "      <th>category</th>\n",
       "      <th>anomaly</th>\n",
       "    </tr>\n",
       "  </thead>\n",
       "  <tbody>\n",
       "    <tr>\n",
       "      <th>0</th>\n",
       "      <td>127242</td>\n",
       "      <td>9185</td>\n",
       "      <td>3818</td>\n",
       "      <td>3127</td>\n",
       "      <td>13300</td>\n",
       "      <td>1594</td>\n",
       "      <td>1781</td>\n",
       "      <td>1493</td>\n",
       "      <td>9938</td>\n",
       "      <td>1006</td>\n",
       "      <td>...</td>\n",
       "      <td>11711244</td>\n",
       "      <td>0</td>\n",
       "      <td>0</td>\n",
       "      <td>0</td>\n",
       "      <td>0</td>\n",
       "      <td>0</td>\n",
       "      <td>0</td>\n",
       "      <td>1</td>\n",
       "      <td>0</td>\n",
       "      <td>0</td>\n",
       "    </tr>\n",
       "    <tr>\n",
       "      <th>1</th>\n",
       "      <td>36152</td>\n",
       "      <td>2617</td>\n",
       "      <td>4120</td>\n",
       "      <td>876</td>\n",
       "      <td>1711</td>\n",
       "      <td>755</td>\n",
       "      <td>672</td>\n",
       "      <td>521</td>\n",
       "      <td>2278</td>\n",
       "      <td>325</td>\n",
       "      <td>...</td>\n",
       "      <td>131072</td>\n",
       "      <td>0</td>\n",
       "      <td>0</td>\n",
       "      <td>0</td>\n",
       "      <td>0</td>\n",
       "      <td>0</td>\n",
       "      <td>0</td>\n",
       "      <td>1</td>\n",
       "      <td>0</td>\n",
       "      <td>0</td>\n",
       "    </tr>\n",
       "    <tr>\n",
       "      <th>2</th>\n",
       "      <td>39986</td>\n",
       "      <td>7112</td>\n",
       "      <td>7953</td>\n",
       "      <td>6604</td>\n",
       "      <td>6542</td>\n",
       "      <td>6441</td>\n",
       "      <td>5869</td>\n",
       "      <td>6422</td>\n",
       "      <td>6224</td>\n",
       "      <td>6017</td>\n",
       "      <td>...</td>\n",
       "      <td>123728</td>\n",
       "      <td>0</td>\n",
       "      <td>0</td>\n",
       "      <td>0</td>\n",
       "      <td>0</td>\n",
       "      <td>0</td>\n",
       "      <td>0</td>\n",
       "      <td>1</td>\n",
       "      <td>0</td>\n",
       "      <td>0</td>\n",
       "    </tr>\n",
       "    <tr>\n",
       "      <th>3</th>\n",
       "      <td>253873</td>\n",
       "      <td>32714</td>\n",
       "      <td>22629</td>\n",
       "      <td>17500</td>\n",
       "      <td>15355</td>\n",
       "      <td>6691</td>\n",
       "      <td>10881</td>\n",
       "      <td>4258</td>\n",
       "      <td>11992</td>\n",
       "      <td>3513</td>\n",
       "      <td>...</td>\n",
       "      <td>282920</td>\n",
       "      <td>0</td>\n",
       "      <td>0</td>\n",
       "      <td>0</td>\n",
       "      <td>0</td>\n",
       "      <td>0</td>\n",
       "      <td>0</td>\n",
       "      <td>1</td>\n",
       "      <td>0</td>\n",
       "      <td>0</td>\n",
       "    </tr>\n",
       "    <tr>\n",
       "      <th>4</th>\n",
       "      <td>12464</td>\n",
       "      <td>1020</td>\n",
       "      <td>502</td>\n",
       "      <td>264</td>\n",
       "      <td>1918</td>\n",
       "      <td>218</td>\n",
       "      <td>262</td>\n",
       "      <td>91</td>\n",
       "      <td>846</td>\n",
       "      <td>78</td>\n",
       "      <td>...</td>\n",
       "      <td>0</td>\n",
       "      <td>0</td>\n",
       "      <td>0</td>\n",
       "      <td>0</td>\n",
       "      <td>0</td>\n",
       "      <td>0</td>\n",
       "      <td>0</td>\n",
       "      <td>1</td>\n",
       "      <td>0</td>\n",
       "      <td>0</td>\n",
       "    </tr>\n",
       "  </tbody>\n",
       "</table>\n",
       "<p>5 rows × 696 columns</p>\n",
       "</div>"
      ],
      "text/plain": [
       "   histogram_0  histogram_1  histogram_2  histogram_3  histogram_4  \\\n",
       "0       127242         9185         3818         3127        13300   \n",
       "1        36152         2617         4120          876         1711   \n",
       "2        39986         7112         7953         6604         6542   \n",
       "3       253873        32714        22629        17500        15355   \n",
       "4        12464         1020          502          264         1918   \n",
       "\n",
       "   histogram_5  histogram_6  histogram_7  histogram_8  histogram_9  ...  \\\n",
       "0         1594         1781         1493         9938         1006  ...   \n",
       "1          755          672          521         2278          325  ...   \n",
       "2         6441         5869         6422         6224         6017  ...   \n",
       "3         6691        10881         4258        11992         3513  ...   \n",
       "4          218          262           91          846           78  ...   \n",
       "\n",
       "   datadirectories_12_virtual_address  datadirectories_13_size  \\\n",
       "0                            11711244                        0   \n",
       "1                              131072                        0   \n",
       "2                              123728                        0   \n",
       "3                              282920                        0   \n",
       "4                                   0                        0   \n",
       "\n",
       "   datadirectories_13_virtual_address  datadirectories_14_size  \\\n",
       "0                                   0                        0   \n",
       "1                                   0                        0   \n",
       "2                                   0                        0   \n",
       "3                                   0                        0   \n",
       "4                                   0                        0   \n",
       "\n",
       "   datadirectories_14_virtual_address  datadirectories_15_size  \\\n",
       "0                                   0                        0   \n",
       "1                                   0                        0   \n",
       "2                                   0                        0   \n",
       "3                                   0                        0   \n",
       "4                                   0                        0   \n",
       "\n",
       "   datadirectories_15_virtual_address  anomaly_score  category  anomaly  \n",
       "0                                   0              1         0        0  \n",
       "1                                   0              1         0        0  \n",
       "2                                   0              1         0        0  \n",
       "3                                   0              1         0        0  \n",
       "4                                   0              1         0        0  \n",
       "\n",
       "[5 rows x 696 columns]"
      ]
     },
     "execution_count": 50,
     "metadata": {},
     "output_type": "execute_result"
    }
   ],
   "source": [
    "iso_df.head(5)"
   ]
  },
  {
   "cell_type": "markdown",
   "id": "7e9ecb75",
   "metadata": {},
   "source": [
    "Calculate f1 score between new anomaly column and given category column."
   ]
  },
  {
   "cell_type": "code",
   "execution_count": 51,
   "id": "0d40528a",
   "metadata": {
    "scrolled": true
   },
   "outputs": [
    {
     "data": {
      "text/plain": [
       "0.008888888888888889"
      ]
     },
     "execution_count": 51,
     "metadata": {},
     "output_type": "execute_result"
    }
   ],
   "source": [
    "f1_score(list(iso_df['category']), list(iso_df['anomaly']))"
   ]
  },
  {
   "cell_type": "markdown",
   "id": "809e1745",
   "metadata": {},
   "source": [
    "### what happened???"
   ]
  },
  {
   "cell_type": "code",
   "execution_count": null,
   "id": "08938ea2",
   "metadata": {},
   "outputs": [],
   "source": []
  },
  {
   "cell_type": "code",
   "execution_count": null,
   "id": "6cf7ac34",
   "metadata": {},
   "outputs": [],
   "source": []
  },
  {
   "cell_type": "code",
   "execution_count": null,
   "id": "183602ee",
   "metadata": {},
   "outputs": [],
   "source": []
  }
 ],
 "metadata": {
  "hide_input": false,
  "kernelspec": {
   "display_name": "Python 3 (ipykernel)",
   "language": "python",
   "name": "python3"
  },
  "language_info": {
   "codemirror_mode": {
    "name": "ipython",
    "version": 3
   },
   "file_extension": ".py",
   "mimetype": "text/x-python",
   "name": "python",
   "nbconvert_exporter": "python",
   "pygments_lexer": "ipython3",
   "version": "3.8.12"
  },
  "nteract": {
   "version": "0.28.0"
  }
 },
 "nbformat": 4,
 "nbformat_minor": 5
}
