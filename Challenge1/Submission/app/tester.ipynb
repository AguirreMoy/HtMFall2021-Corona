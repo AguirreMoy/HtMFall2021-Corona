{
 "cells": [
  {
   "cell_type": "code",
   "execution_count": 1,
   "id": "0b7264a9",
   "metadata": {},
   "outputs": [],
   "source": [
    "import my_testing_script"
   ]
  },
  {
   "cell_type": "code",
   "execution_count": 2,
   "id": "11500cc9",
   "metadata": {},
   "outputs": [
    {
     "name": "stdout",
     "output_type": "stream",
     "text": [
      "WARNING: EMBER feature version 2 were computed using lief version 0.9.0-\n",
      "WARNING:   lief version 0.11.5-551ede5 found instead. There may be slight inconsistencies\n",
      "WARNING:   in the feature calculations.\n",
      "(18000, 2381)\n"
     ]
    }
   ],
   "source": [
    "my_testing_script.main()"
   ]
  },
  {
   "cell_type": "code",
   "execution_count": null,
   "id": "6cf7ac34",
   "metadata": {},
   "outputs": [],
   "source": []
  },
  {
   "cell_type": "code",
   "execution_count": null,
   "id": "183602ee",
   "metadata": {},
   "outputs": [],
   "source": []
  },
  {
   "cell_type": "code",
   "execution_count": null,
   "id": "f17d0576",
   "metadata": {},
   "outputs": [],
   "source": []
  }
 ],
 "metadata": {
  "hide_input": false,
  "kernelspec": {
   "display_name": "Python 3 (ipykernel)",
   "language": "python",
   "name": "python3"
  },
  "language_info": {
   "codemirror_mode": {
    "name": "ipython",
    "version": 3
   },
   "file_extension": ".py",
   "mimetype": "text/x-python",
   "name": "python",
   "nbconvert_exporter": "python",
   "pygments_lexer": "ipython3",
   "version": "3.8.12"
  },
  "nteract": {
   "version": "0.28.0"
  }
 },
 "nbformat": 4,
 "nbformat_minor": 5
}
