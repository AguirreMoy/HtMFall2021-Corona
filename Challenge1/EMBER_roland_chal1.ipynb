{
 "cells": [
  {
   "cell_type": "markdown",
   "id": "2d5c55cf-a708-4f9e-997f-8909e8812495",
   "metadata": {},
   "source": [
    "# HACKtheMACHINE 2021 | Track 2: Data Science, Detective Bot "
   ]
  },
  {
   "cell_type": "markdown",
   "id": "83097f5f",
   "metadata": {},
   "source": [
    "# Not the Coronavirus\n",
    "\n",
    "#### Roland Chin, Lino Valdavinos"
   ]
  },
  {
   "cell_type": "markdown",
   "id": "318a291c-0e21-46db-8c97-7bd00397e130",
   "metadata": {},
   "source": [
    "The following data dictionary describes the columns or fields of the data set and a description of the objects. This information with more detail can also be found in the `EMBER` documentation of the `features.py` file at: https://github.com/elastic/ember/blob/master/ember/features.py "
   ]
  },
  {
   "cell_type": "markdown",
   "id": "939340e9-53a4-48cc-a9ab-1d3345b2bf84",
   "metadata": {},
   "source": [
    "| Field Name | Description | \n",
    "|------------|-------------|\n",
    "| sha256 | The Secure Hash Algorithm (SHA) is a cryptographic hash function like a signature or fingerprints for a data set. Even if one symbol is changed the algorithm will produce a different hash value. The SHA256 algorithm generates a fixed size 256-bit (32-byte) hash. The SHA256 algorithm is used to ensure you acquire the same data as the original. For exmaple, if you download something you can check if the data has not changed (due to network errors or malware injection) by comparing the hashes of your file and the original.|\n",
    "| histogram | Byte histogram (count + non-normalized) over the entire binary file. The byte histogram contains 256 integer values and represent the counts of each byte value within the value. When generating model features the byte histgoram is normalized to a distribution, since file size is represented as a feature in the general file information. | \n",
    "| byteentropy | 2D byte/entropy histogram based loosely on (Saxe and Berlin, 2015). This roughly approximates the joint probability of byte value and local entropy. See Section 2.1.1 in https://arxiv.org/pdf/1508.03096.pdf for more info. The byte entropy histogram approximates the joint distriubtion p(H, X) of entropy H and byte value X. By computing the scalar entropy H for a fixed-length window and pairing it with each byte occurrence within the window. This is repeated as the window slides across the input bytes. |\n",
    "| strings | Contains simple statistics about printable strings of the following: <ul><li>`numstrings`: number of strings <li> `avlength`: average length of strings <li>`printabledist`: histogram of the printable characters within those strings <li>`printables`: distinct information from byte histogram information from the byte histogram information since its derived only from strings containing at least 5 consecutive printable characters <li>`entropy`: entropy of characters across all printable strings <li>`paths` number of strings that begin with **C:** (case insensitive) that may indicate a path <li>`urls`: the number of occurences of **http://** or **https://** (case insensitive) that may indicate a URL <li>`registry`: number of occurrences of HKEY that may indicate a registry key, <li>`MZ`: number of occurrences of the short string MZ |\n",
    "| general | Provides general file information. 0/1 indicates a binary output <ul><li>`size`: length of bytes <li>`vsize`: virtual size <li>`has_debug`: 0/1  <li>`exports`: 0/1 <li>`imports`: 0/1 <li>`has_relocations`: 0/1  <li>`has_resources`: 0/1 <li>`has_signature`: 0/1 <li>`has_tls`: 0/1 <li>`symbols`: 0/1 |\n",
    "| header | Provides header file information on machine, architecture, OS, link and other information: <ul><li> `coeff`: [ `timestamp`, `machine`,`characteristics` ] <li> `optional`: [`subsystem`, `dll_characteristics`, `magic`, `major_image_version`, `minor_linker_version`, `major_operating_system_version`, `minor_operating_system_version`, `major_subsystem_version`, `minor_subsystem_version`, `sizeof_code`, `sizeof_headers`, `sizeof_heap_commit`]\n",
    "| section | Information about section names, sizes and entropy. Uses hashing trick to summarize all this section into a feature vector. <ul><li> `imports`: [`KERNEL32.dll` : [`GetTickCount`] | \n",
    "| imports | Information about imported libraries and functions from the import address table. Note that the total number of imported functions is contained in GeneralFileInfo. |\n",
    "| exports | Information about exported functions. Note that the total number of exported functions is contained in GeneralFileInfo.|\n",
    "| datadirectories | Extracts size and virtual address of the first 15 data dictectories. |\n",
    "| label / category | Class label indicating benign `0` or malicious `1`|"
   ]
  },
  {
   "cell_type": "markdown",
   "id": "ad8ee9a6-1ccf-4c0b-af10-8cccef6982e6",
   "metadata": {},
   "source": [
    "## Load Libraries"
   ]
  },
  {
   "cell_type": "code",
   "execution_count": 93,
   "id": "87ecd2ad-01a0-4e87-a539-48d626168fd2",
   "metadata": {},
   "outputs": [],
   "source": [
    "import numpy as np #data manipulation\n",
    "import pandas as pd #data manipulation\n",
    "import sklearn as sk #modeling & metrics\n",
    "import seaborn as sns #visualizations\n",
    "import scipy as stats #visualizations\n",
    "from matplotlib import pyplot as plt #visualizations\n",
    "\n",
    "#imputation, scaling, metrics\n",
    "from sklearn import preprocessing\n",
    "from sklearn import metrics\n",
    "from sklearn.utils import resample\n",
    "from sklearn.metrics import r2_score, classification_report, f1_score, accuracy_score, confusion_matrix, precision_score, recall_score\n",
    "from sklearn.metrics import roc_curve, auc, roc_auc_score\n",
    "from sklearn.metrics import mean_squared_error\n",
    "from sklearn.metrics import mean_absolute_error\n",
    "from sklearn.model_selection import train_test_split\n",
    "from sklearn.model_selection import cross_val_score\n",
    "from sklearn.model_selection import StratifiedKFold\n",
    "from sklearn.experimental import enable_iterative_imputer\n",
    "from sklearn.impute import IterativeImputer\n",
    "from sklearn.preprocessing import StandardScaler\n",
    "from sklearn.feature_selection import SelectKBest\n",
    "from sklearn.feature_selection import f_classif\n",
    "from sklearn.linear_model import LogisticRegression\n",
    "\n",
    "#outlier classification\n",
    "from sklearn.ensemble import IsolationForest\n",
    "\n",
    "import xgboost as xgb #xgb model\n",
    "import lightgbm as lgb\n",
    "import hyperopt #hyperparameter tuning\n",
    "from hyperopt import fmin, tpe, hp, STATUS_OK, Trials, space_eval\n",
    "\n",
    "import shap #shap plot\n",
    "\n",
    "import pickle \n",
    " \n",
    "import warnings\n",
    "warnings.filterwarnings('ignore')"
   ]
  },
  {
   "cell_type": "code",
   "execution_count": 2,
   "id": "1552fb68",
   "metadata": {},
   "outputs": [],
   "source": [
    "# !pip install git+https://github.com/elastic/ember.git #only need to run this once"
   ]
  },
  {
   "cell_type": "markdown",
   "id": "45f0758b",
   "metadata": {},
   "source": [
    "This is the wrapper class that transforms the raw excel file into numpy arrays so it becomes the same output as EMBER's code."
   ]
  },
  {
   "cell_type": "code",
   "execution_count": 3,
   "id": "affc059a",
   "metadata": {},
   "outputs": [],
   "source": [
    "import Ember_Wrapper"
   ]
  },
  {
   "cell_type": "markdown",
   "id": "3d7c1126",
   "metadata": {},
   "source": [
    "## Requirements"
   ]
  },
  {
   "cell_type": "markdown",
   "id": "7c3d12e5",
   "metadata": {},
   "source": [
    "The requirements file is this output copy pasted into a txt file."
   ]
  },
  {
   "cell_type": "code",
   "execution_count": 4,
   "id": "775ff10d",
   "metadata": {},
   "outputs": [
    {
     "name": "stdout",
     "output_type": "stream",
     "text": [
      "numpy==1.21.2\n",
      "pandas==1.3.4\n",
      "sklearn==1.0.1\n",
      "seaborn==0.11.2\n",
      "scipy==1.6.0\n",
      "xgboost==1.5.0\n",
      "lightgbm==3.2.1\n",
      "hyperopt==0.2.5\n",
      "shap==0.40.0\n"
     ]
    }
   ],
   "source": [
    "print('\\n'.join(f'{m.__name__}=={m.__version__}' for m in globals().values() if getattr(m, '__version__', None)))"
   ]
  },
  {
   "cell_type": "markdown",
   "id": "b633d294-cbc2-4ffa-8474-13be9e7d6e3d",
   "metadata": {},
   "source": [
    "## Load Data"
   ]
  },
  {
   "cell_type": "code",
   "execution_count": 5,
   "id": "504a76f1-8bd6-42c7-948a-6ed3bb240fc1",
   "metadata": {},
   "outputs": [],
   "source": [
    "# Flattened EMBER Feature set\n",
    "# Easier to feed into ML models right away\n",
    "# df1 = pd.read_excel(\"flatten_train.xlsx\")"
   ]
  },
  {
   "cell_type": "markdown",
   "id": "2e4986e1",
   "metadata": {},
   "source": [
    "Use pickling so you don't have to read in the Excel file every time to resume progress."
   ]
  },
  {
   "cell_type": "code",
   "execution_count": 6,
   "id": "33b59c6a",
   "metadata": {},
   "outputs": [],
   "source": [
    "# pd.to_pickle(df1, \"./data.pkl\")"
   ]
  },
  {
   "cell_type": "markdown",
   "id": "59d779b4",
   "metadata": {},
   "source": [
    "Initially df1, the flattened data, was utilized. Until the wrapper class was created in order to use more of the features from the raw data."
   ]
  },
  {
   "cell_type": "code",
   "execution_count": 7,
   "id": "3592aef0",
   "metadata": {},
   "outputs": [],
   "source": [
    "df1 = pd.read_pickle(\"./data.pkl\")"
   ]
  },
  {
   "cell_type": "code",
   "execution_count": 8,
   "id": "e8acb0c3",
   "metadata": {},
   "outputs": [],
   "source": [
    "df2 = pd.read_excel(\"./Data/raw_train.xlsx\")"
   ]
  },
  {
   "cell_type": "markdown",
   "id": "e673d618",
   "metadata": {},
   "source": [
    "Check number of malware entries."
   ]
  },
  {
   "cell_type": "code",
   "execution_count": 9,
   "id": "32162510",
   "metadata": {},
   "outputs": [
    {
     "data": {
      "text/plain": [
       "900"
      ]
     },
     "execution_count": 9,
     "metadata": {},
     "output_type": "execute_result"
    }
   ],
   "source": [
    "sum(df1['category'])"
   ]
  },
  {
   "cell_type": "code",
   "execution_count": 10,
   "id": "2600ee08",
   "metadata": {},
   "outputs": [
    {
     "data": {
      "text/plain": [
       "(18000, 714)"
      ]
     },
     "execution_count": 10,
     "metadata": {},
     "output_type": "execute_result"
    }
   ],
   "source": [
    "df1.shape"
   ]
  },
  {
   "cell_type": "code",
   "execution_count": 11,
   "id": "35642d6a",
   "metadata": {},
   "outputs": [
    {
     "data": {
      "text/plain": [
       "0.05"
      ]
     },
     "execution_count": 11,
     "metadata": {},
     "output_type": "execute_result"
    }
   ],
   "source": [
    "900/18000"
   ]
  },
  {
   "cell_type": "markdown",
   "id": "ad41dc03",
   "metadata": {},
   "source": [
    "5%, super imbalanced classes. XGBoost has a built in scale_pos_weight argument that could help with this.\n",
    "\n",
    "We tried it using the full dataset consisting of 18000 rows with scale_pos_weight set to 19 (17100/900) but undersampling which yielded only 1800 rows performed better."
   ]
  },
  {
   "cell_type": "markdown",
   "id": "e48c92b2",
   "metadata": {},
   "source": [
    "## EDA"
   ]
  },
  {
   "cell_type": "markdown",
   "id": "ae9423ce",
   "metadata": {},
   "source": [
    "### Visualizations Team here:\n",
    "#### Main idea: plot distributions of specific features to compare their usefulness in distinguishing between the malware and benign entries."
   ]
  },
  {
   "cell_type": "code",
   "execution_count": 12,
   "id": "82a70e3f",
   "metadata": {},
   "outputs": [
    {
     "data": {
      "text/html": [
       "<div>\n",
       "<style scoped>\n",
       "    .dataframe tbody tr th:only-of-type {\n",
       "        vertical-align: middle;\n",
       "    }\n",
       "\n",
       "    .dataframe tbody tr th {\n",
       "        vertical-align: top;\n",
       "    }\n",
       "\n",
       "    .dataframe thead th {\n",
       "        text-align: right;\n",
       "    }\n",
       "</style>\n",
       "<table border=\"1\" class=\"dataframe\">\n",
       "  <thead>\n",
       "    <tr style=\"text-align: right;\">\n",
       "      <th></th>\n",
       "      <th>sha256</th>\n",
       "      <th>histogram_0</th>\n",
       "      <th>histogram_1</th>\n",
       "      <th>histogram_2</th>\n",
       "      <th>histogram_3</th>\n",
       "      <th>histogram_4</th>\n",
       "      <th>histogram_5</th>\n",
       "      <th>histogram_6</th>\n",
       "      <th>histogram_7</th>\n",
       "      <th>histogram_8</th>\n",
       "      <th>...</th>\n",
       "      <th>datadirectories_13_name</th>\n",
       "      <th>datadirectories_13_size</th>\n",
       "      <th>datadirectories_13_virtual_address</th>\n",
       "      <th>datadirectories_14_name</th>\n",
       "      <th>datadirectories_14_size</th>\n",
       "      <th>datadirectories_14_virtual_address</th>\n",
       "      <th>datadirectories_15_name</th>\n",
       "      <th>datadirectories_15_size</th>\n",
       "      <th>datadirectories_15_virtual_address</th>\n",
       "      <th>category</th>\n",
       "    </tr>\n",
       "  </thead>\n",
       "  <tbody>\n",
       "    <tr>\n",
       "      <th>0</th>\n",
       "      <td>15f88c44e29e74965cbec984cd4244786eeb4ccde02328...</td>\n",
       "      <td>127242</td>\n",
       "      <td>9185</td>\n",
       "      <td>3818</td>\n",
       "      <td>3127</td>\n",
       "      <td>13300</td>\n",
       "      <td>1594</td>\n",
       "      <td>1781</td>\n",
       "      <td>1493</td>\n",
       "      <td>9938</td>\n",
       "      <td>...</td>\n",
       "      <td>DELAY_IMPORT_DESCRIPTOR</td>\n",
       "      <td>0</td>\n",
       "      <td>0</td>\n",
       "      <td>CLR_RUNTIME_HEADER</td>\n",
       "      <td>0</td>\n",
       "      <td>0</td>\n",
       "      <td>???</td>\n",
       "      <td>0</td>\n",
       "      <td>0</td>\n",
       "      <td>0</td>\n",
       "    </tr>\n",
       "    <tr>\n",
       "      <th>1</th>\n",
       "      <td>29bb2a854de0f99bdb7120870ad42af6a3b5b5c6fc3578...</td>\n",
       "      <td>36152</td>\n",
       "      <td>2617</td>\n",
       "      <td>4120</td>\n",
       "      <td>876</td>\n",
       "      <td>1711</td>\n",
       "      <td>755</td>\n",
       "      <td>672</td>\n",
       "      <td>521</td>\n",
       "      <td>2278</td>\n",
       "      <td>...</td>\n",
       "      <td>DELAY_IMPORT_DESCRIPTOR</td>\n",
       "      <td>0</td>\n",
       "      <td>0</td>\n",
       "      <td>CLR_RUNTIME_HEADER</td>\n",
       "      <td>0</td>\n",
       "      <td>0</td>\n",
       "      <td>???</td>\n",
       "      <td>0</td>\n",
       "      <td>0</td>\n",
       "      <td>0</td>\n",
       "    </tr>\n",
       "    <tr>\n",
       "      <th>2</th>\n",
       "      <td>5cd8667d8375bf799fe89ac9b74cf08bf69dfa18a4e551...</td>\n",
       "      <td>39986</td>\n",
       "      <td>7112</td>\n",
       "      <td>7953</td>\n",
       "      <td>6604</td>\n",
       "      <td>6542</td>\n",
       "      <td>6441</td>\n",
       "      <td>5869</td>\n",
       "      <td>6422</td>\n",
       "      <td>6224</td>\n",
       "      <td>...</td>\n",
       "      <td>DELAY_IMPORT_DESCRIPTOR</td>\n",
       "      <td>0</td>\n",
       "      <td>0</td>\n",
       "      <td>CLR_RUNTIME_HEADER</td>\n",
       "      <td>0</td>\n",
       "      <td>0</td>\n",
       "      <td>???</td>\n",
       "      <td>0</td>\n",
       "      <td>0</td>\n",
       "      <td>0</td>\n",
       "    </tr>\n",
       "    <tr>\n",
       "      <th>3</th>\n",
       "      <td>ce63706c0adf4851a8d2eb26fa97750cfaec7345151367...</td>\n",
       "      <td>253873</td>\n",
       "      <td>32714</td>\n",
       "      <td>22629</td>\n",
       "      <td>17500</td>\n",
       "      <td>15355</td>\n",
       "      <td>6691</td>\n",
       "      <td>10881</td>\n",
       "      <td>4258</td>\n",
       "      <td>11992</td>\n",
       "      <td>...</td>\n",
       "      <td>DELAY_IMPORT_DESCRIPTOR</td>\n",
       "      <td>0</td>\n",
       "      <td>0</td>\n",
       "      <td>CLR_RUNTIME_HEADER</td>\n",
       "      <td>0</td>\n",
       "      <td>0</td>\n",
       "      <td>???</td>\n",
       "      <td>0</td>\n",
       "      <td>0</td>\n",
       "      <td>0</td>\n",
       "    </tr>\n",
       "    <tr>\n",
       "      <th>4</th>\n",
       "      <td>5e65dd9986fc47c5fe45208fab5e1c78730699800eaf96...</td>\n",
       "      <td>12464</td>\n",
       "      <td>1020</td>\n",
       "      <td>502</td>\n",
       "      <td>264</td>\n",
       "      <td>1918</td>\n",
       "      <td>218</td>\n",
       "      <td>262</td>\n",
       "      <td>91</td>\n",
       "      <td>846</td>\n",
       "      <td>...</td>\n",
       "      <td>DELAY_IMPORT_DESCRIPTOR</td>\n",
       "      <td>0</td>\n",
       "      <td>0</td>\n",
       "      <td>CLR_RUNTIME_HEADER</td>\n",
       "      <td>0</td>\n",
       "      <td>0</td>\n",
       "      <td>???</td>\n",
       "      <td>0</td>\n",
       "      <td>0</td>\n",
       "      <td>0</td>\n",
       "    </tr>\n",
       "  </tbody>\n",
       "</table>\n",
       "<p>5 rows × 714 columns</p>\n",
       "</div>"
      ],
      "text/plain": [
       "                                              sha256  histogram_0  \\\n",
       "0  15f88c44e29e74965cbec984cd4244786eeb4ccde02328...       127242   \n",
       "1  29bb2a854de0f99bdb7120870ad42af6a3b5b5c6fc3578...        36152   \n",
       "2  5cd8667d8375bf799fe89ac9b74cf08bf69dfa18a4e551...        39986   \n",
       "3  ce63706c0adf4851a8d2eb26fa97750cfaec7345151367...       253873   \n",
       "4  5e65dd9986fc47c5fe45208fab5e1c78730699800eaf96...        12464   \n",
       "\n",
       "   histogram_1  histogram_2  histogram_3  histogram_4  histogram_5  \\\n",
       "0         9185         3818         3127        13300         1594   \n",
       "1         2617         4120          876         1711          755   \n",
       "2         7112         7953         6604         6542         6441   \n",
       "3        32714        22629        17500        15355         6691   \n",
       "4         1020          502          264         1918          218   \n",
       "\n",
       "   histogram_6  histogram_7  histogram_8  ...  datadirectories_13_name  \\\n",
       "0         1781         1493         9938  ...  DELAY_IMPORT_DESCRIPTOR   \n",
       "1          672          521         2278  ...  DELAY_IMPORT_DESCRIPTOR   \n",
       "2         5869         6422         6224  ...  DELAY_IMPORT_DESCRIPTOR   \n",
       "3        10881         4258        11992  ...  DELAY_IMPORT_DESCRIPTOR   \n",
       "4          262           91          846  ...  DELAY_IMPORT_DESCRIPTOR   \n",
       "\n",
       "   datadirectories_13_size  datadirectories_13_virtual_address  \\\n",
       "0                        0                                   0   \n",
       "1                        0                                   0   \n",
       "2                        0                                   0   \n",
       "3                        0                                   0   \n",
       "4                        0                                   0   \n",
       "\n",
       "   datadirectories_14_name  datadirectories_14_size  \\\n",
       "0       CLR_RUNTIME_HEADER                        0   \n",
       "1       CLR_RUNTIME_HEADER                        0   \n",
       "2       CLR_RUNTIME_HEADER                        0   \n",
       "3       CLR_RUNTIME_HEADER                        0   \n",
       "4       CLR_RUNTIME_HEADER                        0   \n",
       "\n",
       "   datadirectories_14_virtual_address  datadirectories_15_name  \\\n",
       "0                                   0                      ???   \n",
       "1                                   0                      ???   \n",
       "2                                   0                      ???   \n",
       "3                                   0                      ???   \n",
       "4                                   0                      ???   \n",
       "\n",
       "   datadirectories_15_size  datadirectories_15_virtual_address  category  \n",
       "0                        0                                   0         0  \n",
       "1                        0                                   0         0  \n",
       "2                        0                                   0         0  \n",
       "3                        0                                   0         0  \n",
       "4                        0                                   0         0  \n",
       "\n",
       "[5 rows x 714 columns]"
      ]
     },
     "execution_count": 12,
     "metadata": {},
     "output_type": "execute_result"
    }
   ],
   "source": [
    "df1.head(5)"
   ]
  },
  {
   "cell_type": "code",
   "execution_count": 91,
   "id": "d6d5d6e2",
   "metadata": {
    "scrolled": true
   },
   "outputs": [],
   "source": [
    "# list(df1)"
   ]
  },
  {
   "cell_type": "code",
   "execution_count": 14,
   "id": "ba206cf2",
   "metadata": {},
   "outputs": [],
   "source": [
    "malware = df1[df1['category'] == 1]\n",
    "not_malware = df1[df1['category'] == 0]"
   ]
  },
  {
   "cell_type": "code",
   "execution_count": 92,
   "id": "58b3da2a",
   "metadata": {},
   "outputs": [],
   "source": [
    "def dist_plotter(feature_name):\n",
    "    '''this function takes in a specific feature and compares its distribution between both classes'''\n",
    "    fig, ax = plt.subplots(2,1)\n",
    "#     ax.set(ylabel='common ylabel', title=feature_name)\n",
    "    sns.violinplot(malware[feature_name], inner=\"quartile\", ax=ax[0], color='r')\n",
    "    sns.violinplot(not_malware[feature_name], inner=\"quartile\", ax=ax[1], color='r')"
   ]
  },
  {
   "cell_type": "code",
   "execution_count": 16,
   "id": "6298ffff",
   "metadata": {},
   "outputs": [
    {
     "data": {
      "image/png": "[encoded data removed]",
      "text/plain": [
       "<Figure size 432x288 with 2 Axes>"
      ]
     },
     "metadata": {
      "needs_background": "light"
     },
     "output_type": "display_data"
    }
   ],
   "source": [
    "dist_plotter('byteentropy_211')"
   ]
  },
  {
   "cell_type": "markdown",
   "id": "b839106d",
   "metadata": {},
   "source": [
    "*this was preliminary, more EDA to be included in the final powerpoint was performed by other members of the team."
   ]
  },
  {
   "cell_type": "markdown",
   "id": "8956859c",
   "metadata": {},
   "source": [
    "## Undersampling"
   ]
  },
  {
   "cell_type": "markdown",
   "id": "d318fbbb",
   "metadata": {},
   "source": [
    "Since only 5% of entries are malware, we want a similar 50/50 split between malware and not malware. SMOTE was also utilized, with comparable results."
   ]
  },
  {
   "cell_type": "code",
   "execution_count": 17,
   "id": "1f70e5aa",
   "metadata": {},
   "outputs": [],
   "source": [
    "majority = df2[df2.category==0] # Majority class\n",
    "minority = df2[df2.category==1] # Minority class"
   ]
  },
  {
   "cell_type": "code",
   "execution_count": 18,
   "id": "a7f6d185",
   "metadata": {},
   "outputs": [
    {
     "data": {
      "text/plain": [
       "0    900\n",
       "1    900\n",
       "Name: category, dtype: int64"
      ]
     },
     "execution_count": 18,
     "metadata": {},
     "output_type": "execute_result"
    }
   ],
   "source": [
    "majority_undersampled = resample(majority, replace=False, n_samples=900) # Randomly selects 900 records from majority to match minority class size\n",
    "# New downsampled dataset\n",
    "df_undersampled = pd.concat([majority_undersampled, minority])  # Minority class + sample of 900 from majority\n",
    "df_undersampled.category.value_counts()"
   ]
  },
  {
   "cell_type": "code",
   "execution_count": 19,
   "id": "2d670a65",
   "metadata": {},
   "outputs": [
    {
     "name": "stdout",
     "output_type": "stream",
     "text": [
      "WARNING: EMBER feature version 2 were computed using lief version 0.9.0-\n",
      "WARNING:   lief version 0.11.5-551ede5 found instead. There may be slight inconsistencies\n",
      "WARNING:   in the feature calculations.\n"
     ]
    }
   ],
   "source": [
    "Ember_Wrapper.create_vectorize_features(df_undersampled)"
   ]
  },
  {
   "cell_type": "markdown",
   "id": "cd2765b0",
   "metadata": {},
   "source": [
    "The ember wrapper creates similar vectoriized features as the output of the EMBER code, creating new X and y numpy arrays."
   ]
  },
  {
   "cell_type": "code",
   "execution_count": 20,
   "id": "0a5dbffc",
   "metadata": {},
   "outputs": [
    {
     "name": "stdout",
     "output_type": "stream",
     "text": [
      "X.shape (1800, 2381)\n",
      "%Malware: 0.5\n"
     ]
    }
   ],
   "source": [
    "X = np.load('./X_data.npy')\n",
    "y = np.load('./y_data.npy')\n",
    "print('X.shape', X.shape)\n",
    "print('%Malware:', sum(y) / len(y))"
   ]
  },
  {
   "cell_type": "code",
   "execution_count": 21,
   "id": "ce7e604e",
   "metadata": {},
   "outputs": [],
   "source": [
    "# df = df_undersampled #make it a new df"
   ]
  },
  {
   "cell_type": "code",
   "execution_count": 22,
   "id": "2a95437d",
   "metadata": {},
   "outputs": [],
   "source": [
    "# X = df.drop('category', axis=1) #X is everything but the 'category' col"
   ]
  },
  {
   "cell_type": "code",
   "execution_count": 23,
   "id": "5d485926",
   "metadata": {},
   "outputs": [],
   "source": [
    "# y = df['category'] #y is just the target column"
   ]
  },
  {
   "cell_type": "code",
   "execution_count": 24,
   "id": "7897ed31",
   "metadata": {},
   "outputs": [],
   "source": [
    "# X = X._get_numeric_data() #drop all nonnumeric ones (for now?)"
   ]
  },
  {
   "cell_type": "code",
   "execution_count": 25,
   "id": "81a2c68e",
   "metadata": {},
   "outputs": [],
   "source": [
    "# print(X.shape, y.shape) #sanity check arrays"
   ]
  },
  {
   "cell_type": "markdown",
   "id": "7faad1f1",
   "metadata": {},
   "source": [
    "## Feature Selection with ANOVA"
   ]
  },
  {
   "cell_type": "markdown",
   "id": "9d74c93e",
   "metadata": {},
   "source": [
    "First perform a standard train-test split."
   ]
  },
  {
   "cell_type": "code",
   "execution_count": 26,
   "id": "80d8e989",
   "metadata": {},
   "outputs": [],
   "source": [
    "X_train, X_test, y_train, y_test = train_test_split(X, y, test_size=0.2) #train test split 80/20"
   ]
  },
  {
   "cell_type": "markdown",
   "id": "62dcf6ee",
   "metadata": {},
   "source": [
    "Ideally should select features after heatmaps/correlation plots/distributions etc but skipped for now. Due to the speed of XGBoost combined with our limited amount of time, we decided to simply utilize all features in our model.\n",
    "\n",
    "PCA can also be performed here."
   ]
  },
  {
   "cell_type": "code",
   "execution_count": 27,
   "id": "6a792bd4",
   "metadata": {},
   "outputs": [],
   "source": [
    "# fs = SelectKBest(score_func=f_classif, k=600) #THIS K IS HOW MANY FEATURES YOU WANT\n",
    "# fs.fit(X_train, y_train)\n",
    "# mask = fs.get_support()\n",
    "# new_features = X_train.columns[mask]"
   ]
  },
  {
   "cell_type": "markdown",
   "id": "5a1428c0",
   "metadata": {},
   "source": [
    "This is based on univariate feature selection, comparing ANOVA F-values (not to be confused with the F1 model performance metric). Chi-square can also be used in place of ANOVA."
   ]
  },
  {
   "cell_type": "code",
   "execution_count": 28,
   "id": "82449ae4",
   "metadata": {},
   "outputs": [],
   "source": [
    "# X_train_fs = X_train[new_features]\n",
    "# X_test_fs = X_test[new_features]"
   ]
  },
  {
   "cell_type": "markdown",
   "id": "a7efd85b",
   "metadata": {},
   "source": [
    "We initially utilized the fs (feature selected) versions of our X_train and X_test, but that was before utilizing our ember wrapper."
   ]
  },
  {
   "cell_type": "code",
   "execution_count": 29,
   "id": "dac5edd2",
   "metadata": {},
   "outputs": [],
   "source": [
    "X_train_fs = X_train\n",
    "X_test_fs = X_test"
   ]
  },
  {
   "cell_type": "code",
   "execution_count": 31,
   "id": "1378e470",
   "metadata": {
    "scrolled": false
   },
   "outputs": [
    {
     "name": "stdout",
     "output_type": "stream",
     "text": [
      "(1440, 2381) (360, 2381)\n"
     ]
    }
   ],
   "source": [
    "print(X_train_fs.shape, X_test_fs.shape)"
   ]
  },
  {
   "cell_type": "code",
   "execution_count": 32,
   "id": "6b5a9930",
   "metadata": {
    "scrolled": true
   },
   "outputs": [
    {
     "name": "stdout",
     "output_type": "stream",
     "text": [
      "(1440,) (360,)\n"
     ]
    }
   ],
   "source": [
    "print(y_train.shape, y_test.shape)"
   ]
  },
  {
   "cell_type": "markdown",
   "id": "7977a7bf",
   "metadata": {},
   "source": [
    "## Modeling"
   ]
  },
  {
   "cell_type": "markdown",
   "id": "94ee8fe7",
   "metadata": {},
   "source": [
    "This function basically fits a specified model and outputs it's f1_score as well as ROC curve, can add more graphs/plots to it as well."
   ]
  },
  {
   "cell_type": "code",
   "execution_count": 94,
   "id": "0c28500b",
   "metadata": {},
   "outputs": [],
   "source": [
    "def modeler(model):\n",
    "    model.fit(X_train_fs, y_train) #fit specified model\n",
    "    y_pred = model.predict(X_test_fs) #predict on test set\n",
    "    f1 = f1_score(y_test, y_pred) #get f1 score\n",
    "    print('F1 Score:', f1)\n",
    "    print(metrics.confusion_matrix(y_test, y_pred))\n",
    "    \n",
    "    print('roc_auc score:',roc_auc_score(y_test, y_pred))\n",
    "    print('precision:', precision_score(y_test, y_pred))\n",
    "    print('recall:',recall_score(y_test, y_pred))\n",
    "    \n",
    "    #this plots the ROC curve, play around iwth it\n",
    "    from sklearn.metrics import roc_curve, auc\n",
    "    fpr, tpr, thresholds = roc_curve(y_pred, y_test)\n",
    "    roc_auc = auc(fpr, tpr)\n",
    "\n",
    "    plt.figure()\n",
    "    plt.plot(fpr, tpr, color='darkorange', label='ROC curve (area = %0.2f)' % roc_auc)\n",
    "    plt.plot([0, 1], [0, 1], color='navy', linestyle='--')\n",
    "    plt.xlim([0.0, 1.0])\n",
    "    plt.ylim([0.0, 1.05])\n",
    "    plt.xlabel('False Positive Rate')\n",
    "    plt.ylabel('True Positive Rate')\n",
    "    plt.title('Receiver operating characteristic')\n",
    "    plt.legend(loc=\"lower right\")\n",
    "    plt.show()"
   ]
  },
  {
   "cell_type": "code",
   "execution_count": 95,
   "id": "6a6991c5",
   "metadata": {},
   "outputs": [
    {
     "name": "stdout",
     "output_type": "stream",
     "text": [
      "F1 Score: 0.6761904761904762\n",
      "[[ 82 113]\n",
      " [ 23 142]]\n",
      "roc_auc score: 0.6405594405594406\n",
      "precision: 0.5568627450980392\n",
      "recall: 0.8606060606060606\n"
     ]
    },
    {
     "data": {
      "image/png": "[encoded data removed]",
      "text/plain": [
       "<Figure size 432x288 with 1 Axes>"
      ]
     },
     "metadata": {
      "needs_background": "light"
     },
     "output_type": "display_data"
    }
   ],
   "source": [
    "lr = LogisticRegression()\n",
    "modeler(lr)"
   ]
  },
  {
   "cell_type": "code",
   "execution_count": 96,
   "id": "d8c073fb",
   "metadata": {
    "scrolled": true
   },
   "outputs": [
    {
     "name": "stdout",
     "output_type": "stream",
     "text": [
      "F1 Score: 0.923076923076923\n",
      "[[178  17]\n",
      " [  9 156]]\n",
      "roc_auc score: 0.9291375291375291\n",
      "precision: 0.9017341040462428\n",
      "recall: 0.9454545454545454\n"
     ]
    },
    {
     "data": {
      "image/png": "[encoded data removed]",
      "text/plain": [
       "<Figure size 432x288 with 1 Axes>"
      ]
     },
     "metadata": {
      "needs_background": "light"
     },
     "output_type": "display_data"
    }
   ],
   "source": [
    "lgbm = lgb.LGBMClassifier()\n",
    "modeler(lgbm)"
   ]
  },
  {
   "cell_type": "code",
   "execution_count": 97,
   "id": "79c2a5aa",
   "metadata": {},
   "outputs": [
    {
     "name": "stdout",
     "output_type": "stream",
     "text": [
      "F1 Score: 0.9080118694362018\n",
      "[[176  19]\n",
      " [ 12 153]]\n",
      "roc_auc score: 0.914918414918415\n",
      "precision: 0.8895348837209303\n",
      "recall: 0.9272727272727272\n"
     ]
    },
    {
     "data": {
      "image/png": "[encoded data removed]",
      "text/plain": [
       "<Figure size 432x288 with 1 Axes>"
      ]
     },
     "metadata": {
      "needs_background": "light"
     },
     "output_type": "display_data"
    }
   ],
   "source": [
    "xgbc = xgb.XGBClassifier(eval_metric='logloss')\n",
    "modeler(xgbc)"
   ]
  },
  {
   "cell_type": "code",
   "execution_count": 98,
   "id": "124fa26f",
   "metadata": {},
   "outputs": [
    {
     "name": "stdout",
     "output_type": "stream",
     "text": [
      "F1 Score: 0.8658536585365852\n",
      "[[174  21]\n",
      " [ 23 142]]\n",
      "roc_auc score: 0.8764568764568764\n",
      "precision: 0.8711656441717791\n",
      "recall: 0.8606060606060606\n"
     ]
    },
    {
     "data": {
      "image/png": "[encoded data removed]",
      "text/plain": [
       "<Figure size 432x288 with 1 Axes>"
      ]
     },
     "metadata": {
      "needs_background": "light"
     },
     "output_type": "display_data"
    }
   ],
   "source": [
    "from sklearn.ensemble import RandomForestClassifier\n",
    "rf = RandomForestClassifier()\n",
    "modeler(rf)"
   ]
  },
  {
   "cell_type": "code",
   "execution_count": 99,
   "id": "acffb742",
   "metadata": {},
   "outputs": [
    {
     "name": "stdout",
     "output_type": "stream",
     "text": [
      "F1 Score: 0.625242718446602\n",
      "[[  6 189]\n",
      " [  4 161]]\n",
      "roc_auc score: 0.5032634032634032\n",
      "precision: 0.46\n",
      "recall: 0.9757575757575757\n"
     ]
    },
    {
     "data": {
      "image/png": "[encoded data removed]",
      "text/plain": [
       "<Figure size 432x288 with 1 Axes>"
      ]
     },
     "metadata": {
      "needs_background": "light"
     },
     "output_type": "display_data"
    }
   ],
   "source": [
    "from sklearn.svm import SVC\n",
    "svm = SVC()\n",
    "modeler(svm)"
   ]
  },
  {
   "cell_type": "code",
   "execution_count": 100,
   "id": "c442ea2e",
   "metadata": {},
   "outputs": [
    {
     "name": "stdout",
     "output_type": "stream",
     "text": [
      "F1 Score: 0.6820809248554913\n",
      "[[132  63]\n",
      " [ 47 118]]\n",
      "roc_auc score: 0.6960372960372961\n",
      "precision: 0.6519337016574586\n",
      "recall: 0.7151515151515152\n"
     ]
    },
    {
     "data": {
      "image/png": "[encoded data removed]",
      "text/plain": [
       "<Figure size 432x288 with 1 Axes>"
      ]
     },
     "metadata": {
      "needs_background": "light"
     },
     "output_type": "display_data"
    }
   ],
   "source": [
    "from sklearn.neighbors import KNeighborsClassifier\n",
    "knn = KNeighborsClassifier()\n",
    "modeler(knn)"
   ]
  },
  {
   "cell_type": "code",
   "execution_count": 101,
   "id": "526f394f",
   "metadata": {},
   "outputs": [
    {
     "name": "stdout",
     "output_type": "stream",
     "text": [
      "F1 Score: 0.857142857142857\n",
      "[[172  23]\n",
      " [ 24 141]]\n",
      "roc_auc score: 0.8682983682983683\n",
      "precision: 0.8597560975609756\n",
      "recall: 0.8545454545454545\n"
     ]
    },
    {
     "data": {
      "image/png": "[encoded data removed]",
      "text/plain": [
       "<Figure size 432x288 with 1 Axes>"
      ]
     },
     "metadata": {
      "needs_background": "light"
     },
     "output_type": "display_data"
    }
   ],
   "source": [
    "from sklearn import tree\n",
    "dt = tree.DecisionTreeClassifier()\n",
    "modeler(dt)"
   ]
  },
  {
   "cell_type": "markdown",
   "id": "311b8688",
   "metadata": {},
   "source": [
    "The best models before hyperparameter optimization seem to be LGBM and XGB. Ideal ROC graph looks hugs the top left corner."
   ]
  },
  {
   "cell_type": "markdown",
   "id": "a4fa6f4e",
   "metadata": {},
   "source": [
    "## Bayesian Hyperparameter Optimization"
   ]
  },
  {
   "cell_type": "markdown",
   "id": "a23e892a",
   "metadata": {},
   "source": [
    "Hyperopt will be used to implement Bayesian Hyperparmater Optimization, which is far more efficient than random-grid search.\n",
    "\n",
    "(Scaling/normalizing is not needed for gradient boosted decision trees, thus was not performed)"
   ]
  },
  {
   "cell_type": "markdown",
   "id": "bdf41687",
   "metadata": {},
   "source": [
    "This was the code that tuned LGBM, which ended up performing worse than XGB."
   ]
  },
  {
   "cell_type": "code",
   "execution_count": 41,
   "id": "c27890d3",
   "metadata": {},
   "outputs": [],
   "source": [
    "# #hyperparameter domain to search over\n",
    "# hyperparam_space = {\n",
    "#     'num_leaves':       hp.choice('num_leaves', np.arange(30, 250, 1)),\n",
    "#     'learning_rate':    hp.quniform('learning_rate', 0, 0.3, 0.01),\n",
    "#     'max_depth':        hp.choice('max_depth', np.arange(2, 100, 1, dtype=int)),\n",
    "#     'min_child_weight': hp.choice('min_child_weight', np.arange(1, 50, 1, dtype=int)),\n",
    "#     'colsample_bytree': hp.uniform('colsample_bytree', 0.4, 1),\n",
    "#     'subsample':        hp.uniform('subsample', 0.5, 1),\n",
    "# }"
   ]
  },
  {
   "cell_type": "code",
   "execution_count": 42,
   "id": "1b455126",
   "metadata": {
    "scrolled": true
   },
   "outputs": [],
   "source": [
    "# def score(params): #function to train and test different hyperparams\n",
    "#     model = lgb.LGBMClassifier(**params)\n",
    "#     model.fit(X_train_fs, y_train, early_stopping_rounds=20,\n",
    "#              eval_set=[(X_train_fs, y_train), (X_test_fs, y_test)])\n",
    "# #     y_pred = model.predict(X_test_fs)\n",
    "# #     score = mean_squared_error(y_test, y_pred)\n",
    "#     score = -cross_val_score(model, X_train_fs, y_train, cv=10, scoring='roc_auc').mean()\n",
    "#     print(score)\n",
    "#     return score\n",
    "            \n",
    "# def optimize(trials, space): #fmin is the main library function\n",
    "#     best = fmin(score, space, algo=tpe.suggest, max_evals=10)\n",
    "#     return best\n",
    "            \n",
    "# trials = Trials() #database that store completed hyperparameters and score\n",
    "# best_params = optimize(trials, hyperparam_space) #calls fmin\n",
    "\n",
    "# #finds best hyperparameters\n",
    "# # space_eval(hyperparam_space, best_params)"
   ]
  },
  {
   "cell_type": "code",
   "execution_count": 43,
   "id": "de0c0e47",
   "metadata": {
    "scrolled": true
   },
   "outputs": [],
   "source": [
    "# best_params"
   ]
  },
  {
   "cell_type": "code",
   "execution_count": 44,
   "id": "177821b4",
   "metadata": {},
   "outputs": [],
   "source": [
    "# lgbm_model = lgb.LGBMClassifier(**best_params)\n",
    "# lgbm_model.fit(X_train_fs, y_train)\n",
    "# preds = [pred[1] for pred in lgbm_model.predict_proba(X_test_fs)]\n",
    "# score = roc_auc_score(y_test, preds, average='weighted')\n",
    "# print('auc_roc score: ', score)\n",
    "\n",
    "# y_pred = lgbm_model.predict(X_test_fs)\n",
    "# f1 = f1_score(y_test, y_pred) #get f1 score\n",
    "# print('F1 Score:', f1)\n",
    "# print(confusion_matrix(y_test, y_pred))\n",
    "# print(classification_report(y_test, y_pred))"
   ]
  },
  {
   "cell_type": "markdown",
   "id": "e6723b43",
   "metadata": {},
   "source": [
    "Additional hyperparameters for LGBM can be added in the hyperparam_space, only a few were included due to time constraints of training."
   ]
  },
  {
   "cell_type": "code",
   "execution_count": 47,
   "id": "2a8e5291",
   "metadata": {},
   "outputs": [],
   "source": [
    "#hyperparameter domain to search over\n",
    "hyperparam_space = {\n",
    "    'max_depth': hp.choice('max_depth', np.arange(1, 10, 1, dtype=int)), #larger values = overfitting\n",
    "    'n_estimators': hp.choice('n_estimators', np.arange(100, 500, 1, dtype=int)), #larger values = overfitting\n",
    "    'learning_rate': hp.quniform('learning_rate', 0, 1, 0.01), #aka eta = step size shrinkage to prevent overfitting\n",
    "    'gamma': hp.quniform('gamma', 0, 1, 0.05) #gamma: min loss reduction to partition leaf nodes (for overfitting)\n",
    "#     'min_child_weight': hp.quniform('min_child_weight', 1, 8, 0.5),\n",
    "#     'subsample': hp.quniform('subsample', 0.5, 1, 0.05),\n",
    "}"
   ]
  },
  {
   "cell_type": "code",
   "execution_count": 48,
   "id": "a1e55c88",
   "metadata": {
    "scrolled": true
   },
   "outputs": [
    {
     "name": "stdout",
     "output_type": "stream",
     "text": [
      "[0]\tvalidation_0-logloss:0.49787\tvalidation_1-logloss:0.53665                                                      \n",
      "[1]\tvalidation_0-logloss:0.38009\tvalidation_1-logloss:0.45220                                                      \n",
      "[2]\tvalidation_0-logloss:0.29812\tvalidation_1-logloss:0.39331                                                      \n",
      "[3]\tvalidation_0-logloss:0.23835\tvalidation_1-logloss:0.34488                                                      \n",
      "[4]\tvalidation_0-logloss:0.19382\tvalidation_1-logloss:0.31555                                                      \n",
      "[5]\tvalidation_0-logloss:0.16024\tvalidation_1-logloss:0.29175                                                      \n",
      "[6]\tvalidation_0-logloss:0.13314\tvalidation_1-logloss:0.27754                                                      \n",
      "[7]\tvalidation_0-logloss:0.11251\tvalidation_1-logloss:0.26064                                                      \n",
      "[8]\tvalidation_0-logloss:0.09577\tvalidation_1-logloss:0.25030                                                      \n",
      "[9]\tvalidation_0-logloss:0.08110\tvalidation_1-logloss:0.24757                                                      \n",
      "[10]\tvalidation_0-logloss:0.06930\tvalidation_1-logloss:0.23795                                                     \n",
      "[11]\tvalidation_0-logloss:0.06030\tvalidation_1-logloss:0.23018                                                     \n",
      "[12]\tvalidation_0-logloss:0.05247\tvalidation_1-logloss:0.22587                                                     \n",
      "[13]\tvalidation_0-logloss:0.04647\tvalidation_1-logloss:0.21856                                                     \n",
      "[14]\tvalidation_0-logloss:0.04189\tvalidation_1-logloss:0.21513                                                     \n",
      "[15]\tvalidation_0-logloss:0.03775\tvalidation_1-logloss:0.21314                                                     \n",
      "[16]\tvalidation_0-logloss:0.03422\tvalidation_1-logloss:0.21129                                                     \n",
      "[17]\tvalidation_0-logloss:0.03135\tvalidation_1-logloss:0.20654                                                     \n",
      "[18]\tvalidation_0-logloss:0.02866\tvalidation_1-logloss:0.20405                                                     \n",
      "[19]\tvalidation_0-logloss:0.02677\tvalidation_1-logloss:0.20212                                                     \n",
      "[20]\tvalidation_0-logloss:0.02501\tvalidation_1-logloss:0.20252                                                     \n",
      "[21]\tvalidation_0-logloss:0.02327\tvalidation_1-logloss:0.19851                                                     \n",
      "[22]\tvalidation_0-logloss:0.02176\tvalidation_1-logloss:0.19952                                                     \n",
      "[23]\tvalidation_0-logloss:0.02048\tvalidation_1-logloss:0.19624                                                     \n",
      "[24]\tvalidation_0-logloss:0.01934\tvalidation_1-logloss:0.19703                                                     \n",
      "[25]\tvalidation_0-logloss:0.01845\tvalidation_1-logloss:0.19738                                                     \n",
      "[26]\tvalidation_0-logloss:0.01748\tvalidation_1-logloss:0.19798                                                     \n",
      "[27]\tvalidation_0-logloss:0.01680\tvalidation_1-logloss:0.19482                                                     \n",
      "[28]\tvalidation_0-logloss:0.01597\tvalidation_1-logloss:0.19476                                                     \n",
      "[29]\tvalidation_0-logloss:0.01520\tvalidation_1-logloss:0.19389                                                     \n",
      "[30]\tvalidation_0-logloss:0.01462\tvalidation_1-logloss:0.19468                                                     \n",
      "[31]\tvalidation_0-logloss:0.01399\tvalidation_1-logloss:0.19225                                                     \n",
      "[32]\tvalidation_0-logloss:0.01356\tvalidation_1-logloss:0.19237                                                     \n",
      "[33]\tvalidation_0-logloss:0.01295\tvalidation_1-logloss:0.19074                                                     \n",
      "[34]\tvalidation_0-logloss:0.01249\tvalidation_1-logloss:0.19179                                                     \n",
      "[35]\tvalidation_0-logloss:0.01219\tvalidation_1-logloss:0.19193                                                     \n",
      "[36]\tvalidation_0-logloss:0.01198\tvalidation_1-logloss:0.19314                                                     \n",
      "[37]\tvalidation_0-logloss:0.01174\tvalidation_1-logloss:0.19281                                                     \n",
      "[38]\tvalidation_0-logloss:0.01147\tvalidation_1-logloss:0.19160                                                     \n",
      "[39]\tvalidation_0-logloss:0.01131\tvalidation_1-logloss:0.19221                                                     \n",
      "[40]\tvalidation_0-logloss:0.01098\tvalidation_1-logloss:0.19265                                                     \n",
      "[41]\tvalidation_0-logloss:0.01070\tvalidation_1-logloss:0.19351                                                     \n",
      "[42]\tvalidation_0-logloss:0.01046\tvalidation_1-logloss:0.19221                                                     \n",
      "[43]\tvalidation_0-logloss:0.01038\tvalidation_1-logloss:0.19153                                                     \n",
      "[44]\tvalidation_0-logloss:0.01038\tvalidation_1-logloss:0.19151                                                     \n",
      "[45]\tvalidation_0-logloss:0.01038\tvalidation_1-logloss:0.19151                                                     \n",
      "[46]\tvalidation_0-logloss:0.01008\tvalidation_1-logloss:0.19034                                                     \n",
      "[47]\tvalidation_0-logloss:0.00984\tvalidation_1-logloss:0.18979                                                     \n",
      "[48]\tvalidation_0-logloss:0.00971\tvalidation_1-logloss:0.19041                                                     \n",
      "[49]\tvalidation_0-logloss:0.00952\tvalidation_1-logloss:0.19030                                                     \n",
      "[50]\tvalidation_0-logloss:0.00952\tvalidation_1-logloss:0.19029                                                     \n",
      "[51]\tvalidation_0-logloss:0.00952\tvalidation_1-logloss:0.19029                                                     \n",
      "[52]\tvalidation_0-logloss:0.00952\tvalidation_1-logloss:0.19028                                                     \n",
      "[53]\tvalidation_0-logloss:0.00952\tvalidation_1-logloss:0.19028                                                     \n",
      "[54]\tvalidation_0-logloss:0.00952\tvalidation_1-logloss:0.19027                                                     \n",
      "[55]\tvalidation_0-logloss:0.00952\tvalidation_1-logloss:0.19027                                                     \n",
      "[56]\tvalidation_0-logloss:0.00952\tvalidation_1-logloss:0.19027                                                     \n",
      "[57]\tvalidation_0-logloss:0.00952\tvalidation_1-logloss:0.19027                                                     \n",
      "[58]\tvalidation_0-logloss:0.00952\tvalidation_1-logloss:0.19027                                                     \n",
      "[59]\tvalidation_0-logloss:0.00952\tvalidation_1-logloss:0.19027                                                     \n",
      "[60]\tvalidation_0-logloss:0.00952\tvalidation_1-logloss:0.19027                                                     \n",
      "[61]\tvalidation_0-logloss:0.00952\tvalidation_1-logloss:0.19027                                                     \n",
      "[62]\tvalidation_0-logloss:0.00952\tvalidation_1-logloss:0.19027                                                     \n",
      "[63]\tvalidation_0-logloss:0.00952\tvalidation_1-logloss:0.19027                                                     \n",
      "[64]\tvalidation_0-logloss:0.00952\tvalidation_1-logloss:0.19027                                                     \n",
      "[65]\tvalidation_0-logloss:0.00952\tvalidation_1-logloss:0.19027                                                     \n",
      "[66]\tvalidation_0-logloss:0.00952\tvalidation_1-logloss:0.19027                                                     \n",
      "-0.9599723740443402                                                                                                \n",
      "[0]\tvalidation_0-logloss:0.27146\tvalidation_1-logloss:0.38703                                                      \n",
      "[1]\tvalidation_0-logloss:0.14610\tvalidation_1-logloss:0.32924                                                      \n"
     ]
    },
    {
     "name": "stdout",
     "output_type": "stream",
     "text": [
      "[2]\tvalidation_0-logloss:0.08633\tvalidation_1-logloss:0.30421                                                      \n",
      "[3]\tvalidation_0-logloss:0.05831\tvalidation_1-logloss:0.28244                                                      \n",
      "[4]\tvalidation_0-logloss:0.04203\tvalidation_1-logloss:0.25660                                                      \n",
      "[5]\tvalidation_0-logloss:0.03212\tvalidation_1-logloss:0.26278                                                      \n",
      "[6]\tvalidation_0-logloss:0.02535\tvalidation_1-logloss:0.25763                                                      \n",
      "[7]\tvalidation_0-logloss:0.02066\tvalidation_1-logloss:0.25850                                                      \n",
      "[8]\tvalidation_0-logloss:0.01809\tvalidation_1-logloss:0.25203                                                      \n",
      "[9]\tvalidation_0-logloss:0.01574\tvalidation_1-logloss:0.24881                                                      \n",
      "[10]\tvalidation_0-logloss:0.01395\tvalidation_1-logloss:0.24281                                                     \n",
      "[11]\tvalidation_0-logloss:0.01271\tvalidation_1-logloss:0.24610                                                     \n",
      "[12]\tvalidation_0-logloss:0.01148\tvalidation_1-logloss:0.24089                                                     \n",
      "[13]\tvalidation_0-logloss:0.01042\tvalidation_1-logloss:0.24275                                                     \n",
      "[14]\tvalidation_0-logloss:0.01002\tvalidation_1-logloss:0.23971                                                     \n",
      "[15]\tvalidation_0-logloss:0.00960\tvalidation_1-logloss:0.24177                                                     \n",
      "[16]\tvalidation_0-logloss:0.00948\tvalidation_1-logloss:0.24196                                                     \n",
      "[17]\tvalidation_0-logloss:0.00948\tvalidation_1-logloss:0.24194                                                     \n",
      "[18]\tvalidation_0-logloss:0.00948\tvalidation_1-logloss:0.24194                                                     \n",
      "[19]\tvalidation_0-logloss:0.00948\tvalidation_1-logloss:0.24194                                                     \n",
      "[20]\tvalidation_0-logloss:0.00948\tvalidation_1-logloss:0.24194                                                     \n",
      "[21]\tvalidation_0-logloss:0.00948\tvalidation_1-logloss:0.24194                                                     \n",
      "[22]\tvalidation_0-logloss:0.00948\tvalidation_1-logloss:0.24194                                                     \n",
      "[23]\tvalidation_0-logloss:0.00948\tvalidation_1-logloss:0.24194                                                     \n",
      "[24]\tvalidation_0-logloss:0.00948\tvalidation_1-logloss:0.24194                                                     \n",
      "[25]\tvalidation_0-logloss:0.00948\tvalidation_1-logloss:0.24194                                                     \n",
      "[26]\tvalidation_0-logloss:0.00948\tvalidation_1-logloss:0.24194                                                     \n",
      "[27]\tvalidation_0-logloss:0.00948\tvalidation_1-logloss:0.24194                                                     \n",
      "[28]\tvalidation_0-logloss:0.00948\tvalidation_1-logloss:0.24194                                                     \n",
      "[29]\tvalidation_0-logloss:0.00948\tvalidation_1-logloss:0.24194                                                     \n",
      "[30]\tvalidation_0-logloss:0.00948\tvalidation_1-logloss:0.24194                                                     \n",
      "[31]\tvalidation_0-logloss:0.00948\tvalidation_1-logloss:0.24194                                                     \n",
      "[32]\tvalidation_0-logloss:0.00948\tvalidation_1-logloss:0.24194                                                     \n",
      "[33]\tvalidation_0-logloss:0.00948\tvalidation_1-logloss:0.24194                                                     \n",
      "[34]\tvalidation_0-logloss:0.00948\tvalidation_1-logloss:0.24194                                                     \n",
      "-0.9535834853623777                                                                                                \n",
      "[0]\tvalidation_0-logloss:0.54206\tvalidation_1-logloss:0.54712                                                      \n",
      "[1]\tvalidation_0-logloss:0.45292\tvalidation_1-logloss:0.46479                                                      \n",
      "[2]\tvalidation_0-logloss:0.38820\tvalidation_1-logloss:0.40369                                                      \n",
      "[3]\tvalidation_0-logloss:0.33821\tvalidation_1-logloss:0.36202                                                      \n",
      "[4]\tvalidation_0-logloss:0.29458\tvalidation_1-logloss:0.33212                                                      \n",
      "[5]\tvalidation_0-logloss:0.26556\tvalidation_1-logloss:0.31050                                                      \n",
      "[6]\tvalidation_0-logloss:0.23997\tvalidation_1-logloss:0.29115                                                      \n",
      "[7]\tvalidation_0-logloss:0.21895\tvalidation_1-logloss:0.27915                                                      \n",
      "[8]\tvalidation_0-logloss:0.20222\tvalidation_1-logloss:0.26807                                                      \n",
      "[9]\tvalidation_0-logloss:0.18588\tvalidation_1-logloss:0.25349                                                      \n",
      "[10]\tvalidation_0-logloss:0.17342\tvalidation_1-logloss:0.24534                                                     \n",
      "[11]\tvalidation_0-logloss:0.16247\tvalidation_1-logloss:0.24170                                                     \n",
      "[12]\tvalidation_0-logloss:0.15275\tvalidation_1-logloss:0.23303                                                     \n",
      "[13]\tvalidation_0-logloss:0.14530\tvalidation_1-logloss:0.23301                                                     \n",
      "[14]\tvalidation_0-logloss:0.14000\tvalidation_1-logloss:0.22649                                                     \n",
      "[15]\tvalidation_0-logloss:0.13242\tvalidation_1-logloss:0.22489                                                     \n",
      "[16]\tvalidation_0-logloss:0.12235\tvalidation_1-logloss:0.22238                                                     \n",
      "[17]\tvalidation_0-logloss:0.11287\tvalidation_1-logloss:0.21616                                                     \n",
      "[18]\tvalidation_0-logloss:0.10327\tvalidation_1-logloss:0.21082                                                     \n",
      "[19]\tvalidation_0-logloss:0.09912\tvalidation_1-logloss:0.20604                                                     \n",
      "[20]\tvalidation_0-logloss:0.09364\tvalidation_1-logloss:0.20508                                                     \n",
      "[21]\tvalidation_0-logloss:0.08927\tvalidation_1-logloss:0.20259                                                     \n",
      "[22]\tvalidation_0-logloss:0.08256\tvalidation_1-logloss:0.20080                                                     \n",
      "[23]\tvalidation_0-logloss:0.07762\tvalidation_1-logloss:0.19271                                                     \n",
      "[24]\tvalidation_0-logloss:0.07416\tvalidation_1-logloss:0.19080                                                     \n",
      "[25]\tvalidation_0-logloss:0.07220\tvalidation_1-logloss:0.18929                                                     \n",
      "[26]\tvalidation_0-logloss:0.06882\tvalidation_1-logloss:0.18979                                                     \n",
      "[27]\tvalidation_0-logloss:0.06497\tvalidation_1-logloss:0.18642                                                     \n",
      "[28]\tvalidation_0-logloss:0.06316\tvalidation_1-logloss:0.18496                                                     \n",
      "[29]\tvalidation_0-logloss:0.05931\tvalidation_1-logloss:0.18322                                                     \n",
      "[30]\tvalidation_0-logloss:0.05578\tvalidation_1-logloss:0.18489                                                     \n",
      "[31]\tvalidation_0-logloss:0.05298\tvalidation_1-logloss:0.18576                                                     \n",
      "[32]\tvalidation_0-logloss:0.05049\tvalidation_1-logloss:0.18497                                                     \n",
      "[33]\tvalidation_0-logloss:0.04879\tvalidation_1-logloss:0.18217                                                     \n",
      "[34]\tvalidation_0-logloss:0.04741\tvalidation_1-logloss:0.18187                                                     \n",
      "[35]\tvalidation_0-logloss:0.04531\tvalidation_1-logloss:0.18074                                                     \n"
     ]
    },
    {
     "name": "stdout",
     "output_type": "stream",
     "text": [
      "[36]\tvalidation_0-logloss:0.04223\tvalidation_1-logloss:0.18172                                                     \n",
      "[37]\tvalidation_0-logloss:0.04104\tvalidation_1-logloss:0.18110                                                     \n",
      "[38]\tvalidation_0-logloss:0.03889\tvalidation_1-logloss:0.18227                                                     \n",
      "[39]\tvalidation_0-logloss:0.03727\tvalidation_1-logloss:0.17933                                                     \n",
      "[40]\tvalidation_0-logloss:0.03569\tvalidation_1-logloss:0.17842                                                     \n",
      "[41]\tvalidation_0-logloss:0.03392\tvalidation_1-logloss:0.17657                                                     \n",
      "[42]\tvalidation_0-logloss:0.03291\tvalidation_1-logloss:0.17718                                                     \n",
      "[43]\tvalidation_0-logloss:0.03178\tvalidation_1-logloss:0.17726                                                     \n",
      "[44]\tvalidation_0-logloss:0.03082\tvalidation_1-logloss:0.17683                                                     \n",
      "[45]\tvalidation_0-logloss:0.02998\tvalidation_1-logloss:0.17473                                                     \n",
      "[46]\tvalidation_0-logloss:0.02881\tvalidation_1-logloss:0.17336                                                     \n",
      "[47]\tvalidation_0-logloss:0.02737\tvalidation_1-logloss:0.17049                                                     \n",
      "[48]\tvalidation_0-logloss:0.02650\tvalidation_1-logloss:0.17106                                                     \n",
      "[49]\tvalidation_0-logloss:0.02502\tvalidation_1-logloss:0.16747                                                     \n",
      "[50]\tvalidation_0-logloss:0.02382\tvalidation_1-logloss:0.16816                                                     \n",
      "[51]\tvalidation_0-logloss:0.02275\tvalidation_1-logloss:0.16696                                                     \n",
      "[52]\tvalidation_0-logloss:0.02182\tvalidation_1-logloss:0.16787                                                     \n",
      "[53]\tvalidation_0-logloss:0.02115\tvalidation_1-logloss:0.16992                                                     \n",
      "[54]\tvalidation_0-logloss:0.01996\tvalidation_1-logloss:0.16825                                                     \n",
      "[55]\tvalidation_0-logloss:0.01905\tvalidation_1-logloss:0.16809                                                     \n",
      "[56]\tvalidation_0-logloss:0.01813\tvalidation_1-logloss:0.16949                                                     \n",
      "[57]\tvalidation_0-logloss:0.01739\tvalidation_1-logloss:0.17139                                                     \n",
      "[58]\tvalidation_0-logloss:0.01689\tvalidation_1-logloss:0.17333                                                     \n",
      "[59]\tvalidation_0-logloss:0.01631\tvalidation_1-logloss:0.17421                                                     \n",
      "[60]\tvalidation_0-logloss:0.01556\tvalidation_1-logloss:0.17237                                                     \n",
      "[61]\tvalidation_0-logloss:0.01512\tvalidation_1-logloss:0.17361                                                     \n",
      "[62]\tvalidation_0-logloss:0.01446\tvalidation_1-logloss:0.17597                                                     \n",
      "[63]\tvalidation_0-logloss:0.01390\tvalidation_1-logloss:0.17687                                                     \n",
      "[64]\tvalidation_0-logloss:0.01350\tvalidation_1-logloss:0.17766                                                     \n",
      "[65]\tvalidation_0-logloss:0.01304\tvalidation_1-logloss:0.18038                                                     \n",
      "[66]\tvalidation_0-logloss:0.01265\tvalidation_1-logloss:0.18118                                                     \n",
      "[67]\tvalidation_0-logloss:0.01222\tvalidation_1-logloss:0.17877                                                     \n",
      "[68]\tvalidation_0-logloss:0.01190\tvalidation_1-logloss:0.17944                                                     \n",
      "[69]\tvalidation_0-logloss:0.01158\tvalidation_1-logloss:0.18018                                                     \n",
      "[70]\tvalidation_0-logloss:0.01121\tvalidation_1-logloss:0.17953                                                     \n",
      "-0.9650293393087143                                                                                                \n",
      "[0]\tvalidation_0-logloss:0.51529\tvalidation_1-logloss:0.55005                                                      \n",
      "[1]\tvalidation_0-logloss:0.40521\tvalidation_1-logloss:0.46769                                                      \n",
      "[2]\tvalidation_0-logloss:0.32260\tvalidation_1-logloss:0.40307                                                      \n",
      "[3]\tvalidation_0-logloss:0.26099\tvalidation_1-logloss:0.36515                                                      \n",
      "[4]\tvalidation_0-logloss:0.21177\tvalidation_1-logloss:0.33061                                                      \n",
      "[5]\tvalidation_0-logloss:0.17617\tvalidation_1-logloss:0.29995                                                      \n",
      "[6]\tvalidation_0-logloss:0.14649\tvalidation_1-logloss:0.27880                                                      \n",
      "[7]\tvalidation_0-logloss:0.12475\tvalidation_1-logloss:0.26445                                                      \n",
      "[8]\tvalidation_0-logloss:0.10616\tvalidation_1-logloss:0.24783                                                      \n",
      "[9]\tvalidation_0-logloss:0.09072\tvalidation_1-logloss:0.24101                                                      \n",
      "[10]\tvalidation_0-logloss:0.07835\tvalidation_1-logloss:0.22954                                                     \n",
      "[11]\tvalidation_0-logloss:0.06842\tvalidation_1-logloss:0.22698                                                     \n",
      "[12]\tvalidation_0-logloss:0.06000\tvalidation_1-logloss:0.22259                                                     \n",
      "[13]\tvalidation_0-logloss:0.05368\tvalidation_1-logloss:0.21771                                                     \n",
      "[14]\tvalidation_0-logloss:0.04816\tvalidation_1-logloss:0.22036                                                     \n",
      "[15]\tvalidation_0-logloss:0.04371\tvalidation_1-logloss:0.21816                                                     \n",
      "[16]\tvalidation_0-logloss:0.04051\tvalidation_1-logloss:0.21666                                                     \n",
      "[17]\tvalidation_0-logloss:0.03703\tvalidation_1-logloss:0.21385                                                     \n",
      "[18]\tvalidation_0-logloss:0.03395\tvalidation_1-logloss:0.20792                                                     \n",
      "[19]\tvalidation_0-logloss:0.03154\tvalidation_1-logloss:0.20661                                                     \n",
      "[20]\tvalidation_0-logloss:0.02918\tvalidation_1-logloss:0.20740                                                     \n",
      "[21]\tvalidation_0-logloss:0.02706\tvalidation_1-logloss:0.20595                                                     \n",
      "[22]\tvalidation_0-logloss:0.02516\tvalidation_1-logloss:0.20358                                                     \n",
      "[23]\tvalidation_0-logloss:0.02374\tvalidation_1-logloss:0.20312                                                     \n",
      "[24]\tvalidation_0-logloss:0.02237\tvalidation_1-logloss:0.20359                                                     \n",
      "[25]\tvalidation_0-logloss:0.02115\tvalidation_1-logloss:0.20148                                                     \n",
      "[26]\tvalidation_0-logloss:0.02014\tvalidation_1-logloss:0.20131                                                     \n",
      "[27]\tvalidation_0-logloss:0.01929\tvalidation_1-logloss:0.19920                                                     \n",
      "[28]\tvalidation_0-logloss:0.01835\tvalidation_1-logloss:0.19602                                                     \n",
      "[29]\tvalidation_0-logloss:0.01767\tvalidation_1-logloss:0.19436                                                     \n",
      "[30]\tvalidation_0-logloss:0.01700\tvalidation_1-logloss:0.19454                                                     \n",
      "[31]\tvalidation_0-logloss:0.01644\tvalidation_1-logloss:0.19244                                                     \n",
      "[32]\tvalidation_0-logloss:0.01591\tvalidation_1-logloss:0.19112                                                     \n",
      "[33]\tvalidation_0-logloss:0.01543\tvalidation_1-logloss:0.19163                                                     \n"
     ]
    },
    {
     "name": "stdout",
     "output_type": "stream",
     "text": [
      "[34]\tvalidation_0-logloss:0.01506\tvalidation_1-logloss:0.19016                                                     \n",
      "[35]\tvalidation_0-logloss:0.01470\tvalidation_1-logloss:0.18809                                                     \n",
      "[36]\tvalidation_0-logloss:0.01432\tvalidation_1-logloss:0.18772                                                     \n",
      "[37]\tvalidation_0-logloss:0.01406\tvalidation_1-logloss:0.18726                                                     \n",
      "[38]\tvalidation_0-logloss:0.01368\tvalidation_1-logloss:0.18610                                                     \n",
      "[39]\tvalidation_0-logloss:0.01341\tvalidation_1-logloss:0.18679                                                     \n",
      "[40]\tvalidation_0-logloss:0.01324\tvalidation_1-logloss:0.18681                                                     \n",
      "[41]\tvalidation_0-logloss:0.01294\tvalidation_1-logloss:0.18779                                                     \n",
      "[42]\tvalidation_0-logloss:0.01294\tvalidation_1-logloss:0.18776                                                     \n",
      "[43]\tvalidation_0-logloss:0.01294\tvalidation_1-logloss:0.18774                                                     \n",
      "[44]\tvalidation_0-logloss:0.01294\tvalidation_1-logloss:0.18773                                                     \n",
      "[45]\tvalidation_0-logloss:0.01294\tvalidation_1-logloss:0.18771                                                     \n",
      "[46]\tvalidation_0-logloss:0.01294\tvalidation_1-logloss:0.18771                                                     \n",
      "[47]\tvalidation_0-logloss:0.01294\tvalidation_1-logloss:0.18770                                                     \n",
      "[48]\tvalidation_0-logloss:0.01294\tvalidation_1-logloss:0.18770                                                     \n",
      "[49]\tvalidation_0-logloss:0.01294\tvalidation_1-logloss:0.18769                                                     \n",
      "[50]\tvalidation_0-logloss:0.01294\tvalidation_1-logloss:0.18769                                                     \n",
      "[51]\tvalidation_0-logloss:0.01294\tvalidation_1-logloss:0.18769                                                     \n",
      "[52]\tvalidation_0-logloss:0.01294\tvalidation_1-logloss:0.18768                                                     \n",
      "[53]\tvalidation_0-logloss:0.01294\tvalidation_1-logloss:0.18768                                                     \n",
      "[54]\tvalidation_0-logloss:0.01294\tvalidation_1-logloss:0.18768                                                     \n",
      "[55]\tvalidation_0-logloss:0.01294\tvalidation_1-logloss:0.18768                                                     \n",
      "[56]\tvalidation_0-logloss:0.01294\tvalidation_1-logloss:0.18768                                                     \n",
      "[57]\tvalidation_0-logloss:0.01294\tvalidation_1-logloss:0.18768                                                     \n",
      "-0.9602623292513318                                                                                                \n",
      "[0]\tvalidation_0-logloss:0.55571\tvalidation_1-logloss:0.57827                                                      \n",
      "[1]\tvalidation_0-logloss:0.50279\tvalidation_1-logloss:0.51644                                                      \n",
      "[2]\tvalidation_0-logloss:0.46212\tvalidation_1-logloss:0.46402                                                      \n",
      "[3]\tvalidation_0-logloss:0.42961\tvalidation_1-logloss:0.42175                                                      \n",
      "[4]\tvalidation_0-logloss:0.40586\tvalidation_1-logloss:0.39984                                                      \n",
      "[5]\tvalidation_0-logloss:0.38627\tvalidation_1-logloss:0.37955                                                      \n",
      "[6]\tvalidation_0-logloss:0.36662\tvalidation_1-logloss:0.35757                                                      \n",
      "[7]\tvalidation_0-logloss:0.34897\tvalidation_1-logloss:0.33911                                                      \n",
      "[8]\tvalidation_0-logloss:0.33399\tvalidation_1-logloss:0.32396                                                      \n",
      "[9]\tvalidation_0-logloss:0.31975\tvalidation_1-logloss:0.30477                                                      \n",
      "[10]\tvalidation_0-logloss:0.30876\tvalidation_1-logloss:0.29740                                                     \n",
      "[11]\tvalidation_0-logloss:0.29972\tvalidation_1-logloss:0.29511                                                     \n",
      "[12]\tvalidation_0-logloss:0.29129\tvalidation_1-logloss:0.28451                                                     \n",
      "[13]\tvalidation_0-logloss:0.28283\tvalidation_1-logloss:0.27739                                                     \n",
      "[14]\tvalidation_0-logloss:0.27660\tvalidation_1-logloss:0.27331                                                     \n",
      "[15]\tvalidation_0-logloss:0.27037\tvalidation_1-logloss:0.26626                                                     \n",
      "[16]\tvalidation_0-logloss:0.26379\tvalidation_1-logloss:0.26175                                                     \n",
      "[17]\tvalidation_0-logloss:0.25767\tvalidation_1-logloss:0.25870                                                     \n",
      "[18]\tvalidation_0-logloss:0.25177\tvalidation_1-logloss:0.24429                                                     \n",
      "[19]\tvalidation_0-logloss:0.24676\tvalidation_1-logloss:0.23698                                                     \n",
      "[20]\tvalidation_0-logloss:0.24191\tvalidation_1-logloss:0.22760                                                     \n",
      "[21]\tvalidation_0-logloss:0.23742\tvalidation_1-logloss:0.22825                                                     \n",
      "[22]\tvalidation_0-logloss:0.23231\tvalidation_1-logloss:0.23065                                                     \n",
      "[23]\tvalidation_0-logloss:0.22810\tvalidation_1-logloss:0.23173                                                     \n",
      "[24]\tvalidation_0-logloss:0.22429\tvalidation_1-logloss:0.23308                                                     \n",
      "[25]\tvalidation_0-logloss:0.22040\tvalidation_1-logloss:0.23322                                                     \n",
      "[26]\tvalidation_0-logloss:0.21664\tvalidation_1-logloss:0.22740                                                     \n",
      "[27]\tvalidation_0-logloss:0.21291\tvalidation_1-logloss:0.22537                                                     \n",
      "[28]\tvalidation_0-logloss:0.20922\tvalidation_1-logloss:0.22438                                                     \n",
      "[29]\tvalidation_0-logloss:0.20613\tvalidation_1-logloss:0.21818                                                     \n",
      "[30]\tvalidation_0-logloss:0.20277\tvalidation_1-logloss:0.21727                                                     \n",
      "[31]\tvalidation_0-logloss:0.19984\tvalidation_1-logloss:0.21171                                                     \n",
      "[32]\tvalidation_0-logloss:0.19601\tvalidation_1-logloss:0.21286                                                     \n",
      "[33]\tvalidation_0-logloss:0.19286\tvalidation_1-logloss:0.21118                                                     \n",
      "[34]\tvalidation_0-logloss:0.19023\tvalidation_1-logloss:0.21117                                                     \n",
      "[35]\tvalidation_0-logloss:0.18754\tvalidation_1-logloss:0.21429                                                     \n",
      "[36]\tvalidation_0-logloss:0.18456\tvalidation_1-logloss:0.21190                                                     \n",
      "[37]\tvalidation_0-logloss:0.18235\tvalidation_1-logloss:0.21111                                                     \n",
      "[38]\tvalidation_0-logloss:0.18002\tvalidation_1-logloss:0.20834                                                     \n",
      "[39]\tvalidation_0-logloss:0.17789\tvalidation_1-logloss:0.20548                                                     \n",
      "[40]\tvalidation_0-logloss:0.17575\tvalidation_1-logloss:0.20594                                                     \n",
      "[41]\tvalidation_0-logloss:0.17372\tvalidation_1-logloss:0.20265                                                     \n",
      "[42]\tvalidation_0-logloss:0.17134\tvalidation_1-logloss:0.20383                                                     \n",
      "[43]\tvalidation_0-logloss:0.16927\tvalidation_1-logloss:0.20279                                                     \n",
      "[44]\tvalidation_0-logloss:0.16707\tvalidation_1-logloss:0.20207                                                     \n"
     ]
    },
    {
     "name": "stdout",
     "output_type": "stream",
     "text": [
      "[45]\tvalidation_0-logloss:0.16503\tvalidation_1-logloss:0.20061                                                     \n",
      "[46]\tvalidation_0-logloss:0.16308\tvalidation_1-logloss:0.19699                                                     \n",
      "[47]\tvalidation_0-logloss:0.16095\tvalidation_1-logloss:0.19863                                                     \n",
      "[48]\tvalidation_0-logloss:0.15913\tvalidation_1-logloss:0.19730                                                     \n",
      "[49]\tvalidation_0-logloss:0.15733\tvalidation_1-logloss:0.19517                                                     \n",
      "[50]\tvalidation_0-logloss:0.15545\tvalidation_1-logloss:0.19895                                                     \n",
      "[51]\tvalidation_0-logloss:0.15363\tvalidation_1-logloss:0.20255                                                     \n",
      "[52]\tvalidation_0-logloss:0.15167\tvalidation_1-logloss:0.20391                                                     \n",
      "[53]\tvalidation_0-logloss:0.15012\tvalidation_1-logloss:0.20414                                                     \n",
      "[54]\tvalidation_0-logloss:0.14831\tvalidation_1-logloss:0.20554                                                     \n",
      "[55]\tvalidation_0-logloss:0.14639\tvalidation_1-logloss:0.20345                                                     \n",
      "[56]\tvalidation_0-logloss:0.14469\tvalidation_1-logloss:0.20312                                                     \n",
      "[57]\tvalidation_0-logloss:0.14315\tvalidation_1-logloss:0.20095                                                     \n",
      "[58]\tvalidation_0-logloss:0.14147\tvalidation_1-logloss:0.20128                                                     \n",
      "[59]\tvalidation_0-logloss:0.14005\tvalidation_1-logloss:0.19906                                                     \n",
      "[60]\tvalidation_0-logloss:0.13832\tvalidation_1-logloss:0.20148                                                     \n",
      "[61]\tvalidation_0-logloss:0.13662\tvalidation_1-logloss:0.20201                                                     \n",
      "[62]\tvalidation_0-logloss:0.13496\tvalidation_1-logloss:0.19798                                                     \n",
      "[63]\tvalidation_0-logloss:0.13354\tvalidation_1-logloss:0.19769                                                     \n",
      "[64]\tvalidation_0-logloss:0.13155\tvalidation_1-logloss:0.19634                                                     \n",
      "[65]\tvalidation_0-logloss:0.13011\tvalidation_1-logloss:0.19938                                                     \n",
      "[66]\tvalidation_0-logloss:0.12871\tvalidation_1-logloss:0.19701                                                     \n",
      "[67]\tvalidation_0-logloss:0.12731\tvalidation_1-logloss:0.19631                                                     \n",
      "[68]\tvalidation_0-logloss:0.12571\tvalidation_1-logloss:0.19507                                                     \n",
      "[69]\tvalidation_0-logloss:0.12444\tvalidation_1-logloss:0.19571                                                     \n",
      "[70]\tvalidation_0-logloss:0.12275\tvalidation_1-logloss:0.19296                                                     \n",
      "[71]\tvalidation_0-logloss:0.12143\tvalidation_1-logloss:0.19364                                                     \n",
      "[72]\tvalidation_0-logloss:0.12003\tvalidation_1-logloss:0.18999                                                     \n",
      "[73]\tvalidation_0-logloss:0.11877\tvalidation_1-logloss:0.18906                                                     \n",
      "[74]\tvalidation_0-logloss:0.11752\tvalidation_1-logloss:0.18866                                                     \n",
      "[75]\tvalidation_0-logloss:0.11638\tvalidation_1-logloss:0.18823                                                     \n",
      "[76]\tvalidation_0-logloss:0.11505\tvalidation_1-logloss:0.18798                                                     \n",
      "[77]\tvalidation_0-logloss:0.11383\tvalidation_1-logloss:0.18931                                                     \n",
      "[78]\tvalidation_0-logloss:0.11272\tvalidation_1-logloss:0.18797                                                     \n",
      "[79]\tvalidation_0-logloss:0.11156\tvalidation_1-logloss:0.18800                                                     \n",
      "[80]\tvalidation_0-logloss:0.11029\tvalidation_1-logloss:0.19115                                                     \n",
      "[81]\tvalidation_0-logloss:0.10906\tvalidation_1-logloss:0.19010                                                     \n",
      "[82]\tvalidation_0-logloss:0.10788\tvalidation_1-logloss:0.18955                                                     \n",
      "[83]\tvalidation_0-logloss:0.10673\tvalidation_1-logloss:0.18757                                                     \n",
      "[84]\tvalidation_0-logloss:0.10567\tvalidation_1-logloss:0.18654                                                     \n",
      "[85]\tvalidation_0-logloss:0.10455\tvalidation_1-logloss:0.18428                                                     \n",
      "[86]\tvalidation_0-logloss:0.10348\tvalidation_1-logloss:0.18456                                                     \n",
      "[87]\tvalidation_0-logloss:0.10251\tvalidation_1-logloss:0.18390                                                     \n",
      "[88]\tvalidation_0-logloss:0.10149\tvalidation_1-logloss:0.18877                                                     \n",
      "[89]\tvalidation_0-logloss:0.10036\tvalidation_1-logloss:0.18841                                                     \n",
      "[90]\tvalidation_0-logloss:0.09941\tvalidation_1-logloss:0.18889                                                     \n",
      "[91]\tvalidation_0-logloss:0.09838\tvalidation_1-logloss:0.19048                                                     \n",
      "[92]\tvalidation_0-logloss:0.09742\tvalidation_1-logloss:0.18775                                                     \n",
      "[93]\tvalidation_0-logloss:0.09651\tvalidation_1-logloss:0.18785                                                     \n",
      "[94]\tvalidation_0-logloss:0.09542\tvalidation_1-logloss:0.18391                                                     \n",
      "[95]\tvalidation_0-logloss:0.09447\tvalidation_1-logloss:0.18394                                                     \n",
      "[96]\tvalidation_0-logloss:0.09342\tvalidation_1-logloss:0.18156                                                     \n",
      "[97]\tvalidation_0-logloss:0.09234\tvalidation_1-logloss:0.18078                                                     \n",
      "[98]\tvalidation_0-logloss:0.09136\tvalidation_1-logloss:0.18500                                                     \n",
      "[99]\tvalidation_0-logloss:0.09056\tvalidation_1-logloss:0.18476                                                     \n",
      "[100]\tvalidation_0-logloss:0.08976\tvalidation_1-logloss:0.18343                                                    \n",
      "[101]\tvalidation_0-logloss:0.08887\tvalidation_1-logloss:0.18212                                                    \n",
      "[102]\tvalidation_0-logloss:0.08801\tvalidation_1-logloss:0.18449                                                    \n",
      "[103]\tvalidation_0-logloss:0.08703\tvalidation_1-logloss:0.18468                                                    \n",
      "[104]\tvalidation_0-logloss:0.08620\tvalidation_1-logloss:0.18449                                                    \n",
      "[105]\tvalidation_0-logloss:0.08529\tvalidation_1-logloss:0.18183                                                    \n",
      "[106]\tvalidation_0-logloss:0.08434\tvalidation_1-logloss:0.18332                                                    \n",
      "[107]\tvalidation_0-logloss:0.08358\tvalidation_1-logloss:0.18321                                                    \n",
      "[108]\tvalidation_0-logloss:0.08281\tvalidation_1-logloss:0.18482                                                    \n",
      "[109]\tvalidation_0-logloss:0.08195\tvalidation_1-logloss:0.18545                                                    \n",
      "[110]\tvalidation_0-logloss:0.08120\tvalidation_1-logloss:0.18416                                                    \n",
      "[111]\tvalidation_0-logloss:0.08035\tvalidation_1-logloss:0.18246                                                    \n",
      "[112]\tvalidation_0-logloss:0.07973\tvalidation_1-logloss:0.18348                                                    \n",
      "[113]\tvalidation_0-logloss:0.07887\tvalidation_1-logloss:0.18371                                                    \n",
      "[114]\tvalidation_0-logloss:0.07806\tvalidation_1-logloss:0.18221                                                    \n"
     ]
    },
    {
     "name": "stdout",
     "output_type": "stream",
     "text": [
      "[115]\tvalidation_0-logloss:0.07735\tvalidation_1-logloss:0.18409                                                    \n",
      "[116]\tvalidation_0-logloss:0.07661\tvalidation_1-logloss:0.18474                                                    \n",
      "-0.9608411893053992                                                                                                \n",
      "100%|████████████████████████████████████████████| 5/5 [15:35<00:00, 187.19s/trial, best loss: -0.9650293393087143]\n"
     ]
    }
   ],
   "source": [
    "def xgb_score(params): #function to train and test different hyperparams\n",
    "    model = xgb.XGBClassifier(**params, eval_metric='logloss')\n",
    "    model.fit(X_train_fs, y_train, early_stopping_rounds=20,\n",
    "             eval_set=[(X_train_fs, y_train), (X_test_fs, y_test)])\n",
    "    score = -cross_val_score(model, X_train_fs, y_train, cv=10, scoring='roc_auc').mean()\n",
    "    print(score)\n",
    "    return {'loss': score, 'status': STATUS_OK}\n",
    "            \n",
    "def xgb_optimize(trials, space): #fmin is the main library function that minimizes the 'loss function' xgb_score\n",
    "    best = fmin(xgb_score, space, algo=tpe.suggest, max_evals=5)\n",
    "    return best\n",
    "            \n",
    "trials = Trials() #database that store completed hyperparameters and score\n",
    "best_xgb_params = xgb_optimize(trials, hyperparam_space) #calls fmin"
   ]
  },
  {
   "cell_type": "code",
   "execution_count": 102,
   "id": "08f0f315",
   "metadata": {
    "scrolled": true
   },
   "outputs": [
    {
     "data": {
      "text/plain": [
       "{'gamma': 0.1, 'learning_rate': 0.29, 'max_depth': 3, 'n_estimators': 324}"
      ]
     },
     "execution_count": 102,
     "metadata": {},
     "output_type": "execute_result"
    }
   ],
   "source": [
    "# best_xgb_params = {'gamma': 0.1, 'learning_rate': 0.29, 'max_depth': 3, 'n_estimators': 324}\n",
    "best_xgb_params"
   ]
  },
  {
   "cell_type": "markdown",
   "id": "5a0ed8b7",
   "metadata": {},
   "source": [
    "The above are our best hyperparameters, with the average 10 fold cross validation being minimized."
   ]
  },
  {
   "cell_type": "markdown",
   "id": "ae2813e1",
   "metadata": {},
   "source": [
    "## Tuned Model"
   ]
  },
  {
   "cell_type": "code",
   "execution_count": 50,
   "id": "7220bdaa",
   "metadata": {},
   "outputs": [
    {
     "data": {
      "image/png": "[encoded data removed]",
      "text/plain": [
       "<Figure size 720x432 with 1 Axes>"
      ]
     },
     "metadata": {
      "needs_background": "light"
     },
     "output_type": "display_data"
    }
   ],
   "source": [
    "xgb_model = xgb.XGBClassifier(**best_xgb_params, eval_metric='logloss') #utilize these best params\n",
    "eval_set = [(X_train_fs, y_train), (X_test_fs, y_test)] #have an eval set to keep track of learning rate over time\n",
    "xgb_model.fit(X_train_fs, y_train, eval_metric=[\"error\", \"logloss\"], eval_set=eval_set, verbose=False) #fit the best model\n",
    "\n",
    "results = xgb_model.evals_result()\n",
    "epochs = len(results['validation_0']['error'])\n",
    "x_axis = range(0, epochs)\n",
    "    \n",
    "fig, ax = plt.subplots(figsize=(10,6))\n",
    "ax.plot(x_axis, results['validation_0']['logloss'], label='Train')\n",
    "ax.plot(x_axis, results['validation_1']['logloss'], label='Test')\n",
    "ax.legend()\n",
    "    \n",
    "plt.ylabel('Log Loss')\n",
    "plt.title('XGBoost Log Loss')\n",
    "plt.show()"
   ]
  },
  {
   "cell_type": "code",
   "execution_count": 51,
   "id": "6d6c10c2",
   "metadata": {},
   "outputs": [
    {
     "data": {
      "image/png": "[encoded data removed]",
      "text/plain": [
       "<Figure size 720x432 with 1 Axes>"
      ]
     },
     "metadata": {
      "needs_background": "light"
     },
     "output_type": "display_data"
    }
   ],
   "source": [
    "#similar as above, but with classification error now\n",
    "fig, ax = plt.subplots(figsize=(10,6))\n",
    "ax.plot(x_axis, results['validation_0']['error'], label='Train')\n",
    "ax.plot(x_axis, results['validation_1']['error'], label='Test')\n",
    "ax.legend()\n",
    "    \n",
    "plt.ylabel('Classification Error')\n",
    "plt.title('XGBoost Classification Error')\n",
    "plt.show()"
   ]
  },
  {
   "cell_type": "markdown",
   "id": "30a8d07e",
   "metadata": {},
   "source": [
    "## Save Model"
   ]
  },
  {
   "cell_type": "code",
   "execution_count": 52,
   "id": "bba64222",
   "metadata": {},
   "outputs": [],
   "source": [
    "# xgb_model.save_model(\"xgb_model.txt\")"
   ]
  },
  {
   "cell_type": "markdown",
   "id": "9228fed2",
   "metadata": {},
   "source": [
    "## Testing on Output "
   ]
  },
  {
   "cell_type": "markdown",
   "id": "37b853aa",
   "metadata": {},
   "source": [
    "First load in the saved model."
   ]
  },
  {
   "cell_type": "code",
   "execution_count": 81,
   "id": "0c1a6b78",
   "metadata": {},
   "outputs": [],
   "source": [
    "saved_model = xgb.Booster()\n",
    "saved_model.load_model(\"xgb_model.txt\")\n",
    "# saved_model = xgb_model"
   ]
  },
  {
   "cell_type": "markdown",
   "id": "82afc9c4",
   "metadata": {},
   "source": [
    "XGBoost for some reason requires the input to be in a DMatrix format now, despite not needing the same format during training."
   ]
  },
  {
   "cell_type": "code",
   "execution_count": 82,
   "id": "e0d4c0d8",
   "metadata": {},
   "outputs": [],
   "source": [
    "X_test_D = xgb.DMatrix(X_test_fs)"
   ]
  },
  {
   "cell_type": "markdown",
   "id": "9ba1512a",
   "metadata": {},
   "source": [
    "The threshold score was calculated in a below cell, using code from the EMBER repository.\n",
    "\n",
    "We decided to use a threshold that gave a lower F1 score in order to minimize our false negative rate, as this would mean allowing in malware which is dangerous."
   ]
  },
  {
   "cell_type": "code",
   "execution_count": 87,
   "id": "12e60f61",
   "metadata": {},
   "outputs": [
    {
     "name": "stdout",
     "output_type": "stream",
     "text": [
      "F1 Score: 0.9394812680115274\n",
      "[[176  19]\n",
      " [  2 163]]\n",
      "              precision    recall  f1-score   support\n",
      "\n",
      "           0       0.99      0.90      0.94       195\n",
      "           1       0.90      0.99      0.94       165\n",
      "\n",
      "    accuracy                           0.94       360\n",
      "   macro avg       0.94      0.95      0.94       360\n",
      "weighted avg       0.95      0.94      0.94       360\n",
      "\n"
     ]
    }
   ],
   "source": [
    "y_pred = saved_model.predict(X_test_D)\n",
    "f1=f1_score(y_test, (y_pred > 0.4556))\n",
    "print('F1 Score:', f1)\n",
    "print(confusion_matrix(y_test, (y_pred > 0.4556)))\n",
    "print(classification_report(y_test, (y_pred > 0.4556)))"
   ]
  },
  {
   "cell_type": "markdown",
   "id": "cc8f0dce",
   "metadata": {},
   "source": [
    "As we can see, the false positive rate is approximately 5%, while the false negative rate is only 0.56%."
   ]
  },
  {
   "cell_type": "code",
   "execution_count": 103,
   "id": "cd1df705",
   "metadata": {},
   "outputs": [
    {
     "data": {
      "image/png": "[encoded data removed]",
      "text/plain": [
       "<Figure size 432x288 with 2 Axes>"
      ]
     },
     "metadata": {
      "needs_background": "light"
     },
     "output_type": "display_data"
    }
   ],
   "source": [
    "cf_matrix = confusion_matrix(y_test, (y_pred > 0.4556))\n",
    "ax = sns.heatmap(cf_matrix/np.sum(cf_matrix), annot=True, \n",
    "            fmt='.2%', cmap='Blues')\n",
    "\n",
    "ax.set_title('Confusion Matrix XGB\\n\\n');\n",
    "ax.set_xlabel('\\nPredicted Values')\n",
    "ax.set_ylabel('Actual Values ');\n",
    "\n",
    "## Ticket labels - List must be in alphabetical order\n",
    "ax.xaxis.set_ticklabels(['False','True'])\n",
    "ax.yaxis.set_ticklabels(['False','True'])\n",
    "\n",
    "## Display the visualization of the Confusion Matrix.\n",
    "plt.show()"
   ]
  },
  {
   "cell_type": "markdown",
   "id": "3a9a1786",
   "metadata": {},
   "source": [
    "Further confirmation from the ROC curve below. "
   ]
  },
  {
   "cell_type": "code",
   "execution_count": 104,
   "id": "879098f8",
   "metadata": {},
   "outputs": [
    {
     "data": {
      "image/png": "[encoded data removed]",
      "text/plain": [
       "<Figure size 432x288 with 1 Axes>"
      ]
     },
     "metadata": {
      "needs_background": "light"
     },
     "output_type": "display_data"
    }
   ],
   "source": [
    "#this plots the ROC curve\n",
    "fpr, tpr, thresholds = roc_curve(y_test, y_pred)\n",
    "roc_auc = auc(fpr, tpr)\n",
    "\n",
    "plt.figure()\n",
    "plt.plot(fpr, tpr, color='darkorange', label='ROC curve (area = %0.2f)' % roc_auc)\n",
    "plt.plot([0, 1], [0, 1], color='navy', linestyle='--')\n",
    "plt.xlim([0.0, 1.0])\n",
    "plt.ylim([0.0, 1.05])\n",
    "plt.xlabel('False Positive Rate')\n",
    "plt.ylabel('True Positive Rate')\n",
    "plt.title('Receiver Operating Characteristic - XGB')\n",
    "plt.legend(loc=\"lower right\")\n",
    "plt.show()"
   ]
  },
  {
   "cell_type": "markdown",
   "id": "6234707f",
   "metadata": {},
   "source": [
    "This is the code used to calculate the threshold at various false positive rate targets."
   ]
  },
  {
   "cell_type": "code",
   "execution_count": 85,
   "id": "42e653b8",
   "metadata": {},
   "outputs": [
    {
     "name": "stdout",
     "output_type": "stream",
     "text": [
      "ROC AUC: 0.9900543900543901\n",
      "\n",
      "XGB Model Performance at 10% FPR:\n",
      "Threshold: 0.4556\n",
      "False Positive Rate: 9.744%\n",
      "False Negative Rate: 1.212%\n",
      "Detection Rate: 98.78787878787878%\n",
      "\n",
      "XGB Model Performance at 1% FPR:\n",
      "Threshold: 0.9510\n",
      "False Positive Rate: 0.513%\n",
      "False Negative Rate: 44.848%\n",
      "Detection Rate: 55.15151515151515%\n",
      "\n",
      "XGB Model Performance at 0.1% FPR:\n",
      "Threshold: 0.9679\n",
      "False Positive Rate: 0.000%\n",
      "False Negative Rate: 56.364%\n",
      "Detection Rate: 43.63636363636364%\n"
     ]
    }
   ],
   "source": [
    "def get_fpr(y_true, y_pred):\n",
    "    nbenign = (y_true == 0).sum()\n",
    "    nfalse = (y_pred[y_true == 0] == 1).sum()\n",
    "    return nfalse / float(nbenign)\n",
    "\n",
    "\n",
    "def find_threshold(y_true, y_pred, fpr_target):\n",
    "    thresh = 0.0\n",
    "    fpr = get_fpr(y_true, y_pred > thresh)\n",
    "    while fpr > fpr_target and thresh < 1.0:\n",
    "        thresh += 0.0001\n",
    "        fpr = get_fpr(y_true, y_pred > thresh)\n",
    "    return thresh, fpr\n",
    "\n",
    "# testdf = emberdf[emberdf[\"subset\"] == \"test\"]\n",
    "print(\"ROC AUC:\", roc_auc_score(y_test, y_pred))\n",
    "print()\n",
    "\n",
    "threshold, fpr = find_threshold(y_test, y_pred, 0.1)\n",
    "fnr = (y_pred[y_test == 1] < threshold).sum() / float((y_test == 1).sum())\n",
    "print(\"XGB Model Performance at 10% FPR:\")\n",
    "print(\"Threshold: {:.4f}\".format(threshold))\n",
    "print(\"False Positive Rate: {:.3f}%\".format(fpr * 100))\n",
    "print(\"False Negative Rate: {:.3f}%\".format(fnr * 100))\n",
    "print(\"Detection Rate: {}%\".format(100 - fnr * 100))\n",
    "print()\n",
    "\n",
    "threshold, fpr = find_threshold(y_test, y_pred, 0.01)\n",
    "fnr = (y_pred[y_test == 1] < threshold).sum() / float((y_test == 1).sum())\n",
    "print(\"XGB Model Performance at 1% FPR:\")\n",
    "print(\"Threshold: {:.4f}\".format(threshold))\n",
    "print(\"False Positive Rate: {:.3f}%\".format(fpr * 100))\n",
    "print(\"False Negative Rate: {:.3f}%\".format(fnr * 100))\n",
    "print(\"Detection Rate: {}%\".format(100 - fnr * 100))\n",
    "print()\n",
    "\n",
    "threshold, fpr = find_threshold(y_test, y_pred, 0.001)\n",
    "fnr = (y_pred[y_test == 1] < threshold).sum() / float((y_test == 1).sum())\n",
    "print(\"XGB Model Performance at 0.1% FPR:\")\n",
    "print(\"Threshold: {:.4f}\".format(threshold))\n",
    "print(\"False Positive Rate: {:.3f}%\".format(fpr * 100))\n",
    "print(\"False Negative Rate: {:.3f}%\".format(fnr * 100))\n",
    "print(\"Detection Rate: {}%\".format(100 - fnr * 100))"
   ]
  },
  {
   "cell_type": "markdown",
   "id": "8f8a53ef",
   "metadata": {},
   "source": [
    "## Feature Evaluation"
   ]
  },
  {
   "cell_type": "markdown",
   "id": "b2e08473",
   "metadata": {},
   "source": [
    "Both SHAP values and XGB's built in feature importance can be utilized to further inspect how specific features impacted predictions.\n",
    "\n",
    "Currently the features are referenced by number due to how our ember wrapper flattens them, but this can be later revised to reference their actual names."
   ]
  },
  {
   "cell_type": "code",
   "execution_count": 89,
   "id": "e36922ef",
   "metadata": {},
   "outputs": [
    {
     "data": {
      "image/png": "[encoded data removed]",
      "text/plain": [
       "<Figure size 576x684 with 2 Axes>"
      ]
     },
     "metadata": {
      "needs_background": "light"
     },
     "output_type": "display_data"
    }
   ],
   "source": [
    "shap_values = shap.TreeExplainer(saved_model).shap_values(X_test_fs)\n",
    "shap.summary_plot(shap_values, X_test_fs)"
   ]
  },
  {
   "cell_type": "code",
   "execution_count": 90,
   "id": "af9c75d1",
   "metadata": {},
   "outputs": [
    {
     "data": {
      "image/png": "[encoded data removed]",
      "text/plain": [
       "<Figure size 432x288 with 1 Axes>"
      ]
     },
     "metadata": {
      "needs_background": "light"
     },
     "output_type": "display_data"
    },
    {
     "data": {
      "text/plain": [
       "<Figure size 1800x864 with 0 Axes>"
      ]
     },
     "metadata": {},
     "output_type": "display_data"
    }
   ],
   "source": [
    "xgb.plot_importance(saved_model, importance_type='cover', max_num_features=20)\n",
    "plt.figure(figsize=(25, 12))\n",
    "plt.show()"
   ]
  },
  {
   "cell_type": "markdown",
   "id": "4b06e8e7",
   "metadata": {},
   "source": [
    "## Conclusions"
   ]
  },
  {
   "cell_type": "markdown",
   "id": "02eaaccb",
   "metadata": {},
   "source": [
    "## Visualizations should include the above ROC plots, SHAP plots, as well as the built in feature importance plots."
   ]
  },
  {
   "cell_type": "code",
   "execution_count": null,
   "id": "f94ce86a",
   "metadata": {},
   "outputs": [],
   "source": []
  },
  {
   "cell_type": "code",
   "execution_count": null,
   "id": "ff3b9709",
   "metadata": {},
   "outputs": [],
   "source": []
  },
  {
   "cell_type": "code",
   "execution_count": null,
   "id": "d1f8d681",
   "metadata": {},
   "outputs": [],
   "source": []
  },
  {
   "cell_type": "code",
   "execution_count": null,
   "id": "644a06ea",
   "metadata": {},
   "outputs": [],
   "source": []
  },
  {
   "cell_type": "code",
   "execution_count": null,
   "id": "334910bf",
   "metadata": {},
   "outputs": [],
   "source": []
  },
  {
   "cell_type": "code",
   "execution_count": null,
   "id": "f8dda090",
   "metadata": {},
   "outputs": [],
   "source": []
  },
  {
   "cell_type": "markdown",
   "id": "178f54a2",
   "metadata": {},
   "source": [
    "## Anomaly Detection Approach?? - scrapped"
   ]
  },
  {
   "cell_type": "markdown",
   "id": "9ba0f5b8",
   "metadata": {},
   "source": [
    "We attempted to utilize all the data before the undersampling process, by instead treating this problem as an anomaly detection issue instead of typical binary classification. Unfortunately, our calculated f1_score is drastically incorrect and we are not yet sure of what went wrong.\n",
    "\n",
    "In the future, this would be a novel method to continue researching. Further anomaly detection algorithms and models can be found in the PyOD library, which is a highly comprehensiive toolkit for outlier detection."
   ]
  },
  {
   "cell_type": "code",
   "execution_count": 61,
   "id": "89b83f23",
   "metadata": {},
   "outputs": [
    {
     "data": {
      "text/plain": [
       "(18000, 714)"
      ]
     },
     "execution_count": 61,
     "metadata": {},
     "output_type": "execute_result"
    }
   ],
   "source": [
    "df1.shape #utilize original dataset"
   ]
  },
  {
   "cell_type": "code",
   "execution_count": 62,
   "id": "45f14f3d",
   "metadata": {},
   "outputs": [],
   "source": [
    "df1 = df1._get_numeric_data() #drop nonnumeric columns"
   ]
  },
  {
   "cell_type": "markdown",
   "id": "e77293c3",
   "metadata": {},
   "source": [
    "#### Isolation Forest"
   ]
  },
  {
   "cell_type": "markdown",
   "id": "e8ab2ea7",
   "metadata": {},
   "source": [
    "Setting contamination rate to 5% as seen in original data, using 200 estimators."
   ]
  },
  {
   "cell_type": "code",
   "execution_count": 63,
   "id": "61238ad1",
   "metadata": {},
   "outputs": [
    {
     "data": {
      "text/plain": [
       "(900, 694)"
      ]
     },
     "execution_count": 63,
     "metadata": {},
     "output_type": "execute_result"
    }
   ],
   "source": [
    "iso = IsolationForest(n_estimators=200, max_samples='auto', contamination=0.05)\n",
    "new_df = df1.drop(columns=['category'])\n",
    "iso.fit(new_df)\n",
    "new_df['anomaly_score'] = iso.predict(new_df)\n",
    "new_df[new_df['anomaly_score'] == -1].shape"
   ]
  },
  {
   "cell_type": "markdown",
   "id": "f371722c",
   "metadata": {},
   "source": [
    "As expected, found 900 \"outliers\" (in our case malware)."
   ]
  },
  {
   "cell_type": "code",
   "execution_count": 64,
   "id": "ff4126ba",
   "metadata": {},
   "outputs": [
    {
     "data": {
      "text/html": [
       "<div>\n",
       "<style scoped>\n",
       "    .dataframe tbody tr th:only-of-type {\n",
       "        vertical-align: middle;\n",
       "    }\n",
       "\n",
       "    .dataframe tbody tr th {\n",
       "        vertical-align: top;\n",
       "    }\n",
       "\n",
       "    .dataframe thead th {\n",
       "        text-align: right;\n",
       "    }\n",
       "</style>\n",
       "<table border=\"1\" class=\"dataframe\">\n",
       "  <thead>\n",
       "    <tr style=\"text-align: right;\">\n",
       "      <th></th>\n",
       "      <th>histogram_0</th>\n",
       "      <th>histogram_1</th>\n",
       "      <th>histogram_2</th>\n",
       "      <th>histogram_3</th>\n",
       "      <th>histogram_4</th>\n",
       "      <th>histogram_5</th>\n",
       "      <th>histogram_6</th>\n",
       "      <th>histogram_7</th>\n",
       "      <th>histogram_8</th>\n",
       "      <th>histogram_9</th>\n",
       "      <th>...</th>\n",
       "      <th>datadirectories_12_size</th>\n",
       "      <th>datadirectories_12_virtual_address</th>\n",
       "      <th>datadirectories_13_size</th>\n",
       "      <th>datadirectories_13_virtual_address</th>\n",
       "      <th>datadirectories_14_size</th>\n",
       "      <th>datadirectories_14_virtual_address</th>\n",
       "      <th>datadirectories_15_size</th>\n",
       "      <th>datadirectories_15_virtual_address</th>\n",
       "      <th>anomaly_score</th>\n",
       "      <th>category</th>\n",
       "    </tr>\n",
       "  </thead>\n",
       "  <tbody>\n",
       "    <tr>\n",
       "      <th>0</th>\n",
       "      <td>127242</td>\n",
       "      <td>9185</td>\n",
       "      <td>3818</td>\n",
       "      <td>3127</td>\n",
       "      <td>13300</td>\n",
       "      <td>1594</td>\n",
       "      <td>1781</td>\n",
       "      <td>1493</td>\n",
       "      <td>9938</td>\n",
       "      <td>1006</td>\n",
       "      <td>...</td>\n",
       "      <td>620</td>\n",
       "      <td>11711244</td>\n",
       "      <td>0</td>\n",
       "      <td>0</td>\n",
       "      <td>0</td>\n",
       "      <td>0</td>\n",
       "      <td>0</td>\n",
       "      <td>0</td>\n",
       "      <td>1</td>\n",
       "      <td>0</td>\n",
       "    </tr>\n",
       "    <tr>\n",
       "      <th>1</th>\n",
       "      <td>36152</td>\n",
       "      <td>2617</td>\n",
       "      <td>4120</td>\n",
       "      <td>876</td>\n",
       "      <td>1711</td>\n",
       "      <td>755</td>\n",
       "      <td>672</td>\n",
       "      <td>521</td>\n",
       "      <td>2278</td>\n",
       "      <td>325</td>\n",
       "      <td>...</td>\n",
       "      <td>340</td>\n",
       "      <td>131072</td>\n",
       "      <td>0</td>\n",
       "      <td>0</td>\n",
       "      <td>0</td>\n",
       "      <td>0</td>\n",
       "      <td>0</td>\n",
       "      <td>0</td>\n",
       "      <td>1</td>\n",
       "      <td>0</td>\n",
       "    </tr>\n",
       "    <tr>\n",
       "      <th>2</th>\n",
       "      <td>39986</td>\n",
       "      <td>7112</td>\n",
       "      <td>7953</td>\n",
       "      <td>6604</td>\n",
       "      <td>6542</td>\n",
       "      <td>6441</td>\n",
       "      <td>5869</td>\n",
       "      <td>6422</td>\n",
       "      <td>6224</td>\n",
       "      <td>6017</td>\n",
       "      <td>...</td>\n",
       "      <td>588</td>\n",
       "      <td>123728</td>\n",
       "      <td>0</td>\n",
       "      <td>0</td>\n",
       "      <td>0</td>\n",
       "      <td>0</td>\n",
       "      <td>0</td>\n",
       "      <td>0</td>\n",
       "      <td>1</td>\n",
       "      <td>0</td>\n",
       "    </tr>\n",
       "    <tr>\n",
       "      <th>3</th>\n",
       "      <td>253873</td>\n",
       "      <td>32714</td>\n",
       "      <td>22629</td>\n",
       "      <td>17500</td>\n",
       "      <td>15355</td>\n",
       "      <td>6691</td>\n",
       "      <td>10881</td>\n",
       "      <td>4258</td>\n",
       "      <td>11992</td>\n",
       "      <td>3513</td>\n",
       "      <td>...</td>\n",
       "      <td>216</td>\n",
       "      <td>282920</td>\n",
       "      <td>0</td>\n",
       "      <td>0</td>\n",
       "      <td>0</td>\n",
       "      <td>0</td>\n",
       "      <td>0</td>\n",
       "      <td>0</td>\n",
       "      <td>1</td>\n",
       "      <td>0</td>\n",
       "    </tr>\n",
       "    <tr>\n",
       "      <th>4</th>\n",
       "      <td>12464</td>\n",
       "      <td>1020</td>\n",
       "      <td>502</td>\n",
       "      <td>264</td>\n",
       "      <td>1918</td>\n",
       "      <td>218</td>\n",
       "      <td>262</td>\n",
       "      <td>91</td>\n",
       "      <td>846</td>\n",
       "      <td>78</td>\n",
       "      <td>...</td>\n",
       "      <td>0</td>\n",
       "      <td>0</td>\n",
       "      <td>0</td>\n",
       "      <td>0</td>\n",
       "      <td>0</td>\n",
       "      <td>0</td>\n",
       "      <td>0</td>\n",
       "      <td>0</td>\n",
       "      <td>1</td>\n",
       "      <td>0</td>\n",
       "    </tr>\n",
       "    <tr>\n",
       "      <th>5</th>\n",
       "      <td>17889</td>\n",
       "      <td>1281</td>\n",
       "      <td>868</td>\n",
       "      <td>642</td>\n",
       "      <td>914</td>\n",
       "      <td>138</td>\n",
       "      <td>311</td>\n",
       "      <td>148</td>\n",
       "      <td>433</td>\n",
       "      <td>82</td>\n",
       "      <td>...</td>\n",
       "      <td>0</td>\n",
       "      <td>0</td>\n",
       "      <td>0</td>\n",
       "      <td>0</td>\n",
       "      <td>0</td>\n",
       "      <td>0</td>\n",
       "      <td>0</td>\n",
       "      <td>0</td>\n",
       "      <td>1</td>\n",
       "      <td>0</td>\n",
       "    </tr>\n",
       "    <tr>\n",
       "      <th>6</th>\n",
       "      <td>224255</td>\n",
       "      <td>28215</td>\n",
       "      <td>12691</td>\n",
       "      <td>13046</td>\n",
       "      <td>21264</td>\n",
       "      <td>4115</td>\n",
       "      <td>3790</td>\n",
       "      <td>3590</td>\n",
       "      <td>11766</td>\n",
       "      <td>1889</td>\n",
       "      <td>...</td>\n",
       "      <td>408</td>\n",
       "      <td>1188328</td>\n",
       "      <td>0</td>\n",
       "      <td>0</td>\n",
       "      <td>0</td>\n",
       "      <td>0</td>\n",
       "      <td>0</td>\n",
       "      <td>0</td>\n",
       "      <td>1</td>\n",
       "      <td>0</td>\n",
       "    </tr>\n",
       "    <tr>\n",
       "      <th>7</th>\n",
       "      <td>14195</td>\n",
       "      <td>1054</td>\n",
       "      <td>778</td>\n",
       "      <td>1068</td>\n",
       "      <td>291</td>\n",
       "      <td>653</td>\n",
       "      <td>251</td>\n",
       "      <td>249</td>\n",
       "      <td>338</td>\n",
       "      <td>164</td>\n",
       "      <td>...</td>\n",
       "      <td>0</td>\n",
       "      <td>0</td>\n",
       "      <td>0</td>\n",
       "      <td>0</td>\n",
       "      <td>0</td>\n",
       "      <td>0</td>\n",
       "      <td>0</td>\n",
       "      <td>0</td>\n",
       "      <td>1</td>\n",
       "      <td>0</td>\n",
       "    </tr>\n",
       "    <tr>\n",
       "      <th>8</th>\n",
       "      <td>48208</td>\n",
       "      <td>3288</td>\n",
       "      <td>1441</td>\n",
       "      <td>2611</td>\n",
       "      <td>4938</td>\n",
       "      <td>313</td>\n",
       "      <td>266</td>\n",
       "      <td>635</td>\n",
       "      <td>2104</td>\n",
       "      <td>231</td>\n",
       "      <td>...</td>\n",
       "      <td>1284</td>\n",
       "      <td>230880</td>\n",
       "      <td>0</td>\n",
       "      <td>0</td>\n",
       "      <td>0</td>\n",
       "      <td>0</td>\n",
       "      <td>0</td>\n",
       "      <td>0</td>\n",
       "      <td>1</td>\n",
       "      <td>0</td>\n",
       "    </tr>\n",
       "    <tr>\n",
       "      <th>9</th>\n",
       "      <td>370224</td>\n",
       "      <td>37570</td>\n",
       "      <td>24575</td>\n",
       "      <td>18127</td>\n",
       "      <td>40687</td>\n",
       "      <td>15614</td>\n",
       "      <td>12405</td>\n",
       "      <td>11777</td>\n",
       "      <td>24099</td>\n",
       "      <td>5331</td>\n",
       "      <td>...</td>\n",
       "      <td>0</td>\n",
       "      <td>0</td>\n",
       "      <td>0</td>\n",
       "      <td>0</td>\n",
       "      <td>0</td>\n",
       "      <td>0</td>\n",
       "      <td>0</td>\n",
       "      <td>0</td>\n",
       "      <td>1</td>\n",
       "      <td>0</td>\n",
       "    </tr>\n",
       "  </tbody>\n",
       "</table>\n",
       "<p>10 rows × 695 columns</p>\n",
       "</div>"
      ],
      "text/plain": [
       "   histogram_0  histogram_1  histogram_2  histogram_3  histogram_4  \\\n",
       "0       127242         9185         3818         3127        13300   \n",
       "1        36152         2617         4120          876         1711   \n",
       "2        39986         7112         7953         6604         6542   \n",
       "3       253873        32714        22629        17500        15355   \n",
       "4        12464         1020          502          264         1918   \n",
       "5        17889         1281          868          642          914   \n",
       "6       224255        28215        12691        13046        21264   \n",
       "7        14195         1054          778         1068          291   \n",
       "8        48208         3288         1441         2611         4938   \n",
       "9       370224        37570        24575        18127        40687   \n",
       "\n",
       "   histogram_5  histogram_6  histogram_7  histogram_8  histogram_9  ...  \\\n",
       "0         1594         1781         1493         9938         1006  ...   \n",
       "1          755          672          521         2278          325  ...   \n",
       "2         6441         5869         6422         6224         6017  ...   \n",
       "3         6691        10881         4258        11992         3513  ...   \n",
       "4          218          262           91          846           78  ...   \n",
       "5          138          311          148          433           82  ...   \n",
       "6         4115         3790         3590        11766         1889  ...   \n",
       "7          653          251          249          338          164  ...   \n",
       "8          313          266          635         2104          231  ...   \n",
       "9        15614        12405        11777        24099         5331  ...   \n",
       "\n",
       "   datadirectories_12_size  datadirectories_12_virtual_address  \\\n",
       "0                      620                            11711244   \n",
       "1                      340                              131072   \n",
       "2                      588                              123728   \n",
       "3                      216                              282920   \n",
       "4                        0                                   0   \n",
       "5                        0                                   0   \n",
       "6                      408                             1188328   \n",
       "7                        0                                   0   \n",
       "8                     1284                              230880   \n",
       "9                        0                                   0   \n",
       "\n",
       "   datadirectories_13_size  datadirectories_13_virtual_address  \\\n",
       "0                        0                                   0   \n",
       "1                        0                                   0   \n",
       "2                        0                                   0   \n",
       "3                        0                                   0   \n",
       "4                        0                                   0   \n",
       "5                        0                                   0   \n",
       "6                        0                                   0   \n",
       "7                        0                                   0   \n",
       "8                        0                                   0   \n",
       "9                        0                                   0   \n",
       "\n",
       "   datadirectories_14_size  datadirectories_14_virtual_address  \\\n",
       "0                        0                                   0   \n",
       "1                        0                                   0   \n",
       "2                        0                                   0   \n",
       "3                        0                                   0   \n",
       "4                        0                                   0   \n",
       "5                        0                                   0   \n",
       "6                        0                                   0   \n",
       "7                        0                                   0   \n",
       "8                        0                                   0   \n",
       "9                        0                                   0   \n",
       "\n",
       "   datadirectories_15_size  datadirectories_15_virtual_address  anomaly_score  \\\n",
       "0                        0                                   0              1   \n",
       "1                        0                                   0              1   \n",
       "2                        0                                   0              1   \n",
       "3                        0                                   0              1   \n",
       "4                        0                                   0              1   \n",
       "5                        0                                   0              1   \n",
       "6                        0                                   0              1   \n",
       "7                        0                                   0              1   \n",
       "8                        0                                   0              1   \n",
       "9                        0                                   0              1   \n",
       "\n",
       "   category  \n",
       "0         0  \n",
       "1         0  \n",
       "2         0  \n",
       "3         0  \n",
       "4         0  \n",
       "5         0  \n",
       "6         0  \n",
       "7         0  \n",
       "8         0  \n",
       "9         0  \n",
       "\n",
       "[10 rows x 695 columns]"
      ]
     },
     "execution_count": 64,
     "metadata": {},
     "output_type": "execute_result"
    }
   ],
   "source": [
    "iso_df = pd.concat([new_df, df1['category']], axis=1) #join the anomaly prediction with og data\n",
    "iso_df.head(10)"
   ]
  },
  {
   "cell_type": "code",
   "execution_count": 65,
   "id": "db636f68",
   "metadata": {},
   "outputs": [
    {
     "data": {
      "text/plain": [
       "anomaly_score\n",
       "-1      900\n",
       " 1    17100\n",
       "dtype: int64"
      ]
     },
     "execution_count": 65,
     "metadata": {},
     "output_type": "execute_result"
    }
   ],
   "source": [
    "iso_df.groupby('anomaly_score').size() #sanity check"
   ]
  },
  {
   "cell_type": "code",
   "execution_count": 66,
   "id": "bd0f404f",
   "metadata": {},
   "outputs": [],
   "source": [
    "iso_df['anomaly'] = \"\" #add new empty column to switch out -1 to 1 and 1 to 0"
   ]
  },
  {
   "cell_type": "code",
   "execution_count": 67,
   "id": "107742d9",
   "metadata": {},
   "outputs": [],
   "source": [
    "iso_df.loc[iso_df.anomaly_score == -1, \"anomaly\"] = 1\n",
    "iso_df.loc[iso_df.anomaly_score == 1, \"anomaly\"] = 0"
   ]
  },
  {
   "cell_type": "code",
   "execution_count": 68,
   "id": "01dca1fe",
   "metadata": {},
   "outputs": [
    {
     "name": "stdout",
     "output_type": "stream",
     "text": [
      "anomaly\n",
      "0    17100\n",
      "1      900\n",
      "dtype: int64 category\n",
      "0    17100\n",
      "1      900\n",
      "dtype: int64\n"
     ]
    }
   ],
   "source": [
    "print(iso_df.groupby('anomaly').size(), iso_df.groupby('category').size())"
   ]
  },
  {
   "cell_type": "code",
   "execution_count": 69,
   "id": "64fc2bd1",
   "metadata": {},
   "outputs": [
    {
     "data": {
      "text/html": [
       "<div>\n",
       "<style scoped>\n",
       "    .dataframe tbody tr th:only-of-type {\n",
       "        vertical-align: middle;\n",
       "    }\n",
       "\n",
       "    .dataframe tbody tr th {\n",
       "        vertical-align: top;\n",
       "    }\n",
       "\n",
       "    .dataframe thead th {\n",
       "        text-align: right;\n",
       "    }\n",
       "</style>\n",
       "<table border=\"1\" class=\"dataframe\">\n",
       "  <thead>\n",
       "    <tr style=\"text-align: right;\">\n",
       "      <th></th>\n",
       "      <th>histogram_0</th>\n",
       "      <th>histogram_1</th>\n",
       "      <th>histogram_2</th>\n",
       "      <th>histogram_3</th>\n",
       "      <th>histogram_4</th>\n",
       "      <th>histogram_5</th>\n",
       "      <th>histogram_6</th>\n",
       "      <th>histogram_7</th>\n",
       "      <th>histogram_8</th>\n",
       "      <th>histogram_9</th>\n",
       "      <th>...</th>\n",
       "      <th>datadirectories_12_virtual_address</th>\n",
       "      <th>datadirectories_13_size</th>\n",
       "      <th>datadirectories_13_virtual_address</th>\n",
       "      <th>datadirectories_14_size</th>\n",
       "      <th>datadirectories_14_virtual_address</th>\n",
       "      <th>datadirectories_15_size</th>\n",
       "      <th>datadirectories_15_virtual_address</th>\n",
       "      <th>anomaly_score</th>\n",
       "      <th>category</th>\n",
       "      <th>anomaly</th>\n",
       "    </tr>\n",
       "  </thead>\n",
       "  <tbody>\n",
       "    <tr>\n",
       "      <th>0</th>\n",
       "      <td>127242</td>\n",
       "      <td>9185</td>\n",
       "      <td>3818</td>\n",
       "      <td>3127</td>\n",
       "      <td>13300</td>\n",
       "      <td>1594</td>\n",
       "      <td>1781</td>\n",
       "      <td>1493</td>\n",
       "      <td>9938</td>\n",
       "      <td>1006</td>\n",
       "      <td>...</td>\n",
       "      <td>11711244</td>\n",
       "      <td>0</td>\n",
       "      <td>0</td>\n",
       "      <td>0</td>\n",
       "      <td>0</td>\n",
       "      <td>0</td>\n",
       "      <td>0</td>\n",
       "      <td>1</td>\n",
       "      <td>0</td>\n",
       "      <td>0</td>\n",
       "    </tr>\n",
       "    <tr>\n",
       "      <th>1</th>\n",
       "      <td>36152</td>\n",
       "      <td>2617</td>\n",
       "      <td>4120</td>\n",
       "      <td>876</td>\n",
       "      <td>1711</td>\n",
       "      <td>755</td>\n",
       "      <td>672</td>\n",
       "      <td>521</td>\n",
       "      <td>2278</td>\n",
       "      <td>325</td>\n",
       "      <td>...</td>\n",
       "      <td>131072</td>\n",
       "      <td>0</td>\n",
       "      <td>0</td>\n",
       "      <td>0</td>\n",
       "      <td>0</td>\n",
       "      <td>0</td>\n",
       "      <td>0</td>\n",
       "      <td>1</td>\n",
       "      <td>0</td>\n",
       "      <td>0</td>\n",
       "    </tr>\n",
       "    <tr>\n",
       "      <th>2</th>\n",
       "      <td>39986</td>\n",
       "      <td>7112</td>\n",
       "      <td>7953</td>\n",
       "      <td>6604</td>\n",
       "      <td>6542</td>\n",
       "      <td>6441</td>\n",
       "      <td>5869</td>\n",
       "      <td>6422</td>\n",
       "      <td>6224</td>\n",
       "      <td>6017</td>\n",
       "      <td>...</td>\n",
       "      <td>123728</td>\n",
       "      <td>0</td>\n",
       "      <td>0</td>\n",
       "      <td>0</td>\n",
       "      <td>0</td>\n",
       "      <td>0</td>\n",
       "      <td>0</td>\n",
       "      <td>1</td>\n",
       "      <td>0</td>\n",
       "      <td>0</td>\n",
       "    </tr>\n",
       "    <tr>\n",
       "      <th>3</th>\n",
       "      <td>253873</td>\n",
       "      <td>32714</td>\n",
       "      <td>22629</td>\n",
       "      <td>17500</td>\n",
       "      <td>15355</td>\n",
       "      <td>6691</td>\n",
       "      <td>10881</td>\n",
       "      <td>4258</td>\n",
       "      <td>11992</td>\n",
       "      <td>3513</td>\n",
       "      <td>...</td>\n",
       "      <td>282920</td>\n",
       "      <td>0</td>\n",
       "      <td>0</td>\n",
       "      <td>0</td>\n",
       "      <td>0</td>\n",
       "      <td>0</td>\n",
       "      <td>0</td>\n",
       "      <td>1</td>\n",
       "      <td>0</td>\n",
       "      <td>0</td>\n",
       "    </tr>\n",
       "    <tr>\n",
       "      <th>4</th>\n",
       "      <td>12464</td>\n",
       "      <td>1020</td>\n",
       "      <td>502</td>\n",
       "      <td>264</td>\n",
       "      <td>1918</td>\n",
       "      <td>218</td>\n",
       "      <td>262</td>\n",
       "      <td>91</td>\n",
       "      <td>846</td>\n",
       "      <td>78</td>\n",
       "      <td>...</td>\n",
       "      <td>0</td>\n",
       "      <td>0</td>\n",
       "      <td>0</td>\n",
       "      <td>0</td>\n",
       "      <td>0</td>\n",
       "      <td>0</td>\n",
       "      <td>0</td>\n",
       "      <td>1</td>\n",
       "      <td>0</td>\n",
       "      <td>0</td>\n",
       "    </tr>\n",
       "  </tbody>\n",
       "</table>\n",
       "<p>5 rows × 696 columns</p>\n",
       "</div>"
      ],
      "text/plain": [
       "   histogram_0  histogram_1  histogram_2  histogram_3  histogram_4  \\\n",
       "0       127242         9185         3818         3127        13300   \n",
       "1        36152         2617         4120          876         1711   \n",
       "2        39986         7112         7953         6604         6542   \n",
       "3       253873        32714        22629        17500        15355   \n",
       "4        12464         1020          502          264         1918   \n",
       "\n",
       "   histogram_5  histogram_6  histogram_7  histogram_8  histogram_9  ...  \\\n",
       "0         1594         1781         1493         9938         1006  ...   \n",
       "1          755          672          521         2278          325  ...   \n",
       "2         6441         5869         6422         6224         6017  ...   \n",
       "3         6691        10881         4258        11992         3513  ...   \n",
       "4          218          262           91          846           78  ...   \n",
       "\n",
       "   datadirectories_12_virtual_address  datadirectories_13_size  \\\n",
       "0                            11711244                        0   \n",
       "1                              131072                        0   \n",
       "2                              123728                        0   \n",
       "3                              282920                        0   \n",
       "4                                   0                        0   \n",
       "\n",
       "   datadirectories_13_virtual_address  datadirectories_14_size  \\\n",
       "0                                   0                        0   \n",
       "1                                   0                        0   \n",
       "2                                   0                        0   \n",
       "3                                   0                        0   \n",
       "4                                   0                        0   \n",
       "\n",
       "   datadirectories_14_virtual_address  datadirectories_15_size  \\\n",
       "0                                   0                        0   \n",
       "1                                   0                        0   \n",
       "2                                   0                        0   \n",
       "3                                   0                        0   \n",
       "4                                   0                        0   \n",
       "\n",
       "   datadirectories_15_virtual_address  anomaly_score  category  anomaly  \n",
       "0                                   0              1         0        0  \n",
       "1                                   0              1         0        0  \n",
       "2                                   0              1         0        0  \n",
       "3                                   0              1         0        0  \n",
       "4                                   0              1         0        0  \n",
       "\n",
       "[5 rows x 696 columns]"
      ]
     },
     "execution_count": 69,
     "metadata": {},
     "output_type": "execute_result"
    }
   ],
   "source": [
    "iso_df.head(5)"
   ]
  },
  {
   "cell_type": "markdown",
   "id": "7e9ecb75",
   "metadata": {},
   "source": [
    "Calculate f1 score between new anomaly column and given category column."
   ]
  },
  {
   "cell_type": "code",
   "execution_count": 70,
   "id": "0d40528a",
   "metadata": {
    "scrolled": true
   },
   "outputs": [
    {
     "data": {
      "text/plain": [
       "0.011111111111111112"
      ]
     },
     "execution_count": 70,
     "metadata": {},
     "output_type": "execute_result"
    }
   ],
   "source": [
    "f1_score(list(iso_df['category']), list(iso_df['anomaly']))"
   ]
  },
  {
   "cell_type": "markdown",
   "id": "809e1745",
   "metadata": {},
   "source": [
    "### Unsure of what occurred, further time and resources are required."
   ]
  },
  {
   "cell_type": "code",
   "execution_count": null,
   "id": "183602ee",
   "metadata": {},
   "outputs": [],
   "source": []
  }
 ],
 "metadata": {
  "hide_input": false,
  "kernelspec": {
   "display_name": "Python 3 (ipykernel)",
   "language": "python",
   "name": "python3"
  },
  "language_info": {
   "codemirror_mode": {
    "name": "ipython",
    "version": 3
   },
   "file_extension": ".py",
   "mimetype": "text/x-python",
   "name": "python",
   "nbconvert_exporter": "python",
   "pygments_lexer": "ipython3",
   "version": "3.8.12"
  },
  "nteract": {
   "version": "0.28.0"
  }
 },
 "nbformat": 4,
 "nbformat_minor": 5
}
