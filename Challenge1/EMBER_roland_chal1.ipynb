{
 "cells": [
  {
   "cell_type": "markdown",
   "id": "2d5c55cf-a708-4f9e-997f-8909e8812495",
   "metadata": {},
   "source": [
    "# HACKtheMACHINE 2021 | Track 2: Data Science, Detective Bot "
   ]
  },
  {
   "cell_type": "markdown",
   "id": "318a291c-0e21-46db-8c97-7bd00397e130",
   "metadata": {},
   "source": [
    "The following data dictionary describes the columns or fields of the data set and a description of the objects. This information with more detail can also be found in the `EMBER` documentation of the `features.py` file at: https://github.com/elastic/ember/blob/master/ember/features.py "
   ]
  },
  {
   "cell_type": "markdown",
   "id": "939340e9-53a4-48cc-a9ab-1d3345b2bf84",
   "metadata": {},
   "source": [
    "| Field Name | Description | \n",
    "|------------|-------------|\n",
    "| sha256 | The Secure Hash Algorithm (SHA) is a cryptographic hash function like a signature or fingerprints for a data set. Even if one symbol is changed the algorithm will produce a different hash value. The SHA256 algorithm generates a fixed size 256-bit (32-byte) hash. The SHA256 algorithm is used to ensure you acquire the same data as the original. For exmaple, if you download something you can check if the data has not changed (due to network errors or malware injection) by comparing the hashes of your file and the original.|\n",
    "| histogram | Byte histogram (count + non-normalized) over the entire binary file. The byte histogram contains 256 integer values and represent the counts of each byte value within the value. When generating model features the byte histgoram is normalized to a distribution, since file size is represented as a feature in the general file information. | \n",
    "| byteentropy | 2D byte/entropy histogram based loosely on (Saxe and Berlin, 2015). This roughly approximates the joint probability of byte value and local entropy. See Section 2.1.1 in https://arxiv.org/pdf/1508.03096.pdf for more info. The byte entropy histogram approximates the joint distriubtion p(H, X) of entropy H and byte value X. By computing the scalar entropy H for a fixed-length window and pairing it with each byte occurrence within the window. This is repeated as the window slides across the input bytes. |\n",
    "| strings | Contains simple statistics about printable strings of the following: <ul><li>`numstrings`: number of strings <li> `avlength`: average length of strings <li>`printabledist`: histogram of the printable characters within those strings <li>`printables`: distinct information from byte histogram information from the byte histogram information since its derived only from strings containing at least 5 consecutive printable characters <li>`entropy`: entropy of characters across all printable strings <li>`paths` number of strings that begin with **C:** (case insensitive) that may indicate a path <li>`urls`: the number of occurences of **http://** or **https://** (case insensitive) that may indicate a URL <li>`registry`: number of occurrences of HKEY that may indicate a registry key, <li>`MZ`: number of occurrences of the short string MZ |\n",
    "| general | Provides general file information. 0/1 indicates a binary output <ul><li>`size`: length of bytes <li>`vsize`: virtual size <li>`has_debug`: 0/1  <li>`exports`: 0/1 <li>`imports`: 0/1 <li>`has_relocations`: 0/1  <li>`has_resources`: 0/1 <li>`has_signature`: 0/1 <li>`has_tls`: 0/1 <li>`symbols`: 0/1 |\n",
    "| header | Provides header file information on machine, architecture, OS, link and other information: <ul><li> `coeff`: [ `timestamp`, `machine`,`characteristics` ] <li> `optional`: [`subsystem`, `dll_characteristics`, `magic`, `major_image_version`, `minor_linker_version`, `major_operating_system_version`, `minor_operating_system_version`, `major_subsystem_version`, `minor_subsystem_version`, `sizeof_code`, `sizeof_headers`, `sizeof_heap_commit`]\n",
    "| section | Information about section names, sizes and entropy. Uses hashing trick to summarize all this section into a feature vector. <ul><li> `imports`: [`KERNEL32.dll` : [`GetTickCount`] | \n",
    "| imports | Information about imported libraries and functions from the import address table. Note that the total number of imported functions is contained in GeneralFileInfo. |\n",
    "| exports | Information about exported functions. Note that the total number of exported functions is contained in GeneralFileInfo.|\n",
    "| datadirectories | Extracts size and virtual address of the first 15 data dictectories. |\n",
    "| label / category | Class label indicating benign `0` or malicious `1`|"
   ]
  },
  {
   "cell_type": "markdown",
   "id": "ad8ee9a6-1ccf-4c0b-af10-8cccef6982e6",
   "metadata": {},
   "source": [
    "## Load Libraries"
   ]
  },
  {
   "cell_type": "code",
   "execution_count": 1,
   "id": "87ecd2ad-01a0-4e87-a539-48d626168fd2",
   "metadata": {},
   "outputs": [],
   "source": [
    "import numpy as np #data manipulation\n",
    "import pandas as pd #data manipulation\n",
    "import sklearn as sk #modeling & metrics\n",
    "import seaborn as sns #visualizations\n",
    "import scipy as stats #visualizations\n",
    "from matplotlib import pyplot as plt #visualizations\n",
    "\n",
    "#imputation, scaling, metrics\n",
    "from sklearn import preprocessing\n",
    "from sklearn import metrics\n",
    "from sklearn.utils import resample\n",
    "from sklearn.metrics import r2_score, classification_report, f1_score, accuracy_score, confusion_matrix\n",
    "from sklearn.metrics import roc_curve, auc, roc_auc_score\n",
    "from sklearn.metrics import mean_squared_error\n",
    "from sklearn.metrics import mean_absolute_error\n",
    "from sklearn.model_selection import train_test_split\n",
    "from sklearn.model_selection import cross_val_score\n",
    "from sklearn.model_selection import StratifiedKFold\n",
    "from sklearn.experimental import enable_iterative_imputer\n",
    "from sklearn.impute import IterativeImputer\n",
    "from sklearn.preprocessing import StandardScaler\n",
    "from sklearn.feature_selection import SelectKBest\n",
    "from sklearn.feature_selection import f_classif\n",
    "from sklearn.linear_model import LogisticRegression\n",
    "\n",
    "#outlier classification\n",
    "from sklearn.ensemble import IsolationForest\n",
    "\n",
    "import xgboost as xgb #xgb model\n",
    "import lightgbm as lgb\n",
    "import hyperopt #hyperparameter tuning\n",
    "from hyperopt import fmin, tpe, hp, STATUS_OK, Trials, space_eval\n",
    "\n",
    "import shap #shap plot\n",
    "\n",
    "import pickle \n",
    " \n",
    "import warnings\n",
    "warnings.filterwarnings('ignore')"
   ]
  },
  {
   "cell_type": "code",
   "execution_count": 2,
   "id": "1552fb68",
   "metadata": {},
   "outputs": [],
   "source": [
    "# !pip install git+https://github.com/elastic/ember.git"
   ]
  },
  {
   "cell_type": "code",
   "execution_count": 3,
   "id": "affc059a",
   "metadata": {},
   "outputs": [],
   "source": [
    "import Ember_Wrapper"
   ]
  },
  {
   "cell_type": "markdown",
   "id": "3d7c1126",
   "metadata": {},
   "source": [
    "## Requirements"
   ]
  },
  {
   "cell_type": "markdown",
   "id": "7c3d12e5",
   "metadata": {},
   "source": [
    "The requirements file is this output copy pasted into a txt file."
   ]
  },
  {
   "cell_type": "code",
   "execution_count": 4,
   "id": "775ff10d",
   "metadata": {},
   "outputs": [
    {
     "name": "stdout",
     "output_type": "stream",
     "text": [
      "numpy==1.21.2\n",
      "pandas==1.3.4\n",
      "sklearn==1.0.1\n",
      "seaborn==0.11.2\n",
      "scipy==1.6.0\n",
      "xgboost==1.5.0\n",
      "lightgbm==3.2.1\n",
      "hyperopt==0.2.5\n",
      "shap==0.40.0\n"
     ]
    }
   ],
   "source": [
    "print('\\n'.join(f'{m.__name__}=={m.__version__}' for m in globals().values() if getattr(m, '__version__', None)))"
   ]
  },
  {
   "cell_type": "markdown",
   "id": "b633d294-cbc2-4ffa-8474-13be9e7d6e3d",
   "metadata": {},
   "source": [
    "## Load Data"
   ]
  },
  {
   "cell_type": "code",
   "execution_count": 5,
   "id": "504a76f1-8bd6-42c7-948a-6ed3bb240fc1",
   "metadata": {},
   "outputs": [],
   "source": [
    "# Flattened EMBER Feature set\n",
    "# Easier to feed into ML models right away\n",
    "# df1 = pd.read_excel(\"flatten_train.xlsx\")"
   ]
  },
  {
   "cell_type": "markdown",
   "id": "2e4986e1",
   "metadata": {},
   "source": [
    "Use pickling so you don't have to read in the Excel file every time to resume progress."
   ]
  },
  {
   "cell_type": "code",
   "execution_count": 6,
   "id": "33b59c6a",
   "metadata": {},
   "outputs": [],
   "source": [
    "# pd.to_pickle(df1, \"./data.pkl\")"
   ]
  },
  {
   "cell_type": "code",
   "execution_count": 7,
   "id": "3592aef0",
   "metadata": {},
   "outputs": [],
   "source": [
    "df1 = pd.read_pickle(\"./data.pkl\")"
   ]
  },
  {
   "cell_type": "code",
   "execution_count": 8,
   "id": "e8acb0c3",
   "metadata": {},
   "outputs": [],
   "source": [
    "df2 = pd.read_excel(\"./Data/raw_train.xlsx\")"
   ]
  },
  {
   "cell_type": "markdown",
   "id": "e673d618",
   "metadata": {},
   "source": [
    "Checking number of malware entries."
   ]
  },
  {
   "cell_type": "code",
   "execution_count": 9,
   "id": "32162510",
   "metadata": {},
   "outputs": [
    {
     "data": {
      "text/plain": [
       "900"
      ]
     },
     "execution_count": 9,
     "metadata": {},
     "output_type": "execute_result"
    }
   ],
   "source": [
    "sum(df1['category'])"
   ]
  },
  {
   "cell_type": "code",
   "execution_count": 10,
   "id": "2600ee08",
   "metadata": {},
   "outputs": [
    {
     "data": {
      "text/plain": [
       "(18000, 714)"
      ]
     },
     "execution_count": 10,
     "metadata": {},
     "output_type": "execute_result"
    }
   ],
   "source": [
    "df1.shape"
   ]
  },
  {
   "cell_type": "code",
   "execution_count": 11,
   "id": "35642d6a",
   "metadata": {},
   "outputs": [
    {
     "data": {
      "text/plain": [
       "0.05"
      ]
     },
     "execution_count": 11,
     "metadata": {},
     "output_type": "execute_result"
    }
   ],
   "source": [
    "900/18000"
   ]
  },
  {
   "cell_type": "markdown",
   "id": "ad41dc03",
   "metadata": {},
   "source": [
    "5%, super imbalanced."
   ]
  },
  {
   "cell_type": "markdown",
   "id": "e48c92b2",
   "metadata": {},
   "source": [
    "## EDA"
   ]
  },
  {
   "cell_type": "markdown",
   "id": "ae9423ce",
   "metadata": {},
   "source": [
    "### Visualizations Team here:\n",
    "### try plotting distributions of certain features to compare them between the malware and not malware tables"
   ]
  },
  {
   "cell_type": "code",
   "execution_count": 12,
   "id": "82a70e3f",
   "metadata": {},
   "outputs": [
    {
     "data": {
      "text/html": [
       "<div>\n",
       "<style scoped>\n",
       "    .dataframe tbody tr th:only-of-type {\n",
       "        vertical-align: middle;\n",
       "    }\n",
       "\n",
       "    .dataframe tbody tr th {\n",
       "        vertical-align: top;\n",
       "    }\n",
       "\n",
       "    .dataframe thead th {\n",
       "        text-align: right;\n",
       "    }\n",
       "</style>\n",
       "<table border=\"1\" class=\"dataframe\">\n",
       "  <thead>\n",
       "    <tr style=\"text-align: right;\">\n",
       "      <th></th>\n",
       "      <th>sha256</th>\n",
       "      <th>histogram_0</th>\n",
       "      <th>histogram_1</th>\n",
       "      <th>histogram_2</th>\n",
       "      <th>histogram_3</th>\n",
       "      <th>histogram_4</th>\n",
       "      <th>histogram_5</th>\n",
       "      <th>histogram_6</th>\n",
       "      <th>histogram_7</th>\n",
       "      <th>histogram_8</th>\n",
       "      <th>...</th>\n",
       "      <th>datadirectories_13_name</th>\n",
       "      <th>datadirectories_13_size</th>\n",
       "      <th>datadirectories_13_virtual_address</th>\n",
       "      <th>datadirectories_14_name</th>\n",
       "      <th>datadirectories_14_size</th>\n",
       "      <th>datadirectories_14_virtual_address</th>\n",
       "      <th>datadirectories_15_name</th>\n",
       "      <th>datadirectories_15_size</th>\n",
       "      <th>datadirectories_15_virtual_address</th>\n",
       "      <th>category</th>\n",
       "    </tr>\n",
       "  </thead>\n",
       "  <tbody>\n",
       "    <tr>\n",
       "      <th>0</th>\n",
       "      <td>15f88c44e29e74965cbec984cd4244786eeb4ccde02328...</td>\n",
       "      <td>127242</td>\n",
       "      <td>9185</td>\n",
       "      <td>3818</td>\n",
       "      <td>3127</td>\n",
       "      <td>13300</td>\n",
       "      <td>1594</td>\n",
       "      <td>1781</td>\n",
       "      <td>1493</td>\n",
       "      <td>9938</td>\n",
       "      <td>...</td>\n",
       "      <td>DELAY_IMPORT_DESCRIPTOR</td>\n",
       "      <td>0</td>\n",
       "      <td>0</td>\n",
       "      <td>CLR_RUNTIME_HEADER</td>\n",
       "      <td>0</td>\n",
       "      <td>0</td>\n",
       "      <td>???</td>\n",
       "      <td>0</td>\n",
       "      <td>0</td>\n",
       "      <td>0</td>\n",
       "    </tr>\n",
       "    <tr>\n",
       "      <th>1</th>\n",
       "      <td>29bb2a854de0f99bdb7120870ad42af6a3b5b5c6fc3578...</td>\n",
       "      <td>36152</td>\n",
       "      <td>2617</td>\n",
       "      <td>4120</td>\n",
       "      <td>876</td>\n",
       "      <td>1711</td>\n",
       "      <td>755</td>\n",
       "      <td>672</td>\n",
       "      <td>521</td>\n",
       "      <td>2278</td>\n",
       "      <td>...</td>\n",
       "      <td>DELAY_IMPORT_DESCRIPTOR</td>\n",
       "      <td>0</td>\n",
       "      <td>0</td>\n",
       "      <td>CLR_RUNTIME_HEADER</td>\n",
       "      <td>0</td>\n",
       "      <td>0</td>\n",
       "      <td>???</td>\n",
       "      <td>0</td>\n",
       "      <td>0</td>\n",
       "      <td>0</td>\n",
       "    </tr>\n",
       "    <tr>\n",
       "      <th>2</th>\n",
       "      <td>5cd8667d8375bf799fe89ac9b74cf08bf69dfa18a4e551...</td>\n",
       "      <td>39986</td>\n",
       "      <td>7112</td>\n",
       "      <td>7953</td>\n",
       "      <td>6604</td>\n",
       "      <td>6542</td>\n",
       "      <td>6441</td>\n",
       "      <td>5869</td>\n",
       "      <td>6422</td>\n",
       "      <td>6224</td>\n",
       "      <td>...</td>\n",
       "      <td>DELAY_IMPORT_DESCRIPTOR</td>\n",
       "      <td>0</td>\n",
       "      <td>0</td>\n",
       "      <td>CLR_RUNTIME_HEADER</td>\n",
       "      <td>0</td>\n",
       "      <td>0</td>\n",
       "      <td>???</td>\n",
       "      <td>0</td>\n",
       "      <td>0</td>\n",
       "      <td>0</td>\n",
       "    </tr>\n",
       "    <tr>\n",
       "      <th>3</th>\n",
       "      <td>ce63706c0adf4851a8d2eb26fa97750cfaec7345151367...</td>\n",
       "      <td>253873</td>\n",
       "      <td>32714</td>\n",
       "      <td>22629</td>\n",
       "      <td>17500</td>\n",
       "      <td>15355</td>\n",
       "      <td>6691</td>\n",
       "      <td>10881</td>\n",
       "      <td>4258</td>\n",
       "      <td>11992</td>\n",
       "      <td>...</td>\n",
       "      <td>DELAY_IMPORT_DESCRIPTOR</td>\n",
       "      <td>0</td>\n",
       "      <td>0</td>\n",
       "      <td>CLR_RUNTIME_HEADER</td>\n",
       "      <td>0</td>\n",
       "      <td>0</td>\n",
       "      <td>???</td>\n",
       "      <td>0</td>\n",
       "      <td>0</td>\n",
       "      <td>0</td>\n",
       "    </tr>\n",
       "    <tr>\n",
       "      <th>4</th>\n",
       "      <td>5e65dd9986fc47c5fe45208fab5e1c78730699800eaf96...</td>\n",
       "      <td>12464</td>\n",
       "      <td>1020</td>\n",
       "      <td>502</td>\n",
       "      <td>264</td>\n",
       "      <td>1918</td>\n",
       "      <td>218</td>\n",
       "      <td>262</td>\n",
       "      <td>91</td>\n",
       "      <td>846</td>\n",
       "      <td>...</td>\n",
       "      <td>DELAY_IMPORT_DESCRIPTOR</td>\n",
       "      <td>0</td>\n",
       "      <td>0</td>\n",
       "      <td>CLR_RUNTIME_HEADER</td>\n",
       "      <td>0</td>\n",
       "      <td>0</td>\n",
       "      <td>???</td>\n",
       "      <td>0</td>\n",
       "      <td>0</td>\n",
       "      <td>0</td>\n",
       "    </tr>\n",
       "  </tbody>\n",
       "</table>\n",
       "<p>5 rows × 714 columns</p>\n",
       "</div>"
      ],
      "text/plain": [
       "                                              sha256  histogram_0  \\\n",
       "0  15f88c44e29e74965cbec984cd4244786eeb4ccde02328...       127242   \n",
       "1  29bb2a854de0f99bdb7120870ad42af6a3b5b5c6fc3578...        36152   \n",
       "2  5cd8667d8375bf799fe89ac9b74cf08bf69dfa18a4e551...        39986   \n",
       "3  ce63706c0adf4851a8d2eb26fa97750cfaec7345151367...       253873   \n",
       "4  5e65dd9986fc47c5fe45208fab5e1c78730699800eaf96...        12464   \n",
       "\n",
       "   histogram_1  histogram_2  histogram_3  histogram_4  histogram_5  \\\n",
       "0         9185         3818         3127        13300         1594   \n",
       "1         2617         4120          876         1711          755   \n",
       "2         7112         7953         6604         6542         6441   \n",
       "3        32714        22629        17500        15355         6691   \n",
       "4         1020          502          264         1918          218   \n",
       "\n",
       "   histogram_6  histogram_7  histogram_8  ...  datadirectories_13_name  \\\n",
       "0         1781         1493         9938  ...  DELAY_IMPORT_DESCRIPTOR   \n",
       "1          672          521         2278  ...  DELAY_IMPORT_DESCRIPTOR   \n",
       "2         5869         6422         6224  ...  DELAY_IMPORT_DESCRIPTOR   \n",
       "3        10881         4258        11992  ...  DELAY_IMPORT_DESCRIPTOR   \n",
       "4          262           91          846  ...  DELAY_IMPORT_DESCRIPTOR   \n",
       "\n",
       "   datadirectories_13_size  datadirectories_13_virtual_address  \\\n",
       "0                        0                                   0   \n",
       "1                        0                                   0   \n",
       "2                        0                                   0   \n",
       "3                        0                                   0   \n",
       "4                        0                                   0   \n",
       "\n",
       "   datadirectories_14_name  datadirectories_14_size  \\\n",
       "0       CLR_RUNTIME_HEADER                        0   \n",
       "1       CLR_RUNTIME_HEADER                        0   \n",
       "2       CLR_RUNTIME_HEADER                        0   \n",
       "3       CLR_RUNTIME_HEADER                        0   \n",
       "4       CLR_RUNTIME_HEADER                        0   \n",
       "\n",
       "   datadirectories_14_virtual_address  datadirectories_15_name  \\\n",
       "0                                   0                      ???   \n",
       "1                                   0                      ???   \n",
       "2                                   0                      ???   \n",
       "3                                   0                      ???   \n",
       "4                                   0                      ???   \n",
       "\n",
       "   datadirectories_15_size  datadirectories_15_virtual_address  category  \n",
       "0                        0                                   0         0  \n",
       "1                        0                                   0         0  \n",
       "2                        0                                   0         0  \n",
       "3                        0                                   0         0  \n",
       "4                        0                                   0         0  \n",
       "\n",
       "[5 rows x 714 columns]"
      ]
     },
     "execution_count": 12,
     "metadata": {},
     "output_type": "execute_result"
    }
   ],
   "source": [
    "df1.head(5)"
   ]
  },
  {
   "cell_type": "code",
   "execution_count": 13,
   "id": "d6d5d6e2",
   "metadata": {
    "scrolled": true
   },
   "outputs": [
    {
     "data": {
      "text/plain": [
       "['sha256',\n",
       " 'histogram_0',\n",
       " 'histogram_1',\n",
       " 'histogram_2',\n",
       " 'histogram_3',\n",
       " 'histogram_4',\n",
       " 'histogram_5',\n",
       " 'histogram_6',\n",
       " 'histogram_7',\n",
       " 'histogram_8',\n",
       " 'histogram_9',\n",
       " 'histogram_10',\n",
       " 'histogram_11',\n",
       " 'histogram_12',\n",
       " 'histogram_13',\n",
       " 'histogram_14',\n",
       " 'histogram_15',\n",
       " 'histogram_16',\n",
       " 'histogram_17',\n",
       " 'histogram_18',\n",
       " 'histogram_19',\n",
       " 'histogram_20',\n",
       " 'histogram_21',\n",
       " 'histogram_22',\n",
       " 'histogram_23',\n",
       " 'histogram_24',\n",
       " 'histogram_25',\n",
       " 'histogram_26',\n",
       " 'histogram_27',\n",
       " 'histogram_28',\n",
       " 'histogram_29',\n",
       " 'histogram_30',\n",
       " 'histogram_31',\n",
       " 'histogram_32',\n",
       " 'histogram_33',\n",
       " 'histogram_34',\n",
       " 'histogram_35',\n",
       " 'histogram_36',\n",
       " 'histogram_37',\n",
       " 'histogram_38',\n",
       " 'histogram_39',\n",
       " 'histogram_40',\n",
       " 'histogram_41',\n",
       " 'histogram_42',\n",
       " 'histogram_43',\n",
       " 'histogram_44',\n",
       " 'histogram_45',\n",
       " 'histogram_46',\n",
       " 'histogram_47',\n",
       " 'histogram_48',\n",
       " 'histogram_49',\n",
       " 'histogram_50',\n",
       " 'histogram_51',\n",
       " 'histogram_52',\n",
       " 'histogram_53',\n",
       " 'histogram_54',\n",
       " 'histogram_55',\n",
       " 'histogram_56',\n",
       " 'histogram_57',\n",
       " 'histogram_58',\n",
       " 'histogram_59',\n",
       " 'histogram_60',\n",
       " 'histogram_61',\n",
       " 'histogram_62',\n",
       " 'histogram_63',\n",
       " 'histogram_64',\n",
       " 'histogram_65',\n",
       " 'histogram_66',\n",
       " 'histogram_67',\n",
       " 'histogram_68',\n",
       " 'histogram_69',\n",
       " 'histogram_70',\n",
       " 'histogram_71',\n",
       " 'histogram_72',\n",
       " 'histogram_73',\n",
       " 'histogram_74',\n",
       " 'histogram_75',\n",
       " 'histogram_76',\n",
       " 'histogram_77',\n",
       " 'histogram_78',\n",
       " 'histogram_79',\n",
       " 'histogram_80',\n",
       " 'histogram_81',\n",
       " 'histogram_82',\n",
       " 'histogram_83',\n",
       " 'histogram_84',\n",
       " 'histogram_85',\n",
       " 'histogram_86',\n",
       " 'histogram_87',\n",
       " 'histogram_88',\n",
       " 'histogram_89',\n",
       " 'histogram_90',\n",
       " 'histogram_91',\n",
       " 'histogram_92',\n",
       " 'histogram_93',\n",
       " 'histogram_94',\n",
       " 'histogram_95',\n",
       " 'histogram_96',\n",
       " 'histogram_97',\n",
       " 'histogram_98',\n",
       " 'histogram_99',\n",
       " 'histogram_100',\n",
       " 'histogram_101',\n",
       " 'histogram_102',\n",
       " 'histogram_103',\n",
       " 'histogram_104',\n",
       " 'histogram_105',\n",
       " 'histogram_106',\n",
       " 'histogram_107',\n",
       " 'histogram_108',\n",
       " 'histogram_109',\n",
       " 'histogram_110',\n",
       " 'histogram_111',\n",
       " 'histogram_112',\n",
       " 'histogram_113',\n",
       " 'histogram_114',\n",
       " 'histogram_115',\n",
       " 'histogram_116',\n",
       " 'histogram_117',\n",
       " 'histogram_118',\n",
       " 'histogram_119',\n",
       " 'histogram_120',\n",
       " 'histogram_121',\n",
       " 'histogram_122',\n",
       " 'histogram_123',\n",
       " 'histogram_124',\n",
       " 'histogram_125',\n",
       " 'histogram_126',\n",
       " 'histogram_127',\n",
       " 'histogram_128',\n",
       " 'histogram_129',\n",
       " 'histogram_130',\n",
       " 'histogram_131',\n",
       " 'histogram_132',\n",
       " 'histogram_133',\n",
       " 'histogram_134',\n",
       " 'histogram_135',\n",
       " 'histogram_136',\n",
       " 'histogram_137',\n",
       " 'histogram_138',\n",
       " 'histogram_139',\n",
       " 'histogram_140',\n",
       " 'histogram_141',\n",
       " 'histogram_142',\n",
       " 'histogram_143',\n",
       " 'histogram_144',\n",
       " 'histogram_145',\n",
       " 'histogram_146',\n",
       " 'histogram_147',\n",
       " 'histogram_148',\n",
       " 'histogram_149',\n",
       " 'histogram_150',\n",
       " 'histogram_151',\n",
       " 'histogram_152',\n",
       " 'histogram_153',\n",
       " 'histogram_154',\n",
       " 'histogram_155',\n",
       " 'histogram_156',\n",
       " 'histogram_157',\n",
       " 'histogram_158',\n",
       " 'histogram_159',\n",
       " 'histogram_160',\n",
       " 'histogram_161',\n",
       " 'histogram_162',\n",
       " 'histogram_163',\n",
       " 'histogram_164',\n",
       " 'histogram_165',\n",
       " 'histogram_166',\n",
       " 'histogram_167',\n",
       " 'histogram_168',\n",
       " 'histogram_169',\n",
       " 'histogram_170',\n",
       " 'histogram_171',\n",
       " 'histogram_172',\n",
       " 'histogram_173',\n",
       " 'histogram_174',\n",
       " 'histogram_175',\n",
       " 'histogram_176',\n",
       " 'histogram_177',\n",
       " 'histogram_178',\n",
       " 'histogram_179',\n",
       " 'histogram_180',\n",
       " 'histogram_181',\n",
       " 'histogram_182',\n",
       " 'histogram_183',\n",
       " 'histogram_184',\n",
       " 'histogram_185',\n",
       " 'histogram_186',\n",
       " 'histogram_187',\n",
       " 'histogram_188',\n",
       " 'histogram_189',\n",
       " 'histogram_190',\n",
       " 'histogram_191',\n",
       " 'histogram_192',\n",
       " 'histogram_193',\n",
       " 'histogram_194',\n",
       " 'histogram_195',\n",
       " 'histogram_196',\n",
       " 'histogram_197',\n",
       " 'histogram_198',\n",
       " 'histogram_199',\n",
       " 'histogram_200',\n",
       " 'histogram_201',\n",
       " 'histogram_202',\n",
       " 'histogram_203',\n",
       " 'histogram_204',\n",
       " 'histogram_205',\n",
       " 'histogram_206',\n",
       " 'histogram_207',\n",
       " 'histogram_208',\n",
       " 'histogram_209',\n",
       " 'histogram_210',\n",
       " 'histogram_211',\n",
       " 'histogram_212',\n",
       " 'histogram_213',\n",
       " 'histogram_214',\n",
       " 'histogram_215',\n",
       " 'histogram_216',\n",
       " 'histogram_217',\n",
       " 'histogram_218',\n",
       " 'histogram_219',\n",
       " 'histogram_220',\n",
       " 'histogram_221',\n",
       " 'histogram_222',\n",
       " 'histogram_223',\n",
       " 'histogram_224',\n",
       " 'histogram_225',\n",
       " 'histogram_226',\n",
       " 'histogram_227',\n",
       " 'histogram_228',\n",
       " 'histogram_229',\n",
       " 'histogram_230',\n",
       " 'histogram_231',\n",
       " 'histogram_232',\n",
       " 'histogram_233',\n",
       " 'histogram_234',\n",
       " 'histogram_235',\n",
       " 'histogram_236',\n",
       " 'histogram_237',\n",
       " 'histogram_238',\n",
       " 'histogram_239',\n",
       " 'histogram_240',\n",
       " 'histogram_241',\n",
       " 'histogram_242',\n",
       " 'histogram_243',\n",
       " 'histogram_244',\n",
       " 'histogram_245',\n",
       " 'histogram_246',\n",
       " 'histogram_247',\n",
       " 'histogram_248',\n",
       " 'histogram_249',\n",
       " 'histogram_250',\n",
       " 'histogram_251',\n",
       " 'histogram_252',\n",
       " 'histogram_253',\n",
       " 'histogram_254',\n",
       " 'histogram_255',\n",
       " 'byteentropy_0',\n",
       " 'byteentropy_1',\n",
       " 'byteentropy_2',\n",
       " 'byteentropy_3',\n",
       " 'byteentropy_4',\n",
       " 'byteentropy_5',\n",
       " 'byteentropy_6',\n",
       " 'byteentropy_7',\n",
       " 'byteentropy_8',\n",
       " 'byteentropy_9',\n",
       " 'byteentropy_10',\n",
       " 'byteentropy_11',\n",
       " 'byteentropy_12',\n",
       " 'byteentropy_13',\n",
       " 'byteentropy_14',\n",
       " 'byteentropy_15',\n",
       " 'byteentropy_16',\n",
       " 'byteentropy_17',\n",
       " 'byteentropy_18',\n",
       " 'byteentropy_19',\n",
       " 'byteentropy_20',\n",
       " 'byteentropy_21',\n",
       " 'byteentropy_22',\n",
       " 'byteentropy_23',\n",
       " 'byteentropy_24',\n",
       " 'byteentropy_25',\n",
       " 'byteentropy_26',\n",
       " 'byteentropy_27',\n",
       " 'byteentropy_28',\n",
       " 'byteentropy_29',\n",
       " 'byteentropy_30',\n",
       " 'byteentropy_31',\n",
       " 'byteentropy_32',\n",
       " 'byteentropy_33',\n",
       " 'byteentropy_34',\n",
       " 'byteentropy_35',\n",
       " 'byteentropy_36',\n",
       " 'byteentropy_37',\n",
       " 'byteentropy_38',\n",
       " 'byteentropy_39',\n",
       " 'byteentropy_40',\n",
       " 'byteentropy_41',\n",
       " 'byteentropy_42',\n",
       " 'byteentropy_43',\n",
       " 'byteentropy_44',\n",
       " 'byteentropy_45',\n",
       " 'byteentropy_46',\n",
       " 'byteentropy_47',\n",
       " 'byteentropy_48',\n",
       " 'byteentropy_49',\n",
       " 'byteentropy_50',\n",
       " 'byteentropy_51',\n",
       " 'byteentropy_52',\n",
       " 'byteentropy_53',\n",
       " 'byteentropy_54',\n",
       " 'byteentropy_55',\n",
       " 'byteentropy_56',\n",
       " 'byteentropy_57',\n",
       " 'byteentropy_58',\n",
       " 'byteentropy_59',\n",
       " 'byteentropy_60',\n",
       " 'byteentropy_61',\n",
       " 'byteentropy_62',\n",
       " 'byteentropy_63',\n",
       " 'byteentropy_64',\n",
       " 'byteentropy_65',\n",
       " 'byteentropy_66',\n",
       " 'byteentropy_67',\n",
       " 'byteentropy_68',\n",
       " 'byteentropy_69',\n",
       " 'byteentropy_70',\n",
       " 'byteentropy_71',\n",
       " 'byteentropy_72',\n",
       " 'byteentropy_73',\n",
       " 'byteentropy_74',\n",
       " 'byteentropy_75',\n",
       " 'byteentropy_76',\n",
       " 'byteentropy_77',\n",
       " 'byteentropy_78',\n",
       " 'byteentropy_79',\n",
       " 'byteentropy_80',\n",
       " 'byteentropy_81',\n",
       " 'byteentropy_82',\n",
       " 'byteentropy_83',\n",
       " 'byteentropy_84',\n",
       " 'byteentropy_85',\n",
       " 'byteentropy_86',\n",
       " 'byteentropy_87',\n",
       " 'byteentropy_88',\n",
       " 'byteentropy_89',\n",
       " 'byteentropy_90',\n",
       " 'byteentropy_91',\n",
       " 'byteentropy_92',\n",
       " 'byteentropy_93',\n",
       " 'byteentropy_94',\n",
       " 'byteentropy_95',\n",
       " 'byteentropy_96',\n",
       " 'byteentropy_97',\n",
       " 'byteentropy_98',\n",
       " 'byteentropy_99',\n",
       " 'byteentropy_100',\n",
       " 'byteentropy_101',\n",
       " 'byteentropy_102',\n",
       " 'byteentropy_103',\n",
       " 'byteentropy_104',\n",
       " 'byteentropy_105',\n",
       " 'byteentropy_106',\n",
       " 'byteentropy_107',\n",
       " 'byteentropy_108',\n",
       " 'byteentropy_109',\n",
       " 'byteentropy_110',\n",
       " 'byteentropy_111',\n",
       " 'byteentropy_112',\n",
       " 'byteentropy_113',\n",
       " 'byteentropy_114',\n",
       " 'byteentropy_115',\n",
       " 'byteentropy_116',\n",
       " 'byteentropy_117',\n",
       " 'byteentropy_118',\n",
       " 'byteentropy_119',\n",
       " 'byteentropy_120',\n",
       " 'byteentropy_121',\n",
       " 'byteentropy_122',\n",
       " 'byteentropy_123',\n",
       " 'byteentropy_124',\n",
       " 'byteentropy_125',\n",
       " 'byteentropy_126',\n",
       " 'byteentropy_127',\n",
       " 'byteentropy_128',\n",
       " 'byteentropy_129',\n",
       " 'byteentropy_130',\n",
       " 'byteentropy_131',\n",
       " 'byteentropy_132',\n",
       " 'byteentropy_133',\n",
       " 'byteentropy_134',\n",
       " 'byteentropy_135',\n",
       " 'byteentropy_136',\n",
       " 'byteentropy_137',\n",
       " 'byteentropy_138',\n",
       " 'byteentropy_139',\n",
       " 'byteentropy_140',\n",
       " 'byteentropy_141',\n",
       " 'byteentropy_142',\n",
       " 'byteentropy_143',\n",
       " 'byteentropy_144',\n",
       " 'byteentropy_145',\n",
       " 'byteentropy_146',\n",
       " 'byteentropy_147',\n",
       " 'byteentropy_148',\n",
       " 'byteentropy_149',\n",
       " 'byteentropy_150',\n",
       " 'byteentropy_151',\n",
       " 'byteentropy_152',\n",
       " 'byteentropy_153',\n",
       " 'byteentropy_154',\n",
       " 'byteentropy_155',\n",
       " 'byteentropy_156',\n",
       " 'byteentropy_157',\n",
       " 'byteentropy_158',\n",
       " 'byteentropy_159',\n",
       " 'byteentropy_160',\n",
       " 'byteentropy_161',\n",
       " 'byteentropy_162',\n",
       " 'byteentropy_163',\n",
       " 'byteentropy_164',\n",
       " 'byteentropy_165',\n",
       " 'byteentropy_166',\n",
       " 'byteentropy_167',\n",
       " 'byteentropy_168',\n",
       " 'byteentropy_169',\n",
       " 'byteentropy_170',\n",
       " 'byteentropy_171',\n",
       " 'byteentropy_172',\n",
       " 'byteentropy_173',\n",
       " 'byteentropy_174',\n",
       " 'byteentropy_175',\n",
       " 'byteentropy_176',\n",
       " 'byteentropy_177',\n",
       " 'byteentropy_178',\n",
       " 'byteentropy_179',\n",
       " 'byteentropy_180',\n",
       " 'byteentropy_181',\n",
       " 'byteentropy_182',\n",
       " 'byteentropy_183',\n",
       " 'byteentropy_184',\n",
       " 'byteentropy_185',\n",
       " 'byteentropy_186',\n",
       " 'byteentropy_187',\n",
       " 'byteentropy_188',\n",
       " 'byteentropy_189',\n",
       " 'byteentropy_190',\n",
       " 'byteentropy_191',\n",
       " 'byteentropy_192',\n",
       " 'byteentropy_193',\n",
       " 'byteentropy_194',\n",
       " 'byteentropy_195',\n",
       " 'byteentropy_196',\n",
       " 'byteentropy_197',\n",
       " 'byteentropy_198',\n",
       " 'byteentropy_199',\n",
       " 'byteentropy_200',\n",
       " 'byteentropy_201',\n",
       " 'byteentropy_202',\n",
       " 'byteentropy_203',\n",
       " 'byteentropy_204',\n",
       " 'byteentropy_205',\n",
       " 'byteentropy_206',\n",
       " 'byteentropy_207',\n",
       " 'byteentropy_208',\n",
       " 'byteentropy_209',\n",
       " 'byteentropy_210',\n",
       " 'byteentropy_211',\n",
       " 'byteentropy_212',\n",
       " 'byteentropy_213',\n",
       " 'byteentropy_214',\n",
       " 'byteentropy_215',\n",
       " 'byteentropy_216',\n",
       " 'byteentropy_217',\n",
       " 'byteentropy_218',\n",
       " 'byteentropy_219',\n",
       " 'byteentropy_220',\n",
       " 'byteentropy_221',\n",
       " 'byteentropy_222',\n",
       " 'byteentropy_223',\n",
       " 'byteentropy_224',\n",
       " 'byteentropy_225',\n",
       " 'byteentropy_226',\n",
       " 'byteentropy_227',\n",
       " 'byteentropy_228',\n",
       " 'byteentropy_229',\n",
       " 'byteentropy_230',\n",
       " 'byteentropy_231',\n",
       " 'byteentropy_232',\n",
       " 'byteentropy_233',\n",
       " 'byteentropy_234',\n",
       " 'byteentropy_235',\n",
       " 'byteentropy_236',\n",
       " 'byteentropy_237',\n",
       " 'byteentropy_238',\n",
       " 'byteentropy_239',\n",
       " 'byteentropy_240',\n",
       " 'byteentropy_241',\n",
       " 'byteentropy_242',\n",
       " 'byteentropy_243',\n",
       " 'byteentropy_244',\n",
       " 'byteentropy_245',\n",
       " 'byteentropy_246',\n",
       " 'byteentropy_247',\n",
       " 'byteentropy_248',\n",
       " 'byteentropy_249',\n",
       " 'byteentropy_250',\n",
       " 'byteentropy_251',\n",
       " 'byteentropy_252',\n",
       " 'byteentropy_253',\n",
       " 'byteentropy_254',\n",
       " 'byteentropy_255',\n",
       " 'strings_numstrings',\n",
       " 'strings_avlength',\n",
       " 'strings_printabledist_0',\n",
       " 'strings_printabledist_1',\n",
       " 'strings_printabledist_2',\n",
       " 'strings_printabledist_3',\n",
       " 'strings_printabledist_4',\n",
       " 'strings_printabledist_5',\n",
       " 'strings_printabledist_6',\n",
       " 'strings_printabledist_7',\n",
       " 'strings_printabledist_8',\n",
       " 'strings_printabledist_9',\n",
       " 'strings_printabledist_10',\n",
       " 'strings_printabledist_11',\n",
       " 'strings_printabledist_12',\n",
       " 'strings_printabledist_13',\n",
       " 'strings_printabledist_14',\n",
       " 'strings_printabledist_15',\n",
       " 'strings_printabledist_16',\n",
       " 'strings_printabledist_17',\n",
       " 'strings_printabledist_18',\n",
       " 'strings_printabledist_19',\n",
       " 'strings_printabledist_20',\n",
       " 'strings_printabledist_21',\n",
       " 'strings_printabledist_22',\n",
       " 'strings_printabledist_23',\n",
       " 'strings_printabledist_24',\n",
       " 'strings_printabledist_25',\n",
       " 'strings_printabledist_26',\n",
       " 'strings_printabledist_27',\n",
       " 'strings_printabledist_28',\n",
       " 'strings_printabledist_29',\n",
       " 'strings_printabledist_30',\n",
       " 'strings_printabledist_31',\n",
       " 'strings_printabledist_32',\n",
       " 'strings_printabledist_33',\n",
       " 'strings_printabledist_34',\n",
       " 'strings_printabledist_35',\n",
       " 'strings_printabledist_36',\n",
       " 'strings_printabledist_37',\n",
       " 'strings_printabledist_38',\n",
       " 'strings_printabledist_39',\n",
       " 'strings_printabledist_40',\n",
       " 'strings_printabledist_41',\n",
       " 'strings_printabledist_42',\n",
       " 'strings_printabledist_43',\n",
       " 'strings_printabledist_44',\n",
       " 'strings_printabledist_45',\n",
       " 'strings_printabledist_46',\n",
       " 'strings_printabledist_47',\n",
       " 'strings_printabledist_48',\n",
       " 'strings_printabledist_49',\n",
       " 'strings_printabledist_50',\n",
       " 'strings_printabledist_51',\n",
       " 'strings_printabledist_52',\n",
       " 'strings_printabledist_53',\n",
       " 'strings_printabledist_54',\n",
       " 'strings_printabledist_55',\n",
       " 'strings_printabledist_56',\n",
       " 'strings_printabledist_57',\n",
       " 'strings_printabledist_58',\n",
       " 'strings_printabledist_59',\n",
       " 'strings_printabledist_60',\n",
       " 'strings_printabledist_61',\n",
       " 'strings_printabledist_62',\n",
       " 'strings_printabledist_63',\n",
       " 'strings_printabledist_64',\n",
       " 'strings_printabledist_65',\n",
       " 'strings_printabledist_66',\n",
       " 'strings_printabledist_67',\n",
       " 'strings_printabledist_68',\n",
       " 'strings_printabledist_69',\n",
       " 'strings_printabledist_70',\n",
       " 'strings_printabledist_71',\n",
       " 'strings_printabledist_72',\n",
       " 'strings_printabledist_73',\n",
       " 'strings_printabledist_74',\n",
       " 'strings_printabledist_75',\n",
       " 'strings_printabledist_76',\n",
       " 'strings_printabledist_77',\n",
       " 'strings_printabledist_78',\n",
       " 'strings_printabledist_79',\n",
       " 'strings_printabledist_80',\n",
       " 'strings_printabledist_81',\n",
       " 'strings_printabledist_82',\n",
       " 'strings_printabledist_83',\n",
       " 'strings_printabledist_84',\n",
       " 'strings_printabledist_85',\n",
       " 'strings_printabledist_86',\n",
       " 'strings_printabledist_87',\n",
       " 'strings_printabledist_88',\n",
       " 'strings_printabledist_89',\n",
       " 'strings_printabledist_90',\n",
       " 'strings_printabledist_91',\n",
       " 'strings_printabledist_92',\n",
       " 'strings_printabledist_93',\n",
       " 'strings_printabledist_94',\n",
       " 'strings_printabledist_95',\n",
       " 'strings_printables',\n",
       " 'strings_entropy',\n",
       " 'strings_paths',\n",
       " 'strings_urls',\n",
       " 'strings_registry',\n",
       " 'strings_MZ',\n",
       " 'general_size',\n",
       " 'general_vsize',\n",
       " 'general_has_debug',\n",
       " 'general_exports',\n",
       " 'general_imports',\n",
       " 'general_has_relocations',\n",
       " 'general_has_resources',\n",
       " 'general_has_signature',\n",
       " 'general_has_tls',\n",
       " 'general_symbols',\n",
       " 'header_coff_timestamp',\n",
       " 'header_coff_machine',\n",
       " 'header_coff_characteristics_AGGRESSIVE_WS_TRIM',\n",
       " 'header_coff_characteristics_BYTES_REVERSED_HI',\n",
       " 'header_coff_characteristics_BYTES_REVERSED_LO',\n",
       " 'header_coff_characteristics_CHARA_32BIT_MACHINE',\n",
       " 'header_coff_characteristics_DEBUG_STRIPPED',\n",
       " 'header_coff_characteristics_DLL',\n",
       " 'header_coff_characteristics_EXECUTABLE_IMAGE',\n",
       " 'header_coff_characteristics_LARGE_ADDRESS_AWARE',\n",
       " 'header_coff_characteristics_LINE_NUMS_STRIPPED',\n",
       " 'header_coff_characteristics_LOCAL_SYMS_STRIPPED',\n",
       " 'header_coff_characteristics_NET_RUN_FROM_SWAP',\n",
       " 'header_coff_characteristics_RELOCS_STRIPPED',\n",
       " 'header_coff_characteristics_REMOVABLE_RUN_FROM_SWAP',\n",
       " 'header_coff_characteristics_SYSTEM',\n",
       " 'header_coff_characteristics_UP_SYSTEM_ONLY',\n",
       " 'header_optional_subsystem',\n",
       " 'header_optional_dll_characteristics_DYNAMIC_BASE',\n",
       " 'header_optional_dll_characteristics_FORCE_INTEGRITY',\n",
       " 'header_optional_dll_characteristics_GUARD_CF',\n",
       " 'header_optional_dll_characteristics_HIGH_ENTROPY_VA',\n",
       " 'header_optional_dll_characteristics_NO_BIND',\n",
       " 'header_optional_dll_characteristics_NO_ISOLATION',\n",
       " 'header_optional_dll_characteristics_NO_SEH',\n",
       " 'header_optional_dll_characteristics_NX_COMPAT',\n",
       " 'header_optional_dll_characteristics_TERMINAL_SERVER_AWARE',\n",
       " 'header_optional_dll_characteristics_WDM_DRIVER',\n",
       " 'header_optional_magic',\n",
       " 'header_optional_major_image_version',\n",
       " 'header_optional_minor_image_version',\n",
       " 'header_optional_major_linker_version',\n",
       " 'header_optional_minor_linker_version',\n",
       " 'header_optional_major_operating_system_version',\n",
       " 'header_optional_minor_operating_system_version',\n",
       " 'header_optional_major_subsystem_version',\n",
       " 'header_optional_minor_subsystem_version',\n",
       " 'header_optional_sizeof_code',\n",
       " 'header_optional_sizeof_headers',\n",
       " 'header_optional_sizeof_heap_commit',\n",
       " 'section_entry',\n",
       " 'datadirectories_0_name',\n",
       " 'datadirectories_0_size',\n",
       " 'datadirectories_0_virtual_address',\n",
       " 'datadirectories_1_name',\n",
       " 'datadirectories_1_size',\n",
       " 'datadirectories_1_virtual_address',\n",
       " 'datadirectories_2_name',\n",
       " 'datadirectories_2_size',\n",
       " 'datadirectories_2_virtual_address',\n",
       " 'datadirectories_3_name',\n",
       " 'datadirectories_3_size',\n",
       " 'datadirectories_3_virtual_address',\n",
       " 'datadirectories_4_name',\n",
       " 'datadirectories_4_size',\n",
       " 'datadirectories_4_virtual_address',\n",
       " 'datadirectories_5_name',\n",
       " 'datadirectories_5_size',\n",
       " 'datadirectories_5_virtual_address',\n",
       " 'datadirectories_6_name',\n",
       " 'datadirectories_6_size',\n",
       " 'datadirectories_6_virtual_address',\n",
       " 'datadirectories_7_name',\n",
       " 'datadirectories_7_size',\n",
       " 'datadirectories_7_virtual_address',\n",
       " 'datadirectories_8_name',\n",
       " 'datadirectories_8_size',\n",
       " 'datadirectories_8_virtual_address',\n",
       " 'datadirectories_9_name',\n",
       " 'datadirectories_9_size',\n",
       " 'datadirectories_9_virtual_address',\n",
       " 'datadirectories_11_name',\n",
       " 'datadirectories_11_size',\n",
       " 'datadirectories_11_virtual_address',\n",
       " 'datadirectories_12_name',\n",
       " 'datadirectories_12_size',\n",
       " 'datadirectories_12_virtual_address',\n",
       " 'datadirectories_13_name',\n",
       " 'datadirectories_13_size',\n",
       " 'datadirectories_13_virtual_address',\n",
       " 'datadirectories_14_name',\n",
       " 'datadirectories_14_size',\n",
       " 'datadirectories_14_virtual_address',\n",
       " 'datadirectories_15_name',\n",
       " 'datadirectories_15_size',\n",
       " 'datadirectories_15_virtual_address',\n",
       " 'category']"
      ]
     },
     "execution_count": 13,
     "metadata": {},
     "output_type": "execute_result"
    }
   ],
   "source": [
    "list(df1)"
   ]
  },
  {
   "cell_type": "code",
   "execution_count": 14,
   "id": "ba206cf2",
   "metadata": {},
   "outputs": [],
   "source": [
    "malware = df1[df1['category'] == 1]\n",
    "not_malware = df1[df1['category'] == 0]"
   ]
  },
  {
   "cell_type": "code",
   "execution_count": 15,
   "id": "58b3da2a",
   "metadata": {},
   "outputs": [],
   "source": [
    "def dist_plotter(feature_name): #random function, make some more\n",
    "    fig, ax = plt.subplots(2,1)\n",
    "#     ax.set(ylabel='common ylabel', title=feature_name)\n",
    "    sns.violinplot(malware[feature_name], inner=\"quartile\", ax=ax[0], color='r')\n",
    "    sns.violinplot(not_malware[feature_name], inner=\"quartile\", ax=ax[1], color='r')"
   ]
  },
  {
   "cell_type": "code",
   "execution_count": 16,
   "id": "6298ffff",
   "metadata": {},
   "outputs": [
    {
     "data": {
      "image/png": "[encoded data removed]",
      "text/plain": [
       "<Figure size 432x288 with 2 Axes>"
      ]
     },
     "metadata": {
      "needs_background": "light"
     },
     "output_type": "display_data"
    }
   ],
   "source": [
    "dist_plotter('byteentropy_211')"
   ]
  },
  {
   "cell_type": "code",
   "execution_count": null,
   "id": "10210c56",
   "metadata": {},
   "outputs": [],
   "source": []
  },
  {
   "cell_type": "markdown",
   "id": "8956859c",
   "metadata": {},
   "source": [
    "## Undersampling"
   ]
  },
  {
   "cell_type": "markdown",
   "id": "d318fbbb",
   "metadata": {},
   "source": [
    "Since only 5% of entries are malware, we want a similar 50/50 split between malware and not malware. Could also use SMOTE."
   ]
  },
  {
   "cell_type": "code",
   "execution_count": 17,
   "id": "1f70e5aa",
   "metadata": {},
   "outputs": [],
   "source": [
    "majority = df2[df2.category==0] # Majority class\n",
    "minority = df2[df2.category==1] # Minority class"
   ]
  },
  {
   "cell_type": "code",
   "execution_count": 18,
   "id": "a7f6d185",
   "metadata": {},
   "outputs": [
    {
     "data": {
      "text/plain": [
       "0    900\n",
       "1    900\n",
       "Name: category, dtype: int64"
      ]
     },
     "execution_count": 18,
     "metadata": {},
     "output_type": "execute_result"
    }
   ],
   "source": [
    "majority_undersampled = resample(majority, replace=False, n_samples=900) # Randomly selects 900 records from majority to match minority class size\n",
    "# New downsampled dataset\n",
    "df_undersampled = pd.concat([majority_undersampled, minority])  # Minority class + sample of 900 from majority\n",
    "df_undersampled.category.value_counts()"
   ]
  },
  {
   "cell_type": "code",
   "execution_count": 19,
   "id": "2d670a65",
   "metadata": {},
   "outputs": [
    {
     "name": "stdout",
     "output_type": "stream",
     "text": [
      "WARNING: EMBER feature version 2 were computed using lief version 0.9.0-\n",
      "WARNING:   lief version 0.11.5-551ede5 found instead. There may be slight inconsistencies\n",
      "WARNING:   in the feature calculations.\n"
     ]
    }
   ],
   "source": [
    "Ember_Wrapper.create_vectorize_features(df_undersampled)"
   ]
  },
  {
   "cell_type": "code",
   "execution_count": 20,
   "id": "0a5dbffc",
   "metadata": {},
   "outputs": [
    {
     "name": "stdout",
     "output_type": "stream",
     "text": [
      "X.shape (1800, 2381)\n",
      "%Malware: 0.5\n"
     ]
    }
   ],
   "source": [
    "X = np.load('./X_data.npy')\n",
    "y = np.load('./y_data.npy')\n",
    "print('X.shape', X.shape)\n",
    "print('%Malware:', sum(y) / len(y))"
   ]
  },
  {
   "cell_type": "code",
   "execution_count": 21,
   "id": "ce7e604e",
   "metadata": {},
   "outputs": [],
   "source": [
    "# df = df_undersampled #make it a new df"
   ]
  },
  {
   "cell_type": "code",
   "execution_count": 22,
   "id": "2a95437d",
   "metadata": {},
   "outputs": [],
   "source": [
    "# X = df.drop('category', axis=1) #X is everything but the 'category' col"
   ]
  },
  {
   "cell_type": "code",
   "execution_count": 23,
   "id": "5d485926",
   "metadata": {},
   "outputs": [],
   "source": [
    "# y = df['category'] #y is just the target column"
   ]
  },
  {
   "cell_type": "code",
   "execution_count": 24,
   "id": "7897ed31",
   "metadata": {},
   "outputs": [],
   "source": [
    "# X = X._get_numeric_data() #drop all nonnumeric ones (for now?)"
   ]
  },
  {
   "cell_type": "code",
   "execution_count": 25,
   "id": "81a2c68e",
   "metadata": {},
   "outputs": [],
   "source": [
    "# print(X.shape, y.shape) #sanity check arrays"
   ]
  },
  {
   "cell_type": "markdown",
   "id": "7faad1f1",
   "metadata": {},
   "source": [
    "## Feature Selection with ANOVA"
   ]
  },
  {
   "cell_type": "code",
   "execution_count": 26,
   "id": "80d8e989",
   "metadata": {},
   "outputs": [],
   "source": [
    "X_train, X_test, y_train, y_test = train_test_split(X, y, test_size=0.2) #train test split 80/20"
   ]
  },
  {
   "cell_type": "markdown",
   "id": "62dcf6ee",
   "metadata": {},
   "source": [
    "Ideally should select features after heatmaps/correlation plots/distributions etc but skipped for now.\n",
    "\n",
    "This is automatic but more of a \"black box\".\n",
    "\n",
    "PCA would also go here."
   ]
  },
  {
   "cell_type": "code",
   "execution_count": 27,
   "id": "6a792bd4",
   "metadata": {},
   "outputs": [],
   "source": [
    "fs = SelectKBest(score_func=f_classif, k=600) #THIS K IS HOW MANY FEATURES YOU WANT\n",
    "fs.fit(X_train, y_train)\n",
    "mask = fs.get_support()\n",
    "new_features = X_train.columns[mask]"
   ]
  },
  {
   "cell_type": "code",
   "execution_count": 28,
   "id": "82449ae4",
   "metadata": {},
   "outputs": [],
   "source": [
    "# X_train_fs = X_train[new_features]\n",
    "# X_test_fs = X_test[new_features]"
   ]
  },
  {
   "cell_type": "code",
   "execution_count": 29,
   "id": "dac5edd2",
   "metadata": {},
   "outputs": [],
   "source": [
    "X_train_fs = X_train\n",
    "X_test_fs = X_test"
   ]
  },
  {
   "cell_type": "code",
   "execution_count": 30,
   "id": "e27959d9",
   "metadata": {},
   "outputs": [],
   "source": [
    "# for i in range(len(fs.scores_[:10])):\n",
    "#     print('Feature %d: %f' % (i, fs.scores_[i]))\n",
    "# # plot the scores\n",
    "#     plt.bar([i for i in range(len(fs.scores_))], fs.scores_)\n",
    "#     plt.show()"
   ]
  },
  {
   "cell_type": "markdown",
   "id": "b8375b69",
   "metadata": {},
   "source": [
    "Now we can use X_train_fs and X_test_fs in place of X_train and X_test."
   ]
  },
  {
   "cell_type": "code",
   "execution_count": 31,
   "id": "1378e470",
   "metadata": {
    "scrolled": false
   },
   "outputs": [
    {
     "name": "stdout",
     "output_type": "stream",
     "text": [
      "(1440, 2381) (360, 2381)\n"
     ]
    }
   ],
   "source": [
    "print(X_train_fs.shape, X_test_fs.shape)"
   ]
  },
  {
   "cell_type": "code",
   "execution_count": 32,
   "id": "6b5a9930",
   "metadata": {
    "scrolled": true
   },
   "outputs": [
    {
     "name": "stdout",
     "output_type": "stream",
     "text": [
      "(1440,) (360,)\n"
     ]
    }
   ],
   "source": [
    "print(y_train.shape, y_test.shape)"
   ]
  },
  {
   "cell_type": "markdown",
   "id": "7977a7bf",
   "metadata": {},
   "source": [
    "## Modeling"
   ]
  },
  {
   "cell_type": "markdown",
   "id": "94ee8fe7",
   "metadata": {},
   "source": [
    "This function basically fits a specified model and outputs it's f1_score as well as ROC curve, can add more graphs/plots to it as well."
   ]
  },
  {
   "cell_type": "code",
   "execution_count": 33,
   "id": "0c28500b",
   "metadata": {},
   "outputs": [],
   "source": [
    "def modeler(model):\n",
    "    model.fit(X_train_fs, y_train) #fit specified model\n",
    "    y_pred = model.predict(X_test_fs) #predict on test set\n",
    "    f1 = f1_score(y_test, y_pred) #get f1 score\n",
    "    print('F1 Score:', f1)\n",
    "    print(metrics.confusion_matrix(y_test, y_pred))\n",
    "    \n",
    "    #this plots the ROC curve, play around iwth it\n",
    "    from sklearn.metrics import roc_curve, auc\n",
    "    fpr, tpr, thresholds = roc_curve(y_pred, y_test)\n",
    "    roc_auc = auc(fpr, tpr)\n",
    "\n",
    "    plt.figure()\n",
    "    plt.plot(fpr, tpr, color='darkorange', label='ROC curve (area = %0.2f)' % roc_auc)\n",
    "    plt.plot([0, 1], [0, 1], color='navy', linestyle='--')\n",
    "    plt.xlim([0.0, 1.0])\n",
    "    plt.ylim([0.0, 1.05])\n",
    "    plt.xlabel('False Positive Rate')\n",
    "    plt.ylabel('True Positive Rate')\n",
    "    plt.title('Receiver operating characteristic')\n",
    "    plt.legend(loc=\"lower right\")\n",
    "    plt.show()"
   ]
  },
  {
   "cell_type": "code",
   "execution_count": 34,
   "id": "6a6991c5",
   "metadata": {},
   "outputs": [
    {
     "name": "stdout",
     "output_type": "stream",
     "text": [
      "F1 Score: 0.7328605200945627\n",
      "[[ 92  81]\n",
      " [ 32 155]]\n"
     ]
    },
    {
     "data": {
      "image/png": "[encoded data removed]",
      "text/plain": [
       "<Figure size 432x288 with 1 Axes>"
      ]
     },
     "metadata": {
      "needs_background": "light"
     },
     "output_type": "display_data"
    }
   ],
   "source": [
    "lr = LogisticRegression()\n",
    "modeler(lr)"
   ]
  },
  {
   "cell_type": "code",
   "execution_count": 35,
   "id": "d8c073fb",
   "metadata": {
    "scrolled": true
   },
   "outputs": [
    {
     "name": "stdout",
     "output_type": "stream",
     "text": [
      "F1 Score: 0.946524064171123\n",
      "[[163  10]\n",
      " [ 10 177]]\n"
     ]
    },
    {
     "data": {
      "image/png": "[encoded data removed]",
      "text/plain": [
       "<Figure size 432x288 with 1 Axes>"
      ]
     },
     "metadata": {
      "needs_background": "light"
     },
     "output_type": "display_data"
    }
   ],
   "source": [
    "lgbm = lgb.LGBMClassifier()\n",
    "modeler(lgbm)"
   ]
  },
  {
   "cell_type": "code",
   "execution_count": 36,
   "id": "79c2a5aa",
   "metadata": {},
   "outputs": [
    {
     "name": "stdout",
     "output_type": "stream",
     "text": [
      "F1 Score: 0.924731182795699\n",
      "[[160  13]\n",
      " [ 15 172]]\n"
     ]
    },
    {
     "data": {
      "image/png": "[encoded data removed]",
      "text/plain": [
       "<Figure size 432x288 with 1 Axes>"
      ]
     },
     "metadata": {
      "needs_background": "light"
     },
     "output_type": "display_data"
    }
   ],
   "source": [
    "xgbc = xgb.XGBClassifier(eval_metric='logloss')\n",
    "modeler(xgbc)"
   ]
  },
  {
   "cell_type": "code",
   "execution_count": 37,
   "id": "124fa26f",
   "metadata": {},
   "outputs": [
    {
     "name": "stdout",
     "output_type": "stream",
     "text": [
      "F1 Score: 0.8907103825136612\n",
      "[[157  16]\n",
      " [ 24 163]]\n"
     ]
    },
    {
     "data": {
      "image/png": "[encoded data removed]",
      "text/plain": [
       "<Figure size 432x288 with 1 Axes>"
      ]
     },
     "metadata": {
      "needs_background": "light"
     },
     "output_type": "display_data"
    }
   ],
   "source": [
    "from sklearn.ensemble import RandomForestClassifier\n",
    "rf = RandomForestClassifier()\n",
    "modeler(rf)"
   ]
  },
  {
   "cell_type": "code",
   "execution_count": 38,
   "id": "acffb742",
   "metadata": {},
   "outputs": [
    {
     "name": "stdout",
     "output_type": "stream",
     "text": [
      "F1 Score: 0.19469026548672566\n",
      "[[156  17]\n",
      " [165  22]]\n"
     ]
    },
    {
     "data": {
      "image/png": "[encoded data removed]",
      "text/plain": [
       "<Figure size 432x288 with 1 Axes>"
      ]
     },
     "metadata": {
      "needs_background": "light"
     },
     "output_type": "display_data"
    }
   ],
   "source": [
    "from sklearn.svm import SVC\n",
    "svm = SVC()\n",
    "modeler(svm)"
   ]
  },
  {
   "cell_type": "code",
   "execution_count": 39,
   "id": "c442ea2e",
   "metadata": {},
   "outputs": [
    {
     "name": "stdout",
     "output_type": "stream",
     "text": [
      "F1 Score: 0.7238605898123325\n",
      "[[122  51]\n",
      " [ 52 135]]\n"
     ]
    },
    {
     "data": {
      "image/png": "[encoded data removed]",
      "text/plain": [
       "<Figure size 432x288 with 1 Axes>"
      ]
     },
     "metadata": {
      "needs_background": "light"
     },
     "output_type": "display_data"
    }
   ],
   "source": [
    "from sklearn.neighbors import KNeighborsClassifier\n",
    "knn = KNeighborsClassifier()\n",
    "modeler(knn)"
   ]
  },
  {
   "cell_type": "code",
   "execution_count": 40,
   "id": "526f394f",
   "metadata": {},
   "outputs": [
    {
     "name": "stdout",
     "output_type": "stream",
     "text": [
      "F1 Score: 0.821529745042493\n",
      "[[152  21]\n",
      " [ 42 145]]\n"
     ]
    },
    {
     "data": {
      "image/png": "[encoded data removed]",
      "text/plain": [
       "<Figure size 432x288 with 1 Axes>"
      ]
     },
     "metadata": {
      "needs_background": "light"
     },
     "output_type": "display_data"
    }
   ],
   "source": [
    "from sklearn import tree\n",
    "dt = tree.DecisionTreeClassifier()\n",
    "modeler(dt)"
   ]
  },
  {
   "cell_type": "markdown",
   "id": "311b8688",
   "metadata": {},
   "source": [
    "Best ones seem to be LGBM and XGB. Ideal ROC graph looks hugs the top left corner."
   ]
  },
  {
   "cell_type": "markdown",
   "id": "a4fa6f4e",
   "metadata": {},
   "source": [
    "## Hyperparameter Optimization"
   ]
  },
  {
   "cell_type": "markdown",
   "id": "a23e892a",
   "metadata": {},
   "source": [
    "Time to tune with Hyperopt.\n",
    "(Scaling/normalizing isn't needed for gradient boosted decision trees so skip it)"
   ]
  },
  {
   "cell_type": "markdown",
   "id": "bdf41687",
   "metadata": {},
   "source": [
    "# EVERYONE CAN TRY OPTIMIZING WITH DIFFERENT HYPERPARAMETERS LIKE IN THE COMMENTED OUT LINES, check the user docs for more parameters"
   ]
  },
  {
   "cell_type": "code",
   "execution_count": 41,
   "id": "c27890d3",
   "metadata": {},
   "outputs": [],
   "source": [
    "# #hyperparameter domain to search over\n",
    "# hyperparam_space = {\n",
    "#     'num_leaves':       hp.choice('num_leaves', np.arange(30, 250, 1)),\n",
    "#     'learning_rate':    hp.quniform('learning_rate', 0, 0.3, 0.01),\n",
    "#     'max_depth':        hp.choice('max_depth', np.arange(2, 100, 1, dtype=int)),\n",
    "#     'min_child_weight': hp.choice('min_child_weight', np.arange(1, 50, 1, dtype=int)),\n",
    "#     'colsample_bytree': hp.uniform('colsample_bytree', 0.4, 1),\n",
    "#     'subsample':        hp.uniform('subsample', 0.5, 1),\n",
    "# }"
   ]
  },
  {
   "cell_type": "markdown",
   "id": "8be52d91",
   "metadata": {},
   "source": [
    "Following code takes a couple minutes to run:"
   ]
  },
  {
   "cell_type": "code",
   "execution_count": 42,
   "id": "1b455126",
   "metadata": {
    "scrolled": true
   },
   "outputs": [],
   "source": [
    "# def score(params): #function to train and test different hyperparams\n",
    "#     model = lgb.LGBMClassifier(**params)\n",
    "#     model.fit(X_train_fs, y_train, early_stopping_rounds=20,\n",
    "#              eval_set=[(X_train_fs, y_train), (X_test_fs, y_test)])\n",
    "# #     y_pred = model.predict(X_test_fs)\n",
    "# #     score = mean_squared_error(y_test, y_pred)\n",
    "#     score = -cross_val_score(model, X_train_fs, y_train, cv=10, scoring='roc_auc').mean()\n",
    "#     print(score)\n",
    "#     return score\n",
    "            \n",
    "# def optimize(trials, space): #fmin is the main library function\n",
    "#     best = fmin(score, space, algo=tpe.suggest, max_evals=10)\n",
    "#     return best\n",
    "            \n",
    "# trials = Trials() #database that store completed hyperparameters and score\n",
    "# best_params = optimize(trials, hyperparam_space) #calls fmin\n",
    "\n",
    "# #finds best hyperparameters\n",
    "# # space_eval(hyperparam_space, best_params)"
   ]
  },
  {
   "cell_type": "code",
   "execution_count": 43,
   "id": "de0c0e47",
   "metadata": {
    "scrolled": true
   },
   "outputs": [],
   "source": [
    "# best_params"
   ]
  },
  {
   "cell_type": "code",
   "execution_count": 44,
   "id": "177821b4",
   "metadata": {},
   "outputs": [],
   "source": [
    "# lgbm_model = lgb.LGBMClassifier(**best_params)\n",
    "# lgbm_model.fit(X_train_fs, y_train)\n",
    "# preds = [pred[1] for pred in lgbm_model.predict_proba(X_test_fs)]\n",
    "# score = roc_auc_score(y_test, preds, average='weighted')\n",
    "# print('auc_roc score: ', score)\n",
    "\n",
    "# y_pred = lgbm_model.predict(X_test_fs)\n",
    "# f1 = f1_score(y_test, y_pred) #get f1 score\n",
    "# print('F1 Score:', f1)\n",
    "# print(confusion_matrix(y_test, y_pred))\n",
    "# print(classification_report(y_test, y_pred))"
   ]
  },
  {
   "cell_type": "code",
   "execution_count": 45,
   "id": "87d493d7",
   "metadata": {},
   "outputs": [],
   "source": [
    "# shap_values = shap.TreeExplainer(lgbm_model).shap_values(X_test_fs)\n",
    "# shap.summary_plot(shap_values, X_test_fs)"
   ]
  },
  {
   "cell_type": "code",
   "execution_count": 46,
   "id": "11862dc7",
   "metadata": {},
   "outputs": [],
   "source": [
    "# lgb.plot_importance(lgbm_model, max_num_features=20)\n",
    "# plt.figure(figsize=(25, 12))\n",
    "# plt.show()"
   ]
  },
  {
   "cell_type": "code",
   "execution_count": 47,
   "id": "2a8e5291",
   "metadata": {},
   "outputs": [],
   "source": [
    "#hyperparameter domain to search over\n",
    "hyperparam_space = {\n",
    "    'max_depth': hp.choice('max_depth', np.arange(1, 10, 1, dtype=int)), #larger values = overfitting\n",
    "    'n_estimators': hp.choice('n_estimators', np.arange(100, 500, 1, dtype=int)), #larger values = overfitting\n",
    "    'learning_rate': hp.quniform('learning_rate', 0, 1, 0.01), #aka eta = step size shrinkage to prevent overfitting\n",
    "#     'gamma': hp.quniform('gamma', 0, 1, 0.05), #gamma: min loss reduction to partition leaf nodes (for overfitting)\n",
    "#     'min_child_weight': hp.quniform('min_child_weight', 1, 8, 0.5),\n",
    "#     'subsample': hp.quniform('subsample', 0.5, 1, 0.05),\n",
    "}"
   ]
  },
  {
   "cell_type": "code",
   "execution_count": 48,
   "id": "a1e55c88",
   "metadata": {
    "scrolled": true
   },
   "outputs": [
    {
     "name": "stdout",
     "output_type": "stream",
     "text": [
      "[0]\tvalidation_0-logloss:0.30518\tvalidation_1-logloss:0.45132                                                                                          \n",
      "[1]\tvalidation_0-logloss:0.16903\tvalidation_1-logloss:0.36883                                                                                          \n",
      "[2]\tvalidation_0-logloss:0.10070\tvalidation_1-logloss:0.33400                                                                                          \n",
      "[3]\tvalidation_0-logloss:0.06714\tvalidation_1-logloss:0.30098                                                                                          \n",
      "[4]\tvalidation_0-logloss:0.04779\tvalidation_1-logloss:0.26818                                                                                          \n",
      "[5]\tvalidation_0-logloss:0.03549\tvalidation_1-logloss:0.26500                                                                                          \n",
      "[6]\tvalidation_0-logloss:0.02796\tvalidation_1-logloss:0.25435                                                                                          \n",
      "[7]\tvalidation_0-logloss:0.02300\tvalidation_1-logloss:0.23698                                                                                          \n",
      "[8]\tvalidation_0-logloss:0.01916\tvalidation_1-logloss:0.24588                                                                                          \n",
      "[9]\tvalidation_0-logloss:0.01672\tvalidation_1-logloss:0.24109                                                                                          \n",
      "[10]\tvalidation_0-logloss:0.01465\tvalidation_1-logloss:0.24526                                                                                         \n",
      "[11]\tvalidation_0-logloss:0.01284\tvalidation_1-logloss:0.24987                                                                                         \n",
      "[12]\tvalidation_0-logloss:0.01156\tvalidation_1-logloss:0.25237                                                                                         \n",
      "[13]\tvalidation_0-logloss:0.01048\tvalidation_1-logloss:0.25170                                                                                         \n",
      "[14]\tvalidation_0-logloss:0.00965\tvalidation_1-logloss:0.25325                                                                                         \n",
      "[15]\tvalidation_0-logloss:0.00895\tvalidation_1-logloss:0.25214                                                                                         \n",
      "[16]\tvalidation_0-logloss:0.00826\tvalidation_1-logloss:0.25366                                                                                         \n",
      "[17]\tvalidation_0-logloss:0.00773\tvalidation_1-logloss:0.26083                                                                                         \n",
      "[18]\tvalidation_0-logloss:0.00723\tvalidation_1-logloss:0.25912                                                                                         \n",
      "[19]\tvalidation_0-logloss:0.00687\tvalidation_1-logloss:0.26370                                                                                         \n",
      "[20]\tvalidation_0-logloss:0.00656\tvalidation_1-logloss:0.26152                                                                                         \n",
      "[21]\tvalidation_0-logloss:0.00628\tvalidation_1-logloss:0.26039                                                                                         \n",
      "[22]\tvalidation_0-logloss:0.00599\tvalidation_1-logloss:0.26103                                                                                         \n",
      "[23]\tvalidation_0-logloss:0.00573\tvalidation_1-logloss:0.25777                                                                                         \n",
      "[24]\tvalidation_0-logloss:0.00549\tvalidation_1-logloss:0.25706                                                                                         \n",
      "[25]\tvalidation_0-logloss:0.00530\tvalidation_1-logloss:0.25657                                                                                         \n",
      "[26]\tvalidation_0-logloss:0.00512\tvalidation_1-logloss:0.25852                                                                                         \n",
      "-0.9630546422242231                                                                                                                                    \n",
      "[0]\tvalidation_0-logloss:0.46677\tvalidation_1-logloss:0.49317                                                                                          \n",
      "[1]\tvalidation_0-logloss:0.38363\tvalidation_1-logloss:0.43869                                                                                          \n",
      "[2]\tvalidation_0-logloss:0.33675\tvalidation_1-logloss:0.42260                                                                                          \n",
      "[3]\tvalidation_0-logloss:0.30000\tvalidation_1-logloss:0.37990                                                                                          \n",
      "[4]\tvalidation_0-logloss:0.27234\tvalidation_1-logloss:0.34544                                                                                          \n",
      "[5]\tvalidation_0-logloss:0.24461\tvalidation_1-logloss:0.33846                                                                                          \n",
      "[6]\tvalidation_0-logloss:0.22949\tvalidation_1-logloss:0.31756                                                                                          \n",
      "[7]\tvalidation_0-logloss:0.21569\tvalidation_1-logloss:0.30506                                                                                          \n",
      "[8]\tvalidation_0-logloss:0.20356\tvalidation_1-logloss:0.29310                                                                                          \n",
      "[9]\tvalidation_0-logloss:0.19094\tvalidation_1-logloss:0.28957                                                                                          \n",
      "[10]\tvalidation_0-logloss:0.18120\tvalidation_1-logloss:0.28642                                                                                         \n",
      "[11]\tvalidation_0-logloss:0.17139\tvalidation_1-logloss:0.29241                                                                                         \n",
      "[12]\tvalidation_0-logloss:0.16248\tvalidation_1-logloss:0.30005                                                                                         \n",
      "[13]\tvalidation_0-logloss:0.15275\tvalidation_1-logloss:0.30716                                                                                         \n",
      "[14]\tvalidation_0-logloss:0.14713\tvalidation_1-logloss:0.30597                                                                                         \n",
      "[15]\tvalidation_0-logloss:0.13779\tvalidation_1-logloss:0.31346                                                                                         \n",
      "[16]\tvalidation_0-logloss:0.12824\tvalidation_1-logloss:0.32131                                                                                         \n",
      "[17]\tvalidation_0-logloss:0.12090\tvalidation_1-logloss:0.32513                                                                                         \n",
      "[18]\tvalidation_0-logloss:0.11427\tvalidation_1-logloss:0.31949                                                                                         \n",
      "[19]\tvalidation_0-logloss:0.10740\tvalidation_1-logloss:0.31705                                                                                         \n",
      "[20]\tvalidation_0-logloss:0.10056\tvalidation_1-logloss:0.31955                                                                                         \n",
      "[21]\tvalidation_0-logloss:0.09400\tvalidation_1-logloss:0.31968                                                                                         \n",
      "[22]\tvalidation_0-logloss:0.08837\tvalidation_1-logloss:0.32663                                                                                         \n",
      "[23]\tvalidation_0-logloss:0.08330\tvalidation_1-logloss:0.32662                                                                                         \n",
      "[24]\tvalidation_0-logloss:0.07839\tvalidation_1-logloss:0.32216                                                                                         \n"
     ]
    },
    {
     "name": "stdout",
     "output_type": "stream",
     "text": [
      "[25]\tvalidation_0-logloss:0.07508\tvalidation_1-logloss:0.32421                                                                                         \n",
      "[26]\tvalidation_0-logloss:0.07037\tvalidation_1-logloss:0.33479                                                                                         \n",
      "[27]\tvalidation_0-logloss:0.06731\tvalidation_1-logloss:0.32762                                                                                         \n",
      "[28]\tvalidation_0-logloss:0.06402\tvalidation_1-logloss:0.33215                                                                                         \n",
      "[29]\tvalidation_0-logloss:0.06107\tvalidation_1-logloss:0.32368                                                                                         \n",
      "[30]\tvalidation_0-logloss:0.05817\tvalidation_1-logloss:0.31252                                                                                         \n",
      "-0.9602765890327591                                                                                                                                    \n",
      "[0]\tvalidation_0-logloss:0.57215\tvalidation_1-logloss:0.58090                                                                                          \n",
      "[1]\tvalidation_0-logloss:0.48712\tvalidation_1-logloss:0.50483                                                                                          \n",
      "[2]\tvalidation_0-logloss:0.43124\tvalidation_1-logloss:0.46353                                                                                          \n",
      "[3]\tvalidation_0-logloss:0.38837\tvalidation_1-logloss:0.42218                                                                                          \n",
      "[4]\tvalidation_0-logloss:0.35262\tvalidation_1-logloss:0.38724                                                                                          \n",
      "[5]\tvalidation_0-logloss:0.32520\tvalidation_1-logloss:0.36389                                                                                          \n",
      "[6]\tvalidation_0-logloss:0.30126\tvalidation_1-logloss:0.34318                                                                                          \n",
      "[7]\tvalidation_0-logloss:0.27857\tvalidation_1-logloss:0.32268                                                                                          \n",
      "[8]\tvalidation_0-logloss:0.26186\tvalidation_1-logloss:0.31565                                                                                          \n",
      "[9]\tvalidation_0-logloss:0.24525\tvalidation_1-logloss:0.30804                                                                                          \n",
      "[10]\tvalidation_0-logloss:0.23086\tvalidation_1-logloss:0.29749                                                                                         \n",
      "[11]\tvalidation_0-logloss:0.22084\tvalidation_1-logloss:0.28816                                                                                         \n",
      "[12]\tvalidation_0-logloss:0.21104\tvalidation_1-logloss:0.27428                                                                                         \n",
      "[13]\tvalidation_0-logloss:0.20010\tvalidation_1-logloss:0.26407                                                                                         \n",
      "[14]\tvalidation_0-logloss:0.19280\tvalidation_1-logloss:0.26045                                                                                         \n",
      "[15]\tvalidation_0-logloss:0.18523\tvalidation_1-logloss:0.25653                                                                                         \n",
      "[16]\tvalidation_0-logloss:0.17840\tvalidation_1-logloss:0.25106                                                                                         \n",
      "[17]\tvalidation_0-logloss:0.17281\tvalidation_1-logloss:0.24404                                                                                         \n",
      "[18]\tvalidation_0-logloss:0.16835\tvalidation_1-logloss:0.23978                                                                                         \n",
      "[19]\tvalidation_0-logloss:0.16262\tvalidation_1-logloss:0.23536                                                                                         \n",
      "[20]\tvalidation_0-logloss:0.15820\tvalidation_1-logloss:0.23309                                                                                         \n",
      "[21]\tvalidation_0-logloss:0.15294\tvalidation_1-logloss:0.22953                                                                                         \n",
      "[22]\tvalidation_0-logloss:0.14696\tvalidation_1-logloss:0.22608                                                                                         \n",
      "[23]\tvalidation_0-logloss:0.14034\tvalidation_1-logloss:0.22175                                                                                         \n",
      "[24]\tvalidation_0-logloss:0.13610\tvalidation_1-logloss:0.22086                                                                                         \n",
      "[25]\tvalidation_0-logloss:0.13287\tvalidation_1-logloss:0.22026                                                                                         \n",
      "[26]\tvalidation_0-logloss:0.12728\tvalidation_1-logloss:0.21918                                                                                         \n",
      "[27]\tvalidation_0-logloss:0.12393\tvalidation_1-logloss:0.21987                                                                                         \n",
      "[28]\tvalidation_0-logloss:0.11902\tvalidation_1-logloss:0.21699                                                                                         \n",
      "[29]\tvalidation_0-logloss:0.11345\tvalidation_1-logloss:0.21901                                                                                         \n",
      "[30]\tvalidation_0-logloss:0.10864\tvalidation_1-logloss:0.21930                                                                                         \n",
      "[31]\tvalidation_0-logloss:0.10415\tvalidation_1-logloss:0.21722                                                                                         \n",
      "[32]\tvalidation_0-logloss:0.10010\tvalidation_1-logloss:0.21835                                                                                         \n",
      "[33]\tvalidation_0-logloss:0.09680\tvalidation_1-logloss:0.21744                                                                                         \n",
      "[34]\tvalidation_0-logloss:0.09500\tvalidation_1-logloss:0.21521                                                                                         \n",
      "[35]\tvalidation_0-logloss:0.09253\tvalidation_1-logloss:0.21297                                                                                         \n",
      "[36]\tvalidation_0-logloss:0.08876\tvalidation_1-logloss:0.21250                                                                                         \n",
      "[37]\tvalidation_0-logloss:0.08615\tvalidation_1-logloss:0.21469                                                                                         \n",
      "[38]\tvalidation_0-logloss:0.08381\tvalidation_1-logloss:0.21296                                                                                         \n",
      "[39]\tvalidation_0-logloss:0.08108\tvalidation_1-logloss:0.21060                                                                                         \n",
      "[40]\tvalidation_0-logloss:0.07895\tvalidation_1-logloss:0.20942                                                                                         \n",
      "[41]\tvalidation_0-logloss:0.07703\tvalidation_1-logloss:0.20822                                                                                         \n",
      "[42]\tvalidation_0-logloss:0.07397\tvalidation_1-logloss:0.21024                                                                                         \n",
      "[43]\tvalidation_0-logloss:0.07226\tvalidation_1-logloss:0.20759                                                                                         \n",
      "[44]\tvalidation_0-logloss:0.07022\tvalidation_1-logloss:0.20499                                                                                         \n",
      "[45]\tvalidation_0-logloss:0.06817\tvalidation_1-logloss:0.20502                                                                                         \n"
     ]
    },
    {
     "name": "stdout",
     "output_type": "stream",
     "text": [
      "[46]\tvalidation_0-logloss:0.06556\tvalidation_1-logloss:0.20444                                                                                         \n",
      "[47]\tvalidation_0-logloss:0.06257\tvalidation_1-logloss:0.20456                                                                                         \n",
      "[48]\tvalidation_0-logloss:0.06103\tvalidation_1-logloss:0.20428                                                                                         \n",
      "[49]\tvalidation_0-logloss:0.05985\tvalidation_1-logloss:0.20479                                                                                         \n",
      "[50]\tvalidation_0-logloss:0.05866\tvalidation_1-logloss:0.20516                                                                                         \n",
      "[51]\tvalidation_0-logloss:0.05696\tvalidation_1-logloss:0.20595                                                                                         \n",
      "[52]\tvalidation_0-logloss:0.05577\tvalidation_1-logloss:0.20527                                                                                         \n",
      "[53]\tvalidation_0-logloss:0.05375\tvalidation_1-logloss:0.20465                                                                                         \n",
      "[54]\tvalidation_0-logloss:0.05284\tvalidation_1-logloss:0.20413                                                                                         \n",
      "[55]\tvalidation_0-logloss:0.05202\tvalidation_1-logloss:0.20370                                                                                         \n",
      "[56]\tvalidation_0-logloss:0.05101\tvalidation_1-logloss:0.20431                                                                                         \n",
      "[57]\tvalidation_0-logloss:0.04911\tvalidation_1-logloss:0.20076                                                                                         \n",
      "[58]\tvalidation_0-logloss:0.04721\tvalidation_1-logloss:0.20113                                                                                         \n",
      "[59]\tvalidation_0-logloss:0.04613\tvalidation_1-logloss:0.20130                                                                                         \n",
      "[60]\tvalidation_0-logloss:0.04523\tvalidation_1-logloss:0.20157                                                                                         \n",
      "[61]\tvalidation_0-logloss:0.04428\tvalidation_1-logloss:0.20098                                                                                         \n",
      "[62]\tvalidation_0-logloss:0.04240\tvalidation_1-logloss:0.20053                                                                                         \n",
      "[63]\tvalidation_0-logloss:0.04068\tvalidation_1-logloss:0.20027                                                                                         \n",
      "[64]\tvalidation_0-logloss:0.04006\tvalidation_1-logloss:0.20032                                                                                         \n",
      "[65]\tvalidation_0-logloss:0.03930\tvalidation_1-logloss:0.19997                                                                                         \n",
      "[66]\tvalidation_0-logloss:0.03845\tvalidation_1-logloss:0.19909                                                                                         \n",
      "[67]\tvalidation_0-logloss:0.03746\tvalidation_1-logloss:0.19981                                                                                         \n",
      "[68]\tvalidation_0-logloss:0.03678\tvalidation_1-logloss:0.19845                                                                                         \n",
      "[69]\tvalidation_0-logloss:0.03572\tvalidation_1-logloss:0.19945                                                                                         \n",
      "[70]\tvalidation_0-logloss:0.03480\tvalidation_1-logloss:0.19990                                                                                         \n",
      "[71]\tvalidation_0-logloss:0.03382\tvalidation_1-logloss:0.19763                                                                                         \n",
      "[72]\tvalidation_0-logloss:0.03310\tvalidation_1-logloss:0.19615                                                                                         \n",
      "[73]\tvalidation_0-logloss:0.03182\tvalidation_1-logloss:0.19565                                                                                         \n",
      "[74]\tvalidation_0-logloss:0.03110\tvalidation_1-logloss:0.19578                                                                                         \n",
      "[75]\tvalidation_0-logloss:0.03025\tvalidation_1-logloss:0.19644                                                                                         \n",
      "[76]\tvalidation_0-logloss:0.02939\tvalidation_1-logloss:0.19782                                                                                         \n",
      "[77]\tvalidation_0-logloss:0.02866\tvalidation_1-logloss:0.19620                                                                                         \n",
      "[78]\tvalidation_0-logloss:0.02774\tvalidation_1-logloss:0.19300                                                                                         \n",
      "[79]\tvalidation_0-logloss:0.02692\tvalidation_1-logloss:0.19370                                                                                         \n",
      "[80]\tvalidation_0-logloss:0.02628\tvalidation_1-logloss:0.19427                                                                                         \n",
      "[81]\tvalidation_0-logloss:0.02588\tvalidation_1-logloss:0.19369                                                                                         \n",
      "[82]\tvalidation_0-logloss:0.02539\tvalidation_1-logloss:0.19388                                                                                         \n",
      "[83]\tvalidation_0-logloss:0.02474\tvalidation_1-logloss:0.19268                                                                                         \n",
      "[84]\tvalidation_0-logloss:0.02423\tvalidation_1-logloss:0.19056                                                                                         \n",
      "[85]\tvalidation_0-logloss:0.02359\tvalidation_1-logloss:0.19006                                                                                         \n",
      "[86]\tvalidation_0-logloss:0.02295\tvalidation_1-logloss:0.19153                                                                                         \n",
      "[87]\tvalidation_0-logloss:0.02253\tvalidation_1-logloss:0.19304                                                                                         \n",
      "[88]\tvalidation_0-logloss:0.02202\tvalidation_1-logloss:0.19198                                                                                         \n",
      "[89]\tvalidation_0-logloss:0.02140\tvalidation_1-logloss:0.19000                                                                                         \n",
      "[90]\tvalidation_0-logloss:0.02077\tvalidation_1-logloss:0.18994                                                                                         \n",
      "[91]\tvalidation_0-logloss:0.02031\tvalidation_1-logloss:0.18920                                                                                         \n",
      "[92]\tvalidation_0-logloss:0.01996\tvalidation_1-logloss:0.18873                                                                                         \n",
      "[93]\tvalidation_0-logloss:0.01947\tvalidation_1-logloss:0.18911                                                                                         \n",
      "[94]\tvalidation_0-logloss:0.01921\tvalidation_1-logloss:0.18847                                                                                         \n",
      "[95]\tvalidation_0-logloss:0.01864\tvalidation_1-logloss:0.18613                                                                                         \n",
      "[96]\tvalidation_0-logloss:0.01836\tvalidation_1-logloss:0.18653                                                                                         \n",
      "[97]\tvalidation_0-logloss:0.01806\tvalidation_1-logloss:0.18770                                                                                         \n",
      "[98]\tvalidation_0-logloss:0.01767\tvalidation_1-logloss:0.18921                                                                                         \n"
     ]
    },
    {
     "name": "stdout",
     "output_type": "stream",
     "text": [
      "[99]\tvalidation_0-logloss:0.01725\tvalidation_1-logloss:0.18895                                                                                         \n",
      "[100]\tvalidation_0-logloss:0.01687\tvalidation_1-logloss:0.18982                                                                                        \n",
      "[101]\tvalidation_0-logloss:0.01654\tvalidation_1-logloss:0.19026                                                                                        \n",
      "[102]\tvalidation_0-logloss:0.01617\tvalidation_1-logloss:0.19090                                                                                        \n",
      "[103]\tvalidation_0-logloss:0.01564\tvalidation_1-logloss:0.19182                                                                                        \n",
      "[104]\tvalidation_0-logloss:0.01519\tvalidation_1-logloss:0.19173                                                                                        \n",
      "[105]\tvalidation_0-logloss:0.01492\tvalidation_1-logloss:0.19137                                                                                        \n",
      "[106]\tvalidation_0-logloss:0.01478\tvalidation_1-logloss:0.19301                                                                                        \n",
      "[107]\tvalidation_0-logloss:0.01443\tvalidation_1-logloss:0.19332                                                                                        \n",
      "[108]\tvalidation_0-logloss:0.01411\tvalidation_1-logloss:0.19374                                                                                        \n",
      "[109]\tvalidation_0-logloss:0.01382\tvalidation_1-logloss:0.19448                                                                                        \n",
      "[110]\tvalidation_0-logloss:0.01363\tvalidation_1-logloss:0.19516                                                                                        \n",
      "[111]\tvalidation_0-logloss:0.01343\tvalidation_1-logloss:0.19465                                                                                        \n",
      "[112]\tvalidation_0-logloss:0.01308\tvalidation_1-logloss:0.19420                                                                                        \n",
      "[113]\tvalidation_0-logloss:0.01290\tvalidation_1-logloss:0.19352                                                                                        \n",
      "[114]\tvalidation_0-logloss:0.01259\tvalidation_1-logloss:0.19574                                                                                        \n",
      "[115]\tvalidation_0-logloss:0.01232\tvalidation_1-logloss:0.19524                                                                                        \n",
      "-0.9652156496606905                                                                                                                                    \n",
      "[0]\tvalidation_0-logloss:0.57660\tvalidation_1-logloss:0.58679                                                                                          \n",
      "[1]\tvalidation_0-logloss:0.50617\tvalidation_1-logloss:0.52511                                                                                          \n",
      "[2]\tvalidation_0-logloss:0.45366\tvalidation_1-logloss:0.48494                                                                                          \n",
      "[3]\tvalidation_0-logloss:0.41407\tvalidation_1-logloss:0.43959                                                                                          \n",
      "[4]\tvalidation_0-logloss:0.38125\tvalidation_1-logloss:0.41082                                                                                          \n",
      "[5]\tvalidation_0-logloss:0.36069\tvalidation_1-logloss:0.39154                                                                                          \n",
      "[6]\tvalidation_0-logloss:0.33932\tvalidation_1-logloss:0.37032                                                                                          \n",
      "[7]\tvalidation_0-logloss:0.32237\tvalidation_1-logloss:0.35344                                                                                          \n",
      "[8]\tvalidation_0-logloss:0.30941\tvalidation_1-logloss:0.34127                                                                                          \n",
      "[9]\tvalidation_0-logloss:0.29930\tvalidation_1-logloss:0.33384                                                                                          \n",
      "[10]\tvalidation_0-logloss:0.28609\tvalidation_1-logloss:0.32184                                                                                         \n",
      "[11]\tvalidation_0-logloss:0.27536\tvalidation_1-logloss:0.31397                                                                                         \n",
      "[12]\tvalidation_0-logloss:0.26629\tvalidation_1-logloss:0.31090                                                                                         \n",
      "[13]\tvalidation_0-logloss:0.25808\tvalidation_1-logloss:0.30375                                                                                         \n",
      "[14]\tvalidation_0-logloss:0.25040\tvalidation_1-logloss:0.29759                                                                                         \n",
      "[15]\tvalidation_0-logloss:0.24405\tvalidation_1-logloss:0.29140                                                                                         \n",
      "[16]\tvalidation_0-logloss:0.23700\tvalidation_1-logloss:0.28319                                                                                         \n",
      "[17]\tvalidation_0-logloss:0.22984\tvalidation_1-logloss:0.27749                                                                                         \n",
      "[18]\tvalidation_0-logloss:0.22390\tvalidation_1-logloss:0.27293                                                                                         \n",
      "[19]\tvalidation_0-logloss:0.21753\tvalidation_1-logloss:0.27046                                                                                         \n",
      "[20]\tvalidation_0-logloss:0.21113\tvalidation_1-logloss:0.27075                                                                                         \n",
      "[21]\tvalidation_0-logloss:0.20629\tvalidation_1-logloss:0.26722                                                                                         \n",
      "[22]\tvalidation_0-logloss:0.20132\tvalidation_1-logloss:0.26360                                                                                         \n",
      "[23]\tvalidation_0-logloss:0.19679\tvalidation_1-logloss:0.26059                                                                                         \n",
      "[24]\tvalidation_0-logloss:0.19296\tvalidation_1-logloss:0.25313                                                                                         \n",
      "[25]\tvalidation_0-logloss:0.18901\tvalidation_1-logloss:0.24864                                                                                         \n",
      "[26]\tvalidation_0-logloss:0.18567\tvalidation_1-logloss:0.24476                                                                                         \n",
      "[27]\tvalidation_0-logloss:0.18204\tvalidation_1-logloss:0.24074                                                                                         \n",
      "[28]\tvalidation_0-logloss:0.17890\tvalidation_1-logloss:0.23897                                                                                         \n",
      "[29]\tvalidation_0-logloss:0.17600\tvalidation_1-logloss:0.23506                                                                                         \n",
      "[30]\tvalidation_0-logloss:0.17273\tvalidation_1-logloss:0.23342                                                                                         \n",
      "[31]\tvalidation_0-logloss:0.16886\tvalidation_1-logloss:0.23303                                                                                         \n",
      "[32]\tvalidation_0-logloss:0.16463\tvalidation_1-logloss:0.22532                                                                                         \n",
      "[33]\tvalidation_0-logloss:0.16076\tvalidation_1-logloss:0.22572                                                                                         \n",
      "[34]\tvalidation_0-logloss:0.15762\tvalidation_1-logloss:0.22498                                                                                         \n"
     ]
    },
    {
     "name": "stdout",
     "output_type": "stream",
     "text": [
      "[35]\tvalidation_0-logloss:0.15506\tvalidation_1-logloss:0.22470                                                                                         \n",
      "[36]\tvalidation_0-logloss:0.15275\tvalidation_1-logloss:0.22415                                                                                         \n",
      "[37]\tvalidation_0-logloss:0.15091\tvalidation_1-logloss:0.22270                                                                                         \n",
      "[38]\tvalidation_0-logloss:0.14852\tvalidation_1-logloss:0.21967                                                                                         \n",
      "[39]\tvalidation_0-logloss:0.14637\tvalidation_1-logloss:0.21802                                                                                         \n",
      "[40]\tvalidation_0-logloss:0.14356\tvalidation_1-logloss:0.21970                                                                                         \n",
      "[41]\tvalidation_0-logloss:0.14162\tvalidation_1-logloss:0.21847                                                                                         \n",
      "[42]\tvalidation_0-logloss:0.13863\tvalidation_1-logloss:0.21902                                                                                         \n",
      "[43]\tvalidation_0-logloss:0.13598\tvalidation_1-logloss:0.21869                                                                                         \n",
      "[44]\tvalidation_0-logloss:0.13337\tvalidation_1-logloss:0.22012                                                                                         \n",
      "[45]\tvalidation_0-logloss:0.13019\tvalidation_1-logloss:0.22085                                                                                         \n",
      "[46]\tvalidation_0-logloss:0.12699\tvalidation_1-logloss:0.21690                                                                                         \n",
      "[47]\tvalidation_0-logloss:0.12510\tvalidation_1-logloss:0.21513                                                                                         \n",
      "[48]\tvalidation_0-logloss:0.12273\tvalidation_1-logloss:0.21504                                                                                         \n",
      "[49]\tvalidation_0-logloss:0.12097\tvalidation_1-logloss:0.21412                                                                                         \n",
      "[50]\tvalidation_0-logloss:0.11777\tvalidation_1-logloss:0.21429                                                                                         \n",
      "[51]\tvalidation_0-logloss:0.11639\tvalidation_1-logloss:0.21504                                                                                         \n",
      "[52]\tvalidation_0-logloss:0.11442\tvalidation_1-logloss:0.21390                                                                                         \n",
      "[53]\tvalidation_0-logloss:0.11230\tvalidation_1-logloss:0.21087                                                                                         \n",
      "[54]\tvalidation_0-logloss:0.10995\tvalidation_1-logloss:0.21296                                                                                         \n",
      "[55]\tvalidation_0-logloss:0.10787\tvalidation_1-logloss:0.21198                                                                                         \n",
      "[56]\tvalidation_0-logloss:0.10558\tvalidation_1-logloss:0.20919                                                                                         \n",
      "[57]\tvalidation_0-logloss:0.10323\tvalidation_1-logloss:0.20853                                                                                         \n",
      "[58]\tvalidation_0-logloss:0.10069\tvalidation_1-logloss:0.20677                                                                                         \n",
      "[59]\tvalidation_0-logloss:0.09862\tvalidation_1-logloss:0.20836                                                                                         \n",
      "[60]\tvalidation_0-logloss:0.09641\tvalidation_1-logloss:0.20888                                                                                         \n",
      "[61]\tvalidation_0-logloss:0.09427\tvalidation_1-logloss:0.21022                                                                                         \n",
      "[62]\tvalidation_0-logloss:0.09283\tvalidation_1-logloss:0.20960                                                                                         \n",
      "[63]\tvalidation_0-logloss:0.09104\tvalidation_1-logloss:0.21003                                                                                         \n",
      "[64]\tvalidation_0-logloss:0.08936\tvalidation_1-logloss:0.21002                                                                                         \n",
      "[65]\tvalidation_0-logloss:0.08784\tvalidation_1-logloss:0.20958                                                                                         \n",
      "[66]\tvalidation_0-logloss:0.08621\tvalidation_1-logloss:0.20759                                                                                         \n",
      "[67]\tvalidation_0-logloss:0.08428\tvalidation_1-logloss:0.20769                                                                                         \n",
      "[68]\tvalidation_0-logloss:0.08279\tvalidation_1-logloss:0.20710                                                                                         \n",
      "[69]\tvalidation_0-logloss:0.08091\tvalidation_1-logloss:0.20493                                                                                         \n",
      "[70]\tvalidation_0-logloss:0.07871\tvalidation_1-logloss:0.20255                                                                                         \n",
      "[71]\tvalidation_0-logloss:0.07731\tvalidation_1-logloss:0.20334                                                                                         \n",
      "[72]\tvalidation_0-logloss:0.07622\tvalidation_1-logloss:0.20543                                                                                         \n",
      "[73]\tvalidation_0-logloss:0.07493\tvalidation_1-logloss:0.20782                                                                                         \n",
      "[74]\tvalidation_0-logloss:0.07377\tvalidation_1-logloss:0.20709                                                                                         \n",
      "[75]\tvalidation_0-logloss:0.07265\tvalidation_1-logloss:0.20651                                                                                         \n",
      "[76]\tvalidation_0-logloss:0.07200\tvalidation_1-logloss:0.20720                                                                                         \n",
      "[77]\tvalidation_0-logloss:0.07117\tvalidation_1-logloss:0.20387                                                                                         \n",
      "[78]\tvalidation_0-logloss:0.07004\tvalidation_1-logloss:0.20558                                                                                         \n",
      "[79]\tvalidation_0-logloss:0.06906\tvalidation_1-logloss:0.20513                                                                                         \n",
      "[80]\tvalidation_0-logloss:0.06825\tvalidation_1-logloss:0.20353                                                                                         \n",
      "[81]\tvalidation_0-logloss:0.06697\tvalidation_1-logloss:0.20424                                                                                         \n",
      "[82]\tvalidation_0-logloss:0.06604\tvalidation_1-logloss:0.20435                                                                                         \n",
      "[83]\tvalidation_0-logloss:0.06480\tvalidation_1-logloss:0.20223                                                                                         \n",
      "[84]\tvalidation_0-logloss:0.06392\tvalidation_1-logloss:0.20154                                                                                         \n",
      "[85]\tvalidation_0-logloss:0.06292\tvalidation_1-logloss:0.20219                                                                                         \n",
      "[86]\tvalidation_0-logloss:0.06186\tvalidation_1-logloss:0.20213                                                                                         \n",
      "[87]\tvalidation_0-logloss:0.06076\tvalidation_1-logloss:0.20149                                                                                         \n"
     ]
    },
    {
     "name": "stdout",
     "output_type": "stream",
     "text": [
      "[88]\tvalidation_0-logloss:0.05989\tvalidation_1-logloss:0.20109                                                                                         \n",
      "[89]\tvalidation_0-logloss:0.05921\tvalidation_1-logloss:0.20145                                                                                         \n",
      "[90]\tvalidation_0-logloss:0.05797\tvalidation_1-logloss:0.20106                                                                                         \n",
      "[91]\tvalidation_0-logloss:0.05674\tvalidation_1-logloss:0.20202                                                                                         \n",
      "[92]\tvalidation_0-logloss:0.05593\tvalidation_1-logloss:0.20191                                                                                         \n",
      "[93]\tvalidation_0-logloss:0.05479\tvalidation_1-logloss:0.20181                                                                                         \n",
      "[94]\tvalidation_0-logloss:0.05392\tvalidation_1-logloss:0.20247                                                                                         \n",
      "[95]\tvalidation_0-logloss:0.05292\tvalidation_1-logloss:0.20292                                                                                         \n",
      "[96]\tvalidation_0-logloss:0.05181\tvalidation_1-logloss:0.20386                                                                                         \n",
      "[97]\tvalidation_0-logloss:0.05086\tvalidation_1-logloss:0.20327                                                                                         \n",
      "[98]\tvalidation_0-logloss:0.04983\tvalidation_1-logloss:0.20375                                                                                         \n",
      "[99]\tvalidation_0-logloss:0.04900\tvalidation_1-logloss:0.20242                                                                                         \n",
      "[100]\tvalidation_0-logloss:0.04830\tvalidation_1-logloss:0.20197                                                                                        \n",
      "[101]\tvalidation_0-logloss:0.04786\tvalidation_1-logloss:0.20225                                                                                        \n",
      "[102]\tvalidation_0-logloss:0.04730\tvalidation_1-logloss:0.20248                                                                                        \n",
      "[103]\tvalidation_0-logloss:0.04650\tvalidation_1-logloss:0.20252                                                                                        \n",
      "[104]\tvalidation_0-logloss:0.04568\tvalidation_1-logloss:0.20168                                                                                        \n",
      "[105]\tvalidation_0-logloss:0.04487\tvalidation_1-logloss:0.20125                                                                                        \n",
      "[106]\tvalidation_0-logloss:0.04426\tvalidation_1-logloss:0.20000                                                                                        \n",
      "[107]\tvalidation_0-logloss:0.04364\tvalidation_1-logloss:0.20198                                                                                        \n",
      "[108]\tvalidation_0-logloss:0.04315\tvalidation_1-logloss:0.20338                                                                                        \n",
      "[109]\tvalidation_0-logloss:0.04249\tvalidation_1-logloss:0.20494                                                                                        \n",
      "[110]\tvalidation_0-logloss:0.04188\tvalidation_1-logloss:0.20573                                                                                        \n",
      "[111]\tvalidation_0-logloss:0.04116\tvalidation_1-logloss:0.20449                                                                                        \n",
      "[112]\tvalidation_0-logloss:0.04070\tvalidation_1-logloss:0.20500                                                                                        \n",
      "[113]\tvalidation_0-logloss:0.04012\tvalidation_1-logloss:0.20514                                                                                        \n",
      "[114]\tvalidation_0-logloss:0.03965\tvalidation_1-logloss:0.20484                                                                                        \n",
      "[115]\tvalidation_0-logloss:0.03922\tvalidation_1-logloss:0.20481                                                                                        \n",
      "[116]\tvalidation_0-logloss:0.03866\tvalidation_1-logloss:0.20385                                                                                        \n",
      "[117]\tvalidation_0-logloss:0.03812\tvalidation_1-logloss:0.20530                                                                                        \n",
      "[118]\tvalidation_0-logloss:0.03773\tvalidation_1-logloss:0.20525                                                                                        \n",
      "[119]\tvalidation_0-logloss:0.03706\tvalidation_1-logloss:0.20453                                                                                        \n",
      "[120]\tvalidation_0-logloss:0.03648\tvalidation_1-logloss:0.20453                                                                                        \n",
      "[121]\tvalidation_0-logloss:0.03586\tvalidation_1-logloss:0.20468                                                                                        \n",
      "[122]\tvalidation_0-logloss:0.03556\tvalidation_1-logloss:0.20446                                                                                        \n",
      "[123]\tvalidation_0-logloss:0.03525\tvalidation_1-logloss:0.20428                                                                                        \n",
      "[124]\tvalidation_0-logloss:0.03465\tvalidation_1-logloss:0.20541                                                                                        \n",
      "[125]\tvalidation_0-logloss:0.03404\tvalidation_1-logloss:0.20459                                                                                        \n",
      "-0.9652155119538474                                                                                                                                    \n",
      "[0]\tvalidation_0-logloss:0.62575\tvalidation_1-logloss:0.63857                                                                                          \n",
      "[1]\tvalidation_0-logloss:0.56946\tvalidation_1-logloss:0.59640                                                                                          \n",
      "[2]\tvalidation_0-logloss:0.52000\tvalidation_1-logloss:0.55847                                                                                          \n",
      "[3]\tvalidation_0-logloss:0.47837\tvalidation_1-logloss:0.52047                                                                                          \n",
      "[4]\tvalidation_0-logloss:0.44140\tvalidation_1-logloss:0.49047                                                                                          \n",
      "[5]\tvalidation_0-logloss:0.40661\tvalidation_1-logloss:0.46339                                                                                          \n",
      "[6]\tvalidation_0-logloss:0.37572\tvalidation_1-logloss:0.44533                                                                                          \n",
      "[7]\tvalidation_0-logloss:0.35062\tvalidation_1-logloss:0.42675                                                                                          \n",
      "[8]\tvalidation_0-logloss:0.32809\tvalidation_1-logloss:0.40753                                                                                          \n",
      "[9]\tvalidation_0-logloss:0.30490\tvalidation_1-logloss:0.39034                                                                                          \n",
      "[10]\tvalidation_0-logloss:0.28770\tvalidation_1-logloss:0.37655                                                                                         \n",
      "[11]\tvalidation_0-logloss:0.27046\tvalidation_1-logloss:0.36375                                                                                         \n",
      "[12]\tvalidation_0-logloss:0.25388\tvalidation_1-logloss:0.35057                                                                                         \n",
      "[13]\tvalidation_0-logloss:0.23981\tvalidation_1-logloss:0.33880                                                                                         \n"
     ]
    },
    {
     "name": "stdout",
     "output_type": "stream",
     "text": [
      "[14]\tvalidation_0-logloss:0.22632\tvalidation_1-logloss:0.32896                                                                                         \n",
      "[15]\tvalidation_0-logloss:0.21417\tvalidation_1-logloss:0.31871                                                                                         \n",
      "[16]\tvalidation_0-logloss:0.20213\tvalidation_1-logloss:0.31005                                                                                         \n",
      "[17]\tvalidation_0-logloss:0.19238\tvalidation_1-logloss:0.30192                                                                                         \n",
      "[18]\tvalidation_0-logloss:0.18137\tvalidation_1-logloss:0.29510                                                                                         \n",
      "[19]\tvalidation_0-logloss:0.17367\tvalidation_1-logloss:0.28815                                                                                         \n",
      "[20]\tvalidation_0-logloss:0.16537\tvalidation_1-logloss:0.27986                                                                                         \n",
      "[21]\tvalidation_0-logloss:0.15703\tvalidation_1-logloss:0.27329                                                                                         \n",
      "[22]\tvalidation_0-logloss:0.14869\tvalidation_1-logloss:0.26738                                                                                         \n",
      "[23]\tvalidation_0-logloss:0.14318\tvalidation_1-logloss:0.26305                                                                                         \n",
      "[24]\tvalidation_0-logloss:0.13723\tvalidation_1-logloss:0.25935                                                                                         \n",
      "[25]\tvalidation_0-logloss:0.13029\tvalidation_1-logloss:0.25425                                                                                         \n",
      "[26]\tvalidation_0-logloss:0.12496\tvalidation_1-logloss:0.24802                                                                                         \n",
      "[27]\tvalidation_0-logloss:0.12001\tvalidation_1-logloss:0.24375                                                                                         \n",
      "[28]\tvalidation_0-logloss:0.11476\tvalidation_1-logloss:0.24060                                                                                         \n",
      "[29]\tvalidation_0-logloss:0.10905\tvalidation_1-logloss:0.23653                                                                                         \n",
      "[30]\tvalidation_0-logloss:0.10593\tvalidation_1-logloss:0.23456                                                                                         \n",
      "[31]\tvalidation_0-logloss:0.10259\tvalidation_1-logloss:0.23101                                                                                         \n",
      "[32]\tvalidation_0-logloss:0.09932\tvalidation_1-logloss:0.22745                                                                                         \n",
      "[33]\tvalidation_0-logloss:0.09610\tvalidation_1-logloss:0.22464                                                                                         \n",
      "[34]\tvalidation_0-logloss:0.09389\tvalidation_1-logloss:0.22254                                                                                         \n",
      "[35]\tvalidation_0-logloss:0.09096\tvalidation_1-logloss:0.22013                                                                                         \n",
      "[36]\tvalidation_0-logloss:0.08689\tvalidation_1-logloss:0.21844                                                                                         \n",
      "[37]\tvalidation_0-logloss:0.08441\tvalidation_1-logloss:0.21603                                                                                         \n",
      "[38]\tvalidation_0-logloss:0.08139\tvalidation_1-logloss:0.21435                                                                                         \n",
      "[39]\tvalidation_0-logloss:0.07812\tvalidation_1-logloss:0.21323                                                                                         \n",
      "[40]\tvalidation_0-logloss:0.07590\tvalidation_1-logloss:0.21161                                                                                         \n",
      "[41]\tvalidation_0-logloss:0.07417\tvalidation_1-logloss:0.20945                                                                                         \n",
      "[42]\tvalidation_0-logloss:0.07150\tvalidation_1-logloss:0.21039                                                                                         \n",
      "[43]\tvalidation_0-logloss:0.06915\tvalidation_1-logloss:0.20996                                                                                         \n",
      "[44]\tvalidation_0-logloss:0.06757\tvalidation_1-logloss:0.20984                                                                                         \n",
      "[45]\tvalidation_0-logloss:0.06535\tvalidation_1-logloss:0.20730                                                                                         \n",
      "[46]\tvalidation_0-logloss:0.06324\tvalidation_1-logloss:0.20561                                                                                         \n",
      "[47]\tvalidation_0-logloss:0.06119\tvalidation_1-logloss:0.20487                                                                                         \n",
      "[48]\tvalidation_0-logloss:0.05940\tvalidation_1-logloss:0.20509                                                                                         \n",
      "[49]\tvalidation_0-logloss:0.05824\tvalidation_1-logloss:0.20297                                                                                         \n",
      "[50]\tvalidation_0-logloss:0.05732\tvalidation_1-logloss:0.20251                                                                                         \n",
      "[51]\tvalidation_0-logloss:0.05513\tvalidation_1-logloss:0.20086                                                                                         \n",
      "[52]\tvalidation_0-logloss:0.05335\tvalidation_1-logloss:0.20189                                                                                         \n",
      "[53]\tvalidation_0-logloss:0.05216\tvalidation_1-logloss:0.20138                                                                                         \n",
      "[54]\tvalidation_0-logloss:0.05087\tvalidation_1-logloss:0.19955                                                                                         \n",
      "[55]\tvalidation_0-logloss:0.04877\tvalidation_1-logloss:0.19830                                                                                         \n",
      "[56]\tvalidation_0-logloss:0.04742\tvalidation_1-logloss:0.19710                                                                                         \n",
      "[57]\tvalidation_0-logloss:0.04598\tvalidation_1-logloss:0.19760                                                                                         \n",
      "[58]\tvalidation_0-logloss:0.04485\tvalidation_1-logloss:0.19885                                                                                         \n",
      "[59]\tvalidation_0-logloss:0.04340\tvalidation_1-logloss:0.19889                                                                                         \n",
      "[60]\tvalidation_0-logloss:0.04210\tvalidation_1-logloss:0.19863                                                                                         \n",
      "[61]\tvalidation_0-logloss:0.04118\tvalidation_1-logloss:0.19815                                                                                         \n",
      "[62]\tvalidation_0-logloss:0.03997\tvalidation_1-logloss:0.19703                                                                                         \n",
      "[63]\tvalidation_0-logloss:0.03875\tvalidation_1-logloss:0.19645                                                                                         \n",
      "[64]\tvalidation_0-logloss:0.03764\tvalidation_1-logloss:0.19543                                                                                         \n",
      "[65]\tvalidation_0-logloss:0.03700\tvalidation_1-logloss:0.19492                                                                                         \n",
      "[66]\tvalidation_0-logloss:0.03609\tvalidation_1-logloss:0.19396                                                                                         \n"
     ]
    },
    {
     "name": "stdout",
     "output_type": "stream",
     "text": [
      "[67]\tvalidation_0-logloss:0.03494\tvalidation_1-logloss:0.19238                                                                                         \n",
      "[68]\tvalidation_0-logloss:0.03378\tvalidation_1-logloss:0.19242                                                                                         \n",
      "[69]\tvalidation_0-logloss:0.03280\tvalidation_1-logloss:0.19194                                                                                         \n",
      "[70]\tvalidation_0-logloss:0.03169\tvalidation_1-logloss:0.19166                                                                                         \n",
      "[71]\tvalidation_0-logloss:0.03102\tvalidation_1-logloss:0.19162                                                                                         \n",
      "[72]\tvalidation_0-logloss:0.03005\tvalidation_1-logloss:0.19090                                                                                         \n",
      "[73]\tvalidation_0-logloss:0.02928\tvalidation_1-logloss:0.19184                                                                                         \n",
      "[74]\tvalidation_0-logloss:0.02841\tvalidation_1-logloss:0.19184                                                                                         \n",
      "[75]\tvalidation_0-logloss:0.02766\tvalidation_1-logloss:0.19216                                                                                         \n",
      "[76]\tvalidation_0-logloss:0.02717\tvalidation_1-logloss:0.19115                                                                                         \n",
      "[77]\tvalidation_0-logloss:0.02660\tvalidation_1-logloss:0.19050                                                                                         \n",
      "[78]\tvalidation_0-logloss:0.02595\tvalidation_1-logloss:0.18993                                                                                         \n",
      "[79]\tvalidation_0-logloss:0.02524\tvalidation_1-logloss:0.18900                                                                                         \n",
      "[80]\tvalidation_0-logloss:0.02463\tvalidation_1-logloss:0.18815                                                                                         \n",
      "[81]\tvalidation_0-logloss:0.02421\tvalidation_1-logloss:0.18909                                                                                         \n",
      "[82]\tvalidation_0-logloss:0.02368\tvalidation_1-logloss:0.18791                                                                                         \n",
      "[83]\tvalidation_0-logloss:0.02309\tvalidation_1-logloss:0.18723                                                                                         \n",
      "[84]\tvalidation_0-logloss:0.02263\tvalidation_1-logloss:0.18730                                                                                         \n",
      "[85]\tvalidation_0-logloss:0.02212\tvalidation_1-logloss:0.18767                                                                                         \n",
      "[86]\tvalidation_0-logloss:0.02169\tvalidation_1-logloss:0.18787                                                                                         \n",
      "[87]\tvalidation_0-logloss:0.02124\tvalidation_1-logloss:0.18653                                                                                         \n",
      "[88]\tvalidation_0-logloss:0.02083\tvalidation_1-logloss:0.18670                                                                                         \n",
      "[89]\tvalidation_0-logloss:0.02037\tvalidation_1-logloss:0.18775                                                                                         \n",
      "[90]\tvalidation_0-logloss:0.02005\tvalidation_1-logloss:0.18721                                                                                         \n",
      "[91]\tvalidation_0-logloss:0.01956\tvalidation_1-logloss:0.18746                                                                                         \n",
      "[92]\tvalidation_0-logloss:0.01924\tvalidation_1-logloss:0.18863                                                                                         \n",
      "[93]\tvalidation_0-logloss:0.01888\tvalidation_1-logloss:0.18855                                                                                         \n",
      "[94]\tvalidation_0-logloss:0.01846\tvalidation_1-logloss:0.18846                                                                                         \n",
      "[95]\tvalidation_0-logloss:0.01816\tvalidation_1-logloss:0.18851                                                                                         \n",
      "[96]\tvalidation_0-logloss:0.01785\tvalidation_1-logloss:0.18813                                                                                         \n",
      "[97]\tvalidation_0-logloss:0.01754\tvalidation_1-logloss:0.18846                                                                                         \n",
      "[98]\tvalidation_0-logloss:0.01722\tvalidation_1-logloss:0.18751                                                                                         \n",
      "[99]\tvalidation_0-logloss:0.01692\tvalidation_1-logloss:0.18699                                                                                         \n",
      "[100]\tvalidation_0-logloss:0.01669\tvalidation_1-logloss:0.18801                                                                                        \n",
      "[101]\tvalidation_0-logloss:0.01645\tvalidation_1-logloss:0.18800                                                                                        \n",
      "[102]\tvalidation_0-logloss:0.01620\tvalidation_1-logloss:0.18742                                                                                        \n",
      "[103]\tvalidation_0-logloss:0.01586\tvalidation_1-logloss:0.18761                                                                                        \n",
      "[104]\tvalidation_0-logloss:0.01554\tvalidation_1-logloss:0.18742                                                                                        \n",
      "[105]\tvalidation_0-logloss:0.01527\tvalidation_1-logloss:0.18705                                                                                        \n",
      "[106]\tvalidation_0-logloss:0.01503\tvalidation_1-logloss:0.18674                                                                                        \n",
      "[107]\tvalidation_0-logloss:0.01477\tvalidation_1-logloss:0.18645                                                                                        \n",
      "[108]\tvalidation_0-logloss:0.01450\tvalidation_1-logloss:0.18653                                                                                        \n",
      "[109]\tvalidation_0-logloss:0.01429\tvalidation_1-logloss:0.18654                                                                                        \n",
      "[110]\tvalidation_0-logloss:0.01408\tvalidation_1-logloss:0.18646                                                                                        \n",
      "[111]\tvalidation_0-logloss:0.01383\tvalidation_1-logloss:0.18665                                                                                        \n",
      "[112]\tvalidation_0-logloss:0.01361\tvalidation_1-logloss:0.18657                                                                                        \n",
      "[113]\tvalidation_0-logloss:0.01342\tvalidation_1-logloss:0.18609                                                                                        \n",
      "[114]\tvalidation_0-logloss:0.01323\tvalidation_1-logloss:0.18645                                                                                        \n",
      "[115]\tvalidation_0-logloss:0.01304\tvalidation_1-logloss:0.18612                                                                                        \n",
      "[116]\tvalidation_0-logloss:0.01285\tvalidation_1-logloss:0.18610                                                                                        \n",
      "[117]\tvalidation_0-logloss:0.01269\tvalidation_1-logloss:0.18621                                                                                        \n",
      "[118]\tvalidation_0-logloss:0.01254\tvalidation_1-logloss:0.18602                                                                                        \n",
      "[119]\tvalidation_0-logloss:0.01237\tvalidation_1-logloss:0.18629                                                                                        \n"
     ]
    },
    {
     "name": "stdout",
     "output_type": "stream",
     "text": [
      "[120]\tvalidation_0-logloss:0.01221\tvalidation_1-logloss:0.18629                                                                                        \n",
      "[121]\tvalidation_0-logloss:0.01205\tvalidation_1-logloss:0.18626                                                                                        \n",
      "[122]\tvalidation_0-logloss:0.01191\tvalidation_1-logloss:0.18653                                                                                        \n",
      "[123]\tvalidation_0-logloss:0.01175\tvalidation_1-logloss:0.18664                                                                                        \n",
      "[124]\tvalidation_0-logloss:0.01161\tvalidation_1-logloss:0.18608                                                                                        \n",
      "[125]\tvalidation_0-logloss:0.01147\tvalidation_1-logloss:0.18495                                                                                        \n",
      "[126]\tvalidation_0-logloss:0.01133\tvalidation_1-logloss:0.18512                                                                                        \n",
      "[127]\tvalidation_0-logloss:0.01119\tvalidation_1-logloss:0.18541                                                                                        \n",
      "[128]\tvalidation_0-logloss:0.01106\tvalidation_1-logloss:0.18526                                                                                        \n",
      "[129]\tvalidation_0-logloss:0.01092\tvalidation_1-logloss:0.18506                                                                                        \n",
      "[130]\tvalidation_0-logloss:0.01083\tvalidation_1-logloss:0.18513                                                                                        \n",
      "[131]\tvalidation_0-logloss:0.01072\tvalidation_1-logloss:0.18523                                                                                        \n",
      "[132]\tvalidation_0-logloss:0.01058\tvalidation_1-logloss:0.18609                                                                                        \n",
      "[133]\tvalidation_0-logloss:0.01046\tvalidation_1-logloss:0.18604                                                                                        \n",
      "[134]\tvalidation_0-logloss:0.01034\tvalidation_1-logloss:0.18629                                                                                        \n",
      "[135]\tvalidation_0-logloss:0.01021\tvalidation_1-logloss:0.18678                                                                                        \n",
      "[136]\tvalidation_0-logloss:0.01008\tvalidation_1-logloss:0.18675                                                                                        \n",
      "[137]\tvalidation_0-logloss:0.00998\tvalidation_1-logloss:0.18710                                                                                        \n",
      "[138]\tvalidation_0-logloss:0.00989\tvalidation_1-logloss:0.18622                                                                                        \n",
      "[139]\tvalidation_0-logloss:0.00978\tvalidation_1-logloss:0.18596                                                                                        \n",
      "[140]\tvalidation_0-logloss:0.00967\tvalidation_1-logloss:0.18652                                                                                        \n",
      "[141]\tvalidation_0-logloss:0.00957\tvalidation_1-logloss:0.18696                                                                                        \n",
      "[142]\tvalidation_0-logloss:0.00948\tvalidation_1-logloss:0.18661                                                                                        \n",
      "[143]\tvalidation_0-logloss:0.00937\tvalidation_1-logloss:0.18595                                                                                        \n",
      "[144]\tvalidation_0-logloss:0.00928\tvalidation_1-logloss:0.18569                                                                                        \n",
      "-0.9665082851880434                                                                                                                                    \n",
      "100%|████████████████████████████████████████████████████████████████████████████████| 5/5 [11:21<00:00, 136.28s/trial, best loss: -0.9665082851880434]\n"
     ]
    }
   ],
   "source": [
    "def xgb_score(params): #function to train and test different hyperparams\n",
    "    model = xgb.XGBClassifier(**params, eval_metric='logloss')\n",
    "    model.fit(X_train_fs, y_train, early_stopping_rounds=20,\n",
    "             eval_set=[(X_train_fs, y_train), (X_test_fs, y_test)])\n",
    "    score = -cross_val_score(model, X_train_fs, y_train, cv=10, scoring='roc_auc').mean()\n",
    "    print(score)\n",
    "    return {'loss': score, 'status': STATUS_OK}\n",
    "            \n",
    "def xgb_optimize(trials, space): #fmin is the main library function\n",
    "    best = fmin(xgb_score, space, algo=tpe.suggest, max_evals=5)\n",
    "    return best\n",
    "            \n",
    "trials = Trials() #database that store completed hyperparameters and score\n",
    "best_xgb_params = xgb_optimize(trials, hyperparam_space) #calls fmin"
   ]
  },
  {
   "cell_type": "code",
   "execution_count": 49,
   "id": "08f0f315",
   "metadata": {
    "scrolled": false
   },
   "outputs": [
    {
     "data": {
      "text/plain": [
       "{'learning_rate': 0.11, 'max_depth': 4, 'n_estimators': 73}"
      ]
     },
     "execution_count": 49,
     "metadata": {},
     "output_type": "execute_result"
    }
   ],
   "source": [
    "# best_xgb_params = {'learning_rate': 0.21, 'max_depth': 1, 'n_estimators': 392}\n",
    "best_xgb_params"
   ]
  },
  {
   "cell_type": "code",
   "execution_count": 50,
   "id": "7220bdaa",
   "metadata": {},
   "outputs": [
    {
     "data": {
      "image/png": "[encoded data removed]",
      "text/plain": [
       "<Figure size 720x432 with 1 Axes>"
      ]
     },
     "metadata": {
      "needs_background": "light"
     },
     "output_type": "display_data"
    }
   ],
   "source": [
    "xgb_model = xgb.XGBClassifier(**best_xgb_params, eval_metric='logloss')\n",
    "eval_set = [(X_train_fs, y_train), (X_test_fs, y_test)]\n",
    "\n",
    "xgb_model.fit(X_train_fs, y_train, eval_metric=[\"error\", \"logloss\"], eval_set=eval_set, verbose=False)\n",
    "\n",
    "\n",
    "results = xgb_model.evals_result()\n",
    "epochs = len(results['validation_0']['error'])\n",
    "x_axis = range(0, epochs)\n",
    "    \n",
    "fig, ax = plt.subplots(figsize=(10,6))\n",
    "ax.plot(x_axis, results['validation_0']['logloss'], label='Train')\n",
    "ax.plot(x_axis, results['validation_1']['logloss'], label='Test')\n",
    "ax.legend()\n",
    "    \n",
    "plt.ylabel('Log Loss')\n",
    "plt.title('XGBoost Log Loss')\n",
    "plt.show()"
   ]
  },
  {
   "cell_type": "code",
   "execution_count": 51,
   "id": "6d6c10c2",
   "metadata": {},
   "outputs": [
    {
     "data": {
      "image/png": "[encoded data removed]",
      "text/plain": [
       "<Figure size 720x432 with 1 Axes>"
      ]
     },
     "metadata": {
      "needs_background": "light"
     },
     "output_type": "display_data"
    }
   ],
   "source": [
    "fig, ax = plt.subplots(figsize=(10,6))\n",
    "ax.plot(x_axis, results['validation_0']['error'], label='Train')\n",
    "ax.plot(x_axis, results['validation_1']['error'], label='Test')\n",
    "ax.legend()\n",
    "    \n",
    "plt.ylabel('Classification Error')\n",
    "plt.title('XGBoost Classification Error')\n",
    "plt.show()"
   ]
  },
  {
   "cell_type": "code",
   "execution_count": 52,
   "id": "bba64222",
   "metadata": {},
   "outputs": [],
   "source": [
    "# xgb_model.save_model(\"xgb_model.txt\")"
   ]
  },
  {
   "cell_type": "markdown",
   "id": "9228fed2",
   "metadata": {},
   "source": [
    "## Testing on Output "
   ]
  },
  {
   "cell_type": "code",
   "execution_count": null,
   "id": "0e0f195d",
   "metadata": {},
   "outputs": [],
   "source": []
  },
  {
   "cell_type": "code",
   "execution_count": 53,
   "id": "0c1a6b78",
   "metadata": {},
   "outputs": [],
   "source": [
    "saved_model = xgb.Booster()\n",
    "saved_model.load_model(\"xgb_model.txt\")"
   ]
  },
  {
   "cell_type": "code",
   "execution_count": 54,
   "id": "e0d4c0d8",
   "metadata": {},
   "outputs": [],
   "source": [
    "X_test_D = xgb.DMatrix(X_test_fs)"
   ]
  },
  {
   "cell_type": "code",
   "execution_count": 55,
   "id": "12e60f61",
   "metadata": {},
   "outputs": [
    {
     "name": "stdout",
     "output_type": "stream",
     "text": [
      "F1 Score: 0.948509485094851\n",
      "[[166   7]\n",
      " [ 12 175]]\n",
      "              precision    recall  f1-score   support\n",
      "\n",
      "           0       0.93      0.96      0.95       173\n",
      "           1       0.96      0.94      0.95       187\n",
      "\n",
      "    accuracy                           0.95       360\n",
      "   macro avg       0.95      0.95      0.95       360\n",
      "weighted avg       0.95      0.95      0.95       360\n",
      "\n"
     ]
    }
   ],
   "source": [
    "y_pred = saved_model.predict(X_test_D)\n",
    "f1=f1_score(y_test, (y_pred > 0.6622))\n",
    "print('F1 Score:', f1)\n",
    "print(confusion_matrix(y_test, (y_pred > 0.6622)))\n",
    "print(classification_report(y_test, (y_pred > 0.6622)))"
   ]
  },
  {
   "cell_type": "code",
   "execution_count": 56,
   "id": "cd1df705",
   "metadata": {},
   "outputs": [
    {
     "data": {
      "image/png": "[encoded data removed]",
      "text/plain": [
       "<Figure size 432x288 with 2 Axes>"
      ]
     },
     "metadata": {
      "needs_background": "light"
     },
     "output_type": "display_data"
    }
   ],
   "source": [
    "cf_matrix = confusion_matrix(y_test, (y_pred > 0.6622))\n",
    "ax = sns.heatmap(cf_matrix/np.sum(cf_matrix), annot=True, \n",
    "            fmt='.2%', cmap='Blues')\n",
    "\n",
    "ax.set_title('Confusion Matrix XGB\\n\\n');\n",
    "ax.set_xlabel('\\nPredicted Values')\n",
    "ax.set_ylabel('Actual Values ');\n",
    "\n",
    "## Ticket labels - List must be in alphabetical order\n",
    "ax.xaxis.set_ticklabels(['False','True'])\n",
    "ax.yaxis.set_ticklabels(['False','True'])\n",
    "\n",
    "## Display the visualization of the Confusion Matrix.\n",
    "plt.show()"
   ]
  },
  {
   "cell_type": "code",
   "execution_count": 57,
   "id": "42e653b8",
   "metadata": {},
   "outputs": [
    {
     "name": "stdout",
     "output_type": "stream",
     "text": [
      "ROC AUC: 0.9862446292232079\n",
      "\n",
      "XGB Model Performance at 1% FPR:\n",
      "Threshold: 0.8086\n",
      "False Positive Rate: 0.578%\n",
      "False Negative Rate: 13.369%\n",
      "Detection Rate: 86.63101604278074%\n",
      "\n",
      "XGB Model Performance at 0.1% FPR:\n",
      "Threshold: 0.9888\n",
      "False Positive Rate: 0.000%\n",
      "False Negative Rate: 78.610%\n",
      "Detection Rate: 21.390374331550802%\n"
     ]
    }
   ],
   "source": [
    "def get_fpr(y_true, y_pred):\n",
    "    nbenign = (y_true == 0).sum()\n",
    "    nfalse = (y_pred[y_true == 0] == 1).sum()\n",
    "    return nfalse / float(nbenign)\n",
    "\n",
    "\n",
    "def find_threshold(y_true, y_pred, fpr_target):\n",
    "    thresh = 0.0\n",
    "    fpr = get_fpr(y_true, y_pred > thresh)\n",
    "    while fpr > fpr_target and thresh < 1.0:\n",
    "        thresh += 0.0001\n",
    "        fpr = get_fpr(y_true, y_pred > thresh)\n",
    "    return thresh, fpr\n",
    "\n",
    "# testdf = emberdf[emberdf[\"subset\"] == \"test\"]\n",
    "print(\"ROC AUC:\", roc_auc_score(y_test, y_pred))\n",
    "print()\n",
    "\n",
    "threshold, fpr = find_threshold(y_test, y_pred, 0.01)\n",
    "fnr = (y_pred[y_test == 1] < threshold).sum() / float((y_test == 1).sum())\n",
    "print(\"XGB Model Performance at 1% FPR:\")\n",
    "print(\"Threshold: {:.4f}\".format(threshold))\n",
    "print(\"False Positive Rate: {:.3f}%\".format(fpr * 100))\n",
    "print(\"False Negative Rate: {:.3f}%\".format(fnr * 100))\n",
    "print(\"Detection Rate: {}%\".format(100 - fnr * 100))\n",
    "print()\n",
    "\n",
    "threshold, fpr = find_threshold(y_test, y_pred, 0.001)\n",
    "fnr = (y_pred[y_test == 1] < threshold).sum() / float((y_test == 1).sum())\n",
    "print(\"XGB Model Performance at 0.1% FPR:\")\n",
    "print(\"Threshold: {:.4f}\".format(threshold))\n",
    "print(\"False Positive Rate: {:.3f}%\".format(fpr * 100))\n",
    "print(\"False Negative Rate: {:.3f}%\".format(fnr * 100))\n",
    "print(\"Detection Rate: {}%\".format(100 - fnr * 100))"
   ]
  },
  {
   "cell_type": "code",
   "execution_count": null,
   "id": "c7674e61",
   "metadata": {},
   "outputs": [],
   "source": []
  },
  {
   "cell_type": "code",
   "execution_count": null,
   "id": "5aa9c663",
   "metadata": {},
   "outputs": [],
   "source": []
  },
  {
   "cell_type": "code",
   "execution_count": null,
   "id": "e2ac3155",
   "metadata": {},
   "outputs": [],
   "source": []
  },
  {
   "cell_type": "code",
   "execution_count": null,
   "id": "097d3664",
   "metadata": {},
   "outputs": [],
   "source": []
  },
  {
   "cell_type": "code",
   "execution_count": null,
   "id": "c5443790",
   "metadata": {},
   "outputs": [],
   "source": []
  },
  {
   "cell_type": "code",
   "execution_count": 58,
   "id": "e36922ef",
   "metadata": {},
   "outputs": [
    {
     "data": {
      "image/png": "[encoded data removed]",
      "text/plain": [
       "<Figure size 576x684 with 2 Axes>"
      ]
     },
     "metadata": {
      "needs_background": "light"
     },
     "output_type": "display_data"
    }
   ],
   "source": [
    "shap_values = shap.TreeExplainer(saved_model).shap_values(X_test_fs)\n",
    "shap.summary_plot(shap_values, X_test_fs)"
   ]
  },
  {
   "cell_type": "code",
   "execution_count": 59,
   "id": "af9c75d1",
   "metadata": {},
   "outputs": [
    {
     "data": {
      "image/png": "[encoded data removed]",
      "text/plain": [
       "<Figure size 432x288 with 1 Axes>"
      ]
     },
     "metadata": {
      "needs_background": "light"
     },
     "output_type": "display_data"
    },
    {
     "data": {
      "text/plain": [
       "<Figure size 1800x864 with 0 Axes>"
      ]
     },
     "metadata": {},
     "output_type": "display_data"
    }
   ],
   "source": [
    "xgb.plot_importance(saved_model, importance_type='cover', max_num_features=20)\n",
    "plt.figure(figsize=(25, 12))\n",
    "plt.show()"
   ]
  },
  {
   "cell_type": "code",
   "execution_count": null,
   "id": "f211b88a",
   "metadata": {},
   "outputs": [],
   "source": []
  },
  {
   "cell_type": "code",
   "execution_count": null,
   "id": "77dae02a",
   "metadata": {},
   "outputs": [],
   "source": []
  },
  {
   "cell_type": "code",
   "execution_count": null,
   "id": "aa137be4",
   "metadata": {},
   "outputs": [],
   "source": []
  },
  {
   "cell_type": "code",
   "execution_count": null,
   "id": "3ef06df0",
   "metadata": {},
   "outputs": [],
   "source": []
  },
  {
   "cell_type": "markdown",
   "id": "4b06e8e7",
   "metadata": {},
   "source": [
    "## Conclusions"
   ]
  },
  {
   "cell_type": "markdown",
   "id": "02eaaccb",
   "metadata": {},
   "source": [
    "## Visualizations should include the above ROC plots, SHAP plots, as well as the built in feature importance plots."
   ]
  },
  {
   "cell_type": "code",
   "execution_count": null,
   "id": "f94ce86a",
   "metadata": {},
   "outputs": [],
   "source": []
  },
  {
   "cell_type": "code",
   "execution_count": null,
   "id": "ff3b9709",
   "metadata": {},
   "outputs": [],
   "source": []
  },
  {
   "cell_type": "code",
   "execution_count": null,
   "id": "d1f8d681",
   "metadata": {},
   "outputs": [],
   "source": []
  },
  {
   "cell_type": "code",
   "execution_count": null,
   "id": "644a06ea",
   "metadata": {},
   "outputs": [],
   "source": []
  },
  {
   "cell_type": "code",
   "execution_count": null,
   "id": "334910bf",
   "metadata": {},
   "outputs": [],
   "source": []
  },
  {
   "cell_type": "code",
   "execution_count": null,
   "id": "f8dda090",
   "metadata": {},
   "outputs": [],
   "source": []
  },
  {
   "cell_type": "markdown",
   "id": "84a47da5",
   "metadata": {},
   "source": [
    "# scrap the below in final version"
   ]
  },
  {
   "cell_type": "markdown",
   "id": "178f54a2",
   "metadata": {},
   "source": [
    "### Anomaly Detection Approach??"
   ]
  },
  {
   "cell_type": "code",
   "execution_count": 60,
   "id": "89b83f23",
   "metadata": {},
   "outputs": [
    {
     "data": {
      "text/plain": [
       "(18000, 714)"
      ]
     },
     "execution_count": 60,
     "metadata": {},
     "output_type": "execute_result"
    }
   ],
   "source": [
    "df1.shape #go back to original dataset"
   ]
  },
  {
   "cell_type": "code",
   "execution_count": 61,
   "id": "45f14f3d",
   "metadata": {},
   "outputs": [],
   "source": [
    "df1 = df1._get_numeric_data() #drop nonnumeric columns"
   ]
  },
  {
   "cell_type": "markdown",
   "id": "e77293c3",
   "metadata": {},
   "source": [
    "#### Isolation Forest"
   ]
  },
  {
   "cell_type": "markdown",
   "id": "e8ab2ea7",
   "metadata": {},
   "source": [
    "Setting contamination rate to 5% as seen in original data, using 200 estimators."
   ]
  },
  {
   "cell_type": "code",
   "execution_count": 62,
   "id": "61238ad1",
   "metadata": {},
   "outputs": [
    {
     "data": {
      "text/plain": [
       "(900, 694)"
      ]
     },
     "execution_count": 62,
     "metadata": {},
     "output_type": "execute_result"
    }
   ],
   "source": [
    "iso = IsolationForest(n_estimators=200, max_samples='auto', contamination=0.05)\n",
    "new_df = df1.drop(columns=['category'])\n",
    "iso.fit(new_df)\n",
    "new_df['anomaly_score'] = iso.predict(new_df)\n",
    "new_df[new_df['anomaly_score'] == -1].shape"
   ]
  },
  {
   "cell_type": "markdown",
   "id": "f371722c",
   "metadata": {},
   "source": [
    "As expected, found 900 \"outliers\" (in our case malware)."
   ]
  },
  {
   "cell_type": "code",
   "execution_count": 63,
   "id": "ff4126ba",
   "metadata": {},
   "outputs": [
    {
     "data": {
      "text/html": [
       "<div>\n",
       "<style scoped>\n",
       "    .dataframe tbody tr th:only-of-type {\n",
       "        vertical-align: middle;\n",
       "    }\n",
       "\n",
       "    .dataframe tbody tr th {\n",
       "        vertical-align: top;\n",
       "    }\n",
       "\n",
       "    .dataframe thead th {\n",
       "        text-align: right;\n",
       "    }\n",
       "</style>\n",
       "<table border=\"1\" class=\"dataframe\">\n",
       "  <thead>\n",
       "    <tr style=\"text-align: right;\">\n",
       "      <th></th>\n",
       "      <th>histogram_0</th>\n",
       "      <th>histogram_1</th>\n",
       "      <th>histogram_2</th>\n",
       "      <th>histogram_3</th>\n",
       "      <th>histogram_4</th>\n",
       "      <th>histogram_5</th>\n",
       "      <th>histogram_6</th>\n",
       "      <th>histogram_7</th>\n",
       "      <th>histogram_8</th>\n",
       "      <th>histogram_9</th>\n",
       "      <th>...</th>\n",
       "      <th>datadirectories_12_size</th>\n",
       "      <th>datadirectories_12_virtual_address</th>\n",
       "      <th>datadirectories_13_size</th>\n",
       "      <th>datadirectories_13_virtual_address</th>\n",
       "      <th>datadirectories_14_size</th>\n",
       "      <th>datadirectories_14_virtual_address</th>\n",
       "      <th>datadirectories_15_size</th>\n",
       "      <th>datadirectories_15_virtual_address</th>\n",
       "      <th>anomaly_score</th>\n",
       "      <th>category</th>\n",
       "    </tr>\n",
       "  </thead>\n",
       "  <tbody>\n",
       "    <tr>\n",
       "      <th>0</th>\n",
       "      <td>127242</td>\n",
       "      <td>9185</td>\n",
       "      <td>3818</td>\n",
       "      <td>3127</td>\n",
       "      <td>13300</td>\n",
       "      <td>1594</td>\n",
       "      <td>1781</td>\n",
       "      <td>1493</td>\n",
       "      <td>9938</td>\n",
       "      <td>1006</td>\n",
       "      <td>...</td>\n",
       "      <td>620</td>\n",
       "      <td>11711244</td>\n",
       "      <td>0</td>\n",
       "      <td>0</td>\n",
       "      <td>0</td>\n",
       "      <td>0</td>\n",
       "      <td>0</td>\n",
       "      <td>0</td>\n",
       "      <td>1</td>\n",
       "      <td>0</td>\n",
       "    </tr>\n",
       "    <tr>\n",
       "      <th>1</th>\n",
       "      <td>36152</td>\n",
       "      <td>2617</td>\n",
       "      <td>4120</td>\n",
       "      <td>876</td>\n",
       "      <td>1711</td>\n",
       "      <td>755</td>\n",
       "      <td>672</td>\n",
       "      <td>521</td>\n",
       "      <td>2278</td>\n",
       "      <td>325</td>\n",
       "      <td>...</td>\n",
       "      <td>340</td>\n",
       "      <td>131072</td>\n",
       "      <td>0</td>\n",
       "      <td>0</td>\n",
       "      <td>0</td>\n",
       "      <td>0</td>\n",
       "      <td>0</td>\n",
       "      <td>0</td>\n",
       "      <td>1</td>\n",
       "      <td>0</td>\n",
       "    </tr>\n",
       "    <tr>\n",
       "      <th>2</th>\n",
       "      <td>39986</td>\n",
       "      <td>7112</td>\n",
       "      <td>7953</td>\n",
       "      <td>6604</td>\n",
       "      <td>6542</td>\n",
       "      <td>6441</td>\n",
       "      <td>5869</td>\n",
       "      <td>6422</td>\n",
       "      <td>6224</td>\n",
       "      <td>6017</td>\n",
       "      <td>...</td>\n",
       "      <td>588</td>\n",
       "      <td>123728</td>\n",
       "      <td>0</td>\n",
       "      <td>0</td>\n",
       "      <td>0</td>\n",
       "      <td>0</td>\n",
       "      <td>0</td>\n",
       "      <td>0</td>\n",
       "      <td>1</td>\n",
       "      <td>0</td>\n",
       "    </tr>\n",
       "    <tr>\n",
       "      <th>3</th>\n",
       "      <td>253873</td>\n",
       "      <td>32714</td>\n",
       "      <td>22629</td>\n",
       "      <td>17500</td>\n",
       "      <td>15355</td>\n",
       "      <td>6691</td>\n",
       "      <td>10881</td>\n",
       "      <td>4258</td>\n",
       "      <td>11992</td>\n",
       "      <td>3513</td>\n",
       "      <td>...</td>\n",
       "      <td>216</td>\n",
       "      <td>282920</td>\n",
       "      <td>0</td>\n",
       "      <td>0</td>\n",
       "      <td>0</td>\n",
       "      <td>0</td>\n",
       "      <td>0</td>\n",
       "      <td>0</td>\n",
       "      <td>1</td>\n",
       "      <td>0</td>\n",
       "    </tr>\n",
       "    <tr>\n",
       "      <th>4</th>\n",
       "      <td>12464</td>\n",
       "      <td>1020</td>\n",
       "      <td>502</td>\n",
       "      <td>264</td>\n",
       "      <td>1918</td>\n",
       "      <td>218</td>\n",
       "      <td>262</td>\n",
       "      <td>91</td>\n",
       "      <td>846</td>\n",
       "      <td>78</td>\n",
       "      <td>...</td>\n",
       "      <td>0</td>\n",
       "      <td>0</td>\n",
       "      <td>0</td>\n",
       "      <td>0</td>\n",
       "      <td>0</td>\n",
       "      <td>0</td>\n",
       "      <td>0</td>\n",
       "      <td>0</td>\n",
       "      <td>1</td>\n",
       "      <td>0</td>\n",
       "    </tr>\n",
       "    <tr>\n",
       "      <th>5</th>\n",
       "      <td>17889</td>\n",
       "      <td>1281</td>\n",
       "      <td>868</td>\n",
       "      <td>642</td>\n",
       "      <td>914</td>\n",
       "      <td>138</td>\n",
       "      <td>311</td>\n",
       "      <td>148</td>\n",
       "      <td>433</td>\n",
       "      <td>82</td>\n",
       "      <td>...</td>\n",
       "      <td>0</td>\n",
       "      <td>0</td>\n",
       "      <td>0</td>\n",
       "      <td>0</td>\n",
       "      <td>0</td>\n",
       "      <td>0</td>\n",
       "      <td>0</td>\n",
       "      <td>0</td>\n",
       "      <td>1</td>\n",
       "      <td>0</td>\n",
       "    </tr>\n",
       "    <tr>\n",
       "      <th>6</th>\n",
       "      <td>224255</td>\n",
       "      <td>28215</td>\n",
       "      <td>12691</td>\n",
       "      <td>13046</td>\n",
       "      <td>21264</td>\n",
       "      <td>4115</td>\n",
       "      <td>3790</td>\n",
       "      <td>3590</td>\n",
       "      <td>11766</td>\n",
       "      <td>1889</td>\n",
       "      <td>...</td>\n",
       "      <td>408</td>\n",
       "      <td>1188328</td>\n",
       "      <td>0</td>\n",
       "      <td>0</td>\n",
       "      <td>0</td>\n",
       "      <td>0</td>\n",
       "      <td>0</td>\n",
       "      <td>0</td>\n",
       "      <td>1</td>\n",
       "      <td>0</td>\n",
       "    </tr>\n",
       "    <tr>\n",
       "      <th>7</th>\n",
       "      <td>14195</td>\n",
       "      <td>1054</td>\n",
       "      <td>778</td>\n",
       "      <td>1068</td>\n",
       "      <td>291</td>\n",
       "      <td>653</td>\n",
       "      <td>251</td>\n",
       "      <td>249</td>\n",
       "      <td>338</td>\n",
       "      <td>164</td>\n",
       "      <td>...</td>\n",
       "      <td>0</td>\n",
       "      <td>0</td>\n",
       "      <td>0</td>\n",
       "      <td>0</td>\n",
       "      <td>0</td>\n",
       "      <td>0</td>\n",
       "      <td>0</td>\n",
       "      <td>0</td>\n",
       "      <td>1</td>\n",
       "      <td>0</td>\n",
       "    </tr>\n",
       "    <tr>\n",
       "      <th>8</th>\n",
       "      <td>48208</td>\n",
       "      <td>3288</td>\n",
       "      <td>1441</td>\n",
       "      <td>2611</td>\n",
       "      <td>4938</td>\n",
       "      <td>313</td>\n",
       "      <td>266</td>\n",
       "      <td>635</td>\n",
       "      <td>2104</td>\n",
       "      <td>231</td>\n",
       "      <td>...</td>\n",
       "      <td>1284</td>\n",
       "      <td>230880</td>\n",
       "      <td>0</td>\n",
       "      <td>0</td>\n",
       "      <td>0</td>\n",
       "      <td>0</td>\n",
       "      <td>0</td>\n",
       "      <td>0</td>\n",
       "      <td>1</td>\n",
       "      <td>0</td>\n",
       "    </tr>\n",
       "    <tr>\n",
       "      <th>9</th>\n",
       "      <td>370224</td>\n",
       "      <td>37570</td>\n",
       "      <td>24575</td>\n",
       "      <td>18127</td>\n",
       "      <td>40687</td>\n",
       "      <td>15614</td>\n",
       "      <td>12405</td>\n",
       "      <td>11777</td>\n",
       "      <td>24099</td>\n",
       "      <td>5331</td>\n",
       "      <td>...</td>\n",
       "      <td>0</td>\n",
       "      <td>0</td>\n",
       "      <td>0</td>\n",
       "      <td>0</td>\n",
       "      <td>0</td>\n",
       "      <td>0</td>\n",
       "      <td>0</td>\n",
       "      <td>0</td>\n",
       "      <td>1</td>\n",
       "      <td>0</td>\n",
       "    </tr>\n",
       "  </tbody>\n",
       "</table>\n",
       "<p>10 rows × 695 columns</p>\n",
       "</div>"
      ],
      "text/plain": [
       "   histogram_0  histogram_1  histogram_2  histogram_3  histogram_4  \\\n",
       "0       127242         9185         3818         3127        13300   \n",
       "1        36152         2617         4120          876         1711   \n",
       "2        39986         7112         7953         6604         6542   \n",
       "3       253873        32714        22629        17500        15355   \n",
       "4        12464         1020          502          264         1918   \n",
       "5        17889         1281          868          642          914   \n",
       "6       224255        28215        12691        13046        21264   \n",
       "7        14195         1054          778         1068          291   \n",
       "8        48208         3288         1441         2611         4938   \n",
       "9       370224        37570        24575        18127        40687   \n",
       "\n",
       "   histogram_5  histogram_6  histogram_7  histogram_8  histogram_9  ...  \\\n",
       "0         1594         1781         1493         9938         1006  ...   \n",
       "1          755          672          521         2278          325  ...   \n",
       "2         6441         5869         6422         6224         6017  ...   \n",
       "3         6691        10881         4258        11992         3513  ...   \n",
       "4          218          262           91          846           78  ...   \n",
       "5          138          311          148          433           82  ...   \n",
       "6         4115         3790         3590        11766         1889  ...   \n",
       "7          653          251          249          338          164  ...   \n",
       "8          313          266          635         2104          231  ...   \n",
       "9        15614        12405        11777        24099         5331  ...   \n",
       "\n",
       "   datadirectories_12_size  datadirectories_12_virtual_address  \\\n",
       "0                      620                            11711244   \n",
       "1                      340                              131072   \n",
       "2                      588                              123728   \n",
       "3                      216                              282920   \n",
       "4                        0                                   0   \n",
       "5                        0                                   0   \n",
       "6                      408                             1188328   \n",
       "7                        0                                   0   \n",
       "8                     1284                              230880   \n",
       "9                        0                                   0   \n",
       "\n",
       "   datadirectories_13_size  datadirectories_13_virtual_address  \\\n",
       "0                        0                                   0   \n",
       "1                        0                                   0   \n",
       "2                        0                                   0   \n",
       "3                        0                                   0   \n",
       "4                        0                                   0   \n",
       "5                        0                                   0   \n",
       "6                        0                                   0   \n",
       "7                        0                                   0   \n",
       "8                        0                                   0   \n",
       "9                        0                                   0   \n",
       "\n",
       "   datadirectories_14_size  datadirectories_14_virtual_address  \\\n",
       "0                        0                                   0   \n",
       "1                        0                                   0   \n",
       "2                        0                                   0   \n",
       "3                        0                                   0   \n",
       "4                        0                                   0   \n",
       "5                        0                                   0   \n",
       "6                        0                                   0   \n",
       "7                        0                                   0   \n",
       "8                        0                                   0   \n",
       "9                        0                                   0   \n",
       "\n",
       "   datadirectories_15_size  datadirectories_15_virtual_address  anomaly_score  \\\n",
       "0                        0                                   0              1   \n",
       "1                        0                                   0              1   \n",
       "2                        0                                   0              1   \n",
       "3                        0                                   0              1   \n",
       "4                        0                                   0              1   \n",
       "5                        0                                   0              1   \n",
       "6                        0                                   0              1   \n",
       "7                        0                                   0              1   \n",
       "8                        0                                   0              1   \n",
       "9                        0                                   0              1   \n",
       "\n",
       "   category  \n",
       "0         0  \n",
       "1         0  \n",
       "2         0  \n",
       "3         0  \n",
       "4         0  \n",
       "5         0  \n",
       "6         0  \n",
       "7         0  \n",
       "8         0  \n",
       "9         0  \n",
       "\n",
       "[10 rows x 695 columns]"
      ]
     },
     "execution_count": 63,
     "metadata": {},
     "output_type": "execute_result"
    }
   ],
   "source": [
    "iso_df = pd.concat([new_df, df1['category']], axis=1) #join the anomaly prediction with og data\n",
    "iso_df.head(10)"
   ]
  },
  {
   "cell_type": "code",
   "execution_count": 64,
   "id": "db636f68",
   "metadata": {},
   "outputs": [
    {
     "data": {
      "text/plain": [
       "anomaly_score\n",
       "-1      900\n",
       " 1    17100\n",
       "dtype: int64"
      ]
     },
     "execution_count": 64,
     "metadata": {},
     "output_type": "execute_result"
    }
   ],
   "source": [
    "iso_df.groupby('anomaly_score').size() #sanity check"
   ]
  },
  {
   "cell_type": "code",
   "execution_count": 65,
   "id": "bd0f404f",
   "metadata": {},
   "outputs": [],
   "source": [
    "iso_df['anomaly'] = \"\" #add new empty column to switch out -1 to 1 and 1 to 0"
   ]
  },
  {
   "cell_type": "code",
   "execution_count": 66,
   "id": "107742d9",
   "metadata": {},
   "outputs": [],
   "source": [
    "iso_df.loc[iso_df.anomaly_score == -1, \"anomaly\"] = 1\n",
    "iso_df.loc[iso_df.anomaly_score == 1, \"anomaly\"] = 0"
   ]
  },
  {
   "cell_type": "code",
   "execution_count": 67,
   "id": "01dca1fe",
   "metadata": {},
   "outputs": [
    {
     "name": "stdout",
     "output_type": "stream",
     "text": [
      "anomaly\n",
      "0    17100\n",
      "1      900\n",
      "dtype: int64 category\n",
      "0    17100\n",
      "1      900\n",
      "dtype: int64\n"
     ]
    }
   ],
   "source": [
    "print(iso_df.groupby('anomaly').size(), iso_df.groupby('category').size())"
   ]
  },
  {
   "cell_type": "code",
   "execution_count": 68,
   "id": "64fc2bd1",
   "metadata": {},
   "outputs": [
    {
     "data": {
      "text/html": [
       "<div>\n",
       "<style scoped>\n",
       "    .dataframe tbody tr th:only-of-type {\n",
       "        vertical-align: middle;\n",
       "    }\n",
       "\n",
       "    .dataframe tbody tr th {\n",
       "        vertical-align: top;\n",
       "    }\n",
       "\n",
       "    .dataframe thead th {\n",
       "        text-align: right;\n",
       "    }\n",
       "</style>\n",
       "<table border=\"1\" class=\"dataframe\">\n",
       "  <thead>\n",
       "    <tr style=\"text-align: right;\">\n",
       "      <th></th>\n",
       "      <th>histogram_0</th>\n",
       "      <th>histogram_1</th>\n",
       "      <th>histogram_2</th>\n",
       "      <th>histogram_3</th>\n",
       "      <th>histogram_4</th>\n",
       "      <th>histogram_5</th>\n",
       "      <th>histogram_6</th>\n",
       "      <th>histogram_7</th>\n",
       "      <th>histogram_8</th>\n",
       "      <th>histogram_9</th>\n",
       "      <th>...</th>\n",
       "      <th>datadirectories_12_virtual_address</th>\n",
       "      <th>datadirectories_13_size</th>\n",
       "      <th>datadirectories_13_virtual_address</th>\n",
       "      <th>datadirectories_14_size</th>\n",
       "      <th>datadirectories_14_virtual_address</th>\n",
       "      <th>datadirectories_15_size</th>\n",
       "      <th>datadirectories_15_virtual_address</th>\n",
       "      <th>anomaly_score</th>\n",
       "      <th>category</th>\n",
       "      <th>anomaly</th>\n",
       "    </tr>\n",
       "  </thead>\n",
       "  <tbody>\n",
       "    <tr>\n",
       "      <th>0</th>\n",
       "      <td>127242</td>\n",
       "      <td>9185</td>\n",
       "      <td>3818</td>\n",
       "      <td>3127</td>\n",
       "      <td>13300</td>\n",
       "      <td>1594</td>\n",
       "      <td>1781</td>\n",
       "      <td>1493</td>\n",
       "      <td>9938</td>\n",
       "      <td>1006</td>\n",
       "      <td>...</td>\n",
       "      <td>11711244</td>\n",
       "      <td>0</td>\n",
       "      <td>0</td>\n",
       "      <td>0</td>\n",
       "      <td>0</td>\n",
       "      <td>0</td>\n",
       "      <td>0</td>\n",
       "      <td>1</td>\n",
       "      <td>0</td>\n",
       "      <td>0</td>\n",
       "    </tr>\n",
       "    <tr>\n",
       "      <th>1</th>\n",
       "      <td>36152</td>\n",
       "      <td>2617</td>\n",
       "      <td>4120</td>\n",
       "      <td>876</td>\n",
       "      <td>1711</td>\n",
       "      <td>755</td>\n",
       "      <td>672</td>\n",
       "      <td>521</td>\n",
       "      <td>2278</td>\n",
       "      <td>325</td>\n",
       "      <td>...</td>\n",
       "      <td>131072</td>\n",
       "      <td>0</td>\n",
       "      <td>0</td>\n",
       "      <td>0</td>\n",
       "      <td>0</td>\n",
       "      <td>0</td>\n",
       "      <td>0</td>\n",
       "      <td>1</td>\n",
       "      <td>0</td>\n",
       "      <td>0</td>\n",
       "    </tr>\n",
       "    <tr>\n",
       "      <th>2</th>\n",
       "      <td>39986</td>\n",
       "      <td>7112</td>\n",
       "      <td>7953</td>\n",
       "      <td>6604</td>\n",
       "      <td>6542</td>\n",
       "      <td>6441</td>\n",
       "      <td>5869</td>\n",
       "      <td>6422</td>\n",
       "      <td>6224</td>\n",
       "      <td>6017</td>\n",
       "      <td>...</td>\n",
       "      <td>123728</td>\n",
       "      <td>0</td>\n",
       "      <td>0</td>\n",
       "      <td>0</td>\n",
       "      <td>0</td>\n",
       "      <td>0</td>\n",
       "      <td>0</td>\n",
       "      <td>1</td>\n",
       "      <td>0</td>\n",
       "      <td>0</td>\n",
       "    </tr>\n",
       "    <tr>\n",
       "      <th>3</th>\n",
       "      <td>253873</td>\n",
       "      <td>32714</td>\n",
       "      <td>22629</td>\n",
       "      <td>17500</td>\n",
       "      <td>15355</td>\n",
       "      <td>6691</td>\n",
       "      <td>10881</td>\n",
       "      <td>4258</td>\n",
       "      <td>11992</td>\n",
       "      <td>3513</td>\n",
       "      <td>...</td>\n",
       "      <td>282920</td>\n",
       "      <td>0</td>\n",
       "      <td>0</td>\n",
       "      <td>0</td>\n",
       "      <td>0</td>\n",
       "      <td>0</td>\n",
       "      <td>0</td>\n",
       "      <td>1</td>\n",
       "      <td>0</td>\n",
       "      <td>0</td>\n",
       "    </tr>\n",
       "    <tr>\n",
       "      <th>4</th>\n",
       "      <td>12464</td>\n",
       "      <td>1020</td>\n",
       "      <td>502</td>\n",
       "      <td>264</td>\n",
       "      <td>1918</td>\n",
       "      <td>218</td>\n",
       "      <td>262</td>\n",
       "      <td>91</td>\n",
       "      <td>846</td>\n",
       "      <td>78</td>\n",
       "      <td>...</td>\n",
       "      <td>0</td>\n",
       "      <td>0</td>\n",
       "      <td>0</td>\n",
       "      <td>0</td>\n",
       "      <td>0</td>\n",
       "      <td>0</td>\n",
       "      <td>0</td>\n",
       "      <td>1</td>\n",
       "      <td>0</td>\n",
       "      <td>0</td>\n",
       "    </tr>\n",
       "  </tbody>\n",
       "</table>\n",
       "<p>5 rows × 696 columns</p>\n",
       "</div>"
      ],
      "text/plain": [
       "   histogram_0  histogram_1  histogram_2  histogram_3  histogram_4  \\\n",
       "0       127242         9185         3818         3127        13300   \n",
       "1        36152         2617         4120          876         1711   \n",
       "2        39986         7112         7953         6604         6542   \n",
       "3       253873        32714        22629        17500        15355   \n",
       "4        12464         1020          502          264         1918   \n",
       "\n",
       "   histogram_5  histogram_6  histogram_7  histogram_8  histogram_9  ...  \\\n",
       "0         1594         1781         1493         9938         1006  ...   \n",
       "1          755          672          521         2278          325  ...   \n",
       "2         6441         5869         6422         6224         6017  ...   \n",
       "3         6691        10881         4258        11992         3513  ...   \n",
       "4          218          262           91          846           78  ...   \n",
       "\n",
       "   datadirectories_12_virtual_address  datadirectories_13_size  \\\n",
       "0                            11711244                        0   \n",
       "1                              131072                        0   \n",
       "2                              123728                        0   \n",
       "3                              282920                        0   \n",
       "4                                   0                        0   \n",
       "\n",
       "   datadirectories_13_virtual_address  datadirectories_14_size  \\\n",
       "0                                   0                        0   \n",
       "1                                   0                        0   \n",
       "2                                   0                        0   \n",
       "3                                   0                        0   \n",
       "4                                   0                        0   \n",
       "\n",
       "   datadirectories_14_virtual_address  datadirectories_15_size  \\\n",
       "0                                   0                        0   \n",
       "1                                   0                        0   \n",
       "2                                   0                        0   \n",
       "3                                   0                        0   \n",
       "4                                   0                        0   \n",
       "\n",
       "   datadirectories_15_virtual_address  anomaly_score  category  anomaly  \n",
       "0                                   0              1         0        0  \n",
       "1                                   0              1         0        0  \n",
       "2                                   0              1         0        0  \n",
       "3                                   0              1         0        0  \n",
       "4                                   0              1         0        0  \n",
       "\n",
       "[5 rows x 696 columns]"
      ]
     },
     "execution_count": 68,
     "metadata": {},
     "output_type": "execute_result"
    }
   ],
   "source": [
    "iso_df.head(5)"
   ]
  },
  {
   "cell_type": "markdown",
   "id": "7e9ecb75",
   "metadata": {},
   "source": [
    "Calculate f1 score between new anomaly column and given category column."
   ]
  },
  {
   "cell_type": "code",
   "execution_count": 69,
   "id": "0d40528a",
   "metadata": {
    "scrolled": true
   },
   "outputs": [
    {
     "data": {
      "text/plain": [
       "0.011111111111111112"
      ]
     },
     "execution_count": 69,
     "metadata": {},
     "output_type": "execute_result"
    }
   ],
   "source": [
    "f1_score(list(iso_df['category']), list(iso_df['anomaly']))"
   ]
  },
  {
   "cell_type": "markdown",
   "id": "809e1745",
   "metadata": {},
   "source": [
    "### what happened???"
   ]
  },
  {
   "cell_type": "code",
   "execution_count": null,
   "id": "08938ea2",
   "metadata": {},
   "outputs": [],
   "source": []
  },
  {
   "cell_type": "code",
   "execution_count": null,
   "id": "6cf7ac34",
   "metadata": {},
   "outputs": [],
   "source": []
  },
  {
   "cell_type": "code",
   "execution_count": null,
   "id": "183602ee",
   "metadata": {},
   "outputs": [],
   "source": []
  }
 ],
 "metadata": {
  "hide_input": false,
  "kernelspec": {
   "display_name": "Python 3 (ipykernel)",
   "language": "python",
   "name": "python3"
  },
  "language_info": {
   "codemirror_mode": {
    "name": "ipython",
    "version": 3
   },
   "file_extension": ".py",
   "mimetype": "text/x-python",
   "name": "python",
   "nbconvert_exporter": "python",
   "pygments_lexer": "ipython3",
   "version": "3.8.12"
  },
  "nteract": {
   "version": "0.28.0"
  }
 },
 "nbformat": 4,
 "nbformat_minor": 5
}
