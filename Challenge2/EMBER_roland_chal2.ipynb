{
 "cells": [
  {
   "cell_type": "markdown",
   "id": "2d5c55cf-a708-4f9e-997f-8909e8812495",
   "metadata": {},
   "source": [
    "# HACKtheMACHINE 2021 | Track 2: Data Science, Detective Bot "
   ]
  },
  {
   "cell_type": "markdown",
   "id": "b6f54263",
   "metadata": {},
   "source": [
    "# Not the Coronavirus\n",
    "\n",
    "#### Roland Chin, Lino Valdavinos"
   ]
  },
  {
   "cell_type": "markdown",
   "id": "318a291c-0e21-46db-8c97-7bd00397e130",
   "metadata": {},
   "source": [
    "The following data dictionary describes the columns or fields of the data set and a description of the objects. This information with more detail can also be found in the `EMBER` documentation of the `features.py` file at: https://github.com/elastic/ember/blob/master/ember/features.py "
   ]
  },
  {
   "cell_type": "markdown",
   "id": "939340e9-53a4-48cc-a9ab-1d3345b2bf84",
   "metadata": {},
   "source": [
    "| Field Name | Description | \n",
    "|------------|-------------|\n",
    "| sha256 | The Secure Hash Algorithm (SHA) is a cryptographic hash function like a signature or fingerprints for a data set. Even if one symbol is changed the algorithm will produce a different hash value. The SHA256 algorithm generates a fixed size 256-bit (32-byte) hash. The SHA256 algorithm is used to ensure you acquire the same data as the original. For exmaple, if you download something you can check if the data has not changed (due to network errors or malware injection) by comparing the hashes of your file and the original.|\n",
    "| histogram | Byte histogram (count + non-normalized) over the entire binary file. The byte histogram contains 256 integer values and represent the counts of each byte value within the value. When generating model features the byte histgoram is normalized to a distribution, since file size is represented as a feature in the general file information. | \n",
    "| byteentropy | 2D byte/entropy histogram based loosely on (Saxe and Berlin, 2015). This roughly approximates the joint probability of byte value and local entropy. See Section 2.1.1 in https://arxiv.org/pdf/1508.03096.pdf for more info. The byte entropy histogram approximates the joint distriubtion p(H, X) of entropy H and byte value X. By computing the scalar entropy H for a fixed-length window and pairing it with each byte occurrence within the window. This is repeated as the window slides across the input bytes. |\n",
    "| strings | Contains simple statistics about printable strings of the following: <ul><li>`numstrings`: number of strings <li> `avlength`: average length of strings <li>`printabledist`: histogram of the printable characters within those strings <li>`printables`: distinct information from byte histogram information from the byte histogram information since its derived only from strings containing at least 5 consecutive printable characters <li>`entropy`: entropy of characters across all printable strings <li>`paths` number of strings that begin with **C:** (case insensitive) that may indicate a path <li>`urls`: the number of occurences of **http://** or **https://** (case insensitive) that may indicate a URL <li>`registry`: number of occurrences of HKEY that may indicate a registry key, <li>`MZ`: number of occurrences of the short string MZ |\n",
    "| general | Provides general file information. 0/1 indicates a binary output <ul><li>`size`: length of bytes <li>`vsize`: virtual size <li>`has_debug`: 0/1  <li>`exports`: 0/1 <li>`imports`: 0/1 <li>`has_relocations`: 0/1  <li>`has_resources`: 0/1 <li>`has_signature`: 0/1 <li>`has_tls`: 0/1 <li>`symbols`: 0/1 |\n",
    "| header | Provides header file information on machine, architecture, OS, link and other information: <ul><li> `coeff`: [ `timestamp`, `machine`,`characteristics` ] <li> `optional`: [`subsystem`, `dll_characteristics`, `magic`, `major_image_version`, `minor_linker_version`, `major_operating_system_version`, `minor_operating_system_version`, `major_subsystem_version`, `minor_subsystem_version`, `sizeof_code`, `sizeof_headers`, `sizeof_heap_commit`]\n",
    "| section | Information about section names, sizes and entropy. Uses hashing trick to summarize all this section into a feature vector. <ul><li> `imports`: [`KERNEL32.dll` : [`GetTickCount`] | \n",
    "| imports | Information about imported libraries and functions from the import address table. Note that the total number of imported functions is contained in GeneralFileInfo. |\n",
    "| exports | Information about exported functions. Note that the total number of exported functions is contained in GeneralFileInfo.|\n",
    "| datadirectories | Extracts size and virtual address of the first 15 data dictectories. |\n",
    "| label / category | Class label indicating benign `0` or malicious `1`|"
   ]
  },
  {
   "cell_type": "markdown",
   "id": "ad8ee9a6-1ccf-4c0b-af10-8cccef6982e6",
   "metadata": {},
   "source": [
    "## Load Libraries"
   ]
  },
  {
   "cell_type": "code",
   "execution_count": 1,
   "id": "87ecd2ad-01a0-4e87-a539-48d626168fd2",
   "metadata": {},
   "outputs": [],
   "source": [
    "import numpy as np #data manipulation\n",
    "import pandas as pd #data manipulation\n",
    "import sklearn as sk #modeling & metrics\n",
    "import seaborn as sns #visualizations\n",
    "import scipy as stats #visualizations\n",
    "from matplotlib import pyplot as plt #visualizations\n",
    "\n",
    "#imputation, scaling, metrics\n",
    "from sklearn import preprocessing\n",
    "from sklearn import metrics\n",
    "from sklearn.utils import resample\n",
    "from sklearn.metrics import r2_score, classification_report, f1_score, accuracy_score, confusion_matrix, precision_score, recall_score\n",
    "from sklearn.metrics import roc_curve, auc, roc_auc_score\n",
    "from sklearn.metrics import mean_squared_error\n",
    "from sklearn.metrics import mean_absolute_error\n",
    "from sklearn.model_selection import train_test_split\n",
    "from sklearn.model_selection import cross_val_score\n",
    "from sklearn.model_selection import StratifiedKFold\n",
    "from sklearn.experimental import enable_iterative_imputer\n",
    "from sklearn.impute import IterativeImputer\n",
    "from sklearn.preprocessing import StandardScaler\n",
    "from sklearn.feature_selection import SelectKBest\n",
    "from sklearn.feature_selection import f_classif\n",
    "from sklearn.linear_model import LogisticRegression\n",
    "\n",
    "#outlier classification\n",
    "from sklearn.ensemble import IsolationForest\n",
    "\n",
    "import xgboost as xgb #xgb model\n",
    "import lightgbm as lgb\n",
    "import hyperopt #hyperparameter tuning\n",
    "from hyperopt import fmin, tpe, hp, STATUS_OK, Trials, space_eval\n",
    "\n",
    "import shap #shap plot\n",
    "\n",
    "import pickle \n",
    " \n",
    "import warnings\n",
    "warnings.filterwarnings('ignore')"
   ]
  },
  {
   "cell_type": "code",
   "execution_count": 2,
   "id": "1552fb68",
   "metadata": {},
   "outputs": [],
   "source": [
    "# !pip install git+https://github.com/elastic/ember.git #only need to run this once"
   ]
  },
  {
   "cell_type": "markdown",
   "id": "bc1f7367",
   "metadata": {},
   "source": [
    "This is the wrapper class that transforms the raw excel file into numpy arrays so it becomes the same output as EMBER's code."
   ]
  },
  {
   "cell_type": "code",
   "execution_count": 3,
   "id": "affc059a",
   "metadata": {},
   "outputs": [],
   "source": [
    "import Ember_Wrapper"
   ]
  },
  {
   "cell_type": "markdown",
   "id": "c0858cab",
   "metadata": {},
   "source": [
    "These 2 modules are new for challenge 2."
   ]
  },
  {
   "cell_type": "markdown",
   "id": "3d7c1126",
   "metadata": {},
   "source": [
    "## Requirements"
   ]
  },
  {
   "cell_type": "markdown",
   "id": "7c3d12e5",
   "metadata": {},
   "source": [
    "The requirements file is this output copy pasted into a txt file."
   ]
  },
  {
   "cell_type": "code",
   "execution_count": 4,
   "id": "775ff10d",
   "metadata": {
    "scrolled": true
   },
   "outputs": [
    {
     "name": "stdout",
     "output_type": "stream",
     "text": [
      "numpy==1.21.2\n",
      "pandas==1.3.4\n",
      "sklearn==1.0.1\n",
      "seaborn==0.11.2\n",
      "scipy==1.6.0\n",
      "xgboost==1.5.0\n",
      "lightgbm==3.2.1\n",
      "hyperopt==0.2.5\n",
      "shap==0.40.0\n"
     ]
    }
   ],
   "source": [
    "print('\\n'.join(f'{m.__name__}=={m.__version__}' for m in globals().values() if getattr(m, '__version__', None)))"
   ]
  },
  {
   "cell_type": "markdown",
   "id": "b633d294-cbc2-4ffa-8474-13be9e7d6e3d",
   "metadata": {},
   "source": [
    "## Load Data"
   ]
  },
  {
   "cell_type": "code",
   "execution_count": 5,
   "id": "504a76f1-8bd6-42c7-948a-6ed3bb240fc1",
   "metadata": {},
   "outputs": [],
   "source": [
    "# Flattened EMBER Feature set\n",
    "# Easier to feed into ML models right away\n",
    "# df1 = pd.read_excel(\"flatten_train.xlsx\")"
   ]
  },
  {
   "cell_type": "markdown",
   "id": "2e4986e1",
   "metadata": {},
   "source": [
    "Use pickling so you don't have to read in the Excel file every time to resume progress."
   ]
  },
  {
   "cell_type": "code",
   "execution_count": 6,
   "id": "33b59c6a",
   "metadata": {},
   "outputs": [],
   "source": [
    "# pd.to_pickle(df1, \"./data.pkl\")"
   ]
  },
  {
   "cell_type": "markdown",
   "id": "9f238710",
   "metadata": {},
   "source": [
    "Initially df1, the flattened data, was utilized. Until the wrapper class was created in order to use more of the features from the raw data."
   ]
  },
  {
   "cell_type": "code",
   "execution_count": 7,
   "id": "3592aef0",
   "metadata": {},
   "outputs": [],
   "source": [
    "# df1 = pd.read_pickle(\"./data.pkl\")"
   ]
  },
  {
   "cell_type": "code",
   "execution_count": 8,
   "id": "e8acb0c3",
   "metadata": {},
   "outputs": [],
   "source": [
    "df2 = pd.read_excel(\"./Data/raw_train.xlsx\")"
   ]
  },
  {
   "cell_type": "markdown",
   "id": "e673d618",
   "metadata": {},
   "source": [
    "Check number of malware entries."
   ]
  },
  {
   "cell_type": "code",
   "execution_count": 9,
   "id": "32162510",
   "metadata": {},
   "outputs": [],
   "source": [
    "# sum(df1['category'])"
   ]
  },
  {
   "cell_type": "code",
   "execution_count": 10,
   "id": "2600ee08",
   "metadata": {},
   "outputs": [],
   "source": [
    "# df1.shape"
   ]
  },
  {
   "cell_type": "code",
   "execution_count": 11,
   "id": "35642d6a",
   "metadata": {},
   "outputs": [],
   "source": [
    "# 900/18000"
   ]
  },
  {
   "cell_type": "markdown",
   "id": "ad41dc03",
   "metadata": {},
   "source": [
    "5%, super imbalanced classes. XGBoost has a built in scale_pos_weight argument that could help with this.\n",
    "\n",
    "We tried it using the full dataset consisting of 18000 rows with scale_pos_weight set to 19 (17100/900) but undersampling which yielded only 1800 rows performed better."
   ]
  },
  {
   "cell_type": "markdown",
   "id": "e48c92b2",
   "metadata": {},
   "source": [
    "## EDA"
   ]
  },
  {
   "cell_type": "markdown",
   "id": "ae9423ce",
   "metadata": {},
   "source": [
    "### Visualizations Team here:\n",
    "#### Main idea: plot distributions of specific features to compare their usefulness in distinguishing between the malware and benign entries."
   ]
  },
  {
   "cell_type": "code",
   "execution_count": 12,
   "id": "82a70e3f",
   "metadata": {},
   "outputs": [],
   "source": [
    "# df1.head(5)"
   ]
  },
  {
   "cell_type": "code",
   "execution_count": 13,
   "id": "d6d5d6e2",
   "metadata": {
    "scrolled": true
   },
   "outputs": [],
   "source": [
    "# list(df1)"
   ]
  },
  {
   "cell_type": "code",
   "execution_count": 14,
   "id": "ba206cf2",
   "metadata": {},
   "outputs": [],
   "source": [
    "# malware = df1[df1['category'] == 1]\n",
    "# not_malware = df1[df1['category'] == 0]"
   ]
  },
  {
   "cell_type": "code",
   "execution_count": 15,
   "id": "58b3da2a",
   "metadata": {},
   "outputs": [],
   "source": [
    "# def dist_plotter(feature_name):\n",
    "#     '''this function takes in a specific feature and compares its distribution between both classes'''\n",
    "#     fig, ax = plt.subplots(2,1)\n",
    "# #     ax.set(ylabel='common ylabel', title=feature_name)\n",
    "#     sns.violinplot(malware[feature_name], inner=\"quartile\", ax=ax[0], color='r')\n",
    "#     sns.violinplot(not_malware[feature_name], inner=\"quartile\", ax=ax[1], color='r')"
   ]
  },
  {
   "cell_type": "code",
   "execution_count": 16,
   "id": "6298ffff",
   "metadata": {},
   "outputs": [],
   "source": [
    "# dist_plotter('byteentropy_211')"
   ]
  },
  {
   "cell_type": "markdown",
   "id": "094b3657",
   "metadata": {},
   "source": [
    "*this was preliminary, more EDA to be included in the final powerpoint was performed by other members of the team."
   ]
  },
  {
   "cell_type": "markdown",
   "id": "8956859c",
   "metadata": {},
   "source": [
    "## Undersampling"
   ]
  },
  {
   "cell_type": "markdown",
   "id": "d318fbbb",
   "metadata": {},
   "source": [
    "Since only 5% of entries are malware, we want a similar 50/50 split between malware and not malware. SMOTE was also utilized, with comparable results."
   ]
  },
  {
   "cell_type": "code",
   "execution_count": 17,
   "id": "1f70e5aa",
   "metadata": {},
   "outputs": [],
   "source": [
    "majority = df2[df2.category==0] # Majority class\n",
    "minority = df2[df2.category==1] # Minority class"
   ]
  },
  {
   "cell_type": "code",
   "execution_count": 18,
   "id": "a7f6d185",
   "metadata": {},
   "outputs": [
    {
     "data": {
      "text/plain": [
       "0    5400\n",
       "1     900\n",
       "Name: category, dtype: int64"
      ]
     },
     "execution_count": 18,
     "metadata": {},
     "output_type": "execute_result"
    }
   ],
   "source": [
    "majority_undersampled = resample(majority, replace=False, n_samples=5400) # Randomly selects 900 records from majority to match minority class size\n",
    "# New downsampled dataset\n",
    "df_undersampled = pd.concat([majority_undersampled, minority])  # Minority class + sample of 900 from majority\n",
    "df_undersampled.category.value_counts()"
   ]
  },
  {
   "cell_type": "code",
   "execution_count": 19,
   "id": "805d4307",
   "metadata": {},
   "outputs": [],
   "source": [
    "#4500 900 (6 imbalance) = 71% F1 test, 80% F1 total raw\n",
    "#5400 900 (7 imbalance) =  F1 test, F1 total raw"
   ]
  },
  {
   "cell_type": "code",
   "execution_count": 20,
   "id": "2d670a65",
   "metadata": {},
   "outputs": [
    {
     "name": "stdout",
     "output_type": "stream",
     "text": [
      "WARNING: EMBER feature version 2 were computed using lief version 0.9.0-\n",
      "WARNING:   lief version 0.11.5-551ede5 found instead. There may be slight inconsistencies\n",
      "WARNING:   in the feature calculations.\n"
     ]
    }
   ],
   "source": [
    "X, y = Ember_Wrapper.create_vectorize_features(df_undersampled)"
   ]
  },
  {
   "cell_type": "markdown",
   "id": "cabd9fe9",
   "metadata": {},
   "source": [
    "The ember wrapper creates similar vectoriized features as the output of the EMBER code, creating new X and y numpy arrays."
   ]
  },
  {
   "cell_type": "code",
   "execution_count": 21,
   "id": "0a5dbffc",
   "metadata": {},
   "outputs": [],
   "source": [
    "# X = np.load('./X_data.npy')\n",
    "# y = np.load('./y_data.npy')\n",
    "# print('X.shape', X.shape)\n",
    "# print('%Malware:', sum(y) / len(y))"
   ]
  },
  {
   "cell_type": "code",
   "execution_count": 22,
   "id": "ce7e604e",
   "metadata": {},
   "outputs": [],
   "source": [
    "# df = df_undersampled #make it a new df"
   ]
  },
  {
   "cell_type": "code",
   "execution_count": 23,
   "id": "2a95437d",
   "metadata": {},
   "outputs": [],
   "source": [
    "# X = df.drop('category', axis=1) #X is everything but the 'category' col"
   ]
  },
  {
   "cell_type": "code",
   "execution_count": 24,
   "id": "5d485926",
   "metadata": {},
   "outputs": [],
   "source": [
    "# y = df['category'] #y is just the target column"
   ]
  },
  {
   "cell_type": "code",
   "execution_count": 25,
   "id": "7897ed31",
   "metadata": {},
   "outputs": [],
   "source": [
    "# X = X._get_numeric_data() #drop all nonnumeric ones (for now?)"
   ]
  },
  {
   "cell_type": "code",
   "execution_count": 26,
   "id": "81a2c68e",
   "metadata": {},
   "outputs": [],
   "source": [
    "# print(X.shape, y.shape) #sanity check arrays"
   ]
  },
  {
   "cell_type": "markdown",
   "id": "7faad1f1",
   "metadata": {},
   "source": [
    "## Feature Selection with ANOVA"
   ]
  },
  {
   "cell_type": "markdown",
   "id": "768f7cb5",
   "metadata": {},
   "source": [
    "First perform a standard train-test split."
   ]
  },
  {
   "cell_type": "code",
   "execution_count": 27,
   "id": "80d8e989",
   "metadata": {},
   "outputs": [],
   "source": [
    "X_train, X_test, y_train, y_test = train_test_split(X, y, test_size=0.2) #train test split 80/20"
   ]
  },
  {
   "cell_type": "markdown",
   "id": "62dcf6ee",
   "metadata": {},
   "source": [
    "Ideally should select features after heatmaps/correlation plots/distributions etc but skipped for now. Due to the speed of XGBoost combined with our limited amount of time, we decided to simply utilize all features in our model.\n",
    "\n",
    "PCA can also be performed here."
   ]
  },
  {
   "cell_type": "code",
   "execution_count": 28,
   "id": "c5684df4",
   "metadata": {},
   "outputs": [
    {
     "data": {
      "text/plain": [
       "(5040, 2381)"
      ]
     },
     "execution_count": 28,
     "metadata": {},
     "output_type": "execute_result"
    }
   ],
   "source": [
    "X_train.shape"
   ]
  },
  {
   "cell_type": "code",
   "execution_count": 29,
   "id": "5c753e9e",
   "metadata": {},
   "outputs": [
    {
     "data": {
      "text/plain": [
       "(1260, 2381)"
      ]
     },
     "execution_count": 29,
     "metadata": {},
     "output_type": "execute_result"
    }
   ],
   "source": [
    "X_test.shape"
   ]
  },
  {
   "cell_type": "code",
   "execution_count": 30,
   "id": "fba455dc",
   "metadata": {},
   "outputs": [
    {
     "data": {
      "text/plain": [
       "(5040,)"
      ]
     },
     "execution_count": 30,
     "metadata": {},
     "output_type": "execute_result"
    }
   ],
   "source": [
    "y_train.shape"
   ]
  },
  {
   "cell_type": "code",
   "execution_count": 31,
   "id": "8d45447b",
   "metadata": {},
   "outputs": [
    {
     "data": {
      "text/plain": [
       "(1260,)"
      ]
     },
     "execution_count": 31,
     "metadata": {},
     "output_type": "execute_result"
    }
   ],
   "source": [
    "y_test.shape"
   ]
  },
  {
   "cell_type": "code",
   "execution_count": 32,
   "id": "6a792bd4",
   "metadata": {},
   "outputs": [],
   "source": [
    "# fs = SelectKBest(score_func=f_classif, k=600) #THIS K IS HOW MANY FEATURES YOU WANT\n",
    "# fs.fit(X_train, y_train)\n",
    "# mask = fs.get_support()\n",
    "# new_features = X_train.columns[mask]"
   ]
  },
  {
   "cell_type": "markdown",
   "id": "53482120",
   "metadata": {},
   "source": [
    "This is based on univariate feature selection, comparing ANOVA F-values (not to be confused with the F1 model performance metric). Chi-square can also be used in place of ANOVA."
   ]
  },
  {
   "cell_type": "code",
   "execution_count": 33,
   "id": "82449ae4",
   "metadata": {},
   "outputs": [],
   "source": [
    "# X_train_fs = X_train[new_features]\n",
    "# X_test_fs = X_test[new_features]"
   ]
  },
  {
   "cell_type": "markdown",
   "id": "3cac3c61",
   "metadata": {},
   "source": [
    "We initially utilized the fs (feature selected) versions of our X_train and X_test, but that was before utilizing our ember wrapper."
   ]
  },
  {
   "cell_type": "code",
   "execution_count": 34,
   "id": "dac5edd2",
   "metadata": {},
   "outputs": [],
   "source": [
    "X_train_fs = X_train\n",
    "X_test_fs = X_test"
   ]
  },
  {
   "cell_type": "code",
   "execution_count": 35,
   "id": "1378e470",
   "metadata": {
    "scrolled": false
   },
   "outputs": [
    {
     "name": "stdout",
     "output_type": "stream",
     "text": [
      "(5040, 2381) (1260, 2381)\n"
     ]
    }
   ],
   "source": [
    "print(X_train_fs.shape, X_test_fs.shape)"
   ]
  },
  {
   "cell_type": "code",
   "execution_count": 36,
   "id": "6b5a9930",
   "metadata": {
    "scrolled": false
   },
   "outputs": [
    {
     "name": "stdout",
     "output_type": "stream",
     "text": [
      "(5040,) (1260,)\n"
     ]
    }
   ],
   "source": [
    "print(y_train.shape, y_test.shape)"
   ]
  },
  {
   "cell_type": "markdown",
   "id": "7977a7bf",
   "metadata": {},
   "source": [
    "## Modeling"
   ]
  },
  {
   "cell_type": "markdown",
   "id": "94ee8fe7",
   "metadata": {},
   "source": [
    "This function basically fits a specified model and outputs it's f1_score as well as ROC curve, can add more graphs/plots to it as well."
   ]
  },
  {
   "cell_type": "code",
   "execution_count": 37,
   "id": "0c28500b",
   "metadata": {},
   "outputs": [],
   "source": [
    "# def modeler(model):\n",
    "#     model.fit(X_train_fs, y_train) #fit specified model\n",
    "#     y_pred = model.predict(X_test_fs) #predict on test set\n",
    "#     f1 = f1_score(y_test, y_pred) #get f1 score\n",
    "#     print('F1 Score:', f1)\n",
    "#     print(metrics.confusion_matrix(y_test, y_pred))\n",
    "    \n",
    "#     print('roc_auc score:',roc_auc_score(y_test, y_pred))\n",
    "#     print('precision:', precision_score(y_test, y_pred))\n",
    "#     print('recall:',recall_score(y_test, y_pred))\n",
    "    \n",
    "#     #this plots the ROC curve, play around iwth it\n",
    "#     from sklearn.metrics import roc_curve, auc\n",
    "#     fpr, tpr, thresholds = roc_curve(y_pred, y_test)\n",
    "#     roc_auc = auc(fpr, tpr)\n",
    "\n",
    "#     plt.figure()\n",
    "#     plt.plot(fpr, tpr, color='darkorange', label='ROC curve (area = %0.2f)' % roc_auc)\n",
    "#     plt.plot([0, 1], [0, 1], color='navy', linestyle='--')\n",
    "#     plt.xlim([0.0, 1.0])\n",
    "#     plt.ylim([0.0, 1.05])\n",
    "#     plt.xlabel('False Positive Rate')\n",
    "#     plt.ylabel('True Positive Rate')\n",
    "#     plt.title('Receiver operating characteristic')\n",
    "#     plt.legend(loc=\"lower right\")\n",
    "#     plt.show()"
   ]
  },
  {
   "cell_type": "code",
   "execution_count": 38,
   "id": "6a6991c5",
   "metadata": {},
   "outputs": [],
   "source": [
    "# lr = LogisticRegression()\n",
    "# modeler(lr)"
   ]
  },
  {
   "cell_type": "code",
   "execution_count": 39,
   "id": "d8c073fb",
   "metadata": {
    "scrolled": true
   },
   "outputs": [],
   "source": [
    "# lgbm = lgb.LGBMClassifier()\n",
    "# modeler(lgbm)"
   ]
  },
  {
   "cell_type": "code",
   "execution_count": 40,
   "id": "79c2a5aa",
   "metadata": {},
   "outputs": [],
   "source": [
    "# xgbc = xgb.XGBClassifier(eval_metric='logloss')\n",
    "# modeler(xgbc)"
   ]
  },
  {
   "cell_type": "code",
   "execution_count": 41,
   "id": "124fa26f",
   "metadata": {},
   "outputs": [],
   "source": [
    "# from sklearn.ensemble import RandomForestClassifier\n",
    "# rf = RandomForestClassifier()\n",
    "# modeler(rf)"
   ]
  },
  {
   "cell_type": "code",
   "execution_count": 42,
   "id": "acffb742",
   "metadata": {},
   "outputs": [],
   "source": [
    "# from sklearn.svm import SVC\n",
    "# svm = SVC()\n",
    "# modeler(svm)"
   ]
  },
  {
   "cell_type": "code",
   "execution_count": 43,
   "id": "c442ea2e",
   "metadata": {},
   "outputs": [],
   "source": [
    "# from sklearn.neighbors import KNeighborsClassifier\n",
    "# knn = KNeighborsClassifier()\n",
    "# modeler(knn)"
   ]
  },
  {
   "cell_type": "code",
   "execution_count": 44,
   "id": "526f394f",
   "metadata": {
    "scrolled": true
   },
   "outputs": [],
   "source": [
    "# from sklearn import tree\n",
    "# dt = tree.DecisionTreeClassifier()\n",
    "# modeler(dt)"
   ]
  },
  {
   "cell_type": "markdown",
   "id": "311b8688",
   "metadata": {},
   "source": [
    "The best models before hyperparameter optimization seem to be LGBM and XGB. Ideal ROC graph looks hugs the top left corner."
   ]
  },
  {
   "cell_type": "markdown",
   "id": "a4fa6f4e",
   "metadata": {},
   "source": [
    "## Bayesian Hyperparameter Optimization"
   ]
  },
  {
   "cell_type": "markdown",
   "id": "a23e892a",
   "metadata": {},
   "source": [
    "Hyperopt will be used to implement Bayesian Hyperparmater Optimization, which is far more efficient than random-grid search.\n",
    "\n",
    "(Scaling/normalizing is not needed for gradient boosted decision trees, thus was not performed)"
   ]
  },
  {
   "cell_type": "code",
   "execution_count": 45,
   "id": "2a8e5291",
   "metadata": {},
   "outputs": [],
   "source": [
    "#hyperparameter domain to search over\n",
    "hyperparam_space = {\n",
    "    'max_depth': hp.choice('max_depth', np.arange(1, 10, 1, dtype=int)), #larger values = overfitting\n",
    "    'n_estimators': hp.choice('n_estimators', np.arange(100, 500, 1, dtype=int)), #larger values = overfitting\n",
    "    'learning_rate': hp.quniform('learning_rate', 0, 1, 0.01) #aka eta = step size shrinkage to prevent overfitting\n",
    "#     'gamma': hp.quniform('gamma', 0, 1, 0.05) #gamma: min loss reduction to partition leaf nodes (for overfitting)\n",
    "#     'min_child_weight': hp.quniform('min_child_weight', 1, 8, 0.5),\n",
    "#     'subsample': hp.quniform('subsample', 0.5, 1, 0.05),\n",
    "}"
   ]
  },
  {
   "cell_type": "code",
   "execution_count": 46,
   "id": "a1e55c88",
   "metadata": {
    "scrolled": true
   },
   "outputs": [],
   "source": [
    "# def xgb_score(params): #function to train and test different hyperparams\n",
    "#     model = xgb.XGBClassifier(**params, eval_metric='logloss', scale_pos_weight=7)\n",
    "#     model.fit(X_train_fs, y_train, early_stopping_rounds=20,\n",
    "#              eval_set=[(X_train_fs, y_train), (X_test_fs, y_test)])\n",
    "#     score = -cross_val_score(model, X_train_fs, y_train, cv=10, scoring='roc_auc').mean()\n",
    "#     print(score)\n",
    "#     return {'loss': score, 'status': STATUS_OK}\n",
    "            \n",
    "# def xgb_optimize(trials, space): #fmin is the main library function that minimizes the 'loss function' xgb_score\n",
    "#     best = fmin(xgb_score, space, algo=tpe.suggest, max_evals=1)\n",
    "#     return best\n",
    "            \n",
    "# trials = Trials() #database that store completed hyperparameters and score\n",
    "# best_xgb_params = xgb_optimize(trials, hyperparam_space) #calls fmin"
   ]
  },
  {
   "cell_type": "code",
   "execution_count": 47,
   "id": "08f0f315",
   "metadata": {
    "scrolled": true
   },
   "outputs": [],
   "source": [
    "# best_xgb_params = {'learning_rate': 0.31, 'max_depth': 6, 'n_estimators': 31} #undersampling 4500 benign scale_pos_weight = 6\n",
    "# best_xgb_params = {'learning_rate': 0.59, 'max_depth': 8, 'n_estimators': 362} #undersampling 5400 benign scale_pos_weight = 7\n",
    "\n",
    "best_xgb_params = {'learning_rate': 0.59, 'max_depth': 8, 'n_estimators': 362}"
   ]
  },
  {
   "cell_type": "markdown",
   "id": "729fa411",
   "metadata": {},
   "source": [
    "The above are our best hyperparameters, with the average 10 fold cross validation being minimized."
   ]
  },
  {
   "cell_type": "markdown",
   "id": "c8857828",
   "metadata": {},
   "source": [
    "## Tuned Model"
   ]
  },
  {
   "cell_type": "code",
   "execution_count": 48,
   "id": "5132c09c",
   "metadata": {},
   "outputs": [
    {
     "data": {
      "text/plain": [
       "array([0, 0, 0, ..., 0, 0, 0])"
      ]
     },
     "execution_count": 48,
     "metadata": {},
     "output_type": "execute_result"
    }
   ],
   "source": [
    "y_train"
   ]
  },
  {
   "cell_type": "code",
   "execution_count": 49,
   "id": "7220bdaa",
   "metadata": {},
   "outputs": [
    {
     "data": {
      "image/png": "[encoded data removed]",
      "text/plain": [
       "<Figure size 720x432 with 1 Axes>"
      ]
     },
     "metadata": {
      "needs_background": "light"
     },
     "output_type": "display_data"
    }
   ],
   "source": [
    "xgb_model = xgb.XGBClassifier(**best_xgb_params, eval_metric='logloss', scale_pos_weight=6) #utilize these best params\n",
    "eval_set = [(X_train_fs, y_train), (X_test_fs, y_test)] #have an eval set to keep track of learning rate over time\n",
    "xgb_model.fit(X_train_fs, y_train, eval_metric=[\"error\", \"logloss\"], eval_set=eval_set, verbose=False) #fit the best model\n",
    "\n",
    "results = xgb_model.evals_result()\n",
    "epochs = len(results['validation_0']['error'])\n",
    "x_axis = range(0, epochs)\n",
    "    \n",
    "fig, ax = plt.subplots(figsize=(10,6))\n",
    "ax.plot(x_axis, results['validation_0']['logloss'], label='Train')\n",
    "ax.plot(x_axis, results['validation_1']['logloss'], label='Test')\n",
    "ax.legend()\n",
    "    \n",
    "plt.ylabel('Log Loss')\n",
    "plt.title('XGBoost Log Loss')\n",
    "plt.show()"
   ]
  },
  {
   "cell_type": "code",
   "execution_count": 50,
   "id": "6d6c10c2",
   "metadata": {},
   "outputs": [
    {
     "data": {
      "image/png": "[encoded data removed]",
      "text/plain": [
       "<Figure size 720x432 with 1 Axes>"
      ]
     },
     "metadata": {
      "needs_background": "light"
     },
     "output_type": "display_data"
    }
   ],
   "source": [
    "#similar as above, but with classification error now\n",
    "fig, ax = plt.subplots(figsize=(10,6))\n",
    "ax.plot(x_axis, results['validation_0']['error'], label='Train')\n",
    "ax.plot(x_axis, results['validation_1']['error'], label='Test')\n",
    "ax.legend()\n",
    "    \n",
    "plt.ylabel('Classification Error')\n",
    "plt.title('XGBoost Classification Error')\n",
    "plt.show()"
   ]
  },
  {
   "cell_type": "markdown",
   "id": "d90859f0",
   "metadata": {},
   "source": [
    "## Save Model"
   ]
  },
  {
   "cell_type": "code",
   "execution_count": 51,
   "id": "bba64222",
   "metadata": {},
   "outputs": [],
   "source": [
    "# xgb_model.save_model(\"xgb_model.txt\")\n",
    "pickle.dump(xgb_model, open('xgb_model.pkl', \"wb\"))\n"
   ]
  },
  {
   "cell_type": "markdown",
   "id": "9228fed2",
   "metadata": {},
   "source": [
    "## Testing on Output "
   ]
  },
  {
   "cell_type": "markdown",
   "id": "ebc7670f",
   "metadata": {},
   "source": [
    "First load in the saved model."
   ]
  },
  {
   "cell_type": "code",
   "execution_count": 52,
   "id": "0c1a6b78",
   "metadata": {},
   "outputs": [],
   "source": [
    "# saved_model = xgb.Booster()\n",
    "# saved_model.load_model(\"xgb_model.txt\")\n",
    "\n",
    "saved_model = pickle.load(open('xgb_model.pkl', \"rb\"))\n",
    "# saved_model = xgb_model"
   ]
  },
  {
   "cell_type": "markdown",
   "id": "e8de2e67",
   "metadata": {},
   "source": [
    "XGBoost for some reason requires the input to be in a DMatrix format now, despite not needing the same format during training."
   ]
  },
  {
   "cell_type": "code",
   "execution_count": 53,
   "id": "e0d4c0d8",
   "metadata": {},
   "outputs": [],
   "source": [
    "# X_test_D = xgb.DMatrix(X_test_fs)"
   ]
  },
  {
   "cell_type": "markdown",
   "id": "a3fde0f7",
   "metadata": {},
   "source": [
    "The threshold score was calculated in a below cell, using code from the EMBER repository.\n",
    "\n",
    "We decided to use a threshold that gave a lower F1 score in order to minimize our false negative rate, as this would mean allowing in malware which is dangerous."
   ]
  },
  {
   "cell_type": "code",
   "execution_count": 54,
   "id": "4d35f087",
   "metadata": {},
   "outputs": [],
   "source": [
    "# 0.0872"
   ]
  },
  {
   "cell_type": "code",
   "execution_count": 55,
   "id": "8f40b5d4",
   "metadata": {},
   "outputs": [],
   "source": [
    "y_pred = saved_model.predict(X_test_fs)"
   ]
  },
  {
   "cell_type": "code",
   "execution_count": 56,
   "id": "acce5531",
   "metadata": {},
   "outputs": [],
   "source": [
    "def our_threshold(y_true, y_pred):\n",
    "    thresh = 0.0\n",
    "    best_t = 0.0\n",
    "    min_f1 = 0.0\n",
    "    while thresh < 1.0:\n",
    "        thresh += 0.001\n",
    "        f1 = f1_score(y_true, (y_pred > thresh))\n",
    "        if f1 > min_f1:\n",
    "            min_f1 = f1\n",
    "            best_t = thresh\n",
    "    return best_t, min_f1"
   ]
  },
  {
   "cell_type": "code",
   "execution_count": 57,
   "id": "f3b1a5a8",
   "metadata": {},
   "outputs": [
    {
     "data": {
      "text/plain": [
       "array([0, 0, 0, ..., 0, 0, 1])"
      ]
     },
     "execution_count": 57,
     "metadata": {},
     "output_type": "execute_result"
    }
   ],
   "source": [
    "y_pred"
   ]
  },
  {
   "cell_type": "code",
   "execution_count": 58,
   "id": "d7536693",
   "metadata": {},
   "outputs": [
    {
     "ename": "NameError",
     "evalue": "name 'real_pred' is not defined",
     "output_type": "error",
     "traceback": [
      "\u001b[0;31m---------------------------------------------------------------------------\u001b[0m",
      "\u001b[0;31mNameError\u001b[0m                                 Traceback (most recent call last)",
      "\u001b[0;32m/var/folders/wd/_ddtpqqx7rx9_kypcvd1w03m0000gn/T/ipykernel_5986/1208174715.py\u001b[0m in \u001b[0;36m<module>\u001b[0;34m\u001b[0m\n\u001b[0;32m----> 1\u001b[0;31m \u001b[0mT\u001b[0m\u001b[0;34m,\u001b[0m \u001b[0mf1\u001b[0m \u001b[0;34m=\u001b[0m \u001b[0mour_threshold\u001b[0m\u001b[0;34m(\u001b[0m\u001b[0my_test\u001b[0m\u001b[0;34m,\u001b[0m \u001b[0mreal_pred\u001b[0m\u001b[0;34m)\u001b[0m\u001b[0;34m\u001b[0m\u001b[0;34m\u001b[0m\u001b[0m\n\u001b[0m\u001b[1;32m      2\u001b[0m \u001b[0mT\u001b[0m\u001b[0;34m\u001b[0m\u001b[0;34m\u001b[0m\u001b[0m\n",
      "\u001b[0;31mNameError\u001b[0m: name 'real_pred' is not defined"
     ]
    }
   ],
   "source": [
    "# T, f1 = our_threshold(y_test, real_pred)\n",
    "# T"
   ]
  },
  {
   "cell_type": "code",
   "execution_count": null,
   "id": "d9e700b1",
   "metadata": {},
   "outputs": [],
   "source": [
    "# y_pred = saved_model.predict(X_test_D)\n",
    "# f1=f1_score(y_test, (y_pred > 0.0872))\n",
    "# print('F1 Score:', f1)\n",
    "# print(confusion_matrix(y_test, (y_pred > 0.0872)))\n",
    "# print(classification_report(y_test, (y_pred > 0.0872)))"
   ]
  },
  {
   "cell_type": "code",
   "execution_count": 60,
   "id": "12e60f61",
   "metadata": {},
   "outputs": [
    {
     "name": "stdout",
     "output_type": "stream",
     "text": [
      "F1 Score: 0.8645533141210374\n",
      "[[1063   21]\n",
      " [  26  150]]\n",
      "              precision    recall  f1-score   support\n",
      "\n",
      "           0       0.98      0.98      0.98      1084\n",
      "           1       0.88      0.85      0.86       176\n",
      "\n",
      "    accuracy                           0.96      1260\n",
      "   macro avg       0.93      0.92      0.92      1260\n",
      "weighted avg       0.96      0.96      0.96      1260\n",
      "\n"
     ]
    }
   ],
   "source": [
    "y_pred = saved_model.predict(X_test_fs)\n",
    "f1 = f1_score(y_test, y_pred)\n",
    "print('F1 Score:', f1)\n",
    "print(confusion_matrix(y_test, y_pred))\n",
    "print(classification_report(y_test, y_pred))"
   ]
  },
  {
   "cell_type": "markdown",
   "id": "93dd9365",
   "metadata": {},
   "source": [
    "As we can see, the false positive rate is approximately 5%, while the false negative rate is only 0.56%."
   ]
  },
  {
   "cell_type": "code",
   "execution_count": null,
   "id": "cd1df705",
   "metadata": {},
   "outputs": [],
   "source": [
    "cf_matrix = confusion_matrix(y_test, (y_pred > 0.0872))\n",
    "ax = sns.heatmap(cf_matrix/np.sum(cf_matrix), annot=True, \n",
    "            fmt='.2%', cmap='Blues')\n",
    "\n",
    "ax.set_title('Confusion Matrix XGB\\n\\n');\n",
    "ax.set_xlabel('\\nPredicted Values')\n",
    "ax.set_ylabel('Actual Values ');\n",
    "\n",
    "## Ticket labels - List must be in alphabetical order\n",
    "ax.xaxis.set_ticklabels(['False','True'])\n",
    "ax.yaxis.set_ticklabels(['False','True'])\n",
    "\n",
    "## Display the visualization of the Confusion Matrix.\n",
    "plt.show()"
   ]
  },
  {
   "cell_type": "markdown",
   "id": "71e09615",
   "metadata": {},
   "source": [
    "Further confirmation from the ROC curve below. "
   ]
  },
  {
   "cell_type": "code",
   "execution_count": null,
   "id": "ba1a6c8e",
   "metadata": {},
   "outputs": [],
   "source": [
    "#this plots the ROC curve\n",
    "fpr, tpr, thresholds = roc_curve(y_test, y_pred)\n",
    "roc_auc = auc(fpr, tpr)\n",
    "\n",
    "plt.figure()\n",
    "plt.plot(fpr, tpr, color='darkorange', label='ROC curve (area = %0.2f)' % roc_auc)\n",
    "plt.plot([0, 1], [0, 1], color='navy', linestyle='--')\n",
    "plt.xlim([0.0, 1.0])\n",
    "plt.ylim([0.0, 1.05])\n",
    "plt.xlabel('False Positive Rate')\n",
    "plt.ylabel('True Positive Rate')\n",
    "plt.title('Receiver Operating Characteristic - XGB')\n",
    "plt.legend(loc=\"lower right\")\n",
    "plt.show()"
   ]
  },
  {
   "cell_type": "markdown",
   "id": "d8ba65ab",
   "metadata": {},
   "source": [
    "This is the code used to calculate the threshold at various false positive rate targets."
   ]
  },
  {
   "cell_type": "code",
   "execution_count": null,
   "id": "42e653b8",
   "metadata": {},
   "outputs": [],
   "source": [
    "# def get_fpr(y_true, y_pred):\n",
    "#     nbenign = (y_true == 0).sum()\n",
    "#     nfalse = (y_pred[y_true == 0] == 1).sum()\n",
    "#     return nfalse / float(nbenign)\n",
    "\n",
    "\n",
    "# def find_threshold(y_true, y_pred, fpr_target):\n",
    "#     thresh = 0.0\n",
    "#     fpr = get_fpr(y_true, y_pred > thresh)\n",
    "#     while fpr > fpr_target and thresh < 1.0:\n",
    "#         thresh += 0.0001\n",
    "#         fpr = get_fpr(y_true, y_pred > thresh)\n",
    "#     return thresh, fpr\n",
    "\n",
    "# # testdf = emberdf[emberdf[\"subset\"] == \"test\"]\n",
    "# print(\"ROC AUC:\", roc_auc_score(y_test, y_pred))\n",
    "# print()\n",
    "\n",
    "\n",
    "# threshold, fpr = find_threshold(y_test, y_pred, 0.1)\n",
    "# fnr = (y_pred[y_test == 1] < threshold).sum() / float((y_test == 1).sum())\n",
    "# print(\"XGB Model Performance at 10% FPR:\")\n",
    "# print(\"Threshold: {:.4f}\".format(threshold))\n",
    "# print(\"False Positive Rate: {:.3f}%\".format(fpr * 100))\n",
    "# print(\"False Negative Rate: {:.3f}%\".format(fnr * 100))\n",
    "# print(\"Detection Rate: {}%\".format(100 - fnr * 100))\n",
    "# print()\n",
    "\n",
    "# threshold, fpr = find_threshold(y_test, y_pred, 0.01)\n",
    "# fnr = (y_pred[y_test == 1] < threshold).sum() / float((y_test == 1).sum())\n",
    "# print(\"XGB Model Performance at 1% FPR:\")\n",
    "# print(\"Threshold: {:.4f}\".format(threshold))\n",
    "# print(\"False Positive Rate: {:.3f}%\".format(fpr * 100))\n",
    "# print(\"False Negative Rate: {:.3f}%\".format(fnr * 100))\n",
    "# print(\"Detection Rate: {}%\".format(100 - fnr * 100))\n",
    "# print()\n",
    "\n",
    "# threshold, fpr = find_threshold(y_test, y_pred, 0.001)\n",
    "# fnr = (y_pred[y_test == 1] < threshold).sum() / float((y_test == 1).sum())\n",
    "# print(\"XGB Model Performance at 0.1% FPR:\")\n",
    "# print(\"Threshold: {:.4f}\".format(threshold))\n",
    "# print(\"False Positive Rate: {:.3f}%\".format(fpr * 100))\n",
    "# print(\"False Negative Rate: {:.3f}%\".format(fnr * 100))\n",
    "# print(\"Detection Rate: {}%\".format(100 - fnr * 100))"
   ]
  },
  {
   "cell_type": "code",
   "execution_count": null,
   "id": "f342741b",
   "metadata": {},
   "outputs": [],
   "source": []
  },
  {
   "cell_type": "code",
   "execution_count": null,
   "id": "23934b70",
   "metadata": {},
   "outputs": [],
   "source": []
  },
  {
   "cell_type": "markdown",
   "id": "c0da8775",
   "metadata": {},
   "source": [
    "## Feature Evaluation"
   ]
  },
  {
   "cell_type": "markdown",
   "id": "e1c1b728",
   "metadata": {},
   "source": [
    "Both SHAP values and XGB's built in feature importance can be utilized to further inspect how specific features impacted predictions.\n",
    "\n",
    "Currently the features are referenced by number due to how our ember wrapper flattens them, but this can be later revised to reference their actual names."
   ]
  },
  {
   "cell_type": "code",
   "execution_count": null,
   "id": "e36922ef",
   "metadata": {},
   "outputs": [],
   "source": [
    "# shap_values = shap.TreeExplainer(saved_model).shap_values(X_test_fs)\n",
    "# shap.summary_plot(shap_values, X_test_fs)"
   ]
  },
  {
   "cell_type": "code",
   "execution_count": null,
   "id": "af9c75d1",
   "metadata": {},
   "outputs": [],
   "source": [
    "# xgb.plot_importance(saved_model, importance_type='cover', max_num_features=20)\n",
    "# plt.figure(figsize=(25, 12))\n",
    "# plt.show()"
   ]
  },
  {
   "cell_type": "markdown",
   "id": "4b06e8e7",
   "metadata": {},
   "source": [
    "## Conclusions"
   ]
  },
  {
   "cell_type": "markdown",
   "id": "02eaaccb",
   "metadata": {},
   "source": [
    "## Visualizations should include the above ROC plots, SHAP plots, as well as the built in feature importance plots."
   ]
  },
  {
   "cell_type": "code",
   "execution_count": null,
   "id": "f94ce86a",
   "metadata": {},
   "outputs": [],
   "source": []
  },
  {
   "cell_type": "code",
   "execution_count": null,
   "id": "ff3b9709",
   "metadata": {},
   "outputs": [],
   "source": []
  },
  {
   "cell_type": "code",
   "execution_count": null,
   "id": "d1f8d681",
   "metadata": {},
   "outputs": [],
   "source": []
  },
  {
   "cell_type": "code",
   "execution_count": null,
   "id": "644a06ea",
   "metadata": {},
   "outputs": [],
   "source": []
  },
  {
   "cell_type": "code",
   "execution_count": null,
   "id": "334910bf",
   "metadata": {},
   "outputs": [],
   "source": []
  },
  {
   "cell_type": "code",
   "execution_count": null,
   "id": "f8dda090",
   "metadata": {},
   "outputs": [],
   "source": []
  }
 ],
 "metadata": {
  "hide_input": false,
  "kernelspec": {
   "display_name": "Python 3 (ipykernel)",
   "language": "python",
   "name": "python3"
  },
  "language_info": {
   "codemirror_mode": {
    "name": "ipython",
    "version": 3
   },
   "file_extension": ".py",
   "mimetype": "text/x-python",
   "name": "python",
   "nbconvert_exporter": "python",
   "pygments_lexer": "ipython3",
   "version": "3.8.12"
  },
  "nteract": {
   "version": "0.28.0"
  }
 },
 "nbformat": 4,
 "nbformat_minor": 5
}
