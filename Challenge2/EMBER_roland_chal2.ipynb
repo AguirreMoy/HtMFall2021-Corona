{
 "cells": [
  {
   "cell_type": "markdown",
   "id": "2d5c55cf-a708-4f9e-997f-8909e8812495",
   "metadata": {},
   "source": [
    "# HACKtheMACHINE 2021 | Track 2: Data Science, Detective Bot "
   ]
  },
  {
   "cell_type": "markdown",
   "id": "318a291c-0e21-46db-8c97-7bd00397e130",
   "metadata": {},
   "source": [
    "The following data dictionary describes the columns or fields of the data set and a description of the objects. This information with more detail can also be found in the `EMBER` documentation of the `features.py` file at: https://github.com/elastic/ember/blob/master/ember/features.py "
   ]
  },
  {
   "cell_type": "markdown",
   "id": "939340e9-53a4-48cc-a9ab-1d3345b2bf84",
   "metadata": {},
   "source": [
    "| Field Name | Description | \n",
    "|------------|-------------|\n",
    "| sha256 | The Secure Hash Algorithm (SHA) is a cryptographic hash function like a signature or fingerprints for a data set. Even if one symbol is changed the algorithm will produce a different hash value. The SHA256 algorithm generates a fixed size 256-bit (32-byte) hash. The SHA256 algorithm is used to ensure you acquire the same data as the original. For exmaple, if you download something you can check if the data has not changed (due to network errors or malware injection) by comparing the hashes of your file and the original.|\n",
    "| histogram | Byte histogram (count + non-normalized) over the entire binary file. The byte histogram contains 256 integer values and represent the counts of each byte value within the value. When generating model features the byte histgoram is normalized to a distribution, since file size is represented as a feature in the general file information. | \n",
    "| byteentropy | 2D byte/entropy histogram based loosely on (Saxe and Berlin, 2015). This roughly approximates the joint probability of byte value and local entropy. See Section 2.1.1 in https://arxiv.org/pdf/1508.03096.pdf for more info. The byte entropy histogram approximates the joint distriubtion p(H, X) of entropy H and byte value X. By computing the scalar entropy H for a fixed-length window and pairing it with each byte occurrence within the window. This is repeated as the window slides across the input bytes. |\n",
    "| strings | Contains simple statistics about printable strings of the following: <ul><li>`numstrings`: number of strings <li> `avlength`: average length of strings <li>`printabledist`: histogram of the printable characters within those strings <li>`printables`: distinct information from byte histogram information from the byte histogram information since its derived only from strings containing at least 5 consecutive printable characters <li>`entropy`: entropy of characters across all printable strings <li>`paths` number of strings that begin with **C:** (case insensitive) that may indicate a path <li>`urls`: the number of occurences of **http://** or **https://** (case insensitive) that may indicate a URL <li>`registry`: number of occurrences of HKEY that may indicate a registry key, <li>`MZ`: number of occurrences of the short string MZ |\n",
    "| general | Provides general file information. 0/1 indicates a binary output <ul><li>`size`: length of bytes <li>`vsize`: virtual size <li>`has_debug`: 0/1  <li>`exports`: 0/1 <li>`imports`: 0/1 <li>`has_relocations`: 0/1  <li>`has_resources`: 0/1 <li>`has_signature`: 0/1 <li>`has_tls`: 0/1 <li>`symbols`: 0/1 |\n",
    "| header | Provides header file information on machine, architecture, OS, link and other information: <ul><li> `coeff`: [ `timestamp`, `machine`,`characteristics` ] <li> `optional`: [`subsystem`, `dll_characteristics`, `magic`, `major_image_version`, `minor_linker_version`, `major_operating_system_version`, `minor_operating_system_version`, `major_subsystem_version`, `minor_subsystem_version`, `sizeof_code`, `sizeof_headers`, `sizeof_heap_commit`]\n",
    "| section | Information about section names, sizes and entropy. Uses hashing trick to summarize all this section into a feature vector. <ul><li> `imports`: [`KERNEL32.dll` : [`GetTickCount`] | \n",
    "| imports | Information about imported libraries and functions from the import address table. Note that the total number of imported functions is contained in GeneralFileInfo. |\n",
    "| exports | Information about exported functions. Note that the total number of exported functions is contained in GeneralFileInfo.|\n",
    "| datadirectories | Extracts size and virtual address of the first 15 data dictectories. |\n",
    "| label / category | Class label indicating benign `0` or malicious `1`|"
   ]
  },
  {
   "cell_type": "markdown",
   "id": "ad8ee9a6-1ccf-4c0b-af10-8cccef6982e6",
   "metadata": {},
   "source": [
    "## Load Libraries"
   ]
  },
  {
   "cell_type": "code",
   "execution_count": 1,
   "id": "87ecd2ad-01a0-4e87-a539-48d626168fd2",
   "metadata": {},
   "outputs": [],
   "source": [
    "import numpy as np #data manipulation\n",
    "import pandas as pd #data manipulation\n",
    "import sklearn as sk #modeling & metrics\n",
    "import seaborn as sns #visualizations\n",
    "import scipy as stats #visualizations\n",
    "from matplotlib import pyplot as plt #visualizations\n",
    "\n",
    "#imputation, scaling, metrics\n",
    "from sklearn import preprocessing\n",
    "from sklearn import metrics\n",
    "from sklearn.utils import resample\n",
    "from sklearn.metrics import r2_score, classification_report, f1_score, accuracy_score, confusion_matrix, precision_score, recall_score\n",
    "from sklearn.metrics import roc_curve, auc, roc_auc_score\n",
    "from sklearn.metrics import mean_squared_error\n",
    "from sklearn.metrics import mean_absolute_error\n",
    "from sklearn.model_selection import train_test_split\n",
    "from sklearn.model_selection import cross_val_score\n",
    "from sklearn.model_selection import StratifiedKFold\n",
    "from sklearn.experimental import enable_iterative_imputer\n",
    "from sklearn.impute import IterativeImputer\n",
    "from sklearn.preprocessing import StandardScaler\n",
    "from sklearn.feature_selection import SelectKBest\n",
    "from sklearn.feature_selection import f_classif\n",
    "from sklearn.linear_model import LogisticRegression\n",
    "\n",
    "#outlier classification\n",
    "from sklearn.ensemble import IsolationForest\n",
    "\n",
    "import xgboost as xgb #xgb model\n",
    "import lightgbm as lgb\n",
    "import hyperopt #hyperparameter tuning\n",
    "from hyperopt import fmin, tpe, hp, STATUS_OK, Trials, space_eval\n",
    "\n",
    "import shap #shap plot\n",
    "\n",
    "import pickle \n",
    " \n",
    "import warnings\n",
    "warnings.filterwarnings('ignore')"
   ]
  },
  {
   "cell_type": "code",
   "execution_count": 2,
   "id": "1552fb68",
   "metadata": {},
   "outputs": [],
   "source": [
    "# !pip install git+https://github.com/elastic/ember.git"
   ]
  },
  {
   "cell_type": "code",
   "execution_count": 3,
   "id": "affc059a",
   "metadata": {},
   "outputs": [],
   "source": [
    "import Ember_Wrapper"
   ]
  },
  {
   "cell_type": "markdown",
   "id": "3d7c1126",
   "metadata": {},
   "source": [
    "## Requirements"
   ]
  },
  {
   "cell_type": "markdown",
   "id": "7c3d12e5",
   "metadata": {},
   "source": [
    "The requirements file is this output copy pasted into a txt file."
   ]
  },
  {
   "cell_type": "code",
   "execution_count": 4,
   "id": "775ff10d",
   "metadata": {},
   "outputs": [
    {
     "name": "stdout",
     "output_type": "stream",
     "text": [
      "numpy==1.21.2\n",
      "pandas==1.3.4\n",
      "sklearn==1.0.1\n",
      "seaborn==0.11.2\n",
      "scipy==1.6.0\n",
      "xgboost==1.5.0\n",
      "lightgbm==3.2.1\n",
      "hyperopt==0.2.5\n",
      "shap==0.40.0\n"
     ]
    }
   ],
   "source": [
    "print('\\n'.join(f'{m.__name__}=={m.__version__}' for m in globals().values() if getattr(m, '__version__', None)))"
   ]
  },
  {
   "cell_type": "markdown",
   "id": "b633d294-cbc2-4ffa-8474-13be9e7d6e3d",
   "metadata": {},
   "source": [
    "## Load Data"
   ]
  },
  {
   "cell_type": "code",
   "execution_count": 5,
   "id": "504a76f1-8bd6-42c7-948a-6ed3bb240fc1",
   "metadata": {},
   "outputs": [],
   "source": [
    "# Flattened EMBER Feature set\n",
    "# Easier to feed into ML models right away\n",
    "# df1 = pd.read_excel(\"flatten_train.xlsx\")"
   ]
  },
  {
   "cell_type": "markdown",
   "id": "2e4986e1",
   "metadata": {},
   "source": [
    "Use pickling so you don't have to read in the Excel file every time to resume progress."
   ]
  },
  {
   "cell_type": "code",
   "execution_count": 6,
   "id": "33b59c6a",
   "metadata": {},
   "outputs": [],
   "source": [
    "# pd.to_pickle(df1, \"./data.pkl\")"
   ]
  },
  {
   "cell_type": "code",
   "execution_count": 7,
   "id": "3592aef0",
   "metadata": {},
   "outputs": [],
   "source": [
    "df1 = pd.read_pickle(\"./data.pkl\")"
   ]
  },
  {
   "cell_type": "code",
   "execution_count": 8,
   "id": "e8acb0c3",
   "metadata": {},
   "outputs": [],
   "source": [
    "df2 = pd.read_excel(\"./Data/raw_train.xlsx\")"
   ]
  },
  {
   "cell_type": "markdown",
   "id": "e673d618",
   "metadata": {},
   "source": [
    "Checking number of malware entries."
   ]
  },
  {
   "cell_type": "code",
   "execution_count": 9,
   "id": "32162510",
   "metadata": {},
   "outputs": [
    {
     "data": {
      "text/plain": [
       "900"
      ]
     },
     "execution_count": 9,
     "metadata": {},
     "output_type": "execute_result"
    }
   ],
   "source": [
    "sum(df1['category'])"
   ]
  },
  {
   "cell_type": "code",
   "execution_count": 10,
   "id": "2600ee08",
   "metadata": {},
   "outputs": [
    {
     "data": {
      "text/plain": [
       "(18000, 714)"
      ]
     },
     "execution_count": 10,
     "metadata": {},
     "output_type": "execute_result"
    }
   ],
   "source": [
    "df1.shape"
   ]
  },
  {
   "cell_type": "code",
   "execution_count": 11,
   "id": "35642d6a",
   "metadata": {},
   "outputs": [
    {
     "data": {
      "text/plain": [
       "0.05"
      ]
     },
     "execution_count": 11,
     "metadata": {},
     "output_type": "execute_result"
    }
   ],
   "source": [
    "900/18000"
   ]
  },
  {
   "cell_type": "markdown",
   "id": "ad41dc03",
   "metadata": {},
   "source": [
    "5%, super imbalanced."
   ]
  },
  {
   "cell_type": "markdown",
   "id": "e48c92b2",
   "metadata": {},
   "source": [
    "## EDA"
   ]
  },
  {
   "cell_type": "markdown",
   "id": "ae9423ce",
   "metadata": {},
   "source": [
    "### Visualizations Team here:\n",
    "### try plotting distributions of certain features to compare them between the malware and not malware tables"
   ]
  },
  {
   "cell_type": "code",
   "execution_count": 12,
   "id": "82a70e3f",
   "metadata": {},
   "outputs": [
    {
     "data": {
      "text/html": [
       "<div>\n",
       "<style scoped>\n",
       "    .dataframe tbody tr th:only-of-type {\n",
       "        vertical-align: middle;\n",
       "    }\n",
       "\n",
       "    .dataframe tbody tr th {\n",
       "        vertical-align: top;\n",
       "    }\n",
       "\n",
       "    .dataframe thead th {\n",
       "        text-align: right;\n",
       "    }\n",
       "</style>\n",
       "<table border=\"1\" class=\"dataframe\">\n",
       "  <thead>\n",
       "    <tr style=\"text-align: right;\">\n",
       "      <th></th>\n",
       "      <th>sha256</th>\n",
       "      <th>histogram_0</th>\n",
       "      <th>histogram_1</th>\n",
       "      <th>histogram_2</th>\n",
       "      <th>histogram_3</th>\n",
       "      <th>histogram_4</th>\n",
       "      <th>histogram_5</th>\n",
       "      <th>histogram_6</th>\n",
       "      <th>histogram_7</th>\n",
       "      <th>histogram_8</th>\n",
       "      <th>...</th>\n",
       "      <th>datadirectories_13_name</th>\n",
       "      <th>datadirectories_13_size</th>\n",
       "      <th>datadirectories_13_virtual_address</th>\n",
       "      <th>datadirectories_14_name</th>\n",
       "      <th>datadirectories_14_size</th>\n",
       "      <th>datadirectories_14_virtual_address</th>\n",
       "      <th>datadirectories_15_name</th>\n",
       "      <th>datadirectories_15_size</th>\n",
       "      <th>datadirectories_15_virtual_address</th>\n",
       "      <th>category</th>\n",
       "    </tr>\n",
       "  </thead>\n",
       "  <tbody>\n",
       "    <tr>\n",
       "      <th>0</th>\n",
       "      <td>15f88c44e29e74965cbec984cd4244786eeb4ccde02328...</td>\n",
       "      <td>127242</td>\n",
       "      <td>9185</td>\n",
       "      <td>3818</td>\n",
       "      <td>3127</td>\n",
       "      <td>13300</td>\n",
       "      <td>1594</td>\n",
       "      <td>1781</td>\n",
       "      <td>1493</td>\n",
       "      <td>9938</td>\n",
       "      <td>...</td>\n",
       "      <td>DELAY_IMPORT_DESCRIPTOR</td>\n",
       "      <td>0</td>\n",
       "      <td>0</td>\n",
       "      <td>CLR_RUNTIME_HEADER</td>\n",
       "      <td>0</td>\n",
       "      <td>0</td>\n",
       "      <td>???</td>\n",
       "      <td>0</td>\n",
       "      <td>0</td>\n",
       "      <td>0</td>\n",
       "    </tr>\n",
       "    <tr>\n",
       "      <th>1</th>\n",
       "      <td>29bb2a854de0f99bdb7120870ad42af6a3b5b5c6fc3578...</td>\n",
       "      <td>36152</td>\n",
       "      <td>2617</td>\n",
       "      <td>4120</td>\n",
       "      <td>876</td>\n",
       "      <td>1711</td>\n",
       "      <td>755</td>\n",
       "      <td>672</td>\n",
       "      <td>521</td>\n",
       "      <td>2278</td>\n",
       "      <td>...</td>\n",
       "      <td>DELAY_IMPORT_DESCRIPTOR</td>\n",
       "      <td>0</td>\n",
       "      <td>0</td>\n",
       "      <td>CLR_RUNTIME_HEADER</td>\n",
       "      <td>0</td>\n",
       "      <td>0</td>\n",
       "      <td>???</td>\n",
       "      <td>0</td>\n",
       "      <td>0</td>\n",
       "      <td>0</td>\n",
       "    </tr>\n",
       "    <tr>\n",
       "      <th>2</th>\n",
       "      <td>5cd8667d8375bf799fe89ac9b74cf08bf69dfa18a4e551...</td>\n",
       "      <td>39986</td>\n",
       "      <td>7112</td>\n",
       "      <td>7953</td>\n",
       "      <td>6604</td>\n",
       "      <td>6542</td>\n",
       "      <td>6441</td>\n",
       "      <td>5869</td>\n",
       "      <td>6422</td>\n",
       "      <td>6224</td>\n",
       "      <td>...</td>\n",
       "      <td>DELAY_IMPORT_DESCRIPTOR</td>\n",
       "      <td>0</td>\n",
       "      <td>0</td>\n",
       "      <td>CLR_RUNTIME_HEADER</td>\n",
       "      <td>0</td>\n",
       "      <td>0</td>\n",
       "      <td>???</td>\n",
       "      <td>0</td>\n",
       "      <td>0</td>\n",
       "      <td>0</td>\n",
       "    </tr>\n",
       "    <tr>\n",
       "      <th>3</th>\n",
       "      <td>ce63706c0adf4851a8d2eb26fa97750cfaec7345151367...</td>\n",
       "      <td>253873</td>\n",
       "      <td>32714</td>\n",
       "      <td>22629</td>\n",
       "      <td>17500</td>\n",
       "      <td>15355</td>\n",
       "      <td>6691</td>\n",
       "      <td>10881</td>\n",
       "      <td>4258</td>\n",
       "      <td>11992</td>\n",
       "      <td>...</td>\n",
       "      <td>DELAY_IMPORT_DESCRIPTOR</td>\n",
       "      <td>0</td>\n",
       "      <td>0</td>\n",
       "      <td>CLR_RUNTIME_HEADER</td>\n",
       "      <td>0</td>\n",
       "      <td>0</td>\n",
       "      <td>???</td>\n",
       "      <td>0</td>\n",
       "      <td>0</td>\n",
       "      <td>0</td>\n",
       "    </tr>\n",
       "    <tr>\n",
       "      <th>4</th>\n",
       "      <td>5e65dd9986fc47c5fe45208fab5e1c78730699800eaf96...</td>\n",
       "      <td>12464</td>\n",
       "      <td>1020</td>\n",
       "      <td>502</td>\n",
       "      <td>264</td>\n",
       "      <td>1918</td>\n",
       "      <td>218</td>\n",
       "      <td>262</td>\n",
       "      <td>91</td>\n",
       "      <td>846</td>\n",
       "      <td>...</td>\n",
       "      <td>DELAY_IMPORT_DESCRIPTOR</td>\n",
       "      <td>0</td>\n",
       "      <td>0</td>\n",
       "      <td>CLR_RUNTIME_HEADER</td>\n",
       "      <td>0</td>\n",
       "      <td>0</td>\n",
       "      <td>???</td>\n",
       "      <td>0</td>\n",
       "      <td>0</td>\n",
       "      <td>0</td>\n",
       "    </tr>\n",
       "  </tbody>\n",
       "</table>\n",
       "<p>5 rows × 714 columns</p>\n",
       "</div>"
      ],
      "text/plain": [
       "                                              sha256  histogram_0  \\\n",
       "0  15f88c44e29e74965cbec984cd4244786eeb4ccde02328...       127242   \n",
       "1  29bb2a854de0f99bdb7120870ad42af6a3b5b5c6fc3578...        36152   \n",
       "2  5cd8667d8375bf799fe89ac9b74cf08bf69dfa18a4e551...        39986   \n",
       "3  ce63706c0adf4851a8d2eb26fa97750cfaec7345151367...       253873   \n",
       "4  5e65dd9986fc47c5fe45208fab5e1c78730699800eaf96...        12464   \n",
       "\n",
       "   histogram_1  histogram_2  histogram_3  histogram_4  histogram_5  \\\n",
       "0         9185         3818         3127        13300         1594   \n",
       "1         2617         4120          876         1711          755   \n",
       "2         7112         7953         6604         6542         6441   \n",
       "3        32714        22629        17500        15355         6691   \n",
       "4         1020          502          264         1918          218   \n",
       "\n",
       "   histogram_6  histogram_7  histogram_8  ...  datadirectories_13_name  \\\n",
       "0         1781         1493         9938  ...  DELAY_IMPORT_DESCRIPTOR   \n",
       "1          672          521         2278  ...  DELAY_IMPORT_DESCRIPTOR   \n",
       "2         5869         6422         6224  ...  DELAY_IMPORT_DESCRIPTOR   \n",
       "3        10881         4258        11992  ...  DELAY_IMPORT_DESCRIPTOR   \n",
       "4          262           91          846  ...  DELAY_IMPORT_DESCRIPTOR   \n",
       "\n",
       "   datadirectories_13_size  datadirectories_13_virtual_address  \\\n",
       "0                        0                                   0   \n",
       "1                        0                                   0   \n",
       "2                        0                                   0   \n",
       "3                        0                                   0   \n",
       "4                        0                                   0   \n",
       "\n",
       "   datadirectories_14_name  datadirectories_14_size  \\\n",
       "0       CLR_RUNTIME_HEADER                        0   \n",
       "1       CLR_RUNTIME_HEADER                        0   \n",
       "2       CLR_RUNTIME_HEADER                        0   \n",
       "3       CLR_RUNTIME_HEADER                        0   \n",
       "4       CLR_RUNTIME_HEADER                        0   \n",
       "\n",
       "   datadirectories_14_virtual_address  datadirectories_15_name  \\\n",
       "0                                   0                      ???   \n",
       "1                                   0                      ???   \n",
       "2                                   0                      ???   \n",
       "3                                   0                      ???   \n",
       "4                                   0                      ???   \n",
       "\n",
       "   datadirectories_15_size  datadirectories_15_virtual_address  category  \n",
       "0                        0                                   0         0  \n",
       "1                        0                                   0         0  \n",
       "2                        0                                   0         0  \n",
       "3                        0                                   0         0  \n",
       "4                        0                                   0         0  \n",
       "\n",
       "[5 rows x 714 columns]"
      ]
     },
     "execution_count": 12,
     "metadata": {},
     "output_type": "execute_result"
    }
   ],
   "source": [
    "df1.head(5)"
   ]
  },
  {
   "cell_type": "code",
   "execution_count": 13,
   "id": "d6d5d6e2",
   "metadata": {
    "scrolled": true
   },
   "outputs": [
    {
     "data": {
      "text/plain": [
       "['sha256',\n",
       " 'histogram_0',\n",
       " 'histogram_1',\n",
       " 'histogram_2',\n",
       " 'histogram_3',\n",
       " 'histogram_4',\n",
       " 'histogram_5',\n",
       " 'histogram_6',\n",
       " 'histogram_7',\n",
       " 'histogram_8',\n",
       " 'histogram_9',\n",
       " 'histogram_10',\n",
       " 'histogram_11',\n",
       " 'histogram_12',\n",
       " 'histogram_13',\n",
       " 'histogram_14',\n",
       " 'histogram_15',\n",
       " 'histogram_16',\n",
       " 'histogram_17',\n",
       " 'histogram_18',\n",
       " 'histogram_19',\n",
       " 'histogram_20',\n",
       " 'histogram_21',\n",
       " 'histogram_22',\n",
       " 'histogram_23',\n",
       " 'histogram_24',\n",
       " 'histogram_25',\n",
       " 'histogram_26',\n",
       " 'histogram_27',\n",
       " 'histogram_28',\n",
       " 'histogram_29',\n",
       " 'histogram_30',\n",
       " 'histogram_31',\n",
       " 'histogram_32',\n",
       " 'histogram_33',\n",
       " 'histogram_34',\n",
       " 'histogram_35',\n",
       " 'histogram_36',\n",
       " 'histogram_37',\n",
       " 'histogram_38',\n",
       " 'histogram_39',\n",
       " 'histogram_40',\n",
       " 'histogram_41',\n",
       " 'histogram_42',\n",
       " 'histogram_43',\n",
       " 'histogram_44',\n",
       " 'histogram_45',\n",
       " 'histogram_46',\n",
       " 'histogram_47',\n",
       " 'histogram_48',\n",
       " 'histogram_49',\n",
       " 'histogram_50',\n",
       " 'histogram_51',\n",
       " 'histogram_52',\n",
       " 'histogram_53',\n",
       " 'histogram_54',\n",
       " 'histogram_55',\n",
       " 'histogram_56',\n",
       " 'histogram_57',\n",
       " 'histogram_58',\n",
       " 'histogram_59',\n",
       " 'histogram_60',\n",
       " 'histogram_61',\n",
       " 'histogram_62',\n",
       " 'histogram_63',\n",
       " 'histogram_64',\n",
       " 'histogram_65',\n",
       " 'histogram_66',\n",
       " 'histogram_67',\n",
       " 'histogram_68',\n",
       " 'histogram_69',\n",
       " 'histogram_70',\n",
       " 'histogram_71',\n",
       " 'histogram_72',\n",
       " 'histogram_73',\n",
       " 'histogram_74',\n",
       " 'histogram_75',\n",
       " 'histogram_76',\n",
       " 'histogram_77',\n",
       " 'histogram_78',\n",
       " 'histogram_79',\n",
       " 'histogram_80',\n",
       " 'histogram_81',\n",
       " 'histogram_82',\n",
       " 'histogram_83',\n",
       " 'histogram_84',\n",
       " 'histogram_85',\n",
       " 'histogram_86',\n",
       " 'histogram_87',\n",
       " 'histogram_88',\n",
       " 'histogram_89',\n",
       " 'histogram_90',\n",
       " 'histogram_91',\n",
       " 'histogram_92',\n",
       " 'histogram_93',\n",
       " 'histogram_94',\n",
       " 'histogram_95',\n",
       " 'histogram_96',\n",
       " 'histogram_97',\n",
       " 'histogram_98',\n",
       " 'histogram_99',\n",
       " 'histogram_100',\n",
       " 'histogram_101',\n",
       " 'histogram_102',\n",
       " 'histogram_103',\n",
       " 'histogram_104',\n",
       " 'histogram_105',\n",
       " 'histogram_106',\n",
       " 'histogram_107',\n",
       " 'histogram_108',\n",
       " 'histogram_109',\n",
       " 'histogram_110',\n",
       " 'histogram_111',\n",
       " 'histogram_112',\n",
       " 'histogram_113',\n",
       " 'histogram_114',\n",
       " 'histogram_115',\n",
       " 'histogram_116',\n",
       " 'histogram_117',\n",
       " 'histogram_118',\n",
       " 'histogram_119',\n",
       " 'histogram_120',\n",
       " 'histogram_121',\n",
       " 'histogram_122',\n",
       " 'histogram_123',\n",
       " 'histogram_124',\n",
       " 'histogram_125',\n",
       " 'histogram_126',\n",
       " 'histogram_127',\n",
       " 'histogram_128',\n",
       " 'histogram_129',\n",
       " 'histogram_130',\n",
       " 'histogram_131',\n",
       " 'histogram_132',\n",
       " 'histogram_133',\n",
       " 'histogram_134',\n",
       " 'histogram_135',\n",
       " 'histogram_136',\n",
       " 'histogram_137',\n",
       " 'histogram_138',\n",
       " 'histogram_139',\n",
       " 'histogram_140',\n",
       " 'histogram_141',\n",
       " 'histogram_142',\n",
       " 'histogram_143',\n",
       " 'histogram_144',\n",
       " 'histogram_145',\n",
       " 'histogram_146',\n",
       " 'histogram_147',\n",
       " 'histogram_148',\n",
       " 'histogram_149',\n",
       " 'histogram_150',\n",
       " 'histogram_151',\n",
       " 'histogram_152',\n",
       " 'histogram_153',\n",
       " 'histogram_154',\n",
       " 'histogram_155',\n",
       " 'histogram_156',\n",
       " 'histogram_157',\n",
       " 'histogram_158',\n",
       " 'histogram_159',\n",
       " 'histogram_160',\n",
       " 'histogram_161',\n",
       " 'histogram_162',\n",
       " 'histogram_163',\n",
       " 'histogram_164',\n",
       " 'histogram_165',\n",
       " 'histogram_166',\n",
       " 'histogram_167',\n",
       " 'histogram_168',\n",
       " 'histogram_169',\n",
       " 'histogram_170',\n",
       " 'histogram_171',\n",
       " 'histogram_172',\n",
       " 'histogram_173',\n",
       " 'histogram_174',\n",
       " 'histogram_175',\n",
       " 'histogram_176',\n",
       " 'histogram_177',\n",
       " 'histogram_178',\n",
       " 'histogram_179',\n",
       " 'histogram_180',\n",
       " 'histogram_181',\n",
       " 'histogram_182',\n",
       " 'histogram_183',\n",
       " 'histogram_184',\n",
       " 'histogram_185',\n",
       " 'histogram_186',\n",
       " 'histogram_187',\n",
       " 'histogram_188',\n",
       " 'histogram_189',\n",
       " 'histogram_190',\n",
       " 'histogram_191',\n",
       " 'histogram_192',\n",
       " 'histogram_193',\n",
       " 'histogram_194',\n",
       " 'histogram_195',\n",
       " 'histogram_196',\n",
       " 'histogram_197',\n",
       " 'histogram_198',\n",
       " 'histogram_199',\n",
       " 'histogram_200',\n",
       " 'histogram_201',\n",
       " 'histogram_202',\n",
       " 'histogram_203',\n",
       " 'histogram_204',\n",
       " 'histogram_205',\n",
       " 'histogram_206',\n",
       " 'histogram_207',\n",
       " 'histogram_208',\n",
       " 'histogram_209',\n",
       " 'histogram_210',\n",
       " 'histogram_211',\n",
       " 'histogram_212',\n",
       " 'histogram_213',\n",
       " 'histogram_214',\n",
       " 'histogram_215',\n",
       " 'histogram_216',\n",
       " 'histogram_217',\n",
       " 'histogram_218',\n",
       " 'histogram_219',\n",
       " 'histogram_220',\n",
       " 'histogram_221',\n",
       " 'histogram_222',\n",
       " 'histogram_223',\n",
       " 'histogram_224',\n",
       " 'histogram_225',\n",
       " 'histogram_226',\n",
       " 'histogram_227',\n",
       " 'histogram_228',\n",
       " 'histogram_229',\n",
       " 'histogram_230',\n",
       " 'histogram_231',\n",
       " 'histogram_232',\n",
       " 'histogram_233',\n",
       " 'histogram_234',\n",
       " 'histogram_235',\n",
       " 'histogram_236',\n",
       " 'histogram_237',\n",
       " 'histogram_238',\n",
       " 'histogram_239',\n",
       " 'histogram_240',\n",
       " 'histogram_241',\n",
       " 'histogram_242',\n",
       " 'histogram_243',\n",
       " 'histogram_244',\n",
       " 'histogram_245',\n",
       " 'histogram_246',\n",
       " 'histogram_247',\n",
       " 'histogram_248',\n",
       " 'histogram_249',\n",
       " 'histogram_250',\n",
       " 'histogram_251',\n",
       " 'histogram_252',\n",
       " 'histogram_253',\n",
       " 'histogram_254',\n",
       " 'histogram_255',\n",
       " 'byteentropy_0',\n",
       " 'byteentropy_1',\n",
       " 'byteentropy_2',\n",
       " 'byteentropy_3',\n",
       " 'byteentropy_4',\n",
       " 'byteentropy_5',\n",
       " 'byteentropy_6',\n",
       " 'byteentropy_7',\n",
       " 'byteentropy_8',\n",
       " 'byteentropy_9',\n",
       " 'byteentropy_10',\n",
       " 'byteentropy_11',\n",
       " 'byteentropy_12',\n",
       " 'byteentropy_13',\n",
       " 'byteentropy_14',\n",
       " 'byteentropy_15',\n",
       " 'byteentropy_16',\n",
       " 'byteentropy_17',\n",
       " 'byteentropy_18',\n",
       " 'byteentropy_19',\n",
       " 'byteentropy_20',\n",
       " 'byteentropy_21',\n",
       " 'byteentropy_22',\n",
       " 'byteentropy_23',\n",
       " 'byteentropy_24',\n",
       " 'byteentropy_25',\n",
       " 'byteentropy_26',\n",
       " 'byteentropy_27',\n",
       " 'byteentropy_28',\n",
       " 'byteentropy_29',\n",
       " 'byteentropy_30',\n",
       " 'byteentropy_31',\n",
       " 'byteentropy_32',\n",
       " 'byteentropy_33',\n",
       " 'byteentropy_34',\n",
       " 'byteentropy_35',\n",
       " 'byteentropy_36',\n",
       " 'byteentropy_37',\n",
       " 'byteentropy_38',\n",
       " 'byteentropy_39',\n",
       " 'byteentropy_40',\n",
       " 'byteentropy_41',\n",
       " 'byteentropy_42',\n",
       " 'byteentropy_43',\n",
       " 'byteentropy_44',\n",
       " 'byteentropy_45',\n",
       " 'byteentropy_46',\n",
       " 'byteentropy_47',\n",
       " 'byteentropy_48',\n",
       " 'byteentropy_49',\n",
       " 'byteentropy_50',\n",
       " 'byteentropy_51',\n",
       " 'byteentropy_52',\n",
       " 'byteentropy_53',\n",
       " 'byteentropy_54',\n",
       " 'byteentropy_55',\n",
       " 'byteentropy_56',\n",
       " 'byteentropy_57',\n",
       " 'byteentropy_58',\n",
       " 'byteentropy_59',\n",
       " 'byteentropy_60',\n",
       " 'byteentropy_61',\n",
       " 'byteentropy_62',\n",
       " 'byteentropy_63',\n",
       " 'byteentropy_64',\n",
       " 'byteentropy_65',\n",
       " 'byteentropy_66',\n",
       " 'byteentropy_67',\n",
       " 'byteentropy_68',\n",
       " 'byteentropy_69',\n",
       " 'byteentropy_70',\n",
       " 'byteentropy_71',\n",
       " 'byteentropy_72',\n",
       " 'byteentropy_73',\n",
       " 'byteentropy_74',\n",
       " 'byteentropy_75',\n",
       " 'byteentropy_76',\n",
       " 'byteentropy_77',\n",
       " 'byteentropy_78',\n",
       " 'byteentropy_79',\n",
       " 'byteentropy_80',\n",
       " 'byteentropy_81',\n",
       " 'byteentropy_82',\n",
       " 'byteentropy_83',\n",
       " 'byteentropy_84',\n",
       " 'byteentropy_85',\n",
       " 'byteentropy_86',\n",
       " 'byteentropy_87',\n",
       " 'byteentropy_88',\n",
       " 'byteentropy_89',\n",
       " 'byteentropy_90',\n",
       " 'byteentropy_91',\n",
       " 'byteentropy_92',\n",
       " 'byteentropy_93',\n",
       " 'byteentropy_94',\n",
       " 'byteentropy_95',\n",
       " 'byteentropy_96',\n",
       " 'byteentropy_97',\n",
       " 'byteentropy_98',\n",
       " 'byteentropy_99',\n",
       " 'byteentropy_100',\n",
       " 'byteentropy_101',\n",
       " 'byteentropy_102',\n",
       " 'byteentropy_103',\n",
       " 'byteentropy_104',\n",
       " 'byteentropy_105',\n",
       " 'byteentropy_106',\n",
       " 'byteentropy_107',\n",
       " 'byteentropy_108',\n",
       " 'byteentropy_109',\n",
       " 'byteentropy_110',\n",
       " 'byteentropy_111',\n",
       " 'byteentropy_112',\n",
       " 'byteentropy_113',\n",
       " 'byteentropy_114',\n",
       " 'byteentropy_115',\n",
       " 'byteentropy_116',\n",
       " 'byteentropy_117',\n",
       " 'byteentropy_118',\n",
       " 'byteentropy_119',\n",
       " 'byteentropy_120',\n",
       " 'byteentropy_121',\n",
       " 'byteentropy_122',\n",
       " 'byteentropy_123',\n",
       " 'byteentropy_124',\n",
       " 'byteentropy_125',\n",
       " 'byteentropy_126',\n",
       " 'byteentropy_127',\n",
       " 'byteentropy_128',\n",
       " 'byteentropy_129',\n",
       " 'byteentropy_130',\n",
       " 'byteentropy_131',\n",
       " 'byteentropy_132',\n",
       " 'byteentropy_133',\n",
       " 'byteentropy_134',\n",
       " 'byteentropy_135',\n",
       " 'byteentropy_136',\n",
       " 'byteentropy_137',\n",
       " 'byteentropy_138',\n",
       " 'byteentropy_139',\n",
       " 'byteentropy_140',\n",
       " 'byteentropy_141',\n",
       " 'byteentropy_142',\n",
       " 'byteentropy_143',\n",
       " 'byteentropy_144',\n",
       " 'byteentropy_145',\n",
       " 'byteentropy_146',\n",
       " 'byteentropy_147',\n",
       " 'byteentropy_148',\n",
       " 'byteentropy_149',\n",
       " 'byteentropy_150',\n",
       " 'byteentropy_151',\n",
       " 'byteentropy_152',\n",
       " 'byteentropy_153',\n",
       " 'byteentropy_154',\n",
       " 'byteentropy_155',\n",
       " 'byteentropy_156',\n",
       " 'byteentropy_157',\n",
       " 'byteentropy_158',\n",
       " 'byteentropy_159',\n",
       " 'byteentropy_160',\n",
       " 'byteentropy_161',\n",
       " 'byteentropy_162',\n",
       " 'byteentropy_163',\n",
       " 'byteentropy_164',\n",
       " 'byteentropy_165',\n",
       " 'byteentropy_166',\n",
       " 'byteentropy_167',\n",
       " 'byteentropy_168',\n",
       " 'byteentropy_169',\n",
       " 'byteentropy_170',\n",
       " 'byteentropy_171',\n",
       " 'byteentropy_172',\n",
       " 'byteentropy_173',\n",
       " 'byteentropy_174',\n",
       " 'byteentropy_175',\n",
       " 'byteentropy_176',\n",
       " 'byteentropy_177',\n",
       " 'byteentropy_178',\n",
       " 'byteentropy_179',\n",
       " 'byteentropy_180',\n",
       " 'byteentropy_181',\n",
       " 'byteentropy_182',\n",
       " 'byteentropy_183',\n",
       " 'byteentropy_184',\n",
       " 'byteentropy_185',\n",
       " 'byteentropy_186',\n",
       " 'byteentropy_187',\n",
       " 'byteentropy_188',\n",
       " 'byteentropy_189',\n",
       " 'byteentropy_190',\n",
       " 'byteentropy_191',\n",
       " 'byteentropy_192',\n",
       " 'byteentropy_193',\n",
       " 'byteentropy_194',\n",
       " 'byteentropy_195',\n",
       " 'byteentropy_196',\n",
       " 'byteentropy_197',\n",
       " 'byteentropy_198',\n",
       " 'byteentropy_199',\n",
       " 'byteentropy_200',\n",
       " 'byteentropy_201',\n",
       " 'byteentropy_202',\n",
       " 'byteentropy_203',\n",
       " 'byteentropy_204',\n",
       " 'byteentropy_205',\n",
       " 'byteentropy_206',\n",
       " 'byteentropy_207',\n",
       " 'byteentropy_208',\n",
       " 'byteentropy_209',\n",
       " 'byteentropy_210',\n",
       " 'byteentropy_211',\n",
       " 'byteentropy_212',\n",
       " 'byteentropy_213',\n",
       " 'byteentropy_214',\n",
       " 'byteentropy_215',\n",
       " 'byteentropy_216',\n",
       " 'byteentropy_217',\n",
       " 'byteentropy_218',\n",
       " 'byteentropy_219',\n",
       " 'byteentropy_220',\n",
       " 'byteentropy_221',\n",
       " 'byteentropy_222',\n",
       " 'byteentropy_223',\n",
       " 'byteentropy_224',\n",
       " 'byteentropy_225',\n",
       " 'byteentropy_226',\n",
       " 'byteentropy_227',\n",
       " 'byteentropy_228',\n",
       " 'byteentropy_229',\n",
       " 'byteentropy_230',\n",
       " 'byteentropy_231',\n",
       " 'byteentropy_232',\n",
       " 'byteentropy_233',\n",
       " 'byteentropy_234',\n",
       " 'byteentropy_235',\n",
       " 'byteentropy_236',\n",
       " 'byteentropy_237',\n",
       " 'byteentropy_238',\n",
       " 'byteentropy_239',\n",
       " 'byteentropy_240',\n",
       " 'byteentropy_241',\n",
       " 'byteentropy_242',\n",
       " 'byteentropy_243',\n",
       " 'byteentropy_244',\n",
       " 'byteentropy_245',\n",
       " 'byteentropy_246',\n",
       " 'byteentropy_247',\n",
       " 'byteentropy_248',\n",
       " 'byteentropy_249',\n",
       " 'byteentropy_250',\n",
       " 'byteentropy_251',\n",
       " 'byteentropy_252',\n",
       " 'byteentropy_253',\n",
       " 'byteentropy_254',\n",
       " 'byteentropy_255',\n",
       " 'strings_numstrings',\n",
       " 'strings_avlength',\n",
       " 'strings_printabledist_0',\n",
       " 'strings_printabledist_1',\n",
       " 'strings_printabledist_2',\n",
       " 'strings_printabledist_3',\n",
       " 'strings_printabledist_4',\n",
       " 'strings_printabledist_5',\n",
       " 'strings_printabledist_6',\n",
       " 'strings_printabledist_7',\n",
       " 'strings_printabledist_8',\n",
       " 'strings_printabledist_9',\n",
       " 'strings_printabledist_10',\n",
       " 'strings_printabledist_11',\n",
       " 'strings_printabledist_12',\n",
       " 'strings_printabledist_13',\n",
       " 'strings_printabledist_14',\n",
       " 'strings_printabledist_15',\n",
       " 'strings_printabledist_16',\n",
       " 'strings_printabledist_17',\n",
       " 'strings_printabledist_18',\n",
       " 'strings_printabledist_19',\n",
       " 'strings_printabledist_20',\n",
       " 'strings_printabledist_21',\n",
       " 'strings_printabledist_22',\n",
       " 'strings_printabledist_23',\n",
       " 'strings_printabledist_24',\n",
       " 'strings_printabledist_25',\n",
       " 'strings_printabledist_26',\n",
       " 'strings_printabledist_27',\n",
       " 'strings_printabledist_28',\n",
       " 'strings_printabledist_29',\n",
       " 'strings_printabledist_30',\n",
       " 'strings_printabledist_31',\n",
       " 'strings_printabledist_32',\n",
       " 'strings_printabledist_33',\n",
       " 'strings_printabledist_34',\n",
       " 'strings_printabledist_35',\n",
       " 'strings_printabledist_36',\n",
       " 'strings_printabledist_37',\n",
       " 'strings_printabledist_38',\n",
       " 'strings_printabledist_39',\n",
       " 'strings_printabledist_40',\n",
       " 'strings_printabledist_41',\n",
       " 'strings_printabledist_42',\n",
       " 'strings_printabledist_43',\n",
       " 'strings_printabledist_44',\n",
       " 'strings_printabledist_45',\n",
       " 'strings_printabledist_46',\n",
       " 'strings_printabledist_47',\n",
       " 'strings_printabledist_48',\n",
       " 'strings_printabledist_49',\n",
       " 'strings_printabledist_50',\n",
       " 'strings_printabledist_51',\n",
       " 'strings_printabledist_52',\n",
       " 'strings_printabledist_53',\n",
       " 'strings_printabledist_54',\n",
       " 'strings_printabledist_55',\n",
       " 'strings_printabledist_56',\n",
       " 'strings_printabledist_57',\n",
       " 'strings_printabledist_58',\n",
       " 'strings_printabledist_59',\n",
       " 'strings_printabledist_60',\n",
       " 'strings_printabledist_61',\n",
       " 'strings_printabledist_62',\n",
       " 'strings_printabledist_63',\n",
       " 'strings_printabledist_64',\n",
       " 'strings_printabledist_65',\n",
       " 'strings_printabledist_66',\n",
       " 'strings_printabledist_67',\n",
       " 'strings_printabledist_68',\n",
       " 'strings_printabledist_69',\n",
       " 'strings_printabledist_70',\n",
       " 'strings_printabledist_71',\n",
       " 'strings_printabledist_72',\n",
       " 'strings_printabledist_73',\n",
       " 'strings_printabledist_74',\n",
       " 'strings_printabledist_75',\n",
       " 'strings_printabledist_76',\n",
       " 'strings_printabledist_77',\n",
       " 'strings_printabledist_78',\n",
       " 'strings_printabledist_79',\n",
       " 'strings_printabledist_80',\n",
       " 'strings_printabledist_81',\n",
       " 'strings_printabledist_82',\n",
       " 'strings_printabledist_83',\n",
       " 'strings_printabledist_84',\n",
       " 'strings_printabledist_85',\n",
       " 'strings_printabledist_86',\n",
       " 'strings_printabledist_87',\n",
       " 'strings_printabledist_88',\n",
       " 'strings_printabledist_89',\n",
       " 'strings_printabledist_90',\n",
       " 'strings_printabledist_91',\n",
       " 'strings_printabledist_92',\n",
       " 'strings_printabledist_93',\n",
       " 'strings_printabledist_94',\n",
       " 'strings_printabledist_95',\n",
       " 'strings_printables',\n",
       " 'strings_entropy',\n",
       " 'strings_paths',\n",
       " 'strings_urls',\n",
       " 'strings_registry',\n",
       " 'strings_MZ',\n",
       " 'general_size',\n",
       " 'general_vsize',\n",
       " 'general_has_debug',\n",
       " 'general_exports',\n",
       " 'general_imports',\n",
       " 'general_has_relocations',\n",
       " 'general_has_resources',\n",
       " 'general_has_signature',\n",
       " 'general_has_tls',\n",
       " 'general_symbols',\n",
       " 'header_coff_timestamp',\n",
       " 'header_coff_machine',\n",
       " 'header_coff_characteristics_AGGRESSIVE_WS_TRIM',\n",
       " 'header_coff_characteristics_BYTES_REVERSED_HI',\n",
       " 'header_coff_characteristics_BYTES_REVERSED_LO',\n",
       " 'header_coff_characteristics_CHARA_32BIT_MACHINE',\n",
       " 'header_coff_characteristics_DEBUG_STRIPPED',\n",
       " 'header_coff_characteristics_DLL',\n",
       " 'header_coff_characteristics_EXECUTABLE_IMAGE',\n",
       " 'header_coff_characteristics_LARGE_ADDRESS_AWARE',\n",
       " 'header_coff_characteristics_LINE_NUMS_STRIPPED',\n",
       " 'header_coff_characteristics_LOCAL_SYMS_STRIPPED',\n",
       " 'header_coff_characteristics_NET_RUN_FROM_SWAP',\n",
       " 'header_coff_characteristics_RELOCS_STRIPPED',\n",
       " 'header_coff_characteristics_REMOVABLE_RUN_FROM_SWAP',\n",
       " 'header_coff_characteristics_SYSTEM',\n",
       " 'header_coff_characteristics_UP_SYSTEM_ONLY',\n",
       " 'header_optional_subsystem',\n",
       " 'header_optional_dll_characteristics_DYNAMIC_BASE',\n",
       " 'header_optional_dll_characteristics_FORCE_INTEGRITY',\n",
       " 'header_optional_dll_characteristics_GUARD_CF',\n",
       " 'header_optional_dll_characteristics_HIGH_ENTROPY_VA',\n",
       " 'header_optional_dll_characteristics_NO_BIND',\n",
       " 'header_optional_dll_characteristics_NO_ISOLATION',\n",
       " 'header_optional_dll_characteristics_NO_SEH',\n",
       " 'header_optional_dll_characteristics_NX_COMPAT',\n",
       " 'header_optional_dll_characteristics_TERMINAL_SERVER_AWARE',\n",
       " 'header_optional_dll_characteristics_WDM_DRIVER',\n",
       " 'header_optional_magic',\n",
       " 'header_optional_major_image_version',\n",
       " 'header_optional_minor_image_version',\n",
       " 'header_optional_major_linker_version',\n",
       " 'header_optional_minor_linker_version',\n",
       " 'header_optional_major_operating_system_version',\n",
       " 'header_optional_minor_operating_system_version',\n",
       " 'header_optional_major_subsystem_version',\n",
       " 'header_optional_minor_subsystem_version',\n",
       " 'header_optional_sizeof_code',\n",
       " 'header_optional_sizeof_headers',\n",
       " 'header_optional_sizeof_heap_commit',\n",
       " 'section_entry',\n",
       " 'datadirectories_0_name',\n",
       " 'datadirectories_0_size',\n",
       " 'datadirectories_0_virtual_address',\n",
       " 'datadirectories_1_name',\n",
       " 'datadirectories_1_size',\n",
       " 'datadirectories_1_virtual_address',\n",
       " 'datadirectories_2_name',\n",
       " 'datadirectories_2_size',\n",
       " 'datadirectories_2_virtual_address',\n",
       " 'datadirectories_3_name',\n",
       " 'datadirectories_3_size',\n",
       " 'datadirectories_3_virtual_address',\n",
       " 'datadirectories_4_name',\n",
       " 'datadirectories_4_size',\n",
       " 'datadirectories_4_virtual_address',\n",
       " 'datadirectories_5_name',\n",
       " 'datadirectories_5_size',\n",
       " 'datadirectories_5_virtual_address',\n",
       " 'datadirectories_6_name',\n",
       " 'datadirectories_6_size',\n",
       " 'datadirectories_6_virtual_address',\n",
       " 'datadirectories_7_name',\n",
       " 'datadirectories_7_size',\n",
       " 'datadirectories_7_virtual_address',\n",
       " 'datadirectories_8_name',\n",
       " 'datadirectories_8_size',\n",
       " 'datadirectories_8_virtual_address',\n",
       " 'datadirectories_9_name',\n",
       " 'datadirectories_9_size',\n",
       " 'datadirectories_9_virtual_address',\n",
       " 'datadirectories_11_name',\n",
       " 'datadirectories_11_size',\n",
       " 'datadirectories_11_virtual_address',\n",
       " 'datadirectories_12_name',\n",
       " 'datadirectories_12_size',\n",
       " 'datadirectories_12_virtual_address',\n",
       " 'datadirectories_13_name',\n",
       " 'datadirectories_13_size',\n",
       " 'datadirectories_13_virtual_address',\n",
       " 'datadirectories_14_name',\n",
       " 'datadirectories_14_size',\n",
       " 'datadirectories_14_virtual_address',\n",
       " 'datadirectories_15_name',\n",
       " 'datadirectories_15_size',\n",
       " 'datadirectories_15_virtual_address',\n",
       " 'category']"
      ]
     },
     "execution_count": 13,
     "metadata": {},
     "output_type": "execute_result"
    }
   ],
   "source": [
    "list(df1)"
   ]
  },
  {
   "cell_type": "code",
   "execution_count": 14,
   "id": "ba206cf2",
   "metadata": {},
   "outputs": [],
   "source": [
    "malware = df1[df1['category'] == 1]\n",
    "not_malware = df1[df1['category'] == 0]"
   ]
  },
  {
   "cell_type": "code",
   "execution_count": 15,
   "id": "58b3da2a",
   "metadata": {},
   "outputs": [],
   "source": [
    "def dist_plotter(feature_name): #random function, make some more\n",
    "    fig, ax = plt.subplots(2,1)\n",
    "#     ax.set(ylabel='common ylabel', title=feature_name)\n",
    "    sns.violinplot(malware[feature_name], inner=\"quartile\", ax=ax[0], color='r')\n",
    "    sns.violinplot(not_malware[feature_name], inner=\"quartile\", ax=ax[1], color='r')"
   ]
  },
  {
   "cell_type": "code",
   "execution_count": 16,
   "id": "6298ffff",
   "metadata": {},
   "outputs": [
    {
     "data": {
      "image/png": "[encoded data removed]",
      "text/plain": [
       "<Figure size 432x288 with 2 Axes>"
      ]
     },
     "metadata": {
      "needs_background": "light"
     },
     "output_type": "display_data"
    }
   ],
   "source": [
    "dist_plotter('byteentropy_211')"
   ]
  },
  {
   "cell_type": "code",
   "execution_count": null,
   "id": "10210c56",
   "metadata": {},
   "outputs": [],
   "source": []
  },
  {
   "cell_type": "markdown",
   "id": "8956859c",
   "metadata": {},
   "source": [
    "## Undersampling"
   ]
  },
  {
   "cell_type": "markdown",
   "id": "d318fbbb",
   "metadata": {},
   "source": [
    "Since only 5% of entries are malware, we want a similar 50/50 split between malware and not malware. Could also use SMOTE."
   ]
  },
  {
   "cell_type": "code",
   "execution_count": 17,
   "id": "1f70e5aa",
   "metadata": {},
   "outputs": [],
   "source": [
    "majority = df2[df2.category==0] # Majority class\n",
    "minority = df2[df2.category==1] # Minority class"
   ]
  },
  {
   "cell_type": "code",
   "execution_count": 18,
   "id": "a7f6d185",
   "metadata": {},
   "outputs": [
    {
     "data": {
      "text/plain": [
       "0    900\n",
       "1    900\n",
       "Name: category, dtype: int64"
      ]
     },
     "execution_count": 18,
     "metadata": {},
     "output_type": "execute_result"
    }
   ],
   "source": [
    "majority_undersampled = resample(majority, replace=False, n_samples=900) # Randomly selects 900 records from majority to match minority class size\n",
    "# New downsampled dataset\n",
    "df_undersampled = pd.concat([majority_undersampled, minority])  # Minority class + sample of 900 from majority\n",
    "df_undersampled.category.value_counts()"
   ]
  },
  {
   "cell_type": "code",
   "execution_count": 19,
   "id": "2d670a65",
   "metadata": {},
   "outputs": [
    {
     "name": "stdout",
     "output_type": "stream",
     "text": [
      "WARNING: EMBER feature version 2 were computed using lief version 0.9.0-\n",
      "WARNING:   lief version 0.11.5-551ede5 found instead. There may be slight inconsistencies\n",
      "WARNING:   in the feature calculations.\n"
     ]
    }
   ],
   "source": [
    "Ember_Wrapper.create_vectorize_features(df_undersampled)"
   ]
  },
  {
   "cell_type": "code",
   "execution_count": 20,
   "id": "0a5dbffc",
   "metadata": {},
   "outputs": [
    {
     "name": "stdout",
     "output_type": "stream",
     "text": [
      "X.shape (1800, 2381)\n",
      "%Malware: 0.5\n"
     ]
    }
   ],
   "source": [
    "X = np.load('./X_data.npy')\n",
    "y = np.load('./y_data.npy')\n",
    "print('X.shape', X.shape)\n",
    "print('%Malware:', sum(y) / len(y))"
   ]
  },
  {
   "cell_type": "code",
   "execution_count": 21,
   "id": "ce7e604e",
   "metadata": {},
   "outputs": [],
   "source": [
    "# df = df_undersampled #make it a new df"
   ]
  },
  {
   "cell_type": "code",
   "execution_count": 22,
   "id": "2a95437d",
   "metadata": {},
   "outputs": [],
   "source": [
    "# X = df.drop('category', axis=1) #X is everything but the 'category' col"
   ]
  },
  {
   "cell_type": "code",
   "execution_count": 23,
   "id": "5d485926",
   "metadata": {},
   "outputs": [],
   "source": [
    "# y = df['category'] #y is just the target column"
   ]
  },
  {
   "cell_type": "code",
   "execution_count": 24,
   "id": "7897ed31",
   "metadata": {},
   "outputs": [],
   "source": [
    "# X = X._get_numeric_data() #drop all nonnumeric ones (for now?)"
   ]
  },
  {
   "cell_type": "code",
   "execution_count": 25,
   "id": "81a2c68e",
   "metadata": {},
   "outputs": [],
   "source": [
    "# print(X.shape, y.shape) #sanity check arrays"
   ]
  },
  {
   "cell_type": "markdown",
   "id": "7faad1f1",
   "metadata": {},
   "source": [
    "## Feature Selection with ANOVA"
   ]
  },
  {
   "cell_type": "code",
   "execution_count": 26,
   "id": "a0c692ad",
   "metadata": {},
   "outputs": [],
   "source": [
    "X_train, X_test, y_train, y_test = train_test_split(X, y, test_size=0.2) #train test split 80/20"
   ]
  },
  {
   "cell_type": "markdown",
   "id": "62dcf6ee",
   "metadata": {},
   "source": [
    "Ideally should select features after heatmaps/correlation plots/distributions etc but skipped for now.\n",
    "\n",
    "This is automatic but more of a \"black box\".\n",
    "\n",
    "PCA would also go here."
   ]
  },
  {
   "cell_type": "code",
   "execution_count": 27,
   "id": "6a792bd4",
   "metadata": {},
   "outputs": [],
   "source": [
    "# fs = SelectKBest(score_func=f_classif, k=600) #THIS K IS HOW MANY FEATURES YOU WANT\n",
    "# fs.fit(X_train, y_train)\n",
    "# mask = fs.get_support()\n",
    "# new_features = X_train.columns[mask]"
   ]
  },
  {
   "cell_type": "code",
   "execution_count": 28,
   "id": "82449ae4",
   "metadata": {},
   "outputs": [],
   "source": [
    "# X_train_fs = X_train[new_features]\n",
    "# X_test_fs = X_test[new_features]"
   ]
  },
  {
   "cell_type": "code",
   "execution_count": 29,
   "id": "dac5edd2",
   "metadata": {},
   "outputs": [],
   "source": [
    "X_train_fs = X_train\n",
    "X_test_fs = X_test"
   ]
  },
  {
   "cell_type": "code",
   "execution_count": 30,
   "id": "e27959d9",
   "metadata": {},
   "outputs": [],
   "source": [
    "# for i in range(len(fs.scores_[:10])):\n",
    "#     print('Feature %d: %f' % (i, fs.scores_[i]))\n",
    "# # plot the scores\n",
    "#     plt.bar([i for i in range(len(fs.scores_))], fs.scores_)\n",
    "#     plt.show()"
   ]
  },
  {
   "cell_type": "markdown",
   "id": "b8375b69",
   "metadata": {},
   "source": [
    "Now we can use X_train_fs and X_test_fs in place of X_train and X_test."
   ]
  },
  {
   "cell_type": "code",
   "execution_count": 31,
   "id": "1378e470",
   "metadata": {
    "scrolled": false
   },
   "outputs": [
    {
     "name": "stdout",
     "output_type": "stream",
     "text": [
      "(1440, 2381) (360, 2381)\n"
     ]
    }
   ],
   "source": [
    "print(X_train_fs.shape, X_test_fs.shape)"
   ]
  },
  {
   "cell_type": "code",
   "execution_count": 32,
   "id": "6b5a9930",
   "metadata": {
    "scrolled": true
   },
   "outputs": [
    {
     "name": "stdout",
     "output_type": "stream",
     "text": [
      "(1440,) (360,)\n"
     ]
    }
   ],
   "source": [
    "print(y_train.shape, y_test.shape)"
   ]
  },
  {
   "cell_type": "markdown",
   "id": "7977a7bf",
   "metadata": {},
   "source": [
    "## Modeling"
   ]
  },
  {
   "cell_type": "markdown",
   "id": "94ee8fe7",
   "metadata": {},
   "source": [
    "This function basically fits a specified model and outputs it's f1_score as well as ROC curve, can add more graphs/plots to it as well."
   ]
  },
  {
   "cell_type": "code",
   "execution_count": 33,
   "id": "0c28500b",
   "metadata": {},
   "outputs": [],
   "source": [
    "def modeler(model):\n",
    "    model.fit(X_train_fs, y_train) #fit specified model\n",
    "    y_pred = model.predict(X_test_fs) #predict on test set\n",
    "    f1 = f1_score(y_test, y_pred) #get f1 score\n",
    "    print('F1 Score:', f1)\n",
    "    print(metrics.confusion_matrix(y_test, y_pred))\n",
    "    \n",
    "    #this plots the ROC curve, play around iwth it\n",
    "    from sklearn.metrics import roc_curve, auc\n",
    "    fpr, tpr, thresholds = roc_curve(y_pred, y_test)\n",
    "    roc_auc = auc(fpr, tpr)\n",
    "    print(roc_auc_score(y_test, y_pred))\n",
    "    print(precision_score(y_test, y_pred))\n",
    "    print(recall_score(y_test, y_pred))\n",
    "    plt.figure()\n",
    "    plt.plot(fpr, tpr, color='darkorange', label='ROC curve (area = %0.2f)' % roc_auc)\n",
    "    plt.plot([0, 1], [0, 1], color='navy', linestyle='--')\n",
    "    plt.xlim([0.0, 1.0])\n",
    "    plt.ylim([0.0, 1.05])\n",
    "    plt.xlabel('False Positive Rate')\n",
    "    plt.ylabel('True Positive Rate')\n",
    "    plt.title('Receiver operating characteristic')\n",
    "    plt.legend(loc=\"lower right\")\n",
    "    plt.show()"
   ]
  },
  {
   "cell_type": "code",
   "execution_count": 34,
   "id": "6a6991c5",
   "metadata": {},
   "outputs": [
    {
     "name": "stdout",
     "output_type": "stream",
     "text": [
      "F1 Score: 0.6888361045130642\n",
      "[[ 84  96]\n",
      " [ 35 145]]\n",
      "0.6361111111111112\n",
      "0.6016597510373444\n",
      "0.8055555555555556\n"
     ]
    },
    {
     "data": {
      "image/png": "[encoded data removed]",
      "text/plain": [
       "<Figure size 432x288 with 1 Axes>"
      ]
     },
     "metadata": {
      "needs_background": "light"
     },
     "output_type": "display_data"
    }
   ],
   "source": [
    "lr = LogisticRegression()\n",
    "modeler(lr)"
   ]
  },
  {
   "cell_type": "code",
   "execution_count": 35,
   "id": "d8c073fb",
   "metadata": {
    "scrolled": false
   },
   "outputs": [
    {
     "name": "stdout",
     "output_type": "stream",
     "text": [
      "F1 Score: 0.9464788732394367\n",
      "[[173   7]\n",
      " [ 12 168]]\n",
      "0.9472222222222222\n",
      "0.96\n",
      "0.9333333333333333\n"
     ]
    },
    {
     "data": {
      "image/png": "[encoded data removed]",
      "text/plain": [
       "<Figure size 432x288 with 1 Axes>"
      ]
     },
     "metadata": {
      "needs_background": "light"
     },
     "output_type": "display_data"
    }
   ],
   "source": [
    "lgbm = lgb.LGBMClassifier()\n",
    "modeler(lgbm)"
   ]
  },
  {
   "cell_type": "code",
   "execution_count": 36,
   "id": "79c2a5aa",
   "metadata": {},
   "outputs": [
    {
     "name": "stdout",
     "output_type": "stream",
     "text": [
      "F1 Score: 0.9235127478753541\n",
      "[[170  10]\n",
      " [ 17 163]]\n",
      "0.9249999999999999\n",
      "0.9421965317919075\n",
      "0.9055555555555556\n"
     ]
    },
    {
     "data": {
      "image/png": "[encoded data removed]",
      "text/plain": [
       "<Figure size 432x288 with 1 Axes>"
      ]
     },
     "metadata": {
      "needs_background": "light"
     },
     "output_type": "display_data"
    }
   ],
   "source": [
    "xgbc = xgb.XGBClassifier(eval_metric='logloss')\n",
    "modeler(xgbc)"
   ]
  },
  {
   "cell_type": "code",
   "execution_count": 37,
   "id": "124fa26f",
   "metadata": {},
   "outputs": [
    {
     "name": "stdout",
     "output_type": "stream",
     "text": [
      "F1 Score: 0.888268156424581\n",
      "[[161  19]\n",
      " [ 21 159]]\n",
      "0.888888888888889\n",
      "0.8932584269662921\n",
      "0.8833333333333333\n"
     ]
    },
    {
     "data": {
      "image/png": "[encoded data removed]",
      "text/plain": [
       "<Figure size 432x288 with 1 Axes>"
      ]
     },
     "metadata": {
      "needs_background": "light"
     },
     "output_type": "display_data"
    }
   ],
   "source": [
    "from sklearn.ensemble import RandomForestClassifier\n",
    "rf = RandomForestClassifier()\n",
    "modeler(rf)"
   ]
  },
  {
   "cell_type": "code",
   "execution_count": 38,
   "id": "acffb742",
   "metadata": {},
   "outputs": [
    {
     "name": "stdout",
     "output_type": "stream",
     "text": [
      "F1 Score: 0.5902335456475585\n",
      "[[ 28 152]\n",
      " [ 41 139]]\n",
      "0.4638888888888889\n",
      "0.47766323024054985\n",
      "0.7722222222222223\n"
     ]
    },
    {
     "data": {
      "image/png": "[encoded data removed]",
      "text/plain": [
       "<Figure size 432x288 with 1 Axes>"
      ]
     },
     "metadata": {
      "needs_background": "light"
     },
     "output_type": "display_data"
    }
   ],
   "source": [
    "from sklearn.svm import SVC\n",
    "svm = SVC()\n",
    "modeler(svm)"
   ]
  },
  {
   "cell_type": "code",
   "execution_count": 39,
   "id": "c442ea2e",
   "metadata": {},
   "outputs": [
    {
     "name": "stdout",
     "output_type": "stream",
     "text": [
      "F1 Score: 0.7113402061855669\n",
      "[[110  70]\n",
      " [ 42 138]]\n",
      "0.6888888888888889\n",
      "0.6634615384615384\n",
      "0.7666666666666667\n"
     ]
    },
    {
     "data": {
      "image/png": "[encoded data removed]",
      "text/plain": [
       "<Figure size 432x288 with 1 Axes>"
      ]
     },
     "metadata": {
      "needs_background": "light"
     },
     "output_type": "display_data"
    }
   ],
   "source": [
    "from sklearn.neighbors import KNeighborsClassifier\n",
    "knn = KNeighborsClassifier()\n",
    "modeler(knn)"
   ]
  },
  {
   "cell_type": "code",
   "execution_count": 40,
   "id": "526f394f",
   "metadata": {},
   "outputs": [
    {
     "name": "stdout",
     "output_type": "stream",
     "text": [
      "F1 Score: 0.8248587570621468\n",
      "[[152  28]\n",
      " [ 34 146]]\n",
      "0.8277777777777777\n",
      "0.8390804597701149\n",
      "0.8111111111111111\n"
     ]
    },
    {
     "data": {
      "image/png": "[encoded data removed]",
      "text/plain": [
       "<Figure size 432x288 with 1 Axes>"
      ]
     },
     "metadata": {
      "needs_background": "light"
     },
     "output_type": "display_data"
    }
   ],
   "source": [
    "from sklearn import tree\n",
    "dt = tree.DecisionTreeClassifier()\n",
    "modeler(dt)"
   ]
  },
  {
   "cell_type": "markdown",
   "id": "311b8688",
   "metadata": {},
   "source": [
    "Best ones seem to be LGBM and XGB. Ideal ROC graph looks hugs the top left corner."
   ]
  },
  {
   "cell_type": "markdown",
   "id": "a4fa6f4e",
   "metadata": {},
   "source": [
    "## Hyperparameter Optimization"
   ]
  },
  {
   "cell_type": "markdown",
   "id": "a23e892a",
   "metadata": {},
   "source": [
    "Time to tune with Hyperopt.\n",
    "(Scaling/normalizing isn't needed for gradient boosted decision trees so skip it)"
   ]
  },
  {
   "cell_type": "markdown",
   "id": "bdf41687",
   "metadata": {},
   "source": [
    "# EVERYONE CAN TRY OPTIMIZING WITH DIFFERENT HYPERPARAMETERS LIKE IN THE COMMENTED OUT LINES, check the user docs for more parameters"
   ]
  },
  {
   "cell_type": "code",
   "execution_count": 41,
   "id": "c27890d3",
   "metadata": {},
   "outputs": [],
   "source": [
    "# #hyperparameter domain to search over\n",
    "# hyperparam_space = {\n",
    "#     'num_leaves':       hp.choice('num_leaves', np.arange(30, 250, 1)),\n",
    "#     'learning_rate':    hp.quniform('learning_rate', 0, 0.3, 0.01),\n",
    "#     'max_depth':        hp.choice('max_depth', np.arange(2, 100, 1, dtype=int)),\n",
    "#     'min_child_weight': hp.choice('min_child_weight', np.arange(1, 50, 1, dtype=int)),\n",
    "#     'colsample_bytree': hp.uniform('colsample_bytree', 0.4, 1),\n",
    "#     'subsample':        hp.uniform('subsample', 0.5, 1),\n",
    "# }"
   ]
  },
  {
   "cell_type": "markdown",
   "id": "8be52d91",
   "metadata": {},
   "source": [
    "Following code takes a couple minutes to run:"
   ]
  },
  {
   "cell_type": "code",
   "execution_count": 42,
   "id": "1b455126",
   "metadata": {
    "scrolled": true
   },
   "outputs": [],
   "source": [
    "# def score(params): #function to train and test different hyperparams\n",
    "#     model = lgb.LGBMClassifier(**params)\n",
    "#     model.fit(X_train_fs, y_train, early_stopping_rounds=20,\n",
    "#              eval_set=[(X_train_fs, y_train), (X_test_fs, y_test)])\n",
    "# #     y_pred = model.predict(X_test_fs)\n",
    "# #     score = mean_squared_error(y_test, y_pred)\n",
    "#     score = -cross_val_score(model, X_train_fs, y_train, cv=10, scoring='roc_auc').mean()\n",
    "#     print(score)\n",
    "#     return score\n",
    "            \n",
    "# def optimize(trials, space): #fmin is the main library function\n",
    "#     best = fmin(score, space, algo=tpe.suggest, max_evals=10)\n",
    "#     return best\n",
    "            \n",
    "# trials = Trials() #database that store completed hyperparameters and score\n",
    "# best_params = optimize(trials, hyperparam_space) #calls fmin\n",
    "\n",
    "# #finds best hyperparameters\n",
    "# # space_eval(hyperparam_space, best_params)"
   ]
  },
  {
   "cell_type": "code",
   "execution_count": 43,
   "id": "de0c0e47",
   "metadata": {
    "scrolled": true
   },
   "outputs": [],
   "source": [
    "# best_params"
   ]
  },
  {
   "cell_type": "code",
   "execution_count": 44,
   "id": "177821b4",
   "metadata": {},
   "outputs": [],
   "source": [
    "# lgbm_model = lgb.LGBMClassifier(**best_params)\n",
    "# lgbm_model.fit(X_train_fs, y_train)\n",
    "# preds = [pred[1] for pred in lgbm_model.predict_proba(X_test_fs)]\n",
    "# score = roc_auc_score(y_test, preds, average='weighted')\n",
    "# print('auc_roc score: ', score)\n",
    "\n",
    "# y_pred = lgbm_model.predict(X_test_fs)\n",
    "# f1 = f1_score(y_test, y_pred) #get f1 score\n",
    "# print('F1 Score:', f1)\n",
    "# print(confusion_matrix(y_test, y_pred))\n",
    "# print(classification_report(y_test, y_pred))"
   ]
  },
  {
   "cell_type": "code",
   "execution_count": 45,
   "id": "87d493d7",
   "metadata": {},
   "outputs": [],
   "source": [
    "# shap_values = shap.TreeExplainer(lgbm_model).shap_values(X_test_fs)\n",
    "# shap.summary_plot(shap_values, X_test_fs)"
   ]
  },
  {
   "cell_type": "code",
   "execution_count": 46,
   "id": "11862dc7",
   "metadata": {},
   "outputs": [],
   "source": [
    "# lgb.plot_importance(lgbm_model, max_num_features=20)\n",
    "# plt.figure(figsize=(25, 12))\n",
    "# plt.show()"
   ]
  },
  {
   "cell_type": "code",
   "execution_count": 47,
   "id": "2a8e5291",
   "metadata": {},
   "outputs": [],
   "source": [
    "#hyperparameter domain to search over\n",
    "hyperparam_space = {\n",
    "    'max_depth': hp.choice('max_depth', np.arange(1, 10, 1, dtype=int)), #larger values = overfitting\n",
    "    'n_estimators': hp.choice('n_estimators', np.arange(100, 500, 1, dtype=int)), #larger values = overfitting\n",
    "    'learning_rate': hp.quniform('learning_rate', 0, 1, 0.01), #aka eta = step size shrinkage to prevent overfitting\n",
    "#     'gamma': hp.quniform('gamma', 0, 1, 0.05), #gamma: min loss reduction to partition leaf nodes (for overfitting)\n",
    "#     'min_child_weight': hp.quniform('min_child_weight', 1, 8, 0.5),\n",
    "#     'subsample': hp.quniform('subsample', 0.5, 1, 0.05),\n",
    "}"
   ]
  },
  {
   "cell_type": "code",
   "execution_count": 48,
   "id": "a1e55c88",
   "metadata": {
    "scrolled": true
   },
   "outputs": [
    {
     "name": "stdout",
     "output_type": "stream",
     "text": [
      "[0]\tvalidation_0-logloss:0.45701\tvalidation_1-logloss:0.48301                                                      \n",
      "[1]\tvalidation_0-logloss:0.35103\tvalidation_1-logloss:0.40346                                                      \n",
      "[2]\tvalidation_0-logloss:0.27094\tvalidation_1-logloss:0.33702                                                      \n",
      "[3]\tvalidation_0-logloss:0.22714\tvalidation_1-logloss:0.30496                                                      \n",
      "[4]\tvalidation_0-logloss:0.18775\tvalidation_1-logloss:0.27763                                                      \n",
      "[5]\tvalidation_0-logloss:0.16098\tvalidation_1-logloss:0.24772                                                      \n",
      "[6]\tvalidation_0-logloss:0.14136\tvalidation_1-logloss:0.23522                                                      \n",
      "[7]\tvalidation_0-logloss:0.12429\tvalidation_1-logloss:0.23272                                                      \n",
      "[8]\tvalidation_0-logloss:0.11423\tvalidation_1-logloss:0.22606                                                      \n",
      "[9]\tvalidation_0-logloss:0.09952\tvalidation_1-logloss:0.21090                                                      \n",
      "[10]\tvalidation_0-logloss:0.09021\tvalidation_1-logloss:0.20358                                                     \n",
      "[11]\tvalidation_0-logloss:0.08002\tvalidation_1-logloss:0.19988                                                     \n",
      "[12]\tvalidation_0-logloss:0.06981\tvalidation_1-logloss:0.20678                                                     \n",
      "[13]\tvalidation_0-logloss:0.06119\tvalidation_1-logloss:0.20355                                                     \n",
      "[14]\tvalidation_0-logloss:0.05386\tvalidation_1-logloss:0.20218                                                     \n",
      "[15]\tvalidation_0-logloss:0.04784\tvalidation_1-logloss:0.20078                                                     \n",
      "[16]\tvalidation_0-logloss:0.04384\tvalidation_1-logloss:0.19859                                                     \n",
      "[17]\tvalidation_0-logloss:0.04025\tvalidation_1-logloss:0.19479                                                     \n",
      "[18]\tvalidation_0-logloss:0.03648\tvalidation_1-logloss:0.19136                                                     \n",
      "[19]\tvalidation_0-logloss:0.03270\tvalidation_1-logloss:0.19015                                                     \n",
      "[20]\tvalidation_0-logloss:0.02962\tvalidation_1-logloss:0.18516                                                     \n",
      "[21]\tvalidation_0-logloss:0.02690\tvalidation_1-logloss:0.18392                                                     \n",
      "[22]\tvalidation_0-logloss:0.02474\tvalidation_1-logloss:0.18695                                                     \n",
      "[23]\tvalidation_0-logloss:0.02234\tvalidation_1-logloss:0.18862                                                     \n",
      "[24]\tvalidation_0-logloss:0.02041\tvalidation_1-logloss:0.19229                                                     \n",
      "[25]\tvalidation_0-logloss:0.01870\tvalidation_1-logloss:0.18988                                                     \n",
      "[26]\tvalidation_0-logloss:0.01714\tvalidation_1-logloss:0.19006                                                     \n",
      "[27]\tvalidation_0-logloss:0.01541\tvalidation_1-logloss:0.19421                                                     \n",
      "[28]\tvalidation_0-logloss:0.01449\tvalidation_1-logloss:0.19278                                                     \n",
      "[29]\tvalidation_0-logloss:0.01352\tvalidation_1-logloss:0.18895                                                     \n",
      "[30]\tvalidation_0-logloss:0.01258\tvalidation_1-logloss:0.18755                                                     \n",
      "[31]\tvalidation_0-logloss:0.01186\tvalidation_1-logloss:0.18826                                                     \n",
      "[32]\tvalidation_0-logloss:0.01141\tvalidation_1-logloss:0.19025                                                     \n",
      "[33]\tvalidation_0-logloss:0.01079\tvalidation_1-logloss:0.18972                                                     \n",
      "[34]\tvalidation_0-logloss:0.01026\tvalidation_1-logloss:0.18880                                                     \n",
      "[35]\tvalidation_0-logloss:0.00975\tvalidation_1-logloss:0.19004                                                     \n",
      "[36]\tvalidation_0-logloss:0.00934\tvalidation_1-logloss:0.18999                                                     \n",
      "[37]\tvalidation_0-logloss:0.00893\tvalidation_1-logloss:0.18882                                                     \n",
      "[38]\tvalidation_0-logloss:0.00849\tvalidation_1-logloss:0.18874                                                     \n",
      "[39]\tvalidation_0-logloss:0.00804\tvalidation_1-logloss:0.18966                                                     \n",
      "[40]\tvalidation_0-logloss:0.00765\tvalidation_1-logloss:0.18895                                                     \n",
      "[41]\tvalidation_0-logloss:0.00742\tvalidation_1-logloss:0.18901                                                     \n",
      "-0.9646797839506174                                                                                                \n",
      "[0]\tvalidation_0-logloss:0.36590\tvalidation_1-logloss:0.46254                                                      \n",
      "[1]\tvalidation_0-logloss:0.22546\tvalidation_1-logloss:0.37770                                                      \n",
      "[2]\tvalidation_0-logloss:0.14718\tvalidation_1-logloss:0.30577                                                      \n",
      "[3]\tvalidation_0-logloss:0.10418\tvalidation_1-logloss:0.28576                                                      \n",
      "[4]\tvalidation_0-logloss:0.07627\tvalidation_1-logloss:0.26893                                                      \n",
      "[5]\tvalidation_0-logloss:0.05717\tvalidation_1-logloss:0.25326                                                      \n",
      "[6]\tvalidation_0-logloss:0.04413\tvalidation_1-logloss:0.24247                                                      \n",
      "[7]\tvalidation_0-logloss:0.03583\tvalidation_1-logloss:0.24269                                                      \n",
      "[8]\tvalidation_0-logloss:0.02964\tvalidation_1-logloss:0.24274                                                      \n",
      "[9]\tvalidation_0-logloss:0.02505\tvalidation_1-logloss:0.23336                                                      \n",
      "[10]\tvalidation_0-logloss:0.02169\tvalidation_1-logloss:0.23147                                                     \n",
      "[11]\tvalidation_0-logloss:0.01913\tvalidation_1-logloss:0.22767                                                     \n",
      "[12]\tvalidation_0-logloss:0.01696\tvalidation_1-logloss:0.22712                                                     \n",
      "[13]\tvalidation_0-logloss:0.01534\tvalidation_1-logloss:0.22237                                                     \n",
      "[14]\tvalidation_0-logloss:0.01403\tvalidation_1-logloss:0.22192                                                     \n",
      "[15]\tvalidation_0-logloss:0.01292\tvalidation_1-logloss:0.21893                                                     \n",
      "[16]\tvalidation_0-logloss:0.01187\tvalidation_1-logloss:0.21952                                                     \n",
      "[17]\tvalidation_0-logloss:0.01103\tvalidation_1-logloss:0.21795                                                     \n",
      "[18]\tvalidation_0-logloss:0.01037\tvalidation_1-logloss:0.21743                                                     \n",
      "[19]\tvalidation_0-logloss:0.00975\tvalidation_1-logloss:0.21865                                                     \n",
      "[20]\tvalidation_0-logloss:0.00919\tvalidation_1-logloss:0.21554                                                     \n",
      "[21]\tvalidation_0-logloss:0.00869\tvalidation_1-logloss:0.21683                                                     \n",
      "[22]\tvalidation_0-logloss:0.00822\tvalidation_1-logloss:0.21377                                                     \n",
      "[23]\tvalidation_0-logloss:0.00773\tvalidation_1-logloss:0.21593                                                     \n",
      "[24]\tvalidation_0-logloss:0.00743\tvalidation_1-logloss:0.21592                                                     \n",
      "[25]\tvalidation_0-logloss:0.00718\tvalidation_1-logloss:0.21502                                                     \n",
      "[26]\tvalidation_0-logloss:0.00692\tvalidation_1-logloss:0.21438                                                     \n"
     ]
    },
    {
     "name": "stdout",
     "output_type": "stream",
     "text": [
      "[27]\tvalidation_0-logloss:0.00666\tvalidation_1-logloss:0.21491                                                     \n",
      "[28]\tvalidation_0-logloss:0.00641\tvalidation_1-logloss:0.21393                                                     \n",
      "[29]\tvalidation_0-logloss:0.00621\tvalidation_1-logloss:0.21583                                                     \n",
      "[30]\tvalidation_0-logloss:0.00599\tvalidation_1-logloss:0.21549                                                     \n",
      "[31]\tvalidation_0-logloss:0.00580\tvalidation_1-logloss:0.21509                                                     \n",
      "[32]\tvalidation_0-logloss:0.00563\tvalidation_1-logloss:0.21531                                                     \n",
      "[33]\tvalidation_0-logloss:0.00547\tvalidation_1-logloss:0.21669                                                     \n",
      "[34]\tvalidation_0-logloss:0.00532\tvalidation_1-logloss:0.21877                                                     \n",
      "[35]\tvalidation_0-logloss:0.00522\tvalidation_1-logloss:0.21940                                                     \n",
      "[36]\tvalidation_0-logloss:0.00510\tvalidation_1-logloss:0.22045                                                     \n",
      "[37]\tvalidation_0-logloss:0.00498\tvalidation_1-logloss:0.21965                                                     \n",
      "[38]\tvalidation_0-logloss:0.00488\tvalidation_1-logloss:0.22016                                                     \n",
      "[39]\tvalidation_0-logloss:0.00476\tvalidation_1-logloss:0.22015                                                     \n",
      "[40]\tvalidation_0-logloss:0.00465\tvalidation_1-logloss:0.22089                                                     \n",
      "[41]\tvalidation_0-logloss:0.00456\tvalidation_1-logloss:0.22172                                                     \n",
      "-0.9633101851851853                                                                                                \n",
      "[0]\tvalidation_0-logloss:0.41143\tvalidation_1-logloss:0.48166                                                      \n",
      "[1]\tvalidation_0-logloss:0.27699\tvalidation_1-logloss:0.41563                                                      \n",
      "[2]\tvalidation_0-logloss:0.19734\tvalidation_1-logloss:0.36022                                                      \n",
      "[3]\tvalidation_0-logloss:0.14447\tvalidation_1-logloss:0.31911                                                      \n",
      "[4]\tvalidation_0-logloss:0.10833\tvalidation_1-logloss:0.28760                                                      \n",
      "[5]\tvalidation_0-logloss:0.08295\tvalidation_1-logloss:0.27066                                                      \n",
      "[6]\tvalidation_0-logloss:0.06677\tvalidation_1-logloss:0.25538                                                      \n",
      "[7]\tvalidation_0-logloss:0.05218\tvalidation_1-logloss:0.23792                                                      \n",
      "[8]\tvalidation_0-logloss:0.04272\tvalidation_1-logloss:0.23194                                                      \n",
      "[9]\tvalidation_0-logloss:0.03560\tvalidation_1-logloss:0.22575                                                      \n",
      "[10]\tvalidation_0-logloss:0.03033\tvalidation_1-logloss:0.21746                                                     \n",
      "[11]\tvalidation_0-logloss:0.02660\tvalidation_1-logloss:0.21403                                                     \n",
      "[12]\tvalidation_0-logloss:0.02358\tvalidation_1-logloss:0.21184                                                     \n",
      "[13]\tvalidation_0-logloss:0.02104\tvalidation_1-logloss:0.21172                                                     \n",
      "[14]\tvalidation_0-logloss:0.01907\tvalidation_1-logloss:0.21131                                                     \n",
      "[15]\tvalidation_0-logloss:0.01736\tvalidation_1-logloss:0.21229                                                     \n",
      "[16]\tvalidation_0-logloss:0.01581\tvalidation_1-logloss:0.20820                                                     \n",
      "[17]\tvalidation_0-logloss:0.01452\tvalidation_1-logloss:0.20717                                                     \n",
      "[18]\tvalidation_0-logloss:0.01325\tvalidation_1-logloss:0.20701                                                     \n",
      "[19]\tvalidation_0-logloss:0.01233\tvalidation_1-logloss:0.20380                                                     \n",
      "[20]\tvalidation_0-logloss:0.01164\tvalidation_1-logloss:0.20559                                                     \n",
      "[21]\tvalidation_0-logloss:0.01093\tvalidation_1-logloss:0.20385                                                     \n",
      "[22]\tvalidation_0-logloss:0.01030\tvalidation_1-logloss:0.20456                                                     \n",
      "[23]\tvalidation_0-logloss:0.00984\tvalidation_1-logloss:0.20469                                                     \n",
      "[24]\tvalidation_0-logloss:0.00934\tvalidation_1-logloss:0.20373                                                     \n",
      "[25]\tvalidation_0-logloss:0.00888\tvalidation_1-logloss:0.20339                                                     \n",
      "[26]\tvalidation_0-logloss:0.00845\tvalidation_1-logloss:0.20420                                                     \n",
      "[27]\tvalidation_0-logloss:0.00809\tvalidation_1-logloss:0.20506                                                     \n",
      "[28]\tvalidation_0-logloss:0.00779\tvalidation_1-logloss:0.20335                                                     \n",
      "[29]\tvalidation_0-logloss:0.00748\tvalidation_1-logloss:0.20014                                                     \n",
      "[30]\tvalidation_0-logloss:0.00722\tvalidation_1-logloss:0.20062                                                     \n",
      "[31]\tvalidation_0-logloss:0.00698\tvalidation_1-logloss:0.20142                                                     \n",
      "[32]\tvalidation_0-logloss:0.00673\tvalidation_1-logloss:0.20206                                                     \n",
      "[33]\tvalidation_0-logloss:0.00652\tvalidation_1-logloss:0.20180                                                     \n",
      "[34]\tvalidation_0-logloss:0.00632\tvalidation_1-logloss:0.20018                                                     \n",
      "[35]\tvalidation_0-logloss:0.00615\tvalidation_1-logloss:0.20020                                                     \n",
      "[36]\tvalidation_0-logloss:0.00597\tvalidation_1-logloss:0.20126                                                     \n",
      "[37]\tvalidation_0-logloss:0.00581\tvalidation_1-logloss:0.19941                                                     \n",
      "[38]\tvalidation_0-logloss:0.00566\tvalidation_1-logloss:0.19854                                                     \n",
      "[39]\tvalidation_0-logloss:0.00553\tvalidation_1-logloss:0.19838                                                     \n",
      "[40]\tvalidation_0-logloss:0.00539\tvalidation_1-logloss:0.19785                                                     \n",
      "[41]\tvalidation_0-logloss:0.00528\tvalidation_1-logloss:0.19845                                                     \n",
      "[42]\tvalidation_0-logloss:0.00517\tvalidation_1-logloss:0.19607                                                     \n",
      "[43]\tvalidation_0-logloss:0.00504\tvalidation_1-logloss:0.19687                                                     \n",
      "[44]\tvalidation_0-logloss:0.00493\tvalidation_1-logloss:0.19831                                                     \n",
      "[45]\tvalidation_0-logloss:0.00482\tvalidation_1-logloss:0.19760                                                     \n",
      "[46]\tvalidation_0-logloss:0.00473\tvalidation_1-logloss:0.19809                                                     \n",
      "[47]\tvalidation_0-logloss:0.00464\tvalidation_1-logloss:0.19897                                                     \n",
      "[48]\tvalidation_0-logloss:0.00457\tvalidation_1-logloss:0.19963                                                     \n",
      "[49]\tvalidation_0-logloss:0.00450\tvalidation_1-logloss:0.19973                                                     \n",
      "[50]\tvalidation_0-logloss:0.00445\tvalidation_1-logloss:0.19997                                                     \n",
      "[51]\tvalidation_0-logloss:0.00437\tvalidation_1-logloss:0.19939                                                     \n",
      "[52]\tvalidation_0-logloss:0.00429\tvalidation_1-logloss:0.20015                                                     \n",
      "[53]\tvalidation_0-logloss:0.00420\tvalidation_1-logloss:0.20107                                                     \n"
     ]
    },
    {
     "name": "stdout",
     "output_type": "stream",
     "text": [
      "[54]\tvalidation_0-logloss:0.00415\tvalidation_1-logloss:0.20007                                                     \n",
      "[55]\tvalidation_0-logloss:0.00409\tvalidation_1-logloss:0.19988                                                     \n",
      "[56]\tvalidation_0-logloss:0.00403\tvalidation_1-logloss:0.20145                                                     \n",
      "[57]\tvalidation_0-logloss:0.00398\tvalidation_1-logloss:0.20036                                                     \n",
      "[58]\tvalidation_0-logloss:0.00393\tvalidation_1-logloss:0.20127                                                     \n",
      "[59]\tvalidation_0-logloss:0.00389\tvalidation_1-logloss:0.20171                                                     \n",
      "[60]\tvalidation_0-logloss:0.00384\tvalidation_1-logloss:0.20314                                                     \n",
      "[61]\tvalidation_0-logloss:0.00379\tvalidation_1-logloss:0.20344                                                     \n",
      "[62]\tvalidation_0-logloss:0.00375\tvalidation_1-logloss:0.20331                                                     \n",
      "-0.9629243827160494                                                                                                \n",
      "[0]\tvalidation_0-logloss:0.61052\tvalidation_1-logloss:0.61826                                                      \n",
      "[1]\tvalidation_0-logloss:0.54731\tvalidation_1-logloss:0.56140                                                      \n",
      "[2]\tvalidation_0-logloss:0.49623\tvalidation_1-logloss:0.52499                                                      \n",
      "[3]\tvalidation_0-logloss:0.45117\tvalidation_1-logloss:0.48586                                                      \n",
      "[4]\tvalidation_0-logloss:0.41284\tvalidation_1-logloss:0.45126                                                      \n",
      "[5]\tvalidation_0-logloss:0.38206\tvalidation_1-logloss:0.42618                                                      \n",
      "[6]\tvalidation_0-logloss:0.35316\tvalidation_1-logloss:0.40703                                                      \n",
      "[7]\tvalidation_0-logloss:0.32886\tvalidation_1-logloss:0.38581                                                      \n",
      "[8]\tvalidation_0-logloss:0.30774\tvalidation_1-logloss:0.36983                                                      \n",
      "[9]\tvalidation_0-logloss:0.29000\tvalidation_1-logloss:0.35335                                                      \n",
      "[10]\tvalidation_0-logloss:0.27165\tvalidation_1-logloss:0.34433                                                     \n",
      "[11]\tvalidation_0-logloss:0.25730\tvalidation_1-logloss:0.33180                                                     \n",
      "[12]\tvalidation_0-logloss:0.24313\tvalidation_1-logloss:0.31895                                                     \n",
      "[13]\tvalidation_0-logloss:0.23005\tvalidation_1-logloss:0.30802                                                     \n",
      "[14]\tvalidation_0-logloss:0.21971\tvalidation_1-logloss:0.30015                                                     \n",
      "[15]\tvalidation_0-logloss:0.20809\tvalidation_1-logloss:0.28851                                                     \n",
      "[16]\tvalidation_0-logloss:0.19627\tvalidation_1-logloss:0.27854                                                     \n",
      "[17]\tvalidation_0-logloss:0.18715\tvalidation_1-logloss:0.26954                                                     \n",
      "[18]\tvalidation_0-logloss:0.17839\tvalidation_1-logloss:0.26384                                                     \n",
      "[19]\tvalidation_0-logloss:0.17166\tvalidation_1-logloss:0.25663                                                     \n",
      "[20]\tvalidation_0-logloss:0.16401\tvalidation_1-logloss:0.25018                                                     \n",
      "[21]\tvalidation_0-logloss:0.15851\tvalidation_1-logloss:0.24618                                                     \n",
      "[22]\tvalidation_0-logloss:0.15242\tvalidation_1-logloss:0.24126                                                     \n",
      "[23]\tvalidation_0-logloss:0.14683\tvalidation_1-logloss:0.23398                                                     \n",
      "[24]\tvalidation_0-logloss:0.14105\tvalidation_1-logloss:0.23103                                                     \n",
      "[25]\tvalidation_0-logloss:0.13698\tvalidation_1-logloss:0.22753                                                     \n",
      "[26]\tvalidation_0-logloss:0.13198\tvalidation_1-logloss:0.22431                                                     \n",
      "[27]\tvalidation_0-logloss:0.12644\tvalidation_1-logloss:0.22130                                                     \n",
      "[28]\tvalidation_0-logloss:0.12267\tvalidation_1-logloss:0.21876                                                     \n",
      "[29]\tvalidation_0-logloss:0.12015\tvalidation_1-logloss:0.21718                                                     \n",
      "[30]\tvalidation_0-logloss:0.11707\tvalidation_1-logloss:0.21574                                                     \n",
      "[31]\tvalidation_0-logloss:0.11226\tvalidation_1-logloss:0.21325                                                     \n",
      "[32]\tvalidation_0-logloss:0.10923\tvalidation_1-logloss:0.21086                                                     \n",
      "[33]\tvalidation_0-logloss:0.10595\tvalidation_1-logloss:0.20637                                                     \n",
      "[34]\tvalidation_0-logloss:0.10272\tvalidation_1-logloss:0.20510                                                     \n",
      "[35]\tvalidation_0-logloss:0.09918\tvalidation_1-logloss:0.20485                                                     \n",
      "[36]\tvalidation_0-logloss:0.09575\tvalidation_1-logloss:0.20433                                                     \n",
      "[37]\tvalidation_0-logloss:0.09298\tvalidation_1-logloss:0.20237                                                     \n",
      "[38]\tvalidation_0-logloss:0.09110\tvalidation_1-logloss:0.20124                                                     \n",
      "[39]\tvalidation_0-logloss:0.08804\tvalidation_1-logloss:0.20028                                                     \n",
      "[40]\tvalidation_0-logloss:0.08567\tvalidation_1-logloss:0.19880                                                     \n",
      "[41]\tvalidation_0-logloss:0.08355\tvalidation_1-logloss:0.19675                                                     \n",
      "[42]\tvalidation_0-logloss:0.07988\tvalidation_1-logloss:0.19626                                                     \n",
      "[43]\tvalidation_0-logloss:0.07699\tvalidation_1-logloss:0.19695                                                     \n",
      "[44]\tvalidation_0-logloss:0.07518\tvalidation_1-logloss:0.19526                                                     \n",
      "[45]\tvalidation_0-logloss:0.07397\tvalidation_1-logloss:0.19422                                                     \n",
      "[46]\tvalidation_0-logloss:0.07223\tvalidation_1-logloss:0.19282                                                     \n",
      "[47]\tvalidation_0-logloss:0.07045\tvalidation_1-logloss:0.19290                                                     \n",
      "[48]\tvalidation_0-logloss:0.06877\tvalidation_1-logloss:0.19256                                                     \n",
      "[49]\tvalidation_0-logloss:0.06739\tvalidation_1-logloss:0.19309                                                     \n",
      "[50]\tvalidation_0-logloss:0.06523\tvalidation_1-logloss:0.19277                                                     \n",
      "[51]\tvalidation_0-logloss:0.06365\tvalidation_1-logloss:0.19063                                                     \n",
      "[52]\tvalidation_0-logloss:0.06185\tvalidation_1-logloss:0.19059                                                     \n",
      "[53]\tvalidation_0-logloss:0.05999\tvalidation_1-logloss:0.18834                                                     \n",
      "[54]\tvalidation_0-logloss:0.05841\tvalidation_1-logloss:0.18813                                                     \n",
      "[55]\tvalidation_0-logloss:0.05757\tvalidation_1-logloss:0.18737                                                     \n",
      "[56]\tvalidation_0-logloss:0.05654\tvalidation_1-logloss:0.18806                                                     \n",
      "[57]\tvalidation_0-logloss:0.05509\tvalidation_1-logloss:0.18667                                                     \n",
      "[58]\tvalidation_0-logloss:0.05350\tvalidation_1-logloss:0.18577                                                     \n",
      "[59]\tvalidation_0-logloss:0.05272\tvalidation_1-logloss:0.18542                                                     \n"
     ]
    },
    {
     "name": "stdout",
     "output_type": "stream",
     "text": [
      "[60]\tvalidation_0-logloss:0.05113\tvalidation_1-logloss:0.18632                                                     \n",
      "[61]\tvalidation_0-logloss:0.05007\tvalidation_1-logloss:0.18553                                                     \n",
      "[62]\tvalidation_0-logloss:0.04934\tvalidation_1-logloss:0.18526                                                     \n",
      "[63]\tvalidation_0-logloss:0.04789\tvalidation_1-logloss:0.18352                                                     \n",
      "[64]\tvalidation_0-logloss:0.04661\tvalidation_1-logloss:0.18350                                                     \n",
      "[65]\tvalidation_0-logloss:0.04516\tvalidation_1-logloss:0.18349                                                     \n",
      "[66]\tvalidation_0-logloss:0.04377\tvalidation_1-logloss:0.18184                                                     \n",
      "[67]\tvalidation_0-logloss:0.04272\tvalidation_1-logloss:0.18156                                                     \n",
      "[68]\tvalidation_0-logloss:0.04140\tvalidation_1-logloss:0.18024                                                     \n",
      "[69]\tvalidation_0-logloss:0.04070\tvalidation_1-logloss:0.17942                                                     \n",
      "[70]\tvalidation_0-logloss:0.03950\tvalidation_1-logloss:0.17828                                                     \n",
      "[71]\tvalidation_0-logloss:0.03805\tvalidation_1-logloss:0.17797                                                     \n",
      "[72]\tvalidation_0-logloss:0.03690\tvalidation_1-logloss:0.17835                                                     \n",
      "[73]\tvalidation_0-logloss:0.03585\tvalidation_1-logloss:0.17754                                                     \n",
      "[74]\tvalidation_0-logloss:0.03516\tvalidation_1-logloss:0.17705                                                     \n",
      "[75]\tvalidation_0-logloss:0.03440\tvalidation_1-logloss:0.17554                                                     \n",
      "[76]\tvalidation_0-logloss:0.03330\tvalidation_1-logloss:0.17619                                                     \n",
      "[77]\tvalidation_0-logloss:0.03253\tvalidation_1-logloss:0.17577                                                     \n",
      "[78]\tvalidation_0-logloss:0.03183\tvalidation_1-logloss:0.17484                                                     \n",
      "[79]\tvalidation_0-logloss:0.03102\tvalidation_1-logloss:0.17451                                                     \n",
      "[80]\tvalidation_0-logloss:0.03035\tvalidation_1-logloss:0.17427                                                     \n",
      "[81]\tvalidation_0-logloss:0.02988\tvalidation_1-logloss:0.17345                                                     \n",
      "[82]\tvalidation_0-logloss:0.02885\tvalidation_1-logloss:0.17448                                                     \n",
      "[83]\tvalidation_0-logloss:0.02815\tvalidation_1-logloss:0.17547                                                     \n",
      "[84]\tvalidation_0-logloss:0.02785\tvalidation_1-logloss:0.17532                                                     \n",
      "[85]\tvalidation_0-logloss:0.02701\tvalidation_1-logloss:0.17449                                                     \n",
      "[86]\tvalidation_0-logloss:0.02632\tvalidation_1-logloss:0.17502                                                     \n",
      "[87]\tvalidation_0-logloss:0.02574\tvalidation_1-logloss:0.17529                                                     \n",
      "[88]\tvalidation_0-logloss:0.02521\tvalidation_1-logloss:0.17552                                                     \n",
      "[89]\tvalidation_0-logloss:0.02467\tvalidation_1-logloss:0.17433                                                     \n",
      "[90]\tvalidation_0-logloss:0.02425\tvalidation_1-logloss:0.17375                                                     \n",
      "[91]\tvalidation_0-logloss:0.02385\tvalidation_1-logloss:0.17283                                                     \n",
      "[92]\tvalidation_0-logloss:0.02319\tvalidation_1-logloss:0.17384                                                     \n",
      "[93]\tvalidation_0-logloss:0.02277\tvalidation_1-logloss:0.17326                                                     \n",
      "[94]\tvalidation_0-logloss:0.02226\tvalidation_1-logloss:0.17417                                                     \n",
      "[95]\tvalidation_0-logloss:0.02175\tvalidation_1-logloss:0.17428                                                     \n",
      "[96]\tvalidation_0-logloss:0.02137\tvalidation_1-logloss:0.17428                                                     \n",
      "[97]\tvalidation_0-logloss:0.02105\tvalidation_1-logloss:0.17398                                                     \n",
      "[98]\tvalidation_0-logloss:0.02062\tvalidation_1-logloss:0.17314                                                     \n",
      "[99]\tvalidation_0-logloss:0.02026\tvalidation_1-logloss:0.17269                                                     \n",
      "-0.9677469135802468                                                                                                \n",
      "[0]\tvalidation_0-logloss:0.45898\tvalidation_1-logloss:0.50638                                                      \n",
      "[1]\tvalidation_0-logloss:0.33260\tvalidation_1-logloss:0.42400                                                      \n",
      "[2]\tvalidation_0-logloss:0.24592\tvalidation_1-logloss:0.36188                                                      \n",
      "[3]\tvalidation_0-logloss:0.18814\tvalidation_1-logloss:0.31570                                                      \n",
      "[4]\tvalidation_0-logloss:0.15068\tvalidation_1-logloss:0.29267                                                      \n",
      "[5]\tvalidation_0-logloss:0.12220\tvalidation_1-logloss:0.26271                                                      \n",
      "[6]\tvalidation_0-logloss:0.10046\tvalidation_1-logloss:0.24536                                                      \n",
      "[7]\tvalidation_0-logloss:0.08647\tvalidation_1-logloss:0.24500                                                      \n",
      "[8]\tvalidation_0-logloss:0.07000\tvalidation_1-logloss:0.23530                                                      \n",
      "[9]\tvalidation_0-logloss:0.06002\tvalidation_1-logloss:0.22811                                                      \n",
      "[10]\tvalidation_0-logloss:0.05204\tvalidation_1-logloss:0.21715                                                     \n",
      "[11]\tvalidation_0-logloss:0.04639\tvalidation_1-logloss:0.21334                                                     \n",
      "[12]\tvalidation_0-logloss:0.04128\tvalidation_1-logloss:0.20950                                                     \n",
      "[13]\tvalidation_0-logloss:0.03586\tvalidation_1-logloss:0.20514                                                     \n",
      "[14]\tvalidation_0-logloss:0.03144\tvalidation_1-logloss:0.20318                                                     \n",
      "[15]\tvalidation_0-logloss:0.02781\tvalidation_1-logloss:0.20181                                                     \n",
      "[16]\tvalidation_0-logloss:0.02490\tvalidation_1-logloss:0.20093                                                     \n",
      "[17]\tvalidation_0-logloss:0.02277\tvalidation_1-logloss:0.19574                                                     \n",
      "[18]\tvalidation_0-logloss:0.02056\tvalidation_1-logloss:0.19566                                                     \n",
      "[19]\tvalidation_0-logloss:0.01892\tvalidation_1-logloss:0.19469                                                     \n",
      "[20]\tvalidation_0-logloss:0.01741\tvalidation_1-logloss:0.19220                                                     \n",
      "[21]\tvalidation_0-logloss:0.01620\tvalidation_1-logloss:0.19072                                                     \n",
      "[22]\tvalidation_0-logloss:0.01509\tvalidation_1-logloss:0.19356                                                     \n",
      "[23]\tvalidation_0-logloss:0.01417\tvalidation_1-logloss:0.18987                                                     \n",
      "[24]\tvalidation_0-logloss:0.01334\tvalidation_1-logloss:0.19032                                                     \n",
      "[25]\tvalidation_0-logloss:0.01257\tvalidation_1-logloss:0.19031                                                     \n",
      "[26]\tvalidation_0-logloss:0.01189\tvalidation_1-logloss:0.18933                                                     \n",
      "[27]\tvalidation_0-logloss:0.01133\tvalidation_1-logloss:0.19093                                                     \n",
      "[28]\tvalidation_0-logloss:0.01077\tvalidation_1-logloss:0.19326                                                     \n"
     ]
    },
    {
     "name": "stdout",
     "output_type": "stream",
     "text": [
      "[29]\tvalidation_0-logloss:0.01026\tvalidation_1-logloss:0.19344                                                     \n",
      "[30]\tvalidation_0-logloss:0.00977\tvalidation_1-logloss:0.19199                                                     \n",
      "[31]\tvalidation_0-logloss:0.00932\tvalidation_1-logloss:0.19179                                                     \n",
      "[32]\tvalidation_0-logloss:0.00895\tvalidation_1-logloss:0.19079                                                     \n",
      "[33]\tvalidation_0-logloss:0.00861\tvalidation_1-logloss:0.18825                                                     \n",
      "[34]\tvalidation_0-logloss:0.00826\tvalidation_1-logloss:0.18927                                                     \n",
      "[35]\tvalidation_0-logloss:0.00797\tvalidation_1-logloss:0.18835                                                     \n",
      "[36]\tvalidation_0-logloss:0.00769\tvalidation_1-logloss:0.19028                                                     \n",
      "[37]\tvalidation_0-logloss:0.00748\tvalidation_1-logloss:0.19001                                                     \n",
      "[38]\tvalidation_0-logloss:0.00728\tvalidation_1-logloss:0.19154                                                     \n",
      "[39]\tvalidation_0-logloss:0.00709\tvalidation_1-logloss:0.19129                                                     \n",
      "[40]\tvalidation_0-logloss:0.00691\tvalidation_1-logloss:0.19073                                                     \n",
      "[41]\tvalidation_0-logloss:0.00675\tvalidation_1-logloss:0.19015                                                     \n",
      "[42]\tvalidation_0-logloss:0.00655\tvalidation_1-logloss:0.19196                                                     \n",
      "[43]\tvalidation_0-logloss:0.00637\tvalidation_1-logloss:0.19036                                                     \n",
      "[44]\tvalidation_0-logloss:0.00622\tvalidation_1-logloss:0.19132                                                     \n",
      "[45]\tvalidation_0-logloss:0.00608\tvalidation_1-logloss:0.19158                                                     \n",
      "[46]\tvalidation_0-logloss:0.00595\tvalidation_1-logloss:0.19201                                                     \n",
      "[47]\tvalidation_0-logloss:0.00581\tvalidation_1-logloss:0.19372                                                     \n",
      "[48]\tvalidation_0-logloss:0.00569\tvalidation_1-logloss:0.19412                                                     \n",
      "[49]\tvalidation_0-logloss:0.00557\tvalidation_1-logloss:0.19483                                                     \n",
      "[50]\tvalidation_0-logloss:0.00545\tvalidation_1-logloss:0.19460                                                     \n",
      "[51]\tvalidation_0-logloss:0.00535\tvalidation_1-logloss:0.19445                                                     \n",
      "[52]\tvalidation_0-logloss:0.00524\tvalidation_1-logloss:0.19544                                                     \n",
      "-0.9655285493827162                                                                                                \n",
      "100%|████████████████████████████████████████████| 5/5 [10:50<00:00, 130.14s/trial, best loss: -0.9677469135802468]\n"
     ]
    }
   ],
   "source": [
    "def xgb_score(params): #function to train and test different hyperparams\n",
    "    model = xgb.XGBClassifier(**params, eval_metric='logloss')\n",
    "    model.fit(X_train_fs, y_train, early_stopping_rounds=20,\n",
    "             eval_set=[(X_train_fs, y_train), (X_test_fs, y_test)])\n",
    "    score = -cross_val_score(model, X_train_fs, y_train, cv=10, scoring='roc_auc').mean()\n",
    "    print(score)\n",
    "    return {'loss': score, 'status': STATUS_OK}\n",
    "            \n",
    "def xgb_optimize(trials, space): #fmin is the main library function\n",
    "    best = fmin(xgb_score, space, algo=tpe.suggest, max_evals=5)\n",
    "    return best\n",
    "            \n",
    "trials = Trials() #database that store completed hyperparameters and score\n",
    "best_xgb_params = xgb_optimize(trials, hyperparam_space) #calls fmin"
   ]
  },
  {
   "cell_type": "code",
   "execution_count": 54,
   "id": "08f0f315",
   "metadata": {
    "scrolled": false
   },
   "outputs": [
    {
     "data": {
      "text/plain": [
       "{'learning_rate': 0.15, 'max_depth': 3, 'n_estimators': 0}"
      ]
     },
     "execution_count": 54,
     "metadata": {},
     "output_type": "execute_result"
    }
   ],
   "source": [
    "# best_xgb_params = {'learning_rate': 0.21, 'max_depth': 1, 'n_estimators': 392}\n",
    "best_xgb_params"
   ]
  },
  {
   "cell_type": "code",
   "execution_count": 55,
   "id": "7220bdaa",
   "metadata": {},
   "outputs": [
    {
     "ename": "AttributeError",
     "evalue": "'XGBClassifier' object has no attribute 'evals_result_'",
     "output_type": "error",
     "traceback": [
      "\u001b[0;31m---------------------------------------------------------------------------\u001b[0m",
      "\u001b[0;31mAttributeError\u001b[0m                            Traceback (most recent call last)",
      "\u001b[0;32m/var/folders/wd/_ddtpqqx7rx9_kypcvd1w03m0000gn/T/ipykernel_81916/2095026243.py\u001b[0m in \u001b[0;36m<module>\u001b[0;34m\u001b[0m\n\u001b[1;32m      5\u001b[0m \u001b[0;34m\u001b[0m\u001b[0m\n\u001b[1;32m      6\u001b[0m \u001b[0;34m\u001b[0m\u001b[0m\n\u001b[0;32m----> 7\u001b[0;31m \u001b[0mresults\u001b[0m \u001b[0;34m=\u001b[0m \u001b[0mxgb_model\u001b[0m\u001b[0;34m.\u001b[0m\u001b[0mevals_result\u001b[0m\u001b[0;34m(\u001b[0m\u001b[0;34m)\u001b[0m\u001b[0;34m\u001b[0m\u001b[0;34m\u001b[0m\u001b[0m\n\u001b[0m\u001b[1;32m      8\u001b[0m \u001b[0mepochs\u001b[0m \u001b[0;34m=\u001b[0m \u001b[0mlen\u001b[0m\u001b[0;34m(\u001b[0m\u001b[0mresults\u001b[0m\u001b[0;34m[\u001b[0m\u001b[0;34m'validation_0'\u001b[0m\u001b[0;34m]\u001b[0m\u001b[0;34m[\u001b[0m\u001b[0;34m'error'\u001b[0m\u001b[0;34m]\u001b[0m\u001b[0;34m)\u001b[0m\u001b[0;34m\u001b[0m\u001b[0;34m\u001b[0m\u001b[0m\n\u001b[1;32m      9\u001b[0m \u001b[0mx_axis\u001b[0m \u001b[0;34m=\u001b[0m \u001b[0mrange\u001b[0m\u001b[0;34m(\u001b[0m\u001b[0;36m0\u001b[0m\u001b[0;34m,\u001b[0m \u001b[0mepochs\u001b[0m\u001b[0;34m)\u001b[0m\u001b[0;34m\u001b[0m\u001b[0;34m\u001b[0m\u001b[0m\n",
      "\u001b[0;32m/opt/anaconda3/lib/python3.8/site-packages/xgboost/sklearn.py\u001b[0m in \u001b[0;36mevals_result\u001b[0;34m(self)\u001b[0m\n\u001b[1;32m   1394\u001b[0m             'validation_1': {'logloss': ['0.41965', '0.17686']}}\n\u001b[1;32m   1395\u001b[0m         \"\"\"\n\u001b[0;32m-> 1396\u001b[0;31m         \u001b[0;32mif\u001b[0m \u001b[0mself\u001b[0m\u001b[0;34m.\u001b[0m\u001b[0mevals_result_\u001b[0m\u001b[0;34m:\u001b[0m\u001b[0;34m\u001b[0m\u001b[0;34m\u001b[0m\u001b[0m\n\u001b[0m\u001b[1;32m   1397\u001b[0m             \u001b[0mevals_result\u001b[0m \u001b[0;34m=\u001b[0m \u001b[0mself\u001b[0m\u001b[0;34m.\u001b[0m\u001b[0mevals_result_\u001b[0m\u001b[0;34m\u001b[0m\u001b[0;34m\u001b[0m\u001b[0m\n\u001b[1;32m   1398\u001b[0m         \u001b[0;32melse\u001b[0m\u001b[0;34m:\u001b[0m\u001b[0;34m\u001b[0m\u001b[0;34m\u001b[0m\u001b[0m\n",
      "\u001b[0;31mAttributeError\u001b[0m: 'XGBClassifier' object has no attribute 'evals_result_'"
     ]
    }
   ],
   "source": [
    "xgb_model = xgb.XGBClassifier(**best_xgb_params, eval_metric='logloss')\n",
    "eval_set = [(X_train_fs, y_train), (X_test_fs, y_test)]\n",
    "\n",
    "xgb_model.fit(X_train_fs, y_train, eval_metric=[\"error\", \"logloss\"], eval_set=eval_set, verbose=False)\n",
    "\n",
    "\n",
    "results = xgb_model.evals_result()\n",
    "epochs = len(results['validation_0']['error'])\n",
    "x_axis = range(0, epochs)\n",
    "    \n",
    "fig, ax = plt.subplots(figsize=(10,6))\n",
    "ax.plot(x_axis, results['validation_0']['logloss'], label='Train')\n",
    "ax.plot(x_axis, results['validation_1']['logloss'], label='Test')\n",
    "ax.legend()\n",
    "    \n",
    "plt.ylabel('Log Loss')\n",
    "plt.title('XGBoost Log Loss')\n",
    "plt.show()"
   ]
  },
  {
   "cell_type": "code",
   "execution_count": null,
   "id": "ab02d382",
   "metadata": {},
   "outputs": [],
   "source": [
    "fig, ax = plt.subplots(figsize=(10,6))\n",
    "ax.plot(x_axis, results['validation_0']['error'], label='Train')\n",
    "ax.plot(x_axis, results['validation_1']['error'], label='Test')\n",
    "ax.legend()\n",
    "    \n",
    "plt.ylabel('Classification Error')\n",
    "plt.title('XGBoost Classification Error')\n",
    "plt.show()"
   ]
  },
  {
   "cell_type": "code",
   "execution_count": null,
   "id": "bba64222",
   "metadata": {},
   "outputs": [],
   "source": [
    "# xgb_model.save_model(\"xgb_model.txt\")"
   ]
  },
  {
   "cell_type": "markdown",
   "id": "3ea5d1b6",
   "metadata": {},
   "source": [
    "## Testing on Output "
   ]
  },
  {
   "cell_type": "code",
   "execution_count": null,
   "id": "594cc9e0",
   "metadata": {},
   "outputs": [],
   "source": []
  },
  {
   "cell_type": "code",
   "execution_count": null,
   "id": "0c1a6b78",
   "metadata": {},
   "outputs": [],
   "source": [
    "# saved_model = xgb.Booster()\n",
    "saved_model=xgb_model()\n",
    "# saved_model.load_model(\"xgb_model.txt\")"
   ]
  },
  {
   "cell_type": "code",
   "execution_count": null,
   "id": "61bbd3c2",
   "metadata": {},
   "outputs": [],
   "source": [
    "X_test_D = xgb.DMatrix(X_test_fs)"
   ]
  },
  {
   "cell_type": "code",
   "execution_count": null,
   "id": "7094e953",
   "metadata": {},
   "outputs": [],
   "source": [
    "y_pred = saved_model.predict(X_test_D)\n",
    "f1=f1_score(y_test, (y_pred > 0.6622))\n",
    "print('F1 Score:', f1)\n",
    "print(confusion_matrix(y_test, (y_pred > 0.6622)))\n",
    "print(classification_report(y_test, (y_pred > 0.6622)))"
   ]
  },
  {
   "cell_type": "code",
   "execution_count": null,
   "id": "71551b0d",
   "metadata": {},
   "outputs": [],
   "source": [
    "cf_matrix = confusion_matrix(y_test, (y_pred > 0.6622))\n",
    "ax = sns.heatmap(cf_matrix/np.sum(cf_matrix), annot=True, \n",
    "            fmt='.2%', cmap='Blues')\n",
    "\n",
    "ax.set_title('Confusion Matrix XGB\\n\\n');\n",
    "ax.set_xlabel('\\nPredicted Values')\n",
    "ax.set_ylabel('Actual Values ');\n",
    "\n",
    "## Ticket labels - List must be in alphabetical order\n",
    "ax.xaxis.set_ticklabels(['False','True'])\n",
    "ax.yaxis.set_ticklabels(['False','True'])\n",
    "\n",
    "## Display the visualization of the Confusion Matrix.\n",
    "plt.show()"
   ]
  },
  {
   "cell_type": "code",
   "execution_count": null,
   "id": "42ea72ee",
   "metadata": {},
   "outputs": [],
   "source": [
    "def get_fpr(y_true, y_pred):\n",
    "    nbenign = (y_true == 0).sum()\n",
    "    nfalse = (y_pred[y_true == 0] == 1).sum()\n",
    "    return nfalse / float(nbenign)\n",
    "\n",
    "\n",
    "def find_threshold(y_true, y_pred, fpr_target):\n",
    "    thresh = 0.0\n",
    "    fpr = get_fpr(y_true, y_pred > thresh)\n",
    "    while fpr > fpr_target and thresh < 1.0:\n",
    "        thresh += 0.0001\n",
    "        fpr = get_fpr(y_true, y_pred > thresh)\n",
    "    return thresh, fpr\n",
    "\n",
    "# testdf = emberdf[emberdf[\"subset\"] == \"test\"]\n",
    "print(\"ROC AUC:\", roc_auc_score(y_test, y_pred))\n",
    "print()\n",
    "\n",
    "threshold, fpr = find_threshold(y_test, y_pred, 0.01)\n",
    "fnr = (y_pred[y_test == 1] < threshold).sum() / float((y_test == 1).sum())\n",
    "print(\"XGB Model Performance at 1% FPR:\")\n",
    "print(\"Threshold: {:.4f}\".format(threshold))\n",
    "print(\"False Positive Rate: {:.3f}%\".format(fpr * 100))\n",
    "print(\"False Negative Rate: {:.3f}%\".format(fnr * 100))\n",
    "print(\"Detection Rate: {}%\".format(100 - fnr * 100))\n",
    "print()\n",
    "\n",
    "threshold, fpr = find_threshold(y_test, y_pred, 0.001)\n",
    "fnr = (y_pred[y_test == 1] < threshold).sum() / float((y_test == 1).sum())\n",
    "print(\"XGB Model Performance at 0.1% FPR:\")\n",
    "print(\"Threshold: {:.4f}\".format(threshold))\n",
    "print(\"False Positive Rate: {:.3f}%\".format(fpr * 100))\n",
    "print(\"False Negative Rate: {:.3f}%\".format(fnr * 100))\n",
    "print(\"Detection Rate: {}%\".format(100 - fnr * 100))"
   ]
  },
  {
   "cell_type": "markdown",
   "id": "4ba54990",
   "metadata": {},
   "source": [
    "## try setting 0.01 to 0.1"
   ]
  },
  {
   "cell_type": "code",
   "execution_count": null,
   "id": "4beab59b",
   "metadata": {},
   "outputs": [],
   "source": []
  },
  {
   "cell_type": "code",
   "execution_count": null,
   "id": "1dc9a43b",
   "metadata": {},
   "outputs": [],
   "source": []
  },
  {
   "cell_type": "code",
   "execution_count": null,
   "id": "097d3664",
   "metadata": {},
   "outputs": [],
   "source": []
  },
  {
   "cell_type": "code",
   "execution_count": null,
   "id": "c5443790",
   "metadata": {},
   "outputs": [],
   "source": []
  },
  {
   "cell_type": "code",
   "execution_count": null,
   "id": "e36922ef",
   "metadata": {},
   "outputs": [],
   "source": [
    "shap_values = shap.TreeExplainer(saved_model).shap_values(X_test_fs)\n",
    "shap.summary_plot(shap_values, X_test_fs)"
   ]
  },
  {
   "cell_type": "code",
   "execution_count": null,
   "id": "af9c75d1",
   "metadata": {},
   "outputs": [],
   "source": [
    "xgb.plot_importance(saved_model, importance_type='cover', max_num_features=20)\n",
    "plt.figure(figsize=(25, 12))\n",
    "plt.show()"
   ]
  },
  {
   "cell_type": "code",
   "execution_count": null,
   "id": "f211b88a",
   "metadata": {},
   "outputs": [],
   "source": []
  },
  {
   "cell_type": "code",
   "execution_count": null,
   "id": "77dae02a",
   "metadata": {},
   "outputs": [],
   "source": []
  },
  {
   "cell_type": "code",
   "execution_count": null,
   "id": "aa137be4",
   "metadata": {},
   "outputs": [],
   "source": []
  },
  {
   "cell_type": "code",
   "execution_count": null,
   "id": "3ef06df0",
   "metadata": {},
   "outputs": [],
   "source": []
  },
  {
   "cell_type": "markdown",
   "id": "4b06e8e7",
   "metadata": {},
   "source": [
    "## Conclusions"
   ]
  },
  {
   "cell_type": "markdown",
   "id": "02eaaccb",
   "metadata": {},
   "source": [
    "## Visualizations should include the above ROC plots, SHAP plots, as well as the built in feature importance plots."
   ]
  },
  {
   "cell_type": "code",
   "execution_count": null,
   "id": "f94ce86a",
   "metadata": {},
   "outputs": [],
   "source": []
  },
  {
   "cell_type": "code",
   "execution_count": null,
   "id": "ff3b9709",
   "metadata": {},
   "outputs": [],
   "source": []
  },
  {
   "cell_type": "code",
   "execution_count": null,
   "id": "d1f8d681",
   "metadata": {},
   "outputs": [],
   "source": []
  },
  {
   "cell_type": "code",
   "execution_count": null,
   "id": "644a06ea",
   "metadata": {},
   "outputs": [],
   "source": []
  },
  {
   "cell_type": "code",
   "execution_count": null,
   "id": "334910bf",
   "metadata": {},
   "outputs": [],
   "source": []
  },
  {
   "cell_type": "code",
   "execution_count": null,
   "id": "f8dda090",
   "metadata": {},
   "outputs": [],
   "source": []
  },
  {
   "cell_type": "code",
   "execution_count": null,
   "id": "6cf7ac34",
   "metadata": {},
   "outputs": [],
   "source": []
  },
  {
   "cell_type": "code",
   "execution_count": null,
   "id": "183602ee",
   "metadata": {},
   "outputs": [],
   "source": []
  }
 ],
 "metadata": {
  "hide_input": false,
  "kernelspec": {
   "display_name": "Python 3 (ipykernel)",
   "language": "python",
   "name": "python3"
  },
  "language_info": {
   "codemirror_mode": {
    "name": "ipython",
    "version": 3
   },
   "file_extension": ".py",
   "mimetype": "text/x-python",
   "name": "python",
   "nbconvert_exporter": "python",
   "pygments_lexer": "ipython3",
   "version": "3.8.12"
  },
  "nteract": {
   "version": "0.28.0"
  }
 },
 "nbformat": 4,
 "nbformat_minor": 5
}
