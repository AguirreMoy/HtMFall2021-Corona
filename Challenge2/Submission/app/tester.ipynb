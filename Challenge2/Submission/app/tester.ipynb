{
 "cells": [
  {
   "cell_type": "code",
   "execution_count": 1,
   "id": "0b7264a9",
   "metadata": {},
   "outputs": [],
   "source": [
    "import my_testing_script"
   ]
  },
  {
   "cell_type": "code",
   "execution_count": 2,
   "id": "11500cc9",
   "metadata": {},
   "outputs": [
    {
     "name": "stdout",
     "output_type": "stream",
     "text": [
      "Time spent loading data: 5.97931694984436\n",
      "WARNING: EMBER feature version 2 were computed using lief version 0.9.0-\n",
      "WARNING:   lief version 0.11.5-551ede5 found instead. There may be slight inconsistencies\n",
      "WARNING:   in the feature calculations.\n",
      "Time spent for ember wrapper: 61.98738098144531\n",
      "Time spent for inference: 0.3581349849700928\n",
      "Total time: 69.96832799911499\n"
     ]
    }
   ],
   "source": [
    "my_testing_script.main()"
   ]
  },
  {
   "cell_type": "code",
   "execution_count": 3,
   "id": "72bd0298",
   "metadata": {},
   "outputs": [],
   "source": [
    "import pandas as pd"
   ]
  },
  {
   "cell_type": "code",
   "execution_count": 5,
   "id": "6cf7ac34",
   "metadata": {},
   "outputs": [],
   "source": [
    "sub = pd.read_excel('submission.xlsx')"
   ]
  },
  {
   "cell_type": "code",
   "execution_count": 6,
   "id": "183602ee",
   "metadata": {},
   "outputs": [
    {
     "data": {
      "text/html": [
       "<div>\n",
       "<style scoped>\n",
       "    .dataframe tbody tr th:only-of-type {\n",
       "        vertical-align: middle;\n",
       "    }\n",
       "\n",
       "    .dataframe tbody tr th {\n",
       "        vertical-align: top;\n",
       "    }\n",
       "\n",
       "    .dataframe thead th {\n",
       "        text-align: right;\n",
       "    }\n",
       "</style>\n",
       "<table border=\"1\" class=\"dataframe\">\n",
       "  <thead>\n",
       "    <tr style=\"text-align: right;\">\n",
       "      <th></th>\n",
       "      <th>sha256</th>\n",
       "      <th>data_type</th>\n",
       "      <th>pred</th>\n",
       "    </tr>\n",
       "  </thead>\n",
       "  <tbody>\n",
       "    <tr>\n",
       "      <th>0</th>\n",
       "      <td>15f88c44e29e74965cbec984cd4244786eeb4ccde02328...</td>\n",
       "      <td>ember_raw</td>\n",
       "      <td>0</td>\n",
       "    </tr>\n",
       "    <tr>\n",
       "      <th>1</th>\n",
       "      <td>29bb2a854de0f99bdb7120870ad42af6a3b5b5c6fc3578...</td>\n",
       "      <td>ember_raw</td>\n",
       "      <td>0</td>\n",
       "    </tr>\n",
       "    <tr>\n",
       "      <th>2</th>\n",
       "      <td>5cd8667d8375bf799fe89ac9b74cf08bf69dfa18a4e551...</td>\n",
       "      <td>ember_raw</td>\n",
       "      <td>0</td>\n",
       "    </tr>\n",
       "    <tr>\n",
       "      <th>3</th>\n",
       "      <td>ce63706c0adf4851a8d2eb26fa97750cfaec7345151367...</td>\n",
       "      <td>ember_raw</td>\n",
       "      <td>0</td>\n",
       "    </tr>\n",
       "    <tr>\n",
       "      <th>4</th>\n",
       "      <td>5e65dd9986fc47c5fe45208fab5e1c78730699800eaf96...</td>\n",
       "      <td>ember_raw</td>\n",
       "      <td>0</td>\n",
       "    </tr>\n",
       "    <tr>\n",
       "      <th>5</th>\n",
       "      <td>2e37649f6faeee75939171128a57d418eb60eaea0bb67c...</td>\n",
       "      <td>ember_raw</td>\n",
       "      <td>0</td>\n",
       "    </tr>\n",
       "    <tr>\n",
       "      <th>6</th>\n",
       "      <td>c62150deb4ae313d849c8527c53688d83ab004ba2e931e...</td>\n",
       "      <td>ember_raw</td>\n",
       "      <td>0</td>\n",
       "    </tr>\n",
       "    <tr>\n",
       "      <th>7</th>\n",
       "      <td>3239abfdbf83af391d49c2126be5202d28d66b998e0d27...</td>\n",
       "      <td>ember_raw</td>\n",
       "      <td>0</td>\n",
       "    </tr>\n",
       "    <tr>\n",
       "      <th>8</th>\n",
       "      <td>7e327784c1c15eb101487632285308963ce319d2fb509c...</td>\n",
       "      <td>ember_raw</td>\n",
       "      <td>0</td>\n",
       "    </tr>\n",
       "    <tr>\n",
       "      <th>9</th>\n",
       "      <td>a0ac84860c7633f1b607597254339201aaadcc964054d7...</td>\n",
       "      <td>ember_raw</td>\n",
       "      <td>0</td>\n",
       "    </tr>\n",
       "  </tbody>\n",
       "</table>\n",
       "</div>"
      ],
      "text/plain": [
       "                                              sha256  data_type  pred\n",
       "0  15f88c44e29e74965cbec984cd4244786eeb4ccde02328...  ember_raw     0\n",
       "1  29bb2a854de0f99bdb7120870ad42af6a3b5b5c6fc3578...  ember_raw     0\n",
       "2  5cd8667d8375bf799fe89ac9b74cf08bf69dfa18a4e551...  ember_raw     0\n",
       "3  ce63706c0adf4851a8d2eb26fa97750cfaec7345151367...  ember_raw     0\n",
       "4  5e65dd9986fc47c5fe45208fab5e1c78730699800eaf96...  ember_raw     0\n",
       "5  2e37649f6faeee75939171128a57d418eb60eaea0bb67c...  ember_raw     0\n",
       "6  c62150deb4ae313d849c8527c53688d83ab004ba2e931e...  ember_raw     0\n",
       "7  3239abfdbf83af391d49c2126be5202d28d66b998e0d27...  ember_raw     0\n",
       "8  7e327784c1c15eb101487632285308963ce319d2fb509c...  ember_raw     0\n",
       "9  a0ac84860c7633f1b607597254339201aaadcc964054d7...  ember_raw     0"
      ]
     },
     "execution_count": 6,
     "metadata": {},
     "output_type": "execute_result"
    }
   ],
   "source": [
    "sub.head(10)"
   ]
  },
  {
   "cell_type": "code",
   "execution_count": 7,
   "id": "ce73e146",
   "metadata": {},
   "outputs": [],
   "source": [
    "y_pred = sub['pred']"
   ]
  },
  {
   "cell_type": "code",
   "execution_count": 8,
   "id": "d936644c",
   "metadata": {},
   "outputs": [],
   "source": [
    "raw = pd.read_excel('raw_train.xlsx')"
   ]
  },
  {
   "cell_type": "code",
   "execution_count": 9,
   "id": "c9140bc3",
   "metadata": {},
   "outputs": [],
   "source": [
    "y_test = raw['category']"
   ]
  },
  {
   "cell_type": "code",
   "execution_count": 10,
   "id": "02ceefd6",
   "metadata": {},
   "outputs": [],
   "source": [
    "from sklearn.metrics import r2_score, classification_report, f1_score, accuracy_score, confusion_matrix, precision_score, recall_score\n",
    "from sklearn.metrics import roc_curve, auc, roc_auc_score"
   ]
  },
  {
   "cell_type": "code",
   "execution_count": 11,
   "id": "ea625e6c",
   "metadata": {},
   "outputs": [],
   "source": [
    "# T =0.3540"
   ]
  },
  {
   "cell_type": "code",
   "execution_count": 13,
   "id": "26a57cec",
   "metadata": {},
   "outputs": [
    {
     "name": "stdout",
     "output_type": "stream",
     "text": [
      "F1 Score: 0.872690963554668\n",
      "[[16871   229]\n",
      " [   26   874]]\n",
      "              precision    recall  f1-score   support\n",
      "\n",
      "           0       1.00      0.99      0.99     17100\n",
      "           1       0.79      0.97      0.87       900\n",
      "\n",
      "    accuracy                           0.99     18000\n",
      "   macro avg       0.90      0.98      0.93     18000\n",
      "weighted avg       0.99      0.99      0.99     18000\n",
      "\n"
     ]
    }
   ],
   "source": [
    "f1=f1_score(y_test, y_pred)\n",
    "print('F1 Score:', f1)\n",
    "print(confusion_matrix(y_test, y_pred))\n",
    "print(classification_report(y_test, y_pred))"
   ]
  },
  {
   "cell_type": "code",
   "execution_count": null,
   "id": "e5b3d1f8",
   "metadata": {},
   "outputs": [],
   "source": []
  },
  {
   "cell_type": "code",
   "execution_count": null,
   "id": "f17d0576",
   "metadata": {},
   "outputs": [],
   "source": []
  }
 ],
 "metadata": {
  "hide_input": false,
  "kernelspec": {
   "display_name": "Python 3 (ipykernel)",
   "language": "python",
   "name": "python3"
  },
  "language_info": {
   "codemirror_mode": {
    "name": "ipython",
    "version": 3
   },
   "file_extension": ".py",
   "mimetype": "text/x-python",
   "name": "python",
   "nbconvert_exporter": "python",
   "pygments_lexer": "ipython3",
   "version": "3.8.12"
  },
  "nteract": {
   "version": "0.28.0"
  }
 },
 "nbformat": 4,
 "nbformat_minor": 5
}
